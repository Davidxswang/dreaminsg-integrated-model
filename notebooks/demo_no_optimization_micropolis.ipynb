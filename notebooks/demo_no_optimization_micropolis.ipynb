{
 "cells": [
  {
   "cell_type": "markdown",
   "metadata": {},
   "source": [
    "# Testing the Integrated Simulation Platform\n",
    "This notebook contains codes to test the various functionalities of the integrated simulation platform. You can call any of the modules from the package here. "
   ]
  },
  {
   "cell_type": "code",
   "execution_count": 1,
   "metadata": {},
   "outputs": [],
   "source": [
    "#Go to the main directory\n",
    "#!pip install --editable .\n",
    "#!pip install pandas\n",
    "# !pip install wntr\n",
    "# !pip install pandapower\n",
    "# !pip install sklearn\n",
    "\n",
    "#to find requirements\n",
    "#depfinder -y ."
   ]
  },
  {
   "cell_type": "code",
   "execution_count": 2,
   "metadata": {},
   "outputs": [
    {
     "data": {
      "text/html": [
       "<style>.container { width:100% !important; }</style>"
      ],
      "text/plain": [
       "<IPython.core.display.HTML object>"
      ]
     },
     "metadata": {},
     "output_type": "display_data"
    }
   ],
   "source": [
    "%load_ext autoreload\n",
    "%autoreload 2\n",
    "\n",
    "from IPython.core.display import display, HTML\n",
    "display(HTML(\"<style>.container { width:100% !important; }</style>\"))\n",
    "from IPython.core.interactiveshell import InteractiveShell\n",
    "InteractiveShell.ast_node_interactivity = \"all\""
   ]
  },
  {
   "cell_type": "markdown",
   "metadata": {},
   "source": [
    "## Import required packages"
   ]
  },
  {
   "cell_type": "code",
   "execution_count": 3,
   "metadata": {
    "scrolled": true,
    "tags": []
   },
   "outputs": [],
   "source": [
    "from pathlib import Path\n",
    "from infrarisk.src.network_recovery import *\n",
    "import infrarisk.src.simulation as simulation\n",
    "from infrarisk.src.network_sim_models.integrated_network import *\n",
    "import infrarisk.src.recovery_strategies as strategies\n",
    "\n",
    "from infrarisk.src.network_sim_models.interdependencies import *\n",
    "\n",
    "from infrarisk.src.optimizer import *\n",
    "import infrarisk.src.plots as model_plots\n",
    "\n",
    "#import random"
   ]
  },
  {
   "cell_type": "markdown",
   "metadata": {},
   "source": [
    "## Create an IntegratedNetwork object"
   ]
  },
  {
   "cell_type": "code",
   "execution_count": 4,
   "metadata": {},
   "outputs": [],
   "source": [
    "micropolis_network = IntegratedNetwork(name = 'Micropolis')"
   ]
  },
  {
   "cell_type": "markdown",
   "metadata": {},
   "source": [
    "### Load the three infrastructure models: Water, Power and Transportation\n",
    "\n",
    "Three different models are used:\n",
    "- Water distribution network using **wntr** package\n",
    "- Power systems using **pandapower** package\n",
    "- Transportation network using static traffic assignment package developed by Dr. Stephen Boyles (University of Texas at Austin)"
   ]
  },
  {
   "cell_type": "code",
   "execution_count": 5,
   "metadata": {},
   "outputs": [
    {
     "name": "stderr",
     "output_type": "stream",
     "text": [
      "C:\\Users\\srijith\\anaconda3\\envs\\redcar\\lib\\site-packages\\wntr\\epanet\\io.py:2173: UserWarning: Not all curves were used in \"..\\infrarisk\\data\\networks\\micropolis\\water\\low/water.inp\"; added with type None, units conversion left to user\n",
      "  warnings.warn('Not all curves were used in \"{}\"; added with type None, units conversion left to user'.format(self.wn.name))\n"
     ]
    },
    {
     "name": "stdout",
     "output_type": "stream",
     "text": [
      "Water network successfully loaded from ..\\infrarisk\\data\\networks\\micropolis\\water\\low/water.inp. The analysis type is set to PDA.\n",
      "initial simulation duration: 60s; hydraulic time step: 60s; pattern time step: 3600s\n",
      "\n",
      "Power system successfully loaded from ..\\infrarisk\\data\\networks\\micropolis\\power\\low\\power.json. Single phase power flow simulation will be used.\n",
      "\n",
      "Warning: Number of links given in network file 144 different than metadata value 210\n",
      "Transportation network successfully loaded from ..\\infrarisk\\data\\networks\\micropolis\\transportation\\low. Static traffic assignment method will be used to calculate travel times.\n"
     ]
    }
   ],
   "source": [
    "MAIN_DIR = Path('..')\n",
    "mesh_level = 'low'\n",
    "network_dir= 'infrarisk/data/networks/micropolis'\n",
    "water_folder = MAIN_DIR/f'{network_dir}/water/{mesh_level}'\n",
    "power_folder = MAIN_DIR/f'{network_dir}/power/{mesh_level}'\n",
    "transp_folder = MAIN_DIR/f'{network_dir}/transportation/{mesh_level}'\n",
    "\n",
    "# load all infrastructure networks\n",
    "micropolis_network.load_networks(water_folder, \n",
    "                                 power_folder, \n",
    "                                 transp_folder, \n",
    "                                 power_sim_type = '1ph', \n",
    "                                 water_sim_type = \"PDA\")"
   ]
  },
  {
   "cell_type": "markdown",
   "metadata": {},
   "source": [
    "### Create a Networkx graph of the integrated infrastructure network."
   ]
  },
  {
   "cell_type": "code",
   "execution_count": 1,
   "metadata": {},
   "outputs": [
    {
     "ename": "NameError",
     "evalue": "name 'micropolis_network' is not defined",
     "output_type": "error",
     "traceback": [
      "\u001b[1;31m---------------------------------------------------------------------------\u001b[0m",
      "\u001b[1;31mNameError\u001b[0m                                 Traceback (most recent call last)",
      "\u001b[1;32m~\\AppData\\Local\\Temp/ipykernel_19676/4202645626.py\u001b[0m in \u001b[0;36m<module>\u001b[1;34m\u001b[0m\n\u001b[1;32m----> 1\u001b[1;33m \u001b[0mmicropolis_network\u001b[0m\u001b[1;33m.\u001b[0m\u001b[0mgenerate_integrated_graph\u001b[0m\u001b[1;33m(\u001b[0m\u001b[1;33m)\u001b[0m\u001b[1;33m\u001b[0m\u001b[1;33m\u001b[0m\u001b[0m\n\u001b[0m",
      "\u001b[1;31mNameError\u001b[0m: name 'micropolis_network' is not defined"
     ]
    }
   ],
   "source": [
    "micropolis_network.generate_integrated_graph()"
   ]
  },
  {
   "cell_type": "markdown",
   "metadata": {},
   "source": [
    "### Build interdependencies\n",
    "\n",
    "Three types of dependencies:\n",
    "- Power - Water dependencies (eg.: water pump on electric motor, generator on reservoir)\n",
    "- Power - Transportation dependencies (eg.: road access to power system components for M&R)\n",
    "- Water - Transportation dependencies (eg.: road access to water network components for M&R)\n",
    "\n",
    "The dependencies are referenced using two tables in the model.\n",
    "- **wp_table** for water - power dependencies\n",
    "- **access_table** for transportation dependencies"
   ]
  },
  {
   "cell_type": "code",
   "execution_count": 7,
   "metadata": {},
   "outputs": [
    {
     "data": {
      "text/html": [
       "<div>\n",
       "<style scoped>\n",
       "    .dataframe tbody tr th:only-of-type {\n",
       "        vertical-align: middle;\n",
       "    }\n",
       "\n",
       "    .dataframe tbody tr th {\n",
       "        vertical-align: top;\n",
       "    }\n",
       "\n",
       "    .dataframe thead th {\n",
       "        text-align: right;\n",
       "    }\n",
       "</style>\n",
       "<table border=\"1\" class=\"dataframe\">\n",
       "  <thead>\n",
       "    <tr style=\"text-align: right;\">\n",
       "      <th></th>\n",
       "      <th>water_id</th>\n",
       "      <th>power_id</th>\n",
       "      <th>water_type</th>\n",
       "      <th>power_type</th>\n",
       "    </tr>\n",
       "  </thead>\n",
       "  <tbody>\n",
       "    <tr>\n",
       "      <th>0</th>\n",
       "      <td>W_WP1</td>\n",
       "      <td>P_MP1</td>\n",
       "      <td>Pump</td>\n",
       "      <td>Motor</td>\n",
       "    </tr>\n",
       "    <tr>\n",
       "      <th>1</th>\n",
       "      <td>W_WP2</td>\n",
       "      <td>P_MP1</td>\n",
       "      <td>Pump</td>\n",
       "      <td>Motor</td>\n",
       "    </tr>\n",
       "    <tr>\n",
       "      <th>2</th>\n",
       "      <td>W_WP3</td>\n",
       "      <td>P_MP1</td>\n",
       "      <td>Pump</td>\n",
       "      <td>Motor</td>\n",
       "    </tr>\n",
       "    <tr>\n",
       "      <th>3</th>\n",
       "      <td>W_WP4</td>\n",
       "      <td>P_MP1</td>\n",
       "      <td>Pump</td>\n",
       "      <td>Motor</td>\n",
       "    </tr>\n",
       "    <tr>\n",
       "      <th>4</th>\n",
       "      <td>W_WP5</td>\n",
       "      <td>P_MP2</td>\n",
       "      <td>Pump</td>\n",
       "      <td>Motor</td>\n",
       "    </tr>\n",
       "    <tr>\n",
       "      <th>5</th>\n",
       "      <td>W_WP6</td>\n",
       "      <td>P_MP2</td>\n",
       "      <td>Pump</td>\n",
       "      <td>Motor</td>\n",
       "    </tr>\n",
       "    <tr>\n",
       "      <th>6</th>\n",
       "      <td>W_WP7</td>\n",
       "      <td>P_MP2</td>\n",
       "      <td>Pump</td>\n",
       "      <td>Motor</td>\n",
       "    </tr>\n",
       "    <tr>\n",
       "      <th>7</th>\n",
       "      <td>W_WP8</td>\n",
       "      <td>P_MP3</td>\n",
       "      <td>Pump</td>\n",
       "      <td>Motor</td>\n",
       "    </tr>\n",
       "  </tbody>\n",
       "</table>\n",
       "</div>"
      ],
      "text/plain": [
       "  water_id power_id water_type power_type\n",
       "0    W_WP1    P_MP1       Pump      Motor\n",
       "1    W_WP2    P_MP1       Pump      Motor\n",
       "2    W_WP3    P_MP1       Pump      Motor\n",
       "3    W_WP4    P_MP1       Pump      Motor\n",
       "4    W_WP5    P_MP2       Pump      Motor\n",
       "5    W_WP6    P_MP2       Pump      Motor\n",
       "6    W_WP7    P_MP2       Pump      Motor\n",
       "7    W_WP8    P_MP3       Pump      Motor"
      ]
     },
     "execution_count": 7,
     "metadata": {},
     "output_type": "execute_result"
    }
   ],
   "source": [
    "dependency_file = MAIN_DIR/f\"{network_dir}/dependencies.csv\"\n",
    "micropolis_network.generate_dependency_table(dependency_file = dependency_file)\n",
    "micropolis_network.dependency_table.wp_table"
   ]
  },
  {
   "cell_type": "code",
   "execution_count": 8,
   "metadata": {},
   "outputs": [
    {
     "data": {
      "text/html": [
       "<div>\n",
       "<style scoped>\n",
       "    .dataframe tbody tr th:only-of-type {\n",
       "        vertical-align: middle;\n",
       "    }\n",
       "\n",
       "    .dataframe tbody tr th {\n",
       "        vertical-align: top;\n",
       "    }\n",
       "\n",
       "    .dataframe thead th {\n",
       "        text-align: right;\n",
       "    }\n",
       "</style>\n",
       "<table border=\"1\" class=\"dataframe\">\n",
       "  <thead>\n",
       "    <tr style=\"text-align: right;\">\n",
       "      <th></th>\n",
       "      <th>origin_id</th>\n",
       "      <th>transp_id</th>\n",
       "      <th>origin_cat</th>\n",
       "      <th>origin_type</th>\n",
       "      <th>access_dist</th>\n",
       "    </tr>\n",
       "  </thead>\n",
       "  <tbody>\n",
       "    <tr>\n",
       "      <th>0</th>\n",
       "      <td>P_B0</td>\n",
       "      <td>T_J57</td>\n",
       "      <td>power</td>\n",
       "      <td>Bus</td>\n",
       "      <td>84.79</td>\n",
       "    </tr>\n",
       "    <tr>\n",
       "      <th>1</th>\n",
       "      <td>P_B1</td>\n",
       "      <td>T_J57</td>\n",
       "      <td>power</td>\n",
       "      <td>Bus</td>\n",
       "      <td>16.96</td>\n",
       "    </tr>\n",
       "    <tr>\n",
       "      <th>2</th>\n",
       "      <td>P_B2</td>\n",
       "      <td>T_J57</td>\n",
       "      <td>power</td>\n",
       "      <td>Bus</td>\n",
       "      <td>178.04</td>\n",
       "    </tr>\n",
       "    <tr>\n",
       "      <th>3</th>\n",
       "      <td>P_B3</td>\n",
       "      <td>T_J56</td>\n",
       "      <td>power</td>\n",
       "      <td>Bus</td>\n",
       "      <td>27.57</td>\n",
       "    </tr>\n",
       "    <tr>\n",
       "      <th>4</th>\n",
       "      <td>P_B4</td>\n",
       "      <td>T_J56</td>\n",
       "      <td>power</td>\n",
       "      <td>Bus</td>\n",
       "      <td>170.80</td>\n",
       "    </tr>\n",
       "  </tbody>\n",
       "</table>\n",
       "</div>"
      ],
      "text/plain": [
       "  origin_id transp_id origin_cat origin_type  access_dist\n",
       "0      P_B0     T_J57      power         Bus        84.79\n",
       "1      P_B1     T_J57      power         Bus        16.96\n",
       "2      P_B2     T_J57      power         Bus       178.04\n",
       "3      P_B3     T_J56      power         Bus        27.57\n",
       "4      P_B4     T_J56      power         Bus       170.80"
      ]
     },
     "execution_count": 8,
     "metadata": {},
     "output_type": "execute_result"
    }
   ],
   "source": [
    "micropolis_network.dependency_table.access_table.head()"
   ]
  },
  {
   "cell_type": "markdown",
   "metadata": {},
   "source": [
    "### Set failed components"
   ]
  },
  {
   "cell_type": "code",
   "execution_count": 9,
   "metadata": {},
   "outputs": [
    {
     "data": {
      "text/plain": [
       "['W_PMA687',\n",
       " 'W_PMA855',\n",
       " 'W_PMA856',\n",
       " 'W_PMA834',\n",
       " 'W_PMA833',\n",
       " 'W_PMA737',\n",
       " 'W_PMA770',\n",
       " 'P_L377',\n",
       " 'P_L336',\n",
       " 'P_L345',\n",
       " 'T_L37',\n",
       " 'T_L168']"
      ]
     },
     "execution_count": 9,
     "metadata": {},
     "output_type": "execute_result"
    }
   ],
   "source": [
    "scenario_folder = \"scenarios/track0/low\"\n",
    "scenario_file = MAIN_DIR/f\"{network_dir}/{scenario_folder}/disruption_file.csv\"\n",
    "\n",
    "micropolis_network.set_disrupted_components(scenario_file=scenario_file)\n",
    "micropolis_network.get_disrupted_components()"
   ]
  },
  {
   "cell_type": "code",
   "execution_count": 10,
   "metadata": {},
   "outputs": [],
   "source": [
    "# micropolis_network.pipe_leak_node_generator()"
   ]
  },
  {
   "cell_type": "markdown",
   "metadata": {},
   "source": [
    "### Deploy recovery crews"
   ]
  },
  {
   "cell_type": "code",
   "execution_count": 10,
   "metadata": {},
   "outputs": [
    {
     "name": "stdout",
     "output_type": "stream",
     "text": [
      "Power repair crews successfully deployed.\n",
      "Water repair crews successfully deployed.\n",
      "Transportation repair crews successfully deployed.\n"
     ]
    }
   ],
   "source": [
    "micropolis_network.deploy_crews(\n",
    "    init_power_crew_locs=['T_J8', 'T_J8', 'T_J8', 'T_J8'], \n",
    "    init_water_crew_locs=['T_J8', 'T_J8', 'T_J8', 'T_J8'],\n",
    "    init_transpo_crew_locs= ['T_J8', 'T_J8', 'T_J8', 'T_J8']\n",
    "    )"
   ]
  },
  {
   "cell_type": "markdown",
   "metadata": {},
   "source": [
    "## Simulation of interdependent effects using a test scenario\n",
    "### (a) Create NetworkRecovery"
   ]
  },
  {
   "cell_type": "code",
   "execution_count": 11,
   "metadata": {},
   "outputs": [],
   "source": [
    "network_recovery = NetworkRecovery(micropolis_network, sim_step=60, pipe_close_policy=\"repair\")"
   ]
  },
  {
   "cell_type": "markdown",
   "metadata": {},
   "source": [
    "### (b) Create a simulation object"
   ]
  },
  {
   "cell_type": "code",
   "execution_count": 12,
   "metadata": {},
   "outputs": [],
   "source": [
    "sim_step = (\n",
    "    micropolis_network.wn.options.time.hydraulic_timestep\n",
    ")  # initial_sim_step which will be updated during the simulation\n",
    "bf_simulation = simulation.NetworkSimulation(network_recovery, sim_step)"
   ]
  },
  {
   "cell_type": "markdown",
   "metadata": {},
   "source": [
    "### (c) Generation of random repair order"
   ]
  },
  {
   "cell_type": "code",
   "execution_count": 13,
   "metadata": {},
   "outputs": [],
   "source": [
    "capacity_strategy = strategies.HandlingCapacityStrategy(micropolis_network)\n",
    "capacity_strategy.set_repair_order()\n",
    "repair_order = capacity_strategy.get_repair_order()\n",
    "# import geopandas as gpd\n",
    "# zones_shp = '../infrarisk/data/networks/micropolis/gis/micropolis_zones.shp'\n",
    "# zone_strategy = strategies.ZoneBasedStrategy(micropolis_network, zones_shp )\n",
    "# zone_strategy.set_repair_order()\n",
    "# repair_order = zone_strategy.get_repair_order()\n",
    "\n",
    "import os\n",
    "if not os.path.exists(MAIN_DIR/f\"{network_dir}/{scenario_folder}/capacity\"):\n",
    "    os.makedirs(MAIN_DIR/f\"{network_dir}/{scenario_folder}/capacity\")"
   ]
  },
  {
   "cell_type": "code",
   "execution_count": 14,
   "metadata": {
    "tags": []
   },
   "outputs": [
    {
     "name": "stdout",
     "output_type": "stream",
     "text": [
      "Current repair order is ['T_L37', 'T_L168', 'P_L377', 'P_L336', 'P_L345', 'W_PMA834', 'W_PMA833', 'W_PMA687', 'W_PMA737', 'W_PMA855', 'W_PMA856', 'W_PMA770']\n"
     ]
    }
   ],
   "source": [
    "#Generate a random repair order\n",
    "# repair_order = network_recovery.network.get_disrupted_components()\n",
    "# repair_orders = pd.read_csv(MAIN_DIR/f\"{network_dir}/{scenario_folder}/repair_strategies.csv\")\n",
    "# repair_order = list(repair_orders[\"capacity\"])\n",
    "#random.shuffle(repair_order)\n",
    "print('Current repair order is {}'.format(repair_order))"
   ]
  },
  {
   "cell_type": "markdown",
   "metadata": {},
   "source": [
    "### (d) Generation of event tables"
   ]
  },
  {
   "cell_type": "code",
   "execution_count": 15,
   "metadata": {},
   "outputs": [
    {
     "name": "stdout",
     "output_type": "stream",
     "text": [
      "Repair T_L37: The transpo crew 1 is at T_J8 at t = 100.0 minutes. It takes 15 minutes to reach nearest node T_J35, the nearest transportation node from T_L37.\n",
      "Repair T_L168: The transpo crew 2 is at T_J8 at t = 100.0 minutes. It takes 19 minutes to reach nearest node T_J49, the nearest transportation node from T_L168.\n",
      "Repair P_L377: The power crew 1 is at T_J8 at t = 100.0 minutes. It takes 21 minutes to reach nearest node T_J50,  the nearest transportation node from P_L377.\n",
      "Repair P_L336: The power crew 2 is at T_J8 at t = 100.0 minutes. It takes 18 minutes to reach nearest node T_J41,  the nearest transportation node from P_L336.\n",
      "Repair P_L345: The power crew 3 is at T_J8 at t = 100.0 minutes. It takes 14 minutes to reach nearest node T_J27,  the nearest transportation node from P_L345.\n",
      "Repair W_PMA834: The water crew 1 is at T_J8 at t = 100.0  minutes. It takes 11 minutes to reach nearest node T_J7, the nearest transportation  node from W_PMA834.\n",
      "Repair W_PMA833: The water crew 2 is at T_J8 at t = 100.0  minutes. It takes 11 minutes to reach nearest node T_J7, the nearest transportation  node from W_PMA833.\n",
      "Repair W_PMA687: The water crew 3 is at T_J8 at t = 100.0  minutes. It takes 15 minutes to reach nearest node T_J34, the nearest transportation  node from W_PMA687.\n",
      "Repair W_PMA737: The water crew 4 is at T_J8 at t = 100.0  minutes. It takes 19 minutes to reach nearest node T_J42, the nearest transportation  node from W_PMA737.\n",
      "Repair W_PMA855: The water crew 3 is at T_J34 at t = 295.0  minutes. It takes 11 minutes to reach nearest node T_J27, the nearest transportation  node from W_PMA855.\n",
      "Repair W_PMA856: The water crew 4 is at T_J42 at t = 299.0  minutes. It takes 551.0 minutes to reach nearest node T_J27, the nearest transportation  node from W_PMA856 considering time for road link repair.\n",
      "Repair W_PMA770: The water crew 1 is at T_J7 at t = 411.0  minutes. It takes 24 minutes to reach nearest node T_J51, the nearest transportation  node from W_PMA770.\n",
      "All restoration actions are successfully scheduled.\n"
     ]
    }
   ],
   "source": [
    "bf_simulation.network_recovery.schedule_recovery(repair_order)"
   ]
  },
  {
   "cell_type": "code",
   "execution_count": 16,
   "metadata": {},
   "outputs": [
    {
     "name": "stdout",
     "output_type": "stream",
     "text": [
      "Total travel times: power: 53 mins, water: 106 min, transportation: 34 mins\n"
     ]
    }
   ],
   "source": [
    "print(f\"Total travel times: power: {network_recovery.power_crew_total_tt} mins, water: {network_recovery.water_crew_total_tt} min, transportation: {network_recovery.transpo_crew_total_tt} mins\")"
   ]
  },
  {
   "cell_type": "code",
   "execution_count": 17,
   "metadata": {},
   "outputs": [],
   "source": [
    "bf_simulation.network_recovery.event_table.to_csv(\"event_tbl.csv\", sep = \"\\t\", index = False)"
   ]
  },
  {
   "cell_type": "code",
   "execution_count": 18,
   "metadata": {},
   "outputs": [
    {
     "data": {
      "text/html": [
       "<div>\n",
       "<style scoped>\n",
       "    .dataframe tbody tr th:only-of-type {\n",
       "        vertical-align: middle;\n",
       "    }\n",
       "\n",
       "    .dataframe tbody tr th {\n",
       "        vertical-align: top;\n",
       "    }\n",
       "\n",
       "    .dataframe thead th {\n",
       "        text-align: right;\n",
       "    }\n",
       "</style>\n",
       "<table border=\"1\" class=\"dataframe\">\n",
       "  <thead>\n",
       "    <tr style=\"text-align: right;\">\n",
       "      <th></th>\n",
       "      <th>time_stamp</th>\n",
       "      <th>components</th>\n",
       "      <th>perf_level</th>\n",
       "      <th>component_state</th>\n",
       "    </tr>\n",
       "  </thead>\n",
       "  <tbody>\n",
       "    <tr>\n",
       "      <th>0</th>\n",
       "      <td>0</td>\n",
       "      <td>W_PMA687</td>\n",
       "      <td>100</td>\n",
       "      <td>Functional</td>\n",
       "    </tr>\n",
       "    <tr>\n",
       "      <th>11</th>\n",
       "      <td>0</td>\n",
       "      <td>T_L168</td>\n",
       "      <td>100</td>\n",
       "      <td>Functional</td>\n",
       "    </tr>\n",
       "    <tr>\n",
       "      <th>10</th>\n",
       "      <td>0</td>\n",
       "      <td>T_L37</td>\n",
       "      <td>100</td>\n",
       "      <td>Functional</td>\n",
       "    </tr>\n",
       "    <tr>\n",
       "      <th>9</th>\n",
       "      <td>0</td>\n",
       "      <td>P_L345</td>\n",
       "      <td>100</td>\n",
       "      <td>Functional</td>\n",
       "    </tr>\n",
       "    <tr>\n",
       "      <th>7</th>\n",
       "      <td>0</td>\n",
       "      <td>P_L377</td>\n",
       "      <td>100</td>\n",
       "      <td>Functional</td>\n",
       "    </tr>\n",
       "  </tbody>\n",
       "</table>\n",
       "</div>"
      ],
      "text/plain": [
       "    time_stamp components perf_level component_state\n",
       "0            0   W_PMA687        100      Functional\n",
       "11           0     T_L168        100      Functional\n",
       "10           0      T_L37        100      Functional\n",
       "9            0     P_L345        100      Functional\n",
       "7            0     P_L377        100      Functional"
      ]
     },
     "execution_count": 18,
     "metadata": {},
     "output_type": "execute_result"
    }
   ],
   "source": [
    "bf_simulation.network_recovery.get_event_table().head()"
   ]
  },
  {
   "cell_type": "code",
   "execution_count": 19,
   "metadata": {},
   "outputs": [],
   "source": [
    "bf_simulation.expand_event_table(1)"
   ]
  },
  {
   "cell_type": "markdown",
   "metadata": {},
   "source": [
    "### (e) Simulation of interdependent effects"
   ]
  },
  {
   "cell_type": "code",
   "execution_count": 20,
   "metadata": {},
   "outputs": [
    {
     "name": "stdout",
     "output_type": "stream",
     "text": [
      "Simulating network conditions at 60 s\n",
      "Simulation time:  60.0 ; Hydraulic time step:  60.0 ; Report time step:  60\n",
      "Updating status of directly affected components between 60.0 and 6060.0...\n"
     ]
    },
    {
     "name": "stderr",
     "output_type": "stream",
     "text": [
      "C:\\Users\\srijith\\anaconda3\\envs\\redcar\\lib\\site-packages\\scipy\\optimize\\minpack.py:833: OptimizeWarning: Covariance of the parameters could not be estimated\n",
      "  warnings.warn('Covariance of the parameters could not be estimated',\n"
     ]
    },
    {
     "name": "stdout",
     "output_type": "stream",
     "text": [
      "******************\n",
      "\n",
      "Simulating network conditions at 6060 s\n",
      "Simulation time:  6060.0 ; Hydraulic time step:  60.0 ; Report time step:  60\n",
      "Updating status of directly affected components between 6060.0 and 6780.0...\n",
      "******************\n",
      "\n",
      "Simulating network conditions at 6780 s\n",
      "Simulation time:  6780.0 ; Hydraulic time step:  60.0 ; Report time step:  60\n",
      "Updating status of directly affected components between 6780.0 and 6900.0...\n",
      "******************\n",
      "\n",
      "Simulating network conditions at 6900 s\n",
      "Simulation time:  6900.0 ; Hydraulic time step:  60.0 ; Report time step:  60\n",
      "Updating status of directly affected components between 6900.0 and 7020.0...\n",
      "******************\n",
      "\n",
      "Simulating network conditions at 7020 s\n",
      "Simulation time:  7020.0 ; Hydraulic time step:  60.0 ; Report time step:  60\n",
      "Updating status of directly affected components between 7020.0 and 7140.0...\n",
      "******************\n",
      "\n",
      "Simulating network conditions at 7140 s\n",
      "Simulation time:  7140.0 ; Hydraulic time step:  60.0 ; Report time step:  60\n",
      "Updating status of directly affected components between 7140.0 and 7260.0...\n",
      "******************\n",
      "\n",
      "Simulating network conditions at 7260 s\n",
      "Simulation time:  7260.0 ; Hydraulic time step:  60.0 ; Report time step:  60\n",
      "Updating status of directly affected components between 7260.0 and 17700.0...\n",
      "******************\n",
      "\n",
      "Simulating network conditions at 17700 s\n",
      "Simulation time:  17700.0 ; Hydraulic time step:  60.0 ; Report time step:  60\n",
      "Updating status of directly affected components between 17700.0 and 17820.0...\n",
      "******************\n",
      "\n",
      "Simulating network conditions at 17820 s\n",
      "Simulation time:  17820.0 ; Hydraulic time step:  60.0 ; Report time step:  60\n",
      "Updating status of directly affected components between 17820.0 and 17940.0...\n",
      "******************\n",
      "\n",
      "Simulating network conditions at 17940 s\n",
      "Simulation time:  17940.0 ; Hydraulic time step:  60.0 ; Report time step:  60\n",
      "Updating status of directly affected components between 17940.0 and 18060.0...\n",
      "******************\n",
      "\n",
      "Simulating network conditions at 18060 s\n",
      "Simulation time:  18060.0 ; Hydraulic time step:  60.0 ; Report time step:  60\n",
      "Updating status of directly affected components between 18060.0 and 18180.0...\n",
      "******************\n",
      "\n",
      "Simulating network conditions at 18180 s\n",
      "Simulation time:  18180.0 ; Hydraulic time step:  60.0 ; Report time step:  60\n",
      "Updating status of directly affected components between 18180.0 and 18420.0...\n",
      "******************\n",
      "\n",
      "Simulating network conditions at 18420 s\n",
      "Simulation time:  18420.0 ; Hydraulic time step:  60.0 ; Report time step:  60\n",
      "Updating status of directly affected components between 18420.0 and 24660.0...\n",
      "******************\n",
      "\n",
      "Simulating network conditions at 24660 s\n",
      "Simulation time:  24660.0 ; Hydraulic time step:  60.0 ; Report time step:  60\n",
      "Updating status of directly affected components between 24660.0 and 24780.0...\n",
      "******************\n",
      "\n",
      "Simulating network conditions at 24780 s\n",
      "Simulation time:  24780.0 ; Hydraulic time step:  60.0 ; Report time step:  60\n",
      "Updating status of directly affected components between 24780.0 and 24900.0...\n",
      "******************\n",
      "\n",
      "Simulating network conditions at 24900 s\n",
      "Simulation time:  24900.0 ; Hydraulic time step:  60.0 ; Report time step:  60\n",
      "Updating status of directly affected components between 24900.0 and 25020.0...\n",
      "******************\n",
      "\n",
      "Simulating network conditions at 25020 s\n",
      "Simulation time:  25020.0 ; Hydraulic time step:  60.0 ; Report time step:  60\n",
      "Updating status of directly affected components between 25020.0 and 25140.0...\n",
      "******************\n",
      "\n",
      "Simulating network conditions at 25140 s\n",
      "Simulation time:  25140.0 ; Hydraulic time step:  60.0 ; Report time step:  60\n",
      "Updating status of directly affected components between 25140.0 and 25260.0...\n",
      "******************\n",
      "\n",
      "Simulating network conditions at 25260 s\n",
      "Simulation time:  25260.0 ; Hydraulic time step:  60.0 ; Report time step:  60\n",
      "Updating status of directly affected components between 25260.0 and 25380.0...\n",
      "******************\n",
      "\n",
      "Simulating network conditions at 25380 s\n",
      "Simulation time:  25380.0 ; Hydraulic time step:  60.0 ; Report time step:  60\n",
      "Updating status of directly affected components between 25380.0 and 26220.0...\n",
      "******************\n",
      "\n",
      "Simulating network conditions at 26220 s\n",
      "Simulation time:  26220.0 ; Hydraulic time step:  60.0 ; Report time step:  60\n",
      "Updating status of directly affected components between 26220.0 and 32700.0...\n",
      "******************\n",
      "\n",
      "Simulating network conditions at 32700 s\n",
      "Simulation time:  32700.0 ; Hydraulic time step:  60.0 ; Report time step:  60\n",
      "Updating status of directly affected components between 32700.0 and 32820.0...\n",
      "******************\n",
      "\n",
      "Simulating network conditions at 32820 s\n",
      "Simulation time:  32820.0 ; Hydraulic time step:  60.0 ; Report time step:  60\n",
      "Updating status of directly affected components between 32820.0 and 32940.0...\n",
      "******************\n",
      "\n",
      "Simulating network conditions at 32940 s\n",
      "Simulation time:  32940.0 ; Hydraulic time step:  60.0 ; Report time step:  60\n",
      "Updating status of directly affected components between 32940.0 and 44100.0...\n",
      "******************\n",
      "\n",
      "Simulating network conditions at 44100 s\n",
      "Simulation time:  44100.0 ; Hydraulic time step:  60.0 ; Report time step:  60\n",
      "Updating status of directly affected components between 44100.0 and 44220.0...\n",
      "******************\n",
      "\n",
      "Simulating network conditions at 44220 s\n",
      "Simulation time:  44220.0 ; Hydraulic time step:  60.0 ; Report time step:  60\n",
      "Updating status of directly affected components between 44220.0 and 44340.0...\n",
      "******************\n",
      "\n",
      "Simulating network conditions at 44340 s\n",
      "Simulation time:  44340.0 ; Hydraulic time step:  60.0 ; Report time step:  60\n",
      "Updating status of directly affected components between 44340.0 and 50100.0...\n",
      "******************\n",
      "\n",
      "Simulating network conditions at 50100 s\n",
      "Simulation time:  50100.0 ; Hydraulic time step:  60.0 ; Report time step:  60\n",
      "Updating status of directly affected components between 50100.0 and 50220.0...\n",
      "******************\n",
      "\n",
      "Simulating network conditions at 50220 s\n",
      "Simulation time:  50220.0 ; Hydraulic time step:  60.0 ; Report time step:  60\n",
      "Updating status of directly affected components between 50220.0 and 50340.0...\n",
      "******************\n",
      "\n",
      "Simulating network conditions at 50340 s\n",
      "Simulation time:  50340.0 ; Hydraulic time step:  60.0 ; Report time step:  60\n",
      "Updating status of directly affected components between 50340.0 and 50460.0...\n",
      "******************\n",
      "\n",
      "Simulating network conditions at 50460 s\n",
      "Simulation time:  50460.0 ; Hydraulic time step:  60.0 ; Report time step:  60\n",
      "Updating status of directly affected components between 50460.0 and 50580.0...\n",
      "******************\n",
      "\n",
      "Simulating network conditions at 50580 s\n",
      "Simulation time:  50580.0 ; Hydraulic time step:  60.0 ; Report time step:  60\n",
      "Updating status of directly affected components between 50580.0 and 51060.0...\n",
      "******************\n",
      "\n",
      "Simulating network conditions at 51060 s\n",
      "Simulation time:  51060.0 ; Hydraulic time step:  60.0 ; Report time step:  60\n",
      "Updating status of directly affected components between 51060.0 and 53820.0...\n",
      "******************\n",
      "\n",
      "Simulating network conditions at 53820 s\n",
      "Simulation time:  53820.0 ; Hydraulic time step:  60.0 ; Report time step:  60\n",
      "Updating status of directly affected components between 53820.0 and 54060.0...\n",
      "******************\n",
      "\n",
      "Simulating network conditions at 54060 s\n",
      "Simulation time:  54060.0 ; Hydraulic time step:  60.0 ; Report time step:  60\n",
      "Updating status of directly affected components between 54060.0 and 60780.0...\n",
      "******************\n",
      "\n",
      "Simulating network conditions at 60780 s\n",
      "Simulation time:  60780.0 ; Hydraulic time step:  60.0 ; Report time step:  60\n",
      "Updating status of directly affected components between 60780.0 and 60900.0...\n",
      "******************\n",
      "\n",
      "Simulating network conditions at 60900 s\n",
      "Simulation time:  60900.0 ; Hydraulic time step:  60.0 ; Report time step:  60\n",
      "Updating status of directly affected components between 60900.0 and 61140.0...\n",
      "******************\n",
      "\n",
      "Simulating network conditions at 61140 s\n",
      "Simulation time:  61140.0 ; Hydraulic time step:  60.0 ; Report time step:  60\n",
      "Updating status of directly affected components between 61140.0 and 61260.0...\n",
      "******************\n",
      "\n",
      "Simulating network conditions at 61260 s\n",
      "Simulation time:  61260.0 ; Hydraulic time step:  60.0 ; Report time step:  60\n",
      "Updating status of directly affected components between 61260.0 and 65340.0...\n",
      "******************\n",
      "\n",
      "Simulating network conditions at 65340 s\n",
      "Simulation time:  65340.0 ; Hydraulic time step:  60.0 ; Report time step:  60\n",
      "Updating status of directly affected components between 65340.0 and 65460.0...\n",
      "******************\n",
      "\n",
      "Simulating network conditions at 65460 s\n",
      "Simulation time:  65460.0 ; Hydraulic time step:  60.0 ; Report time step:  60\n",
      "Updating status of directly affected components between 65460.0 and 65580.0...\n",
      "******************\n",
      "\n",
      "Simulating network conditions at 65580 s\n",
      "Simulation time:  65580.0 ; Hydraulic time step:  60.0 ; Report time step:  60\n",
      "Updating status of directly affected components between 65580.0 and 68820.0...\n",
      "******************\n",
      "\n",
      "Simulating network conditions at 68820 s\n",
      "Simulation time:  68820.0 ; Hydraulic time step:  60.0 ; Report time step:  60\n",
      "Updating status of directly affected components between 68820.0 and 80220.0...\n",
      "******************\n",
      "\n",
      "Simulating network conditions at 80220 s\n",
      "Simulation time:  80220.0 ; Hydraulic time step:  60.0 ; Report time step:  60\n",
      "Updating status of directly affected components between 80220.0 and 86220.0...\n",
      "******************\n",
      "\n",
      "Simulating network conditions at 86220 s\n",
      "Simulation time:  86220.0 ; Hydraulic time step:  60.0 ; Report time step:  60\n",
      "Updating status of directly affected components between 86220.0 and 86460.0...\n",
      "******************\n",
      "\n",
      "Simulating network conditions at 86460 s\n",
      "Simulation time:  86460.0 ; Hydraulic time step:  60.0 ; Report time step:  60\n",
      "Updating status of directly affected components between 86460.0 and 101460.0...\n",
      "******************\n",
      "\n"
     ]
    }
   ],
   "source": [
    "resilience_metrics = bf_simulation.simulate_interdependent_effects(\n",
    "    bf_simulation.network_recovery)"
   ]
  },
  {
   "cell_type": "markdown",
   "metadata": {},
   "source": [
    "### (f) Calculation of resilience metric"
   ]
  },
  {
   "cell_type": "code",
   "execution_count": 125,
   "metadata": {},
   "outputs": [
    {
     "name": "stdout",
     "output_type": "stream",
     "text": [
      "The Resilience Metric value based on ECS is 0.162 equivalent outage hours (EOH)\n",
      "The Resilience Metric value based on PCS is 0.244 equivalent outage hours (EOH)\n"
     ]
    }
   ],
   "source": [
    "resilience_metrics.calculate_power_resmetric(network_recovery)"
   ]
  },
  {
   "cell_type": "code",
   "execution_count": 126,
   "metadata": {},
   "outputs": [
    {
     "name": "stdout",
     "output_type": "stream",
     "text": [
      "The Resilience Metric value based on ECS is 5.196 equivalent outage hours (EOH)\n",
      "The Resilience Metric value based on PCS is 5.806 equivalent outage hours (EOH)\n"
     ]
    }
   ],
   "source": [
    "resilience_metrics.calculate_water_resmetrics(network_recovery)"
   ]
  },
  {
   "cell_type": "markdown",
   "metadata": {},
   "source": [
    "End of the notebook"
   ]
  }
 ],
 "metadata": {
  "interpreter": {
   "hash": "d457c6433f18c3837b6e3285bba28c013c3b86deb599c3954950bcdf8f1c827b"
  },
  "kernelspec": {
   "display_name": "Python 3.8.3 64-bit ('redcar': conda)",
   "name": "python3"
  },
  "language_info": {
   "codemirror_mode": {
    "name": "ipython",
    "version": 3
   },
   "file_extension": ".py",
   "mimetype": "text/x-python",
   "name": "python",
   "nbconvert_exporter": "python",
   "pygments_lexer": "ipython3",
   "version": "3.8.3"
  }
 },
 "nbformat": 4,
 "nbformat_minor": 4
}
