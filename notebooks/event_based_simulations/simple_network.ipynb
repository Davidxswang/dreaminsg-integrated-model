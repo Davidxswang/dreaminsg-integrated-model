{
 "cells": [
  {
   "cell_type": "markdown",
   "metadata": {},
   "source": [
    "# Testing the Integrated Simulation Platform\n",
    "This notebook contains codes to test the various functionalities of the integrated simulation platform. You can call any of the modules from the package here. "
   ]
  },
  {
   "cell_type": "code",
   "execution_count": 1,
   "metadata": {},
   "outputs": [],
   "source": [
    "import warnings\n",
    "warnings.filterwarnings(\"ignore\")"
   ]
  },
  {
   "cell_type": "markdown",
   "metadata": {},
   "source": [
    "## Import required packages"
   ]
  },
  {
   "cell_type": "code",
   "execution_count": 2,
   "metadata": {
    "scrolled": true,
    "tags": []
   },
   "outputs": [
    {
     "name": "stderr",
     "output_type": "stream",
     "text": [
      "BokehDeprecationWarning: 'tile_providers module' was deprecated in Bokeh 3.0.0 and will be removed, use 'add_tile directly' instead.\n"
     ]
    }
   ],
   "source": [
    "from pathlib import Path\n",
    "\n",
    "from infrarisk.src.network_recovery import *\n",
    "import infrarisk.src.simulation as simulation\n",
    "from infrarisk.src.physical.integrated_network import *\n",
    "import infrarisk.src.recovery_strategies as strategies\n",
    "\n",
    "from infrarisk.src.physical.interdependencies import *\n",
    "\n",
    "from infrarisk.src.optimizer import *\n",
    "import infrarisk.src.plots as model_plots\n",
    "\n",
    "#import random"
   ]
  },
  {
   "cell_type": "markdown",
   "metadata": {},
   "source": [
    "## Create an IntegratedNetwork object"
   ]
  },
  {
   "cell_type": "code",
   "execution_count": 3,
   "metadata": {},
   "outputs": [],
   "source": [
    "simple_network = IntegratedNetwork(name = \"Simple\")"
   ]
  },
  {
   "cell_type": "markdown",
   "metadata": {},
   "source": [
    "### Load the three infrastructure models: Water, Power and Transportation\n",
    "\n",
    "Three different models are used:\n",
    "- Water distribution network using **wntr** package\n",
    "- Power systems using **pandapower** package\n",
    "- Transportation network using static traffic assignment package developed by Dr. Stephen Boyles (University of Texas at Austin)"
   ]
  },
  {
   "cell_type": "code",
   "execution_count": 4,
   "metadata": {},
   "outputs": [
    {
     "name": "stderr",
     "output_type": "stream",
     "text": [
      "numba cannot be imported and numba functions are disabled.\n",
      "Probably the execution is slow.\n",
      "Please install numba to gain a massive speedup.\n",
      "(or if you prefer slow execution, set the flag numba=False to avoid this warning!)\n",
      "\n"
     ]
    },
    {
     "name": "stdout",
     "output_type": "stream",
     "text": [
      "Water network successfully loaded from ../../infrarisk/data/networks/in2/water/water.inp. The analysis type is set to PDA.\n",
      "initial simulation duration: 60s; hydraulic time step: 60s; pattern time step: 3600s\n",
      "\n",
      "Power system successfully loaded from ../../infrarisk/data/networks/in2/power/power.json. Single phase power flow simulation will be used.\n",
      "\n"
     ]
    },
    {
     "name": "stderr",
     "output_type": "stream",
     "text": [
      "numba cannot be imported and numba functions are disabled.\n",
      "Probably the execution is slow.\n",
      "Please install numba to gain a massive speedup.\n",
      "(or if you prefer slow execution, set the flag numba=False to avoid this warning!)\n",
      "\n"
     ]
    },
    {
     "name": "stdout",
     "output_type": "stream",
     "text": [
      "Transportation network successfully loaded from ../../infrarisk/data/networks/in2/transportation. Static traffic assignment method will be used to calculate travel times.\n"
     ]
    }
   ],
   "source": [
    "MAIN_DIR = Path('../..')\n",
    "SIM_STEP = 60\n",
    "\n",
    "network_dir= 'infrarisk/data/networks/in2'\n",
    "water_folder = MAIN_DIR/f'{network_dir}/water'\n",
    "power_folder = MAIN_DIR/f'{network_dir}/power'\n",
    "transp_folder = MAIN_DIR/f'{network_dir}/transportation/'\n",
    "\n",
    "# load all infrastructure networks\n",
    "simple_network.load_networks(water_folder=water_folder,\n",
    "                             power_folder=power_folder,\n",
    "                             transp_folder=transp_folder,\n",
    "                             sim_step=SIM_STEP)"
   ]
  },
  {
   "cell_type": "markdown",
   "metadata": {},
   "source": [
    "### Create a Networkx graph of the integrated infrastructure network."
   ]
  },
  {
   "cell_type": "code",
   "execution_count": 5,
   "metadata": {},
   "outputs": [
    {
     "name": "stdout",
     "output_type": "stream",
     "text": [
      "Successfully added power network to the integrated graph...\n",
      "Successfully added water network to the integrated graph...\n",
      "Successfully added transportation network to the integrated graph...\n",
      "Integrated graph successfully created.\n",
      "Generating betweenness centrality...\n"
     ]
    },
    {
     "data": {
      "text/html": [
       "    <style>\n",
       "        .bk-notebook-logo {\n",
       "            display: block;\n",
       "            width: 20px;\n",
       "            height: 20px;\n",
       "            background-image: url(data:image/png;base64,iVBORw0KGgoAAAANSUhEUgAAABQAAAAUCAYAAACNiR0NAAAABHNCSVQICAgIfAhkiAAAAAlwSFlzAAALEgAACxIB0t1+/AAAABx0RVh0U29mdHdhcmUAQWRvYmUgRmlyZXdvcmtzIENTNui8sowAAAOkSURBVDiNjZRtaJVlGMd/1/08zzln5zjP1LWcU9N0NkN8m2CYjpgQYQXqSs0I84OLIC0hkEKoPtiH3gmKoiJDU7QpLgoLjLIQCpEsNJ1vqUOdO7ppbuec5+V+rj4ctwzd8IIbbi6u+8f1539dt3A78eXC7QizUF7gyV1fD1Yqg4JWz84yffhm0qkFqBogB9rM8tZdtwVsPUhWhGcFJngGeWrPzHm5oaMmkfEg1usvLFyc8jLRqDOMru7AyC8saQr7GG7f5fvDeH7Ej8CM66nIF+8yngt6HWaKh7k49Soy9nXurCi1o3qUbS3zWfrYeQDTB/Qj6kX6Ybhw4B+bOYoLKCC9H3Nu/leUTZ1JdRWkkn2ldcCamzrcf47KKXdAJllSlxAOkRgyHsGC/zRday5Qld9DyoM4/q/rUoy/CXh3jzOu3bHUVZeU+DEn8FInkPBFlu3+nW3Nw0mk6vCDiWg8CeJaxEwuHS3+z5RgY+YBR6V1Z1nxSOfoaPa4LASWxxdNp+VWTk7+4vzaou8v8PN+xo+KY2xsw6une2frhw05CTYOmQvsEhjhWjn0bmXPjpE1+kplmmkP3suftwTubK9Vq22qKmrBhpY4jvd5afdRA3wGjFAgcnTK2s4hY0/GPNIb0nErGMCRxWOOX64Z8RAC4oCXdklmEvcL8o0BfkNK4lUg9HTl+oPlQxdNo3Mg4Nv175e/1LDGzZen30MEjRUtmXSfiTVu1kK8W4txyV6BMKlbgk3lMwYCiusNy9fVfvvwMxv8Ynl6vxoByANLTWplvuj/nF9m2+PDtt1eiHPBr1oIfhCChQMBw6Aw0UulqTKZdfVvfG7VcfIqLG9bcldL/+pdWTLxLUy8Qq38heUIjh4XlzZxzQm19lLFlr8vdQ97rjZVOLf8nclzckbcD4wxXMidpX30sFd37Fv/GtwwhzhxGVAprjbg0gCAEeIgwCZyTV2Z1REEW8O4py0wsjeloKoMr6iCY6dP92H6Vw/oTyICIthibxjm/DfN9lVz8IqtqKYLUXfoKVMVQVVJOElGjrnnUt9T9wbgp8AyYKaGlqingHZU/uG2NTZSVqwHQTWkx9hxjkpWDaCg6Ckj5qebgBVbT3V3NNXMSiWSDdGV3hrtzla7J+duwPOToIg42ChPQOQjspnSlp1V+Gjdged7+8UN5CRAV7a5EdFNwCjEaBR27b3W890TE7g24NAP/mMDXRWrGoFPQI9ls/MWO2dWFAar/xcOIImbbpA3zgAAAABJRU5ErkJggg==);\n",
       "        }\n",
       "    </style>\n",
       "    <div>\n",
       "        <a href=\"https://bokeh.org\" target=\"_blank\" class=\"bk-notebook-logo\"></a>\n",
       "        <span id=\"d90f944f-6c08-45b5-9166-a82d4b38047c\">Loading BokehJS ...</span>\n",
       "    </div>\n"
      ]
     },
     "metadata": {},
     "output_type": "display_data"
    },
    {
     "data": {
      "application/javascript": "(function(root) {\n  function now() {\n    return new Date();\n  }\n\n  const force = true;\n\n  if (typeof root._bokeh_onload_callbacks === \"undefined\" || force === true) {\n    root._bokeh_onload_callbacks = [];\n    root._bokeh_is_loading = undefined;\n  }\n\nconst JS_MIME_TYPE = 'application/javascript';\n  const HTML_MIME_TYPE = 'text/html';\n  const EXEC_MIME_TYPE = 'application/vnd.bokehjs_exec.v0+json';\n  const CLASS_NAME = 'output_bokeh rendered_html';\n\n  /**\n   * Render data to the DOM node\n   */\n  function render(props, node) {\n    const script = document.createElement(\"script\");\n    node.appendChild(script);\n  }\n\n  /**\n   * Handle when an output is cleared or removed\n   */\n  function handleClearOutput(event, handle) {\n    function drop(id) {\n      const view = Bokeh.index.get_by_id(id)\n      if (view != null) {\n        view.model.document.clear()\n        Bokeh.index.delete(view)\n      }\n    }\n\n    const cell = handle.cell;\n\n    const id = cell.output_area._bokeh_element_id;\n    const server_id = cell.output_area._bokeh_server_id;\n\n    // Clean up Bokeh references\n    if (id != null) {\n      drop(id)\n    }\n\n    if (server_id !== undefined) {\n      // Clean up Bokeh references\n      const cmd_clean = \"from bokeh.io.state import curstate; print(curstate().uuid_to_server['\" + server_id + \"'].get_sessions()[0].document.roots[0]._id)\";\n      cell.notebook.kernel.execute(cmd_clean, {\n        iopub: {\n          output: function(msg) {\n            const id = msg.content.text.trim()\n            drop(id)\n          }\n        }\n      });\n      // Destroy server and session\n      const cmd_destroy = \"import bokeh.io.notebook as ion; ion.destroy_server('\" + server_id + \"')\";\n      cell.notebook.kernel.execute(cmd_destroy);\n    }\n  }\n\n  /**\n   * Handle when a new output is added\n   */\n  function handleAddOutput(event, handle) {\n    const output_area = handle.output_area;\n    const output = handle.output;\n\n    // limit handleAddOutput to display_data with EXEC_MIME_TYPE content only\n    if ((output.output_type != \"display_data\") || (!Object.prototype.hasOwnProperty.call(output.data, EXEC_MIME_TYPE))) {\n      return\n    }\n\n    const toinsert = output_area.element.find(\".\" + CLASS_NAME.split(' ')[0]);\n\n    if (output.metadata[EXEC_MIME_TYPE][\"id\"] !== undefined) {\n      toinsert[toinsert.length - 1].firstChild.textContent = output.data[JS_MIME_TYPE];\n      // store reference to embed id on output_area\n      output_area._bokeh_element_id = output.metadata[EXEC_MIME_TYPE][\"id\"];\n    }\n    if (output.metadata[EXEC_MIME_TYPE][\"server_id\"] !== undefined) {\n      const bk_div = document.createElement(\"div\");\n      bk_div.innerHTML = output.data[HTML_MIME_TYPE];\n      const script_attrs = bk_div.children[0].attributes;\n      for (let i = 0; i < script_attrs.length; i++) {\n        toinsert[toinsert.length - 1].firstChild.setAttribute(script_attrs[i].name, script_attrs[i].value);\n        toinsert[toinsert.length - 1].firstChild.textContent = bk_div.children[0].textContent\n      }\n      // store reference to server id on output_area\n      output_area._bokeh_server_id = output.metadata[EXEC_MIME_TYPE][\"server_id\"];\n    }\n  }\n\n  function register_renderer(events, OutputArea) {\n\n    function append_mime(data, metadata, element) {\n      // create a DOM node to render to\n      const toinsert = this.create_output_subarea(\n        metadata,\n        CLASS_NAME,\n        EXEC_MIME_TYPE\n      );\n      this.keyboard_manager.register_events(toinsert);\n      // Render to node\n      const props = {data: data, metadata: metadata[EXEC_MIME_TYPE]};\n      render(props, toinsert[toinsert.length - 1]);\n      element.append(toinsert);\n      return toinsert\n    }\n\n    /* Handle when an output is cleared or removed */\n    events.on('clear_output.CodeCell', handleClearOutput);\n    events.on('delete.Cell', handleClearOutput);\n\n    /* Handle when a new output is added */\n    events.on('output_added.OutputArea', handleAddOutput);\n\n    /**\n     * Register the mime type and append_mime function with output_area\n     */\n    OutputArea.prototype.register_mime_type(EXEC_MIME_TYPE, append_mime, {\n      /* Is output safe? */\n      safe: true,\n      /* Index of renderer in `output_area.display_order` */\n      index: 0\n    });\n  }\n\n  // register the mime type if in Jupyter Notebook environment and previously unregistered\n  if (root.Jupyter !== undefined) {\n    const events = require('base/js/events');\n    const OutputArea = require('notebook/js/outputarea').OutputArea;\n\n    if (OutputArea.prototype.mime_types().indexOf(EXEC_MIME_TYPE) == -1) {\n      register_renderer(events, OutputArea);\n    }\n  }\n  if (typeof (root._bokeh_timeout) === \"undefined\" || force === true) {\n    root._bokeh_timeout = Date.now() + 5000;\n    root._bokeh_failed_load = false;\n  }\n\n  const NB_LOAD_WARNING = {'data': {'text/html':\n     \"<div style='background-color: #fdd'>\\n\"+\n     \"<p>\\n\"+\n     \"BokehJS does not appear to have successfully loaded. If loading BokehJS from CDN, this \\n\"+\n     \"may be due to a slow or bad network connection. Possible fixes:\\n\"+\n     \"</p>\\n\"+\n     \"<ul>\\n\"+\n     \"<li>re-rerun `output_notebook()` to attempt to load from CDN again, or</li>\\n\"+\n     \"<li>use INLINE resources instead, as so:</li>\\n\"+\n     \"</ul>\\n\"+\n     \"<code>\\n\"+\n     \"from bokeh.resources import INLINE\\n\"+\n     \"output_notebook(resources=INLINE)\\n\"+\n     \"</code>\\n\"+\n     \"</div>\"}};\n\n  function display_loaded() {\n    const el = document.getElementById(\"d90f944f-6c08-45b5-9166-a82d4b38047c\");\n    if (el != null) {\n      el.textContent = \"BokehJS is loading...\";\n    }\n    if (root.Bokeh !== undefined) {\n      if (el != null) {\n        el.textContent = \"BokehJS \" + root.Bokeh.version + \" successfully loaded.\";\n      }\n    } else if (Date.now() < root._bokeh_timeout) {\n      setTimeout(display_loaded, 100)\n    }\n  }\n\n  function run_callbacks() {\n    try {\n      root._bokeh_onload_callbacks.forEach(function(callback) {\n        if (callback != null)\n          callback();\n      });\n    } finally {\n      delete root._bokeh_onload_callbacks\n    }\n    console.debug(\"Bokeh: all callbacks have finished\");\n  }\n\n  function load_libs(css_urls, js_urls, callback) {\n    if (css_urls == null) css_urls = [];\n    if (js_urls == null) js_urls = [];\n\n    root._bokeh_onload_callbacks.push(callback);\n    if (root._bokeh_is_loading > 0) {\n      console.debug(\"Bokeh: BokehJS is being loaded, scheduling callback at\", now());\n      return null;\n    }\n    if (js_urls == null || js_urls.length === 0) {\n      run_callbacks();\n      return null;\n    }\n    console.debug(\"Bokeh: BokehJS not loaded, scheduling load and callback at\", now());\n    root._bokeh_is_loading = css_urls.length + js_urls.length;\n\n    function on_load() {\n      root._bokeh_is_loading--;\n      if (root._bokeh_is_loading === 0) {\n        console.debug(\"Bokeh: all BokehJS libraries/stylesheets loaded\");\n        run_callbacks()\n      }\n    }\n\n    function on_error(url) {\n      console.error(\"failed to load \" + url);\n    }\n\n    for (let i = 0; i < css_urls.length; i++) {\n      const url = css_urls[i];\n      const element = document.createElement(\"link\");\n      element.onload = on_load;\n      element.onerror = on_error.bind(null, url);\n      element.rel = \"stylesheet\";\n      element.type = \"text/css\";\n      element.href = url;\n      console.debug(\"Bokeh: injecting link tag for BokehJS stylesheet: \", url);\n      document.body.appendChild(element);\n    }\n\n    for (let i = 0; i < js_urls.length; i++) {\n      const url = js_urls[i];\n      const element = document.createElement('script');\n      element.onload = on_load;\n      element.onerror = on_error.bind(null, url);\n      element.async = false;\n      element.src = url;\n      console.debug(\"Bokeh: injecting script tag for BokehJS library: \", url);\n      document.head.appendChild(element);\n    }\n  };\n\n  function inject_raw_css(css) {\n    const element = document.createElement(\"style\");\n    element.appendChild(document.createTextNode(css));\n    document.body.appendChild(element);\n  }\n\n  const js_urls = [\"https://cdn.bokeh.org/bokeh/release/bokeh-3.3.3.min.js\", \"https://cdn.bokeh.org/bokeh/release/bokeh-gl-3.3.3.min.js\", \"https://cdn.bokeh.org/bokeh/release/bokeh-widgets-3.3.3.min.js\", \"https://cdn.bokeh.org/bokeh/release/bokeh-tables-3.3.3.min.js\", \"https://cdn.bokeh.org/bokeh/release/bokeh-mathjax-3.3.3.min.js\"];\n  const css_urls = [];\n\n  const inline_js = [    function(Bokeh) {\n      Bokeh.set_log_level(\"info\");\n    },\nfunction(Bokeh) {\n    }\n  ];\n\n  function run_inline_js() {\n    if (root.Bokeh !== undefined || force === true) {\n          for (let i = 0; i < inline_js.length; i++) {\n      inline_js[i].call(root, root.Bokeh);\n    }\nif (force === true) {\n        display_loaded();\n      }} else if (Date.now() < root._bokeh_timeout) {\n      setTimeout(run_inline_js, 100);\n    } else if (!root._bokeh_failed_load) {\n      console.log(\"Bokeh: BokehJS failed to load within specified timeout.\");\n      root._bokeh_failed_load = true;\n    } else if (force !== true) {\n      const cell = $(document.getElementById(\"d90f944f-6c08-45b5-9166-a82d4b38047c\")).parents('.cell').data().cell;\n      cell.output_area.append_execute_result(NB_LOAD_WARNING)\n    }\n  }\n\n  if (root._bokeh_is_loading === 0) {\n    console.debug(\"Bokeh: BokehJS loaded, going straight to plotting\");\n    run_inline_js();\n  } else {\n    load_libs(css_urls, js_urls, function() {\n      console.debug(\"Bokeh: BokehJS plotting callback run at\", now());\n      run_inline_js();\n    });\n  }\n}(window));",
      "application/vnd.bokehjs_load.v0+json": ""
     },
     "metadata": {},
     "output_type": "display_data"
    },
    {
     "name": "stderr",
     "output_type": "stream",
     "text": [
      "BokehDeprecationWarning: 'get_provider' was deprecated in Bokeh 3.0.0 and will be removed, use 'add_tile directly' instead.\n"
     ]
    },
    {
     "data": {
      "text/html": [
       "\n",
       "  <div id=\"d209b640-0de5-4c59-9972-16508bb12e25\" data-root-id=\"p1002\" style=\"display: contents;\"></div>\n"
      ]
     },
     "metadata": {},
     "output_type": "display_data"
    },
    {
     "data": {
      "application/javascript": "(function(root) {\n  function embed_document(root) {\n  const docs_json = {\"e24beafa-7718-4d35-8c2c-f147e7128986\":{\"version\":\"3.3.3\",\"title\":\"Bokeh Application\",\"roots\":[{\"type\":\"object\",\"name\":\"Figure\",\"id\":\"p1002\",\"attributes\":{\"width\":800,\"height\":500,\"x_range\":{\"type\":\"object\",\"name\":\"Range1d\",\"id\":\"p1012\",\"attributes\":{\"start\":-140.0,\"end\":840.0}},\"y_range\":{\"type\":\"object\",\"name\":\"Range1d\",\"id\":\"p1013\",\"attributes\":{\"start\":-180.0,\"end\":1080.0}},\"x_scale\":{\"type\":\"object\",\"name\":\"LinearScale\",\"id\":\"p1014\"},\"y_scale\":{\"type\":\"object\",\"name\":\"LinearScale\",\"id\":\"p1015\"},\"title\":{\"type\":\"object\",\"name\":\"Title\",\"id\":\"p1005\",\"attributes\":{\"text\":\"Simple integrated network\"}},\"renderers\":[{\"type\":\"object\",\"name\":\"GlyphRenderer\",\"id\":\"p1046\",\"attributes\":{\"data_source\":{\"type\":\"object\",\"name\":\"ColumnDataSource\",\"id\":\"p1037\",\"attributes\":{\"selected\":{\"type\":\"object\",\"name\":\"Selection\",\"id\":\"p1038\",\"attributes\":{\"indices\":[],\"line_indices\":[]}},\"selection_policy\":{\"type\":\"object\",\"name\":\"UnionRenderers\",\"id\":\"p1039\"},\"data\":{\"type\":\"map\",\"entries\":[[\"x\",[0,300,600,0,300,600,0,300,600,400.0,400.0,400.0,400.0,100.0,200.0,200.0,200.0,100.0,200.0,300.0,500.0,700.0,300.0,500.0,700.0,300.0,500.0,500.0,100.0]],[\"y\",[700,700,700,325,325,325,0,0,0,550.0,275.0,225.0,0.0,0.0,550.0,350.0,250.0,250.0,700.0,700.0,700.0,700.0,400.0,400.0,400.0,100.0,100.0,900.0,700.0]],[\"node_type\",[\"transpo\",\"transpo\",\"transpo\",\"transpo\",\"transpo\",\"transpo\",\"transpo\",\"transpo\",\"transpo\",\"power\",\"power\",\"power\",\"power\",\"power\",\"power\",\"power\",\"power\",\"power\",\"water\",\"water\",\"water\",\"water\",\"water\",\"water\",\"water\",\"water\",\"water\",\"water\",\"water\"]],[\"node_category\",[\"Junction\",\"Junction\",\"Junction\",\"Junction\",\"Junction\",\"Junction\",\"Junction\",\"Junction\",\"Junction\",\"Bus\",\"Bus\",\"Bus\",\"Bus\",\"Bus\",\"Bus\",\"Bus\",\"Bus\",\"Bus\",\"Junction\",\"Junction\",\"Junction\",\"Junction\",\"Junction\",\"Junction\",\"Junction\",\"Junction\",\"Junction\",\"Tank\",\"Reservoir\"]],[\"id\",[\"T_J1\",\"T_J2\",\"T_J3\",\"T_J4\",\"T_J5\",\"T_J6\",\"T_J7\",\"T_J8\",\"T_J9\",\"P_B1\",\"P_B2\",\"P_B3\",\"P_B4\",\"P_B5\",\"P_B6\",\"P_B7\",\"P_B9\",\"P_B8\",\"W_J10\",\"W_J11\",\"W_J12\",\"W_J13\",\"W_J21\",\"W_J22\",\"W_J23\",\"W_J31\",\"W_J32\",\"W_T2\",\"W_R9\"]]]}}},\"view\":{\"type\":\"object\",\"name\":\"CDSView\",\"id\":\"p1047\",\"attributes\":{\"filter\":{\"type\":\"object\",\"name\":\"AllIndices\",\"id\":\"p1048\"}}},\"glyph\":{\"type\":\"object\",\"name\":\"Scatter\",\"id\":\"p1043\",\"attributes\":{\"x\":{\"type\":\"field\",\"field\":\"x\"},\"y\":{\"type\":\"field\",\"field\":\"y\"},\"size\":{\"type\":\"value\",\"value\":5},\"line_color\":{\"type\":\"value\",\"value\":\"grey\"},\"line_alpha\":{\"type\":\"value\",\"value\":0.2},\"fill_color\":{\"type\":\"value\",\"value\":\"grey\"},\"fill_alpha\":{\"type\":\"value\",\"value\":0.2},\"hatch_color\":{\"type\":\"value\",\"value\":\"grey\"},\"hatch_alpha\":{\"type\":\"value\",\"value\":0.2},\"marker\":{\"type\":\"value\",\"value\":\"square\"}}},\"nonselection_glyph\":{\"type\":\"object\",\"name\":\"Scatter\",\"id\":\"p1044\",\"attributes\":{\"x\":{\"type\":\"field\",\"field\":\"x\"},\"y\":{\"type\":\"field\",\"field\":\"y\"},\"size\":{\"type\":\"value\",\"value\":5},\"line_color\":{\"type\":\"value\",\"value\":\"grey\"},\"line_alpha\":{\"type\":\"value\",\"value\":0.1},\"fill_color\":{\"type\":\"value\",\"value\":\"grey\"},\"fill_alpha\":{\"type\":\"value\",\"value\":0.1},\"hatch_color\":{\"type\":\"value\",\"value\":\"grey\"},\"hatch_alpha\":{\"type\":\"value\",\"value\":0.1},\"marker\":{\"type\":\"value\",\"value\":\"square\"}}},\"muted_glyph\":{\"type\":\"object\",\"name\":\"Scatter\",\"id\":\"p1045\",\"attributes\":{\"x\":{\"type\":\"field\",\"field\":\"x\"},\"y\":{\"type\":\"field\",\"field\":\"y\"},\"size\":{\"type\":\"value\",\"value\":5},\"line_color\":{\"type\":\"value\",\"value\":\"gainsboro\"},\"line_alpha\":{\"type\":\"value\",\"value\":0.2},\"fill_color\":{\"type\":\"value\",\"value\":\"gainsboro\"},\"fill_alpha\":{\"type\":\"value\",\"value\":0.2},\"hatch_color\":{\"type\":\"value\",\"value\":\"gainsboro\"},\"hatch_alpha\":{\"type\":\"value\",\"value\":0.2},\"marker\":{\"type\":\"value\",\"value\":\"square\"}}}}},{\"type\":\"object\",\"name\":\"GlyphRenderer\",\"id\":\"p1058\",\"attributes\":{\"data_source\":{\"type\":\"object\",\"name\":\"ColumnDataSource\",\"id\":\"p1049\",\"attributes\":{\"selected\":{\"type\":\"object\",\"name\":\"Selection\",\"id\":\"p1050\",\"attributes\":{\"indices\":[],\"line_indices\":[]}},\"selection_policy\":{\"type\":\"object\",\"name\":\"UnionRenderers\",\"id\":\"p1051\"},\"data\":{\"type\":\"map\",\"entries\":[[\"x\",[[0,300],[0,0],[300,600],[600,300],[0,300],[0,0],[300,600],[300,300],[600,600],[0,300],[300,600]]],[\"y\",[[700,700],[700,325],[700,700],[700,325],[325,325],[325,0],[325,325],[325,0],[325,0],[0,0],[0,0]]],[\"link_layer\",[\"transpo\",\"transpo\",\"transpo\",\"transpo\",\"transpo\",\"transpo\",\"transpo\",\"transpo\",\"transpo\",\"transpo\",\"transpo\"]],[\"link_category\",[\"Road link\",\"Road link\",\"Road link\",\"Road link\",\"Road link\",\"Road link\",\"Road link\",\"Road link\",\"Road link\",\"Road link\",\"Road link\"]],[\"id\",[\"T_L12\",\"T_L14\",\"T_L13\",\"T_L15\",\"T_L16\",\"T_L18\",\"T_L17\",\"T_L19\",\"T_L20\",\"T_L21\",\"T_L22\"]]]}}},\"view\":{\"type\":\"object\",\"name\":\"CDSView\",\"id\":\"p1059\",\"attributes\":{\"filter\":{\"type\":\"object\",\"name\":\"AllIndices\",\"id\":\"p1060\"}}},\"glyph\":{\"type\":\"object\",\"name\":\"MultiLine\",\"id\":\"p1055\",\"attributes\":{\"xs\":{\"type\":\"field\",\"field\":\"x\"},\"ys\":{\"type\":\"field\",\"field\":\"y\"},\"line_color\":{\"type\":\"value\",\"value\":\"limegreen\"},\"line_width\":{\"type\":\"value\",\"value\":2},\"line_dash\":{\"type\":\"value\",\"value\":\"solid\"}}},\"nonselection_glyph\":{\"type\":\"object\",\"name\":\"MultiLine\",\"id\":\"p1056\",\"attributes\":{\"xs\":{\"type\":\"field\",\"field\":\"x\"},\"ys\":{\"type\":\"field\",\"field\":\"y\"},\"line_color\":{\"type\":\"value\",\"value\":\"limegreen\"},\"line_alpha\":{\"type\":\"value\",\"value\":0.1},\"line_width\":{\"type\":\"value\",\"value\":2},\"line_dash\":{\"type\":\"value\",\"value\":\"solid\"}}},\"muted_glyph\":{\"type\":\"object\",\"name\":\"MultiLine\",\"id\":\"p1057\",\"attributes\":{\"xs\":{\"type\":\"field\",\"field\":\"x\"},\"ys\":{\"type\":\"field\",\"field\":\"y\"},\"line_color\":{\"type\":\"value\",\"value\":\"limegreen\"},\"line_alpha\":{\"type\":\"value\",\"value\":0.2},\"line_width\":{\"type\":\"value\",\"value\":2},\"line_dash\":{\"type\":\"value\",\"value\":\"solid\"}}}}},{\"type\":\"object\",\"name\":\"GlyphRenderer\",\"id\":\"p1072\",\"attributes\":{\"data_source\":{\"type\":\"object\",\"name\":\"ColumnDataSource\",\"id\":\"p1063\",\"attributes\":{\"selected\":{\"type\":\"object\",\"name\":\"Selection\",\"id\":\"p1064\",\"attributes\":{\"indices\":[],\"line_indices\":[]}},\"selection_policy\":{\"type\":\"object\",\"name\":\"UnionRenderers\",\"id\":\"p1065\"},\"data\":{\"type\":\"map\",\"entries\":[[\"x\",[[200.0,300.0],[200.0,100.0],[300.0,500.0],[300.0,300.0],[500.0,700.0],[500.0,500.0],[500.0,500.0],[700.0,700.0],[300.0,500.0],[300.0,300.0],[500.0,700.0],[500.0,500.0],[300.0,500.0]]],[\"y\",[[700.0,700.0],[700.0,700.0],[700.0,700.0],[700.0,400.0],[700.0,700.0],[700.0,900.0],[700.0,400.0],[700.0,400.0],[400.0,400.0],[400.0,100.0],[400.0,400.0],[400.0,100.0],[100.0,100.0]]],[\"link_layer\",[\"water\",\"water\",\"water\",\"water\",\"water\",\"water\",\"water\",\"water\",\"water\",\"water\",\"water\",\"water\",\"water\"]],[\"link_category\",[\"Water pipe\",\"Water pump\",\"Water pipe\",\"Water pipe\",\"Water pipe\",\"Water pipe\",\"Water pipe\",\"Water pipe\",\"Water pipe\",\"Water pipe\",\"Water pipe\",\"Water pipe\",\"Water pipe\"]],[\"id\",[\"W_P10\",\"W_WP9\",\"W_P11\",\"W_P111\",\"W_P12\",\"W_P110\",\"W_P112\",\"W_P113\",\"W_P21\",\"W_P121\",\"W_P22\",\"W_P122\",\"W_P31\"]]]}}},\"view\":{\"type\":\"object\",\"name\":\"CDSView\",\"id\":\"p1073\",\"attributes\":{\"filter\":{\"type\":\"object\",\"name\":\"AllIndices\",\"id\":\"p1074\"}}},\"glyph\":{\"type\":\"object\",\"name\":\"MultiLine\",\"id\":\"p1069\",\"attributes\":{\"xs\":{\"type\":\"field\",\"field\":\"x\"},\"ys\":{\"type\":\"field\",\"field\":\"y\"},\"line_color\":{\"type\":\"value\",\"value\":\"yellow\"},\"line_width\":{\"type\":\"value\",\"value\":2},\"line_dash\":{\"type\":\"value\",\"value\":\"solid\"}}},\"nonselection_glyph\":{\"type\":\"object\",\"name\":\"MultiLine\",\"id\":\"p1070\",\"attributes\":{\"xs\":{\"type\":\"field\",\"field\":\"x\"},\"ys\":{\"type\":\"field\",\"field\":\"y\"},\"line_color\":{\"type\":\"value\",\"value\":\"yellow\"},\"line_alpha\":{\"type\":\"value\",\"value\":0.1},\"line_width\":{\"type\":\"value\",\"value\":2},\"line_dash\":{\"type\":\"value\",\"value\":\"solid\"}}},\"muted_glyph\":{\"type\":\"object\",\"name\":\"MultiLine\",\"id\":\"p1071\",\"attributes\":{\"xs\":{\"type\":\"field\",\"field\":\"x\"},\"ys\":{\"type\":\"field\",\"field\":\"y\"},\"line_color\":{\"type\":\"value\",\"value\":\"yellow\"},\"line_alpha\":{\"type\":\"value\",\"value\":0.2},\"line_width\":{\"type\":\"value\",\"value\":2},\"line_dash\":{\"type\":\"value\",\"value\":\"solid\"}}}}},{\"type\":\"object\",\"name\":\"GlyphRenderer\",\"id\":\"p1085\",\"attributes\":{\"data_source\":{\"type\":\"object\",\"name\":\"ColumnDataSource\",\"id\":\"p1076\",\"attributes\":{\"selected\":{\"type\":\"object\",\"name\":\"Selection\",\"id\":\"p1077\",\"attributes\":{\"indices\":[],\"line_indices\":[]}},\"selection_policy\":{\"type\":\"object\",\"name\":\"UnionRenderers\",\"id\":\"p1078\"},\"data\":{\"type\":\"map\",\"entries\":[[\"x\",[[400.0,400.0],[400.0,200.0],[400.0,400.0],[400.0,400.0],[400.0,100.0],[200.0,200.0],[200.0,200.0],[200.0,100.0]]],[\"y\",[[550.0,275.0],[550.0,550.0],[275.0,225.0],[225.0,0.0],[0.0,0.0],[550.0,350.0],[350.0,250.0],[250.0,250.0]]],[\"link_layer\",[\"power\",\"power\",\"power\",\"power\",\"power\",\"power\",\"power\",\"power\"]],[\"link_category\",[\"Power line\",\"Power line\",\"Transformer\",\"Power line\",\"Power line\",\"Power line\",\"Switch\",\"Transformer\"]],[\"id\",[\"P_L1\",\"P_L4\",\"P_TF2\",\"P_L2\",\"P_L3\",\"P_L5\",\"P_S1\",\"P_TF1\"]]]}}},\"view\":{\"type\":\"object\",\"name\":\"CDSView\",\"id\":\"p1086\",\"attributes\":{\"filter\":{\"type\":\"object\",\"name\":\"AllIndices\",\"id\":\"p1087\"}}},\"glyph\":{\"type\":\"object\",\"name\":\"MultiLine\",\"id\":\"p1082\",\"attributes\":{\"xs\":{\"type\":\"field\",\"field\":\"x\"},\"ys\":{\"type\":\"field\",\"field\":\"y\"},\"line_color\":{\"type\":\"value\",\"value\":\"lightskyblue\"},\"line_width\":{\"type\":\"value\",\"value\":2},\"line_dash\":{\"type\":\"value\",\"value\":\"solid\"}}},\"nonselection_glyph\":{\"type\":\"object\",\"name\":\"MultiLine\",\"id\":\"p1083\",\"attributes\":{\"xs\":{\"type\":\"field\",\"field\":\"x\"},\"ys\":{\"type\":\"field\",\"field\":\"y\"},\"line_color\":{\"type\":\"value\",\"value\":\"lightskyblue\"},\"line_alpha\":{\"type\":\"value\",\"value\":0.1},\"line_width\":{\"type\":\"value\",\"value\":2},\"line_dash\":{\"type\":\"value\",\"value\":\"solid\"}}},\"muted_glyph\":{\"type\":\"object\",\"name\":\"MultiLine\",\"id\":\"p1084\",\"attributes\":{\"xs\":{\"type\":\"field\",\"field\":\"x\"},\"ys\":{\"type\":\"field\",\"field\":\"y\"},\"line_color\":{\"type\":\"value\",\"value\":\"lightskyblue\"},\"line_alpha\":{\"type\":\"value\",\"value\":0.2},\"line_width\":{\"type\":\"value\",\"value\":2},\"line_dash\":{\"type\":\"value\",\"value\":\"solid\"}}}}}],\"toolbar\":{\"type\":\"object\",\"name\":\"Toolbar\",\"id\":\"p1011\",\"attributes\":{\"tools\":[{\"type\":\"object\",\"name\":\"PanTool\",\"id\":\"p1026\"},{\"type\":\"object\",\"name\":\"WheelZoomTool\",\"id\":\"p1027\",\"attributes\":{\"renderers\":\"auto\"}},{\"type\":\"object\",\"name\":\"BoxZoomTool\",\"id\":\"p1028\",\"attributes\":{\"overlay\":{\"type\":\"object\",\"name\":\"BoxAnnotation\",\"id\":\"p1029\",\"attributes\":{\"syncable\":false,\"level\":\"overlay\",\"visible\":false,\"left\":{\"type\":\"number\",\"value\":\"nan\"},\"right\":{\"type\":\"number\",\"value\":\"nan\"},\"top\":{\"type\":\"number\",\"value\":\"nan\"},\"bottom\":{\"type\":\"number\",\"value\":\"nan\"},\"left_units\":\"canvas\",\"right_units\":\"canvas\",\"top_units\":\"canvas\",\"bottom_units\":\"canvas\",\"line_color\":\"black\",\"line_alpha\":1.0,\"line_width\":2,\"line_dash\":[4,4],\"fill_color\":\"lightgrey\",\"fill_alpha\":0.5}}}},{\"type\":\"object\",\"name\":\"SaveTool\",\"id\":\"p1034\"},{\"type\":\"object\",\"name\":\"ResetTool\",\"id\":\"p1035\"},{\"type\":\"object\",\"name\":\"HelpTool\",\"id\":\"p1036\"},{\"type\":\"object\",\"name\":\"HoverTool\",\"id\":\"p1089\",\"attributes\":{\"renderers\":[{\"id\":\"p1046\"}],\"tooltips\":[[\"Node ID\",\"@id\"],[\"Infrastructure\",\"@node_type\"],[\"Node category\",\"@node_category\"]]}},{\"type\":\"object\",\"name\":\"HoverTool\",\"id\":\"p1090\",\"attributes\":{\"renderers\":[{\"id\":\"p1072\"}],\"tooltips\":[[\"Link ID\",\"@id\"],[\"Link category\",\"@link_category\"]]}},{\"type\":\"object\",\"name\":\"HoverTool\",\"id\":\"p1091\",\"attributes\":{\"renderers\":[{\"id\":\"p1085\"}],\"tooltips\":[[\"Link ID\",\"@id\"],[\"Link category\",\"@link_category\"]]}},{\"type\":\"object\",\"name\":\"HoverTool\",\"id\":\"p1092\",\"attributes\":{\"renderers\":[{\"id\":\"p1058\"}],\"tooltips\":[[\"Link ID\",\"@id\"],[\"Link category\",\"@link_category\"]]}}]}},\"left\":[{\"type\":\"object\",\"name\":\"LinearAxis\",\"id\":\"p1021\",\"attributes\":{\"visible\":false,\"ticker\":{\"type\":\"object\",\"name\":\"BasicTicker\",\"id\":\"p1022\",\"attributes\":{\"mantissas\":[1,2,5]}},\"formatter\":{\"type\":\"object\",\"name\":\"BasicTickFormatter\",\"id\":\"p1023\"},\"major_label_policy\":{\"type\":\"object\",\"name\":\"AllLabels\",\"id\":\"p1024\"}}}],\"below\":[{\"type\":\"object\",\"name\":\"LinearAxis\",\"id\":\"p1016\",\"attributes\":{\"visible\":false,\"ticker\":{\"type\":\"object\",\"name\":\"BasicTicker\",\"id\":\"p1017\",\"attributes\":{\"mantissas\":[1,2,5]}},\"formatter\":{\"type\":\"object\",\"name\":\"BasicTickFormatter\",\"id\":\"p1018\"},\"major_label_policy\":{\"type\":\"object\",\"name\":\"AllLabels\",\"id\":\"p1019\"}}}],\"center\":[{\"type\":\"object\",\"name\":\"Grid\",\"id\":\"p1020\",\"attributes\":{\"visible\":false,\"axis\":{\"id\":\"p1016\"}}},{\"type\":\"object\",\"name\":\"Grid\",\"id\":\"p1025\",\"attributes\":{\"visible\":false,\"dimension\":1,\"axis\":{\"id\":\"p1021\"}}},{\"type\":\"object\",\"name\":\"Legend\",\"id\":\"p1061\",\"attributes\":{\"location\":\"top_left\",\"background_fill_color\":\"black\",\"background_fill_alpha\":0.3,\"click_policy\":\"mute\",\"label_text_color\":\"white\",\"items\":[{\"type\":\"object\",\"name\":\"LegendItem\",\"id\":\"p1062\",\"attributes\":{\"label\":{\"type\":\"value\",\"value\":\"Transportation\"},\"renderers\":[{\"id\":\"p1058\"}]}},{\"type\":\"object\",\"name\":\"LegendItem\",\"id\":\"p1075\",\"attributes\":{\"label\":{\"type\":\"value\",\"value\":\"Water\"},\"renderers\":[{\"id\":\"p1072\"}]}},{\"type\":\"object\",\"name\":\"LegendItem\",\"id\":\"p1088\",\"attributes\":{\"label\":{\"type\":\"value\",\"value\":\"Power\"},\"renderers\":[{\"id\":\"p1085\"}]}}]}}],\"background_fill_color\":\"black\"}}]}};\n  const render_items = [{\"docid\":\"e24beafa-7718-4d35-8c2c-f147e7128986\",\"roots\":{\"p1002\":\"d209b640-0de5-4c59-9972-16508bb12e25\"},\"root_ids\":[\"p1002\"]}];\n  root.Bokeh.embed.embed_items_notebook(docs_json, render_items);\n  }\n  if (root.Bokeh !== undefined) {\n    embed_document(root);\n  } else {\n    let attempts = 0;\n    const timer = setInterval(function(root) {\n      if (root.Bokeh !== undefined) {\n        clearInterval(timer);\n        embed_document(root);\n      } else {\n        attempts++;\n        if (attempts > 100) {\n          clearInterval(timer);\n          console.log(\"Bokeh: ERROR: Unable to run BokehJS code because BokehJS library is missing\");\n        }\n      }\n    }, 10, root)\n  }\n})(window);",
      "application/vnd.bokehjs_exec.v0+json": ""
     },
     "metadata": {
      "application/vnd.bokehjs_exec.v0+json": {
       "id": "p1002"
      }
     },
     "output_type": "display_data"
    }
   ],
   "source": [
    "simple_network.generate_integrated_graph()"
   ]
  },
  {
   "cell_type": "markdown",
   "metadata": {},
   "source": [
    "### Build interdependencies\n",
    "\n",
    "Three types of dependencies:\n",
    "- Power - Water dependencies (eg.: water pump on electric motor, generator on reservoir)\n",
    "- Power - Transportation dependencies (eg.: road access to power system components for M&R)\n",
    "- Water - Transportation dependencies (eg.: road access to water network components for M&R)\n",
    "\n",
    "The dependencies are referenced using two tables in the model.\n",
    "- **wp_table** for water - power dependencies\n",
    "- **access_table** for transportation dependencies"
   ]
  },
  {
   "cell_type": "code",
   "execution_count": 6,
   "metadata": {},
   "outputs": [
    {
     "data": {
      "text/html": [
       "<div>\n",
       "<style scoped>\n",
       "    .dataframe tbody tr th:only-of-type {\n",
       "        vertical-align: middle;\n",
       "    }\n",
       "\n",
       "    .dataframe tbody tr th {\n",
       "        vertical-align: top;\n",
       "    }\n",
       "\n",
       "    .dataframe thead th {\n",
       "        text-align: right;\n",
       "    }\n",
       "</style>\n",
       "<table border=\"1\" class=\"dataframe\">\n",
       "  <thead>\n",
       "    <tr style=\"text-align: right;\">\n",
       "      <th></th>\n",
       "      <th>water_id</th>\n",
       "      <th>power_id</th>\n",
       "      <th>water_type</th>\n",
       "      <th>power_type</th>\n",
       "    </tr>\n",
       "  </thead>\n",
       "  <tbody>\n",
       "    <tr>\n",
       "      <th>0</th>\n",
       "      <td>W_WP9</td>\n",
       "      <td>P_MP1</td>\n",
       "      <td>Pump</td>\n",
       "      <td>Motor</td>\n",
       "    </tr>\n",
       "    <tr>\n",
       "      <th>1</th>\n",
       "      <td>W_R9</td>\n",
       "      <td>P_G3</td>\n",
       "      <td>Reservoir</td>\n",
       "      <td>Generator</td>\n",
       "    </tr>\n",
       "  </tbody>\n",
       "</table>\n",
       "</div>"
      ],
      "text/plain": [
       "  water_id power_id water_type power_type\n",
       "0    W_WP9    P_MP1       Pump      Motor\n",
       "1     W_R9     P_G3  Reservoir  Generator"
      ]
     },
     "execution_count": 6,
     "metadata": {},
     "output_type": "execute_result"
    }
   ],
   "source": [
    "dependency_file = MAIN_DIR/f\"{network_dir}/dependecies.csv\"\n",
    "simple_network.generate_dependency_table(dependency_file = dependency_file)\n",
    "simple_network.dependency_table.wp_table"
   ]
  },
  {
   "cell_type": "code",
   "execution_count": 7,
   "metadata": {},
   "outputs": [
    {
     "data": {
      "text/html": [
       "<div>\n",
       "<style scoped>\n",
       "    .dataframe tbody tr th:only-of-type {\n",
       "        vertical-align: middle;\n",
       "    }\n",
       "\n",
       "    .dataframe tbody tr th {\n",
       "        vertical-align: top;\n",
       "    }\n",
       "\n",
       "    .dataframe thead th {\n",
       "        text-align: right;\n",
       "    }\n",
       "</style>\n",
       "<table border=\"1\" class=\"dataframe\">\n",
       "  <thead>\n",
       "    <tr style=\"text-align: right;\">\n",
       "      <th></th>\n",
       "      <th>origin_id</th>\n",
       "      <th>transp_id</th>\n",
       "      <th>origin_cat</th>\n",
       "      <th>origin_type</th>\n",
       "      <th>access_dist</th>\n",
       "    </tr>\n",
       "  </thead>\n",
       "  <tbody>\n",
       "    <tr>\n",
       "      <th>0</th>\n",
       "      <td>P_B1</td>\n",
       "      <td>T_J2</td>\n",
       "      <td>power</td>\n",
       "      <td>Bus</td>\n",
       "      <td>180.28</td>\n",
       "    </tr>\n",
       "    <tr>\n",
       "      <th>1</th>\n",
       "      <td>P_B2</td>\n",
       "      <td>T_J5</td>\n",
       "      <td>power</td>\n",
       "      <td>Bus</td>\n",
       "      <td>111.80</td>\n",
       "    </tr>\n",
       "    <tr>\n",
       "      <th>2</th>\n",
       "      <td>P_B3</td>\n",
       "      <td>T_J5</td>\n",
       "      <td>power</td>\n",
       "      <td>Bus</td>\n",
       "      <td>141.42</td>\n",
       "    </tr>\n",
       "    <tr>\n",
       "      <th>3</th>\n",
       "      <td>P_B4</td>\n",
       "      <td>T_J8</td>\n",
       "      <td>power</td>\n",
       "      <td>Bus</td>\n",
       "      <td>100.00</td>\n",
       "    </tr>\n",
       "    <tr>\n",
       "      <th>4</th>\n",
       "      <td>P_B5</td>\n",
       "      <td>T_J7</td>\n",
       "      <td>power</td>\n",
       "      <td>Bus</td>\n",
       "      <td>100.00</td>\n",
       "    </tr>\n",
       "  </tbody>\n",
       "</table>\n",
       "</div>"
      ],
      "text/plain": [
       "  origin_id transp_id origin_cat origin_type  access_dist\n",
       "0      P_B1      T_J2      power         Bus       180.28\n",
       "1      P_B2      T_J5      power         Bus       111.80\n",
       "2      P_B3      T_J5      power         Bus       141.42\n",
       "3      P_B4      T_J8      power         Bus       100.00\n",
       "4      P_B5      T_J7      power         Bus       100.00"
      ]
     },
     "execution_count": 7,
     "metadata": {},
     "output_type": "execute_result"
    }
   ],
   "source": [
    "simple_network.dependency_table.access_table.head()"
   ]
  },
  {
   "cell_type": "markdown",
   "metadata": {},
   "source": [
    "### Set failed components"
   ]
  },
  {
   "cell_type": "code",
   "execution_count": 8,
   "metadata": {},
   "outputs": [
    {
     "data": {
      "text/plain": [
       "['W_P21', 'W_WP9', 'T_L2', 'P_L5']"
      ]
     },
     "execution_count": 8,
     "metadata": {},
     "output_type": "execute_result"
    }
   ],
   "source": [
    "scenario_folder = \"scenarios/test1\"\n",
    "disruption_file = MAIN_DIR/f\"{network_dir}/{scenario_folder}/disruption_file.csv\"\n",
    "\n",
    "simple_network.set_disrupted_components(disruption_file=disruption_file)\n",
    "simple_network.get_disrupted_components()"
   ]
  },
  {
   "cell_type": "markdown",
   "metadata": {},
   "source": [
    "### Set initial crew locations"
   ]
  },
  {
   "cell_type": "code",
   "execution_count": 9,
   "metadata": {},
   "outputs": [
    {
     "name": "stdout",
     "output_type": "stream",
     "text": [
      "Power repair crews successfully deployed.\n",
      "Water repair crews successfully deployed.\n",
      "Transportation repair crews successfully deployed.\n"
     ]
    }
   ],
   "source": [
    "simple_network.deploy_crews(\n",
    "    init_power_crew_locs=['T_J8'], \n",
    "    init_water_crew_locs=['T_J8'],\n",
    "    init_transpo_crew_locs= ['T_J8']\n",
    "    )"
   ]
  },
  {
   "cell_type": "markdown",
   "metadata": {},
   "source": [
    "## Simulation of interdependent effects using a test scenario\n",
    "### (a) Create NetworkRecovery"
   ]
  },
  {
   "cell_type": "code",
   "execution_count": 10,
   "metadata": {},
   "outputs": [],
   "source": [
    "network_recovery = NetworkRecovery(simple_network, \n",
    "                                   sim_step=SIM_STEP, \n",
    "                                   pipe_close_policy=\"repair\",\n",
    "                                   pipe_closure_delay= 10, \n",
    "                                   line_close_policy=\"sensor_based_line_isolation\",\n",
    "                                   line_closure_delay= 10)"
   ]
  },
  {
   "cell_type": "markdown",
   "metadata": {},
   "source": [
    "### (b) Create a simulation object"
   ]
  },
  {
   "cell_type": "code",
   "execution_count": 11,
   "metadata": {},
   "outputs": [],
   "source": [
    "bf_simulation = simulation.NetworkSimulation(network_recovery)"
   ]
  },
  {
   "cell_type": "markdown",
   "metadata": {},
   "source": [
    "### (c) Generation of random repair order"
   ]
  },
  {
   "cell_type": "code",
   "execution_count": 12,
   "metadata": {},
   "outputs": [],
   "source": [
    "capacity_strategy = strategies.HandlingCapacityStrategy(simple_network)\n",
    "capacity_strategy.set_repair_order()\n",
    "repair_order = capacity_strategy.get_repair_order()\n",
    "\n",
    "import os\n",
    "if not os.path.exists(MAIN_DIR/f\"{network_dir}/{scenario_folder}/capacity\"):\n",
    "    os.makedirs(MAIN_DIR/f\"{network_dir}/{scenario_folder}/capacity\")"
   ]
  },
  {
   "cell_type": "code",
   "execution_count": 13,
   "metadata": {
    "tags": []
   },
   "outputs": [
    {
     "name": "stdout",
     "output_type": "stream",
     "text": [
      "Current repair order is ['T_L2', 'P_L5', 'W_WP9', 'W_P21']\n"
     ]
    }
   ],
   "source": [
    "#Generate a random repair order\n",
    "# repair_order = network_recovery.network.get_disrupted_components()\n",
    "# random.shuffle(repair_order)\n",
    "print('Current repair order is {}'.format(repair_order))"
   ]
  },
  {
   "cell_type": "markdown",
   "metadata": {},
   "source": [
    "### (d) Generation of event tables"
   ]
  },
  {
   "cell_type": "code",
   "execution_count": 14,
   "metadata": {},
   "outputs": [
    {
     "name": "stdout",
     "output_type": "stream",
     "text": [
      "Components yet to repair 1\n",
      "Repair T_L2: The transpo crew 1 is at T_J8 at t = 2.0 minutes. It takes 19 minutes to reach nearest node T_J3, the nearest transportation node from T_L2.\n",
      "\n",
      "\n",
      "Components yet to repair 3\n",
      "Repair P_L5: The power crew 1 is at T_J8 at t = 2.0 minutes. It takes 14 minutes to reach nearest node T_J5, the nearest transportation node from P_L5.\n",
      "\n",
      "\n",
      "Components yet to repair 2\n",
      "Repair W_WP9: The water crew 1 is at T_J8 at t = 2.0 minutes. It takes 23 minutes to reach nearest node T_J2, the nearest transportation node from W_WP9.\n",
      "\n",
      "\n",
      "Components yet to repair 1\n",
      "Repair W_P21: The water crew 1 is at T_J2 at t = 97.0 minutes. It takes 19 minutes to reach nearest node T_J5, the nearest transportation node from W_P21.\n",
      "\n",
      "\n",
      "All restoration actions are successfully scheduled.\n",
      "Total travel times: power: 14 mins, water: 42 min, transportation: 19 mins\n",
      "Total recovery times: power: 300.0 mins, water: 432.0 min, transportation: 360.0 mins\n",
      "Scheduling recovery actions completed in 0.03167119899999982 seconds\n"
     ]
    }
   ],
   "source": [
    "bf_simulation.network_recovery.schedule_recovery(repair_order)"
   ]
  },
  {
   "cell_type": "code",
   "execution_count": 15,
   "metadata": {},
   "outputs": [],
   "source": [
    "#bf_simulation.network_recovery.event_table.to_csv(\"event_tbl.csv\", sep = \"\\t\", index = False)\n",
    "bf_simulation.expand_event_table()"
   ]
  },
  {
   "cell_type": "markdown",
   "metadata": {},
   "source": [
    "### (e) Simulation of interdependent effects"
   ]
  },
  {
   "cell_type": "code",
   "execution_count": 16,
   "metadata": {},
   "outputs": [
    {
     "name": "stderr",
     "output_type": "stream",
     "text": [
      "numba cannot be imported and numba functions are disabled.\n",
      "Probably the execution is slow.\n",
      "Please install numba to gain a massive speedup.\n",
      "(or if you prefer slow execution, set the flag numba=False to avoid this warning!)\n",
      "\n"
     ]
    },
    {
     "name": "stdout",
     "output_type": "stream",
     "text": [
      "Time instances for which simulations will be performed:\n",
      " [60, 180, 1020, 1260, 1500, 5700, 5820, 5940, 7020, 18900, 19020, 19140, 22740, 22860, 22980, 28500, 28620]\n",
      "Simulating network conditions at 60/28620 s...\n",
      "Simulation time:  60.0 ; Hydraulic time step:  60 ; Report time step:  60\n",
      "Updating status of directly affected components between 60.0 and 180.0...\n"
     ]
    },
    {
     "name": "stderr",
     "output_type": "stream",
     "text": [
      "numba cannot be imported and numba functions are disabled.\n",
      "Probably the execution is slow.\n",
      "Please install numba to gain a massive speedup.\n",
      "(or if you prefer slow execution, set the flag numba=False to avoid this warning!)\n",
      "\n"
     ]
    },
    {
     "name": "stdout",
     "output_type": "stream",
     "text": [
      "******************\n",
      "\n",
      "Simulating network conditions at 180/28620 s...\n",
      "Simulation time:  180.0 ; Hydraulic time step:  60 ; Report time step:  60\n",
      "Updating status of directly affected components between 180.0 and 1020.0...\n"
     ]
    },
    {
     "name": "stderr",
     "output_type": "stream",
     "text": [
      "numba cannot be imported and numba functions are disabled.\n",
      "Probably the execution is slow.\n",
      "Please install numba to gain a massive speedup.\n",
      "(or if you prefer slow execution, set the flag numba=False to avoid this warning!)\n",
      "\n"
     ]
    },
    {
     "name": "stdout",
     "output_type": "stream",
     "text": [
      "The weighted AUC value based on ECS is 0.002\n",
      "The weighted AUC value based on PCS is 0.0005\n",
      "******************\n",
      "\n",
      "Simulating network conditions at 1020/28620 s...\n",
      "Simulation time:  1020.0 ; Hydraulic time step:  60 ; Report time step:  60\n",
      "Updating status of directly affected components between 1020.0 and 1260.0...\n"
     ]
    },
    {
     "name": "stderr",
     "output_type": "stream",
     "text": [
      "numba cannot be imported and numba functions are disabled.\n",
      "Probably the execution is slow.\n",
      "Please install numba to gain a massive speedup.\n",
      "(or if you prefer slow execution, set the flag numba=False to avoid this warning!)\n",
      "\n"
     ]
    },
    {
     "name": "stdout",
     "output_type": "stream",
     "text": [
      "The weighted AUC value based on ECS is 0.031\n",
      "The weighted AUC value based on PCS is 0.0045\n",
      "******************\n",
      "\n",
      "Simulating network conditions at 1260/28620 s...\n",
      "Simulation time:  1260.0 ; Hydraulic time step:  60 ; Report time step:  60\n",
      "Updating status of directly affected components between 1260.0 and 1500.0...\n"
     ]
    },
    {
     "name": "stderr",
     "output_type": "stream",
     "text": [
      "numba cannot be imported and numba functions are disabled.\n",
      "Probably the execution is slow.\n",
      "Please install numba to gain a massive speedup.\n",
      "(or if you prefer slow execution, set the flag numba=False to avoid this warning!)\n",
      "\n"
     ]
    },
    {
     "name": "stdout",
     "output_type": "stream",
     "text": [
      "The weighted AUC value based on ECS is 0.0395\n",
      "The weighted AUC value based on PCS is 0.006\n",
      "******************\n",
      "\n",
      "Simulating network conditions at 1500/28620 s...\n",
      "Simulation time:  1500.0 ; Hydraulic time step:  60 ; Report time step:  60\n",
      "Updating status of directly affected components between 1500.0 and 5700.0...\n"
     ]
    },
    {
     "name": "stderr",
     "output_type": "stream",
     "text": [
      "numba cannot be imported and numba functions are disabled.\n",
      "Probably the execution is slow.\n",
      "Please install numba to gain a massive speedup.\n",
      "(or if you prefer slow execution, set the flag numba=False to avoid this warning!)\n",
      "\n"
     ]
    },
    {
     "name": "stdout",
     "output_type": "stream",
     "text": [
      "The weighted AUC value based on ECS is 0.048\n",
      "The weighted AUC value based on PCS is 0.007\n",
      "******************\n",
      "\n",
      "Simulating network conditions at 5700/28620 s...\n",
      "Simulation time:  5700.0 ; Hydraulic time step:  60 ; Report time step:  60\n",
      "Updating status of directly affected components between 5700.0 and 5820.0...\n"
     ]
    },
    {
     "name": "stderr",
     "output_type": "stream",
     "text": [
      "numba cannot be imported and numba functions are disabled.\n",
      "Probably the execution is slow.\n",
      "Please install numba to gain a massive speedup.\n",
      "(or if you prefer slow execution, set the flag numba=False to avoid this warning!)\n",
      "\n"
     ]
    },
    {
     "name": "stdout",
     "output_type": "stream",
     "text": [
      "The weighted AUC value based on ECS is 0.2\n",
      "The weighted AUC value based on PCS is 0.0345\n",
      "******************\n",
      "\n",
      "Simulating network conditions at 5820/28620 s...\n",
      "Simulation time:  5820.0 ; Hydraulic time step:  60 ; Report time step:  60\n",
      "Updating status of directly affected components between 5820.0 and 5940.0...\n"
     ]
    },
    {
     "name": "stderr",
     "output_type": "stream",
     "text": [
      "numba cannot be imported and numba functions are disabled.\n",
      "Probably the execution is slow.\n",
      "Please install numba to gain a massive speedup.\n",
      "(or if you prefer slow execution, set the flag numba=False to avoid this warning!)\n",
      "\n"
     ]
    },
    {
     "name": "stdout",
     "output_type": "stream",
     "text": [
      "The weighted AUC value based on ECS is 0.20900000000000002\n",
      "The weighted AUC value based on PCS is 0.0395\n",
      "******************\n",
      "\n",
      "Simulating network conditions at 5940/28620 s...\n",
      "Simulation time:  5940.0 ; Hydraulic time step:  60 ; Report time step:  60\n",
      "Updating status of directly affected components between 5940.0 and 7020.0...\n"
     ]
    },
    {
     "name": "stderr",
     "output_type": "stream",
     "text": [
      "numba cannot be imported and numba functions are disabled.\n",
      "Probably the execution is slow.\n",
      "Please install numba to gain a massive speedup.\n",
      "(or if you prefer slow execution, set the flag numba=False to avoid this warning!)\n",
      "\n"
     ]
    },
    {
     "name": "stdout",
     "output_type": "stream",
     "text": [
      "The weighted AUC value based on ECS is 0.21750000000000003\n",
      "The weighted AUC value based on PCS is 0.045\n",
      "******************\n",
      "\n",
      "Simulating network conditions at 7020/28620 s...\n",
      "Simulation time:  7020.0 ; Hydraulic time step:  60 ; Report time step:  60\n",
      "Updating status of directly affected components between 7020.0 and 18900.0...\n"
     ]
    },
    {
     "name": "stderr",
     "output_type": "stream",
     "text": [
      "numba cannot be imported and numba functions are disabled.\n",
      "Probably the execution is slow.\n",
      "Please install numba to gain a massive speedup.\n",
      "(or if you prefer slow execution, set the flag numba=False to avoid this warning!)\n",
      "\n"
     ]
    },
    {
     "name": "stdout",
     "output_type": "stream",
     "text": [
      "The weighted AUC value based on ECS is 0.2945\n",
      "The weighted AUC value based on PCS is 0.0885\n",
      "******************\n",
      "\n",
      "Simulating network conditions at 18900/28620 s...\n",
      "Simulation time:  18900.0 ; Hydraulic time step:  60 ; Report time step:  60\n",
      "Updating status of directly affected components between 18900.0 and 19020.0...\n",
      "The weighted AUC value based on ECS is 0.7070000000000001\n",
      "The weighted AUC value based on PCS is 0.1495\n",
      "******************\n",
      "\n",
      "Simulating network conditions at 19020/28620 s...\n",
      "Simulation time:  19020.0 ; Hydraulic time step:  60 ; Report time step:  60\n",
      "Updating status of directly affected components between 19020.0 and 19140.0...\n"
     ]
    },
    {
     "name": "stderr",
     "output_type": "stream",
     "text": [
      "numba cannot be imported and numba functions are disabled.\n",
      "Probably the execution is slow.\n",
      "Please install numba to gain a massive speedup.\n",
      "(or if you prefer slow execution, set the flag numba=False to avoid this warning!)\n",
      "\n",
      "numba cannot be imported and numba functions are disabled.\n",
      "Probably the execution is slow.\n",
      "Please install numba to gain a massive speedup.\n",
      "(or if you prefer slow execution, set the flag numba=False to avoid this warning!)\n",
      "\n",
      "numba cannot be imported and numba functions are disabled.\n",
      "Probably the execution is slow.\n",
      "Please install numba to gain a massive speedup.\n",
      "(or if you prefer slow execution, set the flag numba=False to avoid this warning!)\n",
      "\n"
     ]
    },
    {
     "name": "stdout",
     "output_type": "stream",
     "text": [
      "The weighted AUC value based on ECS is 0.7090000000000001\n",
      "The weighted AUC value based on PCS is 0.1495\n",
      "******************\n",
      "\n",
      "Simulating network conditions at 19140/28620 s...\n",
      "Simulation time:  19140.0 ; Hydraulic time step:  60 ; Report time step:  60\n",
      "Updating status of directly affected components between 19140.0 and 22740.0...\n",
      "The weighted AUC value based on ECS is 0.7090000000000001\n",
      "The weighted AUC value based on PCS is 0.1495\n",
      "******************\n",
      "\n",
      "Simulating network conditions at 22740/28620 s...\n",
      "Simulation time:  22740.0 ; Hydraulic time step:  60 ; Report time step:  60\n",
      "Updating status of directly affected components between 22740.0 and 22860.0...\n",
      "The weighted AUC value based on ECS is 0.7090000000000001\n",
      "The weighted AUC value based on PCS is 0.1495\n",
      "Simulation completed in 1 s\n"
     ]
    }
   ],
   "source": [
    "resilience_metrics = bf_simulation.simulate_interdependent_effects(\n",
    "    bf_simulation.network_recovery)"
   ]
  },
  {
   "cell_type": "code",
   "execution_count": 17,
   "metadata": {},
   "outputs": [
    {
     "name": "stdout",
     "output_type": "stream",
     "text": [
      "The simulation results successfully saved to ../../infrarisk/data/networks/in2/scenarios/test1/capacity\n"
     ]
    }
   ],
   "source": [
    "strategy = 'capacity'\n",
    "bf_simulation.write_results(f\"{MAIN_DIR}/{network_dir}/{scenario_folder}/{strategy}\", \n",
    "                            resilience_metrics)"
   ]
  },
  {
   "cell_type": "markdown",
   "metadata": {},
   "source": [
    "### (f) Calculation of resilience metric"
   ]
  },
  {
   "cell_type": "code",
   "execution_count": 18,
   "metadata": {},
   "outputs": [],
   "source": [
    "resilience_metrics.calculate_power_resmetric(network_recovery)"
   ]
  },
  {
   "cell_type": "code",
   "execution_count": 19,
   "metadata": {},
   "outputs": [],
   "source": [
    "resilience_metrics.calculate_water_resmetrics(network_recovery)"
   ]
  },
  {
   "cell_type": "code",
   "execution_count": 20,
   "metadata": {},
   "outputs": [
    {
     "name": "stdout",
     "output_type": "stream",
     "text": [
      "The weighted AUC value based on ECS is 0.7090000000000001\n",
      "The weighted AUC value based on PCS is 0.1495\n"
     ]
    }
   ],
   "source": [
    "resilience_metrics.set_weighted_auc_metrics()"
   ]
  },
  {
   "cell_type": "markdown",
   "metadata": {},
   "source": [
    "# Plot network performance during the disruption"
   ]
  },
  {
   "cell_type": "markdown",
   "metadata": {},
   "source": [
    "### Overall system performance considering indirect effects"
   ]
  },
  {
   "cell_type": "code",
   "execution_count": 21,
   "metadata": {},
   "outputs": [
    {
     "data": {
      "image/png": "[encoded data removed]",
      "text/plain": [
       "<Figure size 700x500 with 1 Axes>"
      ]
     },
     "metadata": {},
     "output_type": "display_data"
    }
   ],
   "source": [
    "model_plots.plot_interdependent_effects(resilience_metrics, metric = 'pcs', title = False)"
   ]
  },
  {
   "cell_type": "code",
   "execution_count": 22,
   "metadata": {},
   "outputs": [
    {
     "name": "stdout",
     "output_type": "stream",
     "text": [
      "{'power': ['P_L5'], 'water': ['W_P21', 'W_WP9'], 'transpo': []}\n"
     ]
    },
    {
     "name": "stderr",
     "output_type": "stream",
     "text": [
      "BokehDeprecationWarning: 'get_provider' was deprecated in Bokeh 3.0.0 and will be removed, use 'add_tile directly' instead.\n"
     ]
    },
    {
     "data": {
      "text/html": [
       "    <style>\n",
       "        .bk-notebook-logo {\n",
       "            display: block;\n",
       "            width: 20px;\n",
       "            height: 20px;\n",
       "            background-image: url(data:image/png;base64,iVBORw0KGgoAAAANSUhEUgAAABQAAAAUCAYAAACNiR0NAAAABHNCSVQICAgIfAhkiAAAAAlwSFlzAAALEgAACxIB0t1+/AAAABx0RVh0U29mdHdhcmUAQWRvYmUgRmlyZXdvcmtzIENTNui8sowAAAOkSURBVDiNjZRtaJVlGMd/1/08zzln5zjP1LWcU9N0NkN8m2CYjpgQYQXqSs0I84OLIC0hkEKoPtiH3gmKoiJDU7QpLgoLjLIQCpEsNJ1vqUOdO7ppbuec5+V+rj4ctwzd8IIbbi6u+8f1539dt3A78eXC7QizUF7gyV1fD1Yqg4JWz84yffhm0qkFqBogB9rM8tZdtwVsPUhWhGcFJngGeWrPzHm5oaMmkfEg1usvLFyc8jLRqDOMru7AyC8saQr7GG7f5fvDeH7Ej8CM66nIF+8yngt6HWaKh7k49Soy9nXurCi1o3qUbS3zWfrYeQDTB/Qj6kX6Ybhw4B+bOYoLKCC9H3Nu/leUTZ1JdRWkkn2ldcCamzrcf47KKXdAJllSlxAOkRgyHsGC/zRday5Qld9DyoM4/q/rUoy/CXh3jzOu3bHUVZeU+DEn8FInkPBFlu3+nW3Nw0mk6vCDiWg8CeJaxEwuHS3+z5RgY+YBR6V1Z1nxSOfoaPa4LASWxxdNp+VWTk7+4vzaou8v8PN+xo+KY2xsw6une2frhw05CTYOmQvsEhjhWjn0bmXPjpE1+kplmmkP3suftwTubK9Vq22qKmrBhpY4jvd5afdRA3wGjFAgcnTK2s4hY0/GPNIb0nErGMCRxWOOX64Z8RAC4oCXdklmEvcL8o0BfkNK4lUg9HTl+oPlQxdNo3Mg4Nv175e/1LDGzZen30MEjRUtmXSfiTVu1kK8W4txyV6BMKlbgk3lMwYCiusNy9fVfvvwMxv8Ynl6vxoByANLTWplvuj/nF9m2+PDtt1eiHPBr1oIfhCChQMBw6Aw0UulqTKZdfVvfG7VcfIqLG9bcldL/+pdWTLxLUy8Qq38heUIjh4XlzZxzQm19lLFlr8vdQ97rjZVOLf8nclzckbcD4wxXMidpX30sFd37Fv/GtwwhzhxGVAprjbg0gCAEeIgwCZyTV2Z1REEW8O4py0wsjeloKoMr6iCY6dP92H6Vw/oTyICIthibxjm/DfN9lVz8IqtqKYLUXfoKVMVQVVJOElGjrnnUt9T9wbgp8AyYKaGlqingHZU/uG2NTZSVqwHQTWkx9hxjkpWDaCg6Ckj5qebgBVbT3V3NNXMSiWSDdGV3hrtzla7J+duwPOToIg42ChPQOQjspnSlp1V+Gjdged7+8UN5CRAV7a5EdFNwCjEaBR27b3W890TE7g24NAP/mMDXRWrGoFPQI9ls/MWO2dWFAar/xcOIImbbpA3zgAAAABJRU5ErkJggg==);\n",
       "        }\n",
       "    </style>\n",
       "    <div>\n",
       "        <a href=\"https://bokeh.org\" target=\"_blank\" class=\"bk-notebook-logo\"></a>\n",
       "        <span id=\"df7dd110-fbe2-45cb-b790-bb5140ab076f\">Loading BokehJS ...</span>\n",
       "    </div>\n"
      ]
     },
     "metadata": {},
     "output_type": "display_data"
    },
    {
     "data": {
      "application/javascript": "(function(root) {\n  function now() {\n    return new Date();\n  }\n\n  const force = true;\n\n  if (typeof root._bokeh_onload_callbacks === \"undefined\" || force === true) {\n    root._bokeh_onload_callbacks = [];\n    root._bokeh_is_loading = undefined;\n  }\n\nconst JS_MIME_TYPE = 'application/javascript';\n  const HTML_MIME_TYPE = 'text/html';\n  const EXEC_MIME_TYPE = 'application/vnd.bokehjs_exec.v0+json';\n  const CLASS_NAME = 'output_bokeh rendered_html';\n\n  /**\n   * Render data to the DOM node\n   */\n  function render(props, node) {\n    const script = document.createElement(\"script\");\n    node.appendChild(script);\n  }\n\n  /**\n   * Handle when an output is cleared or removed\n   */\n  function handleClearOutput(event, handle) {\n    function drop(id) {\n      const view = Bokeh.index.get_by_id(id)\n      if (view != null) {\n        view.model.document.clear()\n        Bokeh.index.delete(view)\n      }\n    }\n\n    const cell = handle.cell;\n\n    const id = cell.output_area._bokeh_element_id;\n    const server_id = cell.output_area._bokeh_server_id;\n\n    // Clean up Bokeh references\n    if (id != null) {\n      drop(id)\n    }\n\n    if (server_id !== undefined) {\n      // Clean up Bokeh references\n      const cmd_clean = \"from bokeh.io.state import curstate; print(curstate().uuid_to_server['\" + server_id + \"'].get_sessions()[0].document.roots[0]._id)\";\n      cell.notebook.kernel.execute(cmd_clean, {\n        iopub: {\n          output: function(msg) {\n            const id = msg.content.text.trim()\n            drop(id)\n          }\n        }\n      });\n      // Destroy server and session\n      const cmd_destroy = \"import bokeh.io.notebook as ion; ion.destroy_server('\" + server_id + \"')\";\n      cell.notebook.kernel.execute(cmd_destroy);\n    }\n  }\n\n  /**\n   * Handle when a new output is added\n   */\n  function handleAddOutput(event, handle) {\n    const output_area = handle.output_area;\n    const output = handle.output;\n\n    // limit handleAddOutput to display_data with EXEC_MIME_TYPE content only\n    if ((output.output_type != \"display_data\") || (!Object.prototype.hasOwnProperty.call(output.data, EXEC_MIME_TYPE))) {\n      return\n    }\n\n    const toinsert = output_area.element.find(\".\" + CLASS_NAME.split(' ')[0]);\n\n    if (output.metadata[EXEC_MIME_TYPE][\"id\"] !== undefined) {\n      toinsert[toinsert.length - 1].firstChild.textContent = output.data[JS_MIME_TYPE];\n      // store reference to embed id on output_area\n      output_area._bokeh_element_id = output.metadata[EXEC_MIME_TYPE][\"id\"];\n    }\n    if (output.metadata[EXEC_MIME_TYPE][\"server_id\"] !== undefined) {\n      const bk_div = document.createElement(\"div\");\n      bk_div.innerHTML = output.data[HTML_MIME_TYPE];\n      const script_attrs = bk_div.children[0].attributes;\n      for (let i = 0; i < script_attrs.length; i++) {\n        toinsert[toinsert.length - 1].firstChild.setAttribute(script_attrs[i].name, script_attrs[i].value);\n        toinsert[toinsert.length - 1].firstChild.textContent = bk_div.children[0].textContent\n      }\n      // store reference to server id on output_area\n      output_area._bokeh_server_id = output.metadata[EXEC_MIME_TYPE][\"server_id\"];\n    }\n  }\n\n  function register_renderer(events, OutputArea) {\n\n    function append_mime(data, metadata, element) {\n      // create a DOM node to render to\n      const toinsert = this.create_output_subarea(\n        metadata,\n        CLASS_NAME,\n        EXEC_MIME_TYPE\n      );\n      this.keyboard_manager.register_events(toinsert);\n      // Render to node\n      const props = {data: data, metadata: metadata[EXEC_MIME_TYPE]};\n      render(props, toinsert[toinsert.length - 1]);\n      element.append(toinsert);\n      return toinsert\n    }\n\n    /* Handle when an output is cleared or removed */\n    events.on('clear_output.CodeCell', handleClearOutput);\n    events.on('delete.Cell', handleClearOutput);\n\n    /* Handle when a new output is added */\n    events.on('output_added.OutputArea', handleAddOutput);\n\n    /**\n     * Register the mime type and append_mime function with output_area\n     */\n    OutputArea.prototype.register_mime_type(EXEC_MIME_TYPE, append_mime, {\n      /* Is output safe? */\n      safe: true,\n      /* Index of renderer in `output_area.display_order` */\n      index: 0\n    });\n  }\n\n  // register the mime type if in Jupyter Notebook environment and previously unregistered\n  if (root.Jupyter !== undefined) {\n    const events = require('base/js/events');\n    const OutputArea = require('notebook/js/outputarea').OutputArea;\n\n    if (OutputArea.prototype.mime_types().indexOf(EXEC_MIME_TYPE) == -1) {\n      register_renderer(events, OutputArea);\n    }\n  }\n  if (typeof (root._bokeh_timeout) === \"undefined\" || force === true) {\n    root._bokeh_timeout = Date.now() + 5000;\n    root._bokeh_failed_load = false;\n  }\n\n  const NB_LOAD_WARNING = {'data': {'text/html':\n     \"<div style='background-color: #fdd'>\\n\"+\n     \"<p>\\n\"+\n     \"BokehJS does not appear to have successfully loaded. If loading BokehJS from CDN, this \\n\"+\n     \"may be due to a slow or bad network connection. Possible fixes:\\n\"+\n     \"</p>\\n\"+\n     \"<ul>\\n\"+\n     \"<li>re-rerun `output_notebook()` to attempt to load from CDN again, or</li>\\n\"+\n     \"<li>use INLINE resources instead, as so:</li>\\n\"+\n     \"</ul>\\n\"+\n     \"<code>\\n\"+\n     \"from bokeh.resources import INLINE\\n\"+\n     \"output_notebook(resources=INLINE)\\n\"+\n     \"</code>\\n\"+\n     \"</div>\"}};\n\n  function display_loaded() {\n    const el = document.getElementById(\"df7dd110-fbe2-45cb-b790-bb5140ab076f\");\n    if (el != null) {\n      el.textContent = \"BokehJS is loading...\";\n    }\n    if (root.Bokeh !== undefined) {\n      if (el != null) {\n        el.textContent = \"BokehJS \" + root.Bokeh.version + \" successfully loaded.\";\n      }\n    } else if (Date.now() < root._bokeh_timeout) {\n      setTimeout(display_loaded, 100)\n    }\n  }\n\n  function run_callbacks() {\n    try {\n      root._bokeh_onload_callbacks.forEach(function(callback) {\n        if (callback != null)\n          callback();\n      });\n    } finally {\n      delete root._bokeh_onload_callbacks\n    }\n    console.debug(\"Bokeh: all callbacks have finished\");\n  }\n\n  function load_libs(css_urls, js_urls, callback) {\n    if (css_urls == null) css_urls = [];\n    if (js_urls == null) js_urls = [];\n\n    root._bokeh_onload_callbacks.push(callback);\n    if (root._bokeh_is_loading > 0) {\n      console.debug(\"Bokeh: BokehJS is being loaded, scheduling callback at\", now());\n      return null;\n    }\n    if (js_urls == null || js_urls.length === 0) {\n      run_callbacks();\n      return null;\n    }\n    console.debug(\"Bokeh: BokehJS not loaded, scheduling load and callback at\", now());\n    root._bokeh_is_loading = css_urls.length + js_urls.length;\n\n    function on_load() {\n      root._bokeh_is_loading--;\n      if (root._bokeh_is_loading === 0) {\n        console.debug(\"Bokeh: all BokehJS libraries/stylesheets loaded\");\n        run_callbacks()\n      }\n    }\n\n    function on_error(url) {\n      console.error(\"failed to load \" + url);\n    }\n\n    for (let i = 0; i < css_urls.length; i++) {\n      const url = css_urls[i];\n      const element = document.createElement(\"link\");\n      element.onload = on_load;\n      element.onerror = on_error.bind(null, url);\n      element.rel = \"stylesheet\";\n      element.type = \"text/css\";\n      element.href = url;\n      console.debug(\"Bokeh: injecting link tag for BokehJS stylesheet: \", url);\n      document.body.appendChild(element);\n    }\n\n    for (let i = 0; i < js_urls.length; i++) {\n      const url = js_urls[i];\n      const element = document.createElement('script');\n      element.onload = on_load;\n      element.onerror = on_error.bind(null, url);\n      element.async = false;\n      element.src = url;\n      console.debug(\"Bokeh: injecting script tag for BokehJS library: \", url);\n      document.head.appendChild(element);\n    }\n  };\n\n  function inject_raw_css(css) {\n    const element = document.createElement(\"style\");\n    element.appendChild(document.createTextNode(css));\n    document.body.appendChild(element);\n  }\n\n  const js_urls = [\"https://cdn.bokeh.org/bokeh/release/bokeh-3.3.3.min.js\", \"https://cdn.bokeh.org/bokeh/release/bokeh-gl-3.3.3.min.js\", \"https://cdn.bokeh.org/bokeh/release/bokeh-widgets-3.3.3.min.js\", \"https://cdn.bokeh.org/bokeh/release/bokeh-tables-3.3.3.min.js\", \"https://cdn.bokeh.org/bokeh/release/bokeh-mathjax-3.3.3.min.js\"];\n  const css_urls = [];\n\n  const inline_js = [    function(Bokeh) {\n      Bokeh.set_log_level(\"info\");\n    },\nfunction(Bokeh) {\n    }\n  ];\n\n  function run_inline_js() {\n    if (root.Bokeh !== undefined || force === true) {\n          for (let i = 0; i < inline_js.length; i++) {\n      inline_js[i].call(root, root.Bokeh);\n    }\nif (force === true) {\n        display_loaded();\n      }} else if (Date.now() < root._bokeh_timeout) {\n      setTimeout(run_inline_js, 100);\n    } else if (!root._bokeh_failed_load) {\n      console.log(\"Bokeh: BokehJS failed to load within specified timeout.\");\n      root._bokeh_failed_load = true;\n    } else if (force !== true) {\n      const cell = $(document.getElementById(\"df7dd110-fbe2-45cb-b790-bb5140ab076f\")).parents('.cell').data().cell;\n      cell.output_area.append_execute_result(NB_LOAD_WARNING)\n    }\n  }\n\n  if (root._bokeh_is_loading === 0) {\n    console.debug(\"Bokeh: BokehJS loaded, going straight to plotting\");\n    run_inline_js();\n  } else {\n    load_libs(css_urls, js_urls, function() {\n      console.debug(\"Bokeh: BokehJS plotting callback run at\", now());\n      run_inline_js();\n    });\n  }\n}(window));",
      "application/vnd.bokehjs_load.v0+json": ""
     },
     "metadata": {},
     "output_type": "display_data"
    },
    {
     "data": {
      "text/html": [
       "\n",
       "  <div id=\"fbb9e55e-d7f8-48be-b86d-2e4c75059294\" data-root-id=\"p1093\" style=\"display: contents;\"></div>\n"
      ]
     },
     "metadata": {},
     "output_type": "display_data"
    },
    {
     "data": {
      "application/javascript": "(function(root) {\n  function embed_document(root) {\n  const docs_json = {\"b078d423-b360-4c69-8713-e48502803752\":{\"version\":\"3.3.3\",\"title\":\"Bokeh Application\",\"roots\":[{\"type\":\"object\",\"name\":\"Figure\",\"id\":\"p1093\",\"attributes\":{\"width\":800,\"height\":450,\"x_range\":{\"type\":\"object\",\"name\":\"DataRange1d\",\"id\":\"p1094\"},\"y_range\":{\"type\":\"object\",\"name\":\"DataRange1d\",\"id\":\"p1095\"},\"x_scale\":{\"type\":\"object\",\"name\":\"LinearScale\",\"id\":\"p1102\"},\"y_scale\":{\"type\":\"object\",\"name\":\"LinearScale\",\"id\":\"p1103\"},\"title\":{\"type\":\"object\",\"name\":\"Title\",\"id\":\"p1100\"},\"renderers\":[{\"type\":\"object\",\"name\":\"GlyphRenderer\",\"id\":\"p1136\",\"attributes\":{\"data_source\":{\"type\":\"object\",\"name\":\"ColumnDataSource\",\"id\":\"p1126\",\"attributes\":{\"selected\":{\"type\":\"object\",\"name\":\"Selection\",\"id\":\"p1127\",\"attributes\":{\"indices\":[],\"line_indices\":[]}},\"selection_policy\":{\"type\":\"object\",\"name\":\"UnionRenderers\",\"id\":\"p1128\"},\"data\":{\"type\":\"map\",\"entries\":[[\"x\",[0,300,600,0,300,600,0,300,600,400.0,400.0,400.0,400.0,100.0,200.0,200.0,200.0,100.0,200.0,300.0,500.0,700.0,300.0,500.0,700.0,300.0,500.0,500.0,100.0]],[\"y\",[700,700,700,325,325,325,0,0,0,550.0,275.0,225.0,0.0,0.0,550.0,350.0,250.0,250.0,700.0,700.0,700.0,700.0,400.0,400.0,400.0,100.0,100.0,900.0,700.0]],[\"node_type\",[\"transpo\",\"transpo\",\"transpo\",\"transpo\",\"transpo\",\"transpo\",\"transpo\",\"transpo\",\"transpo\",\"power\",\"power\",\"power\",\"power\",\"power\",\"power\",\"power\",\"power\",\"power\",\"water\",\"water\",\"water\",\"water\",\"water\",\"water\",\"water\",\"water\",\"water\",\"water\",\"water\"]],[\"node_category\",[\"Junction\",\"Junction\",\"Junction\",\"Junction\",\"Junction\",\"Junction\",\"Junction\",\"Junction\",\"Junction\",\"Bus\",\"Bus\",\"Bus\",\"Bus\",\"Bus\",\"Bus\",\"Bus\",\"Bus\",\"Bus\",\"Junction\",\"Junction\",\"Junction\",\"Junction\",\"Junction\",\"Junction\",\"Junction\",\"Junction\",\"Junction\",\"Tank\",\"Reservoir\"]],[\"fail_status\",[\"Functional\",\"Functional\",\"Functional\",\"Functional\",\"Functional\",\"Functional\",\"Functional\",\"Functional\",\"Functional\",\"Functional\",\"Functional\",\"Functional\",\"Functional\",\"Functional\",\"Functional\",\"Functional\",\"Functional\",\"Functional\",\"Functional\",\"Functional\",\"Functional\",\"Functional\",\"Functional\",\"Functional\",\"Functional\",\"Functional\",\"Functional\",\"Functional\",\"Functional\"]],[\"id\",[\"T_J1\",\"T_J2\",\"T_J3\",\"T_J4\",\"T_J5\",\"T_J6\",\"T_J7\",\"T_J8\",\"T_J9\",\"P_B1\",\"P_B2\",\"P_B3\",\"P_B4\",\"P_B5\",\"P_B6\",\"P_B7\",\"P_B9\",\"P_B8\",\"W_J10\",\"W_J11\",\"W_J12\",\"W_J13\",\"W_J21\",\"W_J22\",\"W_J23\",\"W_J31\",\"W_J32\",\"W_T2\",\"W_R9\"]]]}}},\"view\":{\"type\":\"object\",\"name\":\"CDSView\",\"id\":\"p1137\",\"attributes\":{\"filter\":{\"type\":\"object\",\"name\":\"AllIndices\",\"id\":\"p1138\"}}},\"glyph\":{\"type\":\"object\",\"name\":\"Scatter\",\"id\":\"p1133\",\"attributes\":{\"x\":{\"type\":\"field\",\"field\":\"x\"},\"y\":{\"type\":\"field\",\"field\":\"y\"},\"size\":{\"type\":\"value\",\"value\":3},\"line_color\":{\"type\":\"field\",\"field\":\"fail_status\",\"transform\":{\"type\":\"object\",\"name\":\"CategoricalColorMapper\",\"id\":\"p1129\",\"attributes\":{\"palette\":[\"#66bd63\",\"#d73027\"],\"factors\":{\"type\":\"ndarray\",\"array\":[\"Functional\",\"Disrupted\"],\"shape\":[2],\"dtype\":\"object\",\"order\":\"little\"}}}},\"line_alpha\":{\"type\":\"value\",\"value\":0.7},\"fill_color\":{\"type\":\"field\",\"field\":\"fail_status\",\"transform\":{\"id\":\"p1129\"}},\"fill_alpha\":{\"type\":\"value\",\"value\":0.7},\"hatch_color\":{\"type\":\"field\",\"field\":\"fail_status\",\"transform\":{\"id\":\"p1129\"}},\"hatch_alpha\":{\"type\":\"value\",\"value\":0.7},\"marker\":{\"type\":\"value\",\"value\":\"square\"}}},\"nonselection_glyph\":{\"type\":\"object\",\"name\":\"Scatter\",\"id\":\"p1134\",\"attributes\":{\"x\":{\"type\":\"field\",\"field\":\"x\"},\"y\":{\"type\":\"field\",\"field\":\"y\"},\"size\":{\"type\":\"value\",\"value\":3},\"line_color\":{\"type\":\"field\",\"field\":\"fail_status\",\"transform\":{\"id\":\"p1129\"}},\"line_alpha\":{\"type\":\"value\",\"value\":0.1},\"fill_color\":{\"type\":\"field\",\"field\":\"fail_status\",\"transform\":{\"id\":\"p1129\"}},\"fill_alpha\":{\"type\":\"value\",\"value\":0.1},\"hatch_color\":{\"type\":\"field\",\"field\":\"fail_status\",\"transform\":{\"id\":\"p1129\"}},\"hatch_alpha\":{\"type\":\"value\",\"value\":0.1},\"marker\":{\"type\":\"value\",\"value\":\"square\"}}},\"muted_glyph\":{\"type\":\"object\",\"name\":\"Scatter\",\"id\":\"p1135\",\"attributes\":{\"x\":{\"type\":\"field\",\"field\":\"x\"},\"y\":{\"type\":\"field\",\"field\":\"y\"},\"size\":{\"type\":\"value\",\"value\":3},\"line_color\":{\"type\":\"field\",\"field\":\"fail_status\",\"transform\":{\"id\":\"p1129\"}},\"line_alpha\":{\"type\":\"value\",\"value\":0.2},\"fill_color\":{\"type\":\"field\",\"field\":\"fail_status\",\"transform\":{\"id\":\"p1129\"}},\"fill_alpha\":{\"type\":\"value\",\"value\":0.2},\"hatch_color\":{\"type\":\"field\",\"field\":\"fail_status\",\"transform\":{\"id\":\"p1129\"}},\"hatch_alpha\":{\"type\":\"value\",\"value\":0.2},\"marker\":{\"type\":\"value\",\"value\":\"square\"}}}}},{\"type\":\"object\",\"name\":\"GlyphRenderer\",\"id\":\"p1149\",\"attributes\":{\"data_source\":{\"type\":\"object\",\"name\":\"ColumnDataSource\",\"id\":\"p1139\",\"attributes\":{\"selected\":{\"type\":\"object\",\"name\":\"Selection\",\"id\":\"p1140\",\"attributes\":{\"indices\":[],\"line_indices\":[]}},\"selection_policy\":{\"type\":\"object\",\"name\":\"UnionRenderers\",\"id\":\"p1141\"},\"data\":{\"type\":\"map\",\"entries\":[[\"x\",[[0,300],[0,0],[300,600],[600,300],[0,300],[0,0],[300,600],[300,300],[600,600],[0,300],[300,600],[400.0,400.0],[400.0,200.0],[400.0,400.0],[400.0,400.0],[400.0,100.0],[200.0,200.0],[200.0,200.0],[200.0,100.0],[200.0,300.0],[200.0,100.0],[300.0,500.0],[300.0,300.0],[500.0,700.0],[500.0,500.0],[500.0,500.0],[700.0,700.0],[300.0,500.0],[300.0,300.0],[500.0,700.0],[500.0,500.0],[300.0,500.0]]],[\"y\",[[700,700],[700,325],[700,700],[700,325],[325,325],[325,0],[325,325],[325,0],[325,0],[0,0],[0,0],[550.0,275.0],[550.0,550.0],[275.0,225.0],[225.0,0.0],[0.0,0.0],[550.0,350.0],[350.0,250.0],[250.0,250.0],[700.0,700.0],[700.0,700.0],[700.0,700.0],[700.0,400.0],[700.0,700.0],[700.0,900.0],[700.0,400.0],[700.0,400.0],[400.0,400.0],[400.0,100.0],[400.0,400.0],[400.0,100.0],[100.0,100.0]]],[\"link_layer\",[\"transpo\",\"transpo\",\"transpo\",\"transpo\",\"transpo\",\"transpo\",\"transpo\",\"transpo\",\"transpo\",\"transpo\",\"transpo\",\"power\",\"power\",\"power\",\"power\",\"power\",\"power\",\"power\",\"power\",\"water\",\"water\",\"water\",\"water\",\"water\",\"water\",\"water\",\"water\",\"water\",\"water\",\"water\",\"water\",\"water\"]],[\"link_category\",[\"Road link\",\"Road link\",\"Road link\",\"Road link\",\"Road link\",\"Road link\",\"Road link\",\"Road link\",\"Road link\",\"Road link\",\"Road link\",\"Power line\",\"Power line\",\"Transformer\",\"Power line\",\"Power line\",\"Power line\",\"Switch\",\"Transformer\",\"Water pipe\",\"Water pump\",\"Water pipe\",\"Water pipe\",\"Water pipe\",\"Water pipe\",\"Water pipe\",\"Water pipe\",\"Water pipe\",\"Water pipe\",\"Water pipe\",\"Water pipe\",\"Water pipe\"]],[\"fail_status\",[\"Functional\",\"Functional\",\"Functional\",\"Functional\",\"Functional\",\"Functional\",\"Functional\",\"Functional\",\"Functional\",\"Functional\",\"Functional\",\"Functional\",\"Functional\",\"Functional\",\"Functional\",\"Functional\",\"Disrupted\",\"Functional\",\"Functional\",\"Functional\",\"Disrupted\",\"Functional\",\"Functional\",\"Functional\",\"Functional\",\"Functional\",\"Functional\",\"Disrupted\",\"Functional\",\"Functional\",\"Functional\",\"Functional\"]],[\"id\",[\"T_L12\",\"T_L14\",\"T_L13\",\"T_L15\",\"T_L16\",\"T_L18\",\"T_L17\",\"T_L19\",\"T_L20\",\"T_L21\",\"T_L22\",\"P_L1\",\"P_L4\",\"P_TF2\",\"P_L2\",\"P_L3\",\"P_L5\",\"P_S1\",\"P_TF1\",\"W_P10\",\"W_WP9\",\"W_P11\",\"W_P111\",\"W_P12\",\"W_P110\",\"W_P112\",\"W_P113\",\"W_P21\",\"W_P121\",\"W_P22\",\"W_P122\",\"W_P31\"]]]}}},\"view\":{\"type\":\"object\",\"name\":\"CDSView\",\"id\":\"p1150\",\"attributes\":{\"filter\":{\"type\":\"object\",\"name\":\"AllIndices\",\"id\":\"p1151\"}}},\"glyph\":{\"type\":\"object\",\"name\":\"MultiLine\",\"id\":\"p1146\",\"attributes\":{\"xs\":{\"type\":\"field\",\"field\":\"x\"},\"ys\":{\"type\":\"field\",\"field\":\"y\"},\"line_color\":{\"type\":\"field\",\"field\":\"fail_status\",\"transform\":{\"type\":\"object\",\"name\":\"CategoricalColorMapper\",\"id\":\"p1142\",\"attributes\":{\"palette\":[\"#66bd63\",\"#d73027\"],\"factors\":{\"type\":\"ndarray\",\"array\":[\"Functional\",\"Disrupted\"],\"shape\":[2],\"dtype\":\"object\",\"order\":\"little\"}}}},\"line_width\":{\"type\":\"value\",\"value\":2}}},\"nonselection_glyph\":{\"type\":\"object\",\"name\":\"MultiLine\",\"id\":\"p1147\",\"attributes\":{\"xs\":{\"type\":\"field\",\"field\":\"x\"},\"ys\":{\"type\":\"field\",\"field\":\"y\"},\"line_color\":{\"type\":\"field\",\"field\":\"fail_status\",\"transform\":{\"id\":\"p1142\"}},\"line_alpha\":{\"type\":\"value\",\"value\":0.1},\"line_width\":{\"type\":\"value\",\"value\":2}}},\"muted_glyph\":{\"type\":\"object\",\"name\":\"MultiLine\",\"id\":\"p1148\",\"attributes\":{\"xs\":{\"type\":\"field\",\"field\":\"x\"},\"ys\":{\"type\":\"field\",\"field\":\"y\"},\"line_color\":{\"type\":\"field\",\"field\":\"fail_status\",\"transform\":{\"id\":\"p1142\"}},\"line_alpha\":{\"type\":\"value\",\"value\":0.2},\"line_width\":{\"type\":\"value\",\"value\":2}}}}},{\"type\":\"object\",\"name\":\"GlyphRenderer\",\"id\":\"p1164\",\"attributes\":{\"data_source\":{\"type\":\"object\",\"name\":\"ColumnDataSource\",\"id\":\"p1155\",\"attributes\":{\"selected\":{\"type\":\"object\",\"name\":\"Selection\",\"id\":\"p1156\",\"attributes\":{\"indices\":[],\"line_indices\":[]}},\"selection_policy\":{\"type\":\"object\",\"name\":\"UnionRenderers\",\"id\":\"p1157\"},\"data\":{\"type\":\"map\",\"entries\":[[\"x\",[280,320,340]],[\"y\",[-20,20,40]],[\"crew_type\",[\"Power crew\",\"Water crew\",\"Transportation crew\"]]]}}},\"view\":{\"type\":\"object\",\"name\":\"CDSView\",\"id\":\"p1165\",\"attributes\":{\"filter\":{\"type\":\"object\",\"name\":\"AllIndices\",\"id\":\"p1166\"}}},\"glyph\":{\"type\":\"object\",\"name\":\"Scatter\",\"id\":\"p1161\",\"attributes\":{\"x\":{\"type\":\"field\",\"field\":\"x\"},\"y\":{\"type\":\"field\",\"field\":\"y\"},\"size\":{\"type\":\"value\",\"value\":10},\"line_color\":{\"type\":\"field\",\"field\":\"crew_type\",\"transform\":{\"type\":\"object\",\"name\":\"CategoricalColorMapper\",\"id\":\"p1154\",\"attributes\":{\"palette\":[\"#440154\",\"#208F8C\",\"#FDE724\"],\"factors\":[\"Power crew\",\"Transportation crew\",\"Water crew\"]}}},\"fill_color\":{\"type\":\"field\",\"field\":\"crew_type\",\"transform\":{\"id\":\"p1154\"}},\"hatch_color\":{\"type\":\"field\",\"field\":\"crew_type\",\"transform\":{\"id\":\"p1154\"}},\"marker\":{\"type\":\"value\",\"value\":\"square\"}}},\"nonselection_glyph\":{\"type\":\"object\",\"name\":\"Scatter\",\"id\":\"p1162\",\"attributes\":{\"x\":{\"type\":\"field\",\"field\":\"x\"},\"y\":{\"type\":\"field\",\"field\":\"y\"},\"size\":{\"type\":\"value\",\"value\":10},\"line_color\":{\"type\":\"field\",\"field\":\"crew_type\",\"transform\":{\"id\":\"p1154\"}},\"line_alpha\":{\"type\":\"value\",\"value\":0.1},\"fill_color\":{\"type\":\"field\",\"field\":\"crew_type\",\"transform\":{\"id\":\"p1154\"}},\"fill_alpha\":{\"type\":\"value\",\"value\":0.1},\"hatch_color\":{\"type\":\"field\",\"field\":\"crew_type\",\"transform\":{\"id\":\"p1154\"}},\"hatch_alpha\":{\"type\":\"value\",\"value\":0.1},\"marker\":{\"type\":\"value\",\"value\":\"square\"}}},\"muted_glyph\":{\"type\":\"object\",\"name\":\"Scatter\",\"id\":\"p1163\",\"attributes\":{\"x\":{\"type\":\"field\",\"field\":\"x\"},\"y\":{\"type\":\"field\",\"field\":\"y\"},\"size\":{\"type\":\"value\",\"value\":10},\"line_color\":{\"type\":\"field\",\"field\":\"crew_type\",\"transform\":{\"id\":\"p1154\"}},\"line_alpha\":{\"type\":\"value\",\"value\":0.2},\"fill_color\":{\"type\":\"field\",\"field\":\"crew_type\",\"transform\":{\"id\":\"p1154\"}},\"fill_alpha\":{\"type\":\"value\",\"value\":0.2},\"hatch_color\":{\"type\":\"field\",\"field\":\"crew_type\",\"transform\":{\"id\":\"p1154\"}},\"hatch_alpha\":{\"type\":\"value\",\"value\":0.2},\"marker\":{\"type\":\"value\",\"value\":\"square\"}}}}}],\"toolbar\":{\"type\":\"object\",\"name\":\"Toolbar\",\"id\":\"p1101\",\"attributes\":{\"tools\":[{\"type\":\"object\",\"name\":\"PanTool\",\"id\":\"p1114\"},{\"type\":\"object\",\"name\":\"WheelZoomTool\",\"id\":\"p1115\",\"attributes\":{\"renderers\":\"auto\"}},{\"type\":\"object\",\"name\":\"BoxZoomTool\",\"id\":\"p1116\",\"attributes\":{\"overlay\":{\"type\":\"object\",\"name\":\"BoxAnnotation\",\"id\":\"p1117\",\"attributes\":{\"syncable\":false,\"level\":\"overlay\",\"visible\":false,\"left\":{\"type\":\"number\",\"value\":\"nan\"},\"right\":{\"type\":\"number\",\"value\":\"nan\"},\"top\":{\"type\":\"number\",\"value\":\"nan\"},\"bottom\":{\"type\":\"number\",\"value\":\"nan\"},\"left_units\":\"canvas\",\"right_units\":\"canvas\",\"top_units\":\"canvas\",\"bottom_units\":\"canvas\",\"line_color\":\"black\",\"line_alpha\":1.0,\"line_width\":2,\"line_dash\":[4,4],\"fill_color\":\"lightgrey\",\"fill_alpha\":0.5}}}},{\"type\":\"object\",\"name\":\"SaveTool\",\"id\":\"p1122\"},{\"type\":\"object\",\"name\":\"ResetTool\",\"id\":\"p1123\"},{\"type\":\"object\",\"name\":\"HelpTool\",\"id\":\"p1124\"}]}},\"left\":[{\"type\":\"object\",\"name\":\"LinearAxis\",\"id\":\"p1109\",\"attributes\":{\"visible\":false,\"ticker\":{\"type\":\"object\",\"name\":\"BasicTicker\",\"id\":\"p1110\",\"attributes\":{\"mantissas\":[1,2,5]}},\"formatter\":{\"type\":\"object\",\"name\":\"BasicTickFormatter\",\"id\":\"p1111\"},\"major_label_policy\":{\"type\":\"object\",\"name\":\"AllLabels\",\"id\":\"p1112\"}}}],\"below\":[{\"type\":\"object\",\"name\":\"LinearAxis\",\"id\":\"p1104\",\"attributes\":{\"visible\":false,\"ticker\":{\"type\":\"object\",\"name\":\"BasicTicker\",\"id\":\"p1105\",\"attributes\":{\"mantissas\":[1,2,5]}},\"formatter\":{\"type\":\"object\",\"name\":\"BasicTickFormatter\",\"id\":\"p1106\"},\"major_label_policy\":{\"type\":\"object\",\"name\":\"AllLabels\",\"id\":\"p1107\"}}}],\"center\":[{\"type\":\"object\",\"name\":\"Grid\",\"id\":\"p1108\",\"attributes\":{\"visible\":false,\"axis\":{\"id\":\"p1104\"}}},{\"type\":\"object\",\"name\":\"Grid\",\"id\":\"p1113\",\"attributes\":{\"visible\":false,\"dimension\":1,\"axis\":{\"id\":\"p1109\"}}},{\"type\":\"object\",\"name\":\"Legend\",\"id\":\"p1152\",\"attributes\":{\"location\":\"top_left\",\"background_fill_color\":\"black\",\"background_fill_alpha\":0.3,\"click_policy\":\"mute\",\"label_text_color\":\"white\",\"items\":[{\"type\":\"object\",\"name\":\"LegendItem\",\"id\":\"p1153\",\"attributes\":{\"label\":{\"type\":\"field\",\"field\":\"fail_status\"},\"renderers\":[{\"id\":\"p1149\"}]}},{\"type\":\"object\",\"name\":\"LegendItem\",\"id\":\"p1167\",\"attributes\":{\"label\":{\"type\":\"field\",\"field\":\"crew_type\"},\"renderers\":[{\"id\":\"p1164\"}]}}]}}],\"background_fill_color\":\"black\"}}]}};\n  const render_items = [{\"docid\":\"b078d423-b360-4c69-8713-e48502803752\",\"roots\":{\"p1093\":\"fbb9e55e-d7f8-48be-b86d-2e4c75059294\"},\"root_ids\":[\"p1093\"]}];\n  root.Bokeh.embed.embed_items_notebook(docs_json, render_items);\n  }\n  if (root.Bokeh !== undefined) {\n    embed_document(root);\n  } else {\n    let attempts = 0;\n    const timer = setInterval(function(root) {\n      if (root.Bokeh !== undefined) {\n        clearInterval(timer);\n        embed_document(root);\n      } else {\n        attempts++;\n        if (attempts > 100) {\n          clearInterval(timer);\n          console.log(\"Bokeh: ERROR: Unable to run BokehJS code because BokehJS library is missing\");\n        }\n      }\n    }, 10, root)\n  }\n})(window);",
      "application/vnd.bokehjs_exec.v0+json": ""
     },
     "metadata": {
      "application/vnd.bokehjs_exec.v0+json": {
       "id": "p1093"
      }
     },
     "output_type": "display_data"
    }
   ],
   "source": [
    "model_plots.plot_disruptions_and_crews(simple_network)"
   ]
  }
 ],
 "metadata": {
  "kernelspec": {
   "display_name": "Python 3 (ipykernel)",
   "language": "python",
   "name": "python3"
  },
  "language_info": {
   "codemirror_mode": {
    "name": "ipython",
    "version": 3
   },
   "file_extension": ".py",
   "mimetype": "text/x-python",
   "name": "python",
   "nbconvert_exporter": "python",
   "pygments_lexer": "ipython3",
   "version": "3.11.7"
  },
  "vscode": {
   "interpreter": {
    "hash": "d1fa71d79f4a50d86355cd984f754340c3825aff9a7379702b15c3196cc40013"
   }
  }
 },
 "nbformat": 4,
 "nbformat_minor": 4
}
