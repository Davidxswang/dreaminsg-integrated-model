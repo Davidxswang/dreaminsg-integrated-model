{
 "cells": [
  {
   "cell_type": "markdown",
   "metadata": {},
   "source": [
    "# Testing the Integrated Simulation Platform\n",
    "This notebook contains codes to test the various functionalities of the integrated simulation platform. You can call any of the modules from the package here. "
   ]
  },
  {
   "cell_type": "code",
   "execution_count": 5,
   "metadata": {},
   "outputs": [
    {
     "name": "stdout",
     "output_type": "stream",
     "text": [
      "The autoreload extension is already loaded. To reload it, use:\n",
      "  %reload_ext autoreload\n"
     ]
    },
    {
     "data": {
      "text/html": [
       "<style>.container { width:100% !important; }</style>"
      ],
      "text/plain": [
       "<IPython.core.display.HTML object>"
      ]
     },
     "metadata": {},
     "output_type": "display_data"
    }
   ],
   "source": [
    "%load_ext autoreload\n",
    "%autoreload 2\n",
    "\n",
    "import warnings \n",
    "warnings.filterwarnings('ignore')\n",
    "\n",
    "from IPython.core.display import display, HTML\n",
    "display(HTML(\"<style>.container { width:100% !important; }</style>\"))\n",
    "from IPython.core.interactiveshell import InteractiveShell\n",
    "InteractiveShell.ast_node_interactivity = \"all\""
   ]
  },
  {
   "cell_type": "markdown",
   "metadata": {},
   "source": [
    "## Import required packages"
   ]
  },
  {
   "cell_type": "code",
   "execution_count": 6,
   "metadata": {
    "scrolled": true,
    "tags": []
   },
   "outputs": [],
   "source": [
    "from pathlib import Path\n",
    "from infrarisk.src.network_recovery import *\n",
    "import infrarisk.src.simulation as simulation\n",
    "from infrarisk.src.physical.integrated_network import *\n",
    "import infrarisk.src.recovery_strategies as strategies\n",
    "\n",
    "from infrarisk.src.physical.interdependencies import *\n",
    "\n",
    "from infrarisk.src.optimizer import *\n",
    "import infrarisk.src.plots as model_plots\n",
    "\n",
    "#import random"
   ]
  },
  {
   "cell_type": "markdown",
   "metadata": {},
   "source": [
    "## Create an IntegratedNetwork object"
   ]
  },
  {
   "cell_type": "code",
   "execution_count": 7,
   "metadata": {},
   "outputs": [],
   "source": [
    "simple_network = IntegratedNetwork(name = \"Simple\")"
   ]
  },
  {
   "cell_type": "markdown",
   "metadata": {},
   "source": [
    "### Load the three infrastructure models: Water, Power and Transportation\n",
    "\n",
    "Three different models are used:\n",
    "- Water distribution network using **wntr** package\n",
    "- Power systems using **pandapower** package\n",
    "- Transportation network using static traffic assignment package developed by Dr. Stephen Boyles (University of Texas at Austin)"
   ]
  },
  {
   "cell_type": "code",
   "execution_count": 28,
   "metadata": {},
   "outputs": [
    {
     "name": "stdout",
     "output_type": "stream",
     "text": [
      "Water network successfully loaded from ..\\..\\infrarisk\\data\\networks\\in2\\water/water.inp. The analysis type is set to PDA.\n",
      "initial simulation duration: 60s; hydraulic time step: 60s; pattern time step: 3600s\n",
      "\n",
      "Power system successfully loaded from ..\\..\\infrarisk\\data\\networks\\in2\\power\\power.json. Single phase power flow simulation will be used.\n",
      "\n",
      "Transportation network successfully loaded from ..\\..\\infrarisk\\data\\networks\\in2\\transportation. Static traffic assignment method will be used to calculate travel times.\n"
     ]
    }
   ],
   "source": [
    "MAIN_DIR = Path('../..')\n",
    "SIM_STEP = 60\n",
    "\n",
    "network_dir= 'infrarisk/data/networks/in2'\n",
    "water_folder = MAIN_DIR/f'{network_dir}/water'\n",
    "power_folder = MAIN_DIR/f'{network_dir}/power'\n",
    "transp_folder = MAIN_DIR/f'{network_dir}/transportation/'\n",
    "\n",
    "# load all infrastructure networks\n",
    "simple_network.load_networks(water_folder=water_folder, \n",
    "                             power_folder=power_folder, \n",
    "                             transp_folder=transp_folder,\n",
    "                             sim_step=SIM_STEP)"
   ]
  },
  {
   "cell_type": "markdown",
   "metadata": {},
   "source": [
    "### Create a Networkx graph of the integrated infrastructure network."
   ]
  },
  {
   "cell_type": "code",
   "execution_count": 31,
   "metadata": {},
   "outputs": [
    {
     "name": "stdout",
     "output_type": "stream",
     "text": [
      "Successfully added power network to the integrated graph...\n",
      "Successfully added water network to the integrated graph...\n",
      "Successfully added transportation network to the integrated graph...\n",
      "Integrated graph successffully created.\n",
      "Generating betweenness centrality...\n"
     ]
    },
    {
     "data": {
      "text/html": [
       "<div class=\"bk-root\">\n",
       "        <a href=\"https://bokeh.org\" target=\"_blank\" class=\"bk-logo bk-logo-small bk-logo-notebook\"></a>\n",
       "        <span id=\"1654\">Loading BokehJS ...</span>\n",
       "    </div>\n"
      ]
     },
     "metadata": {},
     "output_type": "display_data"
    },
    {
     "data": {
      "application/javascript": "(function(root) {\n  function now() {\n    return new Date();\n  }\n\n  const force = true;\n\n  if (typeof root._bokeh_onload_callbacks === \"undefined\" || force === true) {\n    root._bokeh_onload_callbacks = [];\n    root._bokeh_is_loading = undefined;\n  }\n\nconst JS_MIME_TYPE = 'application/javascript';\n  const HTML_MIME_TYPE = 'text/html';\n  const EXEC_MIME_TYPE = 'application/vnd.bokehjs_exec.v0+json';\n  const CLASS_NAME = 'output_bokeh rendered_html';\n\n  /**\n   * Render data to the DOM node\n   */\n  function render(props, node) {\n    const script = document.createElement(\"script\");\n    node.appendChild(script);\n  }\n\n  /**\n   * Handle when an output is cleared or removed\n   */\n  function handleClearOutput(event, handle) {\n    const cell = handle.cell;\n\n    const id = cell.output_area._bokeh_element_id;\n    const server_id = cell.output_area._bokeh_server_id;\n    // Clean up Bokeh references\n    if (id != null && id in Bokeh.index) {\n      Bokeh.index[id].model.document.clear();\n      delete Bokeh.index[id];\n    }\n\n    if (server_id !== undefined) {\n      // Clean up Bokeh references\n      const cmd_clean = \"from bokeh.io.state import curstate; print(curstate().uuid_to_server['\" + server_id + \"'].get_sessions()[0].document.roots[0]._id)\";\n      cell.notebook.kernel.execute(cmd_clean, {\n        iopub: {\n          output: function(msg) {\n            const id = msg.content.text.trim();\n            if (id in Bokeh.index) {\n              Bokeh.index[id].model.document.clear();\n              delete Bokeh.index[id];\n            }\n          }\n        }\n      });\n      // Destroy server and session\n      const cmd_destroy = \"import bokeh.io.notebook as ion; ion.destroy_server('\" + server_id + \"')\";\n      cell.notebook.kernel.execute(cmd_destroy);\n    }\n  }\n\n  /**\n   * Handle when a new output is added\n   */\n  function handleAddOutput(event, handle) {\n    const output_area = handle.output_area;\n    const output = handle.output;\n\n    // limit handleAddOutput to display_data with EXEC_MIME_TYPE content only\n    if ((output.output_type != \"display_data\") || (!Object.prototype.hasOwnProperty.call(output.data, EXEC_MIME_TYPE))) {\n      return\n    }\n\n    const toinsert = output_area.element.find(\".\" + CLASS_NAME.split(' ')[0]);\n\n    if (output.metadata[EXEC_MIME_TYPE][\"id\"] !== undefined) {\n      toinsert[toinsert.length - 1].firstChild.textContent = output.data[JS_MIME_TYPE];\n      // store reference to embed id on output_area\n      output_area._bokeh_element_id = output.metadata[EXEC_MIME_TYPE][\"id\"];\n    }\n    if (output.metadata[EXEC_MIME_TYPE][\"server_id\"] !== undefined) {\n      const bk_div = document.createElement(\"div\");\n      bk_div.innerHTML = output.data[HTML_MIME_TYPE];\n      const script_attrs = bk_div.children[0].attributes;\n      for (let i = 0; i < script_attrs.length; i++) {\n        toinsert[toinsert.length - 1].firstChild.setAttribute(script_attrs[i].name, script_attrs[i].value);\n        toinsert[toinsert.length - 1].firstChild.textContent = bk_div.children[0].textContent\n      }\n      // store reference to server id on output_area\n      output_area._bokeh_server_id = output.metadata[EXEC_MIME_TYPE][\"server_id\"];\n    }\n  }\n\n  function register_renderer(events, OutputArea) {\n\n    function append_mime(data, metadata, element) {\n      // create a DOM node to render to\n      const toinsert = this.create_output_subarea(\n        metadata,\n        CLASS_NAME,\n        EXEC_MIME_TYPE\n      );\n      this.keyboard_manager.register_events(toinsert);\n      // Render to node\n      const props = {data: data, metadata: metadata[EXEC_MIME_TYPE]};\n      render(props, toinsert[toinsert.length - 1]);\n      element.append(toinsert);\n      return toinsert\n    }\n\n    /* Handle when an output is cleared or removed */\n    events.on('clear_output.CodeCell', handleClearOutput);\n    events.on('delete.Cell', handleClearOutput);\n\n    /* Handle when a new output is added */\n    events.on('output_added.OutputArea', handleAddOutput);\n\n    /**\n     * Register the mime type and append_mime function with output_area\n     */\n    OutputArea.prototype.register_mime_type(EXEC_MIME_TYPE, append_mime, {\n      /* Is output safe? */\n      safe: true,\n      /* Index of renderer in `output_area.display_order` */\n      index: 0\n    });\n  }\n\n  // register the mime type if in Jupyter Notebook environment and previously unregistered\n  if (root.Jupyter !== undefined) {\n    const events = require('base/js/events');\n    const OutputArea = require('notebook/js/outputarea').OutputArea;\n\n    if (OutputArea.prototype.mime_types().indexOf(EXEC_MIME_TYPE) == -1) {\n      register_renderer(events, OutputArea);\n    }\n  }\n  if (typeof (root._bokeh_timeout) === \"undefined\" || force === true) {\n    root._bokeh_timeout = Date.now() + 5000;\n    root._bokeh_failed_load = false;\n  }\n\n  const NB_LOAD_WARNING = {'data': {'text/html':\n     \"<div style='background-color: #fdd'>\\n\"+\n     \"<p>\\n\"+\n     \"BokehJS does not appear to have successfully loaded. If loading BokehJS from CDN, this \\n\"+\n     \"may be due to a slow or bad network connection. Possible fixes:\\n\"+\n     \"</p>\\n\"+\n     \"<ul>\\n\"+\n     \"<li>re-rerun `output_notebook()` to attempt to load from CDN again, or</li>\\n\"+\n     \"<li>use INLINE resources instead, as so:</li>\\n\"+\n     \"</ul>\\n\"+\n     \"<code>\\n\"+\n     \"from bokeh.resources import INLINE\\n\"+\n     \"output_notebook(resources=INLINE)\\n\"+\n     \"</code>\\n\"+\n     \"</div>\"}};\n\n  function display_loaded() {\n    const el = document.getElementById(\"1654\");\n    if (el != null) {\n      el.textContent = \"BokehJS is loading...\";\n    }\n    if (root.Bokeh !== undefined) {\n      if (el != null) {\n        el.textContent = \"BokehJS \" + root.Bokeh.version + \" successfully loaded.\";\n      }\n    } else if (Date.now() < root._bokeh_timeout) {\n      setTimeout(display_loaded, 100)\n    }\n  }\n\n  function run_callbacks() {\n    try {\n      root._bokeh_onload_callbacks.forEach(function(callback) {\n        if (callback != null)\n          callback();\n      });\n    } finally {\n      delete root._bokeh_onload_callbacks\n    }\n    console.debug(\"Bokeh: all callbacks have finished\");\n  }\n\n  function load_libs(css_urls, js_urls, callback) {\n    if (css_urls == null) css_urls = [];\n    if (js_urls == null) js_urls = [];\n\n    root._bokeh_onload_callbacks.push(callback);\n    if (root._bokeh_is_loading > 0) {\n      console.debug(\"Bokeh: BokehJS is being loaded, scheduling callback at\", now());\n      return null;\n    }\n    if (js_urls == null || js_urls.length === 0) {\n      run_callbacks();\n      return null;\n    }\n    console.debug(\"Bokeh: BokehJS not loaded, scheduling load and callback at\", now());\n    root._bokeh_is_loading = css_urls.length + js_urls.length;\n\n    function on_load() {\n      root._bokeh_is_loading--;\n      if (root._bokeh_is_loading === 0) {\n        console.debug(\"Bokeh: all BokehJS libraries/stylesheets loaded\");\n        run_callbacks()\n      }\n    }\n\n    function on_error(url) {\n      console.error(\"failed to load \" + url);\n    }\n\n    for (let i = 0; i < css_urls.length; i++) {\n      const url = css_urls[i];\n      const element = document.createElement(\"link\");\n      element.onload = on_load;\n      element.onerror = on_error.bind(null, url);\n      element.rel = \"stylesheet\";\n      element.type = \"text/css\";\n      element.href = url;\n      console.debug(\"Bokeh: injecting link tag for BokehJS stylesheet: \", url);\n      document.body.appendChild(element);\n    }\n\n    for (let i = 0; i < js_urls.length; i++) {\n      const url = js_urls[i];\n      const element = document.createElement('script');\n      element.onload = on_load;\n      element.onerror = on_error.bind(null, url);\n      element.async = false;\n      element.src = url;\n      console.debug(\"Bokeh: injecting script tag for BokehJS library: \", url);\n      document.head.appendChild(element);\n    }\n  };\n\n  function inject_raw_css(css) {\n    const element = document.createElement(\"style\");\n    element.appendChild(document.createTextNode(css));\n    document.body.appendChild(element);\n  }\n\n  const js_urls = [\"https://cdn.bokeh.org/bokeh/release/bokeh-2.4.3.min.js\", \"https://cdn.bokeh.org/bokeh/release/bokeh-gl-2.4.3.min.js\", \"https://cdn.bokeh.org/bokeh/release/bokeh-widgets-2.4.3.min.js\", \"https://cdn.bokeh.org/bokeh/release/bokeh-tables-2.4.3.min.js\", \"https://cdn.bokeh.org/bokeh/release/bokeh-mathjax-2.4.3.min.js\"];\n  const css_urls = [];\n\n  const inline_js = [    function(Bokeh) {\n      Bokeh.set_log_level(\"info\");\n    },\nfunction(Bokeh) {\n    }\n  ];\n\n  function run_inline_js() {\n    if (root.Bokeh !== undefined || force === true) {\n          for (let i = 0; i < inline_js.length; i++) {\n      inline_js[i].call(root, root.Bokeh);\n    }\nif (force === true) {\n        display_loaded();\n      }} else if (Date.now() < root._bokeh_timeout) {\n      setTimeout(run_inline_js, 100);\n    } else if (!root._bokeh_failed_load) {\n      console.log(\"Bokeh: BokehJS failed to load within specified timeout.\");\n      root._bokeh_failed_load = true;\n    } else if (force !== true) {\n      const cell = $(document.getElementById(\"1654\")).parents('.cell').data().cell;\n      cell.output_area.append_execute_result(NB_LOAD_WARNING)\n    }\n  }\n\n  if (root._bokeh_is_loading === 0) {\n    console.debug(\"Bokeh: BokehJS loaded, going straight to plotting\");\n    run_inline_js();\n  } else {\n    load_libs(css_urls, js_urls, function() {\n      console.debug(\"Bokeh: BokehJS plotting callback run at\", now());\n      run_inline_js();\n    });\n  }\n}(window));",
      "application/vnd.bokehjs_load.v0+json": ""
     },
     "metadata": {},
     "output_type": "display_data"
    },
    {
     "data": {
      "text/html": [
       "\n",
       "  <div class=\"bk-root\" id=\"d98cad7e-8935-4167-a508-bff0a426fdf8\" data-root-id=\"1656\"></div>\n"
      ]
     },
     "metadata": {},
     "output_type": "display_data"
    },
    {
     "data": {
      "application/javascript": "(function(root) {\n  function embed_document(root) {\n  const docs_json = {\"d16de8ba-fade-44c7-a861-ff0ea5bfa763\":{\"defs\":[],\"roots\":{\"references\":[{\"attributes\":{\"background_fill_color\":\"black\",\"below\":[{\"id\":\"1667\"}],\"center\":[{\"id\":\"1670\"},{\"id\":\"1674\"},{\"id\":\"1715\"}],\"height\":500,\"left\":[{\"id\":\"1671\"}],\"renderers\":[{\"id\":\"1694\"},{\"id\":\"1701\"},{\"id\":\"1722\"},{\"id\":\"1744\"}],\"title\":{\"id\":\"1657\"},\"toolbar\":{\"id\":\"1682\"},\"width\":800,\"x_range\":{\"id\":\"1659\"},\"x_scale\":{\"id\":\"1663\"},\"y_range\":{\"id\":\"1661\"},\"y_scale\":{\"id\":\"1665\"}},\"id\":\"1656\",\"subtype\":\"Figure\",\"type\":\"Plot\"},{\"attributes\":{\"callback\":null,\"renderers\":[{\"id\":\"1744\"}],\"tooltips\":[[\"Link ID\",\"@id\"],[\"Link category\",\"@link_category\"]]},\"id\":\"1767\",\"type\":\"HoverTool\"},{\"attributes\":{},\"id\":\"1663\",\"type\":\"LinearScale\"},{\"attributes\":{\"label\":{\"value\":\"Power\"},\"renderers\":[{\"id\":\"1744\"}]},\"id\":\"1762\",\"type\":\"LegendItem\"},{\"attributes\":{},\"id\":\"1710\",\"type\":\"UnionRenderers\"},{\"attributes\":{},\"id\":\"1735\",\"type\":\"UnionRenderers\"},{\"attributes\":{\"source\":{\"id\":\"1696\"}},\"id\":\"1702\",\"type\":\"CDSView\"},{\"attributes\":{},\"id\":\"1712\",\"type\":\"UnionRenderers\"},{\"attributes\":{},\"id\":\"1680\",\"type\":\"HelpTool\"},{\"attributes\":{\"axis\":{\"id\":\"1667\"},\"coordinates\":null,\"group\":null,\"ticker\":null,\"visible\":false},\"id\":\"1670\",\"type\":\"Grid\"},{\"attributes\":{\"data\":{\"id\":[\"P_B1\",\"P_B2\",\"P_B3\",\"P_B4\",\"P_B5\",\"P_B6\",\"P_B7\",\"P_B9\",\"P_B8\",\"W_J10\",\"W_J11\",\"W_J12\",\"W_J13\",\"W_J21\",\"W_J22\",\"W_J23\",\"W_J31\",\"W_J32\",\"W_T2\",\"W_R9\",\"T_J1\",\"T_J2\",\"T_J3\",\"T_J4\",\"T_J5\",\"T_J6\",\"T_J7\",\"T_J8\",\"T_J9\"],\"node_category\":[\"Bus\",\"Bus\",\"Bus\",\"Bus\",\"Bus\",\"Bus\",\"Bus\",\"Bus\",\"Bus\",\"Junction\",\"Junction\",\"Junction\",\"Junction\",\"Junction\",\"Junction\",\"Junction\",\"Junction\",\"Junction\",\"Tank\",\"Reservoir\",\"Junction\",\"Junction\",\"Junction\",\"Junction\",\"Junction\",\"Junction\",\"Junction\",\"Junction\",\"Junction\"],\"node_type\":[\"power\",\"power\",\"power\",\"power\",\"power\",\"power\",\"power\",\"power\",\"power\",\"water\",\"water\",\"water\",\"water\",\"water\",\"water\",\"water\",\"water\",\"water\",\"water\",\"water\",\"transpo\",\"transpo\",\"transpo\",\"transpo\",\"transpo\",\"transpo\",\"transpo\",\"transpo\",\"transpo\"],\"x\":[400.0,400.0,400.0,400.0,100.0,200.0,200.0,200.0,100.0,200.0,300.0,500.0,700.0,300.0,500.0,700.0,300.0,500.0,500.0,100.0,0,300,600,0,300,600,0,300,600],\"y\":[550.0,275.0,225.0,0.0,0.0,550.0,350.0,250.0,250.0,700.0,700.0,700.0,700.0,400.0,400.0,400.0,100.0,100.0,900.0,700.0,700,700,700,325,325,325,0,0,0]},\"selected\":{\"id\":\"1711\"},\"selection_policy\":{\"id\":\"1710\"}},\"id\":\"1689\",\"type\":\"ColumnDataSource\"},{\"attributes\":{},\"id\":\"1672\",\"type\":\"BasicTicker\"},{\"attributes\":{},\"id\":\"1736\",\"type\":\"Selection\"},{\"attributes\":{},\"id\":\"1676\",\"type\":\"WheelZoomTool\"},{\"attributes\":{\"callback\":null,\"renderers\":[{\"id\":\"1701\"}],\"tooltips\":[[\"Link ID\",\"@id\"],[\"Link category\",\"@link_category\"]]},\"id\":\"1769\",\"type\":\"HoverTool\"},{\"attributes\":{},\"id\":\"1675\",\"type\":\"PanTool\"},{\"attributes\":{\"coordinates\":null,\"formatter\":{\"id\":\"1708\"},\"group\":null,\"major_label_policy\":{\"id\":\"1709\"},\"ticker\":{\"id\":\"1668\"},\"visible\":false},\"id\":\"1667\",\"type\":\"LinearAxis\"},{\"attributes\":{\"fill_alpha\":{\"value\":0.2},\"fill_color\":{\"value\":\"gainsboro\"},\"hatch_alpha\":{\"value\":0.2},\"hatch_color\":{\"value\":\"gainsboro\"},\"line_alpha\":{\"value\":0.2},\"line_color\":{\"value\":\"gainsboro\"},\"marker\":{\"value\":\"square\"},\"size\":{\"value\":5},\"x\":{\"field\":\"x\"},\"y\":{\"field\":\"y\"}},\"id\":\"1693\",\"type\":\"Scatter\"},{\"attributes\":{\"overlay\":{\"id\":\"1681\"}},\"id\":\"1677\",\"type\":\"BoxZoomTool\"},{\"attributes\":{\"line_alpha\":{\"value\":0.2},\"line_color\":{\"value\":\"lightskyblue\"},\"line_dash\":{\"value\":\"solid\"},\"line_width\":{\"value\":2},\"xs\":{\"field\":\"x\"},\"ys\":{\"field\":\"y\"}},\"id\":\"1743\",\"type\":\"MultiLine\"},{\"attributes\":{},\"id\":\"1679\",\"type\":\"ResetTool\"},{\"attributes\":{\"coordinates\":null,\"data_source\":{\"id\":\"1739\"},\"glyph\":{\"id\":\"1741\"},\"group\":null,\"hover_glyph\":null,\"muted_glyph\":{\"id\":\"1743\"},\"nonselection_glyph\":{\"id\":\"1742\"},\"view\":{\"id\":\"1745\"}},\"id\":\"1744\",\"type\":\"GlyphRenderer\"},{\"attributes\":{\"label\":{\"value\":\"Water\"},\"renderers\":[{\"id\":\"1722\"}]},\"id\":\"1738\",\"type\":\"LegendItem\"},{\"attributes\":{},\"id\":\"1705\",\"type\":\"BasicTickFormatter\"},{\"attributes\":{\"source\":{\"id\":\"1739\"}},\"id\":\"1745\",\"type\":\"CDSView\"},{\"attributes\":{\"end\":840.0,\"start\":-140.0},\"id\":\"1659\",\"type\":\"Range1d\"},{\"attributes\":{},\"id\":\"1711\",\"type\":\"Selection\"},{\"attributes\":{\"tools\":[{\"id\":\"1675\"},{\"id\":\"1676\"},{\"id\":\"1677\"},{\"id\":\"1678\"},{\"id\":\"1679\"},{\"id\":\"1680\"},{\"id\":\"1763\"},{\"id\":\"1765\"},{\"id\":\"1767\"},{\"id\":\"1769\"}]},\"id\":\"1682\",\"type\":\"Toolbar\"},{\"attributes\":{\"axis\":{\"id\":\"1671\"},\"coordinates\":null,\"dimension\":1,\"group\":null,\"ticker\":null,\"visible\":false},\"id\":\"1674\",\"type\":\"Grid\"},{\"attributes\":{\"line_alpha\":{\"value\":0.2},\"line_color\":{\"value\":\"yellow\"},\"line_dash\":{\"value\":\"solid\"},\"line_width\":{\"value\":2},\"xs\":{\"field\":\"x\"},\"ys\":{\"field\":\"y\"}},\"id\":\"1721\",\"type\":\"MultiLine\"},{\"attributes\":{\"coordinates\":null,\"data_source\":{\"id\":\"1717\"},\"glyph\":{\"id\":\"1719\"},\"group\":null,\"hover_glyph\":null,\"muted_glyph\":{\"id\":\"1721\"},\"nonselection_glyph\":{\"id\":\"1720\"},\"view\":{\"id\":\"1723\"}},\"id\":\"1722\",\"type\":\"GlyphRenderer\"},{\"attributes\":{},\"id\":\"1678\",\"type\":\"SaveTool\"},{\"attributes\":{\"callback\":null,\"renderers\":[{\"id\":\"1722\"}],\"tooltips\":[[\"Link ID\",\"@id\"],[\"Link category\",\"@link_category\"]]},\"id\":\"1765\",\"type\":\"HoverTool\"},{\"attributes\":{\"source\":{\"id\":\"1717\"}},\"id\":\"1723\",\"type\":\"CDSView\"},{\"attributes\":{\"line_alpha\":{\"value\":0.1},\"line_color\":{\"value\":\"yellow\"},\"line_dash\":{\"value\":\"solid\"},\"line_width\":{\"value\":2},\"xs\":{\"field\":\"x\"},\"ys\":{\"field\":\"y\"}},\"id\":\"1720\",\"type\":\"MultiLine\"},{\"attributes\":{\"coordinates\":null,\"data_source\":{\"id\":\"1689\"},\"glyph\":{\"id\":\"1691\"},\"group\":null,\"hover_glyph\":null,\"muted_glyph\":{\"id\":\"1693\"},\"nonselection_glyph\":{\"id\":\"1692\"},\"view\":{\"id\":\"1695\"}},\"id\":\"1694\",\"type\":\"GlyphRenderer\"},{\"attributes\":{\"line_color\":{\"value\":\"lightskyblue\"},\"line_dash\":{\"value\":\"solid\"},\"line_width\":{\"value\":2},\"xs\":{\"field\":\"x\"},\"ys\":{\"field\":\"y\"}},\"id\":\"1741\",\"type\":\"MultiLine\"},{\"attributes\":{},\"id\":\"1708\",\"type\":\"BasicTickFormatter\"},{\"attributes\":{\"line_alpha\":{\"value\":0.1},\"line_color\":{\"value\":\"lightskyblue\"},\"line_dash\":{\"value\":\"solid\"},\"line_width\":{\"value\":2},\"xs\":{\"field\":\"x\"},\"ys\":{\"field\":\"y\"}},\"id\":\"1742\",\"type\":\"MultiLine\"},{\"attributes\":{\"source\":{\"id\":\"1689\"}},\"id\":\"1695\",\"type\":\"CDSView\"},{\"attributes\":{},\"id\":\"1760\",\"type\":\"Selection\"},{\"attributes\":{\"label\":{\"value\":\"Transportation\"},\"renderers\":[{\"id\":\"1701\"}]},\"id\":\"1716\",\"type\":\"LegendItem\"},{\"attributes\":{\"callback\":null,\"renderers\":[{\"id\":\"1694\"}],\"tooltips\":[[\"Node ID\",\"@id\"],[\"Infrastructure\",\"@node_type\"],[\"Node category\",\"@node_category\"]]},\"id\":\"1763\",\"type\":\"HoverTool\"},{\"attributes\":{\"line_color\":{\"value\":\"limegreen\"},\"line_dash\":{\"value\":\"solid\"},\"line_width\":{\"value\":2},\"xs\":{\"field\":\"x\"},\"ys\":{\"field\":\"y\"}},\"id\":\"1698\",\"type\":\"MultiLine\"},{\"attributes\":{\"data\":{\"id\":[\"W_P10\",\"W_WP9\",\"W_P11\",\"W_P111\",\"W_P12\",\"W_P110\",\"W_P112\",\"W_P113\",\"W_P21\",\"W_P121\",\"W_P22\",\"W_P122\",\"W_P31\"],\"link_category\":[\"Water pipe\",\"Water pump\",\"Water pipe\",\"Water pipe\",\"Water pipe\",\"Water pipe\",\"Water pipe\",\"Water pipe\",\"Water pipe\",\"Water pipe\",\"Water pipe\",\"Water pipe\",\"Water pipe\"],\"link_layer\":[\"water\",\"water\",\"water\",\"water\",\"water\",\"water\",\"water\",\"water\",\"water\",\"water\",\"water\",\"water\",\"water\"],\"x\":[[200.0,300.0],[200.0,100.0],[300.0,500.0],[300.0,300.0],[500.0,700.0],[500.0,500.0],[500.0,500.0],[700.0,700.0],[300.0,500.0],[300.0,300.0],[500.0,700.0],[500.0,500.0],[300.0,500.0]],\"y\":[[700.0,700.0],[700.0,700.0],[700.0,700.0],[700.0,400.0],[700.0,700.0],[700.0,900.0],[700.0,400.0],[700.0,400.0],[400.0,400.0],[400.0,100.0],[400.0,400.0],[400.0,100.0],[100.0,100.0]]},\"selected\":{\"id\":\"1736\"},\"selection_policy\":{\"id\":\"1735\"}},\"id\":\"1717\",\"type\":\"ColumnDataSource\"},{\"attributes\":{},\"id\":\"1759\",\"type\":\"UnionRenderers\"},{\"attributes\":{},\"id\":\"1665\",\"type\":\"LinearScale\"},{\"attributes\":{\"background_fill_alpha\":0.3,\"background_fill_color\":\"black\",\"click_policy\":\"mute\",\"coordinates\":null,\"group\":null,\"items\":[{\"id\":\"1716\"},{\"id\":\"1738\"},{\"id\":\"1762\"}],\"label_text_color\":\"white\",\"location\":\"top_left\"},\"id\":\"1715\",\"type\":\"Legend\"},{\"attributes\":{},\"id\":\"1706\",\"type\":\"AllLabels\"},{\"attributes\":{\"data\":{\"id\":[\"P_L1\",\"P_L4\",\"P_TF2\",\"P_L2\",\"P_L3\",\"P_L5\",\"P_S1\",\"P_TF1\"],\"link_category\":[\"Power line\",\"Power line\",\"Transformer\",\"Power line\",\"Power line\",\"Power line\",\"Switch\",\"Transformer\"],\"link_layer\":[\"power\",\"power\",\"power\",\"power\",\"power\",\"power\",\"power\",\"power\"],\"x\":[[400.0,400.0],[400.0,200.0],[400.0,400.0],[400.0,400.0],[400.0,100.0],[200.0,200.0],[200.0,200.0],[200.0,100.0]],\"y\":[[550.0,275.0],[550.0,550.0],[275.0,225.0],[225.0,0.0],[0.0,0.0],[550.0,350.0],[350.0,250.0],[250.0,250.0]]},\"selected\":{\"id\":\"1760\"},\"selection_policy\":{\"id\":\"1759\"}},\"id\":\"1739\",\"type\":\"ColumnDataSource\"},{\"attributes\":{\"line_color\":{\"value\":\"yellow\"},\"line_dash\":{\"value\":\"solid\"},\"line_width\":{\"value\":2},\"xs\":{\"field\":\"x\"},\"ys\":{\"field\":\"y\"}},\"id\":\"1719\",\"type\":\"MultiLine\"},{\"attributes\":{\"coordinates\":null,\"formatter\":{\"id\":\"1705\"},\"group\":null,\"major_label_policy\":{\"id\":\"1706\"},\"ticker\":{\"id\":\"1672\"},\"visible\":false},\"id\":\"1671\",\"type\":\"LinearAxis\"},{\"attributes\":{\"line_alpha\":{\"value\":0.2},\"line_color\":{\"value\":\"limegreen\"},\"line_dash\":{\"value\":\"solid\"},\"line_width\":{\"value\":2},\"xs\":{\"field\":\"x\"},\"ys\":{\"field\":\"y\"}},\"id\":\"1700\",\"type\":\"MultiLine\"},{\"attributes\":{},\"id\":\"1709\",\"type\":\"AllLabels\"},{\"attributes\":{\"data\":{\"id\":[\"T_L12\",\"T_L14\",\"T_L13\",\"T_L15\",\"T_L16\",\"T_L18\",\"T_L17\",\"T_L19\",\"T_L20\",\"T_L21\",\"T_L22\"],\"link_category\":[\"Road link\",\"Road link\",\"Road link\",\"Road link\",\"Road link\",\"Road link\",\"Road link\",\"Road link\",\"Road link\",\"Road link\",\"Road link\"],\"link_layer\":[\"transpo\",\"transpo\",\"transpo\",\"transpo\",\"transpo\",\"transpo\",\"transpo\",\"transpo\",\"transpo\",\"transpo\",\"transpo\"],\"x\":[[0,300],[0,0],[300,600],[600,300],[0,300],[0,0],[300,600],[300,300],[600,600],[0,300],[300,600]],\"y\":[[700,700],[700,325],[700,700],[700,325],[325,325],[325,0],[325,325],[325,0],[325,0],[0,0],[0,0]]},\"selected\":{\"id\":\"1713\"},\"selection_policy\":{\"id\":\"1712\"}},\"id\":\"1696\",\"type\":\"ColumnDataSource\"},{\"attributes\":{\"fill_alpha\":{\"value\":0.2},\"fill_color\":{\"value\":\"grey\"},\"hatch_alpha\":{\"value\":0.2},\"hatch_color\":{\"value\":\"grey\"},\"line_alpha\":{\"value\":0.2},\"line_color\":{\"value\":\"grey\"},\"marker\":{\"value\":\"square\"},\"size\":{\"value\":5},\"x\":{\"field\":\"x\"},\"y\":{\"field\":\"y\"}},\"id\":\"1691\",\"type\":\"Scatter\"},{\"attributes\":{},\"id\":\"1668\",\"type\":\"BasicTicker\"},{\"attributes\":{\"fill_alpha\":{\"value\":0.1},\"fill_color\":{\"value\":\"grey\"},\"hatch_alpha\":{\"value\":0.1},\"hatch_color\":{\"value\":\"grey\"},\"line_alpha\":{\"value\":0.1},\"line_color\":{\"value\":\"grey\"},\"marker\":{\"value\":\"square\"},\"size\":{\"value\":5},\"x\":{\"field\":\"x\"},\"y\":{\"field\":\"y\"}},\"id\":\"1692\",\"type\":\"Scatter\"},{\"attributes\":{\"bottom_units\":\"screen\",\"coordinates\":null,\"fill_alpha\":0.5,\"fill_color\":\"lightgrey\",\"group\":null,\"left_units\":\"screen\",\"level\":\"overlay\",\"line_alpha\":1.0,\"line_color\":\"black\",\"line_dash\":[4,4],\"line_width\":2,\"right_units\":\"screen\",\"syncable\":false,\"top_units\":\"screen\"},\"id\":\"1681\",\"type\":\"BoxAnnotation\"},{\"attributes\":{\"coordinates\":null,\"group\":null,\"text\":\"Simple integrated network\"},\"id\":\"1657\",\"type\":\"Title\"},{\"attributes\":{\"line_alpha\":{\"value\":0.1},\"line_color\":{\"value\":\"limegreen\"},\"line_dash\":{\"value\":\"solid\"},\"line_width\":{\"value\":2},\"xs\":{\"field\":\"x\"},\"ys\":{\"field\":\"y\"}},\"id\":\"1699\",\"type\":\"MultiLine\"},{\"attributes\":{},\"id\":\"1713\",\"type\":\"Selection\"},{\"attributes\":{\"end\":1080.0,\"start\":-180.0},\"id\":\"1661\",\"type\":\"Range1d\"},{\"attributes\":{\"coordinates\":null,\"data_source\":{\"id\":\"1696\"},\"glyph\":{\"id\":\"1698\"},\"group\":null,\"hover_glyph\":null,\"muted_glyph\":{\"id\":\"1700\"},\"nonselection_glyph\":{\"id\":\"1699\"},\"view\":{\"id\":\"1702\"}},\"id\":\"1701\",\"type\":\"GlyphRenderer\"}],\"root_ids\":[\"1656\"]},\"title\":\"Bokeh Application\",\"version\":\"2.4.3\"}};\n  const render_items = [{\"docid\":\"d16de8ba-fade-44c7-a861-ff0ea5bfa763\",\"root_ids\":[\"1656\"],\"roots\":{\"1656\":\"d98cad7e-8935-4167-a508-bff0a426fdf8\"}}];\n  root.Bokeh.embed.embed_items_notebook(docs_json, render_items);\n  }\n  if (root.Bokeh !== undefined) {\n    embed_document(root);\n  } else {\n    let attempts = 0;\n    const timer = setInterval(function(root) {\n      if (root.Bokeh !== undefined) {\n        clearInterval(timer);\n        embed_document(root);\n      } else {\n        attempts++;\n        if (attempts > 100) {\n          clearInterval(timer);\n          console.log(\"Bokeh: ERROR: Unable to run BokehJS code because BokehJS library is missing\");\n        }\n      }\n    }, 10, root)\n  }\n})(window);",
      "application/vnd.bokehjs_exec.v0+json": ""
     },
     "metadata": {
      "application/vnd.bokehjs_exec.v0+json": {
       "id": "1656"
      }
     },
     "output_type": "display_data"
    }
   ],
   "source": [
    "simple_network.generate_integrated_graph()"
   ]
  },
  {
   "cell_type": "markdown",
   "metadata": {},
   "source": [
    "### Build interdependencies\n",
    "\n",
    "Three types of dependencies:\n",
    "- Power - Water dependencies (eg.: water pump on electric motor, generator on reservoir)\n",
    "- Power - Transportation dependencies (eg.: road access to power system components for M&R)\n",
    "- Water - Transportation dependencies (eg.: road access to water network components for M&R)\n",
    "\n",
    "The dependencies are referenced using two tables in the model.\n",
    "- **wp_table** for water - power dependencies\n",
    "- **access_table** for transportation dependencies"
   ]
  },
  {
   "cell_type": "code",
   "execution_count": 10,
   "metadata": {},
   "outputs": [
    {
     "data": {
      "text/html": [
       "<div>\n",
       "<style scoped>\n",
       "    .dataframe tbody tr th:only-of-type {\n",
       "        vertical-align: middle;\n",
       "    }\n",
       "\n",
       "    .dataframe tbody tr th {\n",
       "        vertical-align: top;\n",
       "    }\n",
       "\n",
       "    .dataframe thead th {\n",
       "        text-align: right;\n",
       "    }\n",
       "</style>\n",
       "<table border=\"1\" class=\"dataframe\">\n",
       "  <thead>\n",
       "    <tr style=\"text-align: right;\">\n",
       "      <th></th>\n",
       "      <th>water_id</th>\n",
       "      <th>power_id</th>\n",
       "      <th>water_type</th>\n",
       "      <th>power_type</th>\n",
       "    </tr>\n",
       "  </thead>\n",
       "  <tbody>\n",
       "    <tr>\n",
       "      <th>0</th>\n",
       "      <td>W_WP9</td>\n",
       "      <td>P_MP1</td>\n",
       "      <td>Pump</td>\n",
       "      <td>Motor</td>\n",
       "    </tr>\n",
       "    <tr>\n",
       "      <th>1</th>\n",
       "      <td>W_R9</td>\n",
       "      <td>P_G3</td>\n",
       "      <td>Reservoir</td>\n",
       "      <td>Generator</td>\n",
       "    </tr>\n",
       "  </tbody>\n",
       "</table>\n",
       "</div>"
      ],
      "text/plain": [
       "  water_id power_id water_type power_type\n",
       "0    W_WP9    P_MP1       Pump      Motor\n",
       "1     W_R9     P_G3  Reservoir  Generator"
      ]
     },
     "execution_count": 10,
     "metadata": {},
     "output_type": "execute_result"
    }
   ],
   "source": [
    "dependency_file = MAIN_DIR/f\"{network_dir}/dependecies.csv\"\n",
    "simple_network.generate_dependency_table(dependency_file = dependency_file)\n",
    "simple_network.dependency_table.wp_table"
   ]
  },
  {
   "cell_type": "code",
   "execution_count": 11,
   "metadata": {},
   "outputs": [
    {
     "data": {
      "text/html": [
       "<div>\n",
       "<style scoped>\n",
       "    .dataframe tbody tr th:only-of-type {\n",
       "        vertical-align: middle;\n",
       "    }\n",
       "\n",
       "    .dataframe tbody tr th {\n",
       "        vertical-align: top;\n",
       "    }\n",
       "\n",
       "    .dataframe thead th {\n",
       "        text-align: right;\n",
       "    }\n",
       "</style>\n",
       "<table border=\"1\" class=\"dataframe\">\n",
       "  <thead>\n",
       "    <tr style=\"text-align: right;\">\n",
       "      <th></th>\n",
       "      <th>origin_id</th>\n",
       "      <th>transp_id</th>\n",
       "      <th>origin_cat</th>\n",
       "      <th>origin_type</th>\n",
       "      <th>access_dist</th>\n",
       "    </tr>\n",
       "  </thead>\n",
       "  <tbody>\n",
       "    <tr>\n",
       "      <th>0</th>\n",
       "      <td>P_B1</td>\n",
       "      <td>T_J2</td>\n",
       "      <td>power</td>\n",
       "      <td>Bus</td>\n",
       "      <td>180.28</td>\n",
       "    </tr>\n",
       "    <tr>\n",
       "      <th>1</th>\n",
       "      <td>P_B2</td>\n",
       "      <td>T_J5</td>\n",
       "      <td>power</td>\n",
       "      <td>Bus</td>\n",
       "      <td>111.80</td>\n",
       "    </tr>\n",
       "    <tr>\n",
       "      <th>2</th>\n",
       "      <td>P_B3</td>\n",
       "      <td>T_J5</td>\n",
       "      <td>power</td>\n",
       "      <td>Bus</td>\n",
       "      <td>141.42</td>\n",
       "    </tr>\n",
       "    <tr>\n",
       "      <th>3</th>\n",
       "      <td>P_B4</td>\n",
       "      <td>T_J8</td>\n",
       "      <td>power</td>\n",
       "      <td>Bus</td>\n",
       "      <td>100.00</td>\n",
       "    </tr>\n",
       "    <tr>\n",
       "      <th>4</th>\n",
       "      <td>P_B5</td>\n",
       "      <td>T_J7</td>\n",
       "      <td>power</td>\n",
       "      <td>Bus</td>\n",
       "      <td>100.00</td>\n",
       "    </tr>\n",
       "  </tbody>\n",
       "</table>\n",
       "</div>"
      ],
      "text/plain": [
       "  origin_id transp_id origin_cat origin_type  access_dist\n",
       "0      P_B1      T_J2      power         Bus       180.28\n",
       "1      P_B2      T_J5      power         Bus       111.80\n",
       "2      P_B3      T_J5      power         Bus       141.42\n",
       "3      P_B4      T_J8      power         Bus       100.00\n",
       "4      P_B5      T_J7      power         Bus       100.00"
      ]
     },
     "execution_count": 11,
     "metadata": {},
     "output_type": "execute_result"
    }
   ],
   "source": [
    "simple_network.dependency_table.access_table.head()"
   ]
  },
  {
   "cell_type": "markdown",
   "metadata": {},
   "source": [
    "### Set failed components"
   ]
  },
  {
   "cell_type": "code",
   "execution_count": 12,
   "metadata": {},
   "outputs": [
    {
     "data": {
      "text/plain": [
       "['W_P21', 'W_WP9', 'T_L2', 'P_L5']"
      ]
     },
     "execution_count": 12,
     "metadata": {},
     "output_type": "execute_result"
    }
   ],
   "source": [
    "scenario_folder = \"scenarios/test1\"\n",
    "disruption_file = MAIN_DIR/f\"{network_dir}/{scenario_folder}/disruption_file.csv\"\n",
    "\n",
    "simple_network.set_disrupted_components(disruption_file=disruption_file)\n",
    "simple_network.get_disrupted_components()"
   ]
  },
  {
   "cell_type": "markdown",
   "metadata": {},
   "source": [
    "### Set initial crew locations"
   ]
  },
  {
   "cell_type": "code",
   "execution_count": 13,
   "metadata": {},
   "outputs": [
    {
     "name": "stdout",
     "output_type": "stream",
     "text": [
      "Power repair crews successfully deployed.\n",
      "Water repair crews successfully deployed.\n",
      "Transportation repair crews successfully deployed.\n"
     ]
    }
   ],
   "source": [
    "simple_network.deploy_crews(\n",
    "    init_power_crew_locs=['T_J8'], \n",
    "    init_water_crew_locs=['T_J8'],\n",
    "    init_transpo_crew_locs= ['T_J8']\n",
    "    )"
   ]
  },
  {
   "cell_type": "markdown",
   "metadata": {},
   "source": [
    "## Simulation of interdependent effects using a test scenario\n",
    "### (a) Create NetworkRecovery"
   ]
  },
  {
   "cell_type": "code",
   "execution_count": 14,
   "metadata": {},
   "outputs": [],
   "source": [
    "network_recovery = NetworkRecovery(simple_network, \n",
    "                                   sim_step=SIM_STEP, \n",
    "                                   pipe_close_policy=\"repair\",\n",
    "                                   pipe_closure_delay= 10, \n",
    "                                   line_close_policy=\"sensor_based_line_isolation\",\n",
    "                                   line_closure_delay= 10)"
   ]
  },
  {
   "cell_type": "markdown",
   "metadata": {},
   "source": [
    "### (b) Create a simulation object"
   ]
  },
  {
   "cell_type": "code",
   "execution_count": 16,
   "metadata": {},
   "outputs": [],
   "source": [
    "bf_simulation = simulation.NetworkSimulation(network_recovery)"
   ]
  },
  {
   "cell_type": "markdown",
   "metadata": {},
   "source": [
    "### (c) Generation of random repair order"
   ]
  },
  {
   "cell_type": "code",
   "execution_count": 17,
   "metadata": {},
   "outputs": [],
   "source": [
    "capacity_strategy = strategies.HandlingCapacityStrategy(simple_network)\n",
    "capacity_strategy.set_repair_order()\n",
    "repair_order = capacity_strategy.get_repair_order()\n",
    "\n",
    "import os\n",
    "if not os.path.exists(MAIN_DIR/f\"{network_dir}/{scenario_folder}/capacity\"):\n",
    "    os.makedirs(MAIN_DIR/f\"{network_dir}/{scenario_folder}/capacity\")"
   ]
  },
  {
   "cell_type": "code",
   "execution_count": 18,
   "metadata": {
    "tags": []
   },
   "outputs": [
    {
     "name": "stdout",
     "output_type": "stream",
     "text": [
      "Current repair order is ['T_L2', 'P_L5', 'W_WP9', 'W_P21']\n"
     ]
    }
   ],
   "source": [
    "#Generate a random repair order\n",
    "# repair_order = network_recovery.network.get_disrupted_components()\n",
    "# random.shuffle(repair_order)\n",
    "print('Current repair order is {}'.format(repair_order))"
   ]
  },
  {
   "cell_type": "markdown",
   "metadata": {},
   "source": [
    "### (d) Generation of event tables"
   ]
  },
  {
   "cell_type": "code",
   "execution_count": 19,
   "metadata": {},
   "outputs": [
    {
     "name": "stdout",
     "output_type": "stream",
     "text": [
      "Repair T_L2: The transpo crew 1 is at T_J8 at t = 2.0 minutes. It takes 19 minutes to reach nearest node T_J2, the nearest transportation node from T_L2.\n",
      "Repair P_L5: The power crew 1 is at T_J8 at t = 2.0 minutes. It takes 14 minutes to reach nearest node T_J5, the nearest transportation node from P_L5.\n",
      "Repair W_WP9: The water crew 1 is at T_J8 at t = 2.0 minutes. It takes 23 minutes to reach nearest node T_J2, the nearest transportation node from W_WP9.\n",
      "Repair W_P21: The water crew 1 is at T_J2 at t = 97.0 minutes. It takes 19 minutes to reach nearest node T_J5, the nearest transportation node from W_P21.\n",
      "All restoration actions are successfully scheduled.\n",
      "Total travel times: power: 14 mins, water: 42 min, transportation: 19 mins\n",
      "Total recovery times: power: 300.0 mins, water: 432.0 min, transportation: 360.0 mins\n",
      "Scheduling recovery actions completed in 0.0625 seconds\n"
     ]
    }
   ],
   "source": [
    "bf_simulation.network_recovery.schedule_recovery(repair_order)"
   ]
  },
  {
   "cell_type": "code",
   "execution_count": 21,
   "metadata": {},
   "outputs": [],
   "source": [
    "#bf_simulation.network_recovery.event_table.to_csv(\"event_tbl.csv\", sep = \"\\t\", index = False)\n",
    "bf_simulation.expand_event_table()"
   ]
  },
  {
   "cell_type": "markdown",
   "metadata": {},
   "source": [
    "### (e) Simulation of interdependent effects"
   ]
  },
  {
   "cell_type": "code",
   "execution_count": 22,
   "metadata": {},
   "outputs": [
    {
     "name": "stdout",
     "output_type": "stream",
     "text": [
      "Time instances for which simulations will be performed:\n",
      " [60, 180, 1020, 1260, 1500, 5700, 5820, 5940, 7020, 18900, 19020, 19140, 22740, 22860, 22980, 28500, 28620, 28740]\n",
      "Simulating network conditions until 60 s\n",
      "Simulation time:  60.0 ; Hydraulic time step:  60.0 ; Report time step:  60\n",
      "Updating status of directly affected components between 60.0 and 180.0...\n",
      "******************\n",
      "\n",
      "Simulating network conditions until 180 s\n",
      "Simulation time:  180.0 ; Hydraulic time step:  60.0 ; Report time step:  60\n",
      "Updating status of directly affected components between 180.0 and 1020.0...\n",
      "The power Resilience Metric value based on ECS is 0.004 equivalent outage hours (EOH)\n",
      "The power Resilience Metric value based on PCS is 0.001 equivalent outage hours (EOH)\n",
      "The water Resilience Metric value based on ECS is 0.0 equivalent outage hours (EOH)\n",
      "The water Resilience Metric value based on PCS is 0.0 equivalent outage hours (EOH)\n",
      "The weighted AUC value based on ECS is 0.002\n",
      "The weighted AUC value based on PCS is 0.0005\n",
      "******************\n",
      "\n",
      "Simulating network conditions until 1020 s\n",
      "Simulation time:  1020.0 ; Hydraulic time step:  60.0 ; Report time step:  60\n",
      "Updating status of directly affected components between 1020.0 and 1260.0...\n",
      "The power Resilience Metric value based on ECS is 0.062 equivalent outage hours (EOH)\n",
      "The power Resilience Metric value based on PCS is 0.009 equivalent outage hours (EOH)\n",
      "The water Resilience Metric value based on ECS is 0.002 equivalent outage hours (EOH)\n",
      "The water Resilience Metric value based on PCS is 0.002 equivalent outage hours (EOH)\n",
      "The weighted AUC value based on ECS is 0.032\n",
      "The weighted AUC value based on PCS is 0.0055\n",
      "******************\n",
      "\n",
      "Simulating network conditions until 1260 s\n",
      "Simulation time:  1260.0 ; Hydraulic time step:  60.0 ; Report time step:  60\n",
      "Updating status of directly affected components between 1260.0 and 1500.0...\n",
      "The power Resilience Metric value based on ECS is 0.079 equivalent outage hours (EOH)\n",
      "The power Resilience Metric value based on PCS is 0.012 equivalent outage hours (EOH)\n",
      "The water Resilience Metric value based on ECS is 0.003 equivalent outage hours (EOH)\n",
      "The water Resilience Metric value based on PCS is 0.003 equivalent outage hours (EOH)\n",
      "The weighted AUC value based on ECS is 0.041\n",
      "The weighted AUC value based on PCS is 0.0075\n",
      "******************\n",
      "\n",
      "Simulating network conditions until 1500 s\n",
      "Simulation time:  1500.0 ; Hydraulic time step:  60.0 ; Report time step:  60\n",
      "Updating status of directly affected components between 1500.0 and 5700.0...\n",
      "The power Resilience Metric value based on ECS is 0.096 equivalent outage hours (EOH)\n",
      "The power Resilience Metric value based on PCS is 0.014 equivalent outage hours (EOH)\n",
      "The water Resilience Metric value based on ECS is 0.004 equivalent outage hours (EOH)\n",
      "The water Resilience Metric value based on PCS is 0.003 equivalent outage hours (EOH)\n",
      "The weighted AUC value based on ECS is 0.05\n",
      "The weighted AUC value based on PCS is 0.0085\n",
      "******************\n",
      "\n",
      "Simulating network conditions until 5700 s\n",
      "Simulation time:  5700.0 ; Hydraulic time step:  60.0 ; Report time step:  60\n",
      "Updating status of directly affected components between 5700.0 and 5820.0...\n",
      "The power Resilience Metric value based on ECS is 0.387 equivalent outage hours (EOH)\n",
      "The power Resilience Metric value based on PCS is 0.057 equivalent outage hours (EOH)\n",
      "The water Resilience Metric value based on ECS is 0.555 equivalent outage hours (EOH)\n",
      "The water Resilience Metric value based on PCS is 0.554 equivalent outage hours (EOH)\n",
      "The weighted AUC value based on ECS is 0.47100000000000003\n",
      "The weighted AUC value based on PCS is 0.30550000000000005\n",
      "******************\n",
      "\n",
      "Simulating network conditions until 5820 s\n",
      "Simulation time:  5820.0 ; Hydraulic time step:  60.0 ; Report time step:  60\n",
      "Updating status of directly affected components between 5820.0 and 5940.0...\n",
      "The power Resilience Metric value based on ECS is 0.396 equivalent outage hours (EOH)\n",
      "The power Resilience Metric value based on PCS is 0.058 equivalent outage hours (EOH)\n",
      "The water Resilience Metric value based on ECS is 0.589 equivalent outage hours (EOH)\n",
      "The water Resilience Metric value based on PCS is 0.587 equivalent outage hours (EOH)\n",
      "The weighted AUC value based on ECS is 0.4925\n",
      "The weighted AUC value based on PCS is 0.3225\n",
      "******************\n",
      "\n",
      "Simulating network conditions until 5940 s\n",
      "Simulation time:  5940.0 ; Hydraulic time step:  60.0 ; Report time step:  60\n",
      "Updating status of directly affected components between 5940.0 and 7020.0...\n",
      "The power Resilience Metric value based on ECS is 0.404 equivalent outage hours (EOH)\n",
      "The power Resilience Metric value based on PCS is 0.06 equivalent outage hours (EOH)\n",
      "The water Resilience Metric value based on ECS is 0.622 equivalent outage hours (EOH)\n",
      "The water Resilience Metric value based on PCS is 0.621 equivalent outage hours (EOH)\n",
      "The weighted AUC value based on ECS is 0.513\n",
      "The weighted AUC value based on PCS is 0.3405\n",
      "******************\n",
      "\n",
      "Simulating network conditions until 7020 s\n",
      "Simulation time:  7020.0 ; Hydraulic time step:  60.0 ; Report time step:  60\n",
      "Updating status of directly affected components between 7020.0 and 18900.0...\n",
      "The power Resilience Metric value based on ECS is 0.479 equivalent outage hours (EOH)\n",
      "The power Resilience Metric value based on PCS is 0.071 equivalent outage hours (EOH)\n",
      "The water Resilience Metric value based on ECS is 0.922 equivalent outage hours (EOH)\n",
      "The water Resilience Metric value based on PCS is 0.921 equivalent outage hours (EOH)\n",
      "The weighted AUC value based on ECS is 0.7005\n",
      "The weighted AUC value based on PCS is 0.496\n",
      "******************\n",
      "\n",
      "Simulating network conditions until 18900 s\n",
      "Simulation time:  18900.0 ; Hydraulic time step:  60.0 ; Report time step:  60\n",
      "Updating status of directly affected components between 18900.0 and 19020.0...\n",
      "The power Resilience Metric value based on ECS is 1.304 equivalent outage hours (EOH)\n",
      "The power Resilience Metric value based on PCS is 0.193 equivalent outage hours (EOH)\n",
      "The water Resilience Metric value based on ECS is 4.222 equivalent outage hours (EOH)\n",
      "The water Resilience Metric value based on PCS is 4.221 equivalent outage hours (EOH)\n",
      "The weighted AUC value based on ECS is 2.7630000000000003\n",
      "The weighted AUC value based on PCS is 2.207\n",
      "******************\n",
      "\n",
      "Simulating network conditions until 19020 s\n",
      "Simulation time:  19020.0 ; Hydraulic time step:  60.0 ; Report time step:  60\n",
      "Updating status of directly affected components between 19020.0 and 19140.0...\n",
      "The power Resilience Metric value based on ECS is 1.308 equivalent outage hours (EOH)\n",
      "The power Resilience Metric value based on PCS is 0.193 equivalent outage hours (EOH)\n",
      "The water Resilience Metric value based on ECS is 4.247 equivalent outage hours (EOH)\n",
      "The water Resilience Metric value based on PCS is 4.246 equivalent outage hours (EOH)\n",
      "The weighted AUC value based on ECS is 2.7775\n",
      "The weighted AUC value based on PCS is 2.2195\n",
      "******************\n",
      "\n",
      "Simulating network conditions until 19140 s\n",
      "Simulation time:  19140.0 ; Hydraulic time step:  60.0 ; Report time step:  60\n",
      "Updating status of directly affected components between 19140.0 and 22740.0...\n",
      "The power Resilience Metric value based on ECS is 1.308 equivalent outage hours (EOH)\n",
      "The power Resilience Metric value based on PCS is 0.193 equivalent outage hours (EOH)\n",
      "The water Resilience Metric value based on ECS is 4.247 equivalent outage hours (EOH)\n",
      "The water Resilience Metric value based on PCS is 4.246 equivalent outage hours (EOH)\n",
      "The weighted AUC value based on ECS is 2.7775\n",
      "The weighted AUC value based on PCS is 2.2195\n",
      "******************\n",
      "\n",
      "Simulating network conditions until 22740 s\n",
      "Simulation time:  22740.0 ; Hydraulic time step:  60.0 ; Report time step:  60\n",
      "Updating status of directly affected components between 22740.0 and 22860.0...\n",
      "The power Resilience Metric value based on ECS is 1.308 equivalent outage hours (EOH)\n",
      "The power Resilience Metric value based on PCS is 0.193 equivalent outage hours (EOH)\n",
      "The water Resilience Metric value based on ECS is 4.247 equivalent outage hours (EOH)\n",
      "The water Resilience Metric value based on PCS is 4.246 equivalent outage hours (EOH)\n",
      "The weighted AUC value based on ECS is 2.7775\n",
      "The weighted AUC value based on PCS is 2.2195\n",
      "******************\n",
      "\n",
      "Simulating network conditions until 22860 s\n",
      "Simulation time:  22860.0 ; Hydraulic time step:  60.0 ; Report time step:  60\n",
      "Updating status of directly affected components between 22860.0 and 22980.0...\n",
      "The power Resilience Metric value based on ECS is 1.308 equivalent outage hours (EOH)\n",
      "The power Resilience Metric value based on PCS is 0.193 equivalent outage hours (EOH)\n",
      "The water Resilience Metric value based on ECS is 4.247 equivalent outage hours (EOH)\n",
      "The water Resilience Metric value based on PCS is 4.246 equivalent outage hours (EOH)\n",
      "The weighted AUC value based on ECS is 2.7775\n",
      "The weighted AUC value based on PCS is 2.2195\n",
      "******************\n",
      "\n",
      "Simulating network conditions until 22980 s\n",
      "Simulation time:  22980.0 ; Hydraulic time step:  60.0 ; Report time step:  60\n",
      "Updating status of directly affected components between 22980.0 and 28500.0...\n",
      "The power Resilience Metric value based on ECS is 1.308 equivalent outage hours (EOH)\n",
      "The power Resilience Metric value based on PCS is 0.193 equivalent outage hours (EOH)\n",
      "The water Resilience Metric value based on ECS is 4.247 equivalent outage hours (EOH)\n",
      "The water Resilience Metric value based on PCS is 4.246 equivalent outage hours (EOH)\n",
      "The weighted AUC value based on ECS is 2.7775\n",
      "The weighted AUC value based on PCS is 2.2195\n",
      "******************\n",
      "\n",
      "Simulating network conditions until 28500 s\n",
      "Simulation time:  28500.0 ; Hydraulic time step:  60.0 ; Report time step:  60\n",
      "Updating status of directly affected components between 28500.0 and 28620.0...\n",
      "The power Resilience Metric value based on ECS is 1.308 equivalent outage hours (EOH)\n",
      "The power Resilience Metric value based on PCS is 0.193 equivalent outage hours (EOH)\n",
      "The water Resilience Metric value based on ECS is 4.247 equivalent outage hours (EOH)\n",
      "The water Resilience Metric value based on PCS is 4.246 equivalent outage hours (EOH)\n",
      "The weighted AUC value based on ECS is 2.7775\n",
      "The weighted AUC value based on PCS is 2.2195\n",
      "******************\n",
      "\n",
      "Simulating network conditions until 28620 s\n",
      "Simulation time:  28620.0 ; Hydraulic time step:  60.0 ; Report time step:  60\n",
      "Updating status of directly affected components between 28620.0 and 28740.0...\n",
      "The power Resilience Metric value based on ECS is 1.308 equivalent outage hours (EOH)\n",
      "The power Resilience Metric value based on PCS is 0.193 equivalent outage hours (EOH)\n",
      "The water Resilience Metric value based on ECS is 4.247 equivalent outage hours (EOH)\n",
      "The water Resilience Metric value based on PCS is 4.246 equivalent outage hours (EOH)\n",
      "The weighted AUC value based on ECS is 2.7775\n",
      "The weighted AUC value based on PCS is 2.2195\n",
      "******************\n",
      "\n",
      "Simulation completed in 2 s\n"
     ]
    }
   ],
   "source": [
    "resilience_metrics = bf_simulation.simulate_interdependent_effects(\n",
    "    bf_simulation.network_recovery)"
   ]
  },
  {
   "cell_type": "code",
   "execution_count": 23,
   "metadata": {},
   "outputs": [
    {
     "name": "stdout",
     "output_type": "stream",
     "text": [
      "The simulation results successfully saved to ..\\..\\infrarisk\\data\\networks\\in2\\scenarios\\test1\\capacity\n"
     ]
    }
   ],
   "source": [
    "strategy = 'capacity'\n",
    "bf_simulation.write_results(f\"{MAIN_DIR}/{network_dir}/{scenario_folder}/{strategy}\", \n",
    "                            resilience_metrics)"
   ]
  },
  {
   "cell_type": "markdown",
   "metadata": {},
   "source": [
    "### (f) Calculation of resilience metric"
   ]
  },
  {
   "cell_type": "code",
   "execution_count": 24,
   "metadata": {},
   "outputs": [
    {
     "name": "stdout",
     "output_type": "stream",
     "text": [
      "The power Resilience Metric value based on ECS is 1.308 equivalent outage hours (EOH)\n",
      "The power Resilience Metric value based on PCS is 0.193 equivalent outage hours (EOH)\n"
     ]
    }
   ],
   "source": [
    "resilience_metrics.calculate_power_resmetric(network_recovery)"
   ]
  },
  {
   "cell_type": "code",
   "execution_count": 25,
   "metadata": {},
   "outputs": [
    {
     "name": "stdout",
     "output_type": "stream",
     "text": [
      "The water Resilience Metric value based on ECS is 4.247 equivalent outage hours (EOH)\n",
      "The water Resilience Metric value based on PCS is 4.246 equivalent outage hours (EOH)\n"
     ]
    }
   ],
   "source": [
    "resilience_metrics.calculate_water_resmetrics(network_recovery)"
   ]
  },
  {
   "cell_type": "code",
   "execution_count": 26,
   "metadata": {},
   "outputs": [
    {
     "name": "stdout",
     "output_type": "stream",
     "text": [
      "The weighted AUC value based on ECS is 2.7775\n",
      "The weighted AUC value based on PCS is 2.2195\n"
     ]
    }
   ],
   "source": [
    "resilience_metrics.set_weighted_auc_metrics()"
   ]
  },
  {
   "cell_type": "markdown",
   "metadata": {},
   "source": [
    "# Plot network performance during the disruption"
   ]
  },
  {
   "cell_type": "markdown",
   "metadata": {},
   "source": [
    "### Overall system performance considering indirect effects"
   ]
  },
  {
   "cell_type": "code",
   "execution_count": 27,
   "metadata": {},
   "outputs": [
    {
     "data": {
      "image/png": "[encoded data removed]",
      "text/plain": [
       "<Figure size 700x500 with 1 Axes>"
      ]
     },
     "metadata": {},
     "output_type": "display_data"
    }
   ],
   "source": [
    "model_plots.plot_interdependent_effects(resilience_metrics, metric = 'pcs', title = False)"
   ]
  },
  {
   "cell_type": "code",
   "execution_count": 35,
   "metadata": {},
   "outputs": [
    {
     "name": "stdout",
     "output_type": "stream",
     "text": [
      "{'power': ['P_L5'], 'water': ['W_P21', 'W_WP9'], 'transpo': []}\n"
     ]
    },
    {
     "data": {
      "text/html": [
       "<div class=\"bk-root\">\n",
       "        <a href=\"https://bokeh.org\" target=\"_blank\" class=\"bk-logo bk-logo-small bk-logo-notebook\"></a>\n",
       "        <span id=\"2714\">Loading BokehJS ...</span>\n",
       "    </div>\n"
      ]
     },
     "metadata": {},
     "output_type": "display_data"
    },
    {
     "data": {
      "application/javascript": "(function(root) {\n  function now() {\n    return new Date();\n  }\n\n  const force = true;\n\n  if (typeof root._bokeh_onload_callbacks === \"undefined\" || force === true) {\n    root._bokeh_onload_callbacks = [];\n    root._bokeh_is_loading = undefined;\n  }\n\nconst JS_MIME_TYPE = 'application/javascript';\n  const HTML_MIME_TYPE = 'text/html';\n  const EXEC_MIME_TYPE = 'application/vnd.bokehjs_exec.v0+json';\n  const CLASS_NAME = 'output_bokeh rendered_html';\n\n  /**\n   * Render data to the DOM node\n   */\n  function render(props, node) {\n    const script = document.createElement(\"script\");\n    node.appendChild(script);\n  }\n\n  /**\n   * Handle when an output is cleared or removed\n   */\n  function handleClearOutput(event, handle) {\n    const cell = handle.cell;\n\n    const id = cell.output_area._bokeh_element_id;\n    const server_id = cell.output_area._bokeh_server_id;\n    // Clean up Bokeh references\n    if (id != null && id in Bokeh.index) {\n      Bokeh.index[id].model.document.clear();\n      delete Bokeh.index[id];\n    }\n\n    if (server_id !== undefined) {\n      // Clean up Bokeh references\n      const cmd_clean = \"from bokeh.io.state import curstate; print(curstate().uuid_to_server['\" + server_id + \"'].get_sessions()[0].document.roots[0]._id)\";\n      cell.notebook.kernel.execute(cmd_clean, {\n        iopub: {\n          output: function(msg) {\n            const id = msg.content.text.trim();\n            if (id in Bokeh.index) {\n              Bokeh.index[id].model.document.clear();\n              delete Bokeh.index[id];\n            }\n          }\n        }\n      });\n      // Destroy server and session\n      const cmd_destroy = \"import bokeh.io.notebook as ion; ion.destroy_server('\" + server_id + \"')\";\n      cell.notebook.kernel.execute(cmd_destroy);\n    }\n  }\n\n  /**\n   * Handle when a new output is added\n   */\n  function handleAddOutput(event, handle) {\n    const output_area = handle.output_area;\n    const output = handle.output;\n\n    // limit handleAddOutput to display_data with EXEC_MIME_TYPE content only\n    if ((output.output_type != \"display_data\") || (!Object.prototype.hasOwnProperty.call(output.data, EXEC_MIME_TYPE))) {\n      return\n    }\n\n    const toinsert = output_area.element.find(\".\" + CLASS_NAME.split(' ')[0]);\n\n    if (output.metadata[EXEC_MIME_TYPE][\"id\"] !== undefined) {\n      toinsert[toinsert.length - 1].firstChild.textContent = output.data[JS_MIME_TYPE];\n      // store reference to embed id on output_area\n      output_area._bokeh_element_id = output.metadata[EXEC_MIME_TYPE][\"id\"];\n    }\n    if (output.metadata[EXEC_MIME_TYPE][\"server_id\"] !== undefined) {\n      const bk_div = document.createElement(\"div\");\n      bk_div.innerHTML = output.data[HTML_MIME_TYPE];\n      const script_attrs = bk_div.children[0].attributes;\n      for (let i = 0; i < script_attrs.length; i++) {\n        toinsert[toinsert.length - 1].firstChild.setAttribute(script_attrs[i].name, script_attrs[i].value);\n        toinsert[toinsert.length - 1].firstChild.textContent = bk_div.children[0].textContent\n      }\n      // store reference to server id on output_area\n      output_area._bokeh_server_id = output.metadata[EXEC_MIME_TYPE][\"server_id\"];\n    }\n  }\n\n  function register_renderer(events, OutputArea) {\n\n    function append_mime(data, metadata, element) {\n      // create a DOM node to render to\n      const toinsert = this.create_output_subarea(\n        metadata,\n        CLASS_NAME,\n        EXEC_MIME_TYPE\n      );\n      this.keyboard_manager.register_events(toinsert);\n      // Render to node\n      const props = {data: data, metadata: metadata[EXEC_MIME_TYPE]};\n      render(props, toinsert[toinsert.length - 1]);\n      element.append(toinsert);\n      return toinsert\n    }\n\n    /* Handle when an output is cleared or removed */\n    events.on('clear_output.CodeCell', handleClearOutput);\n    events.on('delete.Cell', handleClearOutput);\n\n    /* Handle when a new output is added */\n    events.on('output_added.OutputArea', handleAddOutput);\n\n    /**\n     * Register the mime type and append_mime function with output_area\n     */\n    OutputArea.prototype.register_mime_type(EXEC_MIME_TYPE, append_mime, {\n      /* Is output safe? */\n      safe: true,\n      /* Index of renderer in `output_area.display_order` */\n      index: 0\n    });\n  }\n\n  // register the mime type if in Jupyter Notebook environment and previously unregistered\n  if (root.Jupyter !== undefined) {\n    const events = require('base/js/events');\n    const OutputArea = require('notebook/js/outputarea').OutputArea;\n\n    if (OutputArea.prototype.mime_types().indexOf(EXEC_MIME_TYPE) == -1) {\n      register_renderer(events, OutputArea);\n    }\n  }\n  if (typeof (root._bokeh_timeout) === \"undefined\" || force === true) {\n    root._bokeh_timeout = Date.now() + 5000;\n    root._bokeh_failed_load = false;\n  }\n\n  const NB_LOAD_WARNING = {'data': {'text/html':\n     \"<div style='background-color: #fdd'>\\n\"+\n     \"<p>\\n\"+\n     \"BokehJS does not appear to have successfully loaded. If loading BokehJS from CDN, this \\n\"+\n     \"may be due to a slow or bad network connection. Possible fixes:\\n\"+\n     \"</p>\\n\"+\n     \"<ul>\\n\"+\n     \"<li>re-rerun `output_notebook()` to attempt to load from CDN again, or</li>\\n\"+\n     \"<li>use INLINE resources instead, as so:</li>\\n\"+\n     \"</ul>\\n\"+\n     \"<code>\\n\"+\n     \"from bokeh.resources import INLINE\\n\"+\n     \"output_notebook(resources=INLINE)\\n\"+\n     \"</code>\\n\"+\n     \"</div>\"}};\n\n  function display_loaded() {\n    const el = document.getElementById(\"2714\");\n    if (el != null) {\n      el.textContent = \"BokehJS is loading...\";\n    }\n    if (root.Bokeh !== undefined) {\n      if (el != null) {\n        el.textContent = \"BokehJS \" + root.Bokeh.version + \" successfully loaded.\";\n      }\n    } else if (Date.now() < root._bokeh_timeout) {\n      setTimeout(display_loaded, 100)\n    }\n  }\n\n  function run_callbacks() {\n    try {\n      root._bokeh_onload_callbacks.forEach(function(callback) {\n        if (callback != null)\n          callback();\n      });\n    } finally {\n      delete root._bokeh_onload_callbacks\n    }\n    console.debug(\"Bokeh: all callbacks have finished\");\n  }\n\n  function load_libs(css_urls, js_urls, callback) {\n    if (css_urls == null) css_urls = [];\n    if (js_urls == null) js_urls = [];\n\n    root._bokeh_onload_callbacks.push(callback);\n    if (root._bokeh_is_loading > 0) {\n      console.debug(\"Bokeh: BokehJS is being loaded, scheduling callback at\", now());\n      return null;\n    }\n    if (js_urls == null || js_urls.length === 0) {\n      run_callbacks();\n      return null;\n    }\n    console.debug(\"Bokeh: BokehJS not loaded, scheduling load and callback at\", now());\n    root._bokeh_is_loading = css_urls.length + js_urls.length;\n\n    function on_load() {\n      root._bokeh_is_loading--;\n      if (root._bokeh_is_loading === 0) {\n        console.debug(\"Bokeh: all BokehJS libraries/stylesheets loaded\");\n        run_callbacks()\n      }\n    }\n\n    function on_error(url) {\n      console.error(\"failed to load \" + url);\n    }\n\n    for (let i = 0; i < css_urls.length; i++) {\n      const url = css_urls[i];\n      const element = document.createElement(\"link\");\n      element.onload = on_load;\n      element.onerror = on_error.bind(null, url);\n      element.rel = \"stylesheet\";\n      element.type = \"text/css\";\n      element.href = url;\n      console.debug(\"Bokeh: injecting link tag for BokehJS stylesheet: \", url);\n      document.body.appendChild(element);\n    }\n\n    for (let i = 0; i < js_urls.length; i++) {\n      const url = js_urls[i];\n      const element = document.createElement('script');\n      element.onload = on_load;\n      element.onerror = on_error.bind(null, url);\n      element.async = false;\n      element.src = url;\n      console.debug(\"Bokeh: injecting script tag for BokehJS library: \", url);\n      document.head.appendChild(element);\n    }\n  };\n\n  function inject_raw_css(css) {\n    const element = document.createElement(\"style\");\n    element.appendChild(document.createTextNode(css));\n    document.body.appendChild(element);\n  }\n\n  const js_urls = [\"https://cdn.bokeh.org/bokeh/release/bokeh-2.4.3.min.js\", \"https://cdn.bokeh.org/bokeh/release/bokeh-gl-2.4.3.min.js\", \"https://cdn.bokeh.org/bokeh/release/bokeh-widgets-2.4.3.min.js\", \"https://cdn.bokeh.org/bokeh/release/bokeh-tables-2.4.3.min.js\", \"https://cdn.bokeh.org/bokeh/release/bokeh-mathjax-2.4.3.min.js\"];\n  const css_urls = [];\n\n  const inline_js = [    function(Bokeh) {\n      Bokeh.set_log_level(\"info\");\n    },\nfunction(Bokeh) {\n    }\n  ];\n\n  function run_inline_js() {\n    if (root.Bokeh !== undefined || force === true) {\n          for (let i = 0; i < inline_js.length; i++) {\n      inline_js[i].call(root, root.Bokeh);\n    }\nif (force === true) {\n        display_loaded();\n      }} else if (Date.now() < root._bokeh_timeout) {\n      setTimeout(run_inline_js, 100);\n    } else if (!root._bokeh_failed_load) {\n      console.log(\"Bokeh: BokehJS failed to load within specified timeout.\");\n      root._bokeh_failed_load = true;\n    } else if (force !== true) {\n      const cell = $(document.getElementById(\"2714\")).parents('.cell').data().cell;\n      cell.output_area.append_execute_result(NB_LOAD_WARNING)\n    }\n  }\n\n  if (root._bokeh_is_loading === 0) {\n    console.debug(\"Bokeh: BokehJS loaded, going straight to plotting\");\n    run_inline_js();\n  } else {\n    load_libs(css_urls, js_urls, function() {\n      console.debug(\"Bokeh: BokehJS plotting callback run at\", now());\n      run_inline_js();\n    });\n  }\n}(window));",
      "application/vnd.bokehjs_load.v0+json": ""
     },
     "metadata": {},
     "output_type": "display_data"
    },
    {
     "data": {
      "text/html": [
       "\n",
       "  <div class=\"bk-root\" id=\"2d45365f-2a35-4652-adc1-7d69480f9466\" data-root-id=\"2682\"></div>\n"
      ]
     },
     "metadata": {},
     "output_type": "display_data"
    },
    {
     "data": {
      "application/javascript": "(function(root) {\n  function embed_document(root) {\n  const docs_json = {\"b79c3ddb-689a-4968-9f8a-01fce2be6b24\":{\"defs\":[],\"roots\":{\"references\":[{\"attributes\":{\"background_fill_color\":\"black\",\"below\":[{\"id\":\"2691\"}],\"center\":[{\"id\":\"2694\"},{\"id\":\"2698\"},{\"id\":\"2744\"}],\"height\":450,\"left\":[{\"id\":\"2695\"}],\"renderers\":[{\"id\":\"2721\"},{\"id\":\"2729\"},{\"id\":\"2752\"}],\"title\":{\"id\":\"2731\"},\"toolbar\":{\"id\":\"2706\"},\"width\":800,\"x_range\":{\"id\":\"2683\"},\"x_scale\":{\"id\":\"2687\"},\"y_range\":{\"id\":\"2685\"},\"y_scale\":{\"id\":\"2689\"}},\"id\":\"2682\",\"subtype\":\"Figure\",\"type\":\"Plot\"},{\"attributes\":{},\"id\":\"2687\",\"type\":\"LinearScale\"},{\"attributes\":{\"label\":{\"field\":\"fail_status\"},\"renderers\":[{\"id\":\"2729\"}]},\"id\":\"2745\",\"type\":\"LegendItem\"},{\"attributes\":{},\"id\":\"2683\",\"type\":\"DataRange1d\"},{\"attributes\":{\"data\":{\"fail_status\":[\"Functional\",\"Functional\",\"Functional\",\"Functional\",\"Functional\",\"Functional\",\"Functional\",\"Functional\",\"Functional\",\"Functional\",\"Functional\",\"Functional\",\"Functional\",\"Functional\",\"Functional\",\"Functional\",\"Functional\",\"Functional\",\"Functional\",\"Functional\",\"Functional\",\"Functional\",\"Functional\",\"Functional\",\"Functional\",\"Functional\",\"Functional\",\"Functional\",\"Functional\"],\"id\":[\"P_B1\",\"P_B2\",\"P_B3\",\"P_B4\",\"P_B5\",\"P_B6\",\"P_B7\",\"P_B9\",\"P_B8\",\"W_J10\",\"W_J11\",\"W_J12\",\"W_J13\",\"W_J21\",\"W_J22\",\"W_J23\",\"W_J31\",\"W_J32\",\"W_T2\",\"W_R9\",\"T_J1\",\"T_J2\",\"T_J3\",\"T_J4\",\"T_J5\",\"T_J6\",\"T_J7\",\"T_J8\",\"T_J9\"],\"node_category\":[\"Bus\",\"Bus\",\"Bus\",\"Bus\",\"Bus\",\"Bus\",\"Bus\",\"Bus\",\"Bus\",\"Junction\",\"Junction\",\"Junction\",\"Junction\",\"Junction\",\"Junction\",\"Junction\",\"Junction\",\"Junction\",\"Tank\",\"Reservoir\",\"Junction\",\"Junction\",\"Junction\",\"Junction\",\"Junction\",\"Junction\",\"Junction\",\"Junction\",\"Junction\"],\"node_type\":[\"power\",\"power\",\"power\",\"power\",\"power\",\"power\",\"power\",\"power\",\"power\",\"water\",\"water\",\"water\",\"water\",\"water\",\"water\",\"water\",\"water\",\"water\",\"water\",\"water\",\"transpo\",\"transpo\",\"transpo\",\"transpo\",\"transpo\",\"transpo\",\"transpo\",\"transpo\",\"transpo\"],\"x\":[400.0,400.0,400.0,400.0,100.0,200.0,200.0,200.0,100.0,200.0,300.0,500.0,700.0,300.0,500.0,700.0,300.0,500.0,500.0,100.0,0,300,600,0,300,600,0,300,600],\"y\":[550.0,275.0,225.0,0.0,0.0,550.0,350.0,250.0,250.0,700.0,700.0,700.0,700.0,400.0,400.0,400.0,100.0,100.0,900.0,700.0,700,700,700,325,325,325,0,0,0]},\"selected\":{\"id\":\"2740\"},\"selection_policy\":{\"id\":\"2739\"}},\"id\":\"2715\",\"type\":\"ColumnDataSource\"},{\"attributes\":{},\"id\":\"2735\",\"type\":\"AllLabels\"},{\"attributes\":{\"bottom_units\":\"screen\",\"coordinates\":null,\"fill_alpha\":0.5,\"fill_color\":\"lightgrey\",\"group\":null,\"left_units\":\"screen\",\"level\":\"overlay\",\"line_alpha\":1.0,\"line_color\":\"black\",\"line_dash\":[4,4],\"line_width\":2,\"right_units\":\"screen\",\"syncable\":false,\"top_units\":\"screen\"},\"id\":\"2705\",\"type\":\"BoxAnnotation\"},{\"attributes\":{},\"id\":\"2703\",\"type\":\"ResetTool\"},{\"attributes\":{\"tools\":[{\"id\":\"2699\"},{\"id\":\"2700\"},{\"id\":\"2701\"},{\"id\":\"2702\"},{\"id\":\"2703\"},{\"id\":\"2704\"}]},\"id\":\"2706\",\"type\":\"Toolbar\"},{\"attributes\":{},\"id\":\"2737\",\"type\":\"BasicTickFormatter\"},{\"attributes\":{\"line_alpha\":{\"value\":0.2},\"line_color\":{\"field\":\"fail_status\",\"transform\":{\"id\":\"2724\"}},\"line_width\":{\"value\":2},\"xs\":{\"field\":\"x\"},\"ys\":{\"field\":\"y\"}},\"id\":\"2728\",\"type\":\"MultiLine\"},{\"attributes\":{},\"id\":\"2702\",\"type\":\"SaveTool\"},{\"attributes\":{\"axis\":{\"id\":\"2691\"},\"coordinates\":null,\"group\":null,\"ticker\":null,\"visible\":false},\"id\":\"2694\",\"type\":\"Grid\"},{\"attributes\":{\"coordinates\":null,\"data_source\":{\"id\":\"2715\"},\"glyph\":{\"id\":\"2718\"},\"group\":null,\"hover_glyph\":null,\"muted_glyph\":{\"id\":\"2720\"},\"nonselection_glyph\":{\"id\":\"2719\"},\"view\":{\"id\":\"2722\"}},\"id\":\"2721\",\"type\":\"GlyphRenderer\"},{\"attributes\":{},\"id\":\"2738\",\"type\":\"AllLabels\"},{\"attributes\":{\"coordinates\":null,\"data_source\":{\"id\":\"2747\"},\"glyph\":{\"id\":\"2749\"},\"group\":null,\"hover_glyph\":null,\"muted_glyph\":{\"id\":\"2751\"},\"nonselection_glyph\":{\"id\":\"2750\"},\"view\":{\"id\":\"2753\"}},\"id\":\"2752\",\"type\":\"GlyphRenderer\"},{\"attributes\":{\"axis\":{\"id\":\"2695\"},\"coordinates\":null,\"dimension\":1,\"group\":null,\"ticker\":null,\"visible\":false},\"id\":\"2698\",\"type\":\"Grid\"},{\"attributes\":{\"label\":{\"field\":\"crew_type\"},\"renderers\":[{\"id\":\"2752\"}]},\"id\":\"2769\",\"type\":\"LegendItem\"},{\"attributes\":{},\"id\":\"2689\",\"type\":\"LinearScale\"},{\"attributes\":{\"background_fill_alpha\":0.3,\"background_fill_color\":\"black\",\"click_policy\":\"mute\",\"coordinates\":null,\"group\":null,\"items\":[{\"id\":\"2745\"},{\"id\":\"2769\"}],\"label_text_color\":\"white\",\"location\":\"top_left\"},\"id\":\"2744\",\"type\":\"Legend\"},{\"attributes\":{\"fill_alpha\":{\"value\":0.2},\"fill_color\":{\"field\":\"crew_type\",\"transform\":{\"id\":\"2746\"}},\"hatch_alpha\":{\"value\":0.2},\"hatch_color\":{\"field\":\"crew_type\",\"transform\":{\"id\":\"2746\"}},\"line_alpha\":{\"value\":0.2},\"line_color\":{\"field\":\"crew_type\",\"transform\":{\"id\":\"2746\"}},\"marker\":{\"value\":\"square\"},\"size\":{\"value\":10},\"x\":{\"field\":\"x\"},\"y\":{\"field\":\"y\"}},\"id\":\"2751\",\"type\":\"Scatter\"},{\"attributes\":{},\"id\":\"2696\",\"type\":\"BasicTicker\"},{\"attributes\":{\"fill_alpha\":{\"value\":0.2},\"fill_color\":{\"field\":\"fail_status\",\"transform\":{\"id\":\"2716\"}},\"hatch_alpha\":{\"value\":0.2},\"hatch_color\":{\"field\":\"fail_status\",\"transform\":{\"id\":\"2716\"}},\"line_alpha\":{\"value\":0.2},\"line_color\":{\"field\":\"fail_status\",\"transform\":{\"id\":\"2716\"}},\"marker\":{\"value\":\"square\"},\"size\":{\"value\":3},\"x\":{\"field\":\"x\"},\"y\":{\"field\":\"y\"}},\"id\":\"2720\",\"type\":\"Scatter\"},{\"attributes\":{},\"id\":\"2739\",\"type\":\"UnionRenderers\"},{\"attributes\":{\"fill_alpha\":{\"value\":0.1},\"fill_color\":{\"field\":\"crew_type\",\"transform\":{\"id\":\"2746\"}},\"hatch_alpha\":{\"value\":0.1},\"hatch_color\":{\"field\":\"crew_type\",\"transform\":{\"id\":\"2746\"}},\"line_alpha\":{\"value\":0.1},\"line_color\":{\"field\":\"crew_type\",\"transform\":{\"id\":\"2746\"}},\"marker\":{\"value\":\"square\"},\"size\":{\"value\":10},\"x\":{\"field\":\"x\"},\"y\":{\"field\":\"y\"}},\"id\":\"2750\",\"type\":\"Scatter\"},{\"attributes\":{\"data\":{\"crew_type\":[\"Power crew\",\"Water crew\",\"Transportation crew\"],\"x\":[280,320,340],\"y\":[-20,20,40]},\"selected\":{\"id\":\"2767\"},\"selection_policy\":{\"id\":\"2766\"}},\"id\":\"2747\",\"type\":\"ColumnDataSource\"},{\"attributes\":{\"coordinates\":null,\"data_source\":{\"id\":\"2723\"},\"glyph\":{\"id\":\"2726\"},\"group\":null,\"hover_glyph\":null,\"muted_glyph\":{\"id\":\"2728\"},\"nonselection_glyph\":{\"id\":\"2727\"},\"view\":{\"id\":\"2730\"}},\"id\":\"2729\",\"type\":\"GlyphRenderer\"},{\"attributes\":{\"factors\":[\"Power crew\",\"Transportation crew\",\"Water crew\"],\"palette\":[\"#440154\",\"#208F8C\",\"#FDE724\"]},\"id\":\"2746\",\"type\":\"CategoricalColorMapper\"},{\"attributes\":{\"overlay\":{\"id\":\"2705\"}},\"id\":\"2701\",\"type\":\"BoxZoomTool\"},{\"attributes\":{\"line_color\":{\"field\":\"fail_status\",\"transform\":{\"id\":\"2724\"}},\"line_width\":{\"value\":2},\"xs\":{\"field\":\"x\"},\"ys\":{\"field\":\"y\"}},\"id\":\"2726\",\"type\":\"MultiLine\"},{\"attributes\":{\"source\":{\"id\":\"2747\"}},\"id\":\"2753\",\"type\":\"CDSView\"},{\"attributes\":{\"factors\":[\"Functional\",\"Disrupted\"],\"palette\":[\"#66bd63\",\"#d73027\"]},\"id\":\"2724\",\"type\":\"CategoricalColorMapper\"},{\"attributes\":{},\"id\":\"2704\",\"type\":\"HelpTool\"},{\"attributes\":{},\"id\":\"2734\",\"type\":\"BasicTickFormatter\"},{\"attributes\":{},\"id\":\"2685\",\"type\":\"DataRange1d\"},{\"attributes\":{\"source\":{\"id\":\"2723\"}},\"id\":\"2730\",\"type\":\"CDSView\"},{\"attributes\":{\"coordinates\":null,\"formatter\":{\"id\":\"2737\"},\"group\":null,\"major_label_policy\":{\"id\":\"2738\"},\"ticker\":{\"id\":\"2692\"},\"visible\":false},\"id\":\"2691\",\"type\":\"LinearAxis\"},{\"attributes\":{\"coordinates\":null,\"formatter\":{\"id\":\"2734\"},\"group\":null,\"major_label_policy\":{\"id\":\"2735\"},\"ticker\":{\"id\":\"2696\"},\"visible\":false},\"id\":\"2695\",\"type\":\"LinearAxis\"},{\"attributes\":{\"data\":{\"fail_status\":[\"Functional\",\"Functional\",\"Functional\",\"Functional\",\"Functional\",\"Disrupted\",\"Functional\",\"Functional\",\"Functional\",\"Disrupted\",\"Functional\",\"Functional\",\"Functional\",\"Functional\",\"Functional\",\"Functional\",\"Disrupted\",\"Functional\",\"Functional\",\"Functional\",\"Functional\",\"Functional\",\"Functional\",\"Functional\",\"Functional\",\"Functional\",\"Functional\",\"Functional\",\"Functional\",\"Functional\",\"Functional\",\"Functional\"],\"id\":[\"P_L1\",\"P_L4\",\"P_TF2\",\"P_L2\",\"P_L3\",\"P_L5\",\"P_S1\",\"P_TF1\",\"W_P10\",\"W_WP9\",\"W_P11\",\"W_P111\",\"W_P12\",\"W_P110\",\"W_P112\",\"W_P113\",\"W_P21\",\"W_P121\",\"W_P22\",\"W_P122\",\"W_P31\",\"T_L12\",\"T_L14\",\"T_L13\",\"T_L15\",\"T_L16\",\"T_L18\",\"T_L17\",\"T_L19\",\"T_L20\",\"T_L21\",\"T_L22\"],\"link_category\":[\"Power line\",\"Power line\",\"Transformer\",\"Power line\",\"Power line\",\"Power line\",\"Switch\",\"Transformer\",\"Water pipe\",\"Water pump\",\"Water pipe\",\"Water pipe\",\"Water pipe\",\"Water pipe\",\"Water pipe\",\"Water pipe\",\"Water pipe\",\"Water pipe\",\"Water pipe\",\"Water pipe\",\"Water pipe\",\"Road link\",\"Road link\",\"Road link\",\"Road link\",\"Road link\",\"Road link\",\"Road link\",\"Road link\",\"Road link\",\"Road link\",\"Road link\"],\"link_layer\":[\"power\",\"power\",\"power\",\"power\",\"power\",\"power\",\"power\",\"power\",\"water\",\"water\",\"water\",\"water\",\"water\",\"water\",\"water\",\"water\",\"water\",\"water\",\"water\",\"water\",\"water\",\"transpo\",\"transpo\",\"transpo\",\"transpo\",\"transpo\",\"transpo\",\"transpo\",\"transpo\",\"transpo\",\"transpo\",\"transpo\"],\"x\":[[400.0,400.0],[400.0,200.0],[400.0,400.0],[400.0,400.0],[400.0,100.0],[200.0,200.0],[200.0,200.0],[200.0,100.0],[200.0,300.0],[200.0,100.0],[300.0,500.0],[300.0,300.0],[500.0,700.0],[500.0,500.0],[500.0,500.0],[700.0,700.0],[300.0,500.0],[300.0,300.0],[500.0,700.0],[500.0,500.0],[300.0,500.0],[0,300],[0,0],[300,600],[600,300],[0,300],[0,0],[300,600],[300,300],[600,600],[0,300],[300,600]],\"y\":[[550.0,275.0],[550.0,550.0],[275.0,225.0],[225.0,0.0],[0.0,0.0],[550.0,350.0],[350.0,250.0],[250.0,250.0],[700.0,700.0],[700.0,700.0],[700.0,700.0],[700.0,400.0],[700.0,700.0],[700.0,900.0],[700.0,400.0],[700.0,400.0],[400.0,400.0],[400.0,100.0],[400.0,400.0],[400.0,100.0],[100.0,100.0],[700,700],[700,325],[700,700],[700,325],[325,325],[325,0],[325,325],[325,0],[325,0],[0,0],[0,0]]},\"selected\":{\"id\":\"2742\"},\"selection_policy\":{\"id\":\"2741\"}},\"id\":\"2723\",\"type\":\"ColumnDataSource\"},{\"attributes\":{\"fill_color\":{\"field\":\"crew_type\",\"transform\":{\"id\":\"2746\"}},\"hatch_color\":{\"field\":\"crew_type\",\"transform\":{\"id\":\"2746\"}},\"line_color\":{\"field\":\"crew_type\",\"transform\":{\"id\":\"2746\"}},\"marker\":{\"value\":\"square\"},\"size\":{\"value\":10},\"x\":{\"field\":\"x\"},\"y\":{\"field\":\"y\"}},\"id\":\"2749\",\"type\":\"Scatter\"},{\"attributes\":{\"source\":{\"id\":\"2715\"}},\"id\":\"2722\",\"type\":\"CDSView\"},{\"attributes\":{},\"id\":\"2699\",\"type\":\"PanTool\"},{\"attributes\":{},\"id\":\"2740\",\"type\":\"Selection\"},{\"attributes\":{},\"id\":\"2742\",\"type\":\"Selection\"},{\"attributes\":{},\"id\":\"2767\",\"type\":\"Selection\"},{\"attributes\":{\"factors\":[\"Functional\",\"Disrupted\"],\"palette\":[\"#66bd63\",\"#d73027\"]},\"id\":\"2716\",\"type\":\"CategoricalColorMapper\"},{\"attributes\":{\"line_alpha\":{\"value\":0.1},\"line_color\":{\"field\":\"fail_status\",\"transform\":{\"id\":\"2724\"}},\"line_width\":{\"value\":2},\"xs\":{\"field\":\"x\"},\"ys\":{\"field\":\"y\"}},\"id\":\"2727\",\"type\":\"MultiLine\"},{\"attributes\":{},\"id\":\"2700\",\"type\":\"WheelZoomTool\"},{\"attributes\":{},\"id\":\"2741\",\"type\":\"UnionRenderers\"},{\"attributes\":{\"fill_alpha\":{\"value\":0.7},\"fill_color\":{\"field\":\"fail_status\",\"transform\":{\"id\":\"2716\"}},\"hatch_alpha\":{\"value\":0.7},\"hatch_color\":{\"field\":\"fail_status\",\"transform\":{\"id\":\"2716\"}},\"line_alpha\":{\"value\":0.7},\"line_color\":{\"field\":\"fail_status\",\"transform\":{\"id\":\"2716\"}},\"marker\":{\"value\":\"square\"},\"size\":{\"value\":3},\"x\":{\"field\":\"x\"},\"y\":{\"field\":\"y\"}},\"id\":\"2718\",\"type\":\"Scatter\"},{\"attributes\":{\"fill_alpha\":{\"value\":0.1},\"fill_color\":{\"field\":\"fail_status\",\"transform\":{\"id\":\"2716\"}},\"hatch_alpha\":{\"value\":0.1},\"hatch_color\":{\"field\":\"fail_status\",\"transform\":{\"id\":\"2716\"}},\"line_alpha\":{\"value\":0.1},\"line_color\":{\"field\":\"fail_status\",\"transform\":{\"id\":\"2716\"}},\"marker\":{\"value\":\"square\"},\"size\":{\"value\":3},\"x\":{\"field\":\"x\"},\"y\":{\"field\":\"y\"}},\"id\":\"2719\",\"type\":\"Scatter\"},{\"attributes\":{},\"id\":\"2692\",\"type\":\"BasicTicker\"},{\"attributes\":{},\"id\":\"2766\",\"type\":\"UnionRenderers\"},{\"attributes\":{\"coordinates\":null,\"group\":null},\"id\":\"2731\",\"type\":\"Title\"}],\"root_ids\":[\"2682\"]},\"title\":\"Bokeh Application\",\"version\":\"2.4.3\"}};\n  const render_items = [{\"docid\":\"b79c3ddb-689a-4968-9f8a-01fce2be6b24\",\"root_ids\":[\"2682\"],\"roots\":{\"2682\":\"2d45365f-2a35-4652-adc1-7d69480f9466\"}}];\n  root.Bokeh.embed.embed_items_notebook(docs_json, render_items);\n  }\n  if (root.Bokeh !== undefined) {\n    embed_document(root);\n  } else {\n    let attempts = 0;\n    const timer = setInterval(function(root) {\n      if (root.Bokeh !== undefined) {\n        clearInterval(timer);\n        embed_document(root);\n      } else {\n        attempts++;\n        if (attempts > 100) {\n          clearInterval(timer);\n          console.log(\"Bokeh: ERROR: Unable to run BokehJS code because BokehJS library is missing\");\n        }\n      }\n    }, 10, root)\n  }\n})(window);",
      "application/vnd.bokehjs_exec.v0+json": ""
     },
     "metadata": {
      "application/vnd.bokehjs_exec.v0+json": {
       "id": "2682"
      }
     },
     "output_type": "display_data"
    }
   ],
   "source": [
    "model_plots.plot_disruptions_and_crews(simple_network)"
   ]
  }
 ],
 "metadata": {
  "kernelspec": {
   "display_name": "Python 3.8.13 ('infrarisk')",
   "language": "python",
   "name": "python3"
  },
  "language_info": {
   "codemirror_mode": {
    "name": "ipython",
    "version": 3
   },
   "file_extension": ".py",
   "mimetype": "text/x-python",
   "name": "python",
   "nbconvert_exporter": "python",
   "pygments_lexer": "ipython3",
   "version": "3.8.13"
  },
  "vscode": {
   "interpreter": {
    "hash": "d1fa71d79f4a50d86355cd984f754340c3825aff9a7379702b15c3196cc40013"
   }
  }
 },
 "nbformat": 4,
 "nbformat_minor": 4
}
