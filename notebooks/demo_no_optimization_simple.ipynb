{
 "cells": [
  {
   "cell_type": "markdown",
   "source": [
    "# Testing the Integrated Simulation Platform\n",
    "This notebook contains codes to test the various functionalities of the integrated simulation platform. You can call any of the modules from the package here. "
   ],
   "metadata": {}
  },
  {
   "cell_type": "code",
   "execution_count": 6,
   "source": [
    "#Go to the main directory\r\n",
    "#!pip install --editable .\r\n",
    "#!pip install pandas\r\n",
    "# !pip install wntr\r\n",
    "# !pip install pandapower\r\n",
    "# !pip install sklearn\r\n",
    "\r\n",
    "#to find requirements\r\n",
    "#depfinder -y ."
   ],
   "outputs": [],
   "metadata": {}
  },
  {
   "cell_type": "code",
   "execution_count": 7,
   "source": [
    "%load_ext autoreload\r\n",
    "%autoreload 2\r\n",
    "\r\n",
    "from IPython.core.display import display, HTML\r\n",
    "display(HTML(\"<style>.container { width:100% !important; }</style>\"))\r\n",
    "from IPython.core.interactiveshell import InteractiveShell\r\n",
    "InteractiveShell.ast_node_interactivity = \"all\""
   ],
   "outputs": [
    {
     "output_type": "stream",
     "name": "stdout",
     "text": [
      "The autoreload extension is already loaded. To reload it, use:\n",
      "  %reload_ext autoreload\n"
     ]
    },
    {
     "output_type": "display_data",
     "data": {
      "text/html": [
       "<style>.container { width:100% !important; }</style>"
      ],
      "text/plain": [
       "<IPython.core.display.HTML object>"
      ]
     },
     "metadata": {}
    }
   ],
   "metadata": {}
  },
  {
   "cell_type": "markdown",
   "source": [
    "## Import required packages"
   ],
   "metadata": {}
  },
  {
   "cell_type": "code",
   "execution_count": 8,
   "source": [
    "from pathlib import Path\r\n",
    "from infrarisk.src.network_recovery import *\r\n",
    "import infrarisk.src.simulation as simulation\r\n",
    "from infrarisk.src.network_sim_models.integrated_network import *\r\n",
    "\r\n",
    "from infrarisk.src.network_sim_models.interdependencies import *\r\n",
    "\r\n",
    "from infrarisk.src.optimizer import *\r\n",
    "import infrarisk.src.plots as model_plots\r\n",
    "\r\n",
    "import random"
   ],
   "outputs": [],
   "metadata": {
    "scrolled": true,
    "tags": []
   }
  },
  {
   "cell_type": "markdown",
   "source": [
    "## Create an IntegratedNetwork object"
   ],
   "metadata": {}
  },
  {
   "cell_type": "code",
   "execution_count": 9,
   "source": [
    "simple_network = IntegratedNetwork(name = \"Micropolis\")"
   ],
   "outputs": [],
   "metadata": {}
  },
  {
   "cell_type": "markdown",
   "source": [
    "### Load the three infrastructure models: Water, Power and Transportation\n",
    "\n",
    "Three different models are used:\n",
    "- Water distribution network using **wntr** package\n",
    "- Power systems using **pandapower** package\n",
    "- Transportation network using static traffic assignment package developed by Dr. Stephen Boyles (University of Texas at Austin)"
   ],
   "metadata": {}
  },
  {
   "cell_type": "code",
   "execution_count": 10,
   "source": [
    "MAIN_DIR = Path('..')\r\n",
    "\r\n",
    "network_dir= 'in2'\r\n",
    "water_file = MAIN_DIR/f'infrarisk/data/networks/{network_dir}/water/water.inp'\r\n",
    "power_file = MAIN_DIR/f'infrarisk/data/networks/{network_dir}/power/power.json'\r\n",
    "transp_folder = MAIN_DIR/f'infrarisk/data/networks/{network_dir}/transportation/'\r\n",
    "\r\n",
    "# load all infrastructure networks\r\n",
    "simple_network.load_networks(water_file, power_file, transp_folder, '1ph')"
   ],
   "outputs": [
    {
     "output_type": "stream",
     "name": "stdout",
     "text": [
      "Water network successfully loaded from ..\\dreaminsg_integrated_model\\data\\networks\\in2\\water\\water.inp. The analysis type is set to Pressure Dependent Demand Analysis.\n",
      "initial simulation duration: 60s; hydraulic time step: 60s; pattern time step: 3600s\n",
      "\n",
      "Power system successfully loaded from ..\\dreaminsg_integrated_model\\data\\networks\\in2\\power\\power.json. Single phase power flow simulation will be used.\n",
      "\n",
      "Transportation network successfully loaded from ..\\dreaminsg_integrated_model\\data\\networks\\in2\\transportation. Static traffic assignment method will be used to calculate travel times.\n"
     ]
    }
   ],
   "metadata": {}
  },
  {
   "cell_type": "markdown",
   "source": [
    "### Create a Networkx graph of the integrated infrastructure network."
   ],
   "metadata": {}
  },
  {
   "cell_type": "code",
   "execution_count": 113,
   "source": [
    "simple_network.generate_integrated_graph()"
   ],
   "outputs": [
    {
     "output_type": "stream",
     "name": "stdout",
     "text": [
      "Successfully added power network to the integrated graph...\n",
      "Successfully added water network to the integrated graph...\n",
      "Successfully added transportation network to the integrated graph...\n",
      "Integrated graph successffully created.\n"
     ]
    },
    {
     "output_type": "display_data",
     "data": {
      "text/html": [
       "\n",
       "    <div class=\"bk-root\">\n",
       "        <a href=\"https://bokeh.org\" target=\"_blank\" class=\"bk-logo bk-logo-small bk-logo-notebook\"></a>\n",
       "        <span id=\"67233\">Loading BokehJS ...</span>\n",
       "    </div>"
      ]
     },
     "metadata": {}
    },
    {
     "output_type": "display_data",
     "data": {
      "application/javascript": "\n(function(root) {\n  function now() {\n    return new Date();\n  }\n\n  var force = true;\n\n  if (typeof root._bokeh_onload_callbacks === \"undefined\" || force === true) {\n    root._bokeh_onload_callbacks = [];\n    root._bokeh_is_loading = undefined;\n  }\n\n  var JS_MIME_TYPE = 'application/javascript';\n  var HTML_MIME_TYPE = 'text/html';\n  var EXEC_MIME_TYPE = 'application/vnd.bokehjs_exec.v0+json';\n  var CLASS_NAME = 'output_bokeh rendered_html';\n\n  /**\n   * Render data to the DOM node\n   */\n  function render(props, node) {\n    var script = document.createElement(\"script\");\n    node.appendChild(script);\n  }\n\n  /**\n   * Handle when an output is cleared or removed\n   */\n  function handleClearOutput(event, handle) {\n    var cell = handle.cell;\n\n    var id = cell.output_area._bokeh_element_id;\n    var server_id = cell.output_area._bokeh_server_id;\n    // Clean up Bokeh references\n    if (id != null && id in Bokeh.index) {\n      Bokeh.index[id].model.document.clear();\n      delete Bokeh.index[id];\n    }\n\n    if (server_id !== undefined) {\n      // Clean up Bokeh references\n      var cmd = \"from bokeh.io.state import curstate; print(curstate().uuid_to_server['\" + server_id + \"'].get_sessions()[0].document.roots[0]._id)\";\n      cell.notebook.kernel.execute(cmd, {\n        iopub: {\n          output: function(msg) {\n            var id = msg.content.text.trim();\n            if (id in Bokeh.index) {\n              Bokeh.index[id].model.document.clear();\n              delete Bokeh.index[id];\n            }\n          }\n        }\n      });\n      // Destroy server and session\n      var cmd = \"import bokeh.io.notebook as ion; ion.destroy_server('\" + server_id + \"')\";\n      cell.notebook.kernel.execute(cmd);\n    }\n  }\n\n  /**\n   * Handle when a new output is added\n   */\n  function handleAddOutput(event, handle) {\n    var output_area = handle.output_area;\n    var output = handle.output;\n\n    // limit handleAddOutput to display_data with EXEC_MIME_TYPE content only\n    if ((output.output_type != \"display_data\") || (!Object.prototype.hasOwnProperty.call(output.data, EXEC_MIME_TYPE))) {\n      return\n    }\n\n    var toinsert = output_area.element.find(\".\" + CLASS_NAME.split(' ')[0]);\n\n    if (output.metadata[EXEC_MIME_TYPE][\"id\"] !== undefined) {\n      toinsert[toinsert.length - 1].firstChild.textContent = output.data[JS_MIME_TYPE];\n      // store reference to embed id on output_area\n      output_area._bokeh_element_id = output.metadata[EXEC_MIME_TYPE][\"id\"];\n    }\n    if (output.metadata[EXEC_MIME_TYPE][\"server_id\"] !== undefined) {\n      var bk_div = document.createElement(\"div\");\n      bk_div.innerHTML = output.data[HTML_MIME_TYPE];\n      var script_attrs = bk_div.children[0].attributes;\n      for (var i = 0; i < script_attrs.length; i++) {\n        toinsert[toinsert.length - 1].firstChild.setAttribute(script_attrs[i].name, script_attrs[i].value);\n        toinsert[toinsert.length - 1].firstChild.textContent = bk_div.children[0].textContent\n      }\n      // store reference to server id on output_area\n      output_area._bokeh_server_id = output.metadata[EXEC_MIME_TYPE][\"server_id\"];\n    }\n  }\n\n  function register_renderer(events, OutputArea) {\n\n    function append_mime(data, metadata, element) {\n      // create a DOM node to render to\n      var toinsert = this.create_output_subarea(\n        metadata,\n        CLASS_NAME,\n        EXEC_MIME_TYPE\n      );\n      this.keyboard_manager.register_events(toinsert);\n      // Render to node\n      var props = {data: data, metadata: metadata[EXEC_MIME_TYPE]};\n      render(props, toinsert[toinsert.length - 1]);\n      element.append(toinsert);\n      return toinsert\n    }\n\n    /* Handle when an output is cleared or removed */\n    events.on('clear_output.CodeCell', handleClearOutput);\n    events.on('delete.Cell', handleClearOutput);\n\n    /* Handle when a new output is added */\n    events.on('output_added.OutputArea', handleAddOutput);\n\n    /**\n     * Register the mime type and append_mime function with output_area\n     */\n    OutputArea.prototype.register_mime_type(EXEC_MIME_TYPE, append_mime, {\n      /* Is output safe? */\n      safe: true,\n      /* Index of renderer in `output_area.display_order` */\n      index: 0\n    });\n  }\n\n  // register the mime type if in Jupyter Notebook environment and previously unregistered\n  if (root.Jupyter !== undefined) {\n    var events = require('base/js/events');\n    var OutputArea = require('notebook/js/outputarea').OutputArea;\n\n    if (OutputArea.prototype.mime_types().indexOf(EXEC_MIME_TYPE) == -1) {\n      register_renderer(events, OutputArea);\n    }\n  }\n\n  \n  if (typeof (root._bokeh_timeout) === \"undefined\" || force === true) {\n    root._bokeh_timeout = Date.now() + 5000;\n    root._bokeh_failed_load = false;\n  }\n\n  var NB_LOAD_WARNING = {'data': {'text/html':\n     \"<div style='background-color: #fdd'>\\n\"+\n     \"<p>\\n\"+\n     \"BokehJS does not appear to have successfully loaded. If loading BokehJS from CDN, this \\n\"+\n     \"may be due to a slow or bad network connection. Possible fixes:\\n\"+\n     \"</p>\\n\"+\n     \"<ul>\\n\"+\n     \"<li>re-rerun `output_notebook()` to attempt to load from CDN again, or</li>\\n\"+\n     \"<li>use INLINE resources instead, as so:</li>\\n\"+\n     \"</ul>\\n\"+\n     \"<code>\\n\"+\n     \"from bokeh.resources import INLINE\\n\"+\n     \"output_notebook(resources=INLINE)\\n\"+\n     \"</code>\\n\"+\n     \"</div>\"}};\n\n  function display_loaded() {\n    var el = document.getElementById(\"67233\");\n    if (el != null) {\n      el.textContent = \"BokehJS is loading...\";\n    }\n    if (root.Bokeh !== undefined) {\n      if (el != null) {\n        el.textContent = \"BokehJS \" + root.Bokeh.version + \" successfully loaded.\";\n      }\n    } else if (Date.now() < root._bokeh_timeout) {\n      setTimeout(display_loaded, 100)\n    }\n  }\n\n\n  function run_callbacks() {\n    try {\n      root._bokeh_onload_callbacks.forEach(function(callback) {\n        if (callback != null)\n          callback();\n      });\n    } finally {\n      delete root._bokeh_onload_callbacks\n    }\n    console.debug(\"Bokeh: all callbacks have finished\");\n  }\n\n  function load_libs(css_urls, js_urls, callback) {\n    if (css_urls == null) css_urls = [];\n    if (js_urls == null) js_urls = [];\n\n    root._bokeh_onload_callbacks.push(callback);\n    if (root._bokeh_is_loading > 0) {\n      console.debug(\"Bokeh: BokehJS is being loaded, scheduling callback at\", now());\n      return null;\n    }\n    if (js_urls == null || js_urls.length === 0) {\n      run_callbacks();\n      return null;\n    }\n    console.debug(\"Bokeh: BokehJS not loaded, scheduling load and callback at\", now());\n    root._bokeh_is_loading = css_urls.length + js_urls.length;\n\n    function on_load() {\n      root._bokeh_is_loading--;\n      if (root._bokeh_is_loading === 0) {\n        console.debug(\"Bokeh: all BokehJS libraries/stylesheets loaded\");\n        run_callbacks()\n      }\n    }\n\n    function on_error(url) {\n      console.error(\"failed to load \" + url);\n    }\n\n    for (let i = 0; i < css_urls.length; i++) {\n      const url = css_urls[i];\n      const element = document.createElement(\"link\");\n      element.onload = on_load;\n      element.onerror = on_error.bind(null, url);\n      element.rel = \"stylesheet\";\n      element.type = \"text/css\";\n      element.href = url;\n      console.debug(\"Bokeh: injecting link tag for BokehJS stylesheet: \", url);\n      document.body.appendChild(element);\n    }\n\n    const hashes = {\"https://cdn.bokeh.org/bokeh/release/bokeh-2.3.3.min.js\": \"dM3QQsP+wXdHg42wTqW85BjZQdLNNIXqlPw/BgKoExPmTG7ZLML4EGqLMfqHT6ON\", \"https://cdn.bokeh.org/bokeh/release/bokeh-tables-2.3.3.min.js\": \"8x57I4YuIfu8XyZfFo0XVr2WAT8EK4rh/uDe3wF7YuW2FNUSNEpJbsPaB1nJ2fz2\", \"https://cdn.bokeh.org/bokeh/release/bokeh-widgets-2.3.3.min.js\": \"3QTqdz9LyAm2i0sG5XTePsHec3UHWwVsrOL68SYRoAXsafvfAyqtQ+h440+qIBhS\"};\n\n    for (let i = 0; i < js_urls.length; i++) {\n      const url = js_urls[i];\n      const element = document.createElement('script');\n      element.onload = on_load;\n      element.onerror = on_error.bind(null, url);\n      element.async = false;\n      element.src = url;\n      if (url in hashes) {\n        element.crossOrigin = \"anonymous\";\n        element.integrity = \"sha384-\" + hashes[url];\n      }\n      console.debug(\"Bokeh: injecting script tag for BokehJS library: \", url);\n      document.head.appendChild(element);\n    }\n  };\n\n  function inject_raw_css(css) {\n    const element = document.createElement(\"style\");\n    element.appendChild(document.createTextNode(css));\n    document.body.appendChild(element);\n  }\n\n  \n  var js_urls = [\"https://cdn.bokeh.org/bokeh/release/bokeh-2.3.3.min.js\", \"https://cdn.bokeh.org/bokeh/release/bokeh-widgets-2.3.3.min.js\", \"https://cdn.bokeh.org/bokeh/release/bokeh-tables-2.3.3.min.js\"];\n  var css_urls = [];\n  \n\n  var inline_js = [\n    function(Bokeh) {\n      Bokeh.set_log_level(\"info\");\n    },\n    function(Bokeh) {\n    \n    \n    }\n  ];\n\n  function run_inline_js() {\n    \n    if (root.Bokeh !== undefined || force === true) {\n      \n    for (var i = 0; i < inline_js.length; i++) {\n      inline_js[i].call(root, root.Bokeh);\n    }\n    if (force === true) {\n        display_loaded();\n      }} else if (Date.now() < root._bokeh_timeout) {\n      setTimeout(run_inline_js, 100);\n    } else if (!root._bokeh_failed_load) {\n      console.log(\"Bokeh: BokehJS failed to load within specified timeout.\");\n      root._bokeh_failed_load = true;\n    } else if (force !== true) {\n      var cell = $(document.getElementById(\"67233\")).parents('.cell').data().cell;\n      cell.output_area.append_execute_result(NB_LOAD_WARNING)\n    }\n\n  }\n\n  if (root._bokeh_is_loading === 0) {\n    console.debug(\"Bokeh: BokehJS loaded, going straight to plotting\");\n    run_inline_js();\n  } else {\n    load_libs(css_urls, js_urls, function() {\n      console.debug(\"Bokeh: BokehJS plotting callback run at\", now());\n      run_inline_js();\n    });\n  }\n}(window));",
      "application/vnd.bokehjs_load.v0+json": ""
     },
     "metadata": {}
    },
    {
     "output_type": "display_data",
     "data": {
      "text/html": [
       "\n",
       "\n",
       "\n",
       "\n",
       "\n",
       "\n",
       "  <div class=\"bk-root\" id=\"fd6fe406-3fce-445a-bac8-23ae6b6cc63f\" data-root-id=\"67234\"></div>\n"
      ]
     },
     "metadata": {}
    },
    {
     "output_type": "display_data",
     "data": {
      "application/javascript": "(function(root) {\n  function embed_document(root) {\n    \n  var docs_json = {\"609e4e44-9c13-4119-812e-2bc8c2d415dc\":{\"defs\":[],\"roots\":{\"references\":[{\"attributes\":{\"background_fill_color\":\"white\",\"below\":[{\"id\":\"67245\"}],\"center\":[{\"id\":\"67248\"},{\"id\":\"67252\"},{\"id\":\"67295\"}],\"height\":400,\"left\":[{\"id\":\"67249\"}],\"renderers\":[{\"id\":\"67272\"},{\"id\":\"67281\"}],\"title\":{\"id\":\"67235\"},\"toolbar\":{\"id\":\"67260\"},\"width\":700,\"x_range\":{\"id\":\"67237\"},\"x_scale\":{\"id\":\"67241\"},\"y_range\":{\"id\":\"67239\"},\"y_scale\":{\"id\":\"67243\"}},\"id\":\"67234\",\"subtype\":\"Figure\",\"type\":\"Plot\"},{\"attributes\":{},\"id\":\"67257\",\"type\":\"ResetTool\"},{\"attributes\":{},\"id\":\"67284\",\"type\":\"AllLabels\"},{\"attributes\":{\"background_fill_alpha\":0.25,\"border_line_alpha\":0,\"click_policy\":\"mute\",\"glyph_width\":15,\"items\":[{\"id\":\"67296\"}],\"label_standoff\":8,\"label_text_color\":\"#5B5B5B\",\"label_text_font\":\"Calibri Light\",\"label_text_font_size\":\"0.95em\",\"label_text_font_style\":\"bold\",\"location\":\"top_left\",\"spacing\":8},\"id\":\"67295\",\"type\":\"Legend\"},{\"attributes\":{\"axis\":{\"id\":\"67249\"},\"dimension\":1,\"ticker\":null},\"id\":\"67252\",\"type\":\"Grid\"},{\"attributes\":{\"fill_alpha\":{\"value\":0.6},\"fill_color\":{\"value\":\"gainsboro\"},\"line_alpha\":{\"value\":0.6},\"line_color\":{\"value\":\"gainsboro\"},\"marker\":{\"value\":\"square\"},\"size\":{\"value\":5},\"x\":{\"field\":\"x\"},\"y\":{\"field\":\"y\"}},\"id\":\"67269\",\"type\":\"Scatter\"},{\"attributes\":{\"factors\":[\"Power\",\"Transportation\",\"Water\"],\"palette\":[\"#1f77b4\",\"#ff7f0e\",\"#2ca02c\"]},\"id\":\"67276\",\"type\":\"CategoricalColorMapper\"},{\"attributes\":{\"fill_alpha\":{\"value\":0.2},\"fill_color\":{\"value\":\"gainsboro\"},\"line_alpha\":{\"value\":0.2},\"line_color\":{\"value\":\"gainsboro\"},\"marker\":{\"value\":\"square\"},\"size\":{\"value\":5},\"x\":{\"field\":\"x\"},\"y\":{\"field\":\"y\"}},\"id\":\"67271\",\"type\":\"Scatter\"},{\"attributes\":{},\"id\":\"67243\",\"type\":\"LinearScale\"},{\"attributes\":{\"data_source\":{\"id\":\"67267\"},\"glyph\":{\"id\":\"67269\"},\"hover_glyph\":null,\"muted_glyph\":{\"id\":\"67271\"},\"nonselection_glyph\":{\"id\":\"67270\"},\"view\":{\"id\":\"67273\"}},\"id\":\"67272\",\"type\":\"GlyphRenderer\"},{\"attributes\":{\"axis_label_standoff\":10,\"axis_label_text_color\":\"#5B5B5B\",\"axis_label_text_font\":\"Calibri Light\",\"axis_label_text_font_size\":\"1.15em\",\"axis_label_text_font_style\":\"bold\",\"axis_line_alpha\":1,\"axis_line_color\":\"#5B5B5B\",\"formatter\":{\"id\":\"67289\"},\"major_label_policy\":{\"id\":\"67287\"},\"major_label_text_color\":\"#5B5B5B\",\"major_label_text_font\":\"Calibri Light\",\"major_label_text_font_size\":\"0.95em\",\"major_label_text_font_style\":\"bold\",\"major_tick_in\":0,\"major_tick_line_alpha\":0.25,\"major_tick_line_color\":\"#5B5B5B\",\"major_tick_out\":3,\"minor_tick_line_alpha\":0.25,\"minor_tick_line_color\":\"#5B5B5B\",\"ticker\":{\"id\":\"67246\"}},\"id\":\"67245\",\"type\":\"LinearAxis\"},{\"attributes\":{},\"id\":\"67287\",\"type\":\"AllLabels\"},{\"attributes\":{},\"id\":\"67258\",\"type\":\"HelpTool\"},{\"attributes\":{},\"id\":\"67246\",\"type\":\"BasicTicker\"},{\"attributes\":{},\"id\":\"67254\",\"type\":\"WheelZoomTool\"},{\"attributes\":{},\"id\":\"67292\",\"type\":\"Selection\"},{\"attributes\":{\"source\":{\"id\":\"67267\"}},\"id\":\"67273\",\"type\":\"CDSView\"},{\"attributes\":{\"bottom_units\":\"screen\",\"fill_alpha\":0.5,\"fill_color\":\"lightgrey\",\"left_units\":\"screen\",\"level\":\"overlay\",\"line_alpha\":1.0,\"line_color\":\"black\",\"line_dash\":[4,4],\"line_width\":2,\"right_units\":\"screen\",\"syncable\":false,\"top_units\":\"screen\"},\"id\":\"67259\",\"type\":\"BoxAnnotation\"},{\"attributes\":{\"fill_alpha\":{\"value\":0.1},\"fill_color\":{\"value\":\"gainsboro\"},\"line_alpha\":{\"value\":0.1},\"line_color\":{\"value\":\"gainsboro\"},\"marker\":{\"value\":\"square\"},\"size\":{\"value\":5},\"x\":{\"field\":\"x\"},\"y\":{\"field\":\"y\"}},\"id\":\"67270\",\"type\":\"Scatter\"},{\"attributes\":{\"data\":{\"id\":[\"P_B1\",\"P_B2\",\"P_B3\",\"P_B4\",\"P_B5\",\"P_B6\",\"P_B7\",\"P_B9\",\"P_B8\",\"W_J10\",\"W_J11\",\"W_J12\",\"W_J13\",\"W_J21\",\"W_P21_leak_node\",\"W_J22\",\"W_J23\",\"W_J31\",\"W_J32\",\"W_T2\",\"W_R9\",\"T_J1\",\"T_J2\",\"T_J3\",\"T_J4\",\"T_J5\",\"T_J6\",\"T_J7\",\"T_J8\",\"T_J9\"],\"node_category\":[\"Bus\",\"Bus\",\"Bus\",\"Bus\",\"Bus\",\"Bus\",\"Bus\",\"Bus\",\"Bus\",\"Junction\",\"Junction\",\"Junction\",\"Junction\",\"Junction\",\"Junction\",\"Junction\",\"Junction\",\"Junction\",\"Junction\",\"Tank\",\"Reservoir\",\"Junction\",\"Junction\",\"Junction\",\"Junction\",\"Junction\",\"Junction\",\"Junction\",\"Junction\",\"Junction\"],\"node_type\":[\"power_node\",\"power_node\",\"power_node\",\"power_node\",\"power_node\",\"power_node\",\"power_node\",\"power_node\",\"power_node\",\"water_node\",\"water_node\",\"water_node\",\"water_node\",\"water_node\",\"water_node\",\"water_node\",\"water_node\",\"water_node\",\"water_node\",\"water_node\",\"water_node\",\"transpo_node\",\"transpo_node\",\"transpo_node\",\"transpo_node\",\"transpo_node\",\"transpo_node\",\"transpo_node\",\"transpo_node\",\"transpo_node\"],\"x\":[400.0,400.0,400.0,400.0,100.0,200.0,200.0,200.0,100.0,200.0,300.0,500.0,700.0,300.0,400.0,500.0,700.0,300.0,500.0,500.0,100.0,0,300,600,0,300,600,0,300,600],\"y\":[550.0,275.0,225.0,0.0,0.0,550.0,350.0,250.0,250.0,700.0,700.0,700.0,700.0,400.0,400.0,400.0,400.0,100.0,100.0,900.0,700.0,700,700,700,325,325,325,0,0,0]},\"selected\":{\"id\":\"67290\"},\"selection_policy\":{\"id\":\"67291\"}},\"id\":\"67267\",\"type\":\"ColumnDataSource\"},{\"attributes\":{\"data\":{\"id\":[[\"P_B1\",\"P_B2\"],[\"P_B1\",\"P_B6\"],[\"P_B2\",\"P_B3\"],[\"P_B3\",\"P_B4\"],[\"P_B4\",\"P_B5\"],[\"P_B6\",\"P_B7\"],[\"P_B7\",\"P_B9\"],[\"P_B9\",\"P_B8\"],[\"W_J10\",\"W_J11\"],[\"W_J10\",\"W_R9\"],[\"W_J11\",\"W_J12\"],[\"W_J11\",\"W_J21\"],[\"W_J12\",\"W_J13\"],[\"W_J12\",\"W_T2\"],[\"W_J12\",\"W_J22\"],[\"W_J13\",\"W_J23\"],[\"W_J21\",\"W_P21_leak_node\"],[\"W_J21\",\"W_J31\"],[\"W_P21_leak_node\",\"W_J22\"],[\"W_J22\",\"W_J23\"],[\"W_J22\",\"W_J32\"],[\"W_J31\",\"W_J32\"],[\"T_J1\",\"T_J2\"],[\"T_J1\",\"T_J4\"],[\"T_J2\",\"T_J3\"],[\"T_J3\",\"T_J5\"],[\"T_J4\",\"T_J5\"],[\"T_J4\",\"T_J7\"],[\"T_J5\",\"T_J6\"],[\"T_J5\",\"T_J8\"],[\"T_J6\",\"T_J9\"],[\"T_J7\",\"T_J8\"],[\"T_J8\",\"T_J9\"]],\"link_category\":[\"Power line\",\"Power line\",\"Transformer\",\"Power line\",\"Power line\",\"Power line\",\"Switch\",\"Transformer\",\"Water pipe\",\"Water pump\",\"Water pipe\",\"Water pipe\",\"Water pipe\",\"Water pipe\",\"Water pipe\",\"Water pipe\",\"Water pipe\",\"Water pipe\",\"Water pipe\",\"Water pipe\",\"Water pipe\",\"Water pipe\",\"Road link\",\"Road link\",\"Road link\",\"Road link\",\"Road link\",\"Road link\",\"Road link\",\"Road link\",\"Road link\",\"Road link\",\"Road link\"],\"link_layer\":[\"Power\",\"Power\",\"Power\",\"Power\",\"Power\",\"Power\",\"Power\",\"Power\",\"Water\",\"Water\",\"Water\",\"Water\",\"Water\",\"Water\",\"Water\",\"Water\",\"Water\",\"Water\",\"Water\",\"Water\",\"Water\",\"Water\",\"Transportation\",\"Transportation\",\"Transportation\",\"Transportation\",\"Transportation\",\"Transportation\",\"Transportation\",\"Transportation\",\"Transportation\",\"Transportation\",\"Transportation\"],\"x\":[[400.0,400.0],[400.0,200.0],[400.0,400.0],[400.0,400.0],[400.0,100.0],[200.0,200.0],[200.0,200.0],[200.0,100.0],[200.0,300.0],[200.0,100.0],[300.0,500.0],[300.0,300.0],[500.0,700.0],[500.0,500.0],[500.0,500.0],[700.0,700.0],[300.0,400.0],[300.0,300.0],[400.0,500.0],[500.0,700.0],[500.0,500.0],[300.0,500.0],[0,300],[0,0],[300,600],[600,300],[0,300],[0,0],[300,600],[300,300],[600,600],[0,300],[300,600]],\"y\":[[550.0,275.0],[550.0,550.0],[275.0,225.0],[225.0,0.0],[0.0,0.0],[550.0,350.0],[350.0,250.0],[250.0,250.0],[700.0,700.0],[700.0,700.0],[700.0,700.0],[700.0,400.0],[700.0,700.0],[700.0,900.0],[700.0,400.0],[700.0,400.0],[400.0,400.0],[400.0,100.0],[400.0,400.0],[400.0,400.0],[400.0,100.0],[100.0,100.0],[700,700],[700,325],[700,700],[700,325],[325,325],[325,0],[325,325],[325,0],[325,0],[0,0],[0,0]]},\"selected\":{\"id\":\"67292\"},\"selection_policy\":{\"id\":\"67293\"}},\"id\":\"67274\",\"type\":\"ColumnDataSource\"},{\"attributes\":{\"overlay\":{\"id\":\"67259\"}},\"id\":\"67255\",\"type\":\"BoxZoomTool\"},{\"attributes\":{\"callback\":null,\"renderers\":[{\"id\":\"67281\"}],\"tooltips\":[[\"Link ID\",\"@id\"],[\"Infrastructure\",\"@link_layer\"],[\"Link category\",\"@link_category\"]]},\"id\":\"67299\",\"type\":\"HoverTool\"},{\"attributes\":{\"end\":8000,\"start\":1000},\"id\":\"67237\",\"type\":\"Range1d\"},{\"attributes\":{\"line_color\":{\"field\":\"link_layer\",\"transform\":{\"id\":\"67275\"}},\"line_width\":{\"value\":1.5},\"xs\":{\"field\":\"x\"},\"ys\":{\"field\":\"y\"}},\"id\":\"67278\",\"type\":\"MultiLine\"},{\"attributes\":{\"label\":{\"field\":\"link_layer\"},\"renderers\":[{\"id\":\"67281\"}]},\"id\":\"67296\",\"type\":\"LegendItem\"},{\"attributes\":{},\"id\":\"67241\",\"type\":\"LinearScale\"},{\"attributes\":{},\"id\":\"67250\",\"type\":\"BasicTicker\"},{\"attributes\":{\"text\":\"Micropolis integrated network\",\"text_color\":\"#5B5B5B\",\"text_font\":\"Calibri Light\",\"text_font_size\":\"1.25em\",\"text_font_style\":\"bold\"},\"id\":\"67235\",\"type\":\"Title\"},{\"attributes\":{\"active_multi\":null,\"tools\":[{\"id\":\"67253\"},{\"id\":\"67254\"},{\"id\":\"67255\"},{\"id\":\"67256\"},{\"id\":\"67257\"},{\"id\":\"67258\"},{\"id\":\"67297\"},{\"id\":\"67299\"}]},\"id\":\"67260\",\"type\":\"Toolbar\"},{\"attributes\":{\"factors\":[\"Power\",\"Transportation\",\"Water\"],\"palette\":[\"#1f77b4\",\"#ff7f0e\",\"#2ca02c\"]},\"id\":\"67275\",\"type\":\"CategoricalColorMapper\"},{\"attributes\":{\"line_alpha\":{\"value\":0.1},\"line_color\":{\"field\":\"link_layer\",\"transform\":{\"id\":\"67275\"}},\"line_width\":{\"value\":1.5},\"xs\":{\"field\":\"x\"},\"ys\":{\"field\":\"y\"}},\"id\":\"67279\",\"type\":\"MultiLine\"},{\"attributes\":{},\"id\":\"67291\",\"type\":\"UnionRenderers\"},{\"attributes\":{},\"id\":\"67290\",\"type\":\"Selection\"},{\"attributes\":{\"axis_label_standoff\":10,\"axis_label_text_color\":\"#5B5B5B\",\"axis_label_text_font\":\"Calibri Light\",\"axis_label_text_font_size\":\"1.15em\",\"axis_label_text_font_style\":\"bold\",\"axis_line_alpha\":1,\"axis_line_color\":\"#5B5B5B\",\"formatter\":{\"id\":\"67286\"},\"major_label_policy\":{\"id\":\"67284\"},\"major_label_text_color\":\"#5B5B5B\",\"major_label_text_font\":\"Calibri Light\",\"major_label_text_font_size\":\"0.95em\",\"major_label_text_font_style\":\"bold\",\"major_tick_in\":0,\"major_tick_line_alpha\":0.25,\"major_tick_line_color\":\"#5B5B5B\",\"major_tick_out\":3,\"minor_tick_line_alpha\":0.25,\"minor_tick_line_color\":\"#5B5B5B\",\"ticker\":{\"id\":\"67250\"}},\"id\":\"67249\",\"type\":\"LinearAxis\"},{\"attributes\":{},\"id\":\"67286\",\"type\":\"BasicTickFormatter\"},{\"attributes\":{\"end\":6600,\"start\":1000},\"id\":\"67239\",\"type\":\"Range1d\"},{\"attributes\":{\"axis\":{\"id\":\"67245\"},\"ticker\":null},\"id\":\"67248\",\"type\":\"Grid\"},{\"attributes\":{\"source\":{\"id\":\"67274\"}},\"id\":\"67282\",\"type\":\"CDSView\"},{\"attributes\":{},\"id\":\"67293\",\"type\":\"UnionRenderers\"},{\"attributes\":{},\"id\":\"67289\",\"type\":\"BasicTickFormatter\"},{\"attributes\":{},\"id\":\"67256\",\"type\":\"SaveTool\"},{\"attributes\":{\"callback\":null,\"renderers\":[{\"id\":\"67272\"}],\"tooltips\":[[\"Node ID\",\"@id\"],[\"Infrastructure\",\"@node_type\"],[\"Node category\",\"@node_category\"]]},\"id\":\"67297\",\"type\":\"HoverTool\"},{\"attributes\":{\"line_alpha\":{\"value\":0.2},\"line_color\":{\"field\":\"link_layer\",\"transform\":{\"id\":\"67276\"}},\"line_width\":{\"value\":1.5},\"xs\":{\"field\":\"x\"},\"ys\":{\"field\":\"y\"}},\"id\":\"67280\",\"type\":\"MultiLine\"},{\"attributes\":{},\"id\":\"67253\",\"type\":\"PanTool\"},{\"attributes\":{\"data_source\":{\"id\":\"67274\"},\"glyph\":{\"id\":\"67278\"},\"hover_glyph\":null,\"muted_glyph\":{\"id\":\"67280\"},\"nonselection_glyph\":{\"id\":\"67279\"},\"view\":{\"id\":\"67282\"}},\"id\":\"67281\",\"type\":\"GlyphRenderer\"}],\"root_ids\":[\"67234\"]},\"title\":\"Bokeh Application\",\"version\":\"2.3.3\"}};\n  var render_items = [{\"docid\":\"609e4e44-9c13-4119-812e-2bc8c2d415dc\",\"root_ids\":[\"67234\"],\"roots\":{\"67234\":\"fd6fe406-3fce-445a-bac8-23ae6b6cc63f\"}}];\n  root.Bokeh.embed.embed_items_notebook(docs_json, render_items);\n\n  }\n  if (root.Bokeh !== undefined) {\n    embed_document(root);\n  } else {\n    var attempts = 0;\n    var timer = setInterval(function(root) {\n      if (root.Bokeh !== undefined) {\n        clearInterval(timer);\n        embed_document(root);\n      } else {\n        attempts++;\n        if (attempts > 100) {\n          clearInterval(timer);\n          console.log(\"Bokeh: ERROR: Unable to run BokehJS code because BokehJS library is missing\");\n        }\n      }\n    }, 10, root)\n  }\n})(window);",
      "application/vnd.bokehjs_exec.v0+json": ""
     },
     "metadata": {
      "application/vnd.bokehjs_exec.v0+json": {
       "id": "67234"
      }
     }
    }
   ],
   "metadata": {}
  },
  {
   "cell_type": "markdown",
   "source": [
    "### Build interdependencies\n",
    "\n",
    "Three types of dependencies:\n",
    "- Power - Water dependencies (eg.: water pump on electric motor, generator on reservoir)\n",
    "- Power - Transportation dependencies (eg.: road access to power system components for M&R)\n",
    "- Water - Transportation dependencies (eg.: road access to water network components for M&R)\n",
    "\n",
    "The dependencies are referenced using two tables in the model.\n",
    "- **wp_table** for water - power dependencies\n",
    "- **access_table** for transportation dependencies"
   ],
   "metadata": {}
  },
  {
   "cell_type": "code",
   "execution_count": 14,
   "source": [
    "dependency_file = MAIN_DIR/f\"infrarisk/data/networks/{network_dir}/dependecies.csv\"\r\n",
    "simple_network.generate_dependency_table(dependency_file = dependency_file)\r\n",
    "simple_network.dependency_table.wp_table"
   ],
   "outputs": [
    {
     "output_type": "execute_result",
     "data": {
      "text/html": [
       "<div>\n",
       "<style scoped>\n",
       "    .dataframe tbody tr th:only-of-type {\n",
       "        vertical-align: middle;\n",
       "    }\n",
       "\n",
       "    .dataframe tbody tr th {\n",
       "        vertical-align: top;\n",
       "    }\n",
       "\n",
       "    .dataframe thead th {\n",
       "        text-align: right;\n",
       "    }\n",
       "</style>\n",
       "<table border=\"1\" class=\"dataframe\">\n",
       "  <thead>\n",
       "    <tr style=\"text-align: right;\">\n",
       "      <th></th>\n",
       "      <th>water_id</th>\n",
       "      <th>power_id</th>\n",
       "      <th>water_type</th>\n",
       "      <th>power_type</th>\n",
       "    </tr>\n",
       "  </thead>\n",
       "  <tbody>\n",
       "    <tr>\n",
       "      <th>0</th>\n",
       "      <td>W_WP9</td>\n",
       "      <td>P_MP1</td>\n",
       "      <td>Pump</td>\n",
       "      <td>Motor</td>\n",
       "    </tr>\n",
       "    <tr>\n",
       "      <th>1</th>\n",
       "      <td>W_R9</td>\n",
       "      <td>P_G3</td>\n",
       "      <td>Reservoir</td>\n",
       "      <td>Generator</td>\n",
       "    </tr>\n",
       "  </tbody>\n",
       "</table>\n",
       "</div>"
      ],
      "text/plain": [
       "  water_id power_id water_type power_type\n",
       "0    W_WP9    P_MP1       Pump      Motor\n",
       "1     W_R9     P_G3  Reservoir  Generator"
      ]
     },
     "metadata": {},
     "execution_count": 14
    }
   ],
   "metadata": {}
  },
  {
   "cell_type": "code",
   "execution_count": 15,
   "source": [
    "simple_network.dependency_table.access_table.head()"
   ],
   "outputs": [
    {
     "output_type": "execute_result",
     "data": {
      "text/html": [
       "<div>\n",
       "<style scoped>\n",
       "    .dataframe tbody tr th:only-of-type {\n",
       "        vertical-align: middle;\n",
       "    }\n",
       "\n",
       "    .dataframe tbody tr th {\n",
       "        vertical-align: top;\n",
       "    }\n",
       "\n",
       "    .dataframe thead th {\n",
       "        text-align: right;\n",
       "    }\n",
       "</style>\n",
       "<table border=\"1\" class=\"dataframe\">\n",
       "  <thead>\n",
       "    <tr style=\"text-align: right;\">\n",
       "      <th></th>\n",
       "      <th>origin_id</th>\n",
       "      <th>transp_id</th>\n",
       "      <th>origin_cat</th>\n",
       "      <th>origin_type</th>\n",
       "      <th>access_dist</th>\n",
       "    </tr>\n",
       "  </thead>\n",
       "  <tbody>\n",
       "    <tr>\n",
       "      <th>0</th>\n",
       "      <td>P_B1</td>\n",
       "      <td>T_J2</td>\n",
       "      <td>power</td>\n",
       "      <td>Bus</td>\n",
       "      <td>180.28</td>\n",
       "    </tr>\n",
       "    <tr>\n",
       "      <th>1</th>\n",
       "      <td>P_B2</td>\n",
       "      <td>T_J5</td>\n",
       "      <td>power</td>\n",
       "      <td>Bus</td>\n",
       "      <td>111.80</td>\n",
       "    </tr>\n",
       "    <tr>\n",
       "      <th>2</th>\n",
       "      <td>P_B3</td>\n",
       "      <td>T_J5</td>\n",
       "      <td>power</td>\n",
       "      <td>Bus</td>\n",
       "      <td>141.42</td>\n",
       "    </tr>\n",
       "    <tr>\n",
       "      <th>3</th>\n",
       "      <td>P_B4</td>\n",
       "      <td>T_J8</td>\n",
       "      <td>power</td>\n",
       "      <td>Bus</td>\n",
       "      <td>100.00</td>\n",
       "    </tr>\n",
       "    <tr>\n",
       "      <th>4</th>\n",
       "      <td>P_B5</td>\n",
       "      <td>T_J7</td>\n",
       "      <td>power</td>\n",
       "      <td>Bus</td>\n",
       "      <td>100.00</td>\n",
       "    </tr>\n",
       "  </tbody>\n",
       "</table>\n",
       "</div>"
      ],
      "text/plain": [
       "  origin_id transp_id origin_cat origin_type  access_dist\n",
       "0      P_B1      T_J2      power         Bus       180.28\n",
       "1      P_B2      T_J5      power         Bus       111.80\n",
       "2      P_B3      T_J5      power         Bus       141.42\n",
       "3      P_B4      T_J8      power         Bus       100.00\n",
       "4      P_B5      T_J7      power         Bus       100.00"
      ]
     },
     "metadata": {},
     "execution_count": 15
    }
   ],
   "metadata": {}
  },
  {
   "cell_type": "markdown",
   "source": [
    "### Set failed components"
   ],
   "metadata": {}
  },
  {
   "cell_type": "code",
   "execution_count": 16,
   "source": [
    "scenario_file = MAIN_DIR/\"infrarisk/data/disruptive_scenarios/{}/{}.csv\".format('test1', 'motor_failure_net1')\r\n",
    "\r\n",
    "simple_network.set_disrupted_components(scenario_file=scenario_file)\r\n",
    "simple_network.get_disrupted_components()"
   ],
   "outputs": [
    {
     "output_type": "execute_result",
     "data": {
      "text/plain": [
       "['T_L2', 'P_MP1', 'W_P21', 'W_WP9']"
      ]
     },
     "metadata": {},
     "execution_count": 16
    }
   ],
   "metadata": {}
  },
  {
   "cell_type": "code",
   "execution_count": 17,
   "source": [
    "simple_network.pipe_leak_node_generator()"
   ],
   "outputs": [],
   "metadata": {}
  },
  {
   "cell_type": "markdown",
   "source": [
    "### Set initial crew locations"
   ],
   "metadata": {}
  },
  {
   "cell_type": "code",
   "execution_count": 18,
   "source": [
    "simple_network.set_init_crew_locs(init_power_loc='T_J8',\r\n",
    "init_water_loc='T_J8', init_transpo_loc='T_J8')"
   ],
   "outputs": [],
   "metadata": {}
  },
  {
   "cell_type": "markdown",
   "source": [
    "## Simulation of interdependent effects using a test scenario\r\n",
    "### (a) Create NetworkRecovery"
   ],
   "metadata": {}
  },
  {
   "cell_type": "code",
   "execution_count": 30,
   "source": [
    "network_recovery = NetworkRecovery(simple_network, sim_step=60)"
   ],
   "outputs": [],
   "metadata": {}
  },
  {
   "cell_type": "markdown",
   "source": [
    "### (b) Create a simulation object"
   ],
   "metadata": {}
  },
  {
   "cell_type": "code",
   "execution_count": 31,
   "source": [
    "sim_step = (\r\n",
    "    simple_network.wn.options.time.hydraulic_timestep\r\n",
    ")  # initial_sim_step which will be updated during the simulation\r\n",
    "bf_simulation = simulation.NetworkSimulation(network_recovery, sim_step)"
   ],
   "outputs": [],
   "metadata": {}
  },
  {
   "cell_type": "markdown",
   "source": [
    "### (c) Generation of random repair order"
   ],
   "metadata": {}
  },
  {
   "cell_type": "code",
   "execution_count": 32,
   "source": [
    "#Generate a random repair order\r\n",
    "repair_order = network_recovery.network.get_disrupted_components()\r\n",
    "random.shuffle(repair_order)\r\n",
    "print('Current repair order is {}'.format(repair_order))"
   ],
   "outputs": [
    {
     "output_type": "stream",
     "name": "stdout",
     "text": [
      "Current repair order is ['P_MP1', 'T_L2', 'W_WP9', 'W_P21']\n"
     ]
    }
   ],
   "metadata": {
    "tags": []
   }
  },
  {
   "cell_type": "markdown",
   "source": [
    "### (d) Generation of event tables"
   ],
   "metadata": {}
  },
  {
   "cell_type": "code",
   "execution_count": 33,
   "source": [
    "bf_simulation.network_recovery.schedule_recovery(repair_order)"
   ],
   "outputs": [
    {
     "output_type": "stream",
     "name": "stdout",
     "text": [
      "Iteration 1: gap 4642.279088: time 0.000000\n",
      "Iteration 2: gap 0.000936: time 0.007248\n",
      "Iteration 3: gap 0.000000: time 0.010365\n",
      "P_MP1 ('power', 'MP', 'motor', 'Motor')\n",
      "Iteration 1: gap 0.354227: time 0.001037\n",
      "Iteration 2: gap 0.000936: time 0.004148\n",
      "Iteration 3: gap 0.000000: time 0.009502\n"
     ]
    }
   ],
   "metadata": {}
  },
  {
   "cell_type": "code",
   "execution_count": 34,
   "source": [
    "bf_simulation.expand_event_table(20)"
   ],
   "outputs": [],
   "metadata": {}
  },
  {
   "cell_type": "markdown",
   "source": [
    "### (e) Simulation of interdependent effects"
   ],
   "metadata": {}
  },
  {
   "cell_type": "code",
   "execution_count": 35,
   "source": [
    "resilience_metrics = bf_simulation.simulate_interdependent_effects(\r\n",
    "    bf_simulation.network_recovery)\r\n",
    "\r\n",
    "resilience_metrics.set_weighted_auc_metrics()"
   ],
   "outputs": [
    {
     "output_type": "stream",
     "name": "stdout",
     "text": [
      "\n",
      "Simulating network conditions at 60 s\n",
      "Simulation time:  60.0 ; Hydraulic time step:  60.0 ; Report time step:  60\n",
      "['control 1', 'control 2']\n",
      "Supply:  0.06939921609791994 Base demand:  0.06939921604\n",
      "\n",
      "Simulating network conditions at 4740 s\n",
      "Simulation time:  4740.0 ; Hydraulic time step:  60.0 ; Report time step:  4740\n",
      "['control 1', 'control 2']\n",
      "Supply:  0.06939921609917374 Base demand:  0.06939921604\n",
      "\n",
      "Simulating network conditions at 6060 s\n",
      "Simulation time:  6060.0 ; Hydraulic time step:  60.0 ; Report time step:  6060\n",
      "['control 1', 'control 2']\n",
      "Supply:  0.06939921609951889 Base demand:  0.06939921604\n",
      "\n",
      "Simulating network conditions at 6120 s\n",
      "Simulation time:  6120.0 ; Hydraulic time step:  60.0 ; Report time step:  6120\n",
      "['control 1', 'control 2']\n",
      "Supply:  0.06939921609801265 Base demand:  0.06939921604\n",
      "\n",
      "Simulating network conditions at 6180 s\n",
      "Simulation time:  6180.0 ; Hydraulic time step:  60.0 ; Report time step:  6180\n",
      "['control 1', 'control 2', 'W_WP9_power_off_6120.0', 'W_WP9_power_on_6180.0']\n",
      "The pipe leak control is added between 6180 s and 6240.0 s\n",
      "Supply:  0.06939921607783384 Base demand:  0.06939921604\n",
      "\n",
      "Simulating network conditions at 6240 s\n",
      "Simulation time:  6240.0 ; Hydraulic time step:  60.0 ; Report time step:  6240\n",
      "['control 1', 'control 2', 'W_WP9_power_off_6120.0', 'W_WP9_power_on_6180.0', 'junctionW_P21_leak_nodestart_leak_control', 'junctionW_P21_leak_nodeend_leak_control', 'W_WP9_power_off_6180.0', 'W_WP9_power_on_6240.0']\n",
      "The pipe leak control is added between 6240 s and 7140.0 s\n",
      "The pump outage is added between 6240 s and 7140.0 s\n",
      "Supply:  0.06939921607778392 Base demand:  0.06939921604\n",
      "\n",
      "Simulating network conditions at 7140 s\n",
      "Simulation time:  7140.0 ; Hydraulic time step:  60.0 ; Report time step:  7140\n",
      "['control 1', 'control 2', 'W_WP9_power_off_6120.0', 'W_WP9_power_on_6180.0', 'W_WP9_power_off_6180.0', 'W_WP9_power_on_6240.0', 'junctionW_P21_leak_nodestart_leak_control', 'junctionW_P21_leak_nodeend_leak_control', 'W_WP9_power_off_6240', 'W_WP9_power_off_6240.0', 'W_WP9_power_on_7140.0']\n",
      "The pump outage is added between 7140 s and 7200.0 s\n",
      "The pipe leak control is added between 7140 s and 7200.0 s\n",
      "Supply:  0.06939921607703854 Base demand:  0.06939921604\n",
      "\n",
      "Simulating network conditions at 7200 s\n",
      "Simulation time:  7200.0 ; Hydraulic time step:  60.0 ; Report time step:  7200\n",
      "['control 1', 'control 2', 'W_WP9_power_off_6120.0', 'W_WP9_power_on_6180.0', 'W_WP9_power_off_6180.0', 'W_WP9_power_on_6240.0', 'W_WP9_power_off_6240', 'W_WP9_power_off_6240.0', 'W_WP9_power_on_7140.0', 'W_WP9_power_off_7140', 'junctionW_P21_leak_nodestart_leak_control', 'junctionW_P21_leak_nodeend_leak_control', 'W_WP9_power_off_7140.0', 'W_WP9_power_on_7200.0']\n",
      "The pump outage is added between 7200 s and 9420.0 s\n",
      "The pipe leak control is added between 7200 s and 9420.0 s\n",
      "Supply:  0.08327905929152107 Base demand:  0.083279059248\n",
      "\n",
      "Simulating network conditions at 9420 s\n",
      "Simulation time:  9420.0 ; Hydraulic time step:  60.0 ; Report time step:  9420\n",
      "['control 1', 'control 2', 'W_WP9_power_off_6120.0', 'W_WP9_power_on_6180.0', 'W_WP9_power_off_6180.0', 'W_WP9_power_on_6240.0', 'W_WP9_power_off_6240', 'W_WP9_power_off_6240.0', 'W_WP9_power_on_7140.0', 'W_WP9_power_off_7140', 'W_WP9_power_off_7140.0', 'W_WP9_power_on_7200.0', 'W_WP9_power_off_7200', 'junctionW_P21_leak_nodestart_leak_control', 'junctionW_P21_leak_nodeend_leak_control', 'W_WP9_power_off_7200.0', 'W_WP9_power_on_9420.0']\n",
      "The pump outage is added between 9420 s and 14100.0 s\n",
      "The pipe leak control is added between 9420 s and 14100.0 s\n",
      "Supply:  0.08327905928930875 Base demand:  0.083279059248\n",
      "\n",
      "Simulating network conditions at 14100 s\n",
      "Simulation time:  14100.0 ; Hydraulic time step:  60.0 ; Report time step:  14100\n",
      "['control 1', 'control 2', 'W_WP9_power_off_6120.0', 'W_WP9_power_on_6180.0', 'W_WP9_power_off_6180.0', 'W_WP9_power_on_6240.0', 'W_WP9_power_off_6240', 'W_WP9_power_off_6240.0', 'W_WP9_power_on_7140.0', 'W_WP9_power_off_7140', 'W_WP9_power_off_7140.0', 'W_WP9_power_on_7200.0', 'W_WP9_power_off_7200', 'W_WP9_power_off_7200.0', 'W_WP9_power_on_9420.0', 'W_WP9_power_off_9420', 'junctionW_P21_leak_nodestart_leak_control', 'junctionW_P21_leak_nodeend_leak_control', 'W_WP9_power_off_9420.0', 'W_WP9_power_on_14100.0']\n",
      "The pipe leak control is added between 14100 s and 18780.0 s\n",
      "The pump outage is added between 14100 s and 18780.0 s\n",
      "Supply:  0 Base demand:  0.083279059248\n",
      "\n",
      "Simulating network conditions at 18780 s\n",
      "Simulation time:  18780.0 ; Hydraulic time step:  60.0 ; Report time step:  18780\n",
      "['control 1', 'control 2', 'W_WP9_power_off_6120.0', 'W_WP9_power_on_6180.0', 'W_WP9_power_off_6180.0', 'W_WP9_power_on_6240.0', 'W_WP9_power_off_6240', 'W_WP9_power_off_6240.0', 'W_WP9_power_on_7140.0', 'W_WP9_power_off_7140', 'W_WP9_power_off_7140.0', 'W_WP9_power_on_7200.0', 'W_WP9_power_off_7200', 'W_WP9_power_off_7200.0', 'W_WP9_power_on_9420.0', 'W_WP9_power_off_9420', 'W_WP9_power_off_9420.0', 'W_WP9_power_on_14100.0', 'junctionW_P21_leak_nodestart_leak_control', 'junctionW_P21_leak_nodeend_leak_control', 'W_WP9_power_off_14100', 'W_WP9_power_off_14100.0', 'W_WP9_power_on_18780.0']\n",
      "The pump outage is added between 18780 s and 23460.0 s\n",
      "The pipe leak control is added between 18780 s and 23460.0 s\n",
      "Supply:  0 Base demand:  0.090218980852\n",
      "\n",
      "Simulating network conditions at 23460 s\n",
      "Simulation time:  23460.0 ; Hydraulic time step:  60.0 ; Report time step:  23460\n",
      "['control 1', 'control 2', 'W_WP9_power_off_6120.0', 'W_WP9_power_on_6180.0', 'W_WP9_power_off_6180.0', 'W_WP9_power_on_6240.0', 'W_WP9_power_off_6240', 'W_WP9_power_off_6240.0', 'W_WP9_power_on_7140.0', 'W_WP9_power_off_7140', 'W_WP9_power_off_7140.0', 'W_WP9_power_on_7200.0', 'W_WP9_power_off_7200', 'W_WP9_power_off_7200.0', 'W_WP9_power_on_9420.0', 'W_WP9_power_off_9420', 'W_WP9_power_off_9420.0', 'W_WP9_power_on_14100.0', 'W_WP9_power_off_14100', 'W_WP9_power_off_14100.0', 'W_WP9_power_on_18780.0', 'W_WP9_power_off_18780', 'junctionW_P21_leak_nodestart_leak_control', 'junctionW_P21_leak_nodeend_leak_control', 'W_WP9_power_off_18780.0', 'W_WP9_power_on_23460.0']\n",
      "The pump outage is added between 23460 s and 28140.0 s\n",
      "The pipe leak control is added between 23460 s and 28140.0 s\n",
      "Supply:  0 Base demand:  0.05551937283200001\n",
      "\n",
      "Simulating network conditions at 28140 s\n",
      "Simulation time:  28140.0 ; Hydraulic time step:  60.0 ; Report time step:  28140\n",
      "['control 1', 'control 2', 'W_WP9_power_off_6120.0', 'W_WP9_power_on_6180.0', 'W_WP9_power_off_6180.0', 'W_WP9_power_on_6240.0', 'W_WP9_power_off_6240', 'W_WP9_power_off_6240.0', 'W_WP9_power_on_7140.0', 'W_WP9_power_off_7140', 'W_WP9_power_off_7140.0', 'W_WP9_power_on_7200.0', 'W_WP9_power_off_7200', 'W_WP9_power_off_7200.0', 'W_WP9_power_on_9420.0', 'W_WP9_power_off_9420', 'W_WP9_power_off_9420.0', 'W_WP9_power_on_14100.0', 'W_WP9_power_off_14100', 'W_WP9_power_off_14100.0', 'W_WP9_power_on_18780.0', 'W_WP9_power_off_18780', 'W_WP9_power_off_18780.0', 'W_WP9_power_on_23460.0', 'W_WP9_power_off_23460', 'junctionW_P21_leak_nodestart_leak_control', 'junctionW_P21_leak_nodeend_leak_control', 'W_WP9_power_off_23460.0', 'W_WP9_power_on_28140.0']\n",
      "The pump outage is added between 28140 s and 32820.0 s\n",
      "The pipe leak control is added between 28140 s and 32820.0 s\n",
      "Supply:  0 Base demand:  0.05551937283200001\n",
      "\n",
      "Simulating network conditions at 32820 s\n",
      "Simulation time:  32820.0 ; Hydraulic time step:  60.0 ; Report time step:  32820\n",
      "['control 1', 'control 2', 'W_WP9_power_off_6120.0', 'W_WP9_power_on_6180.0', 'W_WP9_power_off_6180.0', 'W_WP9_power_on_6240.0', 'W_WP9_power_off_6240', 'W_WP9_power_off_6240.0', 'W_WP9_power_on_7140.0', 'W_WP9_power_off_7140', 'W_WP9_power_off_7140.0', 'W_WP9_power_on_7200.0', 'W_WP9_power_off_7200', 'W_WP9_power_off_7200.0', 'W_WP9_power_on_9420.0', 'W_WP9_power_off_9420', 'W_WP9_power_off_9420.0', 'W_WP9_power_on_14100.0', 'W_WP9_power_off_14100', 'W_WP9_power_off_14100.0', 'W_WP9_power_on_18780.0', 'W_WP9_power_off_18780', 'W_WP9_power_off_18780.0', 'W_WP9_power_on_23460.0', 'W_WP9_power_off_23460', 'W_WP9_power_off_23460.0', 'W_WP9_power_on_28140.0', 'W_WP9_power_off_28140', 'junctionW_P21_leak_nodestart_leak_control', 'junctionW_P21_leak_nodeend_leak_control', 'W_WP9_power_off_28140.0', 'W_WP9_power_on_32820.0']\n",
      "The pump outage is added between 32820 s and 37500.0 s\n",
      "The pipe leak control is added between 32820 s and 37500.0 s\n",
      "Supply:  0 Base demand:  0.06939921604\n",
      "\n",
      "Simulating network conditions at 37500 s\n",
      "Simulation time:  37500.0 ; Hydraulic time step:  60.0 ; Report time step:  37500\n",
      "['control 1', 'control 2', 'W_WP9_power_off_6120.0', 'W_WP9_power_on_6180.0', 'W_WP9_power_off_6180.0', 'W_WP9_power_on_6240.0', 'W_WP9_power_off_6240', 'W_WP9_power_off_6240.0', 'W_WP9_power_on_7140.0', 'W_WP9_power_off_7140', 'W_WP9_power_off_7140.0', 'W_WP9_power_on_7200.0', 'W_WP9_power_off_7200', 'W_WP9_power_off_7200.0', 'W_WP9_power_on_9420.0', 'W_WP9_power_off_9420', 'W_WP9_power_off_9420.0', 'W_WP9_power_on_14100.0', 'W_WP9_power_off_14100', 'W_WP9_power_off_14100.0', 'W_WP9_power_on_18780.0', 'W_WP9_power_off_18780', 'W_WP9_power_off_18780.0', 'W_WP9_power_on_23460.0', 'W_WP9_power_off_23460', 'W_WP9_power_off_23460.0', 'W_WP9_power_on_28140.0', 'W_WP9_power_off_28140', 'W_WP9_power_off_28140.0', 'W_WP9_power_on_32820.0', 'W_WP9_power_off_32820', 'junctionW_P21_leak_nodestart_leak_control', 'junctionW_P21_leak_nodeend_leak_control', 'W_WP9_power_off_32820.0', 'W_WP9_power_on_37500.0']\n",
      "The pump outage is added between 37500 s and 42180.0 s\n",
      "The pipe leak control is added between 37500 s and 42180.0 s\n",
      "Supply:  0 Base demand:  0.083279059248\n",
      "\n",
      "Simulating network conditions at 42180 s\n",
      "Simulation time:  42180.0 ; Hydraulic time step:  60.0 ; Report time step:  42180\n",
      "['control 1', 'control 2', 'W_WP9_power_off_6120.0', 'W_WP9_power_on_6180.0', 'W_WP9_power_off_6180.0', 'W_WP9_power_on_6240.0', 'W_WP9_power_off_6240', 'W_WP9_power_off_6240.0', 'W_WP9_power_on_7140.0', 'W_WP9_power_off_7140', 'W_WP9_power_off_7140.0', 'W_WP9_power_on_7200.0', 'W_WP9_power_off_7200', 'W_WP9_power_off_7200.0', 'W_WP9_power_on_9420.0', 'W_WP9_power_off_9420', 'W_WP9_power_off_9420.0', 'W_WP9_power_on_14100.0', 'W_WP9_power_off_14100', 'W_WP9_power_off_14100.0', 'W_WP9_power_on_18780.0', 'W_WP9_power_off_18780', 'W_WP9_power_off_18780.0', 'W_WP9_power_on_23460.0', 'W_WP9_power_off_23460', 'W_WP9_power_off_23460.0', 'W_WP9_power_on_28140.0', 'W_WP9_power_off_28140', 'W_WP9_power_off_28140.0', 'W_WP9_power_on_32820.0', 'W_WP9_power_off_32820', 'W_WP9_power_off_32820.0', 'W_WP9_power_on_37500.0', 'W_WP9_power_off_37500', 'junctionW_P21_leak_nodestart_leak_control', 'junctionW_P21_leak_nodeend_leak_control', 'W_WP9_power_off_37500.0', 'W_WP9_power_on_42180.0']\n",
      "The pump outage is added between 42180 s and 43020.0 s\n",
      "The pipe leak control is added between 42180 s and 43020.0 s\n",
      "Supply:  0 Base demand:  0.083279059248\n",
      "\n",
      "Simulating network conditions at 43020 s\n",
      "Simulation time:  43020.0 ; Hydraulic time step:  60.0 ; Report time step:  43020\n",
      "['control 1', 'control 2', 'W_WP9_power_off_6120.0', 'W_WP9_power_on_6180.0', 'W_WP9_power_off_6180.0', 'W_WP9_power_on_6240.0', 'W_WP9_power_off_6240', 'W_WP9_power_off_6240.0', 'W_WP9_power_on_7140.0', 'W_WP9_power_off_7140', 'W_WP9_power_off_7140.0', 'W_WP9_power_on_7200.0', 'W_WP9_power_off_7200', 'W_WP9_power_off_7200.0', 'W_WP9_power_on_9420.0', 'W_WP9_power_off_9420', 'W_WP9_power_off_9420.0', 'W_WP9_power_on_14100.0', 'W_WP9_power_off_14100', 'W_WP9_power_off_14100.0', 'W_WP9_power_on_18780.0', 'W_WP9_power_off_18780', 'W_WP9_power_off_18780.0', 'W_WP9_power_on_23460.0', 'W_WP9_power_off_23460', 'W_WP9_power_off_23460.0', 'W_WP9_power_on_28140.0', 'W_WP9_power_off_28140', 'W_WP9_power_off_28140.0', 'W_WP9_power_on_32820.0', 'W_WP9_power_off_32820', 'W_WP9_power_off_32820.0', 'W_WP9_power_on_37500.0', 'W_WP9_power_off_37500', 'W_WP9_power_off_37500.0', 'W_WP9_power_on_42180.0', 'W_WP9_power_off_42180', 'junctionW_P21_leak_nodestart_leak_control', 'junctionW_P21_leak_nodeend_leak_control', 'W_WP9_power_off_42180.0', 'W_WP9_power_on_43020.0']\n",
      "The pump outage is added between 43020 s and 43140.0 s\n",
      "The pipe leak control is added between 43020 s and 43140.0 s\n",
      "Supply:  0 Base demand:  0.083279059248\n",
      "\n",
      "Simulating network conditions at 43140 s\n",
      "Simulation time:  43140.0 ; Hydraulic time step:  60.0 ; Report time step:  43140\n",
      "['control 1', 'control 2', 'W_WP9_power_off_6120.0', 'W_WP9_power_on_6180.0', 'W_WP9_power_off_6180.0', 'W_WP9_power_on_6240.0', 'W_WP9_power_off_6240', 'W_WP9_power_off_6240.0', 'W_WP9_power_on_7140.0', 'W_WP9_power_off_7140', 'W_WP9_power_off_7140.0', 'W_WP9_power_on_7200.0', 'W_WP9_power_off_7200', 'W_WP9_power_off_7200.0', 'W_WP9_power_on_9420.0', 'W_WP9_power_off_9420', 'W_WP9_power_off_9420.0', 'W_WP9_power_on_14100.0', 'W_WP9_power_off_14100', 'W_WP9_power_off_14100.0', 'W_WP9_power_on_18780.0', 'W_WP9_power_off_18780', 'W_WP9_power_off_18780.0', 'W_WP9_power_on_23460.0', 'W_WP9_power_off_23460', 'W_WP9_power_off_23460.0', 'W_WP9_power_on_28140.0', 'W_WP9_power_off_28140', 'W_WP9_power_off_28140.0', 'W_WP9_power_on_32820.0', 'W_WP9_power_off_32820', 'W_WP9_power_off_32820.0', 'W_WP9_power_on_37500.0', 'W_WP9_power_off_37500', 'W_WP9_power_off_37500.0', 'W_WP9_power_on_42180.0', 'W_WP9_power_off_42180', 'W_WP9_power_off_42180.0', 'W_WP9_power_on_43020.0', 'W_WP9_power_off_43020', 'junctionW_P21_leak_nodestart_leak_control', 'junctionW_P21_leak_nodeend_leak_control', 'W_WP9_power_off_43020.0', 'W_WP9_power_on_43140.0']\n",
      "The pipe leak control is added between 43140 s and 43260.0 s\n",
      "Supply:  0 Base demand:  0.083279059248\n",
      "\n",
      "Simulating network conditions at 43260 s\n",
      "Simulation time:  43260.0 ; Hydraulic time step:  60.0 ; Report time step:  43260\n",
      "['control 1', 'control 2', 'W_WP9_power_off_6120.0', 'W_WP9_power_on_6180.0', 'W_WP9_power_off_6180.0', 'W_WP9_power_on_6240.0', 'W_WP9_power_off_6240', 'W_WP9_power_off_6240.0', 'W_WP9_power_on_7140.0', 'W_WP9_power_off_7140', 'W_WP9_power_off_7140.0', 'W_WP9_power_on_7200.0', 'W_WP9_power_off_7200', 'W_WP9_power_off_7200.0', 'W_WP9_power_on_9420.0', 'W_WP9_power_off_9420', 'W_WP9_power_off_9420.0', 'W_WP9_power_on_14100.0', 'W_WP9_power_off_14100', 'W_WP9_power_off_14100.0', 'W_WP9_power_on_18780.0', 'W_WP9_power_off_18780', 'W_WP9_power_off_18780.0', 'W_WP9_power_on_23460.0', 'W_WP9_power_off_23460', 'W_WP9_power_off_23460.0', 'W_WP9_power_on_28140.0', 'W_WP9_power_off_28140', 'W_WP9_power_off_28140.0', 'W_WP9_power_on_32820.0', 'W_WP9_power_off_32820', 'W_WP9_power_off_32820.0', 'W_WP9_power_on_37500.0', 'W_WP9_power_off_37500', 'W_WP9_power_off_37500.0', 'W_WP9_power_on_42180.0', 'W_WP9_power_off_42180', 'W_WP9_power_off_42180.0', 'W_WP9_power_on_43020.0', 'W_WP9_power_off_43020', 'W_WP9_power_off_43020.0', 'W_WP9_power_on_43140.0', 'junctionW_P21_leak_nodestart_leak_control', 'junctionW_P21_leak_nodeend_leak_control', 'W_WP9_power_off_43140.0', 'W_WP9_power_on_43260.0']\n",
      "The pipe leak control is added between 43260 s and 43380.0 s\n",
      "Supply:  0 Base demand:  0.06939921604\n",
      "\n",
      "Simulating network conditions at 43380 s\n",
      "Simulation time:  43380.0 ; Hydraulic time step:  60.0 ; Report time step:  43380\n",
      "['control 1', 'control 2', 'W_WP9_power_off_6120.0', 'W_WP9_power_on_6180.0', 'W_WP9_power_off_6180.0', 'W_WP9_power_on_6240.0', 'W_WP9_power_off_6240', 'W_WP9_power_off_6240.0', 'W_WP9_power_on_7140.0', 'W_WP9_power_off_7140', 'W_WP9_power_off_7140.0', 'W_WP9_power_on_7200.0', 'W_WP9_power_off_7200', 'W_WP9_power_off_7200.0', 'W_WP9_power_on_9420.0', 'W_WP9_power_off_9420', 'W_WP9_power_off_9420.0', 'W_WP9_power_on_14100.0', 'W_WP9_power_off_14100', 'W_WP9_power_off_14100.0', 'W_WP9_power_on_18780.0', 'W_WP9_power_off_18780', 'W_WP9_power_off_18780.0', 'W_WP9_power_on_23460.0', 'W_WP9_power_off_23460', 'W_WP9_power_off_23460.0', 'W_WP9_power_on_28140.0', 'W_WP9_power_off_28140', 'W_WP9_power_off_28140.0', 'W_WP9_power_on_32820.0', 'W_WP9_power_off_32820', 'W_WP9_power_off_32820.0', 'W_WP9_power_on_37500.0', 'W_WP9_power_off_37500', 'W_WP9_power_off_37500.0', 'W_WP9_power_on_42180.0', 'W_WP9_power_off_42180', 'W_WP9_power_off_42180.0', 'W_WP9_power_on_43020.0', 'W_WP9_power_off_43020', 'W_WP9_power_off_43020.0', 'W_WP9_power_on_43140.0', 'W_WP9_power_off_43140.0', 'W_WP9_power_on_43260.0', 'junctionW_P21_leak_nodestart_leak_control', 'junctionW_P21_leak_nodeend_leak_control', 'W_WP9_power_off_43260.0', 'W_WP9_power_on_43380.0']\n",
      "The pipe leak control is added between 43380 s and 43980.0 s\n",
      "Supply:  0 Base demand:  0.06939921604\n",
      "\n",
      "Simulating network conditions at 43980 s\n",
      "Simulation time:  43980.0 ; Hydraulic time step:  60.0 ; Report time step:  43980\n",
      "['control 1', 'control 2', 'W_WP9_power_off_6120.0', 'W_WP9_power_on_6180.0', 'W_WP9_power_off_6180.0', 'W_WP9_power_on_6240.0', 'W_WP9_power_off_6240', 'W_WP9_power_off_6240.0', 'W_WP9_power_on_7140.0', 'W_WP9_power_off_7140', 'W_WP9_power_off_7140.0', 'W_WP9_power_on_7200.0', 'W_WP9_power_off_7200', 'W_WP9_power_off_7200.0', 'W_WP9_power_on_9420.0', 'W_WP9_power_off_9420', 'W_WP9_power_off_9420.0', 'W_WP9_power_on_14100.0', 'W_WP9_power_off_14100', 'W_WP9_power_off_14100.0', 'W_WP9_power_on_18780.0', 'W_WP9_power_off_18780', 'W_WP9_power_off_18780.0', 'W_WP9_power_on_23460.0', 'W_WP9_power_off_23460', 'W_WP9_power_off_23460.0', 'W_WP9_power_on_28140.0', 'W_WP9_power_off_28140', 'W_WP9_power_off_28140.0', 'W_WP9_power_on_32820.0', 'W_WP9_power_off_32820', 'W_WP9_power_off_32820.0', 'W_WP9_power_on_37500.0', 'W_WP9_power_off_37500', 'W_WP9_power_off_37500.0', 'W_WP9_power_on_42180.0', 'W_WP9_power_off_42180', 'W_WP9_power_off_42180.0', 'W_WP9_power_on_43020.0', 'W_WP9_power_off_43020', 'W_WP9_power_off_43020.0', 'W_WP9_power_on_43140.0', 'W_WP9_power_off_43140.0', 'W_WP9_power_on_43260.0', 'W_WP9_power_off_43260.0', 'W_WP9_power_on_43380.0', 'junctionW_P21_leak_nodestart_leak_control', 'junctionW_P21_leak_nodeend_leak_control', 'W_WP9_power_off_43380.0', 'W_WP9_power_on_43980.0']\n",
      "Supply:  0 Base demand:  0.06939921604\n",
      "\n",
      "Simulating network conditions at 46860 s\n",
      "Simulation time:  46860.0 ; Hydraulic time step:  60.0 ; Report time step:  46860\n",
      "['control 1', 'control 2', 'W_WP9_power_off_6120.0', 'W_WP9_power_on_6180.0', 'W_WP9_power_off_6180.0', 'W_WP9_power_on_6240.0', 'W_WP9_power_off_6240', 'W_WP9_power_off_6240.0', 'W_WP9_power_on_7140.0', 'W_WP9_power_off_7140', 'W_WP9_power_off_7140.0', 'W_WP9_power_on_7200.0', 'W_WP9_power_off_7200', 'W_WP9_power_off_7200.0', 'W_WP9_power_on_9420.0', 'W_WP9_power_off_9420', 'W_WP9_power_off_9420.0', 'W_WP9_power_on_14100.0', 'W_WP9_power_off_14100', 'W_WP9_power_off_14100.0', 'W_WP9_power_on_18780.0', 'W_WP9_power_off_18780', 'W_WP9_power_off_18780.0', 'W_WP9_power_on_23460.0', 'W_WP9_power_off_23460', 'W_WP9_power_off_23460.0', 'W_WP9_power_on_28140.0', 'W_WP9_power_off_28140', 'W_WP9_power_off_28140.0', 'W_WP9_power_on_32820.0', 'W_WP9_power_off_32820', 'W_WP9_power_off_32820.0', 'W_WP9_power_on_37500.0', 'W_WP9_power_off_37500', 'W_WP9_power_off_37500.0', 'W_WP9_power_on_42180.0', 'W_WP9_power_off_42180', 'W_WP9_power_off_42180.0', 'W_WP9_power_on_43020.0', 'W_WP9_power_off_43020', 'W_WP9_power_off_43020.0', 'W_WP9_power_on_43140.0', 'W_WP9_power_off_43140.0', 'W_WP9_power_on_43260.0', 'W_WP9_power_off_43260.0', 'W_WP9_power_on_43380.0', 'junctionW_P21_leak_nodestart_leak_control', 'junctionW_P21_leak_nodeend_leak_control', 'W_WP9_power_off_43380.0', 'W_WP9_power_on_43980.0', 'W_WP9_power_off_43980.0', 'W_WP9_power_on_46860.0']\n",
      "Supply:  0 Base demand:  0.06939921604\n",
      "\n",
      "Simulating network conditions at 51540 s\n",
      "Simulation time:  51540.0 ; Hydraulic time step:  60.0 ; Report time step:  51540\n",
      "['control 1', 'control 2', 'W_WP9_power_off_6120.0', 'W_WP9_power_on_6180.0', 'W_WP9_power_off_6180.0', 'W_WP9_power_on_6240.0', 'W_WP9_power_off_6240', 'W_WP9_power_off_6240.0', 'W_WP9_power_on_7140.0', 'W_WP9_power_off_7140', 'W_WP9_power_off_7140.0', 'W_WP9_power_on_7200.0', 'W_WP9_power_off_7200', 'W_WP9_power_off_7200.0', 'W_WP9_power_on_9420.0', 'W_WP9_power_off_9420', 'W_WP9_power_off_9420.0', 'W_WP9_power_on_14100.0', 'W_WP9_power_off_14100', 'W_WP9_power_off_14100.0', 'W_WP9_power_on_18780.0', 'W_WP9_power_off_18780', 'W_WP9_power_off_18780.0', 'W_WP9_power_on_23460.0', 'W_WP9_power_off_23460', 'W_WP9_power_off_23460.0', 'W_WP9_power_on_28140.0', 'W_WP9_power_off_28140', 'W_WP9_power_off_28140.0', 'W_WP9_power_on_32820.0', 'W_WP9_power_off_32820', 'W_WP9_power_off_32820.0', 'W_WP9_power_on_37500.0', 'W_WP9_power_off_37500', 'W_WP9_power_off_37500.0', 'W_WP9_power_on_42180.0', 'W_WP9_power_off_42180', 'W_WP9_power_off_42180.0', 'W_WP9_power_on_43020.0', 'W_WP9_power_off_43020', 'W_WP9_power_off_43020.0', 'W_WP9_power_on_43140.0', 'W_WP9_power_off_43140.0', 'W_WP9_power_on_43260.0', 'W_WP9_power_off_43260.0', 'W_WP9_power_on_43380.0', 'junctionW_P21_leak_nodestart_leak_control', 'junctionW_P21_leak_nodeend_leak_control', 'W_WP9_power_off_43380.0', 'W_WP9_power_on_43980.0', 'W_WP9_power_off_43980.0', 'W_WP9_power_on_46860.0', 'W_WP9_power_off_46860.0', 'W_WP9_power_on_51540.0']\n",
      "Supply:  0 Base demand:  0.06939921604\n",
      "\n",
      "Simulating network conditions at 56220 s\n",
      "Simulation time:  56220.0 ; Hydraulic time step:  60.0 ; Report time step:  56220\n",
      "['control 1', 'control 2', 'W_WP9_power_off_6120.0', 'W_WP9_power_on_6180.0', 'W_WP9_power_off_6180.0', 'W_WP9_power_on_6240.0', 'W_WP9_power_off_6240', 'W_WP9_power_off_6240.0', 'W_WP9_power_on_7140.0', 'W_WP9_power_off_7140', 'W_WP9_power_off_7140.0', 'W_WP9_power_on_7200.0', 'W_WP9_power_off_7200', 'W_WP9_power_off_7200.0', 'W_WP9_power_on_9420.0', 'W_WP9_power_off_9420', 'W_WP9_power_off_9420.0', 'W_WP9_power_on_14100.0', 'W_WP9_power_off_14100', 'W_WP9_power_off_14100.0', 'W_WP9_power_on_18780.0', 'W_WP9_power_off_18780', 'W_WP9_power_off_18780.0', 'W_WP9_power_on_23460.0', 'W_WP9_power_off_23460', 'W_WP9_power_off_23460.0', 'W_WP9_power_on_28140.0', 'W_WP9_power_off_28140', 'W_WP9_power_off_28140.0', 'W_WP9_power_on_32820.0', 'W_WP9_power_off_32820', 'W_WP9_power_off_32820.0', 'W_WP9_power_on_37500.0', 'W_WP9_power_off_37500', 'W_WP9_power_off_37500.0', 'W_WP9_power_on_42180.0', 'W_WP9_power_off_42180', 'W_WP9_power_off_42180.0', 'W_WP9_power_on_43020.0', 'W_WP9_power_off_43020', 'W_WP9_power_off_43020.0', 'W_WP9_power_on_43140.0', 'W_WP9_power_off_43140.0', 'W_WP9_power_on_43260.0', 'W_WP9_power_off_43260.0', 'W_WP9_power_on_43380.0', 'junctionW_P21_leak_nodestart_leak_control', 'junctionW_P21_leak_nodeend_leak_control', 'W_WP9_power_off_43380.0', 'W_WP9_power_on_43980.0', 'W_WP9_power_off_43980.0', 'W_WP9_power_on_46860.0', 'W_WP9_power_off_46860.0', 'W_WP9_power_on_51540.0', 'W_WP9_power_off_51540.0', 'W_WP9_power_on_56220.0']\n",
      "Supply:  0 Base demand:  0.06939921604\n",
      "\n",
      "Simulating network conditions at 60900 s\n",
      "Simulation time:  60900.0 ; Hydraulic time step:  60.0 ; Report time step:  60900\n",
      "['control 1', 'control 2', 'W_WP9_power_off_6120.0', 'W_WP9_power_on_6180.0', 'W_WP9_power_off_6180.0', 'W_WP9_power_on_6240.0', 'W_WP9_power_off_6240', 'W_WP9_power_off_6240.0', 'W_WP9_power_on_7140.0', 'W_WP9_power_off_7140', 'W_WP9_power_off_7140.0', 'W_WP9_power_on_7200.0', 'W_WP9_power_off_7200', 'W_WP9_power_off_7200.0', 'W_WP9_power_on_9420.0', 'W_WP9_power_off_9420', 'W_WP9_power_off_9420.0', 'W_WP9_power_on_14100.0', 'W_WP9_power_off_14100', 'W_WP9_power_off_14100.0', 'W_WP9_power_on_18780.0', 'W_WP9_power_off_18780', 'W_WP9_power_off_18780.0', 'W_WP9_power_on_23460.0', 'W_WP9_power_off_23460', 'W_WP9_power_off_23460.0', 'W_WP9_power_on_28140.0', 'W_WP9_power_off_28140', 'W_WP9_power_off_28140.0', 'W_WP9_power_on_32820.0', 'W_WP9_power_off_32820', 'W_WP9_power_off_32820.0', 'W_WP9_power_on_37500.0', 'W_WP9_power_off_37500', 'W_WP9_power_off_37500.0', 'W_WP9_power_on_42180.0', 'W_WP9_power_off_42180', 'W_WP9_power_off_42180.0', 'W_WP9_power_on_43020.0', 'W_WP9_power_off_43020', 'W_WP9_power_off_43020.0', 'W_WP9_power_on_43140.0', 'W_WP9_power_off_43140.0', 'W_WP9_power_on_43260.0', 'W_WP9_power_off_43260.0', 'W_WP9_power_on_43380.0', 'junctionW_P21_leak_nodestart_leak_control', 'junctionW_P21_leak_nodeend_leak_control', 'W_WP9_power_off_43380.0', 'W_WP9_power_on_43980.0', 'W_WP9_power_off_43980.0', 'W_WP9_power_on_46860.0', 'W_WP9_power_off_46860.0', 'W_WP9_power_on_51540.0', 'W_WP9_power_off_51540.0', 'W_WP9_power_on_56220.0', 'W_WP9_power_off_56220.0', 'W_WP9_power_on_60900.0']\n",
      "Supply:  0 Base demand:  0.06939921604\n",
      "\n",
      "Simulating network conditions at 65580 s\n",
      "Simulation time:  65580.0 ; Hydraulic time step:  60.0 ; Report time step:  65580\n",
      "['control 1', 'control 2', 'W_WP9_power_off_6120.0', 'W_WP9_power_on_6180.0', 'W_WP9_power_off_6180.0', 'W_WP9_power_on_6240.0', 'W_WP9_power_off_6240', 'W_WP9_power_off_6240.0', 'W_WP9_power_on_7140.0', 'W_WP9_power_off_7140', 'W_WP9_power_off_7140.0', 'W_WP9_power_on_7200.0', 'W_WP9_power_off_7200', 'W_WP9_power_off_7200.0', 'W_WP9_power_on_9420.0', 'W_WP9_power_off_9420', 'W_WP9_power_off_9420.0', 'W_WP9_power_on_14100.0', 'W_WP9_power_off_14100', 'W_WP9_power_off_14100.0', 'W_WP9_power_on_18780.0', 'W_WP9_power_off_18780', 'W_WP9_power_off_18780.0', 'W_WP9_power_on_23460.0', 'W_WP9_power_off_23460', 'W_WP9_power_off_23460.0', 'W_WP9_power_on_28140.0', 'W_WP9_power_off_28140', 'W_WP9_power_off_28140.0', 'W_WP9_power_on_32820.0', 'W_WP9_power_off_32820', 'W_WP9_power_off_32820.0', 'W_WP9_power_on_37500.0', 'W_WP9_power_off_37500', 'W_WP9_power_off_37500.0', 'W_WP9_power_on_42180.0', 'W_WP9_power_off_42180', 'W_WP9_power_off_42180.0', 'W_WP9_power_on_43020.0', 'W_WP9_power_off_43020', 'W_WP9_power_off_43020.0', 'W_WP9_power_on_43140.0', 'W_WP9_power_off_43140.0', 'W_WP9_power_on_43260.0', 'W_WP9_power_off_43260.0', 'W_WP9_power_on_43380.0', 'junctionW_P21_leak_nodestart_leak_control', 'junctionW_P21_leak_nodeend_leak_control', 'W_WP9_power_off_43380.0', 'W_WP9_power_on_43980.0', 'W_WP9_power_off_43980.0', 'W_WP9_power_on_46860.0', 'W_WP9_power_off_46860.0', 'W_WP9_power_on_51540.0', 'W_WP9_power_off_51540.0', 'W_WP9_power_on_56220.0', 'W_WP9_power_off_56220.0', 'W_WP9_power_on_60900.0', 'W_WP9_power_off_60900.0', 'W_WP9_power_on_65580.0']\n",
      "Supply:  0 Base demand:  0.06939921604\n",
      "\n",
      "Simulating network conditions at 70260 s\n",
      "Simulation time:  70260.0 ; Hydraulic time step:  60.0 ; Report time step:  70260\n",
      "['control 1', 'control 2', 'W_WP9_power_off_6120.0', 'W_WP9_power_on_6180.0', 'W_WP9_power_off_6180.0', 'W_WP9_power_on_6240.0', 'W_WP9_power_off_6240', 'W_WP9_power_off_6240.0', 'W_WP9_power_on_7140.0', 'W_WP9_power_off_7140', 'W_WP9_power_off_7140.0', 'W_WP9_power_on_7200.0', 'W_WP9_power_off_7200', 'W_WP9_power_off_7200.0', 'W_WP9_power_on_9420.0', 'W_WP9_power_off_9420', 'W_WP9_power_off_9420.0', 'W_WP9_power_on_14100.0', 'W_WP9_power_off_14100', 'W_WP9_power_off_14100.0', 'W_WP9_power_on_18780.0', 'W_WP9_power_off_18780', 'W_WP9_power_off_18780.0', 'W_WP9_power_on_23460.0', 'W_WP9_power_off_23460', 'W_WP9_power_off_23460.0', 'W_WP9_power_on_28140.0', 'W_WP9_power_off_28140', 'W_WP9_power_off_28140.0', 'W_WP9_power_on_32820.0', 'W_WP9_power_off_32820', 'W_WP9_power_off_32820.0', 'W_WP9_power_on_37500.0', 'W_WP9_power_off_37500', 'W_WP9_power_off_37500.0', 'W_WP9_power_on_42180.0', 'W_WP9_power_off_42180', 'W_WP9_power_off_42180.0', 'W_WP9_power_on_43020.0', 'W_WP9_power_off_43020', 'W_WP9_power_off_43020.0', 'W_WP9_power_on_43140.0', 'W_WP9_power_off_43140.0', 'W_WP9_power_on_43260.0', 'W_WP9_power_off_43260.0', 'W_WP9_power_on_43380.0', 'junctionW_P21_leak_nodestart_leak_control', 'junctionW_P21_leak_nodeend_leak_control', 'W_WP9_power_off_43380.0', 'W_WP9_power_on_43980.0', 'W_WP9_power_off_43980.0', 'W_WP9_power_on_46860.0', 'W_WP9_power_off_46860.0', 'W_WP9_power_on_51540.0', 'W_WP9_power_off_51540.0', 'W_WP9_power_on_56220.0', 'W_WP9_power_off_56220.0', 'W_WP9_power_on_60900.0', 'W_WP9_power_off_60900.0', 'W_WP9_power_on_65580.0', 'W_WP9_power_off_65580.0', 'W_WP9_power_on_70260.0']\n",
      "Supply:  0 Base demand:  0.06939921604\n",
      "\n",
      "Simulating network conditions at 74940 s\n",
      "Simulation time:  74940.0 ; Hydraulic time step:  60.0 ; Report time step:  74940\n",
      "['control 1', 'control 2', 'W_WP9_power_off_6120.0', 'W_WP9_power_on_6180.0', 'W_WP9_power_off_6180.0', 'W_WP9_power_on_6240.0', 'W_WP9_power_off_6240', 'W_WP9_power_off_6240.0', 'W_WP9_power_on_7140.0', 'W_WP9_power_off_7140', 'W_WP9_power_off_7140.0', 'W_WP9_power_on_7200.0', 'W_WP9_power_off_7200', 'W_WP9_power_off_7200.0', 'W_WP9_power_on_9420.0', 'W_WP9_power_off_9420', 'W_WP9_power_off_9420.0', 'W_WP9_power_on_14100.0', 'W_WP9_power_off_14100', 'W_WP9_power_off_14100.0', 'W_WP9_power_on_18780.0', 'W_WP9_power_off_18780', 'W_WP9_power_off_18780.0', 'W_WP9_power_on_23460.0', 'W_WP9_power_off_23460', 'W_WP9_power_off_23460.0', 'W_WP9_power_on_28140.0', 'W_WP9_power_off_28140', 'W_WP9_power_off_28140.0', 'W_WP9_power_on_32820.0', 'W_WP9_power_off_32820', 'W_WP9_power_off_32820.0', 'W_WP9_power_on_37500.0', 'W_WP9_power_off_37500', 'W_WP9_power_off_37500.0', 'W_WP9_power_on_42180.0', 'W_WP9_power_off_42180', 'W_WP9_power_off_42180.0', 'W_WP9_power_on_43020.0', 'W_WP9_power_off_43020', 'W_WP9_power_off_43020.0', 'W_WP9_power_on_43140.0', 'W_WP9_power_off_43140.0', 'W_WP9_power_on_43260.0', 'W_WP9_power_off_43260.0', 'W_WP9_power_on_43380.0', 'junctionW_P21_leak_nodestart_leak_control', 'junctionW_P21_leak_nodeend_leak_control', 'W_WP9_power_off_43380.0', 'W_WP9_power_on_43980.0', 'W_WP9_power_off_43980.0', 'W_WP9_power_on_46860.0', 'W_WP9_power_off_46860.0', 'W_WP9_power_on_51540.0', 'W_WP9_power_off_51540.0', 'W_WP9_power_on_56220.0', 'W_WP9_power_off_56220.0', 'W_WP9_power_on_60900.0', 'W_WP9_power_off_60900.0', 'W_WP9_power_on_65580.0', 'W_WP9_power_off_65580.0', 'W_WP9_power_on_70260.0', 'W_WP9_power_off_70260.0', 'W_WP9_power_on_74940.0']\n",
      "Supply:  0 Base demand:  0.06939921604\n",
      "\n",
      "Simulating network conditions at 79620 s\n",
      "Simulation time:  79620.0 ; Hydraulic time step:  60.0 ; Report time step:  79620\n",
      "['control 1', 'control 2', 'W_WP9_power_off_6120.0', 'W_WP9_power_on_6180.0', 'W_WP9_power_off_6180.0', 'W_WP9_power_on_6240.0', 'W_WP9_power_off_6240', 'W_WP9_power_off_6240.0', 'W_WP9_power_on_7140.0', 'W_WP9_power_off_7140', 'W_WP9_power_off_7140.0', 'W_WP9_power_on_7200.0', 'W_WP9_power_off_7200', 'W_WP9_power_off_7200.0', 'W_WP9_power_on_9420.0', 'W_WP9_power_off_9420', 'W_WP9_power_off_9420.0', 'W_WP9_power_on_14100.0', 'W_WP9_power_off_14100', 'W_WP9_power_off_14100.0', 'W_WP9_power_on_18780.0', 'W_WP9_power_off_18780', 'W_WP9_power_off_18780.0', 'W_WP9_power_on_23460.0', 'W_WP9_power_off_23460', 'W_WP9_power_off_23460.0', 'W_WP9_power_on_28140.0', 'W_WP9_power_off_28140', 'W_WP9_power_off_28140.0', 'W_WP9_power_on_32820.0', 'W_WP9_power_off_32820', 'W_WP9_power_off_32820.0', 'W_WP9_power_on_37500.0', 'W_WP9_power_off_37500', 'W_WP9_power_off_37500.0', 'W_WP9_power_on_42180.0', 'W_WP9_power_off_42180', 'W_WP9_power_off_42180.0', 'W_WP9_power_on_43020.0', 'W_WP9_power_off_43020', 'W_WP9_power_off_43020.0', 'W_WP9_power_on_43140.0', 'W_WP9_power_off_43140.0', 'W_WP9_power_on_43260.0', 'W_WP9_power_off_43260.0', 'W_WP9_power_on_43380.0', 'junctionW_P21_leak_nodestart_leak_control', 'junctionW_P21_leak_nodeend_leak_control', 'W_WP9_power_off_43380.0', 'W_WP9_power_on_43980.0', 'W_WP9_power_off_43980.0', 'W_WP9_power_on_46860.0', 'W_WP9_power_off_46860.0', 'W_WP9_power_on_51540.0', 'W_WP9_power_off_51540.0', 'W_WP9_power_on_56220.0', 'W_WP9_power_off_56220.0', 'W_WP9_power_on_60900.0', 'W_WP9_power_off_60900.0', 'W_WP9_power_on_65580.0', 'W_WP9_power_off_65580.0', 'W_WP9_power_on_70260.0', 'W_WP9_power_off_70260.0', 'W_WP9_power_on_74940.0', 'W_WP9_power_off_74940.0', 'W_WP9_power_on_79620.0']\n",
      "Supply:  0 Base demand:  0.06939921604\n",
      "\n",
      "Simulating network conditions at 84300 s\n",
      "Simulation time:  84300.0 ; Hydraulic time step:  60.0 ; Report time step:  84300\n",
      "['control 1', 'control 2', 'W_WP9_power_off_6120.0', 'W_WP9_power_on_6180.0', 'W_WP9_power_off_6180.0', 'W_WP9_power_on_6240.0', 'W_WP9_power_off_6240', 'W_WP9_power_off_6240.0', 'W_WP9_power_on_7140.0', 'W_WP9_power_off_7140', 'W_WP9_power_off_7140.0', 'W_WP9_power_on_7200.0', 'W_WP9_power_off_7200', 'W_WP9_power_off_7200.0', 'W_WP9_power_on_9420.0', 'W_WP9_power_off_9420', 'W_WP9_power_off_9420.0', 'W_WP9_power_on_14100.0', 'W_WP9_power_off_14100', 'W_WP9_power_off_14100.0', 'W_WP9_power_on_18780.0', 'W_WP9_power_off_18780', 'W_WP9_power_off_18780.0', 'W_WP9_power_on_23460.0', 'W_WP9_power_off_23460', 'W_WP9_power_off_23460.0', 'W_WP9_power_on_28140.0', 'W_WP9_power_off_28140', 'W_WP9_power_off_28140.0', 'W_WP9_power_on_32820.0', 'W_WP9_power_off_32820', 'W_WP9_power_off_32820.0', 'W_WP9_power_on_37500.0', 'W_WP9_power_off_37500', 'W_WP9_power_off_37500.0', 'W_WP9_power_on_42180.0', 'W_WP9_power_off_42180', 'W_WP9_power_off_42180.0', 'W_WP9_power_on_43020.0', 'W_WP9_power_off_43020', 'W_WP9_power_off_43020.0', 'W_WP9_power_on_43140.0', 'W_WP9_power_off_43140.0', 'W_WP9_power_on_43260.0', 'W_WP9_power_off_43260.0', 'W_WP9_power_on_43380.0', 'junctionW_P21_leak_nodestart_leak_control', 'junctionW_P21_leak_nodeend_leak_control', 'W_WP9_power_off_43380.0', 'W_WP9_power_on_43980.0', 'W_WP9_power_off_43980.0', 'W_WP9_power_on_46860.0', 'W_WP9_power_off_46860.0', 'W_WP9_power_on_51540.0', 'W_WP9_power_off_51540.0', 'W_WP9_power_on_56220.0', 'W_WP9_power_off_56220.0', 'W_WP9_power_on_60900.0', 'W_WP9_power_off_60900.0', 'W_WP9_power_on_65580.0', 'W_WP9_power_off_65580.0', 'W_WP9_power_on_70260.0', 'W_WP9_power_off_70260.0', 'W_WP9_power_on_74940.0', 'W_WP9_power_off_74940.0', 'W_WP9_power_on_79620.0', 'W_WP9_power_off_79620.0', 'W_WP9_power_on_84300.0']\n",
      "Supply:  0 Base demand:  0.06939921604\n",
      "\n",
      "Simulating network conditions at 87060 s\n",
      "Simulation time:  87060.0 ; Hydraulic time step:  60.0 ; Report time step:  87060\n",
      "['control 1', 'control 2', 'W_WP9_power_off_6120.0', 'W_WP9_power_on_6180.0', 'W_WP9_power_off_6180.0', 'W_WP9_power_on_6240.0', 'W_WP9_power_off_6240', 'W_WP9_power_off_6240.0', 'W_WP9_power_on_7140.0', 'W_WP9_power_off_7140', 'W_WP9_power_off_7140.0', 'W_WP9_power_on_7200.0', 'W_WP9_power_off_7200', 'W_WP9_power_off_7200.0', 'W_WP9_power_on_9420.0', 'W_WP9_power_off_9420', 'W_WP9_power_off_9420.0', 'W_WP9_power_on_14100.0', 'W_WP9_power_off_14100', 'W_WP9_power_off_14100.0', 'W_WP9_power_on_18780.0', 'W_WP9_power_off_18780', 'W_WP9_power_off_18780.0', 'W_WP9_power_on_23460.0', 'W_WP9_power_off_23460', 'W_WP9_power_off_23460.0', 'W_WP9_power_on_28140.0', 'W_WP9_power_off_28140', 'W_WP9_power_off_28140.0', 'W_WP9_power_on_32820.0', 'W_WP9_power_off_32820', 'W_WP9_power_off_32820.0', 'W_WP9_power_on_37500.0', 'W_WP9_power_off_37500', 'W_WP9_power_off_37500.0', 'W_WP9_power_on_42180.0', 'W_WP9_power_off_42180', 'W_WP9_power_off_42180.0', 'W_WP9_power_on_43020.0', 'W_WP9_power_off_43020', 'W_WP9_power_off_43020.0', 'W_WP9_power_on_43140.0', 'W_WP9_power_off_43140.0', 'W_WP9_power_on_43260.0', 'W_WP9_power_off_43260.0', 'W_WP9_power_on_43380.0', 'junctionW_P21_leak_nodestart_leak_control', 'junctionW_P21_leak_nodeend_leak_control', 'W_WP9_power_off_43380.0', 'W_WP9_power_on_43980.0', 'W_WP9_power_off_43980.0', 'W_WP9_power_on_46860.0', 'W_WP9_power_off_46860.0', 'W_WP9_power_on_51540.0', 'W_WP9_power_off_51540.0', 'W_WP9_power_on_56220.0', 'W_WP9_power_off_56220.0', 'W_WP9_power_on_60900.0', 'W_WP9_power_off_60900.0', 'W_WP9_power_on_65580.0', 'W_WP9_power_off_65580.0', 'W_WP9_power_on_70260.0', 'W_WP9_power_off_70260.0', 'W_WP9_power_on_74940.0', 'W_WP9_power_off_74940.0', 'W_WP9_power_on_79620.0', 'W_WP9_power_off_79620.0', 'W_WP9_power_on_84300.0', 'W_WP9_power_off_84300.0', 'W_WP9_power_on_87060.0']\n",
      "Supply:  0 Base demand:  0.06939921604\n",
      "\n",
      "Simulating network conditions at 87180 s\n",
      "Simulation time:  87180.0 ; Hydraulic time step:  60.0 ; Report time step:  87180\n",
      "['control 1', 'control 2', 'W_WP9_power_off_6120.0', 'W_WP9_power_on_6180.0', 'W_WP9_power_off_6180.0', 'W_WP9_power_on_6240.0', 'W_WP9_power_off_6240', 'W_WP9_power_off_6240.0', 'W_WP9_power_on_7140.0', 'W_WP9_power_off_7140', 'W_WP9_power_off_7140.0', 'W_WP9_power_on_7200.0', 'W_WP9_power_off_7200', 'W_WP9_power_off_7200.0', 'W_WP9_power_on_9420.0', 'W_WP9_power_off_9420', 'W_WP9_power_off_9420.0', 'W_WP9_power_on_14100.0', 'W_WP9_power_off_14100', 'W_WP9_power_off_14100.0', 'W_WP9_power_on_18780.0', 'W_WP9_power_off_18780', 'W_WP9_power_off_18780.0', 'W_WP9_power_on_23460.0', 'W_WP9_power_off_23460', 'W_WP9_power_off_23460.0', 'W_WP9_power_on_28140.0', 'W_WP9_power_off_28140', 'W_WP9_power_off_28140.0', 'W_WP9_power_on_32820.0', 'W_WP9_power_off_32820', 'W_WP9_power_off_32820.0', 'W_WP9_power_on_37500.0', 'W_WP9_power_off_37500', 'W_WP9_power_off_37500.0', 'W_WP9_power_on_42180.0', 'W_WP9_power_off_42180', 'W_WP9_power_off_42180.0', 'W_WP9_power_on_43020.0', 'W_WP9_power_off_43020', 'W_WP9_power_off_43020.0', 'W_WP9_power_on_43140.0', 'W_WP9_power_off_43140.0', 'W_WP9_power_on_43260.0', 'W_WP9_power_off_43260.0', 'W_WP9_power_on_43380.0', 'junctionW_P21_leak_nodestart_leak_control', 'junctionW_P21_leak_nodeend_leak_control', 'W_WP9_power_off_43380.0', 'W_WP9_power_on_43980.0', 'W_WP9_power_off_43980.0', 'W_WP9_power_on_46860.0', 'W_WP9_power_off_46860.0', 'W_WP9_power_on_51540.0', 'W_WP9_power_off_51540.0', 'W_WP9_power_on_56220.0', 'W_WP9_power_off_56220.0', 'W_WP9_power_on_60900.0', 'W_WP9_power_off_60900.0', 'W_WP9_power_on_65580.0', 'W_WP9_power_off_65580.0', 'W_WP9_power_on_70260.0', 'W_WP9_power_off_70260.0', 'W_WP9_power_on_74940.0', 'W_WP9_power_off_74940.0', 'W_WP9_power_on_79620.0', 'W_WP9_power_off_79620.0', 'W_WP9_power_on_84300.0', 'W_WP9_power_off_84300.0', 'W_WP9_power_on_87060.0', 'W_WP9_power_off_87060.0', 'W_WP9_power_on_87180.0']\n",
      "Supply:  0 Base demand:  0.06939921604\n",
      "\n",
      "Simulating network conditions at 87300 s\n",
      "Simulation time:  87300.0 ; Hydraulic time step:  60.0 ; Report time step:  87300\n",
      "['control 1', 'control 2', 'W_WP9_power_off_6120.0', 'W_WP9_power_on_6180.0', 'W_WP9_power_off_6180.0', 'W_WP9_power_on_6240.0', 'W_WP9_power_off_6240', 'W_WP9_power_off_6240.0', 'W_WP9_power_on_7140.0', 'W_WP9_power_off_7140', 'W_WP9_power_off_7140.0', 'W_WP9_power_on_7200.0', 'W_WP9_power_off_7200', 'W_WP9_power_off_7200.0', 'W_WP9_power_on_9420.0', 'W_WP9_power_off_9420', 'W_WP9_power_off_9420.0', 'W_WP9_power_on_14100.0', 'W_WP9_power_off_14100', 'W_WP9_power_off_14100.0', 'W_WP9_power_on_18780.0', 'W_WP9_power_off_18780', 'W_WP9_power_off_18780.0', 'W_WP9_power_on_23460.0', 'W_WP9_power_off_23460', 'W_WP9_power_off_23460.0', 'W_WP9_power_on_28140.0', 'W_WP9_power_off_28140', 'W_WP9_power_off_28140.0', 'W_WP9_power_on_32820.0', 'W_WP9_power_off_32820', 'W_WP9_power_off_32820.0', 'W_WP9_power_on_37500.0', 'W_WP9_power_off_37500', 'W_WP9_power_off_37500.0', 'W_WP9_power_on_42180.0', 'W_WP9_power_off_42180', 'W_WP9_power_off_42180.0', 'W_WP9_power_on_43020.0', 'W_WP9_power_off_43020', 'W_WP9_power_off_43020.0', 'W_WP9_power_on_43140.0', 'W_WP9_power_off_43140.0', 'W_WP9_power_on_43260.0', 'W_WP9_power_off_43260.0', 'W_WP9_power_on_43380.0', 'junctionW_P21_leak_nodestart_leak_control', 'junctionW_P21_leak_nodeend_leak_control', 'W_WP9_power_off_43380.0', 'W_WP9_power_on_43980.0', 'W_WP9_power_off_43980.0', 'W_WP9_power_on_46860.0', 'W_WP9_power_off_46860.0', 'W_WP9_power_on_51540.0', 'W_WP9_power_off_51540.0', 'W_WP9_power_on_56220.0', 'W_WP9_power_off_56220.0', 'W_WP9_power_on_60900.0', 'W_WP9_power_off_60900.0', 'W_WP9_power_on_65580.0', 'W_WP9_power_off_65580.0', 'W_WP9_power_on_70260.0', 'W_WP9_power_off_70260.0', 'W_WP9_power_on_74940.0', 'W_WP9_power_off_74940.0', 'W_WP9_power_on_79620.0', 'W_WP9_power_off_79620.0', 'W_WP9_power_on_84300.0', 'W_WP9_power_off_84300.0', 'W_WP9_power_on_87060.0', 'W_WP9_power_off_87060.0', 'W_WP9_power_on_87180.0', 'W_WP9_power_off_87180.0', 'W_WP9_power_on_87300.0']\n",
      "Supply:  0 Base demand:  0.06939921604\n",
      "\n",
      "Simulating network conditions at 87420 s\n",
      "Simulation time:  87420.0 ; Hydraulic time step:  60.0 ; Report time step:  87420\n",
      "['control 1', 'control 2', 'W_WP9_power_off_6120.0', 'W_WP9_power_on_6180.0', 'W_WP9_power_off_6180.0', 'W_WP9_power_on_6240.0', 'W_WP9_power_off_6240', 'W_WP9_power_off_6240.0', 'W_WP9_power_on_7140.0', 'W_WP9_power_off_7140', 'W_WP9_power_off_7140.0', 'W_WP9_power_on_7200.0', 'W_WP9_power_off_7200', 'W_WP9_power_off_7200.0', 'W_WP9_power_on_9420.0', 'W_WP9_power_off_9420', 'W_WP9_power_off_9420.0', 'W_WP9_power_on_14100.0', 'W_WP9_power_off_14100', 'W_WP9_power_off_14100.0', 'W_WP9_power_on_18780.0', 'W_WP9_power_off_18780', 'W_WP9_power_off_18780.0', 'W_WP9_power_on_23460.0', 'W_WP9_power_off_23460', 'W_WP9_power_off_23460.0', 'W_WP9_power_on_28140.0', 'W_WP9_power_off_28140', 'W_WP9_power_off_28140.0', 'W_WP9_power_on_32820.0', 'W_WP9_power_off_32820', 'W_WP9_power_off_32820.0', 'W_WP9_power_on_37500.0', 'W_WP9_power_off_37500', 'W_WP9_power_off_37500.0', 'W_WP9_power_on_42180.0', 'W_WP9_power_off_42180', 'W_WP9_power_off_42180.0', 'W_WP9_power_on_43020.0', 'W_WP9_power_off_43020', 'W_WP9_power_off_43020.0', 'W_WP9_power_on_43140.0', 'W_WP9_power_off_43140.0', 'W_WP9_power_on_43260.0', 'W_WP9_power_off_43260.0', 'W_WP9_power_on_43380.0', 'junctionW_P21_leak_nodestart_leak_control', 'junctionW_P21_leak_nodeend_leak_control', 'W_WP9_power_off_43380.0', 'W_WP9_power_on_43980.0', 'W_WP9_power_off_43980.0', 'W_WP9_power_on_46860.0', 'W_WP9_power_off_46860.0', 'W_WP9_power_on_51540.0', 'W_WP9_power_off_51540.0', 'W_WP9_power_on_56220.0', 'W_WP9_power_off_56220.0', 'W_WP9_power_on_60900.0', 'W_WP9_power_off_60900.0', 'W_WP9_power_on_65580.0', 'W_WP9_power_off_65580.0', 'W_WP9_power_on_70260.0', 'W_WP9_power_off_70260.0', 'W_WP9_power_on_74940.0', 'W_WP9_power_off_74940.0', 'W_WP9_power_on_79620.0', 'W_WP9_power_off_79620.0', 'W_WP9_power_on_84300.0', 'W_WP9_power_off_84300.0', 'W_WP9_power_on_87060.0', 'W_WP9_power_off_87060.0', 'W_WP9_power_on_87180.0', 'W_WP9_power_off_87180.0', 'W_WP9_power_on_87300.0', 'W_WP9_power_off_87300.0', 'W_WP9_power_on_87420.0']\n",
      "Supply:  0 Base demand:  0.06939921604\n",
      "\n",
      "Simulating network conditions at 88980 s\n",
      "Simulation time:  88980.0 ; Hydraulic time step:  60.0 ; Report time step:  88980\n",
      "['control 1', 'control 2', 'W_WP9_power_off_6120.0', 'W_WP9_power_on_6180.0', 'W_WP9_power_off_6180.0', 'W_WP9_power_on_6240.0', 'W_WP9_power_off_6240', 'W_WP9_power_off_6240.0', 'W_WP9_power_on_7140.0', 'W_WP9_power_off_7140', 'W_WP9_power_off_7140.0', 'W_WP9_power_on_7200.0', 'W_WP9_power_off_7200', 'W_WP9_power_off_7200.0', 'W_WP9_power_on_9420.0', 'W_WP9_power_off_9420', 'W_WP9_power_off_9420.0', 'W_WP9_power_on_14100.0', 'W_WP9_power_off_14100', 'W_WP9_power_off_14100.0', 'W_WP9_power_on_18780.0', 'W_WP9_power_off_18780', 'W_WP9_power_off_18780.0', 'W_WP9_power_on_23460.0', 'W_WP9_power_off_23460', 'W_WP9_power_off_23460.0', 'W_WP9_power_on_28140.0', 'W_WP9_power_off_28140', 'W_WP9_power_off_28140.0', 'W_WP9_power_on_32820.0', 'W_WP9_power_off_32820', 'W_WP9_power_off_32820.0', 'W_WP9_power_on_37500.0', 'W_WP9_power_off_37500', 'W_WP9_power_off_37500.0', 'W_WP9_power_on_42180.0', 'W_WP9_power_off_42180', 'W_WP9_power_off_42180.0', 'W_WP9_power_on_43020.0', 'W_WP9_power_off_43020', 'W_WP9_power_off_43020.0', 'W_WP9_power_on_43140.0', 'W_WP9_power_off_43140.0', 'W_WP9_power_on_43260.0', 'W_WP9_power_off_43260.0', 'W_WP9_power_on_43380.0', 'junctionW_P21_leak_nodestart_leak_control', 'junctionW_P21_leak_nodeend_leak_control', 'W_WP9_power_off_43380.0', 'W_WP9_power_on_43980.0', 'W_WP9_power_off_43980.0', 'W_WP9_power_on_46860.0', 'W_WP9_power_off_46860.0', 'W_WP9_power_on_51540.0', 'W_WP9_power_off_51540.0', 'W_WP9_power_on_56220.0', 'W_WP9_power_off_56220.0', 'W_WP9_power_on_60900.0', 'W_WP9_power_off_60900.0', 'W_WP9_power_on_65580.0', 'W_WP9_power_off_65580.0', 'W_WP9_power_on_70260.0', 'W_WP9_power_off_70260.0', 'W_WP9_power_on_74940.0', 'W_WP9_power_off_74940.0', 'W_WP9_power_on_79620.0', 'W_WP9_power_off_79620.0', 'W_WP9_power_on_84300.0', 'W_WP9_power_off_84300.0', 'W_WP9_power_on_87060.0', 'W_WP9_power_off_87060.0', 'W_WP9_power_on_87180.0', 'W_WP9_power_off_87180.0', 'W_WP9_power_on_87300.0', 'W_WP9_power_off_87300.0', 'W_WP9_power_on_87420.0', 'W_WP9_power_off_87420.0', 'W_WP9_power_on_88980.0']\n",
      "Supply:  0 Base demand:  0.06939921604\n",
      "\n",
      "Simulating network conditions at 93480 s\n",
      "Simulation time:  93480.0 ; Hydraulic time step:  60.0 ; Report time step:  93480\n",
      "['control 1', 'control 2', 'W_WP9_power_off_6120.0', 'W_WP9_power_on_6180.0', 'W_WP9_power_off_6180.0', 'W_WP9_power_on_6240.0', 'W_WP9_power_off_6240', 'W_WP9_power_off_6240.0', 'W_WP9_power_on_7140.0', 'W_WP9_power_off_7140', 'W_WP9_power_off_7140.0', 'W_WP9_power_on_7200.0', 'W_WP9_power_off_7200', 'W_WP9_power_off_7200.0', 'W_WP9_power_on_9420.0', 'W_WP9_power_off_9420', 'W_WP9_power_off_9420.0', 'W_WP9_power_on_14100.0', 'W_WP9_power_off_14100', 'W_WP9_power_off_14100.0', 'W_WP9_power_on_18780.0', 'W_WP9_power_off_18780', 'W_WP9_power_off_18780.0', 'W_WP9_power_on_23460.0', 'W_WP9_power_off_23460', 'W_WP9_power_off_23460.0', 'W_WP9_power_on_28140.0', 'W_WP9_power_off_28140', 'W_WP9_power_off_28140.0', 'W_WP9_power_on_32820.0', 'W_WP9_power_off_32820', 'W_WP9_power_off_32820.0', 'W_WP9_power_on_37500.0', 'W_WP9_power_off_37500', 'W_WP9_power_off_37500.0', 'W_WP9_power_on_42180.0', 'W_WP9_power_off_42180', 'W_WP9_power_off_42180.0', 'W_WP9_power_on_43020.0', 'W_WP9_power_off_43020', 'W_WP9_power_off_43020.0', 'W_WP9_power_on_43140.0', 'W_WP9_power_off_43140.0', 'W_WP9_power_on_43260.0', 'W_WP9_power_off_43260.0', 'W_WP9_power_on_43380.0', 'junctionW_P21_leak_nodestart_leak_control', 'junctionW_P21_leak_nodeend_leak_control', 'W_WP9_power_off_43380.0', 'W_WP9_power_on_43980.0', 'W_WP9_power_off_43980.0', 'W_WP9_power_on_46860.0', 'W_WP9_power_off_46860.0', 'W_WP9_power_on_51540.0', 'W_WP9_power_off_51540.0', 'W_WP9_power_on_56220.0', 'W_WP9_power_off_56220.0', 'W_WP9_power_on_60900.0', 'W_WP9_power_off_60900.0', 'W_WP9_power_on_65580.0', 'W_WP9_power_off_65580.0', 'W_WP9_power_on_70260.0', 'W_WP9_power_off_70260.0', 'W_WP9_power_on_74940.0', 'W_WP9_power_off_74940.0', 'W_WP9_power_on_79620.0', 'W_WP9_power_off_79620.0', 'W_WP9_power_on_84300.0', 'W_WP9_power_off_84300.0', 'W_WP9_power_on_87060.0', 'W_WP9_power_off_87060.0', 'W_WP9_power_on_87180.0', 'W_WP9_power_off_87180.0', 'W_WP9_power_on_87300.0', 'W_WP9_power_off_87300.0', 'W_WP9_power_on_87420.0', 'W_WP9_power_off_87420.0', 'W_WP9_power_on_88980.0', 'W_WP9_power_off_88980.0', 'W_WP9_power_on_93480.0']\n",
      "Supply:  0 Base demand:  0.06939921604\n",
      "\n",
      "Simulating network conditions at 93600 s\n",
      "Simulation time:  93600.0 ; Hydraulic time step:  60.0 ; Report time step:  93600\n",
      "['control 1', 'control 2', 'W_WP9_power_off_6120.0', 'W_WP9_power_on_6180.0', 'W_WP9_power_off_6180.0', 'W_WP9_power_on_6240.0', 'W_WP9_power_off_6240', 'W_WP9_power_off_6240.0', 'W_WP9_power_on_7140.0', 'W_WP9_power_off_7140', 'W_WP9_power_off_7140.0', 'W_WP9_power_on_7200.0', 'W_WP9_power_off_7200', 'W_WP9_power_off_7200.0', 'W_WP9_power_on_9420.0', 'W_WP9_power_off_9420', 'W_WP9_power_off_9420.0', 'W_WP9_power_on_14100.0', 'W_WP9_power_off_14100', 'W_WP9_power_off_14100.0', 'W_WP9_power_on_18780.0', 'W_WP9_power_off_18780', 'W_WP9_power_off_18780.0', 'W_WP9_power_on_23460.0', 'W_WP9_power_off_23460', 'W_WP9_power_off_23460.0', 'W_WP9_power_on_28140.0', 'W_WP9_power_off_28140', 'W_WP9_power_off_28140.0', 'W_WP9_power_on_32820.0', 'W_WP9_power_off_32820', 'W_WP9_power_off_32820.0', 'W_WP9_power_on_37500.0', 'W_WP9_power_off_37500', 'W_WP9_power_off_37500.0', 'W_WP9_power_on_42180.0', 'W_WP9_power_off_42180', 'W_WP9_power_off_42180.0', 'W_WP9_power_on_43020.0', 'W_WP9_power_off_43020', 'W_WP9_power_off_43020.0', 'W_WP9_power_on_43140.0', 'W_WP9_power_off_43140.0', 'W_WP9_power_on_43260.0', 'W_WP9_power_off_43260.0', 'W_WP9_power_on_43380.0', 'junctionW_P21_leak_nodestart_leak_control', 'junctionW_P21_leak_nodeend_leak_control', 'W_WP9_power_off_43380.0', 'W_WP9_power_on_43980.0', 'W_WP9_power_off_43980.0', 'W_WP9_power_on_46860.0', 'W_WP9_power_off_46860.0', 'W_WP9_power_on_51540.0', 'W_WP9_power_off_51540.0', 'W_WP9_power_on_56220.0', 'W_WP9_power_off_56220.0', 'W_WP9_power_on_60900.0', 'W_WP9_power_off_60900.0', 'W_WP9_power_on_65580.0', 'W_WP9_power_off_65580.0', 'W_WP9_power_on_70260.0', 'W_WP9_power_off_70260.0', 'W_WP9_power_on_74940.0', 'W_WP9_power_off_74940.0', 'W_WP9_power_on_79620.0', 'W_WP9_power_off_79620.0', 'W_WP9_power_on_84300.0', 'W_WP9_power_off_84300.0', 'W_WP9_power_on_87060.0', 'W_WP9_power_off_87060.0', 'W_WP9_power_on_87180.0', 'W_WP9_power_off_87180.0', 'W_WP9_power_on_87300.0', 'W_WP9_power_off_87300.0', 'W_WP9_power_on_87420.0', 'W_WP9_power_off_87420.0', 'W_WP9_power_on_88980.0', 'W_WP9_power_off_88980.0', 'W_WP9_power_on_93480.0', 'W_WP9_power_off_93480.0', 'W_WP9_power_on_93600.0']\n",
      "Supply:  0.08327905931226623 Base demand:  0.083279059248\n",
      "\n",
      "Simulating network conditions at 93720 s\n",
      "Simulation time:  93720.0 ; Hydraulic time step:  60.0 ; Report time step:  93720\n",
      "['control 1', 'control 2', 'W_WP9_power_off_6120.0', 'W_WP9_power_on_6180.0', 'W_WP9_power_off_6180.0', 'W_WP9_power_on_6240.0', 'W_WP9_power_off_6240', 'W_WP9_power_off_6240.0', 'W_WP9_power_on_7140.0', 'W_WP9_power_off_7140', 'W_WP9_power_off_7140.0', 'W_WP9_power_on_7200.0', 'W_WP9_power_off_7200', 'W_WP9_power_off_7200.0', 'W_WP9_power_on_9420.0', 'W_WP9_power_off_9420', 'W_WP9_power_off_9420.0', 'W_WP9_power_on_14100.0', 'W_WP9_power_off_14100', 'W_WP9_power_off_14100.0', 'W_WP9_power_on_18780.0', 'W_WP9_power_off_18780', 'W_WP9_power_off_18780.0', 'W_WP9_power_on_23460.0', 'W_WP9_power_off_23460', 'W_WP9_power_off_23460.0', 'W_WP9_power_on_28140.0', 'W_WP9_power_off_28140', 'W_WP9_power_off_28140.0', 'W_WP9_power_on_32820.0', 'W_WP9_power_off_32820', 'W_WP9_power_off_32820.0', 'W_WP9_power_on_37500.0', 'W_WP9_power_off_37500', 'W_WP9_power_off_37500.0', 'W_WP9_power_on_42180.0', 'W_WP9_power_off_42180', 'W_WP9_power_off_42180.0', 'W_WP9_power_on_43020.0', 'W_WP9_power_off_43020', 'W_WP9_power_off_43020.0', 'W_WP9_power_on_43140.0', 'W_WP9_power_off_43140.0', 'W_WP9_power_on_43260.0', 'W_WP9_power_off_43260.0', 'W_WP9_power_on_43380.0', 'junctionW_P21_leak_nodestart_leak_control', 'junctionW_P21_leak_nodeend_leak_control', 'W_WP9_power_off_43380.0', 'W_WP9_power_on_43980.0', 'W_WP9_power_off_43980.0', 'W_WP9_power_on_46860.0', 'W_WP9_power_off_46860.0', 'W_WP9_power_on_51540.0', 'W_WP9_power_off_51540.0', 'W_WP9_power_on_56220.0', 'W_WP9_power_off_56220.0', 'W_WP9_power_on_60900.0', 'W_WP9_power_off_60900.0', 'W_WP9_power_on_65580.0', 'W_WP9_power_off_65580.0', 'W_WP9_power_on_70260.0', 'W_WP9_power_off_70260.0', 'W_WP9_power_on_74940.0', 'W_WP9_power_off_74940.0', 'W_WP9_power_on_79620.0', 'W_WP9_power_off_79620.0', 'W_WP9_power_on_84300.0', 'W_WP9_power_off_84300.0', 'W_WP9_power_on_87060.0', 'W_WP9_power_off_87060.0', 'W_WP9_power_on_87180.0', 'W_WP9_power_off_87180.0', 'W_WP9_power_on_87300.0', 'W_WP9_power_off_87300.0', 'W_WP9_power_on_87420.0', 'W_WP9_power_off_87420.0', 'W_WP9_power_on_88980.0', 'W_WP9_power_off_88980.0', 'W_WP9_power_on_93480.0', 'W_WP9_power_off_93480.0', 'W_WP9_power_on_93600.0']\n",
      "Supply:  0.08327905931230309 Base demand:  0.083279059248\n"
     ]
    }
   ],
   "metadata": {}
  },
  {
   "cell_type": "markdown",
   "source": [
    "### (f) Calculation of resilience metric"
   ],
   "metadata": {}
  },
  {
   "cell_type": "code",
   "execution_count": 36,
   "source": [
    "# auc = 0.5 * water_auc + 0.5 * power_auc\r\n",
    "print(\r\n",
    "    \"Water AUC: \",\r\n",
    "    round(resilience_metrics.water_auc, 3),\r\n",
    "    \"\\t\",\r\n",
    "    \"Power AUC: \",\r\n",
    "    round(resilience_metrics.power_auc, 3),\r\n",
    "    \"\\t\",\r\n",
    "    \"Weighted AUC: \",\r\n",
    "    round(resilience_metrics.weighed_auc, 3),\r\n",
    ")"
   ],
   "outputs": [
    {
     "output_type": "stream",
     "name": "stdout",
     "text": [
      "Water AUC:  0.127 \t Power AUC:  0.965 \t Weighted AUC:  0.546\n"
     ]
    }
   ],
   "metadata": {}
  },
  {
   "cell_type": "markdown",
   "source": [
    "### Plot the direct and interdependent effects"
   ],
   "metadata": {}
  },
  {
   "cell_type": "code",
   "execution_count": 111,
   "source": [
    "#Plotting repair curves\r\n",
    "model_plots.plot_repair_curves(network_recovery, scatter = False)"
   ],
   "outputs": [
    {
     "output_type": "display_data",
     "data": {
      "text/html": [
       "\n",
       "\n",
       "\n",
       "\n",
       "\n",
       "\n",
       "  <div class=\"bk-root\" id=\"d8f66b4e-d8aa-4c6f-a98d-e320caa439e7\" data-root-id=\"64129\"></div>\n"
      ]
     },
     "metadata": {}
    },
    {
     "output_type": "display_data",
     "data": {
      "application/javascript": "(function(root) {\n  function embed_document(root) {\n    \n  var docs_json = {\"c70b3c32-7d96-43c9-a875-0823a90c721b\":{\"defs\":[],\"roots\":{\"references\":[{\"attributes\":{\"below\":[{\"id\":\"64140\"}],\"center\":[{\"id\":\"64143\"},{\"id\":\"64147\"},{\"id\":\"64178\"}],\"height\":450,\"left\":[{\"id\":\"64144\"}],\"renderers\":[{\"id\":\"64166\"},{\"id\":\"64184\"},{\"id\":\"64203\"},{\"id\":\"64224\"}],\"right\":[{\"id\":\"64178\"}],\"title\":{\"id\":\"64130\"},\"toolbar\":{\"id\":\"64155\"},\"toolbar_location\":\"above\",\"width\":750,\"x_range\":{\"id\":\"64132\"},\"x_scale\":{\"id\":\"64136\"},\"y_range\":{\"id\":\"64134\"},\"y_scale\":{\"id\":\"64138\"}},\"id\":\"64129\",\"subtype\":\"Figure\",\"type\":\"Plot\"},{\"attributes\":{\"line_alpha\":0.1,\"line_color\":\"#33a02c\",\"line_width\":2.5,\"mode\":\"after\",\"x\":{\"field\":\"x\"},\"y\":{\"field\":\"y\"}},\"id\":\"64222\",\"type\":\"Step\"},{\"attributes\":{},\"id\":\"64136\",\"type\":\"LinearScale\"},{\"attributes\":{\"line_color\":\"#1f78b4\",\"line_width\":2.5,\"mode\":\"after\",\"x\":{\"field\":\"x\"},\"y\":{\"field\":\"y\"}},\"id\":\"64181\",\"type\":\"Step\"},{\"attributes\":{},\"id\":\"64240\",\"type\":\"UnionRenderers\"},{\"attributes\":{\"axis\":{\"id\":\"64144\"},\"dimension\":1,\"ticker\":null},\"id\":\"64147\",\"type\":\"Grid\"},{\"attributes\":{},\"id\":\"64239\",\"type\":\"Selection\"},{\"attributes\":{\"axis_label\":\"Damage level (%)\",\"axis_label_standoff\":10,\"axis_label_text_color\":\"#5B5B5B\",\"axis_label_text_font\":\"Calibri Light\",\"axis_label_text_font_size\":\"1.15em\",\"axis_label_text_font_style\":\"bold\",\"axis_line_alpha\":1,\"axis_line_color\":\"#5B5B5B\",\"formatter\":{\"id\":\"64171\"},\"major_label_policy\":{\"id\":\"64169\"},\"major_label_text_color\":\"#5B5B5B\",\"major_label_text_font\":\"Calibri Light\",\"major_label_text_font_size\":\"0.95em\",\"major_label_text_font_style\":\"bold\",\"major_tick_in\":0,\"major_tick_line_alpha\":0.25,\"major_tick_line_color\":\"#5B5B5B\",\"major_tick_out\":3,\"minor_tick_line_alpha\":0.25,\"minor_tick_line_color\":\"#5B5B5B\",\"ticker\":{\"id\":\"64145\"}},\"id\":\"64144\",\"type\":\"LinearAxis\"},{\"attributes\":{\"axis_label\":\"Time (min)\",\"axis_label_standoff\":10,\"axis_label_text_color\":\"#5B5B5B\",\"axis_label_text_font\":\"Calibri Light\",\"axis_label_text_font_size\":\"1.15em\",\"axis_label_text_font_style\":\"bold\",\"axis_line_alpha\":1,\"axis_line_color\":\"#5B5B5B\",\"formatter\":{\"id\":\"64174\"},\"major_label_policy\":{\"id\":\"64172\"},\"major_label_text_color\":\"#5B5B5B\",\"major_label_text_font\":\"Calibri Light\",\"major_label_text_font_size\":\"0.95em\",\"major_label_text_font_style\":\"bold\",\"major_tick_in\":0,\"major_tick_line_alpha\":0.25,\"major_tick_line_color\":\"#5B5B5B\",\"major_tick_out\":3,\"minor_tick_line_alpha\":0.25,\"minor_tick_line_color\":\"#5B5B5B\",\"ticker\":{\"id\":\"64141\"}},\"id\":\"64140\",\"type\":\"LinearAxis\"},{\"attributes\":{\"line_alpha\":0.1,\"line_color\":\"#33a02c\",\"line_width\":2.5,\"mode\":\"after\",\"x\":{\"field\":\"x\"},\"y\":{\"field\":\"y\"}},\"id\":\"64223\",\"type\":\"Step\"},{\"attributes\":{\"source\":{\"id\":\"64162\"}},\"id\":\"64167\",\"type\":\"CDSView\"},{\"attributes\":{\"line_alpha\":0.1,\"line_color\":\"#1f78b4\",\"line_width\":2.5,\"mode\":\"after\",\"x\":{\"field\":\"x\"},\"y\":{\"field\":\"y\"}},\"id\":\"64182\",\"type\":\"Step\"},{\"attributes\":{\"line_color\":\"#33a02c\",\"line_width\":2.5,\"mode\":\"after\",\"x\":{\"field\":\"x\"},\"y\":{\"field\":\"y\"}},\"id\":\"64221\",\"type\":\"Step\"},{\"attributes\":{},\"id\":\"64171\",\"type\":\"BasicTickFormatter\"},{\"attributes\":{\"label\":{\"value\":\"W_WP9\"},\"renderers\":[{\"id\":\"64224\"}]},\"id\":\"64242\",\"type\":\"LegendItem\"},{\"attributes\":{},\"id\":\"64149\",\"type\":\"WheelZoomTool\"},{\"attributes\":{\"data\":{\"x\":[1.0,79.0,101.0,102.0,103.0,104.0,119.0,120.0,157.0,235.0,313.0,391.0,469.0,547.0,625.0,703.0,717.0,719.0,721.0,723.0,733.0,781.0,859.0,937.0,1015.0,1093.0,1171.0,1249.0,1327.0,1405.0,1451.0,1453.0,1455.0,1457.0,1483.0,1558.0,1560.0,1562.0,1564.0],\"y\":[100,100,100,100,100,50,50,50,50,50,50,50,50,50,50,50,50,100,100,100,100,100,100,100,100,100,100,100,100,100,100,100,100,100,100,100,100,100,100]},\"selected\":{\"id\":\"64239\"},\"selection_policy\":{\"id\":\"64240\"}},\"id\":\"64220\",\"type\":\"ColumnDataSource\"},{\"attributes\":{\"background_fill_alpha\":0.1,\"background_fill_color\":\"gainsboro\",\"border_line_alpha\":0,\"click_policy\":\"mute\",\"glyph_width\":15,\"items\":[{\"id\":\"64179\"},{\"id\":\"64198\"},{\"id\":\"64219\"},{\"id\":\"64242\"}],\"label_standoff\":8,\"label_text_color\":\"#5B5B5B\",\"label_text_font\":\"Calibri Light\",\"label_text_font_size\":\"0.95em\",\"label_text_font_style\":\"bold\",\"spacing\":8},\"id\":\"64178\",\"type\":\"Legend\"},{\"attributes\":{\"label\":{\"value\":\"W_P21\"},\"renderers\":[{\"id\":\"64203\"}]},\"id\":\"64219\",\"type\":\"LegendItem\"},{\"attributes\":{\"line_color\":\"#b2df8a\",\"line_width\":2.5,\"mode\":\"after\",\"x\":{\"field\":\"x\"},\"y\":{\"field\":\"y\"}},\"id\":\"64200\",\"type\":\"Step\"},{\"attributes\":{},\"id\":\"64152\",\"type\":\"ResetTool\"},{\"attributes\":{\"source\":{\"id\":\"64220\"}},\"id\":\"64225\",\"type\":\"CDSView\"},{\"attributes\":{\"overlay\":{\"id\":\"64154\"}},\"id\":\"64150\",\"type\":\"BoxZoomTool\"},{\"attributes\":{},\"id\":\"64174\",\"type\":\"BasicTickFormatter\"},{\"attributes\":{},\"id\":\"64138\",\"type\":\"LinearScale\"},{\"attributes\":{},\"id\":\"64132\",\"type\":\"DataRange1d\"},{\"attributes\":{\"data\":{\"x\":[1.0,79.0,101.0,102.0,103.0,104.0,119.0,120.0,157.0,235.0,313.0,391.0,469.0,547.0,625.0,703.0,717.0,719.0,721.0,723.0,733.0,781.0,859.0,937.0,1015.0,1093.0,1171.0,1249.0,1327.0,1405.0,1451.0,1453.0,1455.0,1457.0,1483.0,1558.0,1560.0,1562.0,1564.0],\"y\":[100,100,100,100,50,50,50,50,50,50,50,50,50,50,50,50,50,50,50,50,50,50,50,50,50,50,50,50,50,50,50,100,100,100,100,100,100,100,100]},\"selected\":{\"id\":\"64216\"},\"selection_policy\":{\"id\":\"64217\"}},\"id\":\"64199\",\"type\":\"ColumnDataSource\"},{\"attributes\":{},\"id\":\"64217\",\"type\":\"UnionRenderers\"},{\"attributes\":{},\"id\":\"64151\",\"type\":\"SaveTool\"},{\"attributes\":{\"data_source\":{\"id\":\"64180\"},\"glyph\":{\"id\":\"64181\"},\"hover_glyph\":null,\"muted_glyph\":{\"id\":\"64183\"},\"nonselection_glyph\":{\"id\":\"64182\"},\"view\":{\"id\":\"64185\"}},\"id\":\"64184\",\"type\":\"GlyphRenderer\"},{\"attributes\":{},\"id\":\"64195\",\"type\":\"Selection\"},{\"attributes\":{\"bottom_units\":\"screen\",\"fill_alpha\":0.5,\"fill_color\":\"lightgrey\",\"left_units\":\"screen\",\"level\":\"overlay\",\"line_alpha\":1.0,\"line_color\":\"black\",\"line_dash\":[4,4],\"line_width\":2,\"right_units\":\"screen\",\"syncable\":false,\"top_units\":\"screen\"},\"id\":\"64154\",\"type\":\"BoxAnnotation\"},{\"attributes\":{\"data_source\":{\"id\":\"64162\"},\"glyph\":{\"id\":\"64163\"},\"hover_glyph\":null,\"muted_glyph\":{\"id\":\"64165\"},\"nonselection_glyph\":{\"id\":\"64164\"},\"view\":{\"id\":\"64167\"}},\"id\":\"64166\",\"type\":\"GlyphRenderer\"},{\"attributes\":{\"line_alpha\":0.1,\"line_color\":\"#a6cee3\",\"line_width\":2.5,\"mode\":\"after\",\"x\":{\"field\":\"x\"},\"y\":{\"field\":\"y\"}},\"id\":\"64164\",\"type\":\"Step\"},{\"attributes\":{\"data_source\":{\"id\":\"64199\"},\"glyph\":{\"id\":\"64200\"},\"hover_glyph\":null,\"muted_glyph\":{\"id\":\"64202\"},\"nonselection_glyph\":{\"id\":\"64201\"},\"view\":{\"id\":\"64204\"}},\"id\":\"64203\",\"type\":\"GlyphRenderer\"},{\"attributes\":{\"data\":{\"x\":[1.0,79.0,101.0,102.0,103.0,104.0,119.0,120.0,157.0,235.0,313.0,391.0,469.0,547.0,625.0,703.0,717.0,719.0,721.0,723.0,733.0,781.0,859.0,937.0,1015.0,1093.0,1171.0,1249.0,1327.0,1405.0,1451.0,1453.0,1455.0,1457.0,1483.0,1558.0,1560.0,1562.0,1564.0],\"y\":[100,100,50,50,50,50,50,50,50,50,50,50,50,50,50,50,50,50,50,50,50,50,50,50,50,50,50,50,50,50,50,50,50,50,50,50,100,100,100]},\"selected\":{\"id\":\"64175\"},\"selection_policy\":{\"id\":\"64176\"}},\"id\":\"64162\",\"type\":\"ColumnDataSource\"},{\"attributes\":{\"axis\":{\"id\":\"64140\"},\"ticker\":null},\"id\":\"64143\",\"type\":\"Grid\"},{\"attributes\":{\"text\":\"Disrupted components and their restoration\",\"text_color\":\"#5B5B5B\",\"text_font\":\"Calibri Light\",\"text_font_size\":\"1.25em\",\"text_font_style\":\"bold\"},\"id\":\"64130\",\"type\":\"Title\"},{\"attributes\":{},\"id\":\"64175\",\"type\":\"Selection\"},{\"attributes\":{},\"id\":\"64196\",\"type\":\"UnionRenderers\"},{\"attributes\":{\"source\":{\"id\":\"64180\"}},\"id\":\"64185\",\"type\":\"CDSView\"},{\"attributes\":{},\"id\":\"64172\",\"type\":\"AllLabels\"},{\"attributes\":{},\"id\":\"64148\",\"type\":\"PanTool\"},{\"attributes\":{\"data\":{\"x\":[1.0,79.0,101.0,102.0,103.0,104.0,119.0,120.0,157.0,235.0,313.0,391.0,469.0,547.0,625.0,703.0,717.0,719.0,721.0,723.0,733.0,781.0,859.0,937.0,1015.0,1093.0,1171.0,1249.0,1327.0,1405.0,1451.0,1453.0,1455.0,1457.0,1483.0,1558.0,1560.0,1562.0,1564.0],\"y\":[100,100,100,50,50,50,50,50,50,50,50,50,50,50,50,50,50,50,50,50,50,50,50,50,50,50,50,50,50,50,50,50,50,50,50,50,100,100,100]},\"selected\":{\"id\":\"64195\"},\"selection_policy\":{\"id\":\"64196\"}},\"id\":\"64180\",\"type\":\"ColumnDataSource\"},{\"attributes\":{\"data_source\":{\"id\":\"64220\"},\"glyph\":{\"id\":\"64221\"},\"hover_glyph\":null,\"muted_glyph\":{\"id\":\"64223\"},\"nonselection_glyph\":{\"id\":\"64222\"},\"view\":{\"id\":\"64225\"}},\"id\":\"64224\",\"type\":\"GlyphRenderer\"},{\"attributes\":{\"line_alpha\":0.1,\"line_color\":\"#b2df8a\",\"line_width\":2.5,\"mode\":\"after\",\"x\":{\"field\":\"x\"},\"y\":{\"field\":\"y\"}},\"id\":\"64202\",\"type\":\"Step\"},{\"attributes\":{},\"id\":\"64176\",\"type\":\"UnionRenderers\"},{\"attributes\":{\"line_color\":\"#a6cee3\",\"line_width\":2.5,\"mode\":\"after\",\"x\":{\"field\":\"x\"},\"y\":{\"field\":\"y\"}},\"id\":\"64163\",\"type\":\"Step\"},{\"attributes\":{},\"id\":\"64169\",\"type\":\"AllLabels\"},{\"attributes\":{\"source\":{\"id\":\"64199\"}},\"id\":\"64204\",\"type\":\"CDSView\"},{\"attributes\":{\"label\":{\"value\":\"T_L2\"},\"renderers\":[{\"id\":\"64166\"}]},\"id\":\"64179\",\"type\":\"LegendItem\"},{\"attributes\":{\"line_alpha\":0.1,\"line_color\":\"#b2df8a\",\"line_width\":2.5,\"mode\":\"after\",\"x\":{\"field\":\"x\"},\"y\":{\"field\":\"y\"}},\"id\":\"64201\",\"type\":\"Step\"},{\"attributes\":{},\"id\":\"64134\",\"type\":\"DataRange1d\"},{\"attributes\":{\"label\":{\"value\":\"P_MP1\"},\"renderers\":[{\"id\":\"64184\"}]},\"id\":\"64198\",\"type\":\"LegendItem\"},{\"attributes\":{},\"id\":\"64145\",\"type\":\"BasicTicker\"},{\"attributes\":{},\"id\":\"64216\",\"type\":\"Selection\"},{\"attributes\":{\"line_alpha\":0.1,\"line_color\":\"#1f78b4\",\"line_width\":2.5,\"mode\":\"after\",\"x\":{\"field\":\"x\"},\"y\":{\"field\":\"y\"}},\"id\":\"64183\",\"type\":\"Step\"},{\"attributes\":{},\"id\":\"64153\",\"type\":\"HelpTool\"},{\"attributes\":{\"line_alpha\":0.1,\"line_color\":\"#a6cee3\",\"line_width\":2.5,\"mode\":\"after\",\"x\":{\"field\":\"x\"},\"y\":{\"field\":\"y\"}},\"id\":\"64165\",\"type\":\"Step\"},{\"attributes\":{},\"id\":\"64141\",\"type\":\"BasicTicker\"},{\"attributes\":{\"active_multi\":null,\"tools\":[{\"id\":\"64148\"},{\"id\":\"64149\"},{\"id\":\"64150\"},{\"id\":\"64151\"},{\"id\":\"64152\"},{\"id\":\"64153\"}]},\"id\":\"64155\",\"type\":\"Toolbar\"}],\"root_ids\":[\"64129\"]},\"title\":\"Bokeh Application\",\"version\":\"2.3.3\"}};\n  var render_items = [{\"docid\":\"c70b3c32-7d96-43c9-a875-0823a90c721b\",\"root_ids\":[\"64129\"],\"roots\":{\"64129\":\"d8f66b4e-d8aa-4c6f-a98d-e320caa439e7\"}}];\n  root.Bokeh.embed.embed_items_notebook(docs_json, render_items);\n\n  }\n  if (root.Bokeh !== undefined) {\n    embed_document(root);\n  } else {\n    var attempts = 0;\n    var timer = setInterval(function(root) {\n      if (root.Bokeh !== undefined) {\n        clearInterval(timer);\n        embed_document(root);\n      } else {\n        attempts++;\n        if (attempts > 100) {\n          clearInterval(timer);\n          console.log(\"Bokeh: ERROR: Unable to run BokehJS code because BokehJS library is missing\");\n        }\n      }\n    }, 10, root)\n  }\n})(window);",
      "application/vnd.bokehjs_exec.v0+json": ""
     },
     "metadata": {
      "application/vnd.bokehjs_exec.v0+json": {
       "id": "64129"
      }
     }
    }
   ],
   "metadata": {}
  },
  {
   "cell_type": "code",
   "execution_count": 112,
   "source": [
    "time_tracker, power_consump_tracker, water_consump_tracker = (\r\n",
    "    resilience_metrics.time_tracker, \r\n",
    "    resilience_metrics.power_consump_tracker, \r\n",
    "    resilience_metrics.water_consump_tracker\r\n",
    "    )\r\n",
    "\r\n",
    "model_plots.plot_interdependent_effects(\r\n",
    "    time_tracker,\r\n",
    "    power_consump_tracker,\r\n",
    "    water_consump_tracker,\r\n",
    "    scatter = False)"
   ],
   "outputs": [
    {
     "output_type": "display_data",
     "data": {
      "text/html": [
       "\n",
       "\n",
       "\n",
       "\n",
       "\n",
       "\n",
       "  <div class=\"bk-root\" id=\"68729773-1b83-4f37-8a61-9c55e06e0986\" data-root-id=\"65707\"></div>\n"
      ]
     },
     "metadata": {}
    },
    {
     "output_type": "display_data",
     "data": {
      "application/javascript": "(function(root) {\n  function embed_document(root) {\n    \n  var docs_json = {\"16fd840b-27d0-470b-b5d4-233a903c9566\":{\"defs\":[],\"roots\":{\"references\":[{\"attributes\":{\"below\":[{\"id\":\"65718\"}],\"center\":[{\"id\":\"65721\"},{\"id\":\"65725\"},{\"id\":\"65756\"}],\"height\":450,\"left\":[{\"id\":\"65722\"}],\"renderers\":[{\"id\":\"65744\"},{\"id\":\"65762\"}],\"right\":[{\"id\":\"65756\"}],\"title\":{\"id\":\"65708\"},\"toolbar\":{\"id\":\"65733\"},\"toolbar_location\":\"above\",\"width\":750,\"x_range\":{\"id\":\"65710\"},\"x_scale\":{\"id\":\"65714\"},\"y_range\":{\"id\":\"65712\"},\"y_scale\":{\"id\":\"65716\"}},\"id\":\"65707\",\"subtype\":\"Figure\",\"type\":\"Plot\"},{\"attributes\":{},\"id\":\"65747\",\"type\":\"AllLabels\"},{\"attributes\":{},\"id\":\"65719\",\"type\":\"BasicTicker\"},{\"attributes\":{\"axis_label\":\"Supply-to-demand ratio\",\"axis_label_standoff\":10,\"axis_label_text_color\":\"#5B5B5B\",\"axis_label_text_font\":\"Calibri Light\",\"axis_label_text_font_size\":\"1.15em\",\"axis_label_text_font_style\":\"bold\",\"axis_line_alpha\":1,\"axis_line_color\":\"#5B5B5B\",\"formatter\":{\"id\":\"65749\"},\"major_label_policy\":{\"id\":\"65747\"},\"major_label_text_color\":\"#5B5B5B\",\"major_label_text_font\":\"Calibri Light\",\"major_label_text_font_size\":\"0.95em\",\"major_label_text_font_style\":\"bold\",\"major_tick_in\":0,\"major_tick_line_alpha\":0.25,\"major_tick_line_color\":\"#5B5B5B\",\"major_tick_out\":3,\"minor_tick_line_alpha\":0.25,\"minor_tick_line_color\":\"#5B5B5B\",\"ticker\":{\"id\":\"65723\"}},\"id\":\"65722\",\"type\":\"LinearAxis\"},{\"attributes\":{\"source\":{\"id\":\"65758\"}},\"id\":\"65763\",\"type\":\"CDSView\"},{\"attributes\":{\"background_fill_alpha\":0.1,\"background_fill_color\":\"gainsboro\",\"border_line_alpha\":0,\"click_policy\":\"mute\",\"glyph_width\":15,\"items\":[{\"id\":\"65757\"},{\"id\":\"65776\"}],\"label_standoff\":8,\"label_text_color\":\"#5B5B5B\",\"label_text_font\":\"Calibri Light\",\"label_text_font_size\":\"0.95em\",\"label_text_font_style\":\"bold\",\"spacing\":8},\"id\":\"65756\",\"type\":\"Legend\"},{\"attributes\":{},\"id\":\"65723\",\"type\":\"BasicTicker\"},{\"attributes\":{\"line_color\":\"#ff7f0e\",\"line_width\":2.5,\"x\":{\"field\":\"x\"},\"y\":{\"field\":\"y\"}},\"id\":\"65759\",\"type\":\"Line\"},{\"attributes\":{},\"id\":\"65731\",\"type\":\"HelpTool\"},{\"attributes\":{},\"id\":\"65712\",\"type\":\"DataRange1d\"},{\"attributes\":{},\"id\":\"65729\",\"type\":\"SaveTool\"},{\"attributes\":{},\"id\":\"65774\",\"type\":\"UnionRenderers\"},{\"attributes\":{},\"id\":\"65753\",\"type\":\"Selection\"},{\"attributes\":{},\"id\":\"65726\",\"type\":\"PanTool\"},{\"attributes\":{},\"id\":\"65716\",\"type\":\"LinearScale\"},{\"attributes\":{\"label\":{\"value\":\"Water\"},\"renderers\":[{\"id\":\"65744\"}]},\"id\":\"65757\",\"type\":\"LegendItem\"},{\"attributes\":{\"overlay\":{\"id\":\"65732\"}},\"id\":\"65728\",\"type\":\"BoxZoomTool\"},{\"attributes\":{\"axis_label\":\"Time (min)\",\"axis_label_standoff\":10,\"axis_label_text_color\":\"#5B5B5B\",\"axis_label_text_font\":\"Calibri Light\",\"axis_label_text_font_size\":\"1.15em\",\"axis_label_text_font_style\":\"bold\",\"axis_line_alpha\":1,\"axis_line_color\":\"#5B5B5B\",\"formatter\":{\"id\":\"65752\"},\"major_label_policy\":{\"id\":\"65750\"},\"major_label_text_color\":\"#5B5B5B\",\"major_label_text_font\":\"Calibri Light\",\"major_label_text_font_size\":\"0.95em\",\"major_label_text_font_style\":\"bold\",\"major_tick_in\":0,\"major_tick_line_alpha\":0.25,\"major_tick_line_color\":\"#5B5B5B\",\"major_tick_out\":3,\"minor_tick_line_alpha\":0.25,\"minor_tick_line_color\":\"#5B5B5B\",\"ticker\":{\"id\":\"65719\"}},\"id\":\"65718\",\"type\":\"LinearAxis\"},{\"attributes\":{\"label\":{\"value\":\"Power\"},\"renderers\":[{\"id\":\"65762\"}]},\"id\":\"65776\",\"type\":\"LegendItem\"},{\"attributes\":{},\"id\":\"65773\",\"type\":\"Selection\"},{\"attributes\":{\"line_alpha\":0.1,\"line_color\":\"#ff7f0e\",\"line_width\":2.5,\"x\":{\"field\":\"x\"},\"y\":{\"field\":\"y\"}},\"id\":\"65760\",\"type\":\"Line\"},{\"attributes\":{},\"id\":\"65714\",\"type\":\"LinearScale\"},{\"attributes\":{},\"id\":\"65727\",\"type\":\"WheelZoomTool\"},{\"attributes\":{},\"id\":\"65754\",\"type\":\"UnionRenderers\"},{\"attributes\":{},\"id\":\"65749\",\"type\":\"BasicTickFormatter\"},{\"attributes\":{\"data\":{\"x\":[1.0,79.0,101.0,102.0,103.0,104.0,119.0,120.0,157.0,235.0,313.0,391.0,469.0,547.0,625.0,703.0,717.0,719.0,721.0,723.0,733.0,781.0,859.0,937.0,1015.0,1093.0,1171.0,1249.0,1327.0,1405.0,1451.0,1453.0,1455.0,1457.0,1483.0,1558.0,1560.0,1562.0],\"y\":[1.0,1.0,1.0,0.9630818619582664,0.9630818619582664,0.9630818619582664,0.9630818619582664,0.9630818619582664,0.9630818619582664,0.9630818619582664,0.9630818619582664,0.9630818619582664,0.9630818619582664,0.9630818619582664,0.9630818619582664,0.9630818619582664,0.9630818619582664,0.9630818619582664,0.9630818619582664,0.9630818619582664,0.9630818619582664,0.9630818619582664,0.9630818619582664,0.9630818619582664,0.9630818619582664,0.9630818619582664,0.9630818619582664,0.9630818619582664,0.9630818619582664,0.9630818619582664,0.9630818619582664,0.9630818619582664,0.9630818619582664,0.9630818619582664,0.9630818619582664,0.9630818619582664,1.0,1.0]},\"selected\":{\"id\":\"65773\"},\"selection_policy\":{\"id\":\"65774\"}},\"id\":\"65758\",\"type\":\"ColumnDataSource\"},{\"attributes\":{},\"id\":\"65730\",\"type\":\"ResetTool\"},{\"attributes\":{\"data_source\":{\"id\":\"65758\"},\"glyph\":{\"id\":\"65759\"},\"hover_glyph\":null,\"muted_glyph\":{\"id\":\"65761\"},\"nonselection_glyph\":{\"id\":\"65760\"},\"view\":{\"id\":\"65763\"}},\"id\":\"65762\",\"type\":\"GlyphRenderer\"},{\"attributes\":{\"axis\":{\"id\":\"65718\"},\"ticker\":null},\"id\":\"65721\",\"type\":\"Grid\"},{\"attributes\":{\"line_alpha\":0.1,\"line_color\":\"#1f77b4\",\"line_width\":2.5,\"x\":{\"field\":\"x\"},\"y\":{\"field\":\"y\"}},\"id\":\"65742\",\"type\":\"Line\"},{\"attributes\":{\"line_alpha\":0.2,\"line_color\":\"#1f77b4\",\"line_width\":2.5,\"x\":{\"field\":\"x\"},\"y\":{\"field\":\"y\"}},\"id\":\"65743\",\"type\":\"Line\"},{\"attributes\":{\"line_color\":\"#1f77b4\",\"line_width\":2.5,\"x\":{\"field\":\"x\"},\"y\":{\"field\":\"y\"}},\"id\":\"65741\",\"type\":\"Line\"},{\"attributes\":{\"line_alpha\":0.2,\"line_color\":\"#ff7f0e\",\"line_width\":2.5,\"x\":{\"field\":\"x\"},\"y\":{\"field\":\"y\"}},\"id\":\"65761\",\"type\":\"Line\"},{\"attributes\":{},\"id\":\"65752\",\"type\":\"BasicTickFormatter\"},{\"attributes\":{\"source\":{\"id\":\"65740\"}},\"id\":\"65745\",\"type\":\"CDSView\"},{\"attributes\":{\"text\":\"Network-wide effects and recovery\",\"text_color\":\"#5B5B5B\",\"text_font\":\"Calibri Light\",\"text_font_size\":\"1.25em\",\"text_font_style\":\"bold\"},\"id\":\"65708\",\"type\":\"Title\"},{\"attributes\":{\"bottom_units\":\"screen\",\"fill_alpha\":0.5,\"fill_color\":\"lightgrey\",\"left_units\":\"screen\",\"level\":\"overlay\",\"line_alpha\":1.0,\"line_color\":\"black\",\"line_dash\":[4,4],\"line_width\":2,\"right_units\":\"screen\",\"syncable\":false,\"top_units\":\"screen\"},\"id\":\"65732\",\"type\":\"BoxAnnotation\"},{\"attributes\":{\"data_source\":{\"id\":\"65740\"},\"glyph\":{\"id\":\"65741\"},\"hover_glyph\":null,\"muted_glyph\":{\"id\":\"65743\"},\"nonselection_glyph\":{\"id\":\"65742\"},\"view\":{\"id\":\"65745\"}},\"id\":\"65744\",\"type\":\"GlyphRenderer\"},{\"attributes\":{},\"id\":\"65710\",\"type\":\"DataRange1d\"},{\"attributes\":{\"axis\":{\"id\":\"65722\"},\"dimension\":1,\"ticker\":null},\"id\":\"65725\",\"type\":\"Grid\"},{\"attributes\":{\"active_multi\":null,\"tools\":[{\"id\":\"65726\"},{\"id\":\"65727\"},{\"id\":\"65728\"},{\"id\":\"65729\"},{\"id\":\"65730\"},{\"id\":\"65731\"}]},\"id\":\"65733\",\"type\":\"Toolbar\"},{\"attributes\":{\"data\":{\"x\":[1.0,79.0,101.0,102.0,103.0,104.0,119.0,120.0,157.0,235.0,313.0,391.0,469.0,547.0,625.0,703.0,717.0,719.0,721.0,723.0,733.0,781.0,859.0,937.0,1015.0,1093.0,1171.0,1249.0,1327.0,1405.0,1451.0,1453.0,1455.0,1457.0,1483.0,1558.0,1560.0,1562.0],\"y\":[1.0000000008345906,1.000000000852657,1.0000000008576306,1.0000000008359267,1.0000000005451624,1.000000000544443,1.0000000005337026,1.0000000005225933,1.000000000496028,0.0,0.0,0.0,0.0,0.0,0.0,0.0,0.0,0.0,0.0,0.0,0.0,0.0,0.0,0.0,0.0,0.0,0.0,0.0,0.0,0.0,0.0,0.0,0.0,0.0,0.0,0.0,1.0000000007716974,1.00000000077214]},\"selected\":{\"id\":\"65753\"},\"selection_policy\":{\"id\":\"65754\"}},\"id\":\"65740\",\"type\":\"ColumnDataSource\"},{\"attributes\":{},\"id\":\"65750\",\"type\":\"AllLabels\"}],\"root_ids\":[\"65707\"]},\"title\":\"Bokeh Application\",\"version\":\"2.3.3\"}};\n  var render_items = [{\"docid\":\"16fd840b-27d0-470b-b5d4-233a903c9566\",\"root_ids\":[\"65707\"],\"roots\":{\"65707\":\"68729773-1b83-4f37-8a61-9c55e06e0986\"}}];\n  root.Bokeh.embed.embed_items_notebook(docs_json, render_items);\n\n  }\n  if (root.Bokeh !== undefined) {\n    embed_document(root);\n  } else {\n    var attempts = 0;\n    var timer = setInterval(function(root) {\n      if (root.Bokeh !== undefined) {\n        clearInterval(timer);\n        embed_document(root);\n      } else {\n        attempts++;\n        if (attempts > 100) {\n          clearInterval(timer);\n          console.log(\"Bokeh: ERROR: Unable to run BokehJS code because BokehJS library is missing\");\n        }\n      }\n    }, 10, root)\n  }\n})(window);",
      "application/vnd.bokehjs_exec.v0+json": ""
     },
     "metadata": {
      "application/vnd.bokehjs_exec.v0+json": {
       "id": "65707"
      }
     }
    }
   ],
   "metadata": {}
  }
 ],
 "metadata": {
  "interpreter": {
   "hash": "d457c6433f18c3837b6e3285bba28c013c3b86deb599c3954950bcdf8f1c827b"
  },
  "kernelspec": {
   "name": "python3",
   "display_name": "Python 3.8.3 64-bit ('redcar': conda)"
  },
  "language_info": {
   "codemirror_mode": {
    "name": "ipython",
    "version": 3
   },
   "file_extension": ".py",
   "mimetype": "text/x-python",
   "name": "python",
   "nbconvert_exporter": "python",
   "pygments_lexer": "ipython3",
   "version": "3.8.3"
  }
 },
 "nbformat": 4,
 "nbformat_minor": 4
}