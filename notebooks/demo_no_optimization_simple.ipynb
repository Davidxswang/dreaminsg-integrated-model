{
 "cells": [
  {
   "cell_type": "markdown",
   "metadata": {},
   "source": [
    "# Testing the Integrated Simulation Platform\n",
    "This notebook contains codes to test the various functionalities of the integrated simulation platform. You can call any of the modules from the package here. "
   ]
  },
  {
   "cell_type": "code",
   "execution_count": 24,
   "metadata": {},
   "outputs": [],
   "source": [
    "# Go to the main directory\n",
    "# !pip install --editable .\n",
    "# !pip install pandas\n",
    "# !pip install wntr\n",
    "# !pip install pandapower\n",
    "# !pip install sklearn\n",
    "\n",
    "#to find requirements\n",
    "#depfinder -y ."
   ]
  },
  {
   "cell_type": "code",
   "execution_count": 25,
   "metadata": {},
   "outputs": [
    {
     "name": "stdout",
     "output_type": "stream",
     "text": [
      "The autoreload extension is already loaded. To reload it, use:\n",
      "  %reload_ext autoreload\n"
     ]
    },
    {
     "data": {
      "text/html": [
       "<style>.container { width:100% !important; }</style>"
      ],
      "text/plain": [
       "<IPython.core.display.HTML object>"
      ]
     },
     "metadata": {},
     "output_type": "display_data"
    }
   ],
   "source": [
    "%load_ext autoreload\n",
    "%autoreload 2\n",
    "\n",
    "from IPython.core.display import display, HTML\n",
    "display(HTML(\"<style>.container { width:100% !important; }</style>\"))\n",
    "from IPython.core.interactiveshell import InteractiveShell\n",
    "InteractiveShell.ast_node_interactivity = \"all\""
   ]
  },
  {
   "cell_type": "markdown",
   "metadata": {},
   "source": [
    "## Import required packages"
   ]
  },
  {
   "cell_type": "code",
   "execution_count": 26,
   "metadata": {
    "scrolled": true,
    "tags": []
   },
   "outputs": [],
   "source": [
    "from pathlib import Path\n",
    "from infrarisk.src.network_recovery import *\n",
    "import infrarisk.src.simulation as simulation\n",
    "from infrarisk.src.physical.integrated_network import *\n",
    "import infrarisk.src.recovery_strategies as strategies\n",
    "\n",
    "from infrarisk.src.physical.interdependencies import *\n",
    "\n",
    "from infrarisk.src.optimizer import *\n",
    "import infrarisk.src.plots as model_plots\n",
    "\n",
    "#import random"
   ]
  },
  {
   "cell_type": "markdown",
   "metadata": {},
   "source": [
    "## Create an IntegratedNetwork object"
   ]
  },
  {
   "cell_type": "code",
   "execution_count": 27,
   "metadata": {},
   "outputs": [],
   "source": [
    "simple_network = IntegratedNetwork(name = \"Simple\")"
   ]
  },
  {
   "cell_type": "markdown",
   "metadata": {},
   "source": [
    "### Load the three infrastructure models: Water, Power and Transportation\n",
    "\n",
    "Three different models are used:\n",
    "- Water distribution network using **wntr** package\n",
    "- Power systems using **pandapower** package\n",
    "- Transportation network using static traffic assignment package developed by Dr. Stephen Boyles (University of Texas at Austin)"
   ]
  },
  {
   "cell_type": "code",
   "execution_count": 28,
   "metadata": {},
   "outputs": [
    {
     "name": "stdout",
     "output_type": "stream",
     "text": [
      "Water network successfully loaded from ..\\infrarisk\\data\\networks\\in2\\water/water.inp. The analysis type is set to PDA.\n",
      "initial simulation duration: 60s; hydraulic time step: 60s; pattern time step: 3600s\n",
      "\n",
      "Power system successfully loaded from ..\\infrarisk\\data\\networks\\in2\\power\\power.json. Single phase power flow simulation will be used.\n",
      "\n",
      "Transportation network successfully loaded from ..\\infrarisk\\data\\networks\\in2\\transportation. Static traffic assignment method will be used to calculate travel times.\n"
     ]
    }
   ],
   "source": [
    "MAIN_DIR = Path('..')\n",
    "\n",
    "network_dir= 'infrarisk/data/networks/in2'\n",
    "water_folder = MAIN_DIR/f'{network_dir}/water'\n",
    "power_folder = MAIN_DIR/f'{network_dir}/power'\n",
    "transp_folder = MAIN_DIR/f'{network_dir}/transportation/'\n",
    "\n",
    "# load all infrastructure networks\n",
    "simple_network.load_networks(water_folder, \n",
    "                             power_folder, \n",
    "                             transp_folder, '1ph',\n",
    "                             water_sim_type = \"PDA\")"
   ]
  },
  {
   "cell_type": "markdown",
   "metadata": {},
   "source": [
    "### Create a Networkx graph of the integrated infrastructure network."
   ]
  },
  {
   "cell_type": "code",
   "execution_count": 29,
   "metadata": {},
   "outputs": [
    {
     "name": "stdout",
     "output_type": "stream",
     "text": [
      "Successfully added power network to the integrated graph...\n",
      "Successfully added water network to the integrated graph...\n",
      "Successfully added transportation network to the integrated graph...\n",
      "Integrated graph successffully created.\n",
      "Generating betweenness centrality...\n"
     ]
    },
    {
     "data": {
      "text/html": [
       "\n",
       "    <div class=\"bk-root\">\n",
       "        <a href=\"https://bokeh.org\" target=\"_blank\" class=\"bk-logo bk-logo-small bk-logo-notebook\"></a>\n",
       "        <span id=\"1334\">Loading BokehJS ...</span>\n",
       "    </div>"
      ]
     },
     "metadata": {},
     "output_type": "display_data"
    },
    {
     "data": {
      "application/javascript": "\n(function(root) {\n  function now() {\n    return new Date();\n  }\n\n  const force = true;\n\n  if (typeof root._bokeh_onload_callbacks === \"undefined\" || force === true) {\n    root._bokeh_onload_callbacks = [];\n    root._bokeh_is_loading = undefined;\n  }\n\n  const JS_MIME_TYPE = 'application/javascript';\n  const HTML_MIME_TYPE = 'text/html';\n  const EXEC_MIME_TYPE = 'application/vnd.bokehjs_exec.v0+json';\n  const CLASS_NAME = 'output_bokeh rendered_html';\n\n  /**\n   * Render data to the DOM node\n   */\n  function render(props, node) {\n    const script = document.createElement(\"script\");\n    node.appendChild(script);\n  }\n\n  /**\n   * Handle when an output is cleared or removed\n   */\n  function handleClearOutput(event, handle) {\n    const cell = handle.cell;\n\n    const id = cell.output_area._bokeh_element_id;\n    const server_id = cell.output_area._bokeh_server_id;\n    // Clean up Bokeh references\n    if (id != null && id in Bokeh.index) {\n      Bokeh.index[id].model.document.clear();\n      delete Bokeh.index[id];\n    }\n\n    if (server_id !== undefined) {\n      // Clean up Bokeh references\n      const cmd_clean = \"from bokeh.io.state import curstate; print(curstate().uuid_to_server['\" + server_id + \"'].get_sessions()[0].document.roots[0]._id)\";\n      cell.notebook.kernel.execute(cmd_clean, {\n        iopub: {\n          output: function(msg) {\n            const id = msg.content.text.trim();\n            if (id in Bokeh.index) {\n              Bokeh.index[id].model.document.clear();\n              delete Bokeh.index[id];\n            }\n          }\n        }\n      });\n      // Destroy server and session\n      const cmd_destroy = \"import bokeh.io.notebook as ion; ion.destroy_server('\" + server_id + \"')\";\n      cell.notebook.kernel.execute(cmd_destroy);\n    }\n  }\n\n  /**\n   * Handle when a new output is added\n   */\n  function handleAddOutput(event, handle) {\n    const output_area = handle.output_area;\n    const output = handle.output;\n\n    // limit handleAddOutput to display_data with EXEC_MIME_TYPE content only\n    if ((output.output_type != \"display_data\") || (!Object.prototype.hasOwnProperty.call(output.data, EXEC_MIME_TYPE))) {\n      return\n    }\n\n    const toinsert = output_area.element.find(\".\" + CLASS_NAME.split(' ')[0]);\n\n    if (output.metadata[EXEC_MIME_TYPE][\"id\"] !== undefined) {\n      toinsert[toinsert.length - 1].firstChild.textContent = output.data[JS_MIME_TYPE];\n      // store reference to embed id on output_area\n      output_area._bokeh_element_id = output.metadata[EXEC_MIME_TYPE][\"id\"];\n    }\n    if (output.metadata[EXEC_MIME_TYPE][\"server_id\"] !== undefined) {\n      const bk_div = document.createElement(\"div\");\n      bk_div.innerHTML = output.data[HTML_MIME_TYPE];\n      const script_attrs = bk_div.children[0].attributes;\n      for (let i = 0; i < script_attrs.length; i++) {\n        toinsert[toinsert.length - 1].firstChild.setAttribute(script_attrs[i].name, script_attrs[i].value);\n        toinsert[toinsert.length - 1].firstChild.textContent = bk_div.children[0].textContent\n      }\n      // store reference to server id on output_area\n      output_area._bokeh_server_id = output.metadata[EXEC_MIME_TYPE][\"server_id\"];\n    }\n  }\n\n  function register_renderer(events, OutputArea) {\n\n    function append_mime(data, metadata, element) {\n      // create a DOM node to render to\n      const toinsert = this.create_output_subarea(\n        metadata,\n        CLASS_NAME,\n        EXEC_MIME_TYPE\n      );\n      this.keyboard_manager.register_events(toinsert);\n      // Render to node\n      const props = {data: data, metadata: metadata[EXEC_MIME_TYPE]};\n      render(props, toinsert[toinsert.length - 1]);\n      element.append(toinsert);\n      return toinsert\n    }\n\n    /* Handle when an output is cleared or removed */\n    events.on('clear_output.CodeCell', handleClearOutput);\n    events.on('delete.Cell', handleClearOutput);\n\n    /* Handle when a new output is added */\n    events.on('output_added.OutputArea', handleAddOutput);\n\n    /**\n     * Register the mime type and append_mime function with output_area\n     */\n    OutputArea.prototype.register_mime_type(EXEC_MIME_TYPE, append_mime, {\n      /* Is output safe? */\n      safe: true,\n      /* Index of renderer in `output_area.display_order` */\n      index: 0\n    });\n  }\n\n  // register the mime type if in Jupyter Notebook environment and previously unregistered\n  if (root.Jupyter !== undefined) {\n    const events = require('base/js/events');\n    const OutputArea = require('notebook/js/outputarea').OutputArea;\n\n    if (OutputArea.prototype.mime_types().indexOf(EXEC_MIME_TYPE) == -1) {\n      register_renderer(events, OutputArea);\n    }\n  }\n\n  \n  if (typeof (root._bokeh_timeout) === \"undefined\" || force === true) {\n    root._bokeh_timeout = Date.now() + 5000;\n    root._bokeh_failed_load = false;\n  }\n\n  const NB_LOAD_WARNING = {'data': {'text/html':\n     \"<div style='background-color: #fdd'>\\n\"+\n     \"<p>\\n\"+\n     \"BokehJS does not appear to have successfully loaded. If loading BokehJS from CDN, this \\n\"+\n     \"may be due to a slow or bad network connection. Possible fixes:\\n\"+\n     \"</p>\\n\"+\n     \"<ul>\\n\"+\n     \"<li>re-rerun `output_notebook()` to attempt to load from CDN again, or</li>\\n\"+\n     \"<li>use INLINE resources instead, as so:</li>\\n\"+\n     \"</ul>\\n\"+\n     \"<code>\\n\"+\n     \"from bokeh.resources import INLINE\\n\"+\n     \"output_notebook(resources=INLINE)\\n\"+\n     \"</code>\\n\"+\n     \"</div>\"}};\n\n  function display_loaded() {\n    const el = document.getElementById(\"1334\");\n    if (el != null) {\n      el.textContent = \"BokehJS is loading...\";\n    }\n    if (root.Bokeh !== undefined) {\n      if (el != null) {\n        el.textContent = \"BokehJS \" + root.Bokeh.version + \" successfully loaded.\";\n      }\n    } else if (Date.now() < root._bokeh_timeout) {\n      setTimeout(display_loaded, 100)\n    }\n  }\n\n\n  function run_callbacks() {\n    try {\n      root._bokeh_onload_callbacks.forEach(function(callback) {\n        if (callback != null)\n          callback();\n      });\n    } finally {\n      delete root._bokeh_onload_callbacks\n    }\n    console.debug(\"Bokeh: all callbacks have finished\");\n  }\n\n  function load_libs(css_urls, js_urls, callback) {\n    if (css_urls == null) css_urls = [];\n    if (js_urls == null) js_urls = [];\n\n    root._bokeh_onload_callbacks.push(callback);\n    if (root._bokeh_is_loading > 0) {\n      console.debug(\"Bokeh: BokehJS is being loaded, scheduling callback at\", now());\n      return null;\n    }\n    if (js_urls == null || js_urls.length === 0) {\n      run_callbacks();\n      return null;\n    }\n    console.debug(\"Bokeh: BokehJS not loaded, scheduling load and callback at\", now());\n    root._bokeh_is_loading = css_urls.length + js_urls.length;\n\n    function on_load() {\n      root._bokeh_is_loading--;\n      if (root._bokeh_is_loading === 0) {\n        console.debug(\"Bokeh: all BokehJS libraries/stylesheets loaded\");\n        run_callbacks()\n      }\n    }\n\n    function on_error(url) {\n      console.error(\"failed to load \" + url);\n    }\n\n    for (let i = 0; i < css_urls.length; i++) {\n      const url = css_urls[i];\n      const element = document.createElement(\"link\");\n      element.onload = on_load;\n      element.onerror = on_error.bind(null, url);\n      element.rel = \"stylesheet\";\n      element.type = \"text/css\";\n      element.href = url;\n      console.debug(\"Bokeh: injecting link tag for BokehJS stylesheet: \", url);\n      document.body.appendChild(element);\n    }\n\n    for (let i = 0; i < js_urls.length; i++) {\n      const url = js_urls[i];\n      const element = document.createElement('script');\n      element.onload = on_load;\n      element.onerror = on_error.bind(null, url);\n      element.async = false;\n      element.src = url;\n      console.debug(\"Bokeh: injecting script tag for BokehJS library: \", url);\n      document.head.appendChild(element);\n    }\n  };\n\n  function inject_raw_css(css) {\n    const element = document.createElement(\"style\");\n    element.appendChild(document.createTextNode(css));\n    document.body.appendChild(element);\n  }\n\n  \n  const js_urls = [\"https://cdn.bokeh.org/bokeh/release/bokeh-2.4.1.min.js\", \"https://cdn.bokeh.org/bokeh/release/bokeh-gl-2.4.1.min.js\", \"https://cdn.bokeh.org/bokeh/release/bokeh-widgets-2.4.1.min.js\", \"https://cdn.bokeh.org/bokeh/release/bokeh-tables-2.4.1.min.js\", \"https://cdn.bokeh.org/bokeh/release/bokeh-mathjax-2.4.1.min.js\"];\n  const css_urls = [];\n  \n\n  const inline_js = [\n    function(Bokeh) {\n      Bokeh.set_log_level(\"info\");\n    },\n    function(Bokeh) {\n    \n    \n    }\n  ];\n\n  function run_inline_js() {\n    \n    if (root.Bokeh !== undefined || force === true) {\n      \n    for (let i = 0; i < inline_js.length; i++) {\n      inline_js[i].call(root, root.Bokeh);\n    }\n    if (force === true) {\n        display_loaded();\n      }} else if (Date.now() < root._bokeh_timeout) {\n      setTimeout(run_inline_js, 100);\n    } else if (!root._bokeh_failed_load) {\n      console.log(\"Bokeh: BokehJS failed to load within specified timeout.\");\n      root._bokeh_failed_load = true;\n    } else if (force !== true) {\n      const cell = $(document.getElementById(\"1334\")).parents('.cell').data().cell;\n      cell.output_area.append_execute_result(NB_LOAD_WARNING)\n    }\n\n  }\n\n  if (root._bokeh_is_loading === 0) {\n    console.debug(\"Bokeh: BokehJS loaded, going straight to plotting\");\n    run_inline_js();\n  } else {\n    load_libs(css_urls, js_urls, function() {\n      console.debug(\"Bokeh: BokehJS plotting callback run at\", now());\n      run_inline_js();\n    });\n  }\n}(window));",
      "application/vnd.bokehjs_load.v0+json": ""
     },
     "metadata": {},
     "output_type": "display_data"
    },
    {
     "data": {
      "text/html": [
       "\n",
       "\n",
       "\n",
       "\n",
       "\n",
       "\n",
       "  <div class=\"bk-root\" id=\"c15e9033-acf2-48a3-8931-21328ded1585\" data-root-id=\"1335\"></div>\n"
      ]
     },
     "metadata": {},
     "output_type": "display_data"
    },
    {
     "data": {
      "application/javascript": "(function(root) {\n  function embed_document(root) {\n    \n  const docs_json = {\"df4a9057-4869-480c-baa9-430fd9ebae17\":{\"defs\":[],\"roots\":{\"references\":[{\"attributes\":{\"background_fill_color\":\"white\",\"below\":[{\"id\":\"1346\"}],\"center\":[{\"id\":\"1349\"},{\"id\":\"1353\"},{\"id\":\"1396\"}],\"height\":400,\"left\":[{\"id\":\"1350\"}],\"renderers\":[{\"id\":\"1373\"},{\"id\":\"1382\"}],\"title\":{\"id\":\"1336\"},\"toolbar\":{\"id\":\"1361\"},\"width\":700,\"x_range\":{\"id\":\"1338\"},\"x_scale\":{\"id\":\"1342\"},\"y_range\":{\"id\":\"1340\"},\"y_scale\":{\"id\":\"1344\"}},\"id\":\"1335\",\"subtype\":\"Figure\",\"type\":\"Plot\"},{\"attributes\":{\"bottom_units\":\"screen\",\"coordinates\":null,\"fill_alpha\":0.5,\"fill_color\":\"lightgrey\",\"group\":null,\"left_units\":\"screen\",\"level\":\"overlay\",\"line_alpha\":1.0,\"line_color\":\"black\",\"line_dash\":[4,4],\"line_width\":2,\"right_units\":\"screen\",\"syncable\":false,\"top_units\":\"screen\"},\"id\":\"1360\",\"type\":\"BoxAnnotation\"},{\"attributes\":{\"data\":{\"id\":[\"P_B1\",\"P_B2\",\"P_B3\",\"P_B4\",\"P_B5\",\"P_B6\",\"P_B7\",\"P_B9\",\"P_B8\",\"W_J10\",\"W_J11\",\"W_J12\",\"W_J13\",\"W_J21\",\"W_J22\",\"W_J23\",\"W_J31\",\"W_J32\",\"W_T2\",\"W_R9\",\"T_J1\",\"T_J2\",\"T_J3\",\"T_J4\",\"T_J5\",\"T_J6\",\"T_J7\",\"T_J8\",\"T_J9\"],\"node_category\":[\"Bus\",\"Bus\",\"Bus\",\"Bus\",\"Bus\",\"Bus\",\"Bus\",\"Bus\",\"Bus\",\"Junction\",\"Junction\",\"Junction\",\"Junction\",\"Junction\",\"Junction\",\"Junction\",\"Junction\",\"Junction\",\"Tank\",\"Reservoir\",\"Junction\",\"Junction\",\"Junction\",\"Junction\",\"Junction\",\"Junction\",\"Junction\",\"Junction\",\"Junction\"],\"node_type\":[\"power_node\",\"power_node\",\"power_node\",\"power_node\",\"power_node\",\"power_node\",\"power_node\",\"power_node\",\"power_node\",\"water_node\",\"water_node\",\"water_node\",\"water_node\",\"water_node\",\"water_node\",\"water_node\",\"water_node\",\"water_node\",\"water_node\",\"water_node\",\"transpo_node\",\"transpo_node\",\"transpo_node\",\"transpo_node\",\"transpo_node\",\"transpo_node\",\"transpo_node\",\"transpo_node\",\"transpo_node\"],\"x\":[400.0,400.0,400.0,400.0,100.0,200.0,200.0,200.0,100.0,200.0,300.0,500.0,700.0,300.0,500.0,700.0,300.0,500.0,500.0,100.0,0,300,600,0,300,600,0,300,600],\"y\":[550.0,275.0,225.0,0.0,0.0,550.0,350.0,250.0,250.0,700.0,700.0,700.0,700.0,400.0,400.0,400.0,100.0,100.0,900.0,700.0,700,700,700,325,325,325,0,0,0]},\"selected\":{\"id\":\"1392\"},\"selection_policy\":{\"id\":\"1391\"}},\"id\":\"1368\",\"type\":\"ColumnDataSource\"},{\"attributes\":{\"line_color\":{\"field\":\"link_layer\",\"transform\":{\"id\":\"1376\"}},\"line_width\":{\"value\":1.5},\"xs\":{\"field\":\"x\"},\"ys\":{\"field\":\"y\"}},\"id\":\"1379\",\"type\":\"MultiLine\"},{\"attributes\":{\"coordinates\":null,\"formatter\":{\"id\":\"1386\"},\"group\":null,\"major_label_policy\":{\"id\":\"1387\"},\"ticker\":{\"id\":\"1351\"}},\"id\":\"1350\",\"type\":\"LinearAxis\"},{\"attributes\":{\"coordinates\":null,\"data_source\":{\"id\":\"1375\"},\"glyph\":{\"id\":\"1379\"},\"group\":null,\"hover_glyph\":null,\"muted_glyph\":{\"id\":\"1381\"},\"nonselection_glyph\":{\"id\":\"1380\"},\"view\":{\"id\":\"1383\"}},\"id\":\"1382\",\"type\":\"GlyphRenderer\"},{\"attributes\":{},\"id\":\"1357\",\"type\":\"SaveTool\"},{\"attributes\":{},\"id\":\"1358\",\"type\":\"ResetTool\"},{\"attributes\":{},\"id\":\"1386\",\"type\":\"BasicTickFormatter\"},{\"attributes\":{},\"id\":\"1355\",\"type\":\"WheelZoomTool\"},{\"attributes\":{\"source\":{\"id\":\"1368\"}},\"id\":\"1374\",\"type\":\"CDSView\"},{\"attributes\":{\"end\":1000,\"start\":-100},\"id\":\"1340\",\"type\":\"Range1d\"},{\"attributes\":{},\"id\":\"1391\",\"type\":\"UnionRenderers\"},{\"attributes\":{\"coordinates\":null,\"formatter\":{\"id\":\"1389\"},\"group\":null,\"major_label_policy\":{\"id\":\"1390\"},\"ticker\":{\"id\":\"1347\"}},\"id\":\"1346\",\"type\":\"LinearAxis\"},{\"attributes\":{},\"id\":\"1359\",\"type\":\"HelpTool\"},{\"attributes\":{\"fill_alpha\":{\"value\":0.6},\"fill_color\":{\"value\":\"gainsboro\"},\"hatch_alpha\":{\"value\":0.6},\"hatch_color\":{\"value\":\"gainsboro\"},\"line_alpha\":{\"value\":0.6},\"line_color\":{\"value\":\"gainsboro\"},\"marker\":{\"value\":\"square\"},\"size\":{\"value\":5},\"x\":{\"field\":\"x\"},\"y\":{\"field\":\"y\"}},\"id\":\"1370\",\"type\":\"Scatter\"},{\"attributes\":{\"end\":800,\"start\":-100},\"id\":\"1338\",\"type\":\"Range1d\"},{\"attributes\":{\"coordinates\":null,\"data_source\":{\"id\":\"1368\"},\"glyph\":{\"id\":\"1370\"},\"group\":null,\"hover_glyph\":null,\"muted_glyph\":{\"id\":\"1372\"},\"nonselection_glyph\":{\"id\":\"1371\"},\"view\":{\"id\":\"1374\"}},\"id\":\"1373\",\"type\":\"GlyphRenderer\"},{\"attributes\":{},\"id\":\"1392\",\"type\":\"Selection\"},{\"attributes\":{},\"id\":\"1344\",\"type\":\"LinearScale\"},{\"attributes\":{\"line_alpha\":{\"value\":0.1},\"line_color\":{\"field\":\"link_layer\",\"transform\":{\"id\":\"1376\"}},\"line_width\":{\"value\":1.5},\"xs\":{\"field\":\"x\"},\"ys\":{\"field\":\"y\"}},\"id\":\"1380\",\"type\":\"MultiLine\"},{\"attributes\":{\"factors\":[\"Power\",\"Transportation\",\"Water\"],\"palette\":[\"#1f77b4\",\"#ff7f0e\",\"#2ca02c\"]},\"id\":\"1377\",\"type\":\"CategoricalColorMapper\"},{\"attributes\":{},\"id\":\"1390\",\"type\":\"AllLabels\"},{\"attributes\":{\"label\":{\"field\":\"link_layer\"},\"renderers\":[{\"id\":\"1382\"}]},\"id\":\"1397\",\"type\":\"LegendItem\"},{\"attributes\":{},\"id\":\"1394\",\"type\":\"Selection\"},{\"attributes\":{\"fill_alpha\":{\"value\":0.2},\"fill_color\":{\"value\":\"gainsboro\"},\"hatch_alpha\":{\"value\":0.2},\"hatch_color\":{\"value\":\"gainsboro\"},\"line_alpha\":{\"value\":0.2},\"line_color\":{\"value\":\"gainsboro\"},\"marker\":{\"value\":\"square\"},\"size\":{\"value\":5},\"x\":{\"field\":\"x\"},\"y\":{\"field\":\"y\"}},\"id\":\"1372\",\"type\":\"Scatter\"},{\"attributes\":{},\"id\":\"1393\",\"type\":\"UnionRenderers\"},{\"attributes\":{\"coordinates\":null,\"group\":null,\"text\":\"Simple integrated network\"},\"id\":\"1336\",\"type\":\"Title\"},{\"attributes\":{},\"id\":\"1347\",\"type\":\"BasicTicker\"},{\"attributes\":{\"tools\":[{\"id\":\"1354\"},{\"id\":\"1355\"},{\"id\":\"1356\"},{\"id\":\"1357\"},{\"id\":\"1358\"},{\"id\":\"1359\"},{\"id\":\"1398\"},{\"id\":\"1400\"}]},\"id\":\"1361\",\"type\":\"Toolbar\"},{\"attributes\":{},\"id\":\"1389\",\"type\":\"BasicTickFormatter\"},{\"attributes\":{},\"id\":\"1354\",\"type\":\"PanTool\"},{\"attributes\":{\"axis\":{\"id\":\"1350\"},\"coordinates\":null,\"dimension\":1,\"group\":null,\"ticker\":null,\"visible\":false},\"id\":\"1353\",\"type\":\"Grid\"},{\"attributes\":{\"fill_alpha\":{\"value\":0.1},\"fill_color\":{\"value\":\"gainsboro\"},\"hatch_alpha\":{\"value\":0.1},\"hatch_color\":{\"value\":\"gainsboro\"},\"line_alpha\":{\"value\":0.1},\"line_color\":{\"value\":\"gainsboro\"},\"marker\":{\"value\":\"square\"},\"size\":{\"value\":5},\"x\":{\"field\":\"x\"},\"y\":{\"field\":\"y\"}},\"id\":\"1371\",\"type\":\"Scatter\"},{\"attributes\":{},\"id\":\"1387\",\"type\":\"AllLabels\"},{\"attributes\":{\"axis\":{\"id\":\"1346\"},\"coordinates\":null,\"group\":null,\"ticker\":null,\"visible\":false},\"id\":\"1349\",\"type\":\"Grid\"},{\"attributes\":{\"data\":{\"id\":[\"P_L1\",\"P_L4\",\"P_TF2\",\"P_L2\",\"P_L3\",\"P_L5\",\"P_S1\",\"P_TF1\",\"W_P10\",\"W_WP9\",\"W_P11\",\"W_P111\",\"W_P12\",\"W_P110\",\"W_P112\",\"W_P113\",\"W_P21\",\"W_P121\",\"W_P22\",\"W_P122\",\"W_P31\",\"T_L12\",\"T_L14\",\"T_L13\",\"T_L15\",\"T_L16\",\"T_L18\",\"T_L17\",\"T_L19\",\"T_L20\",\"T_L21\",\"T_L22\"],\"link_category\":[\"Power line\",\"Power line\",\"Transformer\",\"Power line\",\"Power line\",\"Power line\",\"Switch\",\"Transformer\",\"Water pipe\",\"Water pump\",\"Water pipe\",\"Water pipe\",\"Water pipe\",\"Water pipe\",\"Water pipe\",\"Water pipe\",\"Water pipe\",\"Water pipe\",\"Water pipe\",\"Water pipe\",\"Water pipe\",\"Road link\",\"Road link\",\"Road link\",\"Road link\",\"Road link\",\"Road link\",\"Road link\",\"Road link\",\"Road link\",\"Road link\",\"Road link\"],\"link_layer\":[\"Power\",\"Power\",\"Power\",\"Power\",\"Power\",\"Power\",\"Power\",\"Power\",\"Water\",\"Water\",\"Water\",\"Water\",\"Water\",\"Water\",\"Water\",\"Water\",\"Water\",\"Water\",\"Water\",\"Water\",\"Water\",\"Transportation\",\"Transportation\",\"Transportation\",\"Transportation\",\"Transportation\",\"Transportation\",\"Transportation\",\"Transportation\",\"Transportation\",\"Transportation\",\"Transportation\"],\"x\":[[400.0,400.0],[400.0,200.0],[400.0,400.0],[400.0,400.0],[400.0,100.0],[200.0,200.0],[200.0,200.0],[200.0,100.0],[200.0,300.0],[200.0,100.0],[300.0,500.0],[300.0,300.0],[500.0,700.0],[500.0,500.0],[500.0,500.0],[700.0,700.0],[300.0,500.0],[300.0,300.0],[500.0,700.0],[500.0,500.0],[300.0,500.0],[0,300],[0,0],[300,600],[600,300],[0,300],[0,0],[300,600],[300,300],[600,600],[0,300],[300,600]],\"y\":[[550.0,275.0],[550.0,550.0],[275.0,225.0],[225.0,0.0],[0.0,0.0],[550.0,350.0],[350.0,250.0],[250.0,250.0],[700.0,700.0],[700.0,700.0],[700.0,700.0],[700.0,400.0],[700.0,700.0],[700.0,900.0],[700.0,400.0],[700.0,400.0],[400.0,400.0],[400.0,100.0],[400.0,400.0],[400.0,100.0],[100.0,100.0],[700,700],[700,325],[700,700],[700,325],[325,325],[325,0],[325,325],[325,0],[325,0],[0,0],[0,0]]},\"selected\":{\"id\":\"1394\"},\"selection_policy\":{\"id\":\"1393\"}},\"id\":\"1375\",\"type\":\"ColumnDataSource\"},{\"attributes\":{\"overlay\":{\"id\":\"1360\"}},\"id\":\"1356\",\"type\":\"BoxZoomTool\"},{\"attributes\":{\"callback\":null,\"renderers\":[{\"id\":\"1373\"}],\"tooltips\":[[\"Node ID\",\"@id\"],[\"Infrastructure\",\"@node_type\"],[\"Node category\",\"@node_category\"]]},\"id\":\"1398\",\"type\":\"HoverTool\"},{\"attributes\":{\"source\":{\"id\":\"1375\"}},\"id\":\"1383\",\"type\":\"CDSView\"},{\"attributes\":{},\"id\":\"1351\",\"type\":\"BasicTicker\"},{\"attributes\":{\"line_alpha\":{\"value\":0.2},\"line_color\":{\"field\":\"link_layer\",\"transform\":{\"id\":\"1377\"}},\"line_width\":{\"value\":1.5},\"xs\":{\"field\":\"x\"},\"ys\":{\"field\":\"y\"}},\"id\":\"1381\",\"type\":\"MultiLine\"},{\"attributes\":{},\"id\":\"1342\",\"type\":\"LinearScale\"},{\"attributes\":{\"click_policy\":\"mute\",\"coordinates\":null,\"group\":null,\"items\":[{\"id\":\"1397\"}],\"location\":\"top_left\"},\"id\":\"1396\",\"type\":\"Legend\"},{\"attributes\":{\"callback\":null,\"renderers\":[{\"id\":\"1382\"}],\"tooltips\":[[\"Link ID\",\"@id\"],[\"Infrastructure\",\"@link_layer\"],[\"Link category\",\"@link_category\"]]},\"id\":\"1400\",\"type\":\"HoverTool\"},{\"attributes\":{\"factors\":[\"Power\",\"Transportation\",\"Water\"],\"palette\":[\"#1f77b4\",\"#ff7f0e\",\"#2ca02c\"]},\"id\":\"1376\",\"type\":\"CategoricalColorMapper\"}],\"root_ids\":[\"1335\"]},\"title\":\"Bokeh Application\",\"version\":\"2.4.1\"}};\n  const render_items = [{\"docid\":\"df4a9057-4869-480c-baa9-430fd9ebae17\",\"root_ids\":[\"1335\"],\"roots\":{\"1335\":\"c15e9033-acf2-48a3-8931-21328ded1585\"}}];\n  root.Bokeh.embed.embed_items_notebook(docs_json, render_items);\n\n  }\n  if (root.Bokeh !== undefined) {\n    embed_document(root);\n  } else {\n    let attempts = 0;\n    const timer = setInterval(function(root) {\n      if (root.Bokeh !== undefined) {\n        clearInterval(timer);\n        embed_document(root);\n      } else {\n        attempts++;\n        if (attempts > 100) {\n          clearInterval(timer);\n          console.log(\"Bokeh: ERROR: Unable to run BokehJS code because BokehJS library is missing\");\n        }\n      }\n    }, 10, root)\n  }\n})(window);",
      "application/vnd.bokehjs_exec.v0+json": ""
     },
     "metadata": {
      "application/vnd.bokehjs_exec.v0+json": {
       "id": "1335"
      }
     },
     "output_type": "display_data"
    }
   ],
   "source": [
    "simple_network.generate_integrated_graph()"
   ]
  },
  {
   "cell_type": "markdown",
   "metadata": {},
   "source": [
    "### Build interdependencies\n",
    "\n",
    "Three types of dependencies:\n",
    "- Power - Water dependencies (eg.: water pump on electric motor, generator on reservoir)\n",
    "- Power - Transportation dependencies (eg.: road access to power system components for M&R)\n",
    "- Water - Transportation dependencies (eg.: road access to water network components for M&R)\n",
    "\n",
    "The dependencies are referenced using two tables in the model.\n",
    "- **wp_table** for water - power dependencies\n",
    "- **access_table** for transportation dependencies"
   ]
  },
  {
   "cell_type": "code",
   "execution_count": 30,
   "metadata": {},
   "outputs": [
    {
     "data": {
      "text/html": [
       "<div>\n",
       "<style scoped>\n",
       "    .dataframe tbody tr th:only-of-type {\n",
       "        vertical-align: middle;\n",
       "    }\n",
       "\n",
       "    .dataframe tbody tr th {\n",
       "        vertical-align: top;\n",
       "    }\n",
       "\n",
       "    .dataframe thead th {\n",
       "        text-align: right;\n",
       "    }\n",
       "</style>\n",
       "<table border=\"1\" class=\"dataframe\">\n",
       "  <thead>\n",
       "    <tr style=\"text-align: right;\">\n",
       "      <th></th>\n",
       "      <th>water_id</th>\n",
       "      <th>power_id</th>\n",
       "      <th>water_type</th>\n",
       "      <th>power_type</th>\n",
       "    </tr>\n",
       "  </thead>\n",
       "  <tbody>\n",
       "    <tr>\n",
       "      <th>0</th>\n",
       "      <td>W_WP9</td>\n",
       "      <td>P_MP1</td>\n",
       "      <td>Pump</td>\n",
       "      <td>Motor</td>\n",
       "    </tr>\n",
       "    <tr>\n",
       "      <th>1</th>\n",
       "      <td>W_R9</td>\n",
       "      <td>P_G3</td>\n",
       "      <td>Reservoir</td>\n",
       "      <td>Generator</td>\n",
       "    </tr>\n",
       "  </tbody>\n",
       "</table>\n",
       "</div>"
      ],
      "text/plain": [
       "  water_id power_id water_type power_type\n",
       "0    W_WP9    P_MP1       Pump      Motor\n",
       "1     W_R9     P_G3  Reservoir  Generator"
      ]
     },
     "execution_count": 30,
     "metadata": {},
     "output_type": "execute_result"
    }
   ],
   "source": [
    "dependency_file = MAIN_DIR/f\"{network_dir}/dependecies.csv\"\n",
    "simple_network.generate_dependency_table(dependency_file = dependency_file)\n",
    "simple_network.dependency_table.wp_table"
   ]
  },
  {
   "cell_type": "code",
   "execution_count": 31,
   "metadata": {},
   "outputs": [
    {
     "data": {
      "text/html": [
       "<div>\n",
       "<style scoped>\n",
       "    .dataframe tbody tr th:only-of-type {\n",
       "        vertical-align: middle;\n",
       "    }\n",
       "\n",
       "    .dataframe tbody tr th {\n",
       "        vertical-align: top;\n",
       "    }\n",
       "\n",
       "    .dataframe thead th {\n",
       "        text-align: right;\n",
       "    }\n",
       "</style>\n",
       "<table border=\"1\" class=\"dataframe\">\n",
       "  <thead>\n",
       "    <tr style=\"text-align: right;\">\n",
       "      <th></th>\n",
       "      <th>origin_id</th>\n",
       "      <th>transp_id</th>\n",
       "      <th>origin_cat</th>\n",
       "      <th>origin_type</th>\n",
       "      <th>access_dist</th>\n",
       "    </tr>\n",
       "  </thead>\n",
       "  <tbody>\n",
       "    <tr>\n",
       "      <th>0</th>\n",
       "      <td>P_B1</td>\n",
       "      <td>T_J2</td>\n",
       "      <td>power</td>\n",
       "      <td>Bus</td>\n",
       "      <td>180.28</td>\n",
       "    </tr>\n",
       "    <tr>\n",
       "      <th>1</th>\n",
       "      <td>P_B2</td>\n",
       "      <td>T_J5</td>\n",
       "      <td>power</td>\n",
       "      <td>Bus</td>\n",
       "      <td>111.80</td>\n",
       "    </tr>\n",
       "    <tr>\n",
       "      <th>2</th>\n",
       "      <td>P_B3</td>\n",
       "      <td>T_J5</td>\n",
       "      <td>power</td>\n",
       "      <td>Bus</td>\n",
       "      <td>141.42</td>\n",
       "    </tr>\n",
       "    <tr>\n",
       "      <th>3</th>\n",
       "      <td>P_B4</td>\n",
       "      <td>T_J8</td>\n",
       "      <td>power</td>\n",
       "      <td>Bus</td>\n",
       "      <td>100.00</td>\n",
       "    </tr>\n",
       "    <tr>\n",
       "      <th>4</th>\n",
       "      <td>P_B5</td>\n",
       "      <td>T_J7</td>\n",
       "      <td>power</td>\n",
       "      <td>Bus</td>\n",
       "      <td>100.00</td>\n",
       "    </tr>\n",
       "  </tbody>\n",
       "</table>\n",
       "</div>"
      ],
      "text/plain": [
       "  origin_id transp_id origin_cat origin_type  access_dist\n",
       "0      P_B1      T_J2      power         Bus       180.28\n",
       "1      P_B2      T_J5      power         Bus       111.80\n",
       "2      P_B3      T_J5      power         Bus       141.42\n",
       "3      P_B4      T_J8      power         Bus       100.00\n",
       "4      P_B5      T_J7      power         Bus       100.00"
      ]
     },
     "execution_count": 31,
     "metadata": {},
     "output_type": "execute_result"
    }
   ],
   "source": [
    "simple_network.dependency_table.access_table.head()"
   ]
  },
  {
   "cell_type": "markdown",
   "metadata": {},
   "source": [
    "### Set failed components"
   ]
  },
  {
   "cell_type": "code",
   "execution_count": 32,
   "metadata": {},
   "outputs": [
    {
     "data": {
      "text/plain": [
       "['T_L2', 'P_MP1', 'W_P21', 'W_WP9']"
      ]
     },
     "execution_count": 32,
     "metadata": {},
     "output_type": "execute_result"
    }
   ],
   "source": [
    "scenario_folder = \"scenarios/test1\"\n",
    "scenario_file = MAIN_DIR/f\"{network_dir}/{scenario_folder}/disruption_file.csv\"\n",
    "\n",
    "simple_network.set_disrupted_components(scenario_file=scenario_file)\n",
    "simple_network.get_disrupted_components()"
   ]
  },
  {
   "cell_type": "code",
   "execution_count": 10,
   "metadata": {},
   "outputs": [],
   "source": [
    "# simple_network.pipe_leak_node_generator()"
   ]
  },
  {
   "cell_type": "markdown",
   "metadata": {},
   "source": [
    "### Set initial crew locations"
   ]
  },
  {
   "cell_type": "code",
   "execution_count": 33,
   "metadata": {},
   "outputs": [
    {
     "name": "stdout",
     "output_type": "stream",
     "text": [
      "Power repair crews successfully deployed.\n",
      "Water repair crews successfully deployed.\n",
      "Transportation repair crews successfully deployed.\n"
     ]
    }
   ],
   "source": [
    "simple_network.deploy_crews(\n",
    "    init_power_crew_locs=['T_J8'], \n",
    "    init_water_crew_locs=['T_J8'],\n",
    "    init_transpo_crew_locs= ['T_J8']\n",
    "    )"
   ]
  },
  {
   "cell_type": "markdown",
   "metadata": {},
   "source": [
    "## Simulation of interdependent effects using a test scenario\n",
    "### (a) Create NetworkRecovery"
   ]
  },
  {
   "cell_type": "code",
   "execution_count": 34,
   "metadata": {},
   "outputs": [],
   "source": [
    "network_recovery = NetworkRecovery(simple_network, sim_step=60, pipe_close_policy=\"repair\")"
   ]
  },
  {
   "cell_type": "markdown",
   "metadata": {},
   "source": [
    "### (b) Create a simulation object"
   ]
  },
  {
   "cell_type": "code",
   "execution_count": 35,
   "metadata": {},
   "outputs": [],
   "source": [
    "sim_step = (\n",
    "    simple_network.wn.options.time.hydraulic_timestep\n",
    ")  # initial_sim_step which will be updated during the simulation\n",
    "bf_simulation = simulation.NetworkSimulation(network_recovery, sim_step)"
   ]
  },
  {
   "cell_type": "markdown",
   "metadata": {},
   "source": [
    "### (c) Generation of random repair order"
   ]
  },
  {
   "cell_type": "code",
   "execution_count": 36,
   "metadata": {},
   "outputs": [],
   "source": [
    "capacity_strategy = strategies.HandlingCapacityStrategy(simple_network)\n",
    "capacity_strategy.set_repair_order()\n",
    "repair_order = capacity_strategy.get_repair_order()\n",
    "\n",
    "import os\n",
    "if not os.path.exists(MAIN_DIR/f\"{network_dir}/{scenario_folder}/capacity\"):\n",
    "    os.makedirs(MAIN_DIR/f\"{network_dir}/{scenario_folder}/capacity\")"
   ]
  },
  {
   "cell_type": "code",
   "execution_count": 37,
   "metadata": {
    "tags": []
   },
   "outputs": [
    {
     "name": "stdout",
     "output_type": "stream",
     "text": [
      "Current repair order is ['T_L2', 'P_MP1', 'W_WP9', 'W_P21']\n"
     ]
    }
   ],
   "source": [
    "#Generate a random repair order\n",
    "# repair_order = network_recovery.network.get_disrupted_components()\n",
    "# random.shuffle(repair_order)\n",
    "print('Current repair order is {}'.format(repair_order))"
   ]
  },
  {
   "cell_type": "markdown",
   "metadata": {},
   "source": [
    "### (d) Generation of event tables"
   ]
  },
  {
   "cell_type": "code",
   "execution_count": 38,
   "metadata": {},
   "outputs": [
    {
     "name": "stdout",
     "output_type": "stream",
     "text": [
      "Updating traffic model based on current network conditions...\n",
      "Repair T_L2: The transpo crew 1 is at T_J8 at t = 100.0 minutes. It takes 19 minutes to reach nearest node T_J2, the nearest transportation node from T_L2.\n",
      "Updating traffic model based on current network conditions...\n",
      "Repair P_MP1: The power crew 1 is at T_J8 at t = 100.0 minutes. It takes 18 minutes to reach nearest node T_J4,  the nearest transportation node from P_MP1.\n",
      "Repair W_WP9: The water crew 1 is at T_J8 at t = 100.0  minutes. It takes 23 minutes to reach nearest node T_J2, the nearest transportation  node from W_WP9.\n",
      "Repair W_P21: The water crew 1 is at T_J2 at t = 843.0  minutes. It takes 19.0 minutes to reach nearest node T_J5, the nearest transportation  node from W_P21 considering time for road link repair.\n",
      "All restoration actions are successfully scheduled.\n"
     ]
    }
   ],
   "source": [
    "bf_simulation.network_recovery.schedule_recovery(repair_order)"
   ]
  },
  {
   "cell_type": "code",
   "execution_count": 39,
   "metadata": {},
   "outputs": [
    {
     "name": "stdout",
     "output_type": "stream",
     "text": [
      "Total travel times: power: 18 mins, water: 42 min, transportation: 19 mins\n"
     ]
    }
   ],
   "source": [
    "print(f\"Total travel times: power: {network_recovery.power_crew_total_tt} mins, water: {network_recovery.water_crew_total_tt} min, transportation: {network_recovery.transpo_crew_total_tt} mins\")"
   ]
  },
  {
   "cell_type": "code",
   "execution_count": 40,
   "metadata": {},
   "outputs": [
    {
     "data": {
      "text/html": [
       "<div>\n",
       "<style scoped>\n",
       "    .dataframe tbody tr th:only-of-type {\n",
       "        vertical-align: middle;\n",
       "    }\n",
       "\n",
       "    .dataframe tbody tr th {\n",
       "        vertical-align: top;\n",
       "    }\n",
       "\n",
       "    .dataframe thead th {\n",
       "        text-align: right;\n",
       "    }\n",
       "</style>\n",
       "<table border=\"1\" class=\"dataframe\">\n",
       "  <thead>\n",
       "    <tr style=\"text-align: right;\">\n",
       "      <th></th>\n",
       "      <th>time_stamp</th>\n",
       "      <th>components</th>\n",
       "      <th>perf_level</th>\n",
       "      <th>component_state</th>\n",
       "    </tr>\n",
       "  </thead>\n",
       "  <tbody>\n",
       "    <tr>\n",
       "      <th>0</th>\n",
       "      <td>60</td>\n",
       "      <td>T_L2</td>\n",
       "      <td>100</td>\n",
       "      <td>Functional</td>\n",
       "    </tr>\n",
       "    <tr>\n",
       "      <th>1</th>\n",
       "      <td>60</td>\n",
       "      <td>P_MP1</td>\n",
       "      <td>100</td>\n",
       "      <td>Functional</td>\n",
       "    </tr>\n",
       "    <tr>\n",
       "      <th>2</th>\n",
       "      <td>60</td>\n",
       "      <td>W_P21</td>\n",
       "      <td>100</td>\n",
       "      <td>Functional</td>\n",
       "    </tr>\n",
       "    <tr>\n",
       "      <th>3</th>\n",
       "      <td>60</td>\n",
       "      <td>W_WP9</td>\n",
       "      <td>100</td>\n",
       "      <td>Functional</td>\n",
       "    </tr>\n",
       "    <tr>\n",
       "      <th>4</th>\n",
       "      <td>6060</td>\n",
       "      <td>T_L2</td>\n",
       "      <td>50</td>\n",
       "      <td>Service Disrupted</td>\n",
       "    </tr>\n",
       "  </tbody>\n",
       "</table>\n",
       "</div>"
      ],
      "text/plain": [
       "   time_stamp components perf_level    component_state\n",
       "0          60       T_L2        100         Functional\n",
       "1          60      P_MP1        100         Functional\n",
       "2          60      W_P21        100         Functional\n",
       "3          60      W_WP9        100         Functional\n",
       "4        6060       T_L2         50  Service Disrupted"
      ]
     },
     "execution_count": 40,
     "metadata": {},
     "output_type": "execute_result"
    }
   ],
   "source": [
    "#bf_simulation.network_recovery.event_table.to_csv(\"event_tbl.csv\", sep = \"\\t\", index = False)\n",
    "bf_simulation.expand_event_table(1)\n",
    "bf_simulation.network_recovery.event_table.head()"
   ]
  },
  {
   "cell_type": "markdown",
   "metadata": {},
   "source": [
    "### (e) Simulation of interdependent effects"
   ]
  },
  {
   "cell_type": "code",
   "execution_count": 41,
   "metadata": {},
   "outputs": [
    {
     "name": "stdout",
     "output_type": "stream",
     "text": [
      "Simulating network conditions at 60 s\n",
      "Simulation time:  60.0 ; Hydraulic time step:  60.0 ; Report time step:  60\n",
      "Updating status of directly affected components between 60.0 and 6060.0...\n",
      "******************\n",
      "\n",
      "Simulating network conditions at 6060 s\n",
      "Simulation time:  6060.0 ; Hydraulic time step:  60.0 ; Report time step:  60\n",
      "Updating status of directly affected components between 6060.0 and 7140.0...\n",
      "******************\n",
      "\n",
      "Simulating network conditions at 7140 s\n",
      "Simulation time:  7140.0 ; Hydraulic time step:  60.0 ; Report time step:  60\n",
      "Updating status of directly affected components between 7140.0 and 7260.0...\n",
      "******************\n",
      "\n",
      "Simulating network conditions at 7260 s\n",
      "Simulation time:  7260.0 ; Hydraulic time step:  60.0 ; Report time step:  60\n",
      "Updating status of directly affected components between 7260.0 and 7500.0...\n",
      "******************\n",
      "\n",
      "Simulating network conditions at 7500 s\n",
      "Simulation time:  7500.0 ; Hydraulic time step:  60.0 ; Report time step:  60\n",
      "Updating status of directly affected components between 7500.0 and 50340.0...\n",
      "******************\n",
      "\n",
      "Simulating network conditions at 50340 s\n",
      "Simulation time:  50340.0 ; Hydraulic time step:  60.0 ; Report time step:  60\n",
      "Updating status of directly affected components between 50340.0 and 50460.0...\n",
      "******************\n",
      "\n",
      "Simulating network conditions at 50460 s\n",
      "Simulation time:  50460.0 ; Hydraulic time step:  60.0 ; Report time step:  60\n",
      "Updating status of directly affected components between 50460.0 and 50580.0...\n",
      "******************\n",
      "\n",
      "Simulating network conditions at 50580 s\n",
      "Simulation time:  50580.0 ; Hydraulic time step:  60.0 ; Report time step:  60\n",
      "Updating status of directly affected components between 50580.0 and 50700.0...\n",
      "******************\n",
      "\n",
      "Simulating network conditions at 50700 s\n",
      "Simulation time:  50700.0 ; Hydraulic time step:  60.0 ; Report time step:  60\n",
      "Updating status of directly affected components between 50700.0 and 50820.0...\n",
      "******************\n",
      "\n",
      "Simulating network conditions at 50820 s\n",
      "Simulation time:  50820.0 ; Hydraulic time step:  60.0 ; Report time step:  60\n",
      "Updating status of directly affected components between 50820.0 and 51780.0...\n",
      "******************\n",
      "\n",
      "Simulating network conditions at 51780 s\n",
      "Simulation time:  51780.0 ; Hydraulic time step:  60.0 ; Report time step:  60\n",
      "Updating status of directly affected components between 51780.0 and 69660.0...\n",
      "******************\n",
      "\n",
      "Simulating network conditions at 69660 s\n",
      "Simulation time:  69660.0 ; Hydraulic time step:  60.0 ; Report time step:  60\n",
      "Updating status of directly affected components between 69660.0 and 69780.0...\n",
      "******************\n",
      "\n",
      "Simulating network conditions at 69780 s\n",
      "Simulation time:  69780.0 ; Hydraulic time step:  60.0 ; Report time step:  60\n",
      "Updating status of directly affected components between 69780.0 and 69900.0...\n",
      "******************\n",
      "\n",
      "Simulating network conditions at 69900 s\n",
      "Simulation time:  69900.0 ; Hydraulic time step:  60.0 ; Report time step:  60\n",
      "Updating status of directly affected components between 69900.0 and 86460.0...\n",
      "******************\n",
      "\n",
      "Simulating network conditions at 86460 s\n",
      "Simulation time:  86460.0 ; Hydraulic time step:  60.0 ; Report time step:  60\n",
      "Updating status of directly affected components between 86460.0 and 86700.0...\n",
      "******************\n",
      "\n",
      "Simulating network conditions at 86700 s\n",
      "Simulation time:  86700.0 ; Hydraulic time step:  60.0 ; Report time step:  60\n",
      "Updating status of directly affected components between 86700.0 and 93420.0...\n",
      "******************\n",
      "\n",
      "Simulating network conditions at 93420 s\n",
      "Simulation time:  93420.0 ; Hydraulic time step:  60.0 ; Report time step:  60\n",
      "Updating status of directly affected components between 93420.0 and 93540.0...\n",
      "******************\n",
      "\n",
      "Simulating network conditions at 93540 s\n",
      "Simulation time:  93540.0 ; Hydraulic time step:  60.0 ; Report time step:  60\n",
      "Updating status of directly affected components between 93540.0 and 93660.0...\n",
      "******************\n",
      "\n",
      "Simulating network conditions at 93660 s\n",
      "Simulation time:  93660.0 ; Hydraulic time step:  60.0 ; Report time step:  60\n",
      "Updating status of directly affected components between 93660.0 and 105780.0...\n",
      "******************\n",
      "\n",
      "Simulating network conditions at 105780 s\n",
      "Simulation time:  105780.0 ; Hydraulic time step:  60.0 ; Report time step:  60\n",
      "Updating status of directly affected components between 105780.0 and 129540.0...\n",
      "******************\n",
      "\n"
     ]
    }
   ],
   "source": [
    "resilience_metrics = bf_simulation.simulate_interdependent_effects(\n",
    "    bf_simulation.network_recovery)"
   ]
  },
  {
   "cell_type": "code",
   "execution_count": 42,
   "metadata": {},
   "outputs": [
    {
     "name": "stdout",
     "output_type": "stream",
     "text": [
      "The simulation results successfully saved to ..\\infrarisk\\data\\networks\\in2\\scenarios\\test1\\capacity\n"
     ]
    }
   ],
   "source": [
    "strategy = 'capacity'\n",
    "bf_simulation.write_results(f\"{MAIN_DIR}/{network_dir}/{scenario_folder}/{strategy}\", \n",
    "                            resilience_metrics,\n",
    "                            plotting = False)"
   ]
  },
  {
   "cell_type": "markdown",
   "metadata": {},
   "source": [
    "### (f) Calculation of resilience metric"
   ]
  },
  {
   "cell_type": "code",
   "execution_count": 43,
   "metadata": {},
   "outputs": [
    {
     "name": "stdout",
     "output_type": "stream",
     "text": [
      "The power Resilience Metric value based on ECS is 6.279 equivalent outage hours (EOH)\n",
      "The power Resilience Metric value based on PCS is 0.927 equivalent outage hours (EOH)\n"
     ]
    }
   ],
   "source": [
    "resilience_metrics.calculate_power_resmetric(network_recovery)"
   ]
  },
  {
   "cell_type": "code",
   "execution_count": 44,
   "metadata": {},
   "outputs": [
    {
     "name": "stdout",
     "output_type": "stream",
     "text": [
      "The water Resilience Metric value based on ECS is 2.025 equivalent outage hours (EOH)\n",
      "The water Resilience Metric value based on PCS is 1.936 equivalent outage hours (EOH)\n"
     ]
    }
   ],
   "source": [
    "resilience_metrics.calculate_water_resmetrics(network_recovery)"
   ]
  },
  {
   "cell_type": "code",
   "execution_count": 47,
   "metadata": {},
   "outputs": [
    {
     "name": "stdout",
     "output_type": "stream",
     "text": [
      "The weighted AUC value based on ECS is 4.152\n",
      "The weighted AUC value based on PCS is 1.4315\n"
     ]
    }
   ],
   "source": [
    "resilience_metrics.set_weighted_auc_metrics()"
   ]
  },
  {
   "cell_type": "markdown",
   "metadata": {},
   "source": [
    "# Plot network performance during the disruption"
   ]
  },
  {
   "cell_type": "markdown",
   "metadata": {},
   "source": [
    "### Overall system performance considering indirect effects"
   ]
  },
  {
   "cell_type": "code",
   "execution_count": 22,
   "metadata": {},
   "outputs": [
    {
     "data": {
      "image/png": "[encoded data removed]",
      "text/plain": [
       "<Figure size 432x288 with 1 Axes>"
      ]
     },
     "metadata": {},
     "output_type": "display_data"
    }
   ],
   "source": [
    "model_plots.plot_interdependent_effects(resilience_metrics, metric = 'pcs', title = False)"
   ]
  },
  {
   "cell_type": "code",
   "execution_count": 23,
   "metadata": {},
   "outputs": [
    {
     "data": {
      "text/html": [
       "\n",
       "    <div class=\"bk-root\">\n",
       "        <a href=\"https://bokeh.org\" target=\"_blank\" class=\"bk-logo bk-logo-small bk-logo-notebook\"></a>\n",
       "        <span id=\"1173\">Loading BokehJS ...</span>\n",
       "    </div>"
      ]
     },
     "metadata": {},
     "output_type": "display_data"
    },
    {
     "data": {
      "application/javascript": "\n(function(root) {\n  function now() {\n    return new Date();\n  }\n\n  const force = true;\n\n  if (typeof root._bokeh_onload_callbacks === \"undefined\" || force === true) {\n    root._bokeh_onload_callbacks = [];\n    root._bokeh_is_loading = undefined;\n  }\n\n  const JS_MIME_TYPE = 'application/javascript';\n  const HTML_MIME_TYPE = 'text/html';\n  const EXEC_MIME_TYPE = 'application/vnd.bokehjs_exec.v0+json';\n  const CLASS_NAME = 'output_bokeh rendered_html';\n\n  /**\n   * Render data to the DOM node\n   */\n  function render(props, node) {\n    const script = document.createElement(\"script\");\n    node.appendChild(script);\n  }\n\n  /**\n   * Handle when an output is cleared or removed\n   */\n  function handleClearOutput(event, handle) {\n    const cell = handle.cell;\n\n    const id = cell.output_area._bokeh_element_id;\n    const server_id = cell.output_area._bokeh_server_id;\n    // Clean up Bokeh references\n    if (id != null && id in Bokeh.index) {\n      Bokeh.index[id].model.document.clear();\n      delete Bokeh.index[id];\n    }\n\n    if (server_id !== undefined) {\n      // Clean up Bokeh references\n      const cmd_clean = \"from bokeh.io.state import curstate; print(curstate().uuid_to_server['\" + server_id + \"'].get_sessions()[0].document.roots[0]._id)\";\n      cell.notebook.kernel.execute(cmd_clean, {\n        iopub: {\n          output: function(msg) {\n            const id = msg.content.text.trim();\n            if (id in Bokeh.index) {\n              Bokeh.index[id].model.document.clear();\n              delete Bokeh.index[id];\n            }\n          }\n        }\n      });\n      // Destroy server and session\n      const cmd_destroy = \"import bokeh.io.notebook as ion; ion.destroy_server('\" + server_id + \"')\";\n      cell.notebook.kernel.execute(cmd_destroy);\n    }\n  }\n\n  /**\n   * Handle when a new output is added\n   */\n  function handleAddOutput(event, handle) {\n    const output_area = handle.output_area;\n    const output = handle.output;\n\n    // limit handleAddOutput to display_data with EXEC_MIME_TYPE content only\n    if ((output.output_type != \"display_data\") || (!Object.prototype.hasOwnProperty.call(output.data, EXEC_MIME_TYPE))) {\n      return\n    }\n\n    const toinsert = output_area.element.find(\".\" + CLASS_NAME.split(' ')[0]);\n\n    if (output.metadata[EXEC_MIME_TYPE][\"id\"] !== undefined) {\n      toinsert[toinsert.length - 1].firstChild.textContent = output.data[JS_MIME_TYPE];\n      // store reference to embed id on output_area\n      output_area._bokeh_element_id = output.metadata[EXEC_MIME_TYPE][\"id\"];\n    }\n    if (output.metadata[EXEC_MIME_TYPE][\"server_id\"] !== undefined) {\n      const bk_div = document.createElement(\"div\");\n      bk_div.innerHTML = output.data[HTML_MIME_TYPE];\n      const script_attrs = bk_div.children[0].attributes;\n      for (let i = 0; i < script_attrs.length; i++) {\n        toinsert[toinsert.length - 1].firstChild.setAttribute(script_attrs[i].name, script_attrs[i].value);\n        toinsert[toinsert.length - 1].firstChild.textContent = bk_div.children[0].textContent\n      }\n      // store reference to server id on output_area\n      output_area._bokeh_server_id = output.metadata[EXEC_MIME_TYPE][\"server_id\"];\n    }\n  }\n\n  function register_renderer(events, OutputArea) {\n\n    function append_mime(data, metadata, element) {\n      // create a DOM node to render to\n      const toinsert = this.create_output_subarea(\n        metadata,\n        CLASS_NAME,\n        EXEC_MIME_TYPE\n      );\n      this.keyboard_manager.register_events(toinsert);\n      // Render to node\n      const props = {data: data, metadata: metadata[EXEC_MIME_TYPE]};\n      render(props, toinsert[toinsert.length - 1]);\n      element.append(toinsert);\n      return toinsert\n    }\n\n    /* Handle when an output is cleared or removed */\n    events.on('clear_output.CodeCell', handleClearOutput);\n    events.on('delete.Cell', handleClearOutput);\n\n    /* Handle when a new output is added */\n    events.on('output_added.OutputArea', handleAddOutput);\n\n    /**\n     * Register the mime type and append_mime function with output_area\n     */\n    OutputArea.prototype.register_mime_type(EXEC_MIME_TYPE, append_mime, {\n      /* Is output safe? */\n      safe: true,\n      /* Index of renderer in `output_area.display_order` */\n      index: 0\n    });\n  }\n\n  // register the mime type if in Jupyter Notebook environment and previously unregistered\n  if (root.Jupyter !== undefined) {\n    const events = require('base/js/events');\n    const OutputArea = require('notebook/js/outputarea').OutputArea;\n\n    if (OutputArea.prototype.mime_types().indexOf(EXEC_MIME_TYPE) == -1) {\n      register_renderer(events, OutputArea);\n    }\n  }\n\n  \n  if (typeof (root._bokeh_timeout) === \"undefined\" || force === true) {\n    root._bokeh_timeout = Date.now() + 5000;\n    root._bokeh_failed_load = false;\n  }\n\n  const NB_LOAD_WARNING = {'data': {'text/html':\n     \"<div style='background-color: #fdd'>\\n\"+\n     \"<p>\\n\"+\n     \"BokehJS does not appear to have successfully loaded. If loading BokehJS from CDN, this \\n\"+\n     \"may be due to a slow or bad network connection. Possible fixes:\\n\"+\n     \"</p>\\n\"+\n     \"<ul>\\n\"+\n     \"<li>re-rerun `output_notebook()` to attempt to load from CDN again, or</li>\\n\"+\n     \"<li>use INLINE resources instead, as so:</li>\\n\"+\n     \"</ul>\\n\"+\n     \"<code>\\n\"+\n     \"from bokeh.resources import INLINE\\n\"+\n     \"output_notebook(resources=INLINE)\\n\"+\n     \"</code>\\n\"+\n     \"</div>\"}};\n\n  function display_loaded() {\n    const el = document.getElementById(\"1173\");\n    if (el != null) {\n      el.textContent = \"BokehJS is loading...\";\n    }\n    if (root.Bokeh !== undefined) {\n      if (el != null) {\n        el.textContent = \"BokehJS \" + root.Bokeh.version + \" successfully loaded.\";\n      }\n    } else if (Date.now() < root._bokeh_timeout) {\n      setTimeout(display_loaded, 100)\n    }\n  }\n\n\n  function run_callbacks() {\n    try {\n      root._bokeh_onload_callbacks.forEach(function(callback) {\n        if (callback != null)\n          callback();\n      });\n    } finally {\n      delete root._bokeh_onload_callbacks\n    }\n    console.debug(\"Bokeh: all callbacks have finished\");\n  }\n\n  function load_libs(css_urls, js_urls, callback) {\n    if (css_urls == null) css_urls = [];\n    if (js_urls == null) js_urls = [];\n\n    root._bokeh_onload_callbacks.push(callback);\n    if (root._bokeh_is_loading > 0) {\n      console.debug(\"Bokeh: BokehJS is being loaded, scheduling callback at\", now());\n      return null;\n    }\n    if (js_urls == null || js_urls.length === 0) {\n      run_callbacks();\n      return null;\n    }\n    console.debug(\"Bokeh: BokehJS not loaded, scheduling load and callback at\", now());\n    root._bokeh_is_loading = css_urls.length + js_urls.length;\n\n    function on_load() {\n      root._bokeh_is_loading--;\n      if (root._bokeh_is_loading === 0) {\n        console.debug(\"Bokeh: all BokehJS libraries/stylesheets loaded\");\n        run_callbacks()\n      }\n    }\n\n    function on_error(url) {\n      console.error(\"failed to load \" + url);\n    }\n\n    for (let i = 0; i < css_urls.length; i++) {\n      const url = css_urls[i];\n      const element = document.createElement(\"link\");\n      element.onload = on_load;\n      element.onerror = on_error.bind(null, url);\n      element.rel = \"stylesheet\";\n      element.type = \"text/css\";\n      element.href = url;\n      console.debug(\"Bokeh: injecting link tag for BokehJS stylesheet: \", url);\n      document.body.appendChild(element);\n    }\n\n    for (let i = 0; i < js_urls.length; i++) {\n      const url = js_urls[i];\n      const element = document.createElement('script');\n      element.onload = on_load;\n      element.onerror = on_error.bind(null, url);\n      element.async = false;\n      element.src = url;\n      console.debug(\"Bokeh: injecting script tag for BokehJS library: \", url);\n      document.head.appendChild(element);\n    }\n  };\n\n  function inject_raw_css(css) {\n    const element = document.createElement(\"style\");\n    element.appendChild(document.createTextNode(css));\n    document.body.appendChild(element);\n  }\n\n  \n  const js_urls = [\"https://cdn.bokeh.org/bokeh/release/bokeh-2.4.1.min.js\", \"https://cdn.bokeh.org/bokeh/release/bokeh-gl-2.4.1.min.js\", \"https://cdn.bokeh.org/bokeh/release/bokeh-widgets-2.4.1.min.js\", \"https://cdn.bokeh.org/bokeh/release/bokeh-tables-2.4.1.min.js\", \"https://cdn.bokeh.org/bokeh/release/bokeh-mathjax-2.4.1.min.js\"];\n  const css_urls = [];\n  \n\n  const inline_js = [\n    function(Bokeh) {\n      Bokeh.set_log_level(\"info\");\n    },\n    function(Bokeh) {\n    \n    \n    }\n  ];\n\n  function run_inline_js() {\n    \n    if (root.Bokeh !== undefined || force === true) {\n      \n    for (let i = 0; i < inline_js.length; i++) {\n      inline_js[i].call(root, root.Bokeh);\n    }\n    if (force === true) {\n        display_loaded();\n      }} else if (Date.now() < root._bokeh_timeout) {\n      setTimeout(run_inline_js, 100);\n    } else if (!root._bokeh_failed_load) {\n      console.log(\"Bokeh: BokehJS failed to load within specified timeout.\");\n      root._bokeh_failed_load = true;\n    } else if (force !== true) {\n      const cell = $(document.getElementById(\"1173\")).parents('.cell').data().cell;\n      cell.output_area.append_execute_result(NB_LOAD_WARNING)\n    }\n\n  }\n\n  if (root._bokeh_is_loading === 0) {\n    console.debug(\"Bokeh: BokehJS loaded, going straight to plotting\");\n    run_inline_js();\n  } else {\n    load_libs(css_urls, js_urls, function() {\n      console.debug(\"Bokeh: BokehJS plotting callback run at\", now());\n      run_inline_js();\n    });\n  }\n}(window));",
      "application/vnd.bokehjs_load.v0+json": ""
     },
     "metadata": {},
     "output_type": "display_data"
    },
    {
     "data": {
      "text/html": [
       "\n",
       "\n",
       "\n",
       "\n",
       "\n",
       "\n",
       "  <div class=\"bk-root\" id=\"4e0bb684-7faf-479e-9628-357f6a59a995\" data-root-id=\"1142\"></div>\n"
      ]
     },
     "metadata": {},
     "output_type": "display_data"
    },
    {
     "data": {
      "application/javascript": "(function(root) {\n  function embed_document(root) {\n    \n  const docs_json = {\"61a04ceb-dd43-4f60-aa68-502083126721\":{\"defs\":[],\"roots\":{\"references\":[{\"attributes\":{\"background_fill_color\":\"white\",\"below\":[{\"id\":\"1151\"}],\"center\":[{\"id\":\"1154\"},{\"id\":\"1158\"},{\"id\":\"1206\"}],\"height\":400,\"left\":[{\"id\":\"1155\"}],\"renderers\":[{\"id\":\"1175\"},{\"id\":\"1183\"},{\"id\":\"1191\"},{\"id\":\"1214\"}],\"title\":{\"id\":\"1193\"},\"toolbar\":{\"id\":\"1166\"},\"width\":700,\"x_range\":{\"id\":\"1143\"},\"x_scale\":{\"id\":\"1147\"},\"y_range\":{\"id\":\"1145\"},\"y_scale\":{\"id\":\"1149\"}},\"id\":\"1142\",\"subtype\":\"Figure\",\"type\":\"Plot\"},{\"attributes\":{\"coordinates\":null,\"formatter\":{\"id\":\"1196\"},\"group\":null,\"major_label_policy\":{\"id\":\"1197\"},\"ticker\":{\"id\":\"1156\"}},\"id\":\"1155\",\"type\":\"LinearAxis\"},{\"attributes\":{\"fill_alpha\":{\"value\":0.1},\"fill_color\":{\"field\":\"fail_status\",\"transform\":{\"id\":\"1178\"}},\"hatch_alpha\":{\"value\":0.1},\"hatch_color\":{\"field\":\"fail_status\",\"transform\":{\"id\":\"1178\"}},\"line_alpha\":{\"value\":0.1},\"line_color\":{\"field\":\"fail_status\",\"transform\":{\"id\":\"1178\"}},\"marker\":{\"value\":\"square\"},\"size\":{\"value\":1},\"x\":{\"field\":\"x\"},\"y\":{\"field\":\"y\"}},\"id\":\"1181\",\"type\":\"Scatter\"},{\"attributes\":{\"label\":{\"field\":\"fail_status\"},\"renderers\":[{\"id\":\"1191\"}]},\"id\":\"1207\",\"type\":\"LegendItem\"},{\"attributes\":{\"label\":{\"field\":\"crew_type\"},\"renderers\":[{\"id\":\"1214\"}]},\"id\":\"1231\",\"type\":\"LegendItem\"},{\"attributes\":{\"bottom_units\":\"screen\",\"coordinates\":null,\"fill_alpha\":0.5,\"fill_color\":\"lightgrey\",\"group\":null,\"left_units\":\"screen\",\"level\":\"overlay\",\"line_alpha\":1.0,\"line_color\":\"black\",\"line_dash\":[4,4],\"line_width\":2,\"right_units\":\"screen\",\"syncable\":false,\"top_units\":\"screen\"},\"id\":\"1165\",\"type\":\"BoxAnnotation\"},{\"attributes\":{\"coordinates\":null,\"data_source\":{\"id\":\"1209\"},\"glyph\":{\"id\":\"1211\"},\"group\":null,\"hover_glyph\":null,\"muted_glyph\":{\"id\":\"1213\"},\"nonselection_glyph\":{\"id\":\"1212\"},\"view\":{\"id\":\"1215\"}},\"id\":\"1214\",\"type\":\"GlyphRenderer\"},{\"attributes\":{\"coordinates\":null,\"data_source\":{\"id\":\"1185\"},\"glyph\":{\"id\":\"1188\"},\"group\":null,\"hover_glyph\":null,\"muted_glyph\":{\"id\":\"1190\"},\"nonselection_glyph\":{\"id\":\"1189\"},\"view\":{\"id\":\"1192\"}},\"id\":\"1191\",\"type\":\"GlyphRenderer\"},{\"attributes\":{},\"id\":\"1149\",\"type\":\"LinearScale\"},{\"attributes\":{\"fill_alpha\":{\"value\":0.2},\"fill_color\":{\"field\":\"fail_status\",\"transform\":{\"id\":\"1178\"}},\"hatch_alpha\":{\"value\":0.2},\"hatch_color\":{\"field\":\"fail_status\",\"transform\":{\"id\":\"1178\"}},\"line_alpha\":{\"value\":0.2},\"line_color\":{\"field\":\"fail_status\",\"transform\":{\"id\":\"1178\"}},\"marker\":{\"value\":\"square\"},\"size\":{\"value\":1},\"x\":{\"field\":\"x\"},\"y\":{\"field\":\"y\"}},\"id\":\"1182\",\"type\":\"Scatter\"},{\"attributes\":{},\"id\":\"1229\",\"type\":\"Selection\"},{\"attributes\":{},\"id\":\"1202\",\"type\":\"Selection\"},{\"attributes\":{\"source\":{\"id\":\"1209\"}},\"id\":\"1215\",\"type\":\"CDSView\"},{\"attributes\":{\"tools\":[{\"id\":\"1159\"},{\"id\":\"1160\"},{\"id\":\"1161\"},{\"id\":\"1162\"},{\"id\":\"1163\"},{\"id\":\"1164\"}]},\"id\":\"1166\",\"type\":\"Toolbar\"},{\"attributes\":{},\"id\":\"1147\",\"type\":\"LinearScale\"},{\"attributes\":{},\"id\":\"1196\",\"type\":\"BasicTickFormatter\"},{\"attributes\":{},\"id\":\"1201\",\"type\":\"UnionRenderers\"},{\"attributes\":{\"end\":1000,\"start\":-100},\"id\":\"1145\",\"type\":\"Range1d\"},{\"attributes\":{\"end\":800,\"start\":-100},\"id\":\"1143\",\"type\":\"Range1d\"},{\"attributes\":{},\"id\":\"1200\",\"type\":\"AllLabels\"},{\"attributes\":{\"data\":{\"fail_status\":[\"Functional\",\"Functional\",\"Functional\",\"Functional\",\"Functional\",\"Functional\",\"Functional\",\"Functional\",\"Functional\",\"Functional\",\"Functional\",\"Functional\",\"Functional\",\"Functional\",\"Functional\",\"Functional\",\"Functional\",\"Functional\",\"Functional\",\"Functional\",\"Functional\",\"Functional\",\"Functional\",\"Functional\",\"Functional\",\"Functional\",\"Functional\",\"Functional\",\"Functional\",\"Functional\",\"Functional\",\"Functional\"],\"id\":[\"P_L1\",\"P_L4\",\"P_TF2\",\"P_L2\",\"P_L3\",\"P_L5\",\"P_S1\",\"P_TF1\",\"W_P10\",\"W_WP9\",\"W_P11\",\"W_P111\",\"W_P12\",\"W_P110\",\"W_P112\",\"W_P113\",\"W_P21\",\"W_P121\",\"W_P22\",\"W_P122\",\"W_P31\",\"T_L12\",\"T_L14\",\"T_L13\",\"T_L15\",\"T_L16\",\"T_L18\",\"T_L17\",\"T_L19\",\"T_L20\",\"T_L21\",\"T_L22\"],\"link_category\":[\"Power line\",\"Power line\",\"Transformer\",\"Power line\",\"Power line\",\"Power line\",\"Switch\",\"Transformer\",\"Water pipe\",\"Water pump\",\"Water pipe\",\"Water pipe\",\"Water pipe\",\"Water pipe\",\"Water pipe\",\"Water pipe\",\"Water pipe\",\"Water pipe\",\"Water pipe\",\"Water pipe\",\"Water pipe\",\"Road link\",\"Road link\",\"Road link\",\"Road link\",\"Road link\",\"Road link\",\"Road link\",\"Road link\",\"Road link\",\"Road link\",\"Road link\"],\"link_layer\":[\"Power\",\"Power\",\"Power\",\"Power\",\"Power\",\"Power\",\"Power\",\"Power\",\"Water\",\"Water\",\"Water\",\"Water\",\"Water\",\"Water\",\"Water\",\"Water\",\"Water\",\"Water\",\"Water\",\"Water\",\"Water\",\"Transportation\",\"Transportation\",\"Transportation\",\"Transportation\",\"Transportation\",\"Transportation\",\"Transportation\",\"Transportation\",\"Transportation\",\"Transportation\",\"Transportation\"],\"x\":[[400.0,400.0],[400.0,200.0],[400.0,400.0],[400.0,400.0],[400.0,100.0],[200.0,200.0],[200.0,200.0],[200.0,100.0],[200.0,300.0],[200.0,100.0],[300.0,500.0],[300.0,300.0],[500.0,700.0],[500.0,500.0],[500.0,500.0],[700.0,700.0],[300.0,500.0],[300.0,300.0],[500.0,700.0],[500.0,500.0],[300.0,500.0],[0,300],[0,0],[300,600],[600,300],[0,300],[0,0],[300,600],[300,300],[600,600],[0,300],[300,600]],\"y\":[[550.0,275.0],[550.0,550.0],[275.0,225.0],[225.0,0.0],[0.0,0.0],[550.0,350.0],[350.0,250.0],[250.0,250.0],[700.0,700.0],[700.0,700.0],[700.0,700.0],[700.0,400.0],[700.0,700.0],[700.0,900.0],[700.0,400.0],[700.0,400.0],[400.0,400.0],[400.0,100.0],[400.0,400.0],[400.0,100.0],[100.0,100.0],[700,700],[700,325],[700,700],[700,325],[325,325],[325,0],[325,325],[325,0],[325,0],[0,0],[0,0]]},\"selected\":{\"id\":\"1204\"},\"selection_policy\":{\"id\":\"1203\"}},\"id\":\"1185\",\"type\":\"ColumnDataSource\"},{\"attributes\":{},\"id\":\"1152\",\"type\":\"BasicTicker\"},{\"attributes\":{},\"id\":\"1203\",\"type\":\"UnionRenderers\"},{\"attributes\":{\"factors\":[\"Functional\",\"Disrupted\"],\"palette\":[\"#66bd63\",\"#d73027\"]},\"id\":\"1186\",\"type\":\"CategoricalColorMapper\"},{\"attributes\":{},\"id\":\"1160\",\"type\":\"WheelZoomTool\"},{\"attributes\":{},\"id\":\"1228\",\"type\":\"UnionRenderers\"},{\"attributes\":{},\"id\":\"1156\",\"type\":\"BasicTicker\"},{\"attributes\":{\"coordinates\":null,\"group\":null,\"items\":[{\"id\":\"1207\"},{\"id\":\"1231\"}],\"location\":\"top_left\"},\"id\":\"1206\",\"type\":\"Legend\"},{\"attributes\":{\"attribution\":\"&copy; <a href=\\\"https://www.openstreetmap.org/copyright\\\">OpenStreetMap</a> contributors,&copy; <a href=\\\"https://cartodb.com/attributions\\\">CartoDB</a>\",\"url\":\"https://tiles.basemaps.cartocdn.com/light_all/{z}/{x}/{y}@2x.png\"},\"id\":\"1174\",\"type\":\"WMTSTileSource\"},{\"attributes\":{},\"id\":\"1197\",\"type\":\"AllLabels\"},{\"attributes\":{\"fill_alpha\":{\"value\":0.7},\"fill_color\":{\"field\":\"fail_status\",\"transform\":{\"id\":\"1178\"}},\"hatch_alpha\":{\"value\":0.7},\"hatch_color\":{\"field\":\"fail_status\",\"transform\":{\"id\":\"1178\"}},\"line_alpha\":{\"value\":0.7},\"line_color\":{\"field\":\"fail_status\",\"transform\":{\"id\":\"1178\"}},\"marker\":{\"value\":\"square\"},\"size\":{\"value\":1},\"x\":{\"field\":\"x\"},\"y\":{\"field\":\"y\"}},\"id\":\"1180\",\"type\":\"Scatter\"},{\"attributes\":{\"line_alpha\":{\"value\":0.2},\"line_color\":{\"field\":\"fail_status\",\"transform\":{\"id\":\"1186\"}},\"line_width\":{\"value\":2},\"xs\":{\"field\":\"x\"},\"ys\":{\"field\":\"y\"}},\"id\":\"1190\",\"type\":\"MultiLine\"},{\"attributes\":{},\"id\":\"1204\",\"type\":\"Selection\"},{\"attributes\":{\"overlay\":{\"id\":\"1165\"}},\"id\":\"1161\",\"type\":\"BoxZoomTool\"},{\"attributes\":{},\"id\":\"1164\",\"type\":\"HelpTool\"},{\"attributes\":{},\"id\":\"1163\",\"type\":\"ResetTool\"},{\"attributes\":{\"source\":{\"id\":\"1185\"}},\"id\":\"1192\",\"type\":\"CDSView\"},{\"attributes\":{\"factors\":[\"Functional\",\"Disrupted\"],\"palette\":[\"#66bd63\",\"#d73027\"]},\"id\":\"1178\",\"type\":\"CategoricalColorMapper\"},{\"attributes\":{\"line_alpha\":{\"value\":0.1},\"line_color\":{\"field\":\"fail_status\",\"transform\":{\"id\":\"1186\"}},\"line_width\":{\"value\":2},\"xs\":{\"field\":\"x\"},\"ys\":{\"field\":\"y\"}},\"id\":\"1189\",\"type\":\"MultiLine\"},{\"attributes\":{},\"id\":\"1162\",\"type\":\"SaveTool\"},{\"attributes\":{\"data\":{\"crew_type\":[\"Power crew\",\"Water crew\",\"Transportation crew\"],\"x\":[280,320,340],\"y\":[-20,20,40]},\"selected\":{\"id\":\"1229\"},\"selection_policy\":{\"id\":\"1228\"}},\"id\":\"1209\",\"type\":\"ColumnDataSource\"},{\"attributes\":{},\"id\":\"1159\",\"type\":\"PanTool\"},{\"attributes\":{\"axis\":{\"id\":\"1155\"},\"coordinates\":null,\"dimension\":1,\"group\":null,\"ticker\":null},\"id\":\"1158\",\"type\":\"Grid\"},{\"attributes\":{\"data\":{\"fail_status\":[\"Functional\",\"Functional\",\"Functional\",\"Functional\",\"Functional\",\"Functional\",\"Functional\",\"Functional\",\"Functional\",\"Functional\",\"Functional\",\"Functional\",\"Functional\",\"Functional\",\"Functional\",\"Functional\",\"Functional\",\"Functional\",\"Functional\",\"Functional\",\"Functional\",\"Functional\",\"Functional\",\"Functional\",\"Functional\",\"Functional\",\"Functional\",\"Functional\",\"Functional\"],\"id\":[\"P_B1\",\"P_B2\",\"P_B3\",\"P_B4\",\"P_B5\",\"P_B6\",\"P_B7\",\"P_B9\",\"P_B8\",\"W_J10\",\"W_J11\",\"W_J12\",\"W_J13\",\"W_J21\",\"W_J22\",\"W_J23\",\"W_J31\",\"W_J32\",\"W_T2\",\"W_R9\",\"T_J1\",\"T_J2\",\"T_J3\",\"T_J4\",\"T_J5\",\"T_J6\",\"T_J7\",\"T_J8\",\"T_J9\"],\"node_category\":[\"Bus\",\"Bus\",\"Bus\",\"Bus\",\"Bus\",\"Bus\",\"Bus\",\"Bus\",\"Bus\",\"Junction\",\"Junction\",\"Junction\",\"Junction\",\"Junction\",\"Junction\",\"Junction\",\"Junction\",\"Junction\",\"Tank\",\"Reservoir\",\"Junction\",\"Junction\",\"Junction\",\"Junction\",\"Junction\",\"Junction\",\"Junction\",\"Junction\",\"Junction\"],\"node_type\":[\"power_node\",\"power_node\",\"power_node\",\"power_node\",\"power_node\",\"power_node\",\"power_node\",\"power_node\",\"power_node\",\"water_node\",\"water_node\",\"water_node\",\"water_node\",\"water_node\",\"water_node\",\"water_node\",\"water_node\",\"water_node\",\"water_node\",\"water_node\",\"transpo_node\",\"transpo_node\",\"transpo_node\",\"transpo_node\",\"transpo_node\",\"transpo_node\",\"transpo_node\",\"transpo_node\",\"transpo_node\"],\"x\":[400.0,400.0,400.0,400.0,100.0,200.0,200.0,200.0,100.0,200.0,300.0,500.0,700.0,300.0,500.0,700.0,300.0,500.0,500.0,100.0,0,300,600,0,300,600,0,300,600],\"y\":[550.0,275.0,225.0,0.0,0.0,550.0,350.0,250.0,250.0,700.0,700.0,700.0,700.0,400.0,400.0,400.0,100.0,100.0,900.0,700.0,700,700,700,325,325,325,0,0,0]},\"selected\":{\"id\":\"1202\"},\"selection_policy\":{\"id\":\"1201\"}},\"id\":\"1177\",\"type\":\"ColumnDataSource\"},{\"attributes\":{},\"id\":\"1199\",\"type\":\"BasicTickFormatter\"},{\"attributes\":{\"coordinates\":null,\"group\":null},\"id\":\"1193\",\"type\":\"Title\"},{\"attributes\":{\"line_color\":{\"field\":\"fail_status\",\"transform\":{\"id\":\"1186\"}},\"line_width\":{\"value\":2},\"xs\":{\"field\":\"x\"},\"ys\":{\"field\":\"y\"}},\"id\":\"1188\",\"type\":\"MultiLine\"},{\"attributes\":{\"factors\":[\"Power crew\",\"Transportation crew\",\"Water crew\"],\"palette\":[\"#440154\",\"#208F8C\",\"#FDE724\"]},\"id\":\"1208\",\"type\":\"CategoricalColorMapper\"},{\"attributes\":{\"coordinates\":null,\"formatter\":{\"id\":\"1199\"},\"group\":null,\"major_label_policy\":{\"id\":\"1200\"},\"ticker\":{\"id\":\"1152\"}},\"id\":\"1151\",\"type\":\"LinearAxis\"},{\"attributes\":{\"fill_alpha\":{\"value\":0.1},\"fill_color\":{\"field\":\"crew_type\",\"transform\":{\"id\":\"1208\"}},\"hatch_alpha\":{\"value\":0.1},\"hatch_color\":{\"field\":\"crew_type\",\"transform\":{\"id\":\"1208\"}},\"line_alpha\":{\"value\":0.1},\"line_color\":{\"field\":\"crew_type\",\"transform\":{\"id\":\"1208\"}},\"marker\":{\"value\":\"square\"},\"size\":{\"value\":10},\"x\":{\"field\":\"x\"},\"y\":{\"field\":\"y\"}},\"id\":\"1212\",\"type\":\"Scatter\"},{\"attributes\":{\"source\":{\"id\":\"1177\"}},\"id\":\"1184\",\"type\":\"CDSView\"},{\"attributes\":{\"fill_alpha\":{\"value\":0.2},\"fill_color\":{\"field\":\"crew_type\",\"transform\":{\"id\":\"1208\"}},\"hatch_alpha\":{\"value\":0.2},\"hatch_color\":{\"field\":\"crew_type\",\"transform\":{\"id\":\"1208\"}},\"line_alpha\":{\"value\":0.2},\"line_color\":{\"field\":\"crew_type\",\"transform\":{\"id\":\"1208\"}},\"marker\":{\"value\":\"square\"},\"size\":{\"value\":10},\"x\":{\"field\":\"x\"},\"y\":{\"field\":\"y\"}},\"id\":\"1213\",\"type\":\"Scatter\"},{\"attributes\":{\"axis\":{\"id\":\"1151\"},\"coordinates\":null,\"group\":null,\"ticker\":null},\"id\":\"1154\",\"type\":\"Grid\"},{\"attributes\":{\"fill_color\":{\"field\":\"crew_type\",\"transform\":{\"id\":\"1208\"}},\"hatch_color\":{\"field\":\"crew_type\",\"transform\":{\"id\":\"1208\"}},\"line_color\":{\"field\":\"crew_type\",\"transform\":{\"id\":\"1208\"}},\"marker\":{\"value\":\"square\"},\"size\":{\"value\":10},\"x\":{\"field\":\"x\"},\"y\":{\"field\":\"y\"}},\"id\":\"1211\",\"type\":\"Scatter\"},{\"attributes\":{\"alpha\":0.1,\"coordinates\":null,\"group\":null,\"tile_source\":{\"id\":\"1174\"}},\"id\":\"1175\",\"type\":\"TileRenderer\"},{\"attributes\":{\"coordinates\":null,\"data_source\":{\"id\":\"1177\"},\"glyph\":{\"id\":\"1180\"},\"group\":null,\"hover_glyph\":null,\"muted_glyph\":{\"id\":\"1182\"},\"nonselection_glyph\":{\"id\":\"1181\"},\"view\":{\"id\":\"1184\"}},\"id\":\"1183\",\"type\":\"GlyphRenderer\"}],\"root_ids\":[\"1142\"]},\"title\":\"Bokeh Application\",\"version\":\"2.4.1\"}};\n  const render_items = [{\"docid\":\"61a04ceb-dd43-4f60-aa68-502083126721\",\"root_ids\":[\"1142\"],\"roots\":{\"1142\":\"4e0bb684-7faf-479e-9628-357f6a59a995\"}}];\n  root.Bokeh.embed.embed_items_notebook(docs_json, render_items);\n\n  }\n  if (root.Bokeh !== undefined) {\n    embed_document(root);\n  } else {\n    let attempts = 0;\n    const timer = setInterval(function(root) {\n      if (root.Bokeh !== undefined) {\n        clearInterval(timer);\n        embed_document(root);\n      } else {\n        attempts++;\n        if (attempts > 100) {\n          clearInterval(timer);\n          console.log(\"Bokeh: ERROR: Unable to run BokehJS code because BokehJS library is missing\");\n        }\n      }\n    }, 10, root)\n  }\n})(window);",
      "application/vnd.bokehjs_exec.v0+json": ""
     },
     "metadata": {
      "application/vnd.bokehjs_exec.v0+json": {
       "id": "1142"
      }
     },
     "output_type": "display_data"
    }
   ],
   "source": [
    "extent = simple_network.map_extends\n",
    "model_plots.plot_disruptions_and_crews(simple_network, extent)"
   ]
  }
 ],
 "metadata": {
  "interpreter": {
   "hash": "81f63c950183c35fc560e53b2038949fbf496bc4d9a5fbffd095152ee154ae75"
  },
  "kernelspec": {
   "display_name": "Python 3.8.3 ('redcar')",
   "language": "python",
   "name": "python3"
  },
  "language_info": {
   "codemirror_mode": {
    "name": "ipython",
    "version": 3
   },
   "file_extension": ".py",
   "mimetype": "text/x-python",
   "name": "python",
   "nbconvert_exporter": "python",
   "pygments_lexer": "ipython3",
   "version": "3.8.3"
  }
 },
 "nbformat": 4,
 "nbformat_minor": 4
}
