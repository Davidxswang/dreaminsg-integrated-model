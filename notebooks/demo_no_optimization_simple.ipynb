{
 "cells": [
  {
   "cell_type": "markdown",
   "metadata": {},
   "source": [
    "# Testing the Integrated Simulation Platform\n",
    "This notebook contains codes to test the various functionalities of the integrated simulation platform. You can call any of the modules from the package here. "
   ]
  },
  {
   "cell_type": "code",
   "execution_count": 1,
   "metadata": {},
   "outputs": [],
   "source": [
    "# Go to the main directory\n",
    "# !pip install --editable .\n",
    "# !pip install pandas\n",
    "# !pip install wntr\n",
    "# !pip install pandapower\n",
    "# !pip install sklearn\n",
    "\n",
    "#to find requirements\n",
    "#depfinder -y ."
   ]
  },
  {
   "cell_type": "code",
   "execution_count": 2,
   "metadata": {},
   "outputs": [
    {
     "data": {
      "text/html": [
       "<style>.container { width:100% !important; }</style>"
      ],
      "text/plain": [
       "<IPython.core.display.HTML object>"
      ]
     },
     "metadata": {},
     "output_type": "display_data"
    }
   ],
   "source": [
    "%load_ext autoreload\n",
    "%autoreload 2\n",
    "\n",
    "from IPython.core.display import display, HTML\n",
    "display(HTML(\"<style>.container { width:100% !important; }</style>\"))\n",
    "from IPython.core.interactiveshell import InteractiveShell\n",
    "InteractiveShell.ast_node_interactivity = \"all\""
   ]
  },
  {
   "cell_type": "markdown",
   "metadata": {},
   "source": [
    "## Import required packages"
   ]
  },
  {
   "cell_type": "code",
   "execution_count": 3,
   "metadata": {
    "scrolled": true,
    "tags": []
   },
   "outputs": [],
   "source": [
    "from pathlib import Path\n",
    "from infrarisk.src.network_recovery import *\n",
    "import infrarisk.src.simulation as simulation\n",
    "from infrarisk.src.network_sim_models.integrated_network import *\n",
    "import infrarisk.src.recovery_strategies as strategies\n",
    "\n",
    "from infrarisk.src.network_sim_models.interdependencies import *\n",
    "\n",
    "from infrarisk.src.optimizer import *\n",
    "import infrarisk.src.plots as model_plots\n",
    "\n",
    "#import random"
   ]
  },
  {
   "cell_type": "markdown",
   "metadata": {},
   "source": [
    "## Create an IntegratedNetwork object"
   ]
  },
  {
   "cell_type": "code",
   "execution_count": 4,
   "metadata": {},
   "outputs": [],
   "source": [
    "simple_network = IntegratedNetwork(name = \"Simple\")"
   ]
  },
  {
   "cell_type": "markdown",
   "metadata": {},
   "source": [
    "### Load the three infrastructure models: Water, Power and Transportation\n",
    "\n",
    "Three different models are used:\n",
    "- Water distribution network using **wntr** package\n",
    "- Power systems using **pandapower** package\n",
    "- Transportation network using static traffic assignment package developed by Dr. Stephen Boyles (University of Texas at Austin)"
   ]
  },
  {
   "cell_type": "code",
   "execution_count": 5,
   "metadata": {},
   "outputs": [
    {
     "name": "stdout",
     "output_type": "stream",
     "text": [
      "Water network successfully loaded from ..\\infrarisk\\data\\networks\\in2\\water/water.inp. The analysis type is set to PDA.\n",
      "initial simulation duration: 60s; hydraulic time step: 60s; pattern time step: 3600s\n",
      "\n",
      "Power system successfully loaded from ..\\infrarisk\\data\\networks\\in2\\power\\power.json. Single phase power flow simulation will be used.\n",
      "\n",
      "Transportation network successfully loaded from ..\\infrarisk\\data\\networks\\in2\\transportation. Static traffic assignment method will be used to calculate travel times.\n"
     ]
    }
   ],
   "source": [
    "MAIN_DIR = Path('..')\n",
    "\n",
    "network_dir= 'infrarisk/data/networks/in2'\n",
    "water_folder = MAIN_DIR/f'{network_dir}/water'\n",
    "power_folder = MAIN_DIR/f'{network_dir}/power'\n",
    "transp_folder = MAIN_DIR/f'{network_dir}/transportation/'\n",
    "\n",
    "# load all infrastructure networks\n",
    "simple_network.load_networks(water_folder, \n",
    "                             power_folder, \n",
    "                             transp_folder, '1ph',\n",
    "                             water_sim_type = \"PDA\")"
   ]
  },
  {
   "cell_type": "markdown",
   "metadata": {},
   "source": [
    "### Create a Networkx graph of the integrated infrastructure network."
   ]
  },
  {
   "cell_type": "code",
   "execution_count": 6,
   "metadata": {},
   "outputs": [
    {
     "name": "stdout",
     "output_type": "stream",
     "text": [
      "Successfully added power network to the integrated graph...\n",
      "Successfully added water network to the integrated graph...\n",
      "Successfully added transportation network to the integrated graph...\n",
      "Integrated graph successffully created.\n",
      "Generating betweenness centrality...\n"
     ]
    },
    {
     "data": {
      "text/html": [
       "\n",
       "    <div class=\"bk-root\">\n",
       "        <a href=\"https://bokeh.org\" target=\"_blank\" class=\"bk-logo bk-logo-small bk-logo-notebook\"></a>\n",
       "        <span id=\"1002\">Loading BokehJS ...</span>\n",
       "    </div>"
      ]
     },
     "metadata": {},
     "output_type": "display_data"
    },
    {
     "data": {
      "application/javascript": "\n(function(root) {\n  function now() {\n    return new Date();\n  }\n\n  const force = true;\n\n  if (typeof root._bokeh_onload_callbacks === \"undefined\" || force === true) {\n    root._bokeh_onload_callbacks = [];\n    root._bokeh_is_loading = undefined;\n  }\n\n  const JS_MIME_TYPE = 'application/javascript';\n  const HTML_MIME_TYPE = 'text/html';\n  const EXEC_MIME_TYPE = 'application/vnd.bokehjs_exec.v0+json';\n  const CLASS_NAME = 'output_bokeh rendered_html';\n\n  /**\n   * Render data to the DOM node\n   */\n  function render(props, node) {\n    const script = document.createElement(\"script\");\n    node.appendChild(script);\n  }\n\n  /**\n   * Handle when an output is cleared or removed\n   */\n  function handleClearOutput(event, handle) {\n    const cell = handle.cell;\n\n    const id = cell.output_area._bokeh_element_id;\n    const server_id = cell.output_area._bokeh_server_id;\n    // Clean up Bokeh references\n    if (id != null && id in Bokeh.index) {\n      Bokeh.index[id].model.document.clear();\n      delete Bokeh.index[id];\n    }\n\n    if (server_id !== undefined) {\n      // Clean up Bokeh references\n      const cmd_clean = \"from bokeh.io.state import curstate; print(curstate().uuid_to_server['\" + server_id + \"'].get_sessions()[0].document.roots[0]._id)\";\n      cell.notebook.kernel.execute(cmd_clean, {\n        iopub: {\n          output: function(msg) {\n            const id = msg.content.text.trim();\n            if (id in Bokeh.index) {\n              Bokeh.index[id].model.document.clear();\n              delete Bokeh.index[id];\n            }\n          }\n        }\n      });\n      // Destroy server and session\n      const cmd_destroy = \"import bokeh.io.notebook as ion; ion.destroy_server('\" + server_id + \"')\";\n      cell.notebook.kernel.execute(cmd_destroy);\n    }\n  }\n\n  /**\n   * Handle when a new output is added\n   */\n  function handleAddOutput(event, handle) {\n    const output_area = handle.output_area;\n    const output = handle.output;\n\n    // limit handleAddOutput to display_data with EXEC_MIME_TYPE content only\n    if ((output.output_type != \"display_data\") || (!Object.prototype.hasOwnProperty.call(output.data, EXEC_MIME_TYPE))) {\n      return\n    }\n\n    const toinsert = output_area.element.find(\".\" + CLASS_NAME.split(' ')[0]);\n\n    if (output.metadata[EXEC_MIME_TYPE][\"id\"] !== undefined) {\n      toinsert[toinsert.length - 1].firstChild.textContent = output.data[JS_MIME_TYPE];\n      // store reference to embed id on output_area\n      output_area._bokeh_element_id = output.metadata[EXEC_MIME_TYPE][\"id\"];\n    }\n    if (output.metadata[EXEC_MIME_TYPE][\"server_id\"] !== undefined) {\n      const bk_div = document.createElement(\"div\");\n      bk_div.innerHTML = output.data[HTML_MIME_TYPE];\n      const script_attrs = bk_div.children[0].attributes;\n      for (let i = 0; i < script_attrs.length; i++) {\n        toinsert[toinsert.length - 1].firstChild.setAttribute(script_attrs[i].name, script_attrs[i].value);\n        toinsert[toinsert.length - 1].firstChild.textContent = bk_div.children[0].textContent\n      }\n      // store reference to server id on output_area\n      output_area._bokeh_server_id = output.metadata[EXEC_MIME_TYPE][\"server_id\"];\n    }\n  }\n\n  function register_renderer(events, OutputArea) {\n\n    function append_mime(data, metadata, element) {\n      // create a DOM node to render to\n      const toinsert = this.create_output_subarea(\n        metadata,\n        CLASS_NAME,\n        EXEC_MIME_TYPE\n      );\n      this.keyboard_manager.register_events(toinsert);\n      // Render to node\n      const props = {data: data, metadata: metadata[EXEC_MIME_TYPE]};\n      render(props, toinsert[toinsert.length - 1]);\n      element.append(toinsert);\n      return toinsert\n    }\n\n    /* Handle when an output is cleared or removed */\n    events.on('clear_output.CodeCell', handleClearOutput);\n    events.on('delete.Cell', handleClearOutput);\n\n    /* Handle when a new output is added */\n    events.on('output_added.OutputArea', handleAddOutput);\n\n    /**\n     * Register the mime type and append_mime function with output_area\n     */\n    OutputArea.prototype.register_mime_type(EXEC_MIME_TYPE, append_mime, {\n      /* Is output safe? */\n      safe: true,\n      /* Index of renderer in `output_area.display_order` */\n      index: 0\n    });\n  }\n\n  // register the mime type if in Jupyter Notebook environment and previously unregistered\n  if (root.Jupyter !== undefined) {\n    const events = require('base/js/events');\n    const OutputArea = require('notebook/js/outputarea').OutputArea;\n\n    if (OutputArea.prototype.mime_types().indexOf(EXEC_MIME_TYPE) == -1) {\n      register_renderer(events, OutputArea);\n    }\n  }\n\n  \n  if (typeof (root._bokeh_timeout) === \"undefined\" || force === true) {\n    root._bokeh_timeout = Date.now() + 5000;\n    root._bokeh_failed_load = false;\n  }\n\n  const NB_LOAD_WARNING = {'data': {'text/html':\n     \"<div style='background-color: #fdd'>\\n\"+\n     \"<p>\\n\"+\n     \"BokehJS does not appear to have successfully loaded. If loading BokehJS from CDN, this \\n\"+\n     \"may be due to a slow or bad network connection. Possible fixes:\\n\"+\n     \"</p>\\n\"+\n     \"<ul>\\n\"+\n     \"<li>re-rerun `output_notebook()` to attempt to load from CDN again, or</li>\\n\"+\n     \"<li>use INLINE resources instead, as so:</li>\\n\"+\n     \"</ul>\\n\"+\n     \"<code>\\n\"+\n     \"from bokeh.resources import INLINE\\n\"+\n     \"output_notebook(resources=INLINE)\\n\"+\n     \"</code>\\n\"+\n     \"</div>\"}};\n\n  function display_loaded() {\n    const el = document.getElementById(\"1002\");\n    if (el != null) {\n      el.textContent = \"BokehJS is loading...\";\n    }\n    if (root.Bokeh !== undefined) {\n      if (el != null) {\n        el.textContent = \"BokehJS \" + root.Bokeh.version + \" successfully loaded.\";\n      }\n    } else if (Date.now() < root._bokeh_timeout) {\n      setTimeout(display_loaded, 100)\n    }\n  }\n\n\n  function run_callbacks() {\n    try {\n      root._bokeh_onload_callbacks.forEach(function(callback) {\n        if (callback != null)\n          callback();\n      });\n    } finally {\n      delete root._bokeh_onload_callbacks\n    }\n    console.debug(\"Bokeh: all callbacks have finished\");\n  }\n\n  function load_libs(css_urls, js_urls, callback) {\n    if (css_urls == null) css_urls = [];\n    if (js_urls == null) js_urls = [];\n\n    root._bokeh_onload_callbacks.push(callback);\n    if (root._bokeh_is_loading > 0) {\n      console.debug(\"Bokeh: BokehJS is being loaded, scheduling callback at\", now());\n      return null;\n    }\n    if (js_urls == null || js_urls.length === 0) {\n      run_callbacks();\n      return null;\n    }\n    console.debug(\"Bokeh: BokehJS not loaded, scheduling load and callback at\", now());\n    root._bokeh_is_loading = css_urls.length + js_urls.length;\n\n    function on_load() {\n      root._bokeh_is_loading--;\n      if (root._bokeh_is_loading === 0) {\n        console.debug(\"Bokeh: all BokehJS libraries/stylesheets loaded\");\n        run_callbacks()\n      }\n    }\n\n    function on_error(url) {\n      console.error(\"failed to load \" + url);\n    }\n\n    for (let i = 0; i < css_urls.length; i++) {\n      const url = css_urls[i];\n      const element = document.createElement(\"link\");\n      element.onload = on_load;\n      element.onerror = on_error.bind(null, url);\n      element.rel = \"stylesheet\";\n      element.type = \"text/css\";\n      element.href = url;\n      console.debug(\"Bokeh: injecting link tag for BokehJS stylesheet: \", url);\n      document.body.appendChild(element);\n    }\n\n    for (let i = 0; i < js_urls.length; i++) {\n      const url = js_urls[i];\n      const element = document.createElement('script');\n      element.onload = on_load;\n      element.onerror = on_error.bind(null, url);\n      element.async = false;\n      element.src = url;\n      console.debug(\"Bokeh: injecting script tag for BokehJS library: \", url);\n      document.head.appendChild(element);\n    }\n  };\n\n  function inject_raw_css(css) {\n    const element = document.createElement(\"style\");\n    element.appendChild(document.createTextNode(css));\n    document.body.appendChild(element);\n  }\n\n  \n  const js_urls = [\"https://cdn.bokeh.org/bokeh/release/bokeh-2.4.1.min.js\", \"https://cdn.bokeh.org/bokeh/release/bokeh-gl-2.4.1.min.js\", \"https://cdn.bokeh.org/bokeh/release/bokeh-widgets-2.4.1.min.js\", \"https://cdn.bokeh.org/bokeh/release/bokeh-tables-2.4.1.min.js\", \"https://cdn.bokeh.org/bokeh/release/bokeh-mathjax-2.4.1.min.js\"];\n  const css_urls = [];\n  \n\n  const inline_js = [\n    function(Bokeh) {\n      Bokeh.set_log_level(\"info\");\n    },\n    function(Bokeh) {\n    \n    \n    }\n  ];\n\n  function run_inline_js() {\n    \n    if (root.Bokeh !== undefined || force === true) {\n      \n    for (let i = 0; i < inline_js.length; i++) {\n      inline_js[i].call(root, root.Bokeh);\n    }\n    if (force === true) {\n        display_loaded();\n      }} else if (Date.now() < root._bokeh_timeout) {\n      setTimeout(run_inline_js, 100);\n    } else if (!root._bokeh_failed_load) {\n      console.log(\"Bokeh: BokehJS failed to load within specified timeout.\");\n      root._bokeh_failed_load = true;\n    } else if (force !== true) {\n      const cell = $(document.getElementById(\"1002\")).parents('.cell').data().cell;\n      cell.output_area.append_execute_result(NB_LOAD_WARNING)\n    }\n\n  }\n\n  if (root._bokeh_is_loading === 0) {\n    console.debug(\"Bokeh: BokehJS loaded, going straight to plotting\");\n    run_inline_js();\n  } else {\n    load_libs(css_urls, js_urls, function() {\n      console.debug(\"Bokeh: BokehJS plotting callback run at\", now());\n      run_inline_js();\n    });\n  }\n}(window));",
      "application/vnd.bokehjs_load.v0+json": ""
     },
     "metadata": {},
     "output_type": "display_data"
    },
    {
     "data": {
      "text/html": [
       "\n",
       "\n",
       "\n",
       "\n",
       "\n",
       "\n",
       "  <div class=\"bk-root\" id=\"0e7951f2-64c9-4e0d-9610-c15ebbc869d5\" data-root-id=\"1003\"></div>\n"
      ]
     },
     "metadata": {},
     "output_type": "display_data"
    },
    {
     "data": {
      "application/javascript": "(function(root) {\n  function embed_document(root) {\n    \n  const docs_json = {\"1797e10a-b8d4-43a4-a8b0-243fc33a2d46\":{\"defs\":[],\"roots\":{\"references\":[{\"attributes\":{\"background_fill_color\":\"white\",\"below\":[{\"id\":\"1014\"}],\"center\":[{\"id\":\"1017\"},{\"id\":\"1021\"},{\"id\":\"1064\"}],\"height\":400,\"left\":[{\"id\":\"1018\"}],\"renderers\":[{\"id\":\"1041\"},{\"id\":\"1050\"}],\"title\":{\"id\":\"1004\"},\"toolbar\":{\"id\":\"1029\"},\"width\":700,\"x_range\":{\"id\":\"1006\"},\"x_scale\":{\"id\":\"1010\"},\"y_range\":{\"id\":\"1008\"},\"y_scale\":{\"id\":\"1012\"}},\"id\":\"1003\",\"subtype\":\"Figure\",\"type\":\"Plot\"},{\"attributes\":{},\"id\":\"1025\",\"type\":\"SaveTool\"},{\"attributes\":{\"axis\":{\"id\":\"1018\"},\"coordinates\":null,\"dimension\":1,\"group\":null,\"ticker\":null,\"visible\":false},\"id\":\"1021\",\"type\":\"Grid\"},{\"attributes\":{},\"id\":\"1010\",\"type\":\"LinearScale\"},{\"attributes\":{\"factors\":[\"Power\",\"Transportation\",\"Water\"],\"palette\":[\"#1f77b4\",\"#ff7f0e\",\"#2ca02c\"]},\"id\":\"1044\",\"type\":\"CategoricalColorMapper\"},{\"attributes\":{\"end\":6600,\"start\":1000},\"id\":\"1008\",\"type\":\"Range1d\"},{\"attributes\":{\"data\":{\"id\":[\"P_B1\",\"P_B2\",\"P_B3\",\"P_B4\",\"P_B5\",\"P_B6\",\"P_B7\",\"P_B9\",\"P_B8\",\"W_J10\",\"W_J11\",\"W_J12\",\"W_J13\",\"W_J21\",\"W_J22\",\"W_J23\",\"W_J31\",\"W_J32\",\"W_T2\",\"W_R9\",\"T_J1\",\"T_J2\",\"T_J3\",\"T_J4\",\"T_J5\",\"T_J6\",\"T_J7\",\"T_J8\",\"T_J9\"],\"node_category\":[\"Bus\",\"Bus\",\"Bus\",\"Bus\",\"Bus\",\"Bus\",\"Bus\",\"Bus\",\"Bus\",\"Junction\",\"Junction\",\"Junction\",\"Junction\",\"Junction\",\"Junction\",\"Junction\",\"Junction\",\"Junction\",\"Tank\",\"Reservoir\",\"Junction\",\"Junction\",\"Junction\",\"Junction\",\"Junction\",\"Junction\",\"Junction\",\"Junction\",\"Junction\"],\"node_type\":[\"power_node\",\"power_node\",\"power_node\",\"power_node\",\"power_node\",\"power_node\",\"power_node\",\"power_node\",\"power_node\",\"water_node\",\"water_node\",\"water_node\",\"water_node\",\"water_node\",\"water_node\",\"water_node\",\"water_node\",\"water_node\",\"water_node\",\"water_node\",\"transpo_node\",\"transpo_node\",\"transpo_node\",\"transpo_node\",\"transpo_node\",\"transpo_node\",\"transpo_node\",\"transpo_node\",\"transpo_node\"],\"x\":[400.0,400.0,400.0,400.0,100.0,200.0,200.0,200.0,100.0,200.0,300.0,500.0,700.0,300.0,500.0,700.0,300.0,500.0,500.0,100.0,0,300,600,0,300,600,0,300,600],\"y\":[550.0,275.0,225.0,0.0,0.0,550.0,350.0,250.0,250.0,700.0,700.0,700.0,700.0,400.0,400.0,400.0,100.0,100.0,900.0,700.0,700,700,700,325,325,325,0,0,0]},\"selected\":{\"id\":\"1060\"},\"selection_policy\":{\"id\":\"1059\"}},\"id\":\"1036\",\"type\":\"ColumnDataSource\"},{\"attributes\":{},\"id\":\"1019\",\"type\":\"BasicTicker\"},{\"attributes\":{},\"id\":\"1059\",\"type\":\"UnionRenderers\"},{\"attributes\":{},\"id\":\"1022\",\"type\":\"PanTool\"},{\"attributes\":{},\"id\":\"1027\",\"type\":\"HelpTool\"},{\"attributes\":{\"coordinates\":null,\"data_source\":{\"id\":\"1043\"},\"glyph\":{\"id\":\"1047\"},\"group\":null,\"hover_glyph\":null,\"muted_glyph\":{\"id\":\"1049\"},\"nonselection_glyph\":{\"id\":\"1048\"},\"view\":{\"id\":\"1051\"}},\"id\":\"1050\",\"type\":\"GlyphRenderer\"},{\"attributes\":{\"click_policy\":\"mute\",\"coordinates\":null,\"group\":null,\"items\":[{\"id\":\"1065\"}],\"location\":\"top_left\"},\"id\":\"1064\",\"type\":\"Legend\"},{\"attributes\":{},\"id\":\"1026\",\"type\":\"ResetTool\"},{\"attributes\":{},\"id\":\"1054\",\"type\":\"BasicTickFormatter\"},{\"attributes\":{},\"id\":\"1058\",\"type\":\"AllLabels\"},{\"attributes\":{\"coordinates\":null,\"data_source\":{\"id\":\"1036\"},\"glyph\":{\"id\":\"1038\"},\"group\":null,\"hover_glyph\":null,\"muted_glyph\":{\"id\":\"1040\"},\"nonselection_glyph\":{\"id\":\"1039\"},\"view\":{\"id\":\"1042\"}},\"id\":\"1041\",\"type\":\"GlyphRenderer\"},{\"attributes\":{},\"id\":\"1060\",\"type\":\"Selection\"},{\"attributes\":{\"coordinates\":null,\"formatter\":{\"id\":\"1054\"},\"group\":null,\"major_label_policy\":{\"id\":\"1055\"},\"ticker\":{\"id\":\"1019\"}},\"id\":\"1018\",\"type\":\"LinearAxis\"},{\"attributes\":{\"line_alpha\":{\"value\":0.2},\"line_color\":{\"field\":\"link_layer\",\"transform\":{\"id\":\"1045\"}},\"line_width\":{\"value\":1.5},\"xs\":{\"field\":\"x\"},\"ys\":{\"field\":\"y\"}},\"id\":\"1049\",\"type\":\"MultiLine\"},{\"attributes\":{},\"id\":\"1023\",\"type\":\"WheelZoomTool\"},{\"attributes\":{\"callback\":null,\"renderers\":[{\"id\":\"1041\"}],\"tooltips\":[[\"Node ID\",\"@id\"],[\"Infrastructure\",\"@node_type\"],[\"Node category\",\"@node_category\"]]},\"id\":\"1066\",\"type\":\"HoverTool\"},{\"attributes\":{\"tools\":[{\"id\":\"1022\"},{\"id\":\"1023\"},{\"id\":\"1024\"},{\"id\":\"1025\"},{\"id\":\"1026\"},{\"id\":\"1027\"},{\"id\":\"1066\"},{\"id\":\"1068\"}]},\"id\":\"1029\",\"type\":\"Toolbar\"},{\"attributes\":{\"line_alpha\":{\"value\":0.1},\"line_color\":{\"field\":\"link_layer\",\"transform\":{\"id\":\"1044\"}},\"line_width\":{\"value\":1.5},\"xs\":{\"field\":\"x\"},\"ys\":{\"field\":\"y\"}},\"id\":\"1048\",\"type\":\"MultiLine\"},{\"attributes\":{\"source\":{\"id\":\"1036\"}},\"id\":\"1042\",\"type\":\"CDSView\"},{\"attributes\":{\"coordinates\":null,\"group\":null,\"text\":\"Simple integrated network\"},\"id\":\"1004\",\"type\":\"Title\"},{\"attributes\":{},\"id\":\"1012\",\"type\":\"LinearScale\"},{\"attributes\":{\"factors\":[\"Power\",\"Transportation\",\"Water\"],\"palette\":[\"#1f77b4\",\"#ff7f0e\",\"#2ca02c\"]},\"id\":\"1045\",\"type\":\"CategoricalColorMapper\"},{\"attributes\":{},\"id\":\"1057\",\"type\":\"BasicTickFormatter\"},{\"attributes\":{\"fill_alpha\":{\"value\":0.6},\"fill_color\":{\"value\":\"gainsboro\"},\"hatch_alpha\":{\"value\":0.6},\"hatch_color\":{\"value\":\"gainsboro\"},\"line_alpha\":{\"value\":0.6},\"line_color\":{\"value\":\"gainsboro\"},\"marker\":{\"value\":\"square\"},\"size\":{\"value\":5},\"x\":{\"field\":\"x\"},\"y\":{\"field\":\"y\"}},\"id\":\"1038\",\"type\":\"Scatter\"},{\"attributes\":{\"overlay\":{\"id\":\"1028\"}},\"id\":\"1024\",\"type\":\"BoxZoomTool\"},{\"attributes\":{},\"id\":\"1055\",\"type\":\"AllLabels\"},{\"attributes\":{\"fill_alpha\":{\"value\":0.2},\"fill_color\":{\"value\":\"gainsboro\"},\"hatch_alpha\":{\"value\":0.2},\"hatch_color\":{\"value\":\"gainsboro\"},\"line_alpha\":{\"value\":0.2},\"line_color\":{\"value\":\"gainsboro\"},\"marker\":{\"value\":\"square\"},\"size\":{\"value\":5},\"x\":{\"field\":\"x\"},\"y\":{\"field\":\"y\"}},\"id\":\"1040\",\"type\":\"Scatter\"},{\"attributes\":{\"data\":{\"id\":[\"P_L1\",\"P_L4\",\"P_TF2\",\"P_L2\",\"P_L3\",\"P_L5\",\"P_S1\",\"P_TF1\",\"W_P10\",\"W_WP9\",\"W_P11\",\"W_P111\",\"W_P12\",\"W_P110\",\"W_P112\",\"W_P113\",\"W_P21\",\"W_P121\",\"W_P22\",\"W_P122\",\"W_P31\",\"T_L12\",\"T_L14\",\"T_L13\",\"T_L15\",\"T_L16\",\"T_L18\",\"T_L17\",\"T_L19\",\"T_L20\",\"T_L21\",\"T_L22\"],\"link_category\":[\"Power line\",\"Power line\",\"Transformer\",\"Power line\",\"Power line\",\"Power line\",\"Switch\",\"Transformer\",\"Water pipe\",\"Water pump\",\"Water pipe\",\"Water pipe\",\"Water pipe\",\"Water pipe\",\"Water pipe\",\"Water pipe\",\"Water pipe\",\"Water pipe\",\"Water pipe\",\"Water pipe\",\"Water pipe\",\"Road link\",\"Road link\",\"Road link\",\"Road link\",\"Road link\",\"Road link\",\"Road link\",\"Road link\",\"Road link\",\"Road link\",\"Road link\"],\"link_layer\":[\"Power\",\"Power\",\"Power\",\"Power\",\"Power\",\"Power\",\"Power\",\"Power\",\"Water\",\"Water\",\"Water\",\"Water\",\"Water\",\"Water\",\"Water\",\"Water\",\"Water\",\"Water\",\"Water\",\"Water\",\"Water\",\"Transportation\",\"Transportation\",\"Transportation\",\"Transportation\",\"Transportation\",\"Transportation\",\"Transportation\",\"Transportation\",\"Transportation\",\"Transportation\",\"Transportation\"],\"x\":[[400.0,400.0],[400.0,200.0],[400.0,400.0],[400.0,400.0],[400.0,100.0],[200.0,200.0],[200.0,200.0],[200.0,100.0],[200.0,300.0],[200.0,100.0],[300.0,500.0],[300.0,300.0],[500.0,700.0],[500.0,500.0],[500.0,500.0],[700.0,700.0],[300.0,500.0],[300.0,300.0],[500.0,700.0],[500.0,500.0],[300.0,500.0],[0,300],[0,0],[300,600],[600,300],[0,300],[0,0],[300,600],[300,300],[600,600],[0,300],[300,600]],\"y\":[[550.0,275.0],[550.0,550.0],[275.0,225.0],[225.0,0.0],[0.0,0.0],[550.0,350.0],[350.0,250.0],[250.0,250.0],[700.0,700.0],[700.0,700.0],[700.0,700.0],[700.0,400.0],[700.0,700.0],[700.0,900.0],[700.0,400.0],[700.0,400.0],[400.0,400.0],[400.0,100.0],[400.0,400.0],[400.0,100.0],[100.0,100.0],[700,700],[700,325],[700,700],[700,325],[325,325],[325,0],[325,325],[325,0],[325,0],[0,0],[0,0]]},\"selected\":{\"id\":\"1062\"},\"selection_policy\":{\"id\":\"1061\"}},\"id\":\"1043\",\"type\":\"ColumnDataSource\"},{\"attributes\":{},\"id\":\"1062\",\"type\":\"Selection\"},{\"attributes\":{\"bottom_units\":\"screen\",\"coordinates\":null,\"fill_alpha\":0.5,\"fill_color\":\"lightgrey\",\"group\":null,\"left_units\":\"screen\",\"level\":\"overlay\",\"line_alpha\":1.0,\"line_color\":\"black\",\"line_dash\":[4,4],\"line_width\":2,\"right_units\":\"screen\",\"syncable\":false,\"top_units\":\"screen\"},\"id\":\"1028\",\"type\":\"BoxAnnotation\"},{\"attributes\":{\"source\":{\"id\":\"1043\"}},\"id\":\"1051\",\"type\":\"CDSView\"},{\"attributes\":{\"callback\":null,\"renderers\":[{\"id\":\"1050\"}],\"tooltips\":[[\"Link ID\",\"@id\"],[\"Infrastructure\",\"@link_layer\"],[\"Link category\",\"@link_category\"]]},\"id\":\"1068\",\"type\":\"HoverTool\"},{\"attributes\":{},\"id\":\"1015\",\"type\":\"BasicTicker\"},{\"attributes\":{\"fill_alpha\":{\"value\":0.1},\"fill_color\":{\"value\":\"gainsboro\"},\"hatch_alpha\":{\"value\":0.1},\"hatch_color\":{\"value\":\"gainsboro\"},\"line_alpha\":{\"value\":0.1},\"line_color\":{\"value\":\"gainsboro\"},\"marker\":{\"value\":\"square\"},\"size\":{\"value\":5},\"x\":{\"field\":\"x\"},\"y\":{\"field\":\"y\"}},\"id\":\"1039\",\"type\":\"Scatter\"},{\"attributes\":{\"end\":8000,\"start\":1000},\"id\":\"1006\",\"type\":\"Range1d\"},{\"attributes\":{\"label\":{\"field\":\"link_layer\"},\"renderers\":[{\"id\":\"1050\"}]},\"id\":\"1065\",\"type\":\"LegendItem\"},{\"attributes\":{\"axis\":{\"id\":\"1014\"},\"coordinates\":null,\"group\":null,\"ticker\":null,\"visible\":false},\"id\":\"1017\",\"type\":\"Grid\"},{\"attributes\":{\"line_color\":{\"field\":\"link_layer\",\"transform\":{\"id\":\"1044\"}},\"line_width\":{\"value\":1.5},\"xs\":{\"field\":\"x\"},\"ys\":{\"field\":\"y\"}},\"id\":\"1047\",\"type\":\"MultiLine\"},{\"attributes\":{},\"id\":\"1061\",\"type\":\"UnionRenderers\"},{\"attributes\":{\"coordinates\":null,\"formatter\":{\"id\":\"1057\"},\"group\":null,\"major_label_policy\":{\"id\":\"1058\"},\"ticker\":{\"id\":\"1015\"}},\"id\":\"1014\",\"type\":\"LinearAxis\"}],\"root_ids\":[\"1003\"]},\"title\":\"Bokeh Application\",\"version\":\"2.4.1\"}};\n  const render_items = [{\"docid\":\"1797e10a-b8d4-43a4-a8b0-243fc33a2d46\",\"root_ids\":[\"1003\"],\"roots\":{\"1003\":\"0e7951f2-64c9-4e0d-9610-c15ebbc869d5\"}}];\n  root.Bokeh.embed.embed_items_notebook(docs_json, render_items);\n\n  }\n  if (root.Bokeh !== undefined) {\n    embed_document(root);\n  } else {\n    let attempts = 0;\n    const timer = setInterval(function(root) {\n      if (root.Bokeh !== undefined) {\n        clearInterval(timer);\n        embed_document(root);\n      } else {\n        attempts++;\n        if (attempts > 100) {\n          clearInterval(timer);\n          console.log(\"Bokeh: ERROR: Unable to run BokehJS code because BokehJS library is missing\");\n        }\n      }\n    }, 10, root)\n  }\n})(window);",
      "application/vnd.bokehjs_exec.v0+json": ""
     },
     "metadata": {
      "application/vnd.bokehjs_exec.v0+json": {
       "id": "1003"
      }
     },
     "output_type": "display_data"
    }
   ],
   "source": [
    "simple_network.generate_integrated_graph()"
   ]
  },
  {
   "cell_type": "markdown",
   "metadata": {},
   "source": [
    "### Build interdependencies\n",
    "\n",
    "Three types of dependencies:\n",
    "- Power - Water dependencies (eg.: water pump on electric motor, generator on reservoir)\n",
    "- Power - Transportation dependencies (eg.: road access to power system components for M&R)\n",
    "- Water - Transportation dependencies (eg.: road access to water network components for M&R)\n",
    "\n",
    "The dependencies are referenced using two tables in the model.\n",
    "- **wp_table** for water - power dependencies\n",
    "- **access_table** for transportation dependencies"
   ]
  },
  {
   "cell_type": "code",
   "execution_count": 7,
   "metadata": {},
   "outputs": [
    {
     "data": {
      "text/html": [
       "<div>\n",
       "<style scoped>\n",
       "    .dataframe tbody tr th:only-of-type {\n",
       "        vertical-align: middle;\n",
       "    }\n",
       "\n",
       "    .dataframe tbody tr th {\n",
       "        vertical-align: top;\n",
       "    }\n",
       "\n",
       "    .dataframe thead th {\n",
       "        text-align: right;\n",
       "    }\n",
       "</style>\n",
       "<table border=\"1\" class=\"dataframe\">\n",
       "  <thead>\n",
       "    <tr style=\"text-align: right;\">\n",
       "      <th></th>\n",
       "      <th>water_id</th>\n",
       "      <th>power_id</th>\n",
       "      <th>water_type</th>\n",
       "      <th>power_type</th>\n",
       "    </tr>\n",
       "  </thead>\n",
       "  <tbody>\n",
       "    <tr>\n",
       "      <th>0</th>\n",
       "      <td>W_WP9</td>\n",
       "      <td>P_MP1</td>\n",
       "      <td>Pump</td>\n",
       "      <td>Motor</td>\n",
       "    </tr>\n",
       "    <tr>\n",
       "      <th>1</th>\n",
       "      <td>W_R9</td>\n",
       "      <td>P_G3</td>\n",
       "      <td>Reservoir</td>\n",
       "      <td>Generator</td>\n",
       "    </tr>\n",
       "  </tbody>\n",
       "</table>\n",
       "</div>"
      ],
      "text/plain": [
       "  water_id power_id water_type power_type\n",
       "0    W_WP9    P_MP1       Pump      Motor\n",
       "1     W_R9     P_G3  Reservoir  Generator"
      ]
     },
     "execution_count": 7,
     "metadata": {},
     "output_type": "execute_result"
    }
   ],
   "source": [
    "dependency_file = MAIN_DIR/f\"{network_dir}/dependecies.csv\"\n",
    "simple_network.generate_dependency_table(dependency_file = dependency_file)\n",
    "simple_network.dependency_table.wp_table"
   ]
  },
  {
   "cell_type": "code",
   "execution_count": 8,
   "metadata": {},
   "outputs": [
    {
     "data": {
      "text/html": [
       "<div>\n",
       "<style scoped>\n",
       "    .dataframe tbody tr th:only-of-type {\n",
       "        vertical-align: middle;\n",
       "    }\n",
       "\n",
       "    .dataframe tbody tr th {\n",
       "        vertical-align: top;\n",
       "    }\n",
       "\n",
       "    .dataframe thead th {\n",
       "        text-align: right;\n",
       "    }\n",
       "</style>\n",
       "<table border=\"1\" class=\"dataframe\">\n",
       "  <thead>\n",
       "    <tr style=\"text-align: right;\">\n",
       "      <th></th>\n",
       "      <th>origin_id</th>\n",
       "      <th>transp_id</th>\n",
       "      <th>origin_cat</th>\n",
       "      <th>origin_type</th>\n",
       "      <th>access_dist</th>\n",
       "    </tr>\n",
       "  </thead>\n",
       "  <tbody>\n",
       "    <tr>\n",
       "      <th>0</th>\n",
       "      <td>P_B1</td>\n",
       "      <td>T_J2</td>\n",
       "      <td>power</td>\n",
       "      <td>Bus</td>\n",
       "      <td>180.28</td>\n",
       "    </tr>\n",
       "    <tr>\n",
       "      <th>1</th>\n",
       "      <td>P_B2</td>\n",
       "      <td>T_J5</td>\n",
       "      <td>power</td>\n",
       "      <td>Bus</td>\n",
       "      <td>111.80</td>\n",
       "    </tr>\n",
       "    <tr>\n",
       "      <th>2</th>\n",
       "      <td>P_B3</td>\n",
       "      <td>T_J5</td>\n",
       "      <td>power</td>\n",
       "      <td>Bus</td>\n",
       "      <td>141.42</td>\n",
       "    </tr>\n",
       "    <tr>\n",
       "      <th>3</th>\n",
       "      <td>P_B4</td>\n",
       "      <td>T_J8</td>\n",
       "      <td>power</td>\n",
       "      <td>Bus</td>\n",
       "      <td>100.00</td>\n",
       "    </tr>\n",
       "    <tr>\n",
       "      <th>4</th>\n",
       "      <td>P_B5</td>\n",
       "      <td>T_J7</td>\n",
       "      <td>power</td>\n",
       "      <td>Bus</td>\n",
       "      <td>100.00</td>\n",
       "    </tr>\n",
       "  </tbody>\n",
       "</table>\n",
       "</div>"
      ],
      "text/plain": [
       "  origin_id transp_id origin_cat origin_type  access_dist\n",
       "0      P_B1      T_J2      power         Bus       180.28\n",
       "1      P_B2      T_J5      power         Bus       111.80\n",
       "2      P_B3      T_J5      power         Bus       141.42\n",
       "3      P_B4      T_J8      power         Bus       100.00\n",
       "4      P_B5      T_J7      power         Bus       100.00"
      ]
     },
     "execution_count": 8,
     "metadata": {},
     "output_type": "execute_result"
    }
   ],
   "source": [
    "simple_network.dependency_table.access_table.head()"
   ]
  },
  {
   "cell_type": "markdown",
   "metadata": {},
   "source": [
    "### Set failed components"
   ]
  },
  {
   "cell_type": "code",
   "execution_count": 9,
   "metadata": {},
   "outputs": [
    {
     "data": {
      "text/plain": [
       "['T_L2', 'P_MP1', 'W_P21', 'W_WP9']"
      ]
     },
     "execution_count": 9,
     "metadata": {},
     "output_type": "execute_result"
    }
   ],
   "source": [
    "scenario_folder = \"scenarios/test1\"\n",
    "scenario_file = MAIN_DIR/f\"{network_dir}/{scenario_folder}/disruption_file.csv\"\n",
    "\n",
    "simple_network.set_disrupted_components(scenario_file=scenario_file)\n",
    "simple_network.get_disrupted_components()"
   ]
  },
  {
   "cell_type": "code",
   "execution_count": 10,
   "metadata": {},
   "outputs": [],
   "source": [
    "# simple_network.pipe_leak_node_generator()"
   ]
  },
  {
   "cell_type": "markdown",
   "metadata": {},
   "source": [
    "### Set initial crew locations"
   ]
  },
  {
   "cell_type": "code",
   "execution_count": 10,
   "metadata": {},
   "outputs": [
    {
     "name": "stdout",
     "output_type": "stream",
     "text": [
      "Power repair crews successfully deployed.\n",
      "Water repair crews successfully deployed.\n",
      "Transportation repair crews successfully deployed.\n"
     ]
    }
   ],
   "source": [
    "simple_network.deploy_crews(\n",
    "    init_power_crew_locs=['T_J8'], \n",
    "    init_water_crew_locs=['T_J8'],\n",
    "    init_transpo_crew_locs= ['T_J8']\n",
    "    )"
   ]
  },
  {
   "cell_type": "markdown",
   "metadata": {},
   "source": [
    "## Simulation of interdependent effects using a test scenario\n",
    "### (a) Create NetworkRecovery"
   ]
  },
  {
   "cell_type": "code",
   "execution_count": 11,
   "metadata": {},
   "outputs": [],
   "source": [
    "network_recovery = NetworkRecovery(simple_network, sim_step=60, pipe_close_policy=\"repair\")"
   ]
  },
  {
   "cell_type": "markdown",
   "metadata": {},
   "source": [
    "### (b) Create a simulation object"
   ]
  },
  {
   "cell_type": "code",
   "execution_count": 12,
   "metadata": {},
   "outputs": [],
   "source": [
    "sim_step = (\n",
    "    simple_network.wn.options.time.hydraulic_timestep\n",
    ")  # initial_sim_step which will be updated during the simulation\n",
    "bf_simulation = simulation.NetworkSimulation(network_recovery, sim_step)"
   ]
  },
  {
   "cell_type": "markdown",
   "metadata": {},
   "source": [
    "### (c) Generation of random repair order"
   ]
  },
  {
   "cell_type": "code",
   "execution_count": 13,
   "metadata": {},
   "outputs": [],
   "source": [
    "capacity_strategy = strategies.HandlingCapacityStrategy(simple_network)\n",
    "capacity_strategy.set_repair_order()\n",
    "repair_order = capacity_strategy.get_repair_order()\n",
    "\n",
    "import os\n",
    "if not os.path.exists(MAIN_DIR/f\"{network_dir}/{scenario_folder}/capacity\"):\n",
    "    os.makedirs(MAIN_DIR/f\"{network_dir}/{scenario_folder}/capacity\")"
   ]
  },
  {
   "cell_type": "code",
   "execution_count": 14,
   "metadata": {
    "tags": []
   },
   "outputs": [
    {
     "name": "stdout",
     "output_type": "stream",
     "text": [
      "Current repair order is ['T_L2', 'P_MP1', 'W_WP9', 'W_P21']\n"
     ]
    }
   ],
   "source": [
    "#Generate a random repair order\n",
    "# repair_order = network_recovery.network.get_disrupted_components()\n",
    "# random.shuffle(repair_order)\n",
    "print('Current repair order is {}'.format(repair_order))"
   ]
  },
  {
   "cell_type": "markdown",
   "metadata": {},
   "source": [
    "### (d) Generation of event tables"
   ]
  },
  {
   "cell_type": "code",
   "execution_count": 15,
   "metadata": {},
   "outputs": [
    {
     "name": "stdout",
     "output_type": "stream",
     "text": [
      "Repair T_L2: The transpo crew 1 is at T_J8 at t = 100.0 minutes. It takes 19 minutes to reach nearest node T_J2, the nearest transportation node from T_L2.\n",
      "Repair P_MP1: The power crew 1 is at T_J8 at t = 100.0 minutes. It takes 18 minutes to reach nearest node T_J4,  the nearest transportation node from P_MP1.\n",
      "Repair W_WP9: The water crew 1 is at T_J8 at t = 100.0  minutes. It takes 23 minutes to reach nearest node T_J2, the nearest transportation  node from W_WP9.\n",
      "Repair W_P21: The water crew 1 is at T_J2 at t = 843.0  minutes. It takes 19.0 minutes to reach nearest node T_J5, the nearest transportation  node from W_P21 considering time for road link repair.\n",
      "All restoration actions are successfully scheduled.\n"
     ]
    }
   ],
   "source": [
    "bf_simulation.network_recovery.schedule_recovery(repair_order)"
   ]
  },
  {
   "cell_type": "code",
   "execution_count": 16,
   "metadata": {},
   "outputs": [],
   "source": [
    "bf_simulation.expand_event_table(1)"
   ]
  },
  {
   "cell_type": "code",
   "execution_count": 17,
   "metadata": {},
   "outputs": [
    {
     "name": "stdout",
     "output_type": "stream",
     "text": [
      "Total travel times: power: 18 mins, water: 42 min, transportation: 19 mins\n"
     ]
    }
   ],
   "source": [
    "print(f\"Total travel times: power: {network_recovery.power_crew_total_tt} mins, water: {network_recovery.water_crew_total_tt} min, transportation: {network_recovery.transpo_crew_total_tt} mins\")"
   ]
  },
  {
   "cell_type": "code",
   "execution_count": 18,
   "metadata": {},
   "outputs": [
    {
     "data": {
      "text/html": [
       "<div>\n",
       "<style scoped>\n",
       "    .dataframe tbody tr th:only-of-type {\n",
       "        vertical-align: middle;\n",
       "    }\n",
       "\n",
       "    .dataframe tbody tr th {\n",
       "        vertical-align: top;\n",
       "    }\n",
       "\n",
       "    .dataframe thead th {\n",
       "        text-align: right;\n",
       "    }\n",
       "</style>\n",
       "<table border=\"1\" class=\"dataframe\">\n",
       "  <thead>\n",
       "    <tr style=\"text-align: right;\">\n",
       "      <th></th>\n",
       "      <th>time_stamp</th>\n",
       "      <th>components</th>\n",
       "      <th>perf_level</th>\n",
       "      <th>component_state</th>\n",
       "    </tr>\n",
       "  </thead>\n",
       "  <tbody>\n",
       "    <tr>\n",
       "      <th>0</th>\n",
       "      <td>60</td>\n",
       "      <td>T_L2</td>\n",
       "      <td>100</td>\n",
       "      <td>Functional</td>\n",
       "    </tr>\n",
       "    <tr>\n",
       "      <th>1</th>\n",
       "      <td>60</td>\n",
       "      <td>P_MP1</td>\n",
       "      <td>100</td>\n",
       "      <td>Functional</td>\n",
       "    </tr>\n",
       "    <tr>\n",
       "      <th>2</th>\n",
       "      <td>60</td>\n",
       "      <td>W_P21</td>\n",
       "      <td>100</td>\n",
       "      <td>Functional</td>\n",
       "    </tr>\n",
       "    <tr>\n",
       "      <th>3</th>\n",
       "      <td>60</td>\n",
       "      <td>W_WP9</td>\n",
       "      <td>100</td>\n",
       "      <td>Functional</td>\n",
       "    </tr>\n",
       "    <tr>\n",
       "      <th>4</th>\n",
       "      <td>6060</td>\n",
       "      <td>T_L2</td>\n",
       "      <td>50</td>\n",
       "      <td>Service Disrupted</td>\n",
       "    </tr>\n",
       "  </tbody>\n",
       "</table>\n",
       "</div>"
      ],
      "text/plain": [
       "   time_stamp components perf_level    component_state\n",
       "0          60       T_L2        100         Functional\n",
       "1          60      P_MP1        100         Functional\n",
       "2          60      W_P21        100         Functional\n",
       "3          60      W_WP9        100         Functional\n",
       "4        6060       T_L2         50  Service Disrupted"
      ]
     },
     "execution_count": 18,
     "metadata": {},
     "output_type": "execute_result"
    }
   ],
   "source": [
    "bf_simulation.network_recovery.event_table.head()"
   ]
  },
  {
   "cell_type": "markdown",
   "metadata": {},
   "source": [
    "### (e) Simulation of interdependent effects"
   ]
  },
  {
   "cell_type": "code",
   "execution_count": 20,
   "metadata": {},
   "outputs": [
    {
     "name": "stdout",
     "output_type": "stream",
     "text": [
      "Simulating network conditions at 60 s\n",
      "Simulation time:  60.0 ; Hydraulic time step:  60.0 ; Report time step:  60\n",
      "Updating status of directly affected components between 60.0 and 6060.0...\n",
      "******************\n",
      "\n",
      "Simulating network conditions at 6060 s\n",
      "Simulation time:  6060.0 ; Hydraulic time step:  60.0 ; Report time step:  60\n",
      "Updating status of directly affected components between 6060.0 and 7140.0...\n",
      "******************\n",
      "\n",
      "Simulating network conditions at 7140 s\n",
      "Simulation time:  7140.0 ; Hydraulic time step:  60.0 ; Report time step:  60\n",
      "Updating status of directly affected components between 7140.0 and 7260.0...\n",
      "******************\n",
      "\n",
      "Simulating network conditions at 7260 s\n",
      "Simulation time:  7260.0 ; Hydraulic time step:  60.0 ; Report time step:  60\n",
      "Updating status of directly affected components between 7260.0 and 7500.0...\n",
      "******************\n",
      "\n",
      "Simulating network conditions at 7500 s\n",
      "Simulation time:  7500.0 ; Hydraulic time step:  60.0 ; Report time step:  60\n",
      "Updating status of directly affected components between 7500.0 and 50340.0...\n",
      "******************\n",
      "\n",
      "Simulating network conditions at 50340 s\n",
      "Simulation time:  50340.0 ; Hydraulic time step:  60.0 ; Report time step:  60\n",
      "Updating status of directly affected components between 50340.0 and 50460.0...\n",
      "******************\n",
      "\n",
      "Simulating network conditions at 50460 s\n",
      "Simulation time:  50460.0 ; Hydraulic time step:  60.0 ; Report time step:  60\n",
      "Updating status of directly affected components between 50460.0 and 50580.0...\n",
      "******************\n",
      "\n",
      "Simulating network conditions at 50580 s\n",
      "Simulation time:  50580.0 ; Hydraulic time step:  60.0 ; Report time step:  60\n",
      "Updating status of directly affected components between 50580.0 and 50700.0...\n",
      "******************\n",
      "\n",
      "Simulating network conditions at 50700 s\n",
      "Simulation time:  50700.0 ; Hydraulic time step:  60.0 ; Report time step:  60\n",
      "Updating status of directly affected components between 50700.0 and 50820.0...\n",
      "******************\n",
      "\n",
      "Simulating network conditions at 50820 s\n",
      "Simulation time:  50820.0 ; Hydraulic time step:  60.0 ; Report time step:  60\n",
      "Updating status of directly affected components between 50820.0 and 51780.0...\n",
      "******************\n",
      "\n",
      "Simulating network conditions at 51780 s\n",
      "Simulation time:  51780.0 ; Hydraulic time step:  60.0 ; Report time step:  60\n",
      "Updating status of directly affected components between 51780.0 and 69660.0...\n",
      "******************\n",
      "\n",
      "Simulating network conditions at 69660 s\n",
      "Simulation time:  69660.0 ; Hydraulic time step:  60.0 ; Report time step:  60\n",
      "Updating status of directly affected components between 69660.0 and 69780.0...\n",
      "******************\n",
      "\n",
      "Simulating network conditions at 69780 s\n",
      "Simulation time:  69780.0 ; Hydraulic time step:  60.0 ; Report time step:  60\n",
      "Updating status of directly affected components between 69780.0 and 69900.0...\n",
      "******************\n",
      "\n",
      "Simulating network conditions at 69900 s\n",
      "Simulation time:  69900.0 ; Hydraulic time step:  60.0 ; Report time step:  60\n",
      "Updating status of directly affected components between 69900.0 and 86460.0...\n",
      "******************\n",
      "\n",
      "Simulating network conditions at 86460 s\n",
      "Simulation time:  86460.0 ; Hydraulic time step:  60.0 ; Report time step:  60\n",
      "Updating status of directly affected components between 86460.0 and 86700.0...\n",
      "******************\n",
      "\n",
      "Simulating network conditions at 86700 s\n",
      "Simulation time:  86700.0 ; Hydraulic time step:  60.0 ; Report time step:  60\n",
      "Updating status of directly affected components between 86700.0 and 93420.0...\n",
      "******************\n",
      "\n",
      "Simulating network conditions at 93420 s\n",
      "Simulation time:  93420.0 ; Hydraulic time step:  60.0 ; Report time step:  60\n",
      "Updating status of directly affected components between 93420.0 and 93540.0...\n",
      "******************\n",
      "\n",
      "Simulating network conditions at 93540 s\n",
      "Simulation time:  93540.0 ; Hydraulic time step:  60.0 ; Report time step:  60\n",
      "Updating status of directly affected components between 93540.0 and 93660.0...\n",
      "******************\n",
      "\n",
      "Simulating network conditions at 93660 s\n",
      "Simulation time:  93660.0 ; Hydraulic time step:  60.0 ; Report time step:  60\n",
      "Updating status of directly affected components between 93660.0 and 105780.0...\n",
      "******************\n",
      "\n",
      "Simulating network conditions at 105780 s\n",
      "Simulation time:  105780.0 ; Hydraulic time step:  60.0 ; Report time step:  60\n",
      "Updating status of directly affected components between 105780.0 and 129540.0...\n",
      "******************\n",
      "\n"
     ]
    }
   ],
   "source": [
    "resilience_metrics = bf_simulation.simulate_interdependent_effects(\n",
    "    bf_simulation.network_recovery)"
   ]
  },
  {
   "cell_type": "markdown",
   "metadata": {},
   "source": [
    "### (f) Calculation of resilience metric"
   ]
  },
  {
   "cell_type": "code",
   "execution_count": 21,
   "metadata": {},
   "outputs": [
    {
     "name": "stdout",
     "output_type": "stream",
     "text": [
      "The Resilience Metric value based on ECS is 6.279 equivalent outage hours (EOH)\n",
      "The Resilience Metric value based on PCS is 0.927 equivalent outage hours (EOH)\n"
     ]
    }
   ],
   "source": [
    "resilience_metrics.calculate_power_resmetric(network_recovery)"
   ]
  },
  {
   "cell_type": "code",
   "execution_count": 22,
   "metadata": {},
   "outputs": [
    {
     "name": "stdout",
     "output_type": "stream",
     "text": [
      "The Resilience Metric value based on ECS is 22.974 equivalent outage hours (EOH)\n",
      "The Resilience Metric value based on PCS is 22.971 equivalent outage hours (EOH)\n"
     ]
    }
   ],
   "source": [
    "resilience_metrics.calculate_water_resmetrics(network_recovery)"
   ]
  }
 ],
 "metadata": {
  "interpreter": {
   "hash": "d457c6433f18c3837b6e3285bba28c013c3b86deb599c3954950bcdf8f1c827b"
  },
  "kernelspec": {
   "display_name": "Python 3.8.3 64-bit ('redcar': conda)",
   "name": "python3"
  },
  "language_info": {
   "codemirror_mode": {
    "name": "ipython",
    "version": 3
   },
   "file_extension": ".py",
   "mimetype": "text/x-python",
   "name": "python",
   "nbconvert_exporter": "python",
   "pygments_lexer": "ipython3",
   "version": "3.8.3"
  }
 },
 "nbformat": 4,
 "nbformat_minor": 4
}
