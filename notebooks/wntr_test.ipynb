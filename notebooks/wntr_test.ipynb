{
 "cells": [
  {
   "cell_type": "code",
   "execution_count": 2,
   "metadata": {},
   "outputs": [],
   "source": [
    "%load_ext autoreload\n",
    "%autoreload 2"
   ]
  },
  {
   "cell_type": "code",
   "execution_count": 3,
   "metadata": {},
   "outputs": [],
   "source": [
    "import wntr\n",
    "from pathlib import Path\n",
    "import wntr.network.controls as controls\n",
    "from dreaminsg_integrated_model.network_sim_models.interdependencies import *"
   ]
  },
  {
   "cell_type": "code",
   "execution_count": 7,
   "metadata": {},
   "outputs": [
    {
     "output_type": "stream",
     "name": "stdout",
     "text": [
      "Water network successfully loaded.\n",
      "0\n",
      "Simulation time:  120.0 ; Hydraulic time step:  120.0 ; Report time step:  120\n",
      "Performance of '9' is 100\n",
      "Pump:  \t\tstatus =  [0 0] \tflowrate =  [0. 0.]\n",
      "Tank:  \t\tdemand [-0.069 -0.069] \thead =  [295.656 295.611]\n",
      "Pipe from Tank:  status [1 1] \tflowrate =  [0.069 0.069]\n",
      "******************\n",
      "\n",
      "1\n",
      "Simulation time:  120.0 ; Hydraulic time step:  120.0 ; Report time step:  120\n",
      "Performance of '9' is 100\n",
      "Pump:  \t\tstatus =  [0] \tflowrate =  [0.]\n",
      "Tank:  \t\tdemand [-0.069] \thead =  [295.566]\n",
      "Pipe from Tank:  status [1] \tflowrate =  [0.069]\n",
      "******************\n",
      "\n",
      "2\n",
      "Simulation time:  8520.0 ; Hydraulic time step:  120.0 ; Report time step:  8520\n",
      "Performance of '9' is 100\n",
      "Pump:  \t\tstatus =  [1] \tflowrate =  [0.15]\n",
      "Tank:  \t\tdemand [0.08] \thead =  [292.758]\n",
      "Pipe from Tank:  status [1] \tflowrate =  [-0.08]\n",
      "******************\n",
      "\n",
      "3\n",
      "Simulation time:  25320.0 ; Hydraulic time step:  120.0 ; Report time step:  25320\n",
      "Performance of '9' is 25\n",
      "Pump:  \t\tstatus =  [1] \tflowrate =  [0.14]\n",
      "Tank:  \t\tdemand [0.07] \thead =  [299.561]\n",
      "Pipe from Tank:  status [1] \tflowrate =  [-0.07]\n",
      "******************\n",
      "\n",
      "4\n",
      "Simulation time:  50520.0 ; Hydraulic time step:  120.0 ; Report time step:  50520\n",
      "Performance of '9' is 25\n",
      "Pump:  \t\tstatus =  [0] \tflowrate =  [0.]\n",
      "Tank:  \t\tdemand [-0.056] \thead =  [294.577]\n",
      "Pipe from Tank:  status [1] \tflowrate =  [0.056]\n",
      "******************\n",
      "\n"
     ]
    }
   ],
   "source": [
    "network_dir= 'in2'\n",
    "\n",
    "MAIN_DIR = Path('..')\n",
    "#water_file = MAIN_DIR/'dreaminsg_integrated_model/data/networks/examples/water/networks/Net1.inp'\n",
    "water_file = MAIN_DIR/'dreaminsg_integrated_model/data/networks/{}/water/Example_water2.inp'.format(network_dir)\n",
    "\n",
    "step_size = 120\n",
    "try:\n",
    "    wn = wntr.network.WaterNetworkModel(water_file)\n",
    "    wn.options.time.duration = step_size\n",
    "    wn.options.time.report_timestep = step_size\n",
    "    wn.options.time.hydraulic_timestep = step_size\n",
    "    wn.options.hydraulic.demand_model = 'PDA'\n",
    "    total_base_water_demand = sum([wn.get_node(node).base_demand for node in wn.junction_name_list])\n",
    "    print(\"Water network successfully loaded.\")\n",
    "except FileNotFoundError:\n",
    "    print(\"Error: The water network file does not exist. No such file or directory: \", water_file)\n",
    "    \n",
    "time_list = [step_size*70*i for i in range(0,10)]\n",
    "W_WP9_perf = [100, 100, 100, 25, 25, 100, 100]\n",
    "\n",
    "for i in range(0,5):\n",
    "    print(i)\n",
    "    if W_WP9_perf[i] == 100:\n",
    "        wn.get_link('W_WP9').status = 1\n",
    "#     else:\n",
    "        wn.get_link('W_WP9').status = 0\n",
    "    print(\"Simulation time: \", wn.options.time.duration,\"; Hydraulic time step: \", wn.options.time.hydraulic_timestep, \"; Report time step: \", wn.options.time.report_timestep)\n",
    "    wn_sim = wntr.sim.WNTRSimulator(wn)\n",
    "    wn_results = wn_sim.run_sim(convergence_error=True, solver_options = {'MAXITER': 10000})\n",
    "\n",
    "    wn.options.time.duration += time_list[i]\n",
    "    wn.options.time.report_timestep += time_list[i]\n",
    "    \n",
    "    print(\"Performance of '9' is\", W_WP9_perf[i])\n",
    "    print(\"Pump: \", \"\\t\\tstatus = \", wn_results.link['status']['W_WP9'].values, \"\\tflowrate = \", wn_results.link['flowrate']['W_WP9'].values)\n",
    "    print(\"Tank: \", \"\\t\\tdemand\", wn_results.node['demand']['W_T2'].values, \"\\thead = \", wn_results.node['head']['W_T2'].values)\n",
    "    print(\"Pipe from Tank: \", \"status\", wn_results.link['status']['W_P110'].values, \"\\tflowrate = \", wn_results.link['flowrate']['W_P110'].values)\n",
    "    print(\"******************\\n\")\n"
   ]
  },
  {
   "cell_type": "code",
   "execution_count": 14,
   "metadata": {},
   "outputs": [
    {
     "output_type": "stream",
     "name": "stdout",
     "text": [
      "Water network successfully loaded.\n",
      "0\n",
      "Simulation time:  120.0 ; Hydraulic time step:  120.0 ; Report time step:  120\n",
      "Performance of '9' is 100\n",
      "     10  11  12  21  22  31  110  111  112  113  121  122  9\n",
      "0     1   1   1   1   1   1    1    1    1    1    1    1  1\n",
      "120   1   1   1   1   1   1    1    1    1    1    1    1  1\n",
      "Pump:  \t\tstatus =  [1 1] \tflowrate =  [0.118 0.118]\n",
      "Tank:  \t\tdemand [0.048 0.048] \thead =  [295.656 295.687]\n",
      "Pipe from Tank:  status [1 1] \tflowrate =  [-0.048 -0.048]\n",
      "******************\n",
      "\n",
      "1\n",
      "Simulation time:  8520.0 ; Hydraulic time step:  120.0 ; Report time step:  8520\n",
      "Performance of '9' is 25\n",
      "      10  11  12  21  22  31  110  111  112  113  121  122  9\n",
      "8520   1   1   1   1   1   1    1    1    1    1    1    1  0\n",
      "Pump:  \t\tstatus =  [0] \tflowrate =  [0.]\n",
      "Tank:  \t\tdemand [-0.083] \thead =  [297.641]\n",
      "Pipe from Tank:  status [1] \tflowrate =  [0.083]\n",
      "******************\n",
      "\n",
      "2\n",
      "Simulation time:  25320.0 ; Hydraulic time step:  120.0 ; Report time step:  25320\n",
      "Performance of '9' is 25\n",
      "       10  11  12  21  22  31  110  111  112  113  121  122  9\n",
      "25320   1   1   1   1   1   1    0    1    1    1    1    1  0\n",
      "Pump:  \t\tstatus =  [0] \tflowrate =  [0]\n",
      "Tank:  \t\tdemand [0] \thead =  [289.56]\n",
      "Pipe from Tank:  status [0] \tflowrate =  [0]\n",
      "******************\n",
      "\n",
      "3\n",
      "Simulation time:  50520.0 ; Hydraulic time step:  120.0 ; Report time step:  50520\n",
      "Performance of '9' is 25\n",
      "       10  11  12  21  22  31  110  111  112  113  121  122  9\n",
      "50520   1   1   1   1   1   1    0    1    1    1    1    1  0\n",
      "Pump:  \t\tstatus =  [0] \tflowrate =  [0]\n",
      "Tank:  \t\tdemand [0] \thead =  [289.56]\n",
      "Pipe from Tank:  status [0] \tflowrate =  [0]\n",
      "******************\n",
      "\n",
      "4\n",
      "Simulation time:  84120.0 ; Hydraulic time step:  120.0 ; Report time step:  84120\n",
      "Performance of '9' is 25\n",
      "       10  11  12  21  22  31  110  111  112  113  121  122  9\n",
      "84120   1   1   1   1   1   1    0    1    1    1    1    1  0\n",
      "Pump:  \t\tstatus =  [0] \tflowrate =  [0]\n",
      "Tank:  \t\tdemand [0] \thead =  [289.56]\n",
      "Pipe from Tank:  status [0] \tflowrate =  [0]\n",
      "******************\n",
      "\n",
      "5\n",
      "Simulation time:  126120.0 ; Hydraulic time step:  120.0 ; Report time step:  126120\n",
      "Performance of '9' is 25\n",
      "        10  11  12  21  22  31  110  111  112  113  121  122  9\n",
      "126120   1   1   1   1   1   1    0    1    1    1    1    1  0\n",
      "Pump:  \t\tstatus =  [0] \tflowrate =  [0]\n",
      "Tank:  \t\tdemand [0] \thead =  [289.56]\n",
      "Pipe from Tank:  status [0] \tflowrate =  [0]\n",
      "******************\n",
      "\n",
      "6\n",
      "Simulation time:  176520.0 ; Hydraulic time step:  120.0 ; Report time step:  176520\n",
      "Performance of '9' is 100\n",
      "        10  11  12  21  22  31  110  111  112  113  121  122  9\n",
      "176520   1   1   1   1   1   1    1    1    1    1    1    1  1\n",
      "Pump:  \t\tstatus =  [1] \tflowrate =  [0.125]\n",
      "Tank:  \t\tdemand [0.055] \thead =  [289.595]\n",
      "Pipe from Tank:  status [1] \tflowrate =  [-0.055]\n",
      "******************\n",
      "\n",
      "7\n",
      "Simulation time:  235320.0 ; Hydraulic time step:  120.0 ; Report time step:  235320\n",
      "Performance of '9' is 100\n",
      "        10  11  12  21  22  31  110  111  112  113  121  122  9\n",
      "235320   1   1   1   1   1   1    1    1    1    1    1    1  1\n",
      "Pump:  \t\tstatus =  [1] \tflowrate =  [0.11]\n",
      "Tank:  \t\tdemand [0.068] \thead =  [301.707]\n",
      "Pipe from Tank:  status [1] \tflowrate =  [-0.068]\n",
      "******************\n",
      "\n"
     ]
    }
   ],
   "source": [
    "network_dir= 'in2'\n",
    "\n",
    "MAIN_DIR = Path('..')\n",
    "water_file = MAIN_DIR/'dreaminsg_integrated_model/data/networks/examples/water/networks/Net1.inp'\n",
    "#water_file = MAIN_DIR/'dreaminsg_integrated_model/data/networks/{}/water/Example_water2.inp'.format(network_dir)\n",
    "\n",
    "step_size = 120\n",
    "try:\n",
    "    wn = wntr.network.WaterNetworkModel(water_file)\n",
    "    wn.options.time.duration = step_size\n",
    "    wn.options.time.report_timestep = step_size\n",
    "    wn.options.time.hydraulic_timestep = step_size\n",
    "    wn.options.hydraulic.demand_model = 'PDA'\n",
    "    total_base_water_demand = sum([wn.get_node(node).base_demand for node in wn.junction_name_list])\n",
    "    print(\"Water network successfully loaded.\")\n",
    "except FileNotFoundError:\n",
    "    print(\"Error: The water network file does not exist. No such file or directory: \", water_file)\n",
    "\n",
    "interval_list = [step_size*70*i for i in range(1,10)]\n",
    "\n",
    "\n",
    "W_WP9_perf = [100, 25, 25, 25, 25, 25, 100, 100]\n",
    "\n",
    "# pump = wn.get_link('9')\n",
    "# pump.add_outage(wn, 120 + sum(interval_list[0:1]), 120 + sum(interval_list[0:6]))\n",
    "\n",
    "# pump = wn.get_link('9')\n",
    "# tankfull_act = controls.ControlAction(pump, 'status', 0)\n",
    "# tank = wn.get_node('2')\n",
    "# tankfull_cond = controls.ValueCondition(tank, 'level', '<',tank.min_level)\n",
    "# tankfull_ctrl = controls.Control(tankfull_cond, tankfull_act, name='tankfull_ctrl')\n",
    "\n",
    "total_demand = []\n",
    "\n",
    "for i in range(0,8):\n",
    "    print(i)\n",
    "    if W_WP9_perf[i] == 100:\n",
    "        pass\n",
    "    else:\n",
    "        pump = wn.get_link('9')\n",
    "        pump.add_outage(wn, sum(interval_list[0:i]), sum(interval_list[0:i+1]))\n",
    "    print(\"Simulation time: \", wn.options.time.duration,\"; Hydraulic time step: \", wn.options.time.hydraulic_timestep, \"; Report time step: \", wn.options.time.report_timestep)\n",
    "    wn_sim = wntr.sim.WNTRSimulator(wn)\n",
    "    wn_results = wn_sim.run_sim(convergence_error=True, solver_options = {'MAXITER': 5000})\n",
    "\n",
    "    wn.options.time.duration += interval_list[i]\n",
    "    #wn.options.time.hydraulic_timestep += 60.0\n",
    "    wn.options.time.report_timestep += interval_list[i]\n",
    "    print(\"Performance of '9' is\", W_WP9_perf[i])\n",
    "    print(wn_results.link['status'])\n",
    "    \n",
    "    \n",
    "    \n",
    "    print(\"Pump: \", \"\\t\\tstatus = \", wn_results.link['status']['9'].values, \"\\tflowrate = \", wn_results.link['flowrate']['9'].values)\n",
    "    print(\"Tank: \", \"\\t\\tdemand\", wn_results.node['demand']['2'].values, \"\\thead = \", wn_results.node['head']['2'].values)\n",
    "    print(\"Pipe from Tank: \", \"status\", wn_results.link['status']['110'].values, \"\\tflowrate = \", wn_results.link['flowrate']['110'].values)\n",
    "    print(\"******************\\n\")"
   ]
  },
  {
   "cell_type": "code",
   "execution_count": 61,
   "metadata": {},
   "outputs": [
    {
     "data": {
      "text/plain": [
       "<Pump '9' from '9' to '10', pump_type='HEAD', pump_curve=1, speed=<TimeSeries: base=1.0, pattern=None, category='None'>, status=Opened>"
      ]
     },
     "execution_count": 61,
     "metadata": {},
     "output_type": "execute_result"
    }
   ],
   "source": []
  },
  {
   "cell_type": "code",
   "execution_count": 11,
   "metadata": {},
   "outputs": [
    {
     "output_type": "execute_result",
     "data": {
      "text/plain": [
       "100"
      ]
     },
     "metadata": {},
     "execution_count": 11
    }
   ],
   "source": [
    "wn.get_node('2').perf = 100\n",
    "wn.get_node('2').perf"
   ]
  },
  {
   "cell_type": "code",
   "execution_count": 12,
   "metadata": {},
   "outputs": [
    {
     "output_type": "error",
     "ename": "NameError",
     "evalue": "name 'pn' is not defined",
     "traceback": [
      "\u001b[1;31m---------------------------------------------------------------------------\u001b[0m",
      "\u001b[1;31mNameError\u001b[0m                                 Traceback (most recent call last)",
      "\u001b[1;32m<ipython-input-12-f9fdf647de6e>\u001b[0m in \u001b[0;36m<module>\u001b[1;34m\u001b[0m\n\u001b[1;32m----> 1\u001b[1;33m \u001b[0mpn\u001b[0m\u001b[1;33m.\u001b[0m\u001b[0mmotor\u001b[0m\u001b[1;33m\u001b[0m\u001b[1;33m\u001b[0m\u001b[0m\n\u001b[0m",
      "\u001b[1;31mNameError\u001b[0m: name 'pn' is not defined"
     ]
    }
   ],
   "source": [
    "pn.motor"
   ]
  }
 ],
 "metadata": {
  "kernelspec": {
   "display_name": "dreaminsg",
   "language": "python",
   "name": "dreaminsg"
  },
  "language_info": {
   "codemirror_mode": {
    "name": "ipython",
    "version": 3
   },
   "file_extension": ".py",
   "mimetype": "text/x-python",
   "name": "python",
   "nbconvert_exporter": "python",
   "pygments_lexer": "ipython3",
   "version": "3.7.10"
  }
 },
 "nbformat": 4,
 "nbformat_minor": 4
}