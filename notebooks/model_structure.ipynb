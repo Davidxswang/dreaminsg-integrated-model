{
 "cells": [
  {
   "cell_type": "code",
   "execution_count": 3,
   "metadata": {},
   "outputs": [],
   "source": [
    "%load_ext autoreload\n",
    "%autoreload 2"
   ]
  },
  {
   "cell_type": "markdown",
   "metadata": {},
   "source": [
    "## Model structure\n",
    "<img src=\"figures/model_structure.jpeg\" alt=\"Alt text\" width=\"800\" title=\"Title text\" />"
   ]
  },
  {
   "cell_type": "markdown",
   "metadata": {},
   "source": [
    "## Project structure\n",
    "\n",
    "```\n",
    "DREAMINSG_INTEGRATED_MODEL/\n",
    "|-- dreaminsg_integrated_model/\n",
    "|\t|-- data/\n",
    "|\t|\t|-- disruptive_scenarios/\n",
    "|\t|\t|\t|-- disrupt_generator.py\n",
    "|\t|\t|\n",
    "|\t|\t|-- networks/\n",
    "|\t|\t\t|-- examples/\n",
    "|\t|\t\t|-- power/\n",
    "|\t|\t\t|-- water/\n",
    "|\t|\t\t|-- transportation/\n",
    "|\t|\n",
    "|\t|-- network_sim_models/\n",
    "|\t|\t|-- power/power_system_model.py\n",
    "|\t|\t|-- transportation/\n",
    "|\t|\t|-- water/water_network_model.py\n",
    "|\t|\t|-- interdependencies.py\n",
    "|\t|\n",
    "|\t|-- results/\n",
    "|\t|\t|-- figures/plots.py\n",
    "|\t|\n",
    "|\t|-- main.py\n",
    "|\n",
    "|-- notebooks\n",
    "|\t|-- demo.ipynb\n",
    "|\t|-- model_structure.ipynb\n",
    "|\t|-- plots.ipynb\n",
    "|\n",
    "|-- setup.py\n",
    "|-- README.md\n",
    "|-- LICENSE\n",
    "```"
   ]
  },
  {
   "cell_type": "code",
   "execution_count": null,
   "metadata": {},
   "outputs": [],
   "source": []
  }
 ],
 "metadata": {
  "kernelspec": {
   "display_name": "dreaminsg",
   "language": "python",
   "name": "dreaminsg"
  },
  "language_info": {
   "codemirror_mode": {
    "name": "ipython",
    "version": 3
   },
   "file_extension": ".py",
   "mimetype": "text/x-python",
   "name": "python",
   "nbconvert_exporter": "python",
   "pygments_lexer": "ipython3",
   "version": "3.7.10"
  }
 },
 "nbformat": 4,
 "nbformat_minor": 4
}