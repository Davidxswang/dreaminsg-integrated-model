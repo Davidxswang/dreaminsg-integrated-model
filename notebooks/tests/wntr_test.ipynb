{
 "cells": [
  {
   "cell_type": "code",
   "execution_count": 2,
   "source": [
    "%load_ext autoreload\r\n",
    "%autoreload 2"
   ],
   "outputs": [],
   "metadata": {}
  },
  {
   "cell_type": "code",
   "execution_count": 3,
   "source": [
    "import wntr\r\n",
    "from pathlib import Path\r\n",
    "from infrarisk.src.network_sim_models.interdependencies import *\r\n",
    "from infrarisk.src.network_recovery import *\r\n",
    "\r\n",
    "import math\r\n",
    "import copy"
   ],
   "outputs": [],
   "metadata": {}
  },
  {
   "cell_type": "code",
   "execution_count": 4,
   "source": [
    "network_dir= 'micropolis'\r\n",
    "\r\n",
    "MAIN_DIR = Path('../..')\r\n",
    "water_file = MAIN_DIR/'infrarisk/data/networks/{0}/water/water.inp'.format(network_dir)\r\n",
    "\r\n",
    "step_size = 60\r\n",
    "try:\r\n",
    "    wn_original = wntr.network.WaterNetworkModel(water_file)\r\n",
    "    wn_original.options.time.duration = 3600\r\n",
    "    wn_original.options.time.report_timestep = 3600\r\n",
    "    wn_original.options.time.hydraulic_timestep = 60\r\n",
    "    wn_original.options.hydraulic.demand_model = 'DDA'\r\n",
    "    \r\n",
    "    print(\"Water network successfully loaded.\")\r\n",
    "except FileNotFoundError:\r\n",
    "    print(\"Error: The water network file does not exist. No such file or directory: \", water_file)"
   ],
   "outputs": [
    {
     "output_type": "stream",
     "name": "stdout",
     "text": [
      "Water network successfully loaded.\n"
     ]
    },
    {
     "output_type": "stream",
     "name": "stderr",
     "text": [
      "C:\\Users\\srijith\\anaconda3\\envs\\redcar\\lib\\site-packages\\wntr\\epanet\\io.py:2173: UserWarning: Not all curves were used in \"..\\..\\infrarisk\\data\\networks\\micropolis\\water\\water.inp\"; added with type None, units conversion left to user\n",
      "  warnings.warn('Not all curves were used in \"{}\"; added with type None, units conversion left to user'.format(self.wn.name))\n"
     ]
    }
   ],
   "metadata": {}
  },
  {
   "cell_type": "code",
   "execution_count": 26,
   "source": [
    "wn = copy.deepcopy(wn_original)\r\n",
    "components = ['W_PSC282', 'W_PMA535', 'W_PSC1054', 'W_PMA1043']\r\n",
    "#components = ['W_PMA1050', 'W_PMA1118', 'W_PMA609', 'W_PMA608' , 'W_PMA937']\r\n",
    "start_time = 6000\r\n",
    "end_time = 22000\r\n",
    "\r\n",
    "for component in components:\r\n",
    "    wn = wntr.morph.split_pipe(wn,component,f\"{component}_B\",f\"{component}_leak_node\",)\r\n",
    "\r\n",
    "    leak_node = wn.get_node(f\"{component}_leak_node\")\r\n",
    "    leak_node.remove_leak(wn)\r\n",
    "    leak_node.add_leak(wn,area=0.75*(math.pi*(wn.get_link(f\"{component}_B\").diameter)** 2)/4,\r\n",
    "        start_time=start_time,\r\n",
    "        end_time=end_time,\r\n",
    "    )\r\n",
    "\r\n",
    "    link_close_event(wn, component, end_time, \"repairing\")\r\n",
    "    link_open_event(wn, component, end_time + 20000, \"repairing\")"
   ],
   "outputs": [],
   "metadata": {}
  },
  {
   "cell_type": "code",
   "execution_count": 27,
   "source": [
    "while wn.options.time.duration <=  3600*72:\r\n",
    "    #print(\"Simulation time: \", wn.options.time.duration,\"; Hydraulic time step: \", wn.options.time.hydraulic_timestep, \"; Report time step: \", wn.options.time.report_timestep)\r\n",
    "    wn_sim = wntr.sim.WNTRSimulator(wn)\r\n",
    "    wn_results = wn_sim.run_sim(convergence_error=True, solver_options={\"MAXITER\": 10000})\r\n",
    "        \r\n",
    "    #print('failed pipe flowrate: ', wn_results.link['flowrate'][components].values)\r\n",
    "    # print('total leak demand: ', wn_results.node['leak_demand'][[f'{component}_leak_node' for component in components]].values)\r\n",
    "    # print('tank head: ', wn_results.node['head']['W_T1'].values)\r\n",
    "    # print('total pump flow rate: ', wn_results.link['flowrate'][wn.pump_name_list].values)\r\n",
    "    \r\n",
    "    sim_time = wn.options.time.duration\r\n",
    "    node_results = wn_results.node[\"demand\"].iloc[-1]\r\n",
    "\r\n",
    "    water_supplied_at_t = sum([node_results[junc] for junc in wn.junction_name_list])\r\n",
    "    base_demands_at_t = []\r\n",
    "        \r\n",
    "    for junc in wn.junction_name_list:\r\n",
    "        base_demand = wn.get_node(junc).base_demand\r\n",
    "\r\n",
    "        if base_demand != 0:\r\n",
    "            pattern = (\r\n",
    "                wn.get_node(junc)\r\n",
    "                .demand_timeseries_list[0]\r\n",
    "                .pattern.multipliers\r\n",
    "            )\r\n",
    "            pattern_size = len(pattern)\r\n",
    "            pattern_interval = 24 / pattern_size\r\n",
    "            pattern_index = math.floor(\r\n",
    "                (((sim_time) / 3600) % 24) / pattern_interval\r\n",
    "            )\r\n",
    "\r\n",
    "            multiplier = pattern[pattern_index]\r\n",
    "            base_demands_at_t.append(multiplier * base_demand)\r\n",
    "\r\n",
    "    print(\"Time: \",wn.options.time.duration, \"Supply: \", water_supplied_at_t, \"Base demand: \", sum(base_demands_at_t))\r\n",
    "    \r\n",
    "    #print('***************')\r\n",
    "    wn.options.time.duration += 3600"
   ],
   "outputs": [
    {
     "output_type": "stream",
     "name": "stdout",
     "text": [
      "Time:  3600.0 Supply:  0.0360637615782266 Base demand:  0.0360637615782266\n",
      "Time:  7200.0 Supply:  0.03755396575620661 Base demand:  0.03755396575620661\n",
      "Time:  10800.0 Supply:  0.04200915624216557 Base demand:  0.04200915624216557\n",
      "Time:  14400.0 Supply:  0.05251061062948877 Base demand:  0.05251061062948877\n",
      "Time:  18000.0 Supply:  0.06422128205666872 Base demand:  0.06422128205666872\n",
      "Time:  21600.0 Supply:  0.0730451064175469 Base demand:  0.0730451064175469\n",
      "Time:  25200.0 Supply:  0.07611707696436859 Base demand:  0.07622419009773153\n",
      "Time:  28800.0 Supply:  0.08280771753009859 Base demand:  0.082947786528521\n",
      "Time:  32400.0 Supply:  0.08477132602594924 Base demand:  0.0849375511682685\n",
      "Time:  36000.0 Supply:  0.08269113317624172 Base demand:  0.0828666816475733\n",
      "Time:  39600.0 Supply:  0.08286007153028502 Base demand:  0.0830414558447773\n",
      "Time:  43200.0 Supply:  0.08451370051342641 Base demand:  0.08451370051342641\n",
      "Time:  46800.0 Supply:  0.08845564957064983 Base demand:  0.08845564957064983\n",
      "Time:  50400.0 Supply:  0.09269632428449706 Base demand:  0.09269632428449706\n",
      "Time:  54000.0 Supply:  0.09856335161837874 Base demand:  0.09856335161837874\n",
      "Time:  57600.0 Supply:  0.10166367536968288 Base demand:  0.10166367536968288\n",
      "Time:  61200.0 Supply:  0.10024148371866845 Base demand:  0.10024148371866845\n",
      "Time:  64800.0 Supply:  0.0951425800488592 Base demand:  0.0951425800488592\n",
      "Time:  68400.0 Supply:  0.08284929501676656 Base demand:  0.08284929501676656\n",
      "Time:  72000.0 Supply:  0.06232057199109665 Base demand:  0.06232057199109665\n",
      "Time:  75600.0 Supply:  0.05017053430253302 Base demand:  0.05017053430253302\n",
      "Time:  79200.0 Supply:  0.04409977251315763 Base demand:  0.04409977251315763\n",
      "Time:  82800.0 Supply:  0.03852173179489183 Base demand:  0.03852173179489183\n",
      "Time:  86400.0 Supply:  0.0360637615782266 Base demand:  0.0360637615782266\n",
      "Time:  90000.0 Supply:  0.0360637615782266 Base demand:  0.0360637615782266\n",
      "Time:  93600.0 Supply:  0.03755396575620661 Base demand:  0.03755396575620661\n",
      "Time:  97200.0 Supply:  0.04200915624216557 Base demand:  0.04200915624216557\n",
      "Time:  100800.0 Supply:  0.05251061062948877 Base demand:  0.05251061062948877\n",
      "Time:  104400.0 Supply:  0.06422128205666872 Base demand:  0.06422128205666872\n",
      "Time:  108000.0 Supply:  0.0730451064175469 Base demand:  0.0730451064175469\n",
      "Time:  111600.0 Supply:  0.07622419009773153 Base demand:  0.07622419009773153\n",
      "Time:  115200.0 Supply:  0.082947786528521 Base demand:  0.082947786528521\n",
      "Time:  118800.0 Supply:  0.0849375511682685 Base demand:  0.0849375511682685\n",
      "Time:  122400.0 Supply:  0.0828666816475733 Base demand:  0.0828666816475733\n",
      "Time:  126000.0 Supply:  0.0830414558447773 Base demand:  0.0830414558447773\n",
      "Time:  129600.0 Supply:  0.08451370051342641 Base demand:  0.08451370051342641\n",
      "Time:  133200.0 Supply:  0.08845564957064983 Base demand:  0.08845564957064983\n",
      "Time:  136800.0 Supply:  0.09269632428449706 Base demand:  0.09269632428449706\n",
      "Time:  140400.0 Supply:  0.09856335161837874 Base demand:  0.09856335161837874\n",
      "Time:  144000.0 Supply:  0.10166367536968288 Base demand:  0.10166367536968288\n",
      "Time:  147600.0 Supply:  0.10024148371866845 Base demand:  0.10024148371866845\n",
      "Time:  151200.0 Supply:  0.0951425800488592 Base demand:  0.0951425800488592\n",
      "Time:  154800.0 Supply:  0.08284929501676656 Base demand:  0.08284929501676656\n",
      "Time:  158400.0 Supply:  0.06232057199109665 Base demand:  0.06232057199109665\n",
      "Time:  162000.0 Supply:  0.05017053430253302 Base demand:  0.05017053430253302\n",
      "Time:  165600.0 Supply:  0.04409977251315763 Base demand:  0.04409977251315763\n",
      "Time:  169200.0 Supply:  0.03852173179489183 Base demand:  0.03852173179489183\n",
      "Time:  172800.0 Supply:  0.0360637615782266 Base demand:  0.0360637615782266\n",
      "Time:  176400.0 Supply:  0.0360637615782266 Base demand:  0.0360637615782266\n",
      "Time:  180000.0 Supply:  0.03755396575620661 Base demand:  0.03755396575620661\n",
      "Time:  183600.0 Supply:  0.04200915624216557 Base demand:  0.04200915624216557\n",
      "Time:  187200.0 Supply:  0.05251061062948877 Base demand:  0.05251061062948877\n",
      "Time:  190800.0 Supply:  0.06422128205666872 Base demand:  0.06422128205666872\n",
      "Time:  194400.0 Supply:  0.0730451064175469 Base demand:  0.0730451064175469\n",
      "Time:  198000.0 Supply:  0.07622419009773153 Base demand:  0.07622419009773153\n",
      "Time:  201600.0 Supply:  0.082947786528521 Base demand:  0.082947786528521\n",
      "Time:  205200.0 Supply:  0.0849375511682685 Base demand:  0.0849375511682685\n",
      "Time:  208800.0 Supply:  0.0828666816475733 Base demand:  0.0828666816475733\n",
      "Time:  212400.0 Supply:  0.0830414558447773 Base demand:  0.0830414558447773\n",
      "Time:  216000.0 Supply:  0.08451370051342641 Base demand:  0.08451370051342641\n",
      "Time:  219600.0 Supply:  0.08845564957064983 Base demand:  0.08845564957064983\n",
      "Time:  223200.0 Supply:  0.09269632428449706 Base demand:  0.09269632428449706\n",
      "Time:  226800.0 Supply:  0.09856335161837874 Base demand:  0.09856335161837874\n",
      "Time:  230400.0 Supply:  0.10166367536968288 Base demand:  0.10166367536968288\n",
      "Time:  234000.0 Supply:  0.10024148371866845 Base demand:  0.10024148371866845\n",
      "Time:  237600.0 Supply:  0.0951425800488592 Base demand:  0.0951425800488592\n",
      "Time:  241200.0 Supply:  0.08284929501676656 Base demand:  0.08284929501676656\n",
      "Time:  244800.0 Supply:  0.06232057199109665 Base demand:  0.06232057199109665\n",
      "Time:  248400.0 Supply:  0.05017053430253302 Base demand:  0.05017053430253302\n",
      "Time:  252000.0 Supply:  0.04409977251315763 Base demand:  0.04409977251315763\n",
      "Time:  255600.0 Supply:  0.03852173179489183 Base demand:  0.03852173179489183\n",
      "Time:  259200.0 Supply:  0.0360637615782266 Base demand:  0.0360637615782266\n"
     ]
    }
   ],
   "metadata": {}
  },
  {
   "cell_type": "code",
   "execution_count": 19,
   "source": [
    "pattern_size = 12\r\n",
    "sim_time = 7200\r\n",
    "pattern_interval = 24 / pattern_size\r\n",
    "pattern_index = math.floor(\r\n",
    "    (((sim_time) / 3600) % 24) / pattern_interval\r\n",
    ")\r\n",
    "pattern_index"
   ],
   "outputs": [
    {
     "output_type": "execute_result",
     "data": {
      "text/plain": [
       "1"
      ]
     },
     "metadata": {},
     "execution_count": 19
    }
   ],
   "metadata": {}
  },
  {
   "cell_type": "code",
   "execution_count": null,
   "source": [
    "wn_results.node['demand'].to_csv('results.csv')"
   ],
   "outputs": [],
   "metadata": {}
  },
  {
   "cell_type": "code",
   "execution_count": null,
   "source": [
    "stop"
   ],
   "outputs": [],
   "metadata": {}
  },
  {
   "cell_type": "code",
   "execution_count": null,
   "source": [
    "t = 86400\r\n",
    "node_results = wn_results.node['demand'].iloc[-1]\r\n",
    "\r\n",
    "water_supplied = sum([node_results[junc] for junc in wn.junction_name_list])\r\n",
    "\r\n",
    "base_demands_at_t = []\r\n",
    "\r\n",
    "for junc in wn.junction_name_list:\r\n",
    "    base_demand = wn.get_node(junc).base_demand\r\n",
    "    \r\n",
    "    if base_demand != 0:\r\n",
    "        demand = node_results[junc]\r\n",
    "        pattern = wn.get_node(junc).demand_timeseries_list[0].pattern.multipliers\r\n",
    "        #print(pattern)\r\n",
    "        pattern_size = len(pattern)\r\n",
    "        pattern_interval = 24/pattern_size\r\n",
    "        \r\n",
    "        pattern_index = math.ceil(((t/3600)%86400) / pattern_interval)\r\n",
    "        multiplier = pattern[pattern_index-1]\r\n",
    "        base_demands_at_t.append(multiplier*base_demand)\r\n",
    "        \r\n",
    "\r\n",
    "water_resmetric = water_supplied/sum(base_demands_at_t)\r\n",
    "print(water_resmetric)"
   ],
   "outputs": [
    {
     "output_type": "stream",
     "name": "stdout",
     "text": [
      "1.0\n"
     ]
    }
   ],
   "metadata": {}
  },
  {
   "cell_type": "code",
   "execution_count": null,
   "source": [
    "wn.pump_name_list"
   ],
   "outputs": [
    {
     "output_type": "execute_result",
     "data": {
      "text/plain": [
       "['W_WP1', 'W_WP2', 'W_WP3', 'W_WP4', 'W_WP5', 'W_WP6', 'W_WP7', 'W_WP8']"
      ]
     },
     "metadata": {},
     "execution_count": 171
    }
   ],
   "metadata": {}
  }
 ],
 "metadata": {
  "kernelspec": {
   "name": "python3",
   "display_name": "Python 3.8.3 64-bit ('redcar': conda)"
  },
  "language_info": {
   "codemirror_mode": {
    "name": "ipython",
    "version": 3
   },
   "file_extension": ".py",
   "mimetype": "text/x-python",
   "name": "python",
   "nbconvert_exporter": "python",
   "pygments_lexer": "ipython3",
   "version": "3.8.3"
  },
  "interpreter": {
   "hash": "d457c6433f18c3837b6e3285bba28c013c3b86deb599c3954950bcdf8f1c827b"
  }
 },
 "nbformat": 4,
 "nbformat_minor": 4
}