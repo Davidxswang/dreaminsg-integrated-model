{
 "cells": [
  {
   "cell_type": "code",
   "execution_count": 1,
   "source": [
    "%load_ext autoreload\r\n",
    "%autoreload 2"
   ],
   "outputs": [],
   "metadata": {}
  },
  {
   "cell_type": "code",
   "execution_count": 2,
   "source": [
    "import wntr\r\n",
    "from pathlib import Path\r\n",
    "import wntr.network.controls as controls\r\n",
    "from dreaminsg_integrated_model.src.network_sim_models.interdependencies import *\r\n",
    "from dreaminsg_integrated_model.src.network_recovery import *\r\n",
    "import pandapower as pp\r\n",
    "\r\n",
    "import math\r\n",
    "import pandapower.plotting as pandaplot\r\n",
    "import copy"
   ],
   "outputs": [],
   "metadata": {}
  },
  {
   "cell_type": "code",
   "execution_count": 3,
   "source": [
    "network_dir= 'micropolis'\r\n",
    "\r\n",
    "MAIN_DIR = Path('../..')\r\n",
    "water_file = MAIN_DIR/'dreaminsg_integrated_model/data/networks/{0}/water/water.inp'.format(network_dir)\r\n",
    "\r\n",
    "step_size = 60\r\n",
    "try:\r\n",
    "    wn_original = wntr.network.WaterNetworkModel(water_file)\r\n",
    "    wn_original.options.time.duration = 3600\r\n",
    "    wn_original.options.time.report_timestep = 3600\r\n",
    "    wn_original.options.time.hydraulic_timestep = 60\r\n",
    "    wn_original.options.hydraulic.demand_model = 'DDA'\r\n",
    "    \r\n",
    "    print(\"Water network successfully loaded.\")\r\n",
    "except FileNotFoundError:\r\n",
    "    print(\"Error: The water network file does not exist. No such file or directory: \", water_file)"
   ],
   "outputs": [
    {
     "output_type": "stream",
     "name": "stdout",
     "text": [
      "Water network successfully loaded.\n"
     ]
    },
    {
     "output_type": "stream",
     "name": "stderr",
     "text": [
      "C:\\Users\\srijith\\anaconda3\\envs\\redcar\\lib\\site-packages\\wntr\\epanet\\io.py:2173: UserWarning: Not all curves were used in \"..\\..\\dreaminsg_integrated_model\\data\\networks\\micropolis\\water\\water.inp\"; added with type None, units conversion left to user\n",
      "  warnings.warn('Not all curves were used in \"{}\"; added with type None, units conversion left to user'.format(self.wn.name))\n"
     ]
    }
   ],
   "metadata": {}
  },
  {
   "cell_type": "code",
   "execution_count": 10,
   "source": [
    "wn = copy.deepcopy(wn_original)\r\n",
    "components = ['W_PMA1050', 'W_PMA1118', 'W_PMA609', 'W_PMA608' , 'W_PMA937']\r\n",
    "start_time = 6000\r\n",
    "end_time = 22000\r\n",
    "\r\n",
    "for component in components:\r\n",
    "    wn = wntr.morph.split_pipe(wn,component,f\"{component}_B\",f\"{component}_leak_node\",)\r\n",
    "\r\n",
    "    leak_node = wn.get_node(f\"{component}_leak_node\")\r\n",
    "    leak_node.remove_leak(wn)\r\n",
    "    leak_node.add_leak(wn,area=0.75*(math.pi*(wn.get_link(f\"{component}_B\").diameter)** 2)/4,\r\n",
    "        start_time=start_time,\r\n",
    "        end_time=end_time,\r\n",
    "    )\r\n",
    "\r\n",
    "    link_close_event(wn, component, end_time, \"repairing\")\r\n",
    "    link_open_event(wn, component, end_time + 20000, \"repairing\")"
   ],
   "outputs": [],
   "metadata": {}
  },
  {
   "cell_type": "code",
   "execution_count": 11,
   "source": [
    "while wn.options.time.duration <=  3600*48:\r\n",
    "    print(\"Simulation time: \", wn.options.time.duration,\"; Hydraulic time step: \", wn.options.time.hydraulic_timestep, \"; Report time step: \", wn.options.time.report_timestep)\r\n",
    "    wn_sim = wntr.sim.WNTRSimulator(wn)\r\n",
    "    wn_results = wn_sim.run_sim(convergence_error=True, solver_options={\"MAXITER\": 10000})\r\n",
    "\r\n",
    "    print('failed pipe flowrate: ', wn_results.link['flowrate'][components].values)\r\n",
    "    print('total leak demand: ', wn_results.node['leak_demand'][[f'{component}_leak_node' for component in components]].values)\r\n",
    "    print('tank head: ', wn_results.node['head']['W_T1'].values)\r\n",
    "    print('total pump flow rate: ', wn_results.link['flowrate'][wn.pump_name_list].values)\r\n",
    "    print('***************')\r\n",
    "    wn.options.time.duration += 3600"
   ],
   "outputs": [
    {
     "output_type": "stream",
     "name": "stdout",
     "text": [
      "Simulation time:  3600.0 ; Hydraulic time step:  60.0 ; Report time step:  3600\n",
      "failed pipe flowrate:  [[-0.001 -0.003 -0.004  0.002 -0.001]\n",
      " [-0.001 -0.003 -0.004  0.002 -0.001]]\n",
      "total leak demand:  [[0. 0. 0. 0. 0.]\n",
      " [0. 0. 0. 0. 0.]]\n",
      "tank head:  [352.044 352.681]\n",
      "total pump flow rate:  [[0.001 0.001 0.001 0.001 0.068 0.    0.    0.064]\n",
      " [0.001 0.001 0.001 0.001 0.068 0.    0.    0.064]]\n",
      "***************\n",
      "Simulation time:  7200.0 ; Hydraulic time step:  60.0 ; Report time step:  3600\n",
      "failed pipe flowrate:  [[ 0.009  0.015  0.012 -0.006  0.018]]\n",
      "total leak demand:  [[0.007 0.012 0.071 0.003 0.023]]\n",
      "tank head:  [352.573]\n",
      "total pump flow rate:  [[0.002 0.002 0.002 0.002 0.074 0.    0.    0.064]]\n",
      "***************\n",
      "Simulation time:  10800.0 ; Hydraulic time step:  60.0 ; Report time step:  3600\n",
      "failed pipe flowrate:  [[ 0.009  0.015  0.014 -0.006  0.017]]\n",
      "total leak demand:  [[0.006 0.01  0.07  0.003 0.022]]\n",
      "tank head:  [351.021]\n",
      "total pump flow rate:  [[0.003 0.003 0.003 0.003 0.074 0.    0.    0.064]]\n",
      "***************\n",
      "Simulation time:  14400.0 ; Hydraulic time step:  60.0 ; Report time step:  3600\n",
      "failed pipe flowrate:  [[ 0.009  0.014  0.018 -0.006  0.016]]\n",
      "total leak demand:  [[0.006 0.005 0.069 0.003 0.021]]\n",
      "tank head:  [349.496]\n",
      "total pump flow rate:  [[0.003 0.003 0.003 0.003 0.075 0.    0.    0.064]]\n",
      "***************\n",
      "Simulation time:  18000.0 ; Hydraulic time step:  60.0 ; Report time step:  3600\n",
      "failed pipe flowrate:  [[ 0.009  0.014  0.022 -0.006  0.016]]\n",
      "total leak demand:  [[0.006 0.    0.067 0.003 0.019]]\n",
      "tank head:  [347.931]\n",
      "total pump flow rate:  [[0.003 0.003 0.003 0.003 0.076 0.    0.    0.064]]\n",
      "***************\n",
      "Simulation time:  21600.0 ; Hydraulic time step:  60.0 ; Report time step:  3600\n",
      "failed pipe flowrate:  [[ 0.009  0.014  0.022 -0.006  0.015]]\n",
      "total leak demand:  [[ 6.042e-03 -1.545e-13  6.295e-02  2.567e-03  1.802e-02]]\n",
      "tank head:  [346.319]\n",
      "total pump flow rate:  [[0.003 0.003 0.003 0.003 0.077 0.    0.    0.064]]\n",
      "***************\n",
      "Simulation time:  25200.0 ; Hydraulic time step:  60.0 ; Report time step:  3600\n",
      "failed pipe flowrate:  [[0. 0. 0. 0. 0.]]\n",
      "total leak demand:  [[0. 0. 0. 0. 0.]]\n",
      "tank head:  [346.133]\n",
      "total pump flow rate:  [[0.002 0.002 0.002 0.002 0.073 0.    0.    0.064]]\n",
      "***************\n",
      "Simulation time:  28800.0 ; Hydraulic time step:  60.0 ; Report time step:  3600\n",
      "failed pipe flowrate:  [[0. 0. 0. 0. 0.]]\n",
      "total leak demand:  [[0. 0. 0. 0. 0.]]\n",
      "tank head:  [346.073]\n",
      "total pump flow rate:  [[0.002 0.002 0.002 0.002 0.073 0.    0.    0.064]]\n",
      "***************\n",
      "Simulation time:  32400.0 ; Hydraulic time step:  60.0 ; Report time step:  3600\n",
      "failed pipe flowrate:  [[0. 0. 0. 0. 0.]]\n",
      "total leak demand:  [[0. 0. 0. 0. 0.]]\n",
      "tank head:  [345.885]\n",
      "total pump flow rate:  [[0.002 0.002 0.002 0.002 0.073 0.    0.    0.064]]\n",
      "***************\n",
      "Simulation time:  36000.0 ; Hydraulic time step:  60.0 ; Report time step:  3600\n",
      "failed pipe flowrate:  [[0. 0. 0. 0. 0.]]\n",
      "total leak demand:  [[0. 0. 0. 0. 0.]]\n",
      "tank head:  [345.66]\n",
      "total pump flow rate:  [[0.002 0.002 0.002 0.002 0.073 0.    0.    0.064]]\n",
      "***************\n",
      "Simulation time:  39600.0 ; Hydraulic time step:  60.0 ; Report time step:  3600\n",
      "failed pipe flowrate:  [[0. 0. 0. 0. 0.]]\n",
      "total leak demand:  [[0. 0. 0. 0. 0.]]\n",
      "tank head:  [345.476]\n",
      "total pump flow rate:  [[0.002 0.002 0.002 0.002 0.074 0.    0.    0.064]]\n",
      "***************\n",
      "Simulation time:  43200.0 ; Hydraulic time step:  60.0 ; Report time step:  3600\n",
      "failed pipe flowrate:  [[1.083e-04 1.778e-05 4.398e-05 5.551e-05 5.181e-05]]\n",
      "total leak demand:  [[0. 0. 0. 0. 0.]]\n",
      "tank head:  [345.29]\n",
      "total pump flow rate:  [[0.003 0.003 0.003 0.003 0.074 0.    0.    0.064]]\n",
      "***************\n",
      "Simulation time:  46800.0 ; Hydraulic time step:  60.0 ; Report time step:  3600\n",
      "failed pipe flowrate:  [[ 0.001  0.001  0.001 -0.     0.   ]]\n",
      "total leak demand:  [[0. 0. 0. 0. 0.]]\n",
      "tank head:  [345.078]\n",
      "total pump flow rate:  [[0.003 0.003 0.003 0.003 0.074 0.    0.    0.064]]\n",
      "***************\n",
      "Simulation time:  50400.0 ; Hydraulic time step:  60.0 ; Report time step:  3600\n",
      "failed pipe flowrate:  [[ 0.001  0.002  0.002 -0.001  0.001]]\n",
      "total leak demand:  [[0. 0. 0. 0. 0.]]\n",
      "tank head:  [344.794]\n",
      "total pump flow rate:  [[0.003 0.003 0.003 0.003 0.074 0.    0.    0.064]]\n",
      "***************\n",
      "Simulation time:  54000.0 ; Hydraulic time step:  60.0 ; Report time step:  3600\n",
      "failed pipe flowrate:  [[ 0.002  0.003  0.004 -0.002  0.001]]\n",
      "total leak demand:  [[0. 0. 0. 0. 0.]]\n",
      "tank head:  [344.433]\n",
      "total pump flow rate:  [[0.003 0.003 0.003 0.003 0.075 0.    0.    0.064]]\n",
      "***************\n",
      "Simulation time:  57600.0 ; Hydraulic time step:  60.0 ; Report time step:  3600\n",
      "failed pipe flowrate:  [[ 0.     0.001  0.001 -0.     0.   ]]\n",
      "total leak demand:  [[0. 0. 0. 0. 0.]]\n",
      "tank head:  [344.424]\n",
      "total pump flow rate:  [[0.009 0.009 0.009 0.009 0.102 0.    0.    0.064]]\n",
      "***************\n",
      "Simulation time:  61200.0 ; Hydraulic time step:  60.0 ; Report time step:  3600\n",
      "failed pipe flowrate:  [[ 0.001  0.001  0.002 -0.001  0.   ]]\n",
      "total leak demand:  [[0. 0. 0. 0. 0.]]\n",
      "tank head:  [344.424]\n",
      "total pump flow rate:  [[0.009 0.009 0.009 0.009 0.1   0.    0.    0.064]]\n",
      "***************\n",
      "Simulation time:  64800.0 ; Hydraulic time step:  60.0 ; Report time step:  3600\n",
      "failed pipe flowrate:  [[ 0.001  0.002  0.002 -0.001  0.001]]\n",
      "total leak demand:  [[0. 0. 0. 0. 0.]]\n",
      "tank head:  [344.424]\n",
      "total pump flow rate:  [[0.008 0.008 0.008 0.008 0.095 0.    0.    0.064]]\n",
      "***************\n",
      "Simulation time:  68400.0 ; Hydraulic time step:  60.0 ; Report time step:  3600\n",
      "failed pipe flowrate:  [[ 0.001  0.002  0.002 -0.001  0.001]]\n",
      "total leak demand:  [[0. 0. 0. 0. 0.]]\n",
      "tank head:  [344.424]\n",
      "total pump flow rate:  [[0.005 0.005 0.005 0.005 0.083 0.    0.    0.064]]\n",
      "***************\n",
      "Simulation time:  72000.0 ; Hydraulic time step:  60.0 ; Report time step:  3600\n",
      "failed pipe flowrate:  [[-4.238e-05 -2.287e-04 -2.660e-04  2.490e-04 -3.320e-05]]\n",
      "total leak demand:  [[0. 0. 0. 0. 0.]]\n",
      "tank head:  [344.424]\n",
      "total pump flow rate:  [[0.002 0.002 0.002 0.002 0.074 0.    0.    0.064]]\n",
      "***************\n",
      "Simulation time:  75600.0 ; Hydraulic time step:  60.0 ; Report time step:  3600\n",
      "failed pipe flowrate:  [[-0.001 -0.002 -0.002  0.001 -0.   ]]\n",
      "total leak demand:  [[0. 0. 0. 0. 0.]]\n",
      "tank head:  [344.646]\n",
      "total pump flow rate:  [[0.002 0.002 0.002 0.002 0.073 0.    0.    0.064]]\n",
      "***************\n",
      "Simulation time:  79200.0 ; Hydraulic time step:  60.0 ; Report time step:  3600\n",
      "failed pipe flowrate:  [[-0.001 -0.002 -0.003  0.001 -0.   ]]\n",
      "total leak demand:  [[0. 0. 0. 0. 0.]]\n",
      "tank head:  [345.096]\n",
      "total pump flow rate:  [[0.002 0.002 0.002 0.002 0.073 0.    0.    0.064]]\n",
      "***************\n",
      "Simulation time:  82800.0 ; Hydraulic time step:  60.0 ; Report time step:  3600\n",
      "failed pipe flowrate:  [[-0.001 -0.003 -0.004  0.002 -0.001]]\n",
      "total leak demand:  [[0. 0. 0. 0. 0.]]\n",
      "tank head:  [345.656]\n",
      "total pump flow rate:  [[0.002 0.002 0.002 0.002 0.072 0.    0.    0.064]]\n",
      "***************\n",
      "Simulation time:  86400.0 ; Hydraulic time step:  60.0 ; Report time step:  3600\n",
      "failed pipe flowrate:  [[-0.001 -0.003 -0.004  0.002 -0.001]]\n",
      "total leak demand:  [[0. 0. 0. 0. 0.]]\n",
      "tank head:  [346.316]\n",
      "total pump flow rate:  [[0.002 0.002 0.002 0.002 0.072 0.    0.    0.064]]\n",
      "***************\n",
      "Simulation time:  90000.0 ; Hydraulic time step:  60.0 ; Report time step:  3600\n",
      "failed pipe flowrate:  [[-0.001 -0.003 -0.004  0.002 -0.001]]\n",
      "total leak demand:  [[0. 0. 0. 0. 0.]]\n",
      "tank head:  [347.015]\n",
      "total pump flow rate:  [[0.002 0.002 0.002 0.002 0.071 0.    0.    0.064]]\n",
      "***************\n",
      "Simulation time:  93600.0 ; Hydraulic time step:  60.0 ; Report time step:  3600\n",
      "failed pipe flowrate:  [[-0.001 -0.003 -0.004  0.002 -0.001]]\n",
      "total leak demand:  [[0. 0. 0. 0. 0.]]\n",
      "tank head:  [347.706]\n",
      "total pump flow rate:  [[0.002 0.002 0.002 0.002 0.071 0.    0.    0.064]]\n",
      "***************\n",
      "Simulation time:  97200.0 ; Hydraulic time step:  60.0 ; Report time step:  3600\n",
      "failed pipe flowrate:  [[-0.001 -0.002 -0.003  0.001 -0.001]]\n",
      "total leak demand:  [[0. 0. 0. 0. 0.]]\n",
      "tank head:  [348.362]\n",
      "total pump flow rate:  [[0.002 0.002 0.002 0.002 0.071 0.    0.    0.064]]\n",
      "***************\n",
      "Simulation time:  100800.0 ; Hydraulic time step:  60.0 ; Report time step:  3600\n",
      "failed pipe flowrate:  [[-0.    -0.001 -0.002  0.001 -0.   ]]\n",
      "total leak demand:  [[0. 0. 0. 0. 0.]]\n",
      "tank head:  [348.927]\n",
      "total pump flow rate:  [[0.002 0.002 0.002 0.002 0.071 0.    0.    0.064]]\n",
      "***************\n",
      "Simulation time:  104400.0 ; Hydraulic time step:  60.0 ; Report time step:  3600\n"
     ]
    }
   ],
   "metadata": {}
  },
  {
   "cell_type": "code",
   "execution_count": null,
   "source": [
    "wn_results.node['demand'].to_csv('results.csv')"
   ],
   "outputs": [],
   "metadata": {}
  },
  {
   "cell_type": "code",
   "execution_count": null,
   "source": [
    "stop"
   ],
   "outputs": [],
   "metadata": {}
  },
  {
   "cell_type": "code",
   "execution_count": null,
   "source": [
    "t = 86400\r\n",
    "node_results = wn_results.node['demand'].iloc[-1]\r\n",
    "\r\n",
    "water_supplied = sum([node_results[junc] for junc in wn.junction_name_list])\r\n",
    "\r\n",
    "base_demands_at_t = []\r\n",
    "\r\n",
    "for junc in wn.junction_name_list:\r\n",
    "    base_demand = wn.get_node(junc).base_demand\r\n",
    "    \r\n",
    "    if base_demand != 0:\r\n",
    "        demand = node_results[junc]\r\n",
    "        pattern = wn.get_node(junc).demand_timeseries_list[0].pattern.multipliers\r\n",
    "        #print(pattern)\r\n",
    "        pattern_size = len(pattern)\r\n",
    "        pattern_interval = 24/pattern_size\r\n",
    "        \r\n",
    "        pattern_index = math.ceil(((t/3600)%86400) / pattern_interval)\r\n",
    "        multiplier = pattern[pattern_index-1]\r\n",
    "        base_demands_at_t.append(multiplier*base_demand)\r\n",
    "        \r\n",
    "\r\n",
    "water_resmetric = water_supplied/sum(base_demands_at_t)\r\n",
    "print(water_resmetric)"
   ],
   "outputs": [
    {
     "output_type": "stream",
     "name": "stdout",
     "text": [
      "1.0\n"
     ]
    }
   ],
   "metadata": {}
  },
  {
   "cell_type": "code",
   "execution_count": null,
   "source": [
    "wn.pump_name_list"
   ],
   "outputs": [
    {
     "output_type": "execute_result",
     "data": {
      "text/plain": [
       "['W_WP1', 'W_WP2', 'W_WP3', 'W_WP4', 'W_WP5', 'W_WP6', 'W_WP7', 'W_WP8']"
      ]
     },
     "metadata": {},
     "execution_count": 171
    }
   ],
   "metadata": {}
  }
 ],
 "metadata": {
  "kernelspec": {
   "name": "python3",
   "display_name": "Python 3.8.3 64-bit ('redcar': conda)"
  },
  "language_info": {
   "codemirror_mode": {
    "name": "ipython",
    "version": 3
   },
   "file_extension": ".py",
   "mimetype": "text/x-python",
   "name": "python",
   "nbconvert_exporter": "python",
   "pygments_lexer": "ipython3",
   "version": "3.8.3"
  },
  "interpreter": {
   "hash": "d457c6433f18c3837b6e3285bba28c013c3b86deb599c3954950bcdf8f1c827b"
  }
 },
 "nbformat": 4,
 "nbformat_minor": 4
}