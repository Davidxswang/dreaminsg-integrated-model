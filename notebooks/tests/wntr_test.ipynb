{
 "cells": [
  {
   "cell_type": "code",
   "execution_count": 161,
   "source": [
    "%load_ext autoreload\r\n",
    "%autoreload 2"
   ],
   "outputs": [
    {
     "output_type": "stream",
     "name": "stdout",
     "text": [
      "The autoreload extension is already loaded. To reload it, use:\n",
      "  %reload_ext autoreload\n"
     ]
    }
   ],
   "metadata": {}
  },
  {
   "cell_type": "code",
   "execution_count": 162,
   "source": [
    "import wntr\r\n",
    "from pathlib import Path\r\n",
    "import wntr.network.controls as controls\r\n",
    "from dreaminsg_integrated_model.src.network_sim_models.interdependencies import *\r\n",
    "from dreaminsg_integrated_model.src.network_recovery import *\r\n",
    "import pandapower as pp\r\n",
    "\r\n",
    "import math\r\n",
    "import pandapower.plotting as pandaplot"
   ],
   "outputs": [],
   "metadata": {}
  },
  {
   "cell_type": "code",
   "execution_count": 163,
   "source": [
    "network_dir= 'micropolis'\r\n",
    "\r\n",
    "MAIN_DIR = Path('../..')\r\n",
    "water_file = MAIN_DIR/'dreaminsg_integrated_model/data/networks/{0}/water/water.inp'.format(network_dir)\r\n",
    "\r\n",
    "step_size = 3600\r\n",
    "try:\r\n",
    "    wn = wntr.network.WaterNetworkModel(water_file)\r\n",
    "    wn.options.time.duration = 3600*24\r\n",
    "    wn.options.time.report_timestep = step_size\r\n",
    "    wn.options.time.hydraulic_timestep = step_size\r\n",
    "    wn.options.hydraulic.demand_model = 'DDA'\r\n",
    "    \r\n",
    "    print(\"Water network successfully loaded.\")\r\n",
    "except FileNotFoundError:\r\n",
    "    print(\"Error: The water network file does not exist. No such file or directory: \", water_file)"
   ],
   "outputs": [
    {
     "output_type": "stream",
     "name": "stdout",
     "text": [
      "Water network successfully loaded.\n"
     ]
    },
    {
     "output_type": "stream",
     "name": "stderr",
     "text": [
      "C:\\Users\\srijith\\anaconda3\\envs\\redcar\\lib\\site-packages\\wntr\\epanet\\io.py:2173: UserWarning: Not all curves were used in \"..\\..\\dreaminsg_integrated_model\\data\\networks\\micropolis\\water\\water.inp\"; added with type None, units conversion left to user\n",
      "  warnings.warn('Not all curves were used in \"{}\"; added with type None, units conversion left to user'.format(self.wn.name))\n"
     ]
    }
   ],
   "metadata": {}
  },
  {
   "cell_type": "code",
   "execution_count": 164,
   "source": [
    "[wn.get_link(pump).status for pump in wn.pump_name_list]"
   ],
   "outputs": [
    {
     "output_type": "execute_result",
     "data": {
      "text/plain": [
       "[<LinkStatus.Opened: 1>,\n",
       " <LinkStatus.Opened: 1>,\n",
       " <LinkStatus.Opened: 1>,\n",
       " <LinkStatus.Opened: 1>,\n",
       " <LinkStatus.Opened: 1>,\n",
       " <LinkStatus.Closed: 0>,\n",
       " <LinkStatus.Closed: 0>,\n",
       " <LinkStatus.Opened: 1>]"
      ]
     },
     "metadata": {},
     "execution_count": 164
    }
   ],
   "metadata": {}
  },
  {
   "cell_type": "code",
   "execution_count": 165,
   "source": [
    "# ax = wntr.graphics.plot_network(wn, node_attribute='base_demand',\r\n",
    "# node_colorbar_label='Base demand', node_size = 0.5, link_width = 0.5)"
   ],
   "outputs": [],
   "metadata": {}
  },
  {
   "cell_type": "code",
   "execution_count": 166,
   "source": [
    "# #wn.get_link('W_PMA2000').status = 0\r\n",
    "# wn.get_link('W_PMA1007').status = 0\r\n",
    "# wn.get_link('W_PMA2000')"
   ],
   "outputs": [],
   "metadata": {}
  },
  {
   "cell_type": "code",
   "execution_count": 167,
   "source": [
    "component = 'W_PMA505'\r\n",
    "wn = wntr.morph.split_pipe(wn,component,f\"{component}_B\",f\"{component}_leak_node\",)\r\n",
    "\r\n",
    "leak_node = wn.get_node(f\"{component}_leak_node\")\r\n",
    "leak_node.remove_leak(wn)\r\n",
    "leak_node.add_leak(wn,area=0.75*(math.pi*(wn.get_link(f\"{component}_B\").diameter)** 2)/4,\r\n",
    "    start_time=6000,\r\n",
    "    end_time=18000,\r\n",
    ")\r\n",
    "\r\n",
    "link_close_event(wn, component, 18000, \"repairing\")\r\n",
    "link_open_event(wn, component, 30000, \"repairing\")"
   ],
   "outputs": [
    {
     "output_type": "execute_result",
     "data": {
      "text/plain": [
       "<wntr.network.model.WaterNetworkModel at 0x21bf33e7130>"
      ]
     },
     "metadata": {},
     "execution_count": 167
    }
   ],
   "metadata": {}
  },
  {
   "cell_type": "code",
   "execution_count": 168,
   "source": [
    "print(\"Simulation time: \", wn.options.time.duration,\"; Hydraulic time step: \", wn.options.time.hydraulic_timestep, \"; Report time step: \", wn.options.time.report_timestep)\r\n",
    "wn_sim = wntr.sim.WNTRSimulator(wn)\r\n",
    "wn_results = wn_sim.run_sim(convergence_error=True, solver_options={\"MAXITER\": 10000})\r\n",
    "\r\n",
    "print('failed pipe flowrate: ', wn_results.link['flowrate'][component].values)\r\n",
    "print('failed pipe leak: ', wn_results.node['leak_demand'][f'{component}_leak_node'].values)\r\n",
    "print('tank demand: ', wn_results.node['head']['W_T1'].values)\r\n",
    "print('pump flow rate: ', wn_results.link['flowrate'][wn.pump_name_list].values)"
   ],
   "outputs": [
    {
     "output_type": "stream",
     "name": "stdout",
     "text": [
      "Simulation time:  86400.0 ; Hydraulic time step:  3600.0 ; Report time step:  3600\n"
     ]
    },
    {
     "output_type": "stream",
     "name": "stderr",
     "text": [
      "C:\\Users\\srijith\\anaconda3\\envs\\redcar\\lib\\site-packages\\scipy\\optimize\\minpack.py:833: OptimizeWarning: Covariance of the parameters could not be estimated\n",
      "  warnings.warn('Covariance of the parameters could not be estimated',\n"
     ]
    },
    {
     "output_type": "stream",
     "name": "stdout",
     "text": [
      "failed pipe flowrate:  [-0.003 -0.003  0.35   0.316  0.031  0.     0.     0.     0.    -0.003 -0.003 -0.003 -0.003 -0.003 -0.004 -0.004 -0.004 -0.004 -0.004 -0.003 -0.003 -0.003 -0.003 -0.003 -0.003]\n",
      "failed pipe leak:  [0.    0.    0.354 0.32  0.035 0.    0.    0.    0.    0.    0.    0.    0.    0.    0.    0.    0.    0.    0.    0.    0.    0.    0.    0.    0.   ]\n",
      "tank demand:  [352.044 352.684 350.922 344.585 344.424 344.424 344.587 344.58  344.512 344.424 344.424 344.424 344.424 344.424 344.424 344.424 344.424 344.424 344.424 344.424 344.424 344.647 345.1   345.663 346.326]\n",
      "pump flow rate:  [[0.001 0.001 0.001 0.001 0.068 0.    0.    0.064]\n",
      " [0.001 0.001 0.001 0.001 0.068 0.    0.    0.064]\n",
      " [0.002 0.002 0.002 0.002 0.071 0.    0.    0.064]\n",
      " [0.003 0.003 0.003 0.003 0.074 0.    0.    0.064]\n",
      " [0.006 0.006 0.006 0.006 0.087 0.    0.    0.064]\n",
      " [0.002 0.002 0.002 0.002 0.072 0.    0.    0.064]\n",
      " [0.002 0.002 0.002 0.002 0.073 0.    0.    0.064]\n",
      " [0.002 0.002 0.002 0.002 0.073 0.    0.    0.064]\n",
      " [0.002 0.002 0.002 0.002 0.073 0.    0.    0.064]\n",
      " [0.005 0.005 0.005 0.005 0.085 0.    0.    0.064]\n",
      " [0.005 0.005 0.005 0.005 0.083 0.    0.    0.064]\n",
      " [0.005 0.005 0.005 0.005 0.083 0.    0.    0.064]\n",
      " [0.005 0.005 0.005 0.005 0.085 0.    0.    0.064]\n",
      " [0.006 0.006 0.006 0.006 0.088 0.    0.    0.064]\n",
      " [0.007 0.007 0.007 0.007 0.093 0.    0.    0.064]\n",
      " [0.009 0.009 0.009 0.009 0.099 0.    0.    0.064]\n",
      " [0.009 0.009 0.009 0.009 0.102 0.    0.    0.064]\n",
      " [0.009 0.009 0.009 0.009 0.1   0.    0.    0.064]\n",
      " [0.008 0.008 0.008 0.008 0.095 0.    0.    0.064]\n",
      " [0.005 0.005 0.005 0.005 0.083 0.    0.    0.064]\n",
      " [0.002 0.002 0.002 0.002 0.074 0.    0.    0.064]\n",
      " [0.002 0.002 0.002 0.002 0.073 0.    0.    0.064]\n",
      " [0.002 0.002 0.002 0.002 0.073 0.    0.    0.064]\n",
      " [0.002 0.002 0.002 0.002 0.072 0.    0.    0.064]\n",
      " [0.002 0.002 0.002 0.002 0.072 0.    0.    0.064]]\n"
     ]
    }
   ],
   "metadata": {}
  },
  {
   "cell_type": "code",
   "execution_count": 169,
   "source": [
    "wn_results.node['demand'].to_csv('results.csv')"
   ],
   "outputs": [],
   "metadata": {}
  },
  {
   "cell_type": "code",
   "execution_count": 170,
   "source": [
    "pd.Series(water_consump_tracker).plot()"
   ],
   "outputs": [
    {
     "output_type": "error",
     "ename": "NameError",
     "evalue": "name 'water_consump_tracker' is not defined",
     "traceback": [
      "\u001b[1;31m---------------------------------------------------------------------------\u001b[0m",
      "\u001b[1;31mNameError\u001b[0m                                 Traceback (most recent call last)",
      "\u001b[1;32m~\\AppData\\Local\\Temp/ipykernel_24552/3419200461.py\u001b[0m in \u001b[0;36m<module>\u001b[1;34m\u001b[0m\n\u001b[1;32m----> 1\u001b[1;33m \u001b[0mpd\u001b[0m\u001b[1;33m.\u001b[0m\u001b[0mSeries\u001b[0m\u001b[1;33m(\u001b[0m\u001b[0mwater_consump_tracker\u001b[0m\u001b[1;33m)\u001b[0m\u001b[1;33m.\u001b[0m\u001b[0mplot\u001b[0m\u001b[1;33m(\u001b[0m\u001b[1;33m)\u001b[0m\u001b[1;33m\u001b[0m\u001b[1;33m\u001b[0m\u001b[0m\n\u001b[0m",
      "\u001b[1;31mNameError\u001b[0m: name 'water_consump_tracker' is not defined"
     ]
    }
   ],
   "metadata": {}
  },
  {
   "cell_type": "code",
   "execution_count": null,
   "source": [],
   "outputs": [],
   "metadata": {}
  },
  {
   "cell_type": "code",
   "execution_count": null,
   "source": [
    "t = 86400\r\n",
    "node_results = wn_results.node['demand'].iloc[-1]\r\n",
    "\r\n",
    "water_supplied = sum([node_results[junc] for junc in wn.junction_name_list])\r\n",
    "\r\n",
    "base_demands_at_t = []\r\n",
    "\r\n",
    "for junc in wn.junction_name_list:\r\n",
    "    base_demand = wn.get_node(junc).base_demand\r\n",
    "    \r\n",
    "    if base_demand != 0:\r\n",
    "        demand = node_results[junc]\r\n",
    "        pattern = wn.get_node(junc).demand_timeseries_list[0].pattern.multipliers\r\n",
    "        #print(pattern)\r\n",
    "        pattern_size = len(pattern)\r\n",
    "        pattern_interval = 24/pattern_size\r\n",
    "        \r\n",
    "        pattern_index = math.ceil(((t/3600)%86400) / pattern_interval)\r\n",
    "        multiplier = pattern[pattern_index-1]\r\n",
    "        base_demands_at_t.append(multiplier*base_demand)\r\n",
    "        \r\n",
    "\r\n",
    "water_resmetric = water_supplied/sum(base_demands_at_t)\r\n",
    "print(water_resmetric)"
   ],
   "outputs": [
    {
     "output_type": "stream",
     "name": "stdout",
     "text": [
      "1.0\n"
     ]
    }
   ],
   "metadata": {}
  },
  {
   "cell_type": "code",
   "execution_count": 171,
   "source": [
    "wn.pump_name_list"
   ],
   "outputs": [
    {
     "output_type": "execute_result",
     "data": {
      "text/plain": [
       "['W_WP1', 'W_WP2', 'W_WP3', 'W_WP4', 'W_WP5', 'W_WP6', 'W_WP7', 'W_WP8']"
      ]
     },
     "metadata": {},
     "execution_count": 171
    }
   ],
   "metadata": {}
  }
 ],
 "metadata": {
  "kernelspec": {
   "name": "python3",
   "display_name": "Python 3.8.3 64-bit ('redcar': conda)"
  },
  "language_info": {
   "codemirror_mode": {
    "name": "ipython",
    "version": 3
   },
   "file_extension": ".py",
   "mimetype": "text/x-python",
   "name": "python",
   "nbconvert_exporter": "python",
   "pygments_lexer": "ipython3",
   "version": "3.8.3"
  },
  "interpreter": {
   "hash": "d457c6433f18c3837b6e3285bba28c013c3b86deb599c3954950bcdf8f1c827b"
  }
 },
 "nbformat": 4,
 "nbformat_minor": 4
}