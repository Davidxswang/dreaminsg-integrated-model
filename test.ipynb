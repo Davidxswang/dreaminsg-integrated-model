{
 "cells": [
  {
   "cell_type": "code",
   "execution_count": 1,
   "metadata": {},
   "outputs": [],
   "source": [
    "import infrarisk"
   ]
  }
 ],
 "metadata": {
  "kernelspec": {
   "display_name": "infrarisk",
   "language": "python",
   "name": "python3"
  },
  "language_info": {
   "codemirror_mode": {
    "name": "ipython",
    "version": 3
   },
   "file_extension": ".py",
   "mimetype": "text/x-python",
   "name": "python",
   "nbconvert_exporter": "python",
   "pygments_lexer": "ipython3",
   "version": "3.8.13"
  },
  "orig_nbformat": 4,
  "vscode": {
   "interpreter": {
    "hash": "d1fa71d79f4a50d86355cd984f754340c3825aff9a7379702b15c3196cc40013"
   }
  }
 },
 "nbformat": 4,
 "nbformat_minor": 2
}
