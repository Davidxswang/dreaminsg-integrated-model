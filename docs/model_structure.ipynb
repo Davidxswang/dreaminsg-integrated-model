{
 "cells": [
  {
   "cell_type": "markdown",
   "metadata": {},
   "source": [
    "# Model structure\n",
    "<img src=\"../freaminsg_integrated_model/notebooks/meetings/figures/model_structure.jpeg\" alt=\"Alt text\" width=\"800\" title=\"Title text\" />"
   ]
  },
  {
   "cell_type": "markdown",
   "metadata": {},
   "source": [
    "# Project structure\n",
    "\n",
    "```\n",
    "DREAMINSG_INTEGRATED_MODEL/\n",
    "|-- dreaminsg_integrated_model/\n",
    "|\t|-- data/\n",
    "|\t|\t|-- disruptive_scenarios/\n",
    "|\t|\t|\t|-- disrupt_generator.py\n",
    "|\t|\t|\n",
    "|\t|\t|-- networks/\n",
    "|\t|\t\t|-- examples/\n",
    "|\t|\t\t|-- power/\n",
    "|\t|\t\t|-- water/\n",
    "|\t|\t\t|-- transportation/\n",
    "|\t|\n",
    "|\t|-- network_sim_models/\n",
    "|\t|\t|-- power/power_system_model.py\n",
    "|\t|\t|-- transportation/\n",
    "|\t|\t|-- water/water_network_model.py\n",
    "|\t|\t|-- interdependencies.py\n",
    "|\t|\n",
    "|\t|-- results/\n",
    "|\t|\t|-- figures/plots.py\n",
    "|\t|\n",
    "|\t|-- main.py\n",
    "|\n",
    "|-- notebooks\n",
    "|\t|-- demo.ipynb\n",
    "|\t|-- model_structure.ipynb\n",
    "|\t|-- plots.ipynb\n",
    "|\n",
    "|-- setup.py\n",
    "|-- README.md\n",
    "|-- LICENSE\n",
    "```\n",
    "\n",
    "Model available on [Github](https://github.com/srijithbalakrishnan/dreaminsg-integrated-model.git)"
   ]
  },
  {
   "source": [
    "# Model Demonstration\n",
    "\n",
    "[demo.ipynb](./demo.ipynb)"
   ],
   "cell_type": "markdown",
   "metadata": {}
  },
  {
   "source": [
    "# _To do list_\n",
    "\n",
    "## Ongoing (April - May)\n",
    "1. ### Scaling the model to larger networks.\n",
    "    \n",
    "   (a) Some issues related to wntr package identified and are being fixed.\n",
    "   \n",
    "   (b) Discrete event simulation is being tested. Saves a lot of time, but there are some issues with it while implementing the wntr simulation. Simulates only the network conditions during:\n",
    "   \n",
    "    - the start of the simulation;\n",
    "    - when some component fails;\n",
    "    - when the crew reaches a failed component for repair; and\n",
    "    - when a component is completely repaired and the end of the simulation. \n",
    "    \n",
    "2. ### Changes to the way recovery is modeled -- recovery times instead of recovery rates.\n",
    "\n",
    "3. ### Incorporate pipe leaks and failures in the model. (duration of pipe leaks + repair time)\n",
    "4. ### Identification of relevant metrics for resilience quantification.\n",
    "\n",
    "    (a) Currently using ratio of consumption to pre-disaster consumption (water and power)\n",
    "    \n",
    "    (b) Additional suggestions provided by Dr. Giovini Sansavinni to be incorporated.\n",
    "\n",
    "5. ### Add more interdependencies and direct impact scenarios.\n",
    "\n",
    "## Mid-term (May - July)\n",
    "1. ### Integrating module for optimizing the recovery strategy. \n",
    "\n",
    "2. ### Network generation and automation."
   ],
   "cell_type": "markdown",
   "metadata": {}
  },
  {
   "source": [
    "## Comments and Feedback\n",
    "\n",
    "### 1. What data to be collected from the model?\n",
    "    - Network\n",
    "    - Disruptive scenario\n",
    "\n",
    "### 2. Weighting\n",
    "- Fuzzy Ordered Weighting Methods\n",
    "- "
   ],
   "cell_type": "markdown",
   "metadata": {}
  }
 ],
 "metadata": {
  "kernelspec": {
   "display_name": "dreaminsg",
   "language": "python",
   "name": "dreaminsg"
  },
  "language_info": {
   "codemirror_mode": {
    "name": "ipython",
    "version": 3
   },
   "file_extension": ".py",
   "mimetype": "text/x-python",
   "name": "python",
   "nbconvert_exporter": "python",
   "pygments_lexer": "ipython3",
   "version": "3.7.10-final"
  }
 },
 "nbformat": 4,
 "nbformat_minor": 4
}