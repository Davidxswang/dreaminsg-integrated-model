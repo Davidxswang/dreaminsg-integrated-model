{
 "cells": [
  {
   "cell_type": "markdown",
   "metadata": {},
   "source": [
    "### This notebook contains the codes to extract and process the necessary simulation data for constructing the machine learning model. The contents must be incorporated to the resilience_metrics.py once finalized."
   ]
  },
  {
   "cell_type": "code",
   "execution_count": 1,
   "metadata": {},
   "outputs": [],
   "source": [
    "%load_ext autoreload\n",
    "%autoreload 2\n",
    "\n",
    "import warnings\n",
    "warnings.filterwarnings('ignore')\n",
    "\n",
    "from IPython.display import clear_output\n",
    "\n",
    "import os\n",
    "import pandas as pd\n",
    "from pathlib import Path\n",
    "from sklearn import metrics\n",
    "import statistics\n",
    "import copy\n",
    "\n",
    "import infrarisk.src.network_sim_models.interdependencies as interdependencies\n",
    "from infrarisk.src.network_sim_models.integrated_network import *"
   ]
  },
  {
   "cell_type": "code",
   "execution_count": 2,
   "metadata": {},
   "outputs": [
    {
     "name": "stdout",
     "output_type": "stream",
     "text": [
      "Water network successfully loaded from ..\\..\\data\\networks\\micropolis\\water\\high/water.inp. The analysis type is set to PDA.\n",
      "initial simulation duration: 60s; hydraulic time step: 60s; pattern time step: 3600s\n",
      "\n",
      "Power system successfully loaded from ..\\..\\data\\networks\\micropolis\\power\\low\\power.json. Single phase power flow simulation will be used.\n",
      "\n"
     ]
    }
   ],
   "source": [
    "network_dir = Path('../../data/networks/micropolis')\n",
    "water_folder = network_dir/'water/high'\n",
    "power_folder = network_dir/'power/low'\n",
    "\n",
    "micropolis_network = IntegratedNetwork(name = 'Micropolis', \n",
    "                                       water_folder= water_folder,\n",
    "                                       power_folder = power_folder,\n",
    "                                       water_sim_type = 'PDA',\n",
    "                                       power_sim_type='1ph')"
   ]
  },
  {
   "cell_type": "code",
   "execution_count": 7,
   "metadata": {},
   "outputs": [],
   "source": [
    "# Set scenarios folder\n",
    "folder = Path('../../data/networks/micropolis/scenarios')\n",
    "scenarios = [f for f in sorted(os.listdir(folder))]\n",
    "\n",
    "#list of recovery strategies to be considered\n",
    "strategies = ['capacity', 'centrality', 'zone']\n",
    "\n",
    "#create the empty dataframe for ML dataset\n",
    "ml_df = pd.DataFrame(columns =[\"scenario\",\n",
    "         \"strategy\",\n",
    "         \"meshedness\",\n",
    "         \"water_crew\",\n",
    "         \"power_crew\",\n",
    "         \"transpo_crew\",\n",
    "         'water_perf_ecs',\n",
    "         'water_perf_pcs',\n",
    "         'power_perf_ecs',\n",
    "         'power_perf_pcs',\n",
    "         'water_mains',\n",
    "         \"power_lines\", \n",
    "         \"transpo_links\",\n",
    "         \"all_compons\"])\n",
    "\n",
    "abnormal_results = []\n",
    "\n",
    "junc_list = micropolis_network.wn.junction_name_list\n",
    "base_water_demands = micropolis_network.base_water_node_supply\n",
    "base_power_demands = micropolis_network.base_power_supply\n"
   ]
  },
  {
   "cell_type": "code",
   "execution_count": 36,
   "metadata": {},
   "outputs": [
    {
     "name": "stdout",
     "output_type": "stream",
     "text": [
      "599 .  track99\n",
      "high\n",
      "['track99', 'capacity', 'high', 6, 3, 1, 2.641, 2.135, 0.472, 3.788, 5, 3, 1, 9]\n",
      "['track99', 'centrality', 'high', 6, 3, 1, 2.641, 2.135, 0.472, 3.788, 5, 3, 1, 9]\n",
      "['track99', 'zone', 'high', 6, 3, 1, 2.641, 2.135, 0.472, 3.788, 5, 3, 1, 9]\n",
      "low\n",
      "['track99', 'capacity', 'low', 1, 1, 3, 12.372, 40.364, 3.732, 10.791, 1, 1, 2, 4]\n",
      "['track99', 'centrality', 'low', 1, 1, 3, 12.372, 40.364, 3.732, 10.791, 1, 1, 2, 4]\n",
      "['track99', 'zone', 'low', 1, 1, 3, 12.372, 40.364, 3.732, 10.791, 1, 1, 2, 4]\n",
      "med\n",
      "['track99', 'capacity', 'med', 1, 1, 3, 565.706, 595.992, 0.472, 3.788, 3, 1, 4, 8]\n",
      "['track99', 'centrality', 'med', 1, 1, 3, 542.013, 573.105, 0.472, 3.788, 3, 1, 4, 8]\n",
      "['track99', 'zone', 'med', 1, 1, 3, 410.88, 444.536, 0.472, 3.788, 3, 1, 4, 8]\n"
     ]
    }
   ],
   "source": [
    "for index, scenario in enumerate(scenarios[302:]):\n",
    "    print(index, \". \", scenario)\n",
    "    meshed_levels = os.listdir(f\"{folder}/{scenario}\")\n",
    "    for mesh_level in meshed_levels:\n",
    "        print(mesh_level)\n",
    "        ml_df_new = {\"scenario\": scenario,\n",
    "            \"strategy\": None,\n",
    "            \"meshedness\" : mesh_level,\n",
    "            \"water_crew\": 0,\n",
    "            \"power_crew\": 0,\n",
    "            \"transpo_crew\": 0,\n",
    "            'water_perf_ecs': None,\n",
    "            'water_perf_pcs': None,\n",
    "            'power_perf_ecs': None ,\n",
    "            'power_perf_pcs': None,\n",
    "            \"water_mains\": 0,\n",
    "            \"power_lines\": 0, \n",
    "            \"transpo_links\": 0, \n",
    "            \"all_compons\": 0}\n",
    "        \n",
    "        disruption_file = pd.read_csv(f\"{folder}/{scenario}/{mesh_level}/disruption_file.csv\")\n",
    "        ml_df_new[\"all_compons\"] = disruption_file.shape[0]\n",
    "        for _, row in disruption_file.iterrows():\n",
    "            if row['components'].startswith('P_L'):\n",
    "                ml_df_new['power_lines'] += 1\n",
    "            elif row['components'].startswith('W_PMA'):\n",
    "                ml_df_new['water_mains'] += 1\n",
    "            elif row['components'].startswith('T_L'):\n",
    "                ml_df_new['transpo_links'] += 1\n",
    "            else:\n",
    "                print(\"Component type not detectable.\")            \n",
    "        \n",
    "        for strategy in strategies: \n",
    "            try: \n",
    "                ml_df_new['strategy'] = strategy\n",
    "                water_demands_file = f\"{folder}/{scenario}/{mesh_level}/{strategy}/water_junc_demand.csv\"\n",
    "                power_demands_file = f\"{folder}/{scenario}/{mesh_level}/{strategy}/power_load_demand.csv\"\n",
    "                water_pressure_file = f\"{folder}/{scenario}/{mesh_level}/{strategy}/water_node_pressure.csv\"\n",
    "                crew_size_file = f\"{folder}/{scenario}/{mesh_level}/{strategy}/crew_size.csv\"\n",
    "                \n",
    "                if os.path.isfile(water_demands_file):\n",
    "                    water_demands = pd.read_csv(water_demands_file, sep = \"\\t\")\n",
    "                    water_time_list = water_demands.time/60\n",
    "                    water_time_list = water_time_list.tolist()\n",
    "                    rel_time_list = water_demands['time'] % (24*3600)\n",
    "                    index_list = [int(x/60) for x in rel_time_list if np.isnan(x) == False]\n",
    "                    water_demands = water_demands[junc_list]\n",
    "                    \n",
    "                    # water_pressures = pd.read_csv(water_pressure_file, sep = \"\\t\")\n",
    "                    # water_pressures = water_pressures[junc_list]\n",
    "                    # water_press_corrections = copy.deepcopy(water_pressures)\n",
    "                    \n",
    "                    power_demands = pd.read_csv(power_demands_file, sep = \"\\t\")\n",
    "                    power_time_list = power_demands.time/60\n",
    "                    power_time_list= power_time_list.tolist()\n",
    "                    \n",
    "                    base_water_demands_new = base_water_demands.iloc[index_list].reset_index(drop=True)\n",
    "                    base_water_demands_new = base_water_demands_new[junc_list]\n",
    "                    \n",
    "                    water_demands_ratio = water_demands/ base_water_demands_new\n",
    "                    water_demands_ratio = water_demands_ratio.clip(upper=1, lower=0)\n",
    "                    \n",
    "                    water_ecs_list = water_demands_ratio.mean(axis = 1, skipna = True).tolist()\n",
    "                    \n",
    "                    if water_ecs_list[-1] < 0.9:\n",
    "                        abnormal_results.append(scenario)\n",
    "                        \n",
    "                    water_pcs_list = pd.concat([water_demands, base_water_demands_new]).min(level=0).sum(axis=1, skipna = True)/base_water_demands_new.sum(axis=1, skipna = True)\n",
    "                    water_pcs_list = water_pcs_list.tolist()\n",
    "\n",
    "                    base_load_demands = pd.DataFrame(base_power_demands.load.p_mw.tolist() + base_power_demands.motor.pn_mech_mw.tolist()).transpose()\n",
    "                    base_load_demands.columns = base_power_demands.load.name.tolist() + base_power_demands.motor.name.tolist()\n",
    "                    base_load_demands = pd.concat([base_load_demands]*(power_demands.shape[0])).reset_index(drop=True)\n",
    "\n",
    "                    power_demand_ratio = power_demands.iloc[:,1:] / base_load_demands\n",
    "                    power_demand_ratio = power_demand_ratio.clip(upper=1)\n",
    "\n",
    "                    power_ecs_list = power_demand_ratio.mean(axis = 1, skipna = True).tolist()\n",
    "                    power_pcs_list = pd.concat([power_demands.iloc[:,1:], base_load_demands]).min(level=0).sum(axis=1, skipna = True)/base_load_demands.sum(axis=1, skipna = True)\n",
    "                    power_pcs_list = power_pcs_list.tolist()\n",
    "                    \n",
    "                    crew_size = pd.read_csv(crew_size_file, sep = \",\")\n",
    "                    ml_df_new['power_crew'] = crew_size.iloc[0, 1]\n",
    "                    ml_df_new['water_crew'] = crew_size.iloc[1, 1]\n",
    "                    ml_df_new['transpo_crew'] = crew_size.iloc[2, 1]\n",
    "                    \n",
    "                    ml_df_new['water_perf_ecs'] = round(metrics.auc(water_time_list, [1 - x for x in water_ecs_list]), 3)\n",
    "                    ml_df_new['water_perf_pcs'] = round(metrics.auc(water_time_list, [1 - x for x in water_pcs_list]), 3)\n",
    "                    ml_df_new['power_perf_ecs'] = round(metrics.auc(power_time_list, [1 - x for x in power_ecs_list]), 3)\n",
    "                    ml_df_new['power_perf_pcs'] = round(metrics.auc(power_time_list, [1 - x for x in power_pcs_list]), 3)\n",
    "                    \n",
    "                    power_auc_df = pd.DataFrame(data = {'time': power_time_list, \n",
    "                                                        'ecs': power_ecs_list, \n",
    "                                                        'pcs': power_pcs_list})\n",
    "                    power_auc_df.to_csv(f\"{folder}/{scenario}/{mesh_level}/{strategy}/power_auc.csv\", index = False)\n",
    "                    \n",
    "                    water_auc_df = pd.DataFrame(data = {'time': water_time_list, \n",
    "                                                        'ecs': water_ecs_list, \n",
    "                                                        'pcs': water_pcs_list})\n",
    "                    water_auc_df.to_csv(f\"{folder}/{scenario}/{mesh_level}/{strategy}/water_auc.csv\", index = False)\n",
    "                    \n",
    "                    ml_df = ml_df.append(ml_df_new, ignore_index=True)\n",
    "                    print(ml_df.iloc[-1,:].tolist())\n",
    "                    \n",
    "                else:\n",
    "                    pass\n",
    "            except AttributeError:\n",
    "                pass\n",
    "    clear_output(wait=True)\n",
    "    \n",
    "abnormal_results = list(set(abnormal_results))"
   ]
  },
  {
   "cell_type": "code",
   "execution_count": 38,
   "metadata": {},
   "outputs": [
    {
     "data": {
      "text/plain": [
       "(7300, 14)"
      ]
     },
     "execution_count": 38,
     "metadata": {},
     "output_type": "execute_result"
    }
   ],
   "source": [
    "ml_df.drop_duplicates()\n",
    "ml_df.shape"
   ]
  },
  {
   "cell_type": "code",
   "execution_count": 6,
   "metadata": {},
   "outputs": [
    {
     "data": {
      "text/plain": [
       "[]"
      ]
     },
     "execution_count": 6,
     "metadata": {},
     "output_type": "execute_result"
    }
   ],
   "source": [
    "abnormal_results"
   ]
  },
  {
   "cell_type": "code",
   "execution_count": 39,
   "metadata": {},
   "outputs": [],
   "source": [
    "ml_df.to_csv(\"auc_df.csv\", index = False)"
   ]
  },
  {
   "cell_type": "code",
   "execution_count": 40,
   "metadata": {},
   "outputs": [
    {
     "data": {
      "text/html": [
       "<div>\n",
       "<style scoped>\n",
       "    .dataframe tbody tr th:only-of-type {\n",
       "        vertical-align: middle;\n",
       "    }\n",
       "\n",
       "    .dataframe tbody tr th {\n",
       "        vertical-align: top;\n",
       "    }\n",
       "\n",
       "    .dataframe thead th {\n",
       "        text-align: right;\n",
       "    }\n",
       "</style>\n",
       "<table border=\"1\" class=\"dataframe\">\n",
       "  <thead>\n",
       "    <tr style=\"text-align: right;\">\n",
       "      <th></th>\n",
       "      <th>scenario</th>\n",
       "      <th>strategy</th>\n",
       "      <th>meshedness</th>\n",
       "      <th>water_crew</th>\n",
       "      <th>power_crew</th>\n",
       "      <th>transpo_crew</th>\n",
       "      <th>water_perf_ecs</th>\n",
       "      <th>water_perf_pcs</th>\n",
       "      <th>power_perf_ecs</th>\n",
       "      <th>power_perf_pcs</th>\n",
       "      <th>water_mains</th>\n",
       "      <th>power_lines</th>\n",
       "      <th>transpo_links</th>\n",
       "      <th>all_compons</th>\n",
       "    </tr>\n",
       "  </thead>\n",
       "  <tbody>\n",
       "    <tr>\n",
       "      <th>0</th>\n",
       "      <td>point116</td>\n",
       "      <td>capacity</td>\n",
       "      <td>high</td>\n",
       "      <td>1</td>\n",
       "      <td>1</td>\n",
       "      <td>1</td>\n",
       "      <td>0.000</td>\n",
       "      <td>0.000</td>\n",
       "      <td>0.0</td>\n",
       "      <td>0.0</td>\n",
       "      <td>0</td>\n",
       "      <td>0</td>\n",
       "      <td>1</td>\n",
       "      <td>1</td>\n",
       "    </tr>\n",
       "    <tr>\n",
       "      <th>1</th>\n",
       "      <td>point116</td>\n",
       "      <td>centrality</td>\n",
       "      <td>high</td>\n",
       "      <td>1</td>\n",
       "      <td>1</td>\n",
       "      <td>1</td>\n",
       "      <td>0.000</td>\n",
       "      <td>0.000</td>\n",
       "      <td>0.0</td>\n",
       "      <td>0.0</td>\n",
       "      <td>0</td>\n",
       "      <td>0</td>\n",
       "      <td>1</td>\n",
       "      <td>1</td>\n",
       "    </tr>\n",
       "    <tr>\n",
       "      <th>2</th>\n",
       "      <td>point116</td>\n",
       "      <td>zone</td>\n",
       "      <td>high</td>\n",
       "      <td>1</td>\n",
       "      <td>1</td>\n",
       "      <td>1</td>\n",
       "      <td>0.000</td>\n",
       "      <td>0.000</td>\n",
       "      <td>0.0</td>\n",
       "      <td>0.0</td>\n",
       "      <td>0</td>\n",
       "      <td>0</td>\n",
       "      <td>1</td>\n",
       "      <td>1</td>\n",
       "    </tr>\n",
       "    <tr>\n",
       "      <th>3</th>\n",
       "      <td>point116</td>\n",
       "      <td>capacity</td>\n",
       "      <td>low</td>\n",
       "      <td>1</td>\n",
       "      <td>1</td>\n",
       "      <td>1</td>\n",
       "      <td>79.787</td>\n",
       "      <td>27.156</td>\n",
       "      <td>0.0</td>\n",
       "      <td>0.0</td>\n",
       "      <td>1</td>\n",
       "      <td>0</td>\n",
       "      <td>0</td>\n",
       "      <td>1</td>\n",
       "    </tr>\n",
       "    <tr>\n",
       "      <th>4</th>\n",
       "      <td>point116</td>\n",
       "      <td>centrality</td>\n",
       "      <td>low</td>\n",
       "      <td>1</td>\n",
       "      <td>1</td>\n",
       "      <td>1</td>\n",
       "      <td>79.787</td>\n",
       "      <td>27.156</td>\n",
       "      <td>0.0</td>\n",
       "      <td>0.0</td>\n",
       "      <td>1</td>\n",
       "      <td>0</td>\n",
       "      <td>0</td>\n",
       "      <td>1</td>\n",
       "    </tr>\n",
       "  </tbody>\n",
       "</table>\n",
       "</div>"
      ],
      "text/plain": [
       "   scenario    strategy meshedness  water_crew  power_crew  transpo_crew  \\\n",
       "0  point116    capacity       high           1           1             1   \n",
       "1  point116  centrality       high           1           1             1   \n",
       "2  point116        zone       high           1           1             1   \n",
       "3  point116    capacity        low           1           1             1   \n",
       "4  point116  centrality        low           1           1             1   \n",
       "\n",
       "   water_perf_ecs  water_perf_pcs  power_perf_ecs  power_perf_pcs  \\\n",
       "0           0.000           0.000             0.0             0.0   \n",
       "1           0.000           0.000             0.0             0.0   \n",
       "2           0.000           0.000             0.0             0.0   \n",
       "3          79.787          27.156             0.0             0.0   \n",
       "4          79.787          27.156             0.0             0.0   \n",
       "\n",
       "   water_mains  power_lines  transpo_links  all_compons  \n",
       "0            0            0              1            1  \n",
       "1            0            0              1            1  \n",
       "2            0            0              1            1  \n",
       "3            1            0              0            1  \n",
       "4            1            0              0            1  "
      ]
     },
     "execution_count": 40,
     "metadata": {},
     "output_type": "execute_result"
    }
   ],
   "source": [
    "ml_df = pd.read_csv(\"auc_df.csv\")\n",
    "ml_df.head()"
   ]
  },
  {
   "cell_type": "code",
   "execution_count": 41,
   "metadata": {},
   "outputs": [
    {
     "data": {
      "text/html": [
       "<div>\n",
       "<style scoped>\n",
       "    .dataframe tbody tr th:only-of-type {\n",
       "        vertical-align: middle;\n",
       "    }\n",
       "\n",
       "    .dataframe tbody tr th {\n",
       "        vertical-align: top;\n",
       "    }\n",
       "\n",
       "    .dataframe thead th {\n",
       "        text-align: right;\n",
       "    }\n",
       "</style>\n",
       "<table border=\"1\" class=\"dataframe\">\n",
       "  <thead>\n",
       "    <tr style=\"text-align: right;\">\n",
       "      <th></th>\n",
       "      <th>scenario</th>\n",
       "      <th>strategy</th>\n",
       "      <th>meshedness</th>\n",
       "      <th>water_crew</th>\n",
       "      <th>power_crew</th>\n",
       "      <th>transpo_crew</th>\n",
       "      <th>water_perf_ecs</th>\n",
       "      <th>water_perf_pcs</th>\n",
       "      <th>power_perf_ecs</th>\n",
       "      <th>power_perf_pcs</th>\n",
       "      <th>water_mains</th>\n",
       "      <th>power_lines</th>\n",
       "      <th>transpo_links</th>\n",
       "      <th>all_compons</th>\n",
       "      <th>ecs_auc</th>\n",
       "      <th>pcs_auc</th>\n",
       "    </tr>\n",
       "  </thead>\n",
       "  <tbody>\n",
       "    <tr>\n",
       "      <th>0</th>\n",
       "      <td>point116</td>\n",
       "      <td>capacity</td>\n",
       "      <td>high</td>\n",
       "      <td>1</td>\n",
       "      <td>1</td>\n",
       "      <td>1</td>\n",
       "      <td>0.000</td>\n",
       "      <td>0.000</td>\n",
       "      <td>0.0</td>\n",
       "      <td>0.0</td>\n",
       "      <td>0</td>\n",
       "      <td>0</td>\n",
       "      <td>1</td>\n",
       "      <td>1</td>\n",
       "      <td>0.0000</td>\n",
       "      <td>0.000</td>\n",
       "    </tr>\n",
       "    <tr>\n",
       "      <th>1</th>\n",
       "      <td>point116</td>\n",
       "      <td>centrality</td>\n",
       "      <td>high</td>\n",
       "      <td>1</td>\n",
       "      <td>1</td>\n",
       "      <td>1</td>\n",
       "      <td>0.000</td>\n",
       "      <td>0.000</td>\n",
       "      <td>0.0</td>\n",
       "      <td>0.0</td>\n",
       "      <td>0</td>\n",
       "      <td>0</td>\n",
       "      <td>1</td>\n",
       "      <td>1</td>\n",
       "      <td>0.0000</td>\n",
       "      <td>0.000</td>\n",
       "    </tr>\n",
       "    <tr>\n",
       "      <th>2</th>\n",
       "      <td>point116</td>\n",
       "      <td>zone</td>\n",
       "      <td>high</td>\n",
       "      <td>1</td>\n",
       "      <td>1</td>\n",
       "      <td>1</td>\n",
       "      <td>0.000</td>\n",
       "      <td>0.000</td>\n",
       "      <td>0.0</td>\n",
       "      <td>0.0</td>\n",
       "      <td>0</td>\n",
       "      <td>0</td>\n",
       "      <td>1</td>\n",
       "      <td>1</td>\n",
       "      <td>0.0000</td>\n",
       "      <td>0.000</td>\n",
       "    </tr>\n",
       "    <tr>\n",
       "      <th>3</th>\n",
       "      <td>point116</td>\n",
       "      <td>capacity</td>\n",
       "      <td>low</td>\n",
       "      <td>1</td>\n",
       "      <td>1</td>\n",
       "      <td>1</td>\n",
       "      <td>79.787</td>\n",
       "      <td>27.156</td>\n",
       "      <td>0.0</td>\n",
       "      <td>0.0</td>\n",
       "      <td>1</td>\n",
       "      <td>0</td>\n",
       "      <td>0</td>\n",
       "      <td>1</td>\n",
       "      <td>39.8935</td>\n",
       "      <td>13.578</td>\n",
       "    </tr>\n",
       "    <tr>\n",
       "      <th>4</th>\n",
       "      <td>point116</td>\n",
       "      <td>centrality</td>\n",
       "      <td>low</td>\n",
       "      <td>1</td>\n",
       "      <td>1</td>\n",
       "      <td>1</td>\n",
       "      <td>79.787</td>\n",
       "      <td>27.156</td>\n",
       "      <td>0.0</td>\n",
       "      <td>0.0</td>\n",
       "      <td>1</td>\n",
       "      <td>0</td>\n",
       "      <td>0</td>\n",
       "      <td>1</td>\n",
       "      <td>39.8935</td>\n",
       "      <td>13.578</td>\n",
       "    </tr>\n",
       "  </tbody>\n",
       "</table>\n",
       "</div>"
      ],
      "text/plain": [
       "   scenario    strategy meshedness  water_crew  power_crew  transpo_crew  \\\n",
       "0  point116    capacity       high           1           1             1   \n",
       "1  point116  centrality       high           1           1             1   \n",
       "2  point116        zone       high           1           1             1   \n",
       "3  point116    capacity        low           1           1             1   \n",
       "4  point116  centrality        low           1           1             1   \n",
       "\n",
       "   water_perf_ecs  water_perf_pcs  power_perf_ecs  power_perf_pcs  \\\n",
       "0           0.000           0.000             0.0             0.0   \n",
       "1           0.000           0.000             0.0             0.0   \n",
       "2           0.000           0.000             0.0             0.0   \n",
       "3          79.787          27.156             0.0             0.0   \n",
       "4          79.787          27.156             0.0             0.0   \n",
       "\n",
       "   water_mains  power_lines  transpo_links  all_compons  ecs_auc  pcs_auc  \n",
       "0            0            0              1            1   0.0000    0.000  \n",
       "1            0            0              1            1   0.0000    0.000  \n",
       "2            0            0              1            1   0.0000    0.000  \n",
       "3            1            0              0            1  39.8935   13.578  \n",
       "4            1            0              0            1  39.8935   13.578  "
      ]
     },
     "execution_count": 41,
     "metadata": {},
     "output_type": "execute_result"
    }
   ],
   "source": [
    "ml_df['ecs_auc'] = ml_df['water_perf_ecs']*0.5 + ml_df['power_perf_ecs']*0.5\n",
    "ml_df['pcs_auc'] = ml_df['water_perf_pcs']*0.5 + ml_df['power_perf_pcs']*0.5\n",
    "ml_df.head()"
   ]
  },
  {
   "cell_type": "code",
   "execution_count": 42,
   "metadata": {},
   "outputs": [
    {
     "data": {
      "text/plain": [
       "Index(['scenario', 'strategy', 'meshedness', 'water_crew', 'power_crew',\n",
       "       'transpo_crew', 'water_perf_ecs', 'water_perf_pcs', 'power_perf_ecs',\n",
       "       'power_perf_pcs', 'water_mains', 'power_lines', 'transpo_links',\n",
       "       'all_compons', 'ecs_auc', 'pcs_auc'],\n",
       "      dtype='object')"
      ]
     },
     "execution_count": 42,
     "metadata": {},
     "output_type": "execute_result"
    }
   ],
   "source": [
    "ml_df.columns"
   ]
  },
  {
   "cell_type": "code",
   "execution_count": 46,
   "metadata": {},
   "outputs": [],
   "source": [
    "\n",
    "import numpy as np\n",
    "from sklearn.ensemble import ExtraTreesRegressor\n",
    "from sklearn.feature_selection import SelectFromModel\n",
    "from sklearn.model_selection import train_test_split\n",
    "from sklearn.model_selection import GridSearchCV\n",
    "from sklearn import tree\n",
    "from sklearn.linear_model import LinearRegression"
   ]
  },
  {
   "cell_type": "markdown",
   "metadata": {},
   "source": [
    "## Decision Tree Model"
   ]
  },
  {
   "cell_type": "code",
   "execution_count": 44,
   "metadata": {},
   "outputs": [],
   "source": [
    "lab = 'ecs_auc'\n",
    "\n",
    "features = ml_df[['strategy', 'meshedness', \n",
    "                  'water_crew', 'power_crew', 'transpo_crew', \n",
    "                  'water_mains' , 'power_lines', 'transpo_links', lab]]\n",
    "features = features.replace('nan', np.NaN)\n",
    "features = features.dropna()\n",
    "\n",
    "labels = features[lab]\n",
    "del features[lab]\n",
    "features = pd.get_dummies(features)\n",
    "\n",
    "feature_list = list(features.columns)\n",
    "features = np.array(features)\n"
   ]
  },
  {
   "cell_type": "code",
   "execution_count": 47,
   "metadata": {},
   "outputs": [
    {
     "name": "stdout",
     "output_type": "stream",
     "text": [
      "['water_crew', 'power_crew', 'transpo_crew', 'water_mains', 'power_lines', 'transpo_links', 'strategy_capacity', 'strategy_centrality', 'strategy_zone', 'meshedness_high', 'meshedness_low', 'meshedness_med']\n",
      "[0.242 0.049 0.06  0.353 0.118 0.095 0.01  0.01  0.018 0.009 0.024 0.01 ]\n"
     ]
    },
    {
     "data": {
      "text/html": [
       "<div>\n",
       "<style scoped>\n",
       "    .dataframe tbody tr th:only-of-type {\n",
       "        vertical-align: middle;\n",
       "    }\n",
       "\n",
       "    .dataframe tbody tr th {\n",
       "        vertical-align: top;\n",
       "    }\n",
       "\n",
       "    .dataframe thead th {\n",
       "        text-align: right;\n",
       "    }\n",
       "</style>\n",
       "<table border=\"1\" class=\"dataframe\">\n",
       "  <thead>\n",
       "    <tr style=\"text-align: right;\">\n",
       "      <th></th>\n",
       "      <th>features</th>\n",
       "      <th>feature importance</th>\n",
       "    </tr>\n",
       "  </thead>\n",
       "  <tbody>\n",
       "    <tr>\n",
       "      <th>0</th>\n",
       "      <td>water_crew</td>\n",
       "      <td>0.242283</td>\n",
       "    </tr>\n",
       "    <tr>\n",
       "      <th>1</th>\n",
       "      <td>power_crew</td>\n",
       "      <td>0.048842</td>\n",
       "    </tr>\n",
       "    <tr>\n",
       "      <th>2</th>\n",
       "      <td>transpo_crew</td>\n",
       "      <td>0.060220</td>\n",
       "    </tr>\n",
       "    <tr>\n",
       "      <th>3</th>\n",
       "      <td>water_mains</td>\n",
       "      <td>0.352951</td>\n",
       "    </tr>\n",
       "    <tr>\n",
       "      <th>4</th>\n",
       "      <td>power_lines</td>\n",
       "      <td>0.118091</td>\n",
       "    </tr>\n",
       "    <tr>\n",
       "      <th>5</th>\n",
       "      <td>transpo_links</td>\n",
       "      <td>0.094833</td>\n",
       "    </tr>\n",
       "    <tr>\n",
       "      <th>6</th>\n",
       "      <td>strategy_capacity</td>\n",
       "      <td>0.010239</td>\n",
       "    </tr>\n",
       "    <tr>\n",
       "      <th>7</th>\n",
       "      <td>strategy_centrality</td>\n",
       "      <td>0.010265</td>\n",
       "    </tr>\n",
       "    <tr>\n",
       "      <th>8</th>\n",
       "      <td>strategy_zone</td>\n",
       "      <td>0.018202</td>\n",
       "    </tr>\n",
       "    <tr>\n",
       "      <th>9</th>\n",
       "      <td>meshedness_high</td>\n",
       "      <td>0.009456</td>\n",
       "    </tr>\n",
       "    <tr>\n",
       "      <th>10</th>\n",
       "      <td>meshedness_low</td>\n",
       "      <td>0.024341</td>\n",
       "    </tr>\n",
       "    <tr>\n",
       "      <th>11</th>\n",
       "      <td>meshedness_med</td>\n",
       "      <td>0.010277</td>\n",
       "    </tr>\n",
       "  </tbody>\n",
       "</table>\n",
       "</div>"
      ],
      "text/plain": [
       "               features  feature importance\n",
       "0            water_crew            0.242283\n",
       "1            power_crew            0.048842\n",
       "2          transpo_crew            0.060220\n",
       "3           water_mains            0.352951\n",
       "4           power_lines            0.118091\n",
       "5         transpo_links            0.094833\n",
       "6     strategy_capacity            0.010239\n",
       "7   strategy_centrality            0.010265\n",
       "8         strategy_zone            0.018202\n",
       "9       meshedness_high            0.009456\n",
       "10       meshedness_low            0.024341\n",
       "11       meshedness_med            0.010277"
      ]
     },
     "execution_count": 47,
     "metadata": {},
     "output_type": "execute_result"
    }
   ],
   "source": [
    "clf = ExtraTreesRegressor(n_estimators=500)\n",
    "clf = clf.fit(features, labels)\n",
    "\n",
    "print(feature_list)\n",
    "print(clf.feature_importances_)\n",
    "\n",
    "pd.DataFrame(data = {'features': feature_list,\n",
    "                     'feature importance': clf.feature_importances_})"
   ]
  },
  {
   "cell_type": "code",
   "execution_count": 48,
   "metadata": {},
   "outputs": [
    {
     "data": {
      "text/plain": [
       "(7300, 7)"
      ]
     },
     "execution_count": 48,
     "metadata": {},
     "output_type": "execute_result"
    }
   ],
   "source": [
    "model = SelectFromModel(clf, prefit=True, threshold = '0.5*median')\n",
    "features_new = model.transform(features)\n",
    "features_new.shape"
   ]
  },
  {
   "cell_type": "code",
   "execution_count": 49,
   "metadata": {},
   "outputs": [
    {
     "data": {
      "text/plain": [
       "['water_crew',\n",
       " 'power_crew',\n",
       " 'transpo_crew',\n",
       " 'water_mains',\n",
       " 'power_lines',\n",
       " 'transpo_links',\n",
       " 'meshedness_low']"
      ]
     },
     "execution_count": 49,
     "metadata": {},
     "output_type": "execute_result"
    }
   ],
   "source": [
    "feature_list_new = []\n",
    "\n",
    "for i, feature in enumerate(feature_list):\n",
    "    if model.get_support()[i]:\n",
    "        feature_list_new.append(feature)\n",
    "\n",
    "feature_list_new"
   ]
  },
  {
   "cell_type": "code",
   "execution_count": 50,
   "metadata": {},
   "outputs": [
    {
     "name": "stdout",
     "output_type": "stream",
     "text": [
      "Training Features Shape: (5475, 7)\n",
      "Training Labels Shape: (5475,)\n",
      "Testing Features Shape: (1825, 7)\n",
      "Testing Labels Shape: (1825,)\n"
     ]
    }
   ],
   "source": [
    "train_features, test_features, train_labels, test_labels = train_test_split(features_new, labels, test_size = 0.25, random_state = 43)\n",
    "print('Training Features Shape:', train_features.shape)\n",
    "print('Training Labels Shape:', train_labels.shape)\n",
    "print('Testing Features Shape:', test_features.shape)\n",
    "print('Testing Labels Shape:', test_labels.shape)"
   ]
  },
  {
   "cell_type": "code",
   "execution_count": 51,
   "metadata": {},
   "outputs": [
    {
     "name": "stdout",
     "output_type": "stream",
     "text": [
      "nan {'max_depth': 2, 'min_samples_leaf': 3}\n"
     ]
    }
   ],
   "source": [
    "parameters = {'max_depth':range(2,10), 'min_samples_leaf': range(3,10)}\n",
    "clf = GridSearchCV(tree.DecisionTreeRegressor(), parameters, n_jobs=5, scoring = 'accuracy')\n",
    "clf.fit(X=train_features, y=train_labels)\n",
    "tree_model = clf.best_estimator_\n",
    "print (clf.best_score_, clf.best_params_) "
   ]
  },
  {
   "cell_type": "code",
   "execution_count": 52,
   "metadata": {},
   "outputs": [
    {
     "data": {
      "text/plain": [
       "DecisionTreeRegressor(max_depth=2, min_samples_leaf=3, random_state=0)"
      ]
     },
     "execution_count": 52,
     "metadata": {},
     "output_type": "execute_result"
    }
   ],
   "source": [
    "clf = tree.DecisionTreeRegressor(max_depth = 2, random_state = 0, min_samples_leaf=3)\n",
    "# Train the model on training data\n",
    "clf.fit(train_features, train_labels)"
   ]
  },
  {
   "cell_type": "code",
   "execution_count": 53,
   "metadata": {},
   "outputs": [
    {
     "name": "stdout",
     "output_type": "stream",
     "text": [
      "273.0375941794084 0.5227670176615185 0.5221559639069238\n"
     ]
    }
   ],
   "source": [
    "y_pred=clf.predict(train_features)   \n",
    "\n",
    "def measure_performance(y_test, y_pred, X_train):\n",
    "    from sklearn.metrics import mean_squared_error, r2_score \n",
    "\n",
    "    rmse = np.sqrt(mean_squared_error(y_test,y_pred))\n",
    "    r2 = r2_score(y_test,y_pred)\n",
    "\n",
    "    # Scikit-learn doesn't have adjusted r-square, hence custom code\n",
    "    n = y_pred.shape[0]\n",
    "    k = X_train.shape[1]\n",
    "    adj_r_sq = 1 - (1 - r2)*(n-1)/(n-1-k)\n",
    "\n",
    "    print(rmse, r2, adj_r_sq)\n",
    "    \n",
    "        \n",
    "measure_performance(train_labels,y_pred, train_features)"
   ]
  },
  {
   "cell_type": "markdown",
   "metadata": {},
   "source": [
    "## Linear regression"
   ]
  },
  {
   "cell_type": "code",
   "execution_count": 54,
   "metadata": {},
   "outputs": [],
   "source": [
    "linear_regressor = LinearRegression()  # create object for the class\n",
    "linear_regressor.fit(train_features, train_labels)  # perform linear regression\n",
    "y_pred = linear_regressor.predict(train_features)  # make predictions"
   ]
  },
  {
   "cell_type": "code",
   "execution_count": 55,
   "metadata": {},
   "outputs": [
    {
     "name": "stdout",
     "output_type": "stream",
     "text": [
      "['water_crew', 'power_crew', 'transpo_crew', 'water_mains', 'power_lines', 'transpo_links', 'meshedness_low']\n",
      "[-86.604  -0.849 -45.66   44.372  17.129  63.42   96.007]\n"
     ]
    }
   ],
   "source": [
    "print(feature_list_new)\n",
    "print(linear_regressor.coef_)"
   ]
  },
  {
   "cell_type": "code",
   "execution_count": 56,
   "metadata": {},
   "outputs": [
    {
     "data": {
      "text/plain": [
       "0.5700239387254806"
      ]
     },
     "execution_count": 56,
     "metadata": {},
     "output_type": "execute_result"
    }
   ],
   "source": [
    "linear_regressor.score(train_features, train_labels, sample_weight=None)"
   ]
  }
 ],
 "metadata": {
  "interpreter": {
   "hash": "d457c6433f18c3837b6e3285bba28c013c3b86deb599c3954950bcdf8f1c827b"
  },
  "kernelspec": {
   "display_name": "Python 3.8.3 64-bit ('redcar': conda)",
   "name": "python3"
  },
  "language_info": {
   "codemirror_mode": {
    "name": "ipython",
    "version": 3
   },
   "file_extension": ".py",
   "mimetype": "text/x-python",
   "name": "python",
   "nbconvert_exporter": "python",
   "pygments_lexer": "ipython3",
   "version": "3.8.3"
  },
  "orig_nbformat": 4
 },
 "nbformat": 4,
 "nbformat_minor": 2
}
