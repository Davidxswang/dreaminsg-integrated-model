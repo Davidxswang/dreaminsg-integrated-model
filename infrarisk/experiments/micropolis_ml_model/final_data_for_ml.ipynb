{
 "cells": [
  {
   "cell_type": "markdown",
   "metadata": {},
   "source": [
    "### This notebook contains the codes to extract and process the necessary simulation data for constructing the machine learning model. The contents must be incorporated to the resilience_metrics.py once finalized."
   ]
  },
  {
   "cell_type": "code",
   "execution_count": 1,
   "metadata": {},
   "outputs": [],
   "source": [
    "%load_ext autoreload\n",
    "%autoreload 2\n",
    "\n",
    "import warnings\n",
    "warnings.filterwarnings('ignore')\n",
    "\n",
    "from IPython.display import clear_output\n",
    "\n",
    "import os\n",
    "import pandas as pd\n",
    "from pathlib import Path\n",
    "from sklearn import metrics\n",
    "import statistics\n",
    "import copy\n",
    "\n",
    "import infrarisk.src.network_sim_models.interdependencies as interdependencies\n",
    "from infrarisk.src.network_sim_models.integrated_network import *"
   ]
  },
  {
   "cell_type": "code",
   "execution_count": 2,
   "metadata": {},
   "outputs": [
    {
     "name": "stdout",
     "output_type": "stream",
     "text": [
      "Water network successfully loaded from ..\\..\\data\\networks\\micropolis\\water/water.inp. The analysis type is set to PDA.\n",
      "initial simulation duration: 60s; hydraulic time step: 60s; pattern time step: 3600s\n",
      "\n",
      "Power system successfully loaded from ..\\..\\data\\networks\\micropolis\\power\\power.json. Single phase power flow simulation will be used.\n",
      "\n"
     ]
    }
   ],
   "source": [
    "\n",
    "network_dir = Path('../../data/networks/micropolis')\n",
    "water_folder = network_dir/'water'\n",
    "power_folder = network_dir/'power'\n",
    "\n",
    "micropolis_network = IntegratedNetwork(name = 'Micropolis', \n",
    "                                       water_folder= water_folder,\n",
    "                                       power_folder = power_folder,\n",
    "                                       water_sim_type = 'PDA',\n",
    "                                       power_sim_type='1ph')"
   ]
  },
  {
   "cell_type": "code",
   "execution_count": 14,
   "metadata": {},
   "outputs": [],
   "source": [
    "# Set scenarios folder\n",
    "folder = Path('../../data/networks/micropolis/scenarios')\n",
    "#scenarios = [f for f in sorted(os.listdir(folder))]\n",
    "scenarios = ['beatrice_sim']\n",
    "\n",
    "#list of recovery strategies to be considered\n",
    "#strategies = ['capacity', 'centrality', 'crewdist', 'zone']\n",
    "strategies = ['capacity']\n",
    "\n",
    "#create the empty dataframe for ML dataset\n",
    "ml_df = pd.DataFrame(columns =[\"scenario\",\n",
    "         \"strategy\",\n",
    "         'water_perf_ecs',\n",
    "         'water_perf_pcs',\n",
    "         'power_perf_ecs',\n",
    "         'power_perf_pcs',\n",
    "         'water_mains',\n",
    "         \"water_pumps\", \n",
    "         \"water_tanks\",\n",
    "         \"power_lines\", \n",
    "         \"transpo_links\",\n",
    "         \"all_compons\"])\n",
    "\n",
    "abnormal_results = []\n",
    "\n",
    "junc_list = micropolis_network.wn.junction_name_list\n",
    "base_water_demands = micropolis_network.base_water_node_supply\n",
    "base_power_demands = micropolis_network.base_power_supply\n"
   ]
  },
  {
   "cell_type": "code",
   "execution_count": 15,
   "metadata": {},
   "outputs": [
    {
     "name": "stdout",
     "output_type": "stream",
     "text": [
      "0 .  beatrice_sim\n",
      "['beatrice_sim', 'capacity', 1702.945, 1673.978, 2892.0, 2892.0, 11, 0, 0, 0, 0, 11]\n"
     ]
    }
   ],
   "source": [
    "for index, scenario in enumerate(scenarios):\n",
    "    print(index, \". \", scenario)\n",
    "    ml_df_new = {\"scenario\": scenario,\n",
    "         \"strategy\": None,\n",
    "         'water_perf_ecs': None,\n",
    "         'water_perf_pcs': None,\n",
    "         'power_perf_ecs': None ,\n",
    "         'power_perf_pcs': None,\n",
    "         \"water_mains\": 0, \"water_pumps\": 0, \"water_tanks\":0,\n",
    "         \"power_lines\": 0, \"transpo_links\": 0, \"all_compons\": 0}\n",
    "    \n",
    "    disruption_file = pd.read_csv(f\"{folder}/{scenario}/disruption_file.csv\")\n",
    "    ml_df_new[\"all_compons\"] = disruption_file.shape[0]\n",
    "    for _, row in disruption_file.iterrows():\n",
    "        if row['components'].startswith('P_L'):\n",
    "            ml_df_new['power_lines'] += 1\n",
    "        elif row['components'].startswith('W_PMA'):\n",
    "            ml_df_new['water_mains'] += 1\n",
    "        elif row['components'].startswith('W_T'):\n",
    "            ml_df_new['water_tanks'] += 1\n",
    "        elif row['components'].startswith('W_WP'):\n",
    "            ml_df_new['water_pumps'] += 1\n",
    "        elif row['components'].startswith('T_L'):\n",
    "            ml_df_new['transpo_links'] += 1\n",
    "        else:\n",
    "            print(\"Component type not detectable.\")            \n",
    "    \n",
    "    for strategy in strategies:  \n",
    "        ml_df_new['strategy'] = strategy\n",
    "        water_demands_file = f\"{folder}/{scenario}/{strategy}/water_junc_demand.csv\"\n",
    "        power_demands_file = f\"{folder}/{scenario}/{strategy}/power_load_demand.csv\"\n",
    "        water_pressure_file = f\"{folder}/{scenario}/{strategy}/water_node_pressure.csv\"\n",
    "        \n",
    "        if os.path.isfile(water_demands_file):\n",
    "            water_demands = pd.read_csv(water_demands_file, sep = \"\\t\")\n",
    "            water_time_list = water_demands.time/60\n",
    "            water_time_list = water_time_list.tolist()\n",
    "            rel_time_list = water_demands['time'] % (24*3600)\n",
    "            index_list = [int(x/60) for x in rel_time_list]\n",
    "            water_demands = water_demands[junc_list]\n",
    "            \n",
    "            water_pressures = pd.read_csv(water_pressure_file, sep = \"\\t\")\n",
    "            water_pressures = water_pressures[junc_list]\n",
    "            water_press_corrections = copy.deepcopy(water_pressures)\n",
    "            \n",
    "            # if micropolis_network.water_sim_type == \"DDA\":\n",
    "            #     for index, column in enumerate(water_pressures.columns):\n",
    "            #         water_press_corrections[column] = water_pressures[column].apply(lambda x: 0 if x <= 0 \n",
    "            #                 else ((x/wn.options.hydraulic.threshold_pressure)**0.5 if x <= wn.options.hydraulic.threshold_pressure else x))\n",
    "            #     water_demands = water_demands * water_press_corrections\n",
    "            \n",
    "            power_demands = pd.read_csv(power_demands_file, sep = \"\\t\")\n",
    "            power_time_list = power_demands.time/60\n",
    "            power_time_list= power_time_list.tolist()\n",
    "            \n",
    "            base_water_demands_new = base_water_demands.iloc[index_list].reset_index(drop=True)\n",
    "            base_water_demands_new = base_water_demands_new[junc_list]\n",
    "            \n",
    "            water_demands_ratio = water_demands/ base_water_demands_new\n",
    "            water_demands_ratio = water_demands_ratio.clip(upper=1)\n",
    "            \n",
    "            water_ecs_list = water_demands_ratio.mean(axis = 1, skipna = True).tolist()\n",
    "            \n",
    "            if water_ecs_list[-1] < 0.9:\n",
    "                abnormal_results.append(scenario)\n",
    "                \n",
    "            water_pcs_list = pd.concat([water_demands, base_water_demands_new]).min(level=0).sum(axis=1, skipna = True)/base_water_demands_new.sum(axis=1, skipna = True)\n",
    "            water_pcs_list = water_pcs_list.tolist()\n",
    "\n",
    "            base_load_demands = pd.DataFrame(base_power_demands.load.p_mw.tolist() + base_power_demands.motor.pn_mech_mw.tolist()).transpose()\n",
    "            base_load_demands.columns = base_power_demands.load.name.tolist() + base_power_demands.motor.name.tolist()\n",
    "            base_load_demands = pd.concat([base_load_demands]*(power_demands.shape[0])).reset_index(drop=True)\n",
    "\n",
    "            power_demand_ratio = power_demands.iloc[:,1:] / base_load_demands\n",
    "            power_demand_ratio = power_demand_ratio.clip(upper=1)\n",
    "\n",
    "            power_ecs_list = power_demand_ratio.mean(axis = 1, skipna = True).tolist()\n",
    "            power_pcs_list = pd.concat([power_demands.iloc[:,1:], base_load_demands]).min(level=0).sum(axis=1, skipna = True)/base_load_demands.sum(axis=1, skipna = True)\n",
    "            power_pcs_list = power_pcs_list.tolist()\n",
    "            \n",
    "            ml_df_new['water_perf_ecs'] = round(metrics.auc(water_time_list, water_ecs_list), 3)\n",
    "            ml_df_new['water_perf_pcs'] = round(metrics.auc(water_time_list, water_pcs_list), 3)\n",
    "            ml_df_new['power_perf_ecs'] = round(metrics.auc(power_time_list, power_ecs_list), 3)\n",
    "            ml_df_new['power_perf_pcs'] = round(metrics.auc(power_time_list, power_pcs_list), 3)\n",
    "            \n",
    "            power_auc_df = pd.DataFrame(data = {'time': power_time_list, \n",
    "                                                'ecs': power_ecs_list, \n",
    "                                                'pcs': power_pcs_list})\n",
    "            power_auc_df.to_csv(f\"{folder}/{scenario}/{strategy}/power_auc.csv\", index = False)\n",
    "            \n",
    "            water_auc_df = pd.DataFrame(data = {'time': water_time_list, \n",
    "                                                'ecs': water_ecs_list, \n",
    "                                                'pcs': water_pcs_list})\n",
    "            water_auc_df.to_csv(f\"{folder}/{scenario}/{strategy}/water_auc.csv\", index = False)\n",
    "            \n",
    "            ml_df = ml_df.append(ml_df_new, ignore_index=True)\n",
    "            print(ml_df.iloc[-1,:].tolist())\n",
    "            \n",
    "        else:\n",
    "            pass\n",
    "    clear_output(wait=True)\n",
    "    \n",
    "abnormal_results = list(set(abnormal_results))"
   ]
  },
  {
   "cell_type": "code",
   "execution_count": 6,
   "metadata": {},
   "outputs": [
    {
     "data": {
      "text/plain": [
       "[]"
      ]
     },
     "execution_count": 6,
     "metadata": {},
     "output_type": "execute_result"
    }
   ],
   "source": [
    "abnormal_results"
   ]
  },
  {
   "cell_type": "code",
   "execution_count": 5,
   "metadata": {},
   "outputs": [
    {
     "data": {
      "text/html": [
       "<div>\n",
       "<style scoped>\n",
       "    .dataframe tbody tr th:only-of-type {\n",
       "        vertical-align: middle;\n",
       "    }\n",
       "\n",
       "    .dataframe tbody tr th {\n",
       "        vertical-align: top;\n",
       "    }\n",
       "\n",
       "    .dataframe thead th {\n",
       "        text-align: right;\n",
       "    }\n",
       "</style>\n",
       "<table border=\"1\" class=\"dataframe\">\n",
       "  <thead>\n",
       "    <tr style=\"text-align: right;\">\n",
       "      <th></th>\n",
       "      <th>scenario</th>\n",
       "      <th>strategy</th>\n",
       "      <th>water_perf_ecs</th>\n",
       "      <th>water_perf_pcs</th>\n",
       "      <th>power_perf_ecs</th>\n",
       "      <th>power_perf_pcs</th>\n",
       "      <th>water_mains</th>\n",
       "      <th>water_pumps</th>\n",
       "      <th>water_tanks</th>\n",
       "      <th>power_lines</th>\n",
       "      <th>transpo_links</th>\n",
       "      <th>all_compons</th>\n",
       "    </tr>\n",
       "  </thead>\n",
       "  <tbody>\n",
       "  </tbody>\n",
       "</table>\n",
       "</div>"
      ],
      "text/plain": [
       "Empty DataFrame\n",
       "Columns: [scenario, strategy, water_perf_ecs, water_perf_pcs, power_perf_ecs, power_perf_pcs, water_mains, water_pumps, water_tanks, power_lines, transpo_links, all_compons]\n",
       "Index: []"
      ]
     },
     "execution_count": 5,
     "metadata": {},
     "output_type": "execute_result"
    }
   ],
   "source": [
    "ml_df"
   ]
  },
  {
   "cell_type": "code",
   "execution_count": 18,
   "metadata": {},
   "outputs": [],
   "source": [
    "ml_df.to_csv(\"auc_df.csv\", index = False)"
   ]
  },
  {
   "cell_type": "code",
   "execution_count": 4,
   "metadata": {},
   "outputs": [
    {
     "data": {
      "text/html": [
       "<div>\n",
       "<style scoped>\n",
       "    .dataframe tbody tr th:only-of-type {\n",
       "        vertical-align: middle;\n",
       "    }\n",
       "\n",
       "    .dataframe tbody tr th {\n",
       "        vertical-align: top;\n",
       "    }\n",
       "\n",
       "    .dataframe thead th {\n",
       "        text-align: right;\n",
       "    }\n",
       "</style>\n",
       "<table border=\"1\" class=\"dataframe\">\n",
       "  <thead>\n",
       "    <tr style=\"text-align: right;\">\n",
       "      <th></th>\n",
       "      <th>scenario</th>\n",
       "      <th>strategy</th>\n",
       "      <th>water_perf_ecs</th>\n",
       "      <th>water_perf_pcs</th>\n",
       "      <th>power_perf_ecs</th>\n",
       "      <th>power_perf_pcs</th>\n",
       "      <th>water_mains</th>\n",
       "      <th>water_pumps</th>\n",
       "      <th>water_tanks</th>\n",
       "      <th>power_lines</th>\n",
       "      <th>transpo_links</th>\n",
       "      <th>all_compons</th>\n",
       "    </tr>\n",
       "  </thead>\n",
       "  <tbody>\n",
       "    <tr>\n",
       "      <th>0</th>\n",
       "      <td>point130</td>\n",
       "      <td>capacity</td>\n",
       "      <td>101.0</td>\n",
       "      <td>101.0</td>\n",
       "      <td>100.0</td>\n",
       "      <td>100.0</td>\n",
       "      <td>0</td>\n",
       "      <td>0</td>\n",
       "      <td>0</td>\n",
       "      <td>0</td>\n",
       "      <td>1</td>\n",
       "      <td>1</td>\n",
       "    </tr>\n",
       "    <tr>\n",
       "      <th>1</th>\n",
       "      <td>point130</td>\n",
       "      <td>centrality</td>\n",
       "      <td>101.0</td>\n",
       "      <td>101.0</td>\n",
       "      <td>100.0</td>\n",
       "      <td>100.0</td>\n",
       "      <td>0</td>\n",
       "      <td>0</td>\n",
       "      <td>0</td>\n",
       "      <td>0</td>\n",
       "      <td>1</td>\n",
       "      <td>1</td>\n",
       "    </tr>\n",
       "    <tr>\n",
       "      <th>2</th>\n",
       "      <td>point130</td>\n",
       "      <td>crewdist</td>\n",
       "      <td>101.0</td>\n",
       "      <td>101.0</td>\n",
       "      <td>100.0</td>\n",
       "      <td>100.0</td>\n",
       "      <td>0</td>\n",
       "      <td>0</td>\n",
       "      <td>0</td>\n",
       "      <td>0</td>\n",
       "      <td>1</td>\n",
       "      <td>1</td>\n",
       "    </tr>\n",
       "    <tr>\n",
       "      <th>3</th>\n",
       "      <td>point130</td>\n",
       "      <td>zone</td>\n",
       "      <td>101.0</td>\n",
       "      <td>101.0</td>\n",
       "      <td>100.0</td>\n",
       "      <td>100.0</td>\n",
       "      <td>0</td>\n",
       "      <td>0</td>\n",
       "      <td>0</td>\n",
       "      <td>0</td>\n",
       "      <td>1</td>\n",
       "      <td>1</td>\n",
       "    </tr>\n",
       "    <tr>\n",
       "      <th>4</th>\n",
       "      <td>point17</td>\n",
       "      <td>capacity</td>\n",
       "      <td>415.0</td>\n",
       "      <td>415.0</td>\n",
       "      <td>414.0</td>\n",
       "      <td>414.0</td>\n",
       "      <td>0</td>\n",
       "      <td>0</td>\n",
       "      <td>0</td>\n",
       "      <td>1</td>\n",
       "      <td>0</td>\n",
       "      <td>1</td>\n",
       "    </tr>\n",
       "  </tbody>\n",
       "</table>\n",
       "</div>"
      ],
      "text/plain": [
       "   scenario    strategy  water_perf_ecs  water_perf_pcs  power_perf_ecs  \\\n",
       "0  point130    capacity           101.0           101.0           100.0   \n",
       "1  point130  centrality           101.0           101.0           100.0   \n",
       "2  point130    crewdist           101.0           101.0           100.0   \n",
       "3  point130        zone           101.0           101.0           100.0   \n",
       "4   point17    capacity           415.0           415.0           414.0   \n",
       "\n",
       "   power_perf_pcs  water_mains  water_pumps  water_tanks  power_lines  \\\n",
       "0           100.0            0            0            0            0   \n",
       "1           100.0            0            0            0            0   \n",
       "2           100.0            0            0            0            0   \n",
       "3           100.0            0            0            0            0   \n",
       "4           414.0            0            0            0            1   \n",
       "\n",
       "   transpo_links  all_compons  \n",
       "0              1            1  \n",
       "1              1            1  \n",
       "2              1            1  \n",
       "3              1            1  \n",
       "4              0            1  "
      ]
     },
     "execution_count": 4,
     "metadata": {},
     "output_type": "execute_result"
    }
   ],
   "source": [
    "ml_df = pd.read_csv(\"auc_df.csv\")\n",
    "ml_df.head()"
   ]
  },
  {
   "cell_type": "code",
   "execution_count": 5,
   "metadata": {},
   "outputs": [
    {
     "data": {
      "text/html": [
       "<div>\n",
       "<style scoped>\n",
       "    .dataframe tbody tr th:only-of-type {\n",
       "        vertical-align: middle;\n",
       "    }\n",
       "\n",
       "    .dataframe tbody tr th {\n",
       "        vertical-align: top;\n",
       "    }\n",
       "\n",
       "    .dataframe thead th {\n",
       "        text-align: right;\n",
       "    }\n",
       "</style>\n",
       "<table border=\"1\" class=\"dataframe\">\n",
       "  <thead>\n",
       "    <tr style=\"text-align: right;\">\n",
       "      <th></th>\n",
       "      <th>scenario</th>\n",
       "      <th>strategy</th>\n",
       "      <th>water_perf_ecs</th>\n",
       "      <th>water_perf_pcs</th>\n",
       "      <th>power_perf_ecs</th>\n",
       "      <th>power_perf_pcs</th>\n",
       "      <th>water_mains</th>\n",
       "      <th>water_pumps</th>\n",
       "      <th>water_tanks</th>\n",
       "      <th>power_lines</th>\n",
       "      <th>transpo_links</th>\n",
       "      <th>all_compons</th>\n",
       "      <th>ecs_auc</th>\n",
       "      <th>pcs_auc</th>\n",
       "    </tr>\n",
       "  </thead>\n",
       "  <tbody>\n",
       "    <tr>\n",
       "      <th>0</th>\n",
       "      <td>point130</td>\n",
       "      <td>capacity</td>\n",
       "      <td>101.0</td>\n",
       "      <td>101.0</td>\n",
       "      <td>100.0</td>\n",
       "      <td>100.0</td>\n",
       "      <td>0</td>\n",
       "      <td>0</td>\n",
       "      <td>0</td>\n",
       "      <td>0</td>\n",
       "      <td>1</td>\n",
       "      <td>1</td>\n",
       "      <td>100.5</td>\n",
       "      <td>100.5</td>\n",
       "    </tr>\n",
       "    <tr>\n",
       "      <th>1</th>\n",
       "      <td>point130</td>\n",
       "      <td>centrality</td>\n",
       "      <td>101.0</td>\n",
       "      <td>101.0</td>\n",
       "      <td>100.0</td>\n",
       "      <td>100.0</td>\n",
       "      <td>0</td>\n",
       "      <td>0</td>\n",
       "      <td>0</td>\n",
       "      <td>0</td>\n",
       "      <td>1</td>\n",
       "      <td>1</td>\n",
       "      <td>100.5</td>\n",
       "      <td>100.5</td>\n",
       "    </tr>\n",
       "    <tr>\n",
       "      <th>2</th>\n",
       "      <td>point130</td>\n",
       "      <td>crewdist</td>\n",
       "      <td>101.0</td>\n",
       "      <td>101.0</td>\n",
       "      <td>100.0</td>\n",
       "      <td>100.0</td>\n",
       "      <td>0</td>\n",
       "      <td>0</td>\n",
       "      <td>0</td>\n",
       "      <td>0</td>\n",
       "      <td>1</td>\n",
       "      <td>1</td>\n",
       "      <td>100.5</td>\n",
       "      <td>100.5</td>\n",
       "    </tr>\n",
       "    <tr>\n",
       "      <th>3</th>\n",
       "      <td>point130</td>\n",
       "      <td>zone</td>\n",
       "      <td>101.0</td>\n",
       "      <td>101.0</td>\n",
       "      <td>100.0</td>\n",
       "      <td>100.0</td>\n",
       "      <td>0</td>\n",
       "      <td>0</td>\n",
       "      <td>0</td>\n",
       "      <td>0</td>\n",
       "      <td>1</td>\n",
       "      <td>1</td>\n",
       "      <td>100.5</td>\n",
       "      <td>100.5</td>\n",
       "    </tr>\n",
       "    <tr>\n",
       "      <th>4</th>\n",
       "      <td>point17</td>\n",
       "      <td>capacity</td>\n",
       "      <td>415.0</td>\n",
       "      <td>415.0</td>\n",
       "      <td>414.0</td>\n",
       "      <td>414.0</td>\n",
       "      <td>0</td>\n",
       "      <td>0</td>\n",
       "      <td>0</td>\n",
       "      <td>1</td>\n",
       "      <td>0</td>\n",
       "      <td>1</td>\n",
       "      <td>414.5</td>\n",
       "      <td>414.5</td>\n",
       "    </tr>\n",
       "  </tbody>\n",
       "</table>\n",
       "</div>"
      ],
      "text/plain": [
       "   scenario    strategy  water_perf_ecs  water_perf_pcs  power_perf_ecs  \\\n",
       "0  point130    capacity           101.0           101.0           100.0   \n",
       "1  point130  centrality           101.0           101.0           100.0   \n",
       "2  point130    crewdist           101.0           101.0           100.0   \n",
       "3  point130        zone           101.0           101.0           100.0   \n",
       "4   point17    capacity           415.0           415.0           414.0   \n",
       "\n",
       "   power_perf_pcs  water_mains  water_pumps  water_tanks  power_lines  \\\n",
       "0           100.0            0            0            0            0   \n",
       "1           100.0            0            0            0            0   \n",
       "2           100.0            0            0            0            0   \n",
       "3           100.0            0            0            0            0   \n",
       "4           414.0            0            0            0            1   \n",
       "\n",
       "   transpo_links  all_compons  ecs_auc  pcs_auc  \n",
       "0              1            1    100.5    100.5  \n",
       "1              1            1    100.5    100.5  \n",
       "2              1            1    100.5    100.5  \n",
       "3              1            1    100.5    100.5  \n",
       "4              0            1    414.5    414.5  "
      ]
     },
     "execution_count": 5,
     "metadata": {},
     "output_type": "execute_result"
    }
   ],
   "source": [
    "ml_df['ecs_auc'] = ml_df['water_perf_ecs']*0.5 + ml_df['power_perf_ecs']*0.5\n",
    "ml_df['pcs_auc'] = ml_df['water_perf_pcs']*0.5 + ml_df['power_perf_pcs']*0.5\n",
    "ml_df.head()"
   ]
  },
  {
   "cell_type": "code",
   "execution_count": 7,
   "metadata": {},
   "outputs": [
    {
     "data": {
      "text/plain": [
       "Index(['scenario', 'strategy', 'water_perf_ecs', 'water_perf_pcs',\n",
       "       'power_perf_ecs', 'power_perf_pcs', 'water_mains', 'water_pumps',\n",
       "       'water_tanks', 'power_lines', 'transpo_links', 'all_compons', 'ecs_auc',\n",
       "       'pcs_auc'],\n",
       "      dtype='object')"
      ]
     },
     "execution_count": 7,
     "metadata": {},
     "output_type": "execute_result"
    }
   ],
   "source": [
    "ml_df.columns"
   ]
  },
  {
   "cell_type": "code",
   "execution_count": 2,
   "metadata": {},
   "outputs": [],
   "source": [
    "\n",
    "import numpy as np\n",
    "from sklearn.ensemble import ExtraTreesRegressor\n",
    "from sklearn.feature_selection import SelectFromModel\n",
    "from sklearn.model_selection import train_test_split\n",
    "from sklearn.model_selection import GridSearchCV\n",
    "from sklearn import tree\n",
    "from sklearn.linear_model import LinearRegression"
   ]
  },
  {
   "cell_type": "markdown",
   "metadata": {},
   "source": [
    "## Decision Tree Model"
   ]
  },
  {
   "cell_type": "code",
   "execution_count": 10,
   "metadata": {},
   "outputs": [
    {
     "ename": "KeyError",
     "evalue": "\"['ecs_auc'] not in index\"",
     "output_type": "error",
     "traceback": [
      "\u001b[1;31m---------------------------------------------------------------------------\u001b[0m",
      "\u001b[1;31mKeyError\u001b[0m                                  Traceback (most recent call last)",
      "\u001b[1;32m~\\AppData\\Local\\Temp/ipykernel_13160/3116457491.py\u001b[0m in \u001b[0;36m<module>\u001b[1;34m\u001b[0m\n\u001b[0;32m      1\u001b[0m \u001b[0mlab\u001b[0m \u001b[1;33m=\u001b[0m \u001b[1;34m'ecs_auc'\u001b[0m\u001b[1;33m\u001b[0m\u001b[1;33m\u001b[0m\u001b[0m\n\u001b[0;32m      2\u001b[0m \u001b[1;33m\u001b[0m\u001b[0m\n\u001b[1;32m----> 3\u001b[1;33m features = ml_df[['strategy', 'water_pumps', 'water_mains', 'water_tanks', 'power_lines',\n\u001b[0m\u001b[0;32m      4\u001b[0m                   'transpo_links', lab]]\n\u001b[0;32m      5\u001b[0m \u001b[0mfeatures\u001b[0m \u001b[1;33m=\u001b[0m \u001b[0mfeatures\u001b[0m\u001b[1;33m.\u001b[0m\u001b[0mreplace\u001b[0m\u001b[1;33m(\u001b[0m\u001b[1;34m'nan'\u001b[0m\u001b[1;33m,\u001b[0m \u001b[0mnp\u001b[0m\u001b[1;33m.\u001b[0m\u001b[0mNaN\u001b[0m\u001b[1;33m)\u001b[0m\u001b[1;33m\u001b[0m\u001b[1;33m\u001b[0m\u001b[0m\n",
      "\u001b[1;32m~\\anaconda3\\envs\\redcar\\lib\\site-packages\\pandas\\core\\frame.py\u001b[0m in \u001b[0;36m__getitem__\u001b[1;34m(self, key)\u001b[0m\n\u001b[0;32m   3459\u001b[0m             \u001b[1;32mif\u001b[0m \u001b[0mis_iterator\u001b[0m\u001b[1;33m(\u001b[0m\u001b[0mkey\u001b[0m\u001b[1;33m)\u001b[0m\u001b[1;33m:\u001b[0m\u001b[1;33m\u001b[0m\u001b[1;33m\u001b[0m\u001b[0m\n\u001b[0;32m   3460\u001b[0m                 \u001b[0mkey\u001b[0m \u001b[1;33m=\u001b[0m \u001b[0mlist\u001b[0m\u001b[1;33m(\u001b[0m\u001b[0mkey\u001b[0m\u001b[1;33m)\u001b[0m\u001b[1;33m\u001b[0m\u001b[1;33m\u001b[0m\u001b[0m\n\u001b[1;32m-> 3461\u001b[1;33m             \u001b[0mindexer\u001b[0m \u001b[1;33m=\u001b[0m \u001b[0mself\u001b[0m\u001b[1;33m.\u001b[0m\u001b[0mloc\u001b[0m\u001b[1;33m.\u001b[0m\u001b[0m_get_listlike_indexer\u001b[0m\u001b[1;33m(\u001b[0m\u001b[0mkey\u001b[0m\u001b[1;33m,\u001b[0m \u001b[0maxis\u001b[0m\u001b[1;33m=\u001b[0m\u001b[1;36m1\u001b[0m\u001b[1;33m)\u001b[0m\u001b[1;33m[\u001b[0m\u001b[1;36m1\u001b[0m\u001b[1;33m]\u001b[0m\u001b[1;33m\u001b[0m\u001b[1;33m\u001b[0m\u001b[0m\n\u001b[0m\u001b[0;32m   3462\u001b[0m \u001b[1;33m\u001b[0m\u001b[0m\n\u001b[0;32m   3463\u001b[0m         \u001b[1;31m# take() does not accept boolean indexers\u001b[0m\u001b[1;33m\u001b[0m\u001b[1;33m\u001b[0m\u001b[1;33m\u001b[0m\u001b[0m\n",
      "\u001b[1;32m~\\anaconda3\\envs\\redcar\\lib\\site-packages\\pandas\\core\\indexing.py\u001b[0m in \u001b[0;36m_get_listlike_indexer\u001b[1;34m(self, key, axis)\u001b[0m\n\u001b[0;32m   1312\u001b[0m             \u001b[0mkeyarr\u001b[0m\u001b[1;33m,\u001b[0m \u001b[0mindexer\u001b[0m\u001b[1;33m,\u001b[0m \u001b[0mnew_indexer\u001b[0m \u001b[1;33m=\u001b[0m \u001b[0max\u001b[0m\u001b[1;33m.\u001b[0m\u001b[0m_reindex_non_unique\u001b[0m\u001b[1;33m(\u001b[0m\u001b[0mkeyarr\u001b[0m\u001b[1;33m)\u001b[0m\u001b[1;33m\u001b[0m\u001b[1;33m\u001b[0m\u001b[0m\n\u001b[0;32m   1313\u001b[0m \u001b[1;33m\u001b[0m\u001b[0m\n\u001b[1;32m-> 1314\u001b[1;33m         \u001b[0mself\u001b[0m\u001b[1;33m.\u001b[0m\u001b[0m_validate_read_indexer\u001b[0m\u001b[1;33m(\u001b[0m\u001b[0mkeyarr\u001b[0m\u001b[1;33m,\u001b[0m \u001b[0mindexer\u001b[0m\u001b[1;33m,\u001b[0m \u001b[0maxis\u001b[0m\u001b[1;33m)\u001b[0m\u001b[1;33m\u001b[0m\u001b[1;33m\u001b[0m\u001b[0m\n\u001b[0m\u001b[0;32m   1315\u001b[0m \u001b[1;33m\u001b[0m\u001b[0m\n\u001b[0;32m   1316\u001b[0m         if needs_i8_conversion(ax.dtype) or isinstance(\n",
      "\u001b[1;32m~\\anaconda3\\envs\\redcar\\lib\\site-packages\\pandas\\core\\indexing.py\u001b[0m in \u001b[0;36m_validate_read_indexer\u001b[1;34m(self, key, indexer, axis)\u001b[0m\n\u001b[0;32m   1375\u001b[0m \u001b[1;33m\u001b[0m\u001b[0m\n\u001b[0;32m   1376\u001b[0m             \u001b[0mnot_found\u001b[0m \u001b[1;33m=\u001b[0m \u001b[0mlist\u001b[0m\u001b[1;33m(\u001b[0m\u001b[0mensure_index\u001b[0m\u001b[1;33m(\u001b[0m\u001b[0mkey\u001b[0m\u001b[1;33m)\u001b[0m\u001b[1;33m[\u001b[0m\u001b[0mmissing_mask\u001b[0m\u001b[1;33m.\u001b[0m\u001b[0mnonzero\u001b[0m\u001b[1;33m(\u001b[0m\u001b[1;33m)\u001b[0m\u001b[1;33m[\u001b[0m\u001b[1;36m0\u001b[0m\u001b[1;33m]\u001b[0m\u001b[1;33m]\u001b[0m\u001b[1;33m.\u001b[0m\u001b[0munique\u001b[0m\u001b[1;33m(\u001b[0m\u001b[1;33m)\u001b[0m\u001b[1;33m)\u001b[0m\u001b[1;33m\u001b[0m\u001b[1;33m\u001b[0m\u001b[0m\n\u001b[1;32m-> 1377\u001b[1;33m             \u001b[1;32mraise\u001b[0m \u001b[0mKeyError\u001b[0m\u001b[1;33m(\u001b[0m\u001b[1;34mf\"{not_found} not in index\"\u001b[0m\u001b[1;33m)\u001b[0m\u001b[1;33m\u001b[0m\u001b[1;33m\u001b[0m\u001b[0m\n\u001b[0m\u001b[0;32m   1378\u001b[0m \u001b[1;33m\u001b[0m\u001b[0m\n\u001b[0;32m   1379\u001b[0m \u001b[1;33m\u001b[0m\u001b[0m\n",
      "\u001b[1;31mKeyError\u001b[0m: \"['ecs_auc'] not in index\""
     ]
    }
   ],
   "source": [
    "lab = 'ecs_auc'\n",
    "\n",
    "features = ml_df[['strategy', 'water_pumps', 'water_mains', 'water_tanks', 'power_lines',\n",
    "                  'transpo_links', lab]]\n",
    "features = features.replace('nan', np.NaN)\n",
    "features = features.dropna()\n",
    "\n",
    "labels = features[lab]\n",
    "del features[lab]\n",
    "features = pd.get_dummies(features)\n",
    "\n",
    "feature_list = list(features.columns)\n",
    "features = np.array(features)\n"
   ]
  },
  {
   "cell_type": "code",
   "execution_count": 36,
   "metadata": {},
   "outputs": [
    {
     "name": "stdout",
     "output_type": "stream",
     "text": [
      "['water_pumps', 'water_mains', 'water_tanks', 'power_lines', 'transpo_links', 'strategy_capacity', 'strategy_centrality', 'strategy_crewdist', 'strategy_zone']\n",
      "[0.    0.329 0.    0.362 0.24  0.015 0.018 0.022 0.013]\n"
     ]
    },
    {
     "data": {
      "text/html": [
       "<div>\n",
       "<style scoped>\n",
       "    .dataframe tbody tr th:only-of-type {\n",
       "        vertical-align: middle;\n",
       "    }\n",
       "\n",
       "    .dataframe tbody tr th {\n",
       "        vertical-align: top;\n",
       "    }\n",
       "\n",
       "    .dataframe thead th {\n",
       "        text-align: right;\n",
       "    }\n",
       "</style>\n",
       "<table border=\"1\" class=\"dataframe\">\n",
       "  <thead>\n",
       "    <tr style=\"text-align: right;\">\n",
       "      <th></th>\n",
       "      <th>features</th>\n",
       "      <th>feature importance</th>\n",
       "    </tr>\n",
       "  </thead>\n",
       "  <tbody>\n",
       "    <tr>\n",
       "      <th>0</th>\n",
       "      <td>water_pumps</td>\n",
       "      <td>0.000000</td>\n",
       "    </tr>\n",
       "    <tr>\n",
       "      <th>1</th>\n",
       "      <td>water_mains</td>\n",
       "      <td>0.329332</td>\n",
       "    </tr>\n",
       "    <tr>\n",
       "      <th>2</th>\n",
       "      <td>water_tanks</td>\n",
       "      <td>0.000000</td>\n",
       "    </tr>\n",
       "    <tr>\n",
       "      <th>3</th>\n",
       "      <td>power_lines</td>\n",
       "      <td>0.361900</td>\n",
       "    </tr>\n",
       "    <tr>\n",
       "      <th>4</th>\n",
       "      <td>transpo_links</td>\n",
       "      <td>0.240288</td>\n",
       "    </tr>\n",
       "    <tr>\n",
       "      <th>5</th>\n",
       "      <td>strategy_capacity</td>\n",
       "      <td>0.015152</td>\n",
       "    </tr>\n",
       "    <tr>\n",
       "      <th>6</th>\n",
       "      <td>strategy_centrality</td>\n",
       "      <td>0.017810</td>\n",
       "    </tr>\n",
       "    <tr>\n",
       "      <th>7</th>\n",
       "      <td>strategy_crewdist</td>\n",
       "      <td>0.022448</td>\n",
       "    </tr>\n",
       "    <tr>\n",
       "      <th>8</th>\n",
       "      <td>strategy_zone</td>\n",
       "      <td>0.013071</td>\n",
       "    </tr>\n",
       "  </tbody>\n",
       "</table>\n",
       "</div>"
      ],
      "text/plain": [
       "              features  feature importance\n",
       "0          water_pumps            0.000000\n",
       "1          water_mains            0.329332\n",
       "2          water_tanks            0.000000\n",
       "3          power_lines            0.361900\n",
       "4        transpo_links            0.240288\n",
       "5    strategy_capacity            0.015152\n",
       "6  strategy_centrality            0.017810\n",
       "7    strategy_crewdist            0.022448\n",
       "8        strategy_zone            0.013071"
      ]
     },
     "execution_count": 36,
     "metadata": {},
     "output_type": "execute_result"
    }
   ],
   "source": [
    "clf = ExtraTreesRegressor(n_estimators=500)\n",
    "clf = clf.fit(features, labels)\n",
    "\n",
    "print(feature_list)\n",
    "print(clf.feature_importances_)\n",
    "\n",
    "pd.DataFrame(data = {'features': feature_list,\n",
    "                     'feature importance': clf.feature_importances_})"
   ]
  },
  {
   "cell_type": "code",
   "execution_count": 18,
   "metadata": {},
   "outputs": [
    {
     "data": {
      "text/plain": [
       "(1168, 7)"
      ]
     },
     "execution_count": 18,
     "metadata": {},
     "output_type": "execute_result"
    }
   ],
   "source": [
    "model = SelectFromModel(clf, prefit=True, threshold = '0.5*median')\n",
    "features_new = model.transform(features)\n",
    "features_new.shape"
   ]
  },
  {
   "cell_type": "code",
   "execution_count": 19,
   "metadata": {},
   "outputs": [
    {
     "data": {
      "text/plain": [
       "['water_mains',\n",
       " 'power_lines',\n",
       " 'transpo_links',\n",
       " 'strategy_capacity',\n",
       " 'strategy_centrality',\n",
       " 'strategy_crewdist',\n",
       " 'strategy_zone']"
      ]
     },
     "execution_count": 19,
     "metadata": {},
     "output_type": "execute_result"
    }
   ],
   "source": [
    "feature_list_new = []\n",
    "\n",
    "for i, feature in enumerate(feature_list):\n",
    "    if model.get_support()[i]:\n",
    "        feature_list_new.append(feature)\n",
    "\n",
    "feature_list_new"
   ]
  },
  {
   "cell_type": "code",
   "execution_count": 21,
   "metadata": {},
   "outputs": [
    {
     "name": "stdout",
     "output_type": "stream",
     "text": [
      "Training Features Shape: (876, 7)\n",
      "Training Labels Shape: (876,)\n",
      "Testing Features Shape: (292, 7)\n",
      "Testing Labels Shape: (292,)\n"
     ]
    }
   ],
   "source": [
    "train_features, test_features, train_labels, test_labels = train_test_split(features_new, labels, test_size = 0.25, random_state = 43)\n",
    "print('Training Features Shape:', train_features.shape)\n",
    "print('Training Labels Shape:', train_labels.shape)\n",
    "print('Testing Features Shape:', test_features.shape)\n",
    "print('Testing Labels Shape:', test_labels.shape)"
   ]
  },
  {
   "cell_type": "code",
   "execution_count": 24,
   "metadata": {},
   "outputs": [
    {
     "name": "stdout",
     "output_type": "stream",
     "text": [
      "nan {'max_depth': 2, 'min_samples_leaf': 3}\n"
     ]
    }
   ],
   "source": [
    "parameters = {'max_depth':range(2,10), 'min_samples_leaf': range(3,10)}\n",
    "clf = GridSearchCV(tree.DecisionTreeRegressor(), parameters, n_jobs=5, scoring = 'accuracy')\n",
    "clf.fit(X=train_features, y=train_labels)\n",
    "tree_model = clf.best_estimator_\n",
    "print (clf.best_score_, clf.best_params_) "
   ]
  },
  {
   "cell_type": "code",
   "execution_count": 32,
   "metadata": {},
   "outputs": [
    {
     "data": {
      "text/plain": [
       "DecisionTreeRegressor(max_depth=2, min_samples_leaf=3, random_state=0)"
      ]
     },
     "execution_count": 32,
     "metadata": {},
     "output_type": "execute_result"
    }
   ],
   "source": [
    "clf = tree.DecisionTreeRegressor(max_depth = 2, random_state = 0, min_samples_leaf=3)\n",
    "# Train the model on training data\n",
    "clf.fit(train_features, train_labels)"
   ]
  },
  {
   "cell_type": "code",
   "execution_count": 35,
   "metadata": {},
   "outputs": [
    {
     "name": "stdout",
     "output_type": "stream",
     "text": [
      "613.8122049313879 0.5847773949808732 0.5814288255855576\n"
     ]
    }
   ],
   "source": [
    "y_pred=clf.predict(train_features)   \n",
    "\n",
    "def measure_performance(y_test, y_pred, X_train):\n",
    "    from sklearn.metrics import mean_squared_error, r2_score \n",
    "\n",
    "    rmse = np.sqrt(mean_squared_error(y_test,y_pred))\n",
    "    r2 = r2_score(y_test,y_pred)\n",
    "\n",
    "    # Scikit-learn doesn't have adjusted r-square, hence custom code\n",
    "    n = y_pred.shape[0]\n",
    "    k = X_train.shape[1]\n",
    "    adj_r_sq = 1 - (1 - r2)*(n-1)/(n-1-k)\n",
    "\n",
    "    print(rmse, r2, adj_r_sq)\n",
    "    \n",
    "        \n",
    "measure_performance(train_labels,y_pred, train_features)"
   ]
  },
  {
   "cell_type": "markdown",
   "metadata": {},
   "source": [
    "## Linear regression"
   ]
  },
  {
   "cell_type": "code",
   "execution_count": 39,
   "metadata": {},
   "outputs": [],
   "source": [
    "linear_regressor = LinearRegression()  # create object for the class\n",
    "linear_regressor.fit(train_features, train_labels)  # perform linear regression\n",
    "y_pred = linear_regressor.predict(train_features)  # make predictions"
   ]
  },
  {
   "cell_type": "code",
   "execution_count": 44,
   "metadata": {},
   "outputs": [
    {
     "name": "stdout",
     "output_type": "stream",
     "text": [
      "['water_mains', 'power_lines', 'transpo_links', 'strategy_capacity', 'strategy_centrality', 'strategy_crewdist', 'strategy_zone']\n",
      "[ 92.546  98.866 151.999  20.597 -68.527  33.737  14.193]\n"
     ]
    }
   ],
   "source": [
    "print(feature_list_new)\n",
    "print(linear_regressor.coef_)"
   ]
  },
  {
   "cell_type": "code",
   "execution_count": 43,
   "metadata": {},
   "outputs": [
    {
     "data": {
      "text/plain": [
       "0.7054579748908203"
      ]
     },
     "execution_count": 43,
     "metadata": {},
     "output_type": "execute_result"
    }
   ],
   "source": [
    "linear_regressor.score(train_features, train_labels, sample_weight=None)"
   ]
  }
 ],
 "metadata": {
  "interpreter": {
   "hash": "d457c6433f18c3837b6e3285bba28c013c3b86deb599c3954950bcdf8f1c827b"
  },
  "kernelspec": {
   "display_name": "Python 3.8.3 64-bit ('redcar': conda)",
   "name": "python3"
  },
  "language_info": {
   "codemirror_mode": {
    "name": "ipython",
    "version": 3
   },
   "file_extension": ".py",
   "mimetype": "text/x-python",
   "name": "python",
   "nbconvert_exporter": "python",
   "pygments_lexer": "ipython3",
   "version": "3.8.3"
  },
  "orig_nbformat": 4
 },
 "nbformat": 4,
 "nbformat_minor": 2
}
