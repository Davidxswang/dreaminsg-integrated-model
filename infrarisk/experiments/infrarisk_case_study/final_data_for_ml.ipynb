{
 "cells": [
  {
   "cell_type": "markdown",
   "metadata": {},
   "source": [
    "### This notebook contains the codes to extract and process the necessary simulation data for constructing the machine learning model. The contents must be incorporated to the resilience_metrics.py once finalized."
   ]
  },
  {
   "cell_type": "code",
   "execution_count": 5,
   "metadata": {},
   "outputs": [
    {
     "name": "stdout",
     "output_type": "stream",
     "text": [
      "The autoreload extension is already loaded. To reload it, use:\n",
      "  %reload_ext autoreload\n"
     ]
    }
   ],
   "source": [
    "%load_ext autoreload\n",
    "%autoreload 2\n",
    "\n",
    "import warnings\n",
    "warnings.filterwarnings('ignore')\n",
    "\n",
    "from IPython.display import clear_output\n",
    "\n",
    "import os\n",
    "import pandas as pd\n",
    "from pathlib import Path\n",
    "from sklearn import metrics\n",
    "import statistics\n",
    "import numpy as np\n",
    "import copy\n",
    "\n",
    "import infrarisk.src.network_sim_models.interdependencies as interdependencies\n",
    "from infrarisk.src.network_sim_models.integrated_network import *"
   ]
  },
  {
   "cell_type": "code",
   "execution_count": 2,
   "metadata": {},
   "outputs": [
    {
     "name": "stdout",
     "output_type": "stream",
     "text": [
      "Water network successfully loaded from ..\\..\\data\\networks\\micropolis\\water/water.inp. The analysis type is set to PDA.\n",
      "initial simulation duration: 60s; hydraulic time step: 60s; pattern time step: 3600s\n",
      "\n",
      "Power system successfully loaded from ..\\..\\data\\networks\\micropolis\\power\\power.json. Single phase power flow simulation will be used.\n",
      "\n"
     ]
    }
   ],
   "source": [
    "network_dir = Path('../../data/networks/micropolis')\n",
    "water_folder = network_dir/'water'\n",
    "power_folder = network_dir/'power'\n",
    "\n",
    "micropolis_network = IntegratedNetwork(name = 'Micropolis', \n",
    "                                       water_folder= water_folder,\n",
    "                                       power_folder = power_folder,\n",
    "                                       water_sim_type = 'PDA',\n",
    "                                       power_sim_type='1ph')"
   ]
  },
  {
   "cell_type": "code",
   "execution_count": 3,
   "metadata": {},
   "outputs": [
    {
     "data": {
      "text/html": [
       "<div>\n",
       "<style scoped>\n",
       "    .dataframe tbody tr th:only-of-type {\n",
       "        vertical-align: middle;\n",
       "    }\n",
       "\n",
       "    .dataframe tbody tr th {\n",
       "        vertical-align: top;\n",
       "    }\n",
       "\n",
       "    .dataframe thead th {\n",
       "        text-align: right;\n",
       "    }\n",
       "</style>\n",
       "<table border=\"1\" class=\"dataframe\">\n",
       "  <thead>\n",
       "    <tr style=\"text-align: right;\">\n",
       "      <th></th>\n",
       "      <th>source</th>\n",
       "      <th>target</th>\n",
       "      <th>id</th>\n",
       "      <th>link_type</th>\n",
       "      <th>betweenness_centrality</th>\n",
       "      <th>cluster_num</th>\n",
       "      <th>katz_centrality</th>\n",
       "      <th>maxflow</th>\n",
       "      <th>length</th>\n",
       "      <th>link_category</th>\n",
       "      <th>degree_centrality</th>\n",
       "      <th>eigenvector_centrality</th>\n",
       "      <th>closeness_centrality</th>\n",
       "      <th>cluster</th>\n",
       "    </tr>\n",
       "  </thead>\n",
       "  <tbody>\n",
       "    <tr>\n",
       "      <th>0</th>\n",
       "      <td>P_B0</td>\n",
       "      <td>P_B1</td>\n",
       "      <td>P_L1</td>\n",
       "      <td>Power</td>\n",
       "      <td>0.082426</td>\n",
       "      <td>7</td>\n",
       "      <td>-0.027746</td>\n",
       "      <td>18.058576</td>\n",
       "      <td>100.363</td>\n",
       "      <td>Power line</td>\n",
       "      <td>0.005719</td>\n",
       "      <td>3.399758e-17</td>\n",
       "      <td>0.000737</td>\n",
       "      <td>power7</td>\n",
       "    </tr>\n",
       "    <tr>\n",
       "      <th>1</th>\n",
       "      <td>P_B0</td>\n",
       "      <td>P_B79</td>\n",
       "      <td>P_L394</td>\n",
       "      <td>Power</td>\n",
       "      <td>0.057579</td>\n",
       "      <td>2</td>\n",
       "      <td>-0.043812</td>\n",
       "      <td>0.662464</td>\n",
       "      <td>56.033</td>\n",
       "      <td>Power line</td>\n",
       "      <td>0.005719</td>\n",
       "      <td>1.081720e-17</td>\n",
       "      <td>0.000724</td>\n",
       "      <td>power2</td>\n",
       "    </tr>\n",
       "    <tr>\n",
       "      <th>2</th>\n",
       "      <td>P_B1</td>\n",
       "      <td>P_B2</td>\n",
       "      <td>P_L2</td>\n",
       "      <td>Power</td>\n",
       "      <td>0.064377</td>\n",
       "      <td>7</td>\n",
       "      <td>0.013581</td>\n",
       "      <td>17.638314</td>\n",
       "      <td>183.230</td>\n",
       "      <td>Power line</td>\n",
       "      <td>0.004902</td>\n",
       "      <td>3.457825e-17</td>\n",
       "      <td>0.000756</td>\n",
       "      <td>power7</td>\n",
       "    </tr>\n",
       "    <tr>\n",
       "      <th>3</th>\n",
       "      <td>P_B2</td>\n",
       "      <td>P_B3</td>\n",
       "      <td>P_L3</td>\n",
       "      <td>Power</td>\n",
       "      <td>0.080543</td>\n",
       "      <td>7</td>\n",
       "      <td>0.001400</td>\n",
       "      <td>16.372524</td>\n",
       "      <td>199.139</td>\n",
       "      <td>Power line</td>\n",
       "      <td>0.004902</td>\n",
       "      <td>4.053703e-18</td>\n",
       "      <td>0.000780</td>\n",
       "      <td>power7</td>\n",
       "    </tr>\n",
       "    <tr>\n",
       "      <th>4</th>\n",
       "      <td>P_B3</td>\n",
       "      <td>P_B4</td>\n",
       "      <td>P_L4</td>\n",
       "      <td>Power</td>\n",
       "      <td>0.091090</td>\n",
       "      <td>7</td>\n",
       "      <td>-0.029408</td>\n",
       "      <td>15.137651</td>\n",
       "      <td>165.686</td>\n",
       "      <td>Power line</td>\n",
       "      <td>0.004902</td>\n",
       "      <td>-1.699627e-17</td>\n",
       "      <td>0.000802</td>\n",
       "      <td>power7</td>\n",
       "    </tr>\n",
       "  </tbody>\n",
       "</table>\n",
       "</div>"
      ],
      "text/plain": [
       "  source target      id link_type  betweenness_centrality  cluster_num  \\\n",
       "0   P_B0   P_B1    P_L1     Power                0.082426            7   \n",
       "1   P_B0  P_B79  P_L394     Power                0.057579            2   \n",
       "2   P_B1   P_B2    P_L2     Power                0.064377            7   \n",
       "3   P_B2   P_B3    P_L3     Power                0.080543            7   \n",
       "4   P_B3   P_B4    P_L4     Power                0.091090            7   \n",
       "\n",
       "   katz_centrality    maxflow   length link_category  degree_centrality  \\\n",
       "0        -0.027746  18.058576  100.363    Power line           0.005719   \n",
       "1        -0.043812   0.662464   56.033    Power line           0.005719   \n",
       "2         0.013581  17.638314  183.230    Power line           0.004902   \n",
       "3         0.001400  16.372524  199.139    Power line           0.004902   \n",
       "4        -0.029408  15.137651  165.686    Power line           0.004902   \n",
       "\n",
       "   eigenvector_centrality  closeness_centrality cluster  \n",
       "0            3.399758e-17              0.000737  power7  \n",
       "1            1.081720e-17              0.000724  power2  \n",
       "2            3.457825e-17              0.000756  power7  \n",
       "3            4.053703e-18              0.000780  power7  \n",
       "4           -1.699627e-17              0.000802  power7  "
      ]
     },
     "execution_count": 3,
     "metadata": {},
     "output_type": "execute_result"
    }
   ],
   "source": [
    "link_criticality_measures = pd.read_csv(f\"{network_dir}/link_criticality_features.csv\", sep = \",\")\n",
    "link_criticality_measures.head()"
   ]
  },
  {
   "cell_type": "code",
   "execution_count": 6,
   "metadata": {},
   "outputs": [],
   "source": [
    "# Set scenarios folder\n",
    "folder = Path('../../data/networks/micropolis/scenarios')\n",
    "scenarios = [f for f in sorted(os.listdir(folder))]\n",
    "\n",
    "#list of recovery strategies to be considered\n",
    "#strategies = ['capacity', 'centrality', 'crewdist', 'zone']\n",
    "strategies = ['capacity', 'zone', 'centrality']\n",
    "\n",
    "#create the empty dataframe for ML dataset\n",
    "\n",
    "columns = [\"scenario\", \"strategy\", 'water_perf_ecs', 'water_perf_pcs', 'power_perf_ecs',\n",
    "         'power_perf_pcs', \"all_compons\"] + list(link_criticality_measures.cluster.unique())\n",
    "         \n",
    "ml_df = pd.DataFrame(columns = columns)\n",
    "\n",
    "abnormal_results = []\n",
    "\n",
    "junc_list = micropolis_network.wn.junction_name_list\n",
    "base_water_demands = micropolis_network.base_water_node_supply\n",
    "base_power_demands = micropolis_network.base_power_supply\n"
   ]
  },
  {
   "cell_type": "code",
   "execution_count": 8,
   "metadata": {},
   "outputs": [
    {
     "name": "stdout",
     "output_type": "stream",
     "text": [
      "164 / 165 .  flood99\n",
      "Component type not detectable.\n",
      "['flood99', 'capacity', 2445.669, 2477.4, 715.776, 808.993, 27, 0, 0, 0, 1, 1, 2, 0, 1, 8, 2, 1, 3, 0, 0, 0, 1, 1, 1, 3, 0, 2, 0, 0, 0]\n",
      "['flood99', 'zone', 4258.857, 4230.753, 350.755, 375.019, 27, 0, 0, 0, 1, 1, 2, 0, 1, 8, 2, 1, 3, 0, 0, 0, 1, 1, 1, 3, 0, 2, 0, 0, 0]\n",
      "['flood99', 'centrality', 4301.472, 4311.026, 741.018, 824.669, 27, 0, 0, 0, 1, 1, 2, 0, 1, 8, 2, 1, 3, 0, 0, 0, 1, 1, 1, 3, 0, 2, 0, 0, 0]\n"
     ]
    }
   ],
   "source": [
    "for index, scenario in enumerate(scenarios):\n",
    "    print(index,\"/\",len(scenarios), \". \", scenario)\n",
    "    # ml_df_new = {\"scenario\": scenario,\n",
    "    #      \"strategy\": None,\n",
    "    #      'water_perf_ecs': None,\n",
    "    #      'water_perf_pcs': None,\n",
    "    #      'power_perf_ecs': None ,\n",
    "    #      'power_perf_pcs': None,\n",
    "    #      \"water_mains\": 0, \"water_pumps\": 0, \"water_tanks\":0,\n",
    "    #      \"power_lines\": 0, \"transpo_links\": 0, \"all_compons\": 0}\n",
    "    ml_df_new = dict()\n",
    "    for key in columns:\n",
    "        if key == 'scenario':\n",
    "            ml_df_new[key] = scenario\n",
    "        elif key in [\"strategy\", 'water_perf_ecs', 'water_perf_pcs', 'power_perf_ecs', 'power_perf_pcs']:\n",
    "            ml_df_new[key] = None\n",
    "        else:\n",
    "            ml_df_new[key] = 0\n",
    "    \n",
    "    disruption_file = pd.read_csv(f\"{folder}/{scenario}/disruption_file.csv\")\n",
    "    ml_df_new[\"all_compons\"] = disruption_file.shape[0]\n",
    "    for _, row in disruption_file.iterrows():\n",
    "        cluster = link_criticality_measures[link_criticality_measures[\"id\"] == row['components']].cluster.item()\n",
    "        ml_df_new[cluster] += 1\n",
    "    else:\n",
    "        print(\"Component type not detectable.\")            \n",
    "    \n",
    "    for strategy in strategies:  \n",
    "        ml_df_new['strategy'] = strategy\n",
    "        water_demands_file = f\"{folder}/{scenario}/{strategy}/water_junc_demand.csv\"\n",
    "        power_demands_file = f\"{folder}/{scenario}/{strategy}/power_load_demand.csv\"\n",
    "        water_pressure_file = f\"{folder}/{scenario}/{strategy}/water_node_pressure.csv\"\n",
    "        \n",
    "        if os.path.isfile(water_demands_file):\n",
    "            water_demands = pd.read_csv(water_demands_file, sep = \"\\t\")\n",
    "            water_time_list = water_demands.time/60\n",
    "            water_time_list = water_time_list.tolist()\n",
    "            rel_time_list = water_demands['time'] % (24*3600)\n",
    "            index_list = [int(x/60) for x in rel_time_list]\n",
    "            water_demands = water_demands[junc_list]\n",
    "            \n",
    "            water_pressures = pd.read_csv(water_pressure_file, sep = \"\\t\")\n",
    "            water_pressures = water_pressures[junc_list]\n",
    "            water_press_corrections = copy.deepcopy(water_pressures)\n",
    "            \n",
    "            power_demands = pd.read_csv(power_demands_file, sep = \"\\t\")\n",
    "            power_time_list = power_demands.time/60\n",
    "            power_time_list= power_time_list.tolist()\n",
    "            \n",
    "            base_water_demands_new = base_water_demands.iloc[index_list].reset_index(drop=True)\n",
    "            base_water_demands_new = base_water_demands_new[junc_list]\n",
    "            \n",
    "            water_demands_ratio = water_demands/ base_water_demands_new\n",
    "            water_demands_ratio = water_demands_ratio.clip(upper=1)\n",
    "            if not os.path.isfile(f\"{folder}/{scenario}/{strategy}/water_demands_ratio.csv\"):\n",
    "                water_demands_ratio.to_csv(f\"{folder}/{scenario}/{strategy}/water_demands_ratio.csv\", index = False)\n",
    "            \n",
    "            water_ecs_list = water_demands_ratio.mean(axis = 1, skipna = True).tolist()\n",
    "            \n",
    "            if water_ecs_list[-1] < 0.9:\n",
    "                abnormal_results.append(scenario)\n",
    "                \n",
    "            water_pcs_list = pd.concat([water_demands, base_water_demands_new]).min(level=0).sum(axis=1, skipna = True)/base_water_demands_new.sum(axis=1, skipna = True)\n",
    "            water_pcs_list = water_pcs_list.tolist()\n",
    "\n",
    "            base_load_demands = pd.DataFrame(base_power_demands.load.p_mw.tolist() + base_power_demands.motor.pn_mech_mw.tolist()).transpose()\n",
    "            base_load_demands.columns = base_power_demands.load.name.tolist() + base_power_demands.motor.name.tolist()\n",
    "            base_load_demands = pd.concat([base_load_demands]*(power_demands.shape[0])).reset_index(drop=True)\n",
    "\n",
    "            power_demand_ratio = power_demands.iloc[:,1:] / base_load_demands\n",
    "            power_demand_ratio = power_demand_ratio.clip(upper=1)\n",
    "            if not os.path.isfile(f\"{folder}/{scenario}/{strategy}/power_demand_ratio.csv\"):\n",
    "                power_demand_ratio.to_csv(f\"{folder}/{scenario}/{strategy}/power_demand_ratio.csv\", index = False)\n",
    "\n",
    "            power_ecs_list = power_demand_ratio.mean(axis = 1, skipna = True).tolist()\n",
    "            power_pcs_list = pd.concat([power_demands.iloc[:,1:], base_load_demands]).min(level=0).sum(axis=1, skipna = True)/base_load_demands.sum(axis=1, skipna = True)\n",
    "            power_pcs_list = power_pcs_list.tolist()\n",
    "            \n",
    "            \n",
    "            ml_df_new['water_perf_ecs'] = round(metrics.auc(water_time_list, [1 - x for x in water_ecs_list]), 3)\n",
    "            ml_df_new['water_perf_pcs'] = round(metrics.auc(water_time_list, [1 - x for x in water_pcs_list]), 3)\n",
    "            ml_df_new['power_perf_ecs'] = round(metrics.auc(power_time_list, [1 - x for x in power_ecs_list]), 3)\n",
    "            ml_df_new['power_perf_pcs'] = round(metrics.auc(power_time_list, [1 - x for x in power_pcs_list]), 3)\n",
    "            \n",
    "            power_auc_df = pd.DataFrame(data = {'time': power_time_list, \n",
    "                                                'ecs': power_ecs_list, \n",
    "                                                'pcs': power_pcs_list})\n",
    "            power_auc_df.to_csv(f\"{folder}/{scenario}/{strategy}/power_auc.csv\", index = False)\n",
    "            \n",
    "            water_auc_df = pd.DataFrame(data = {'time': water_time_list, \n",
    "                                                'ecs': water_ecs_list, \n",
    "                                                'pcs': water_pcs_list})\n",
    "            water_auc_df.to_csv(f\"{folder}/{scenario}/{strategy}/water_auc.csv\", index = False)\n",
    "            \n",
    "            ml_df = ml_df.append(ml_df_new, ignore_index=True)\n",
    "            print(ml_df.iloc[-1,:].tolist())\n",
    "            \n",
    "        else:\n",
    "            pass\n",
    "    clear_output(wait=True)\n",
    "    \n",
    "abnormal_results = list(set(abnormal_results))"
   ]
  },
  {
   "cell_type": "code",
   "execution_count": 9,
   "metadata": {},
   "outputs": [
    {
     "data": {
      "text/plain": [
       "(492, 33)"
      ]
     },
     "execution_count": 9,
     "metadata": {},
     "output_type": "execute_result"
    }
   ],
   "source": [
    "ml_df['ecs_auc'] = ml_df['water_perf_ecs']*0.5 + ml_df['power_perf_ecs']*0.5\n",
    "ml_df['pcs_auc'] = ml_df['water_perf_pcs']*0.5 + ml_df['power_perf_pcs']*0.5\n",
    "ml_df.shape"
   ]
  },
  {
   "cell_type": "code",
   "execution_count": 10,
   "metadata": {},
   "outputs": [
    {
     "data": {
      "text/plain": [
       "(492, 33)"
      ]
     },
     "execution_count": 10,
     "metadata": {},
     "output_type": "execute_result"
    }
   ],
   "source": [
    "#ml_df.to_csv(\"auc_df.csv\", index = False)\n",
    "ml_df = pd.read_csv(\"auc_df.csv\")\n",
    "ml_df.shape"
   ]
  },
  {
   "cell_type": "code",
   "execution_count": 104,
   "metadata": {},
   "outputs": [
    {
     "data": {
      "text/html": [
       "<div>\n",
       "<style scoped>\n",
       "    .dataframe tbody tr th:only-of-type {\n",
       "        vertical-align: middle;\n",
       "    }\n",
       "\n",
       "    .dataframe tbody tr th {\n",
       "        vertical-align: top;\n",
       "    }\n",
       "\n",
       "    .dataframe thead th {\n",
       "        text-align: right;\n",
       "    }\n",
       "</style>\n",
       "<table border=\"1\" class=\"dataframe\">\n",
       "  <thead>\n",
       "    <tr style=\"text-align: right;\">\n",
       "      <th></th>\n",
       "      <th>scenario</th>\n",
       "      <th>strategy</th>\n",
       "      <th>water_perf_ecs</th>\n",
       "      <th>water_perf_pcs</th>\n",
       "      <th>power_perf_ecs</th>\n",
       "      <th>power_perf_pcs</th>\n",
       "      <th>all_compons</th>\n",
       "      <th>power4</th>\n",
       "      <th>power3</th>\n",
       "      <th>power5</th>\n",
       "      <th>...</th>\n",
       "      <th>transpo7</th>\n",
       "      <th>transpo2</th>\n",
       "      <th>transpo5</th>\n",
       "      <th>transpo1</th>\n",
       "      <th>transpo3</th>\n",
       "      <th>transpo4</th>\n",
       "      <th>transpo0</th>\n",
       "      <th>transpo6</th>\n",
       "      <th>ecs_auc</th>\n",
       "      <th>pcs_auc</th>\n",
       "    </tr>\n",
       "  </thead>\n",
       "  <tbody>\n",
       "    <tr>\n",
       "      <th>42</th>\n",
       "      <td>flood110</td>\n",
       "      <td>capacity</td>\n",
       "      <td>3587.042</td>\n",
       "      <td>3503.477</td>\n",
       "      <td>7045.659</td>\n",
       "      <td>7033.447</td>\n",
       "      <td>30</td>\n",
       "      <td>0</td>\n",
       "      <td>0</td>\n",
       "      <td>2</td>\n",
       "      <td>...</td>\n",
       "      <td>0</td>\n",
       "      <td>0</td>\n",
       "      <td>1</td>\n",
       "      <td>0</td>\n",
       "      <td>2</td>\n",
       "      <td>3</td>\n",
       "      <td>1</td>\n",
       "      <td>2</td>\n",
       "      <td>5316.3505</td>\n",
       "      <td>5268.462</td>\n",
       "    </tr>\n",
       "    <tr>\n",
       "      <th>162</th>\n",
       "      <td>flood147</td>\n",
       "      <td>capacity</td>\n",
       "      <td>5935.694</td>\n",
       "      <td>5859.816</td>\n",
       "      <td>7067.906</td>\n",
       "      <td>7105.784</td>\n",
       "      <td>25</td>\n",
       "      <td>0</td>\n",
       "      <td>0</td>\n",
       "      <td>2</td>\n",
       "      <td>...</td>\n",
       "      <td>0</td>\n",
       "      <td>1</td>\n",
       "      <td>1</td>\n",
       "      <td>0</td>\n",
       "      <td>3</td>\n",
       "      <td>3</td>\n",
       "      <td>1</td>\n",
       "      <td>0</td>\n",
       "      <td>6501.8000</td>\n",
       "      <td>6482.800</td>\n",
       "    </tr>\n",
       "    <tr>\n",
       "      <th>164</th>\n",
       "      <td>flood147</td>\n",
       "      <td>centrality</td>\n",
       "      <td>3146.526</td>\n",
       "      <td>3062.932</td>\n",
       "      <td>7036.382</td>\n",
       "      <td>7032.654</td>\n",
       "      <td>25</td>\n",
       "      <td>0</td>\n",
       "      <td>0</td>\n",
       "      <td>2</td>\n",
       "      <td>...</td>\n",
       "      <td>0</td>\n",
       "      <td>1</td>\n",
       "      <td>1</td>\n",
       "      <td>0</td>\n",
       "      <td>3</td>\n",
       "      <td>3</td>\n",
       "      <td>1</td>\n",
       "      <td>0</td>\n",
       "      <td>5091.4540</td>\n",
       "      <td>5047.793</td>\n",
       "    </tr>\n",
       "    <tr>\n",
       "      <th>241</th>\n",
       "      <td>flood22</td>\n",
       "      <td>zone</td>\n",
       "      <td>6312.683</td>\n",
       "      <td>5785.228</td>\n",
       "      <td>12215.523</td>\n",
       "      <td>12212.172</td>\n",
       "      <td>8</td>\n",
       "      <td>0</td>\n",
       "      <td>0</td>\n",
       "      <td>0</td>\n",
       "      <td>...</td>\n",
       "      <td>0</td>\n",
       "      <td>1</td>\n",
       "      <td>0</td>\n",
       "      <td>0</td>\n",
       "      <td>0</td>\n",
       "      <td>0</td>\n",
       "      <td>0</td>\n",
       "      <td>0</td>\n",
       "      <td>9264.1030</td>\n",
       "      <td>8998.700</td>\n",
       "    </tr>\n",
       "  </tbody>\n",
       "</table>\n",
       "<p>4 rows × 32 columns</p>\n",
       "</div>"
      ],
      "text/plain": [
       "     scenario    strategy  water_perf_ecs  water_perf_pcs  power_perf_ecs  \\\n",
       "42   flood110    capacity        3587.042        3503.477        7045.659   \n",
       "162  flood147    capacity        5935.694        5859.816        7067.906   \n",
       "164  flood147  centrality        3146.526        3062.932        7036.382   \n",
       "241   flood22        zone        6312.683        5785.228       12215.523   \n",
       "\n",
       "     power_perf_pcs  all_compons  power4  power3  power5  ...  transpo7  \\\n",
       "42         7033.447           30       0       0       2  ...         0   \n",
       "162        7105.784           25       0       0       2  ...         0   \n",
       "164        7032.654           25       0       0       2  ...         0   \n",
       "241       12212.172            8       0       0       0  ...         0   \n",
       "\n",
       "     transpo2  transpo5  transpo1  transpo3  transpo4  transpo0  transpo6  \\\n",
       "42          0         1         0         2         3         1         2   \n",
       "162         1         1         0         3         3         1         0   \n",
       "164         1         1         0         3         3         1         0   \n",
       "241         1         0         0         0         0         0         0   \n",
       "\n",
       "       ecs_auc   pcs_auc  \n",
       "42   5316.3505  5268.462  \n",
       "162  6501.8000  6482.800  \n",
       "164  5091.4540  5047.793  \n",
       "241  9264.1030  8998.700  \n",
       "\n",
       "[4 rows x 32 columns]"
      ]
     },
     "execution_count": 104,
     "metadata": {},
     "output_type": "execute_result"
    }
   ],
   "source": [
    "ml_df[ml_df['pcs_auc'] > 5000]"
   ]
  },
  {
   "cell_type": "code",
   "execution_count": 105,
   "metadata": {},
   "outputs": [],
   "source": [
    "ml_df = ml_df[ml_df['pcs_auc'] < 8000]"
   ]
  },
  {
   "cell_type": "code",
   "execution_count": 106,
   "metadata": {},
   "outputs": [
    {
     "data": {
      "text/plain": [
       "Text(0.5, 1.0, 'Histogram of resilience metrics')"
      ]
     },
     "execution_count": 106,
     "metadata": {},
     "output_type": "execute_result"
    },
    {
     "data": {
      "image/png": "[encoded data removed]",
      "text/plain": [
       "<Figure size 720x504 with 1 Axes>"
      ]
     },
     "metadata": {},
     "output_type": "display_data"
    }
   ],
   "source": [
    "import seaborn as sns\n",
    "import matplotlib.pyplot as plt\n",
    "\n",
    "\n",
    "sns.set_context('talk')\n",
    "fig = plt.figure(figsize = (10,7))\n",
    "ax = sns.histplot(x= 'pcs_auc', hue = 'strategy', stat=\"count\", multiple=\"dodge\",  data = ml_df, palette=(\"tab10\"))\n",
    "\n",
    "# ax = sns.kdeplot(data=ml_df, x=\"pcs_auc\", hue=\"strategy\", cumulative=True, common_norm=False, common_grid=True,)\n",
    "\n",
    "ax.set_title('Histogram of resilience metrics', size = 16)"
   ]
  },
  {
   "cell_type": "code",
   "execution_count": 107,
   "metadata": {},
   "outputs": [
    {
     "data": {
      "text/plain": [
       "<seaborn.axisgrid.FacetGrid at 0x238eecebd00>"
      ]
     },
     "execution_count": 107,
     "metadata": {},
     "output_type": "execute_result"
    },
    {
     "data": {
      "image/png": "[encoded data removed]",
      "text/plain": [
       "<Figure size 861.84x216 with 3 Axes>"
      ]
     },
     "metadata": {},
     "output_type": "display_data"
    }
   ],
   "source": [
    "\n",
    "sns.set_theme(style=\"white\")\n",
    "sns.set_context('paper')\n",
    "g = sns.FacetGrid(ml_df, hue = 'strategy', col='strategy', col_wrap=3, palette=\"tab10\", height=3, aspect= 1.33 )\n",
    "#g = (g.map(sns.kdeplot, \"power_perf_pcs\"))\n",
    "(g.map(sns.histplot, \"power_perf_pcs\", stat = 'count', binwidth = 500))\n",
    "g.set_titles(col_template=\"{col_name}\", fontweight='regular', size=12)\n",
    "g.set(xlim=(0, 8000))"
   ]
  },
  {
   "cell_type": "code",
   "execution_count": 108,
   "metadata": {},
   "outputs": [
    {
     "data": {
      "text/plain": [
       "<seaborn.axisgrid.FacetGrid at 0x23883ca00a0>"
      ]
     },
     "execution_count": 108,
     "metadata": {},
     "output_type": "execute_result"
    },
    {
     "data": {
      "image/png": "[encoded data removed]",
      "text/plain": [
       "<Figure size 861.84x216 with 3 Axes>"
      ]
     },
     "metadata": {},
     "output_type": "display_data"
    }
   ],
   "source": [
    "\n",
    "sns.set_theme(style=\"white\")\n",
    "sns.set_context('paper')\n",
    "g = sns.FacetGrid(ml_df, hue = 'strategy', col='strategy', col_wrap=3, palette=\"tab10\", height=3, aspect= 1.33 )\n",
    "#g = (g.map(sns.kdeplot, \"power_perf_pcs\"))\n",
    "(g.map(sns.histplot, \"water_perf_pcs\", stat = 'count', binwidth = 500))\n",
    "g.set_titles(col_template=\"{col_name}\", fontweight='regular', size=12)\n",
    "g.set(xlim=(0, 7000))"
   ]
  },
  {
   "cell_type": "code",
   "execution_count": 109,
   "metadata": {},
   "outputs": [
    {
     "data": {
      "text/html": [
       "<div>\n",
       "<style scoped>\n",
       "    .dataframe tbody tr th:only-of-type {\n",
       "        vertical-align: middle;\n",
       "    }\n",
       "\n",
       "    .dataframe tbody tr th {\n",
       "        vertical-align: top;\n",
       "    }\n",
       "\n",
       "    .dataframe thead th {\n",
       "        text-align: right;\n",
       "    }\n",
       "</style>\n",
       "<table border=\"1\" class=\"dataframe\">\n",
       "  <thead>\n",
       "    <tr style=\"text-align: right;\">\n",
       "      <th>strategy</th>\n",
       "      <th>capacity</th>\n",
       "      <th>centrality</th>\n",
       "      <th>zone</th>\n",
       "    </tr>\n",
       "    <tr>\n",
       "      <th>scenario</th>\n",
       "      <th></th>\n",
       "      <th></th>\n",
       "      <th></th>\n",
       "    </tr>\n",
       "  </thead>\n",
       "  <tbody>\n",
       "    <tr>\n",
       "      <th>flood0</th>\n",
       "      <td>4158.024</td>\n",
       "      <td>3282.024</td>\n",
       "      <td>3718.895</td>\n",
       "    </tr>\n",
       "    <tr>\n",
       "      <th>flood1</th>\n",
       "      <td>5013.948</td>\n",
       "      <td>5024.848</td>\n",
       "      <td>4301.397</td>\n",
       "    </tr>\n",
       "    <tr>\n",
       "      <th>flood10</th>\n",
       "      <td>4249.991</td>\n",
       "      <td>3949.856</td>\n",
       "      <td>3916.755</td>\n",
       "    </tr>\n",
       "    <tr>\n",
       "      <th>flood100</th>\n",
       "      <td>1621.669</td>\n",
       "      <td>1621.669</td>\n",
       "      <td>1412.405</td>\n",
       "    </tr>\n",
       "    <tr>\n",
       "      <th>flood101</th>\n",
       "      <td>2664.172</td>\n",
       "      <td>2680.172</td>\n",
       "      <td>2664.172</td>\n",
       "    </tr>\n",
       "  </tbody>\n",
       "</table>\n",
       "</div>"
      ],
      "text/plain": [
       "strategy  capacity  centrality      zone\n",
       "scenario                                \n",
       "flood0    4158.024    3282.024  3718.895\n",
       "flood1    5013.948    5024.848  4301.397\n",
       "flood10   4249.991    3949.856  3916.755\n",
       "flood100  1621.669    1621.669  1412.405\n",
       "flood101  2664.172    2680.172  2664.172"
      ]
     },
     "execution_count": 109,
     "metadata": {},
     "output_type": "execute_result"
    }
   ],
   "source": [
    "infra = \"power\"\n",
    "y = f\"{infra}_perf_pcs\"\n",
    "ml_df_wide = ml_df[['scenario', 'strategy', y]].pivot(index='scenario', columns='strategy', values=y)\n",
    "ml_df_wide = ml_df_wide.dropna()\n",
    "ml_df_wide.head()\n"
   ]
  },
  {
   "cell_type": "code",
   "execution_count": 110,
   "metadata": {},
   "outputs": [],
   "source": [
    "unique_full_scenarios = ml_df_wide.index.tolist()"
   ]
  },
  {
   "cell_type": "code",
   "execution_count": 111,
   "metadata": {},
   "outputs": [
    {
     "data": {
      "image/png": "[encoded data removed]",
      "text/plain": [
       "<Figure size 720x504 with 1 Axes>"
      ]
     },
     "metadata": {},
     "output_type": "display_data"
    }
   ],
   "source": [
    "import matplotlib.pyplot as plt\n",
    "import seaborn as sns\n",
    "\n",
    "fig = plt.figure(figsize = (10,7))\n",
    "ax = sns.boxplot(y='strategy', x=y, data=ml_df, orient=\"h\", palette = 'tab10')\n",
    "ax.set_xlabel(f\"Area under PCS curve (performance-minutes)\")\n",
    "ax.set_ylabel(f\"Restoration strategy\")\n",
    "#ax.set_title(f\"Comparison of effectiveness of {infra} restoration strategies\")\n",
    "ax.set_xlim((0, 5000))\n",
    "plt.show()"
   ]
  },
  {
   "cell_type": "code",
   "execution_count": 112,
   "metadata": {},
   "outputs": [
    {
     "data": {
      "text/html": [
       "<div>\n",
       "<style scoped>\n",
       "    .dataframe tbody tr th:only-of-type {\n",
       "        vertical-align: middle;\n",
       "    }\n",
       "\n",
       "    .dataframe tbody tr th {\n",
       "        vertical-align: top;\n",
       "    }\n",
       "\n",
       "    .dataframe thead th {\n",
       "        text-align: right;\n",
       "    }\n",
       "</style>\n",
       "<table border=\"1\" class=\"dataframe\">\n",
       "  <thead>\n",
       "    <tr style=\"text-align: right;\">\n",
       "      <th></th>\n",
       "      <th>Source</th>\n",
       "      <th>SS</th>\n",
       "      <th>DF</th>\n",
       "      <th>MS</th>\n",
       "      <th>F</th>\n",
       "      <th>p-unc</th>\n",
       "      <th>np2</th>\n",
       "      <th>eps</th>\n",
       "    </tr>\n",
       "  </thead>\n",
       "  <tbody>\n",
       "    <tr>\n",
       "      <th>0</th>\n",
       "      <td>strategy</td>\n",
       "      <td>4.746619e+06</td>\n",
       "      <td>2</td>\n",
       "      <td>2.373310e+06</td>\n",
       "      <td>9.171582</td>\n",
       "      <td>0.000133</td>\n",
       "      <td>0.05327</td>\n",
       "      <td>0.971697</td>\n",
       "    </tr>\n",
       "    <tr>\n",
       "      <th>1</th>\n",
       "      <td>Error</td>\n",
       "      <td>8.435829e+07</td>\n",
       "      <td>326</td>\n",
       "      <td>2.587677e+05</td>\n",
       "      <td>NaN</td>\n",
       "      <td>NaN</td>\n",
       "      <td>NaN</td>\n",
       "      <td>NaN</td>\n",
       "    </tr>\n",
       "  </tbody>\n",
       "</table>\n",
       "</div>"
      ],
      "text/plain": [
       "     Source            SS   DF            MS         F     p-unc      np2  \\\n",
       "0  strategy  4.746619e+06    2  2.373310e+06  9.171582  0.000133  0.05327   \n",
       "1     Error  8.435829e+07  326  2.587677e+05       NaN       NaN      NaN   \n",
       "\n",
       "        eps  \n",
       "0  0.971697  \n",
       "1       NaN  "
      ]
     },
     "execution_count": 112,
     "metadata": {},
     "output_type": "execute_result"
    }
   ],
   "source": [
    "#!pip install pingouin\n",
    "import pingouin as pg\n",
    "res = pg.rm_anova(dv=y, within='strategy', subject='scenario', data=ml_df, detailed=True)\n",
    "res"
   ]
  },
  {
   "cell_type": "code",
   "execution_count": 113,
   "metadata": {},
   "outputs": [
    {
     "data": {
      "text/html": [
       "<div>\n",
       "<style scoped>\n",
       "    .dataframe tbody tr th:only-of-type {\n",
       "        vertical-align: middle;\n",
       "    }\n",
       "\n",
       "    .dataframe tbody tr th {\n",
       "        vertical-align: top;\n",
       "    }\n",
       "\n",
       "    .dataframe thead th {\n",
       "        text-align: right;\n",
       "    }\n",
       "</style>\n",
       "<table border=\"1\" class=\"dataframe\">\n",
       "  <thead>\n",
       "    <tr style=\"text-align: right;\">\n",
       "      <th></th>\n",
       "      <th>Contrast</th>\n",
       "      <th>A</th>\n",
       "      <th>B</th>\n",
       "      <th>T</th>\n",
       "      <th>p-corr</th>\n",
       "    </tr>\n",
       "  </thead>\n",
       "  <tbody>\n",
       "    <tr>\n",
       "      <th>0</th>\n",
       "      <td>strategy</td>\n",
       "      <td>capacity</td>\n",
       "      <td>centrality</td>\n",
       "      <td>-3.815152</td>\n",
       "      <td>0.000290</td>\n",
       "    </tr>\n",
       "    <tr>\n",
       "      <th>1</th>\n",
       "      <td>strategy</td>\n",
       "      <td>capacity</td>\n",
       "      <td>zone</td>\n",
       "      <td>0.184384</td>\n",
       "      <td>0.853943</td>\n",
       "    </tr>\n",
       "    <tr>\n",
       "      <th>2</th>\n",
       "      <td>strategy</td>\n",
       "      <td>centrality</td>\n",
       "      <td>zone</td>\n",
       "      <td>3.958782</td>\n",
       "      <td>0.000290</td>\n",
       "    </tr>\n",
       "  </tbody>\n",
       "</table>\n",
       "</div>"
      ],
      "text/plain": [
       "   Contrast           A           B         T    p-corr\n",
       "0  strategy    capacity  centrality -3.815152  0.000290\n",
       "1  strategy    capacity        zone  0.184384  0.853943\n",
       "2  strategy  centrality        zone  3.958782  0.000290"
      ]
     },
     "execution_count": 113,
     "metadata": {},
     "output_type": "execute_result"
    }
   ],
   "source": [
    "# install pingouin as !pip install pingouin\n",
    "# make sure you have installed the pingouin package (pip install pingouin)\n",
    "ml_df_full = ml_df[ml_df.scenario.isin(unique_full_scenarios)]\n",
    "post_hocs = pg.pairwise_ttests(dv=y, within='strategy', subject='scenario', padjust='fdr_bh', data=ml_df_full)\n",
    "post_hocs[['Contrast', 'A', 'B', 'T', 'p-corr']]"
   ]
  },
  {
   "cell_type": "code",
   "execution_count": 114,
   "metadata": {},
   "outputs": [
    {
     "data": {
      "text/plain": [
       "0.09258700303649628"
      ]
     },
     "execution_count": 114,
     "metadata": {},
     "output_type": "execute_result"
    }
   ],
   "source": [
    "import pingouin as pg\n",
    "pg.sphericity(data=ml_df, dv=y, subject='scenario', within='strategy')[-1]"
   ]
  },
  {
   "cell_type": "code",
   "execution_count": 115,
   "metadata": {},
   "outputs": [
    {
     "data": {
      "text/html": [
       "<div>\n",
       "<style scoped>\n",
       "    .dataframe tbody tr th:only-of-type {\n",
       "        vertical-align: middle;\n",
       "    }\n",
       "\n",
       "    .dataframe tbody tr th {\n",
       "        vertical-align: top;\n",
       "    }\n",
       "\n",
       "    .dataframe thead th {\n",
       "        text-align: right;\n",
       "    }\n",
       "</style>\n",
       "<table border=\"1\" class=\"dataframe\">\n",
       "  <thead>\n",
       "    <tr style=\"text-align: right;\">\n",
       "      <th></th>\n",
       "      <th>W</th>\n",
       "      <th>pval</th>\n",
       "      <th>normal</th>\n",
       "    </tr>\n",
       "  </thead>\n",
       "  <tbody>\n",
       "    <tr>\n",
       "      <th>capacity</th>\n",
       "      <td>0.965107</td>\n",
       "      <td>0.000381</td>\n",
       "      <td>False</td>\n",
       "    </tr>\n",
       "    <tr>\n",
       "      <th>zone</th>\n",
       "      <td>0.962190</td>\n",
       "      <td>0.000203</td>\n",
       "      <td>False</td>\n",
       "    </tr>\n",
       "    <tr>\n",
       "      <th>centrality</th>\n",
       "      <td>0.971078</td>\n",
       "      <td>0.001649</td>\n",
       "      <td>False</td>\n",
       "    </tr>\n",
       "  </tbody>\n",
       "</table>\n",
       "</div>"
      ],
      "text/plain": [
       "                   W      pval  normal\n",
       "capacity    0.965107  0.000381   False\n",
       "zone        0.962190  0.000203   False\n",
       "centrality  0.971078  0.001649   False"
      ]
     },
     "execution_count": 115,
     "metadata": {},
     "output_type": "execute_result"
    }
   ],
   "source": [
    "pg.normality(data=ml_df, dv=y, group='strategy')"
   ]
  },
  {
   "cell_type": "code",
   "execution_count": 116,
   "metadata": {},
   "outputs": [
    {
     "data": {
      "text/html": [
       "<div>\n",
       "<style scoped>\n",
       "    .dataframe tbody tr th:only-of-type {\n",
       "        vertical-align: middle;\n",
       "    }\n",
       "\n",
       "    .dataframe tbody tr th {\n",
       "        vertical-align: top;\n",
       "    }\n",
       "\n",
       "    .dataframe thead th {\n",
       "        text-align: right;\n",
       "    }\n",
       "</style>\n",
       "<table border=\"1\" class=\"dataframe\">\n",
       "  <thead>\n",
       "    <tr style=\"text-align: right;\">\n",
       "      <th>strategy</th>\n",
       "      <th>capacity</th>\n",
       "      <th>centrality</th>\n",
       "      <th>zone</th>\n",
       "    </tr>\n",
       "  </thead>\n",
       "  <tbody>\n",
       "    <tr>\n",
       "      <th>count</th>\n",
       "      <td>163.000000</td>\n",
       "      <td>163.000000</td>\n",
       "      <td>163.000000</td>\n",
       "    </tr>\n",
       "    <tr>\n",
       "      <th>mean</th>\n",
       "      <td>3241.403840</td>\n",
       "      <td>3448.298485</td>\n",
       "      <td>3230.003411</td>\n",
       "    </tr>\n",
       "    <tr>\n",
       "      <th>std</th>\n",
       "      <td>1477.545347</td>\n",
       "      <td>1611.257980</td>\n",
       "      <td>1536.312057</td>\n",
       "    </tr>\n",
       "    <tr>\n",
       "      <th>min</th>\n",
       "      <td>764.000000</td>\n",
       "      <td>764.000000</td>\n",
       "      <td>764.000000</td>\n",
       "    </tr>\n",
       "    <tr>\n",
       "      <th>25%</th>\n",
       "      <td>2178.254500</td>\n",
       "      <td>2183.966000</td>\n",
       "      <td>2144.805000</td>\n",
       "    </tr>\n",
       "    <tr>\n",
       "      <th>50%</th>\n",
       "      <td>2910.253000</td>\n",
       "      <td>3343.913000</td>\n",
       "      <td>2931.595000</td>\n",
       "    </tr>\n",
       "    <tr>\n",
       "      <th>75%</th>\n",
       "      <td>4409.611000</td>\n",
       "      <td>4641.736000</td>\n",
       "      <td>4266.107000</td>\n",
       "    </tr>\n",
       "    <tr>\n",
       "      <th>max</th>\n",
       "      <td>7105.784000</td>\n",
       "      <td>7797.201000</td>\n",
       "      <td>7007.435000</td>\n",
       "    </tr>\n",
       "  </tbody>\n",
       "</table>\n",
       "</div>"
      ],
      "text/plain": [
       "strategy     capacity   centrality         zone\n",
       "count      163.000000   163.000000   163.000000\n",
       "mean      3241.403840  3448.298485  3230.003411\n",
       "std       1477.545347  1611.257980  1536.312057\n",
       "min        764.000000   764.000000   764.000000\n",
       "25%       2178.254500  2183.966000  2144.805000\n",
       "50%       2910.253000  3343.913000  2931.595000\n",
       "75%       4409.611000  4641.736000  4266.107000\n",
       "max       7105.784000  7797.201000  7007.435000"
      ]
     },
     "execution_count": 116,
     "metadata": {},
     "output_type": "execute_result"
    }
   ],
   "source": [
    "ml_df_wide.describe()"
   ]
  },
  {
   "cell_type": "code",
   "execution_count": 117,
   "metadata": {},
   "outputs": [
    {
     "data": {
      "text/plain": [
       "-206.89464417177942"
      ]
     },
     "execution_count": 117,
     "metadata": {},
     "output_type": "execute_result"
    }
   ],
   "source": [
    "ml_df_wide.describe().iloc[1,0] - ml_df_wide.describe().iloc[1,1]"
   ]
  },
  {
   "cell_type": "code",
   "execution_count": 118,
   "metadata": {},
   "outputs": [
    {
     "data": {
      "text/plain": [
       "11.40042944785182"
      ]
     },
     "execution_count": 118,
     "metadata": {},
     "output_type": "execute_result"
    }
   ],
   "source": [
    "ml_df_wide.describe().iloc[1,0] - ml_df_wide.describe().iloc[1,2]"
   ]
  },
  {
   "cell_type": "code",
   "execution_count": 119,
   "metadata": {},
   "outputs": [
    {
     "data": {
      "text/plain": [
       "218.29507361963124"
      ]
     },
     "execution_count": 119,
     "metadata": {},
     "output_type": "execute_result"
    }
   ],
   "source": [
    "ml_df_wide.describe().iloc[1,1] - ml_df_wide.describe().iloc[1,2]"
   ]
  },
  {
   "cell_type": "code",
   "execution_count": 14,
   "metadata": {},
   "outputs": [],
   "source": [
    "import numpy as np\n",
    "from sklearn.ensemble import ExtraTreesRegressor, RandomForestRegressor\n",
    "from sklearn.feature_selection import SelectFromModel\n",
    "from sklearn.model_selection import train_test_split\n",
    "from sklearn.model_selection import GridSearchCV\n",
    "from sklearn import tree\n",
    "from sklearn.linear_model import LinearRegression"
   ]
  },
  {
   "cell_type": "code",
   "execution_count": 121,
   "metadata": {},
   "outputs": [
    {
     "data": {
      "text/plain": [
       "Index(['scenario', 'strategy', 'water_perf_ecs', 'water_perf_pcs',\n",
       "       'power_perf_ecs', 'power_perf_pcs', 'all_compons', 'power4', 'power3',\n",
       "       'power5', 'power2', 'power1', 'power6', 'power0', 'power7', 'water1',\n",
       "       'water4', 'water0', 'water5', 'water2', 'water3', 'water6', 'transpo7',\n",
       "       'transpo2', 'transpo5', 'transpo1', 'transpo3', 'transpo4', 'transpo0',\n",
       "       'transpo6', 'ecs_auc', 'pcs_auc'],\n",
       "      dtype='object')"
      ]
     },
     "execution_count": 121,
     "metadata": {},
     "output_type": "execute_result"
    }
   ],
   "source": [
    "ml_df.columns"
   ]
  },
  {
   "cell_type": "code",
   "execution_count": 11,
   "metadata": {},
   "outputs": [],
   "source": [
    "dep_var = 'pcs_auc'\n",
    "\n",
    "features = ml_df[['strategy', 'power4', 'power3',\n",
    "       'power5', 'power2', 'power1', 'power6', 'power0', 'power7', 'water1',\n",
    "       'water4', 'water0', 'water5', 'water2', 'water3', 'water6', 'transpo7',\n",
    "       'transpo2', 'transpo5', 'transpo1', 'transpo3', 'transpo4', 'transpo0',\n",
    "       'transpo6', dep_var]]"
   ]
  },
  {
   "cell_type": "code",
   "execution_count": 12,
   "metadata": {},
   "outputs": [],
   "source": [
    "features = features.replace('nan',np.NaN)\n",
    "features = features.dropna()\n",
    "\n",
    "labels = np.array(features[dep_var])\n",
    "del features[dep_var]\n",
    "features = pd.get_dummies(features)\n",
    "\n",
    "feature_list = list(features.columns)\n",
    "features = np.array(features)"
   ]
  },
  {
   "cell_type": "markdown",
   "metadata": {},
   "source": [
    "# Decision Tree Model"
   ]
  },
  {
   "cell_type": "code",
   "execution_count": 15,
   "metadata": {},
   "outputs": [
    {
     "name": "stdout",
     "output_type": "stream",
     "text": [
      "['power4', 'power3', 'power5', 'power2', 'power1', 'power6', 'power0', 'power7', 'water1', 'water4', 'water0', 'water5', 'water2', 'water3', 'water6', 'transpo7', 'transpo2', 'transpo5', 'transpo1', 'transpo3', 'transpo4', 'transpo0', 'transpo6', 'strategy_capacity', 'strategy_centrality', 'strategy_zone']\n",
      "[0.019 0.016 0.02  0.    0.    0.054 0.019 0.    0.076 0.    0.06  0.193 0.211 0.    0.038 0.038 0.014 0.105 0.    0.022 0.02  0.011 0.008 0.026 0.021 0.027]\n"
     ]
    },
    {
     "data": {
      "text/html": [
       "<div>\n",
       "<style scoped>\n",
       "    .dataframe tbody tr th:only-of-type {\n",
       "        vertical-align: middle;\n",
       "    }\n",
       "\n",
       "    .dataframe tbody tr th {\n",
       "        vertical-align: top;\n",
       "    }\n",
       "\n",
       "    .dataframe thead th {\n",
       "        text-align: right;\n",
       "    }\n",
       "</style>\n",
       "<table border=\"1\" class=\"dataframe\">\n",
       "  <thead>\n",
       "    <tr style=\"text-align: right;\">\n",
       "      <th></th>\n",
       "      <th>features</th>\n",
       "      <th>feature importance</th>\n",
       "    </tr>\n",
       "  </thead>\n",
       "  <tbody>\n",
       "    <tr>\n",
       "      <th>0</th>\n",
       "      <td>power4</td>\n",
       "      <td>0.018554</td>\n",
       "    </tr>\n",
       "    <tr>\n",
       "      <th>1</th>\n",
       "      <td>power3</td>\n",
       "      <td>0.016434</td>\n",
       "    </tr>\n",
       "    <tr>\n",
       "      <th>2</th>\n",
       "      <td>power5</td>\n",
       "      <td>0.019906</td>\n",
       "    </tr>\n",
       "    <tr>\n",
       "      <th>3</th>\n",
       "      <td>power2</td>\n",
       "      <td>0.000000</td>\n",
       "    </tr>\n",
       "    <tr>\n",
       "      <th>4</th>\n",
       "      <td>power1</td>\n",
       "      <td>0.000000</td>\n",
       "    </tr>\n",
       "    <tr>\n",
       "      <th>5</th>\n",
       "      <td>power6</td>\n",
       "      <td>0.054488</td>\n",
       "    </tr>\n",
       "    <tr>\n",
       "      <th>6</th>\n",
       "      <td>power0</td>\n",
       "      <td>0.018695</td>\n",
       "    </tr>\n",
       "    <tr>\n",
       "      <th>7</th>\n",
       "      <td>power7</td>\n",
       "      <td>0.000000</td>\n",
       "    </tr>\n",
       "    <tr>\n",
       "      <th>8</th>\n",
       "      <td>water1</td>\n",
       "      <td>0.076220</td>\n",
       "    </tr>\n",
       "    <tr>\n",
       "      <th>9</th>\n",
       "      <td>water4</td>\n",
       "      <td>0.000000</td>\n",
       "    </tr>\n",
       "    <tr>\n",
       "      <th>10</th>\n",
       "      <td>water0</td>\n",
       "      <td>0.059874</td>\n",
       "    </tr>\n",
       "    <tr>\n",
       "      <th>11</th>\n",
       "      <td>water5</td>\n",
       "      <td>0.193403</td>\n",
       "    </tr>\n",
       "    <tr>\n",
       "      <th>12</th>\n",
       "      <td>water2</td>\n",
       "      <td>0.210869</td>\n",
       "    </tr>\n",
       "    <tr>\n",
       "      <th>13</th>\n",
       "      <td>water3</td>\n",
       "      <td>0.000000</td>\n",
       "    </tr>\n",
       "    <tr>\n",
       "      <th>14</th>\n",
       "      <td>water6</td>\n",
       "      <td>0.038060</td>\n",
       "    </tr>\n",
       "    <tr>\n",
       "      <th>15</th>\n",
       "      <td>transpo7</td>\n",
       "      <td>0.038306</td>\n",
       "    </tr>\n",
       "    <tr>\n",
       "      <th>16</th>\n",
       "      <td>transpo2</td>\n",
       "      <td>0.014279</td>\n",
       "    </tr>\n",
       "    <tr>\n",
       "      <th>17</th>\n",
       "      <td>transpo5</td>\n",
       "      <td>0.104570</td>\n",
       "    </tr>\n",
       "    <tr>\n",
       "      <th>18</th>\n",
       "      <td>transpo1</td>\n",
       "      <td>0.000000</td>\n",
       "    </tr>\n",
       "    <tr>\n",
       "      <th>19</th>\n",
       "      <td>transpo3</td>\n",
       "      <td>0.022012</td>\n",
       "    </tr>\n",
       "    <tr>\n",
       "      <th>20</th>\n",
       "      <td>transpo4</td>\n",
       "      <td>0.020372</td>\n",
       "    </tr>\n",
       "    <tr>\n",
       "      <th>21</th>\n",
       "      <td>transpo0</td>\n",
       "      <td>0.011078</td>\n",
       "    </tr>\n",
       "    <tr>\n",
       "      <th>22</th>\n",
       "      <td>transpo6</td>\n",
       "      <td>0.008428</td>\n",
       "    </tr>\n",
       "    <tr>\n",
       "      <th>23</th>\n",
       "      <td>strategy_capacity</td>\n",
       "      <td>0.026206</td>\n",
       "    </tr>\n",
       "    <tr>\n",
       "      <th>24</th>\n",
       "      <td>strategy_centrality</td>\n",
       "      <td>0.021302</td>\n",
       "    </tr>\n",
       "    <tr>\n",
       "      <th>25</th>\n",
       "      <td>strategy_zone</td>\n",
       "      <td>0.026945</td>\n",
       "    </tr>\n",
       "  </tbody>\n",
       "</table>\n",
       "</div>"
      ],
      "text/plain": [
       "               features  feature importance\n",
       "0                power4            0.018554\n",
       "1                power3            0.016434\n",
       "2                power5            0.019906\n",
       "3                power2            0.000000\n",
       "4                power1            0.000000\n",
       "5                power6            0.054488\n",
       "6                power0            0.018695\n",
       "7                power7            0.000000\n",
       "8                water1            0.076220\n",
       "9                water4            0.000000\n",
       "10               water0            0.059874\n",
       "11               water5            0.193403\n",
       "12               water2            0.210869\n",
       "13               water3            0.000000\n",
       "14               water6            0.038060\n",
       "15             transpo7            0.038306\n",
       "16             transpo2            0.014279\n",
       "17             transpo5            0.104570\n",
       "18             transpo1            0.000000\n",
       "19             transpo3            0.022012\n",
       "20             transpo4            0.020372\n",
       "21             transpo0            0.011078\n",
       "22             transpo6            0.008428\n",
       "23    strategy_capacity            0.026206\n",
       "24  strategy_centrality            0.021302\n",
       "25        strategy_zone            0.026945"
      ]
     },
     "execution_count": 15,
     "metadata": {},
     "output_type": "execute_result"
    }
   ],
   "source": [
    "clf = ExtraTreesRegressor(n_estimators=500)\n",
    "clf = clf.fit(features, labels)\n",
    "\n",
    "print(feature_list)\n",
    "print(clf.feature_importances_)\n",
    "\n",
    "pd.DataFrame(data = {'features': feature_list,\n",
    "                     'feature importance': clf.feature_importances_})"
   ]
  },
  {
   "cell_type": "code",
   "execution_count": 17,
   "metadata": {},
   "outputs": [
    {
     "name": "stdout",
     "output_type": "stream",
     "text": [
      "Training Features Shape: (369, 26)\n",
      "Training Labels Shape: (369,)\n",
      "Testing Features Shape: (123, 26)\n",
      "Testing Labels Shape: (123,)\n"
     ]
    }
   ],
   "source": [
    "from sklearn.model_selection import train_test_split\n",
    "train_features, test_features, train_labels, test_labels = train_test_split(features, labels, test_size = 0.25, random_state = 42)\n",
    "print('Training Features Shape:', train_features.shape)\n",
    "print('Training Labels Shape:', train_labels.shape)\n",
    "print('Testing Features Shape:', test_features.shape)\n",
    "print('Testing Labels Shape:', test_labels.shape)"
   ]
  },
  {
   "cell_type": "code",
   "execution_count": 18,
   "metadata": {},
   "outputs": [
    {
     "data": {
      "text/plain": [
       "(492, 19)"
      ]
     },
     "execution_count": 18,
     "metadata": {},
     "output_type": "execute_result"
    }
   ],
   "source": [
    "model = SelectFromModel(clf, prefit=True, threshold = '0.5*median')\n",
    "features_new = model.transform(features)\n",
    "features_new.shape"
   ]
  },
  {
   "cell_type": "code",
   "execution_count": 19,
   "metadata": {},
   "outputs": [
    {
     "data": {
      "text/plain": [
       "(492, 19)"
      ]
     },
     "execution_count": 19,
     "metadata": {},
     "output_type": "execute_result"
    }
   ],
   "source": [
    "model = SelectFromModel(clf, prefit=True, threshold = '0.5*median')\n",
    "features_new = model.transform(features)\n",
    "features_new.shape"
   ]
  },
  {
   "cell_type": "code",
   "execution_count": 20,
   "metadata": {},
   "outputs": [
    {
     "data": {
      "text/plain": [
       "['power4',\n",
       " 'power3',\n",
       " 'power5',\n",
       " 'power6',\n",
       " 'power0',\n",
       " 'water1',\n",
       " 'water0',\n",
       " 'water5',\n",
       " 'water2',\n",
       " 'water6',\n",
       " 'transpo7',\n",
       " 'transpo2',\n",
       " 'transpo5',\n",
       " 'transpo3',\n",
       " 'transpo4',\n",
       " 'transpo0',\n",
       " 'strategy_capacity',\n",
       " 'strategy_centrality',\n",
       " 'strategy_zone']"
      ]
     },
     "execution_count": 20,
     "metadata": {},
     "output_type": "execute_result"
    }
   ],
   "source": [
    "feature_list_new = []\n",
    "\n",
    "for i, feature in enumerate(feature_list):\n",
    "    if model.get_support()[i]:\n",
    "        feature_list_new.append(feature)\n",
    "\n",
    "feature_list_new"
   ]
  },
  {
   "cell_type": "code",
   "execution_count": 21,
   "metadata": {},
   "outputs": [
    {
     "name": "stdout",
     "output_type": "stream",
     "text": [
      "Training Features Shape: (369, 19)\n",
      "Training Labels Shape: (369,)\n",
      "Testing Features Shape: (123, 19)\n",
      "Testing Labels Shape: (123,)\n"
     ]
    }
   ],
   "source": [
    "train_features, test_features, train_labels, test_labels = train_test_split(features_new, labels, test_size = 0.25, random_state = 43)\n",
    "print('Training Features Shape:', train_features.shape)\n",
    "print('Training Labels Shape:', train_labels.shape)\n",
    "print('Testing Features Shape:', test_features.shape)\n",
    "print('Testing Labels Shape:', test_labels.shape)"
   ]
  },
  {
   "cell_type": "code",
   "execution_count": 22,
   "metadata": {},
   "outputs": [
    {
     "name": "stdout",
     "output_type": "stream",
     "text": [
      "nan {'max_depth': 2, 'min_samples_leaf': 3}\n"
     ]
    }
   ],
   "source": [
    "parameters = {'max_depth':range(2,10), 'min_samples_leaf': range(3,10)}\n",
    "clf = GridSearchCV(tree.DecisionTreeRegressor(), parameters, n_jobs=5, scoring = 'accuracy')\n",
    "clf.fit(X=features, y=labels)\n",
    "tree_model = clf.best_estimator_\n",
    "print (clf.best_score_, clf.best_params_) "
   ]
  },
  {
   "cell_type": "code",
   "execution_count": 23,
   "metadata": {},
   "outputs": [
    {
     "data": {
      "text/plain": [
       "DecisionTreeRegressor(max_depth=5, min_samples_leaf=4, random_state=0)"
      ]
     },
     "execution_count": 23,
     "metadata": {},
     "output_type": "execute_result"
    }
   ],
   "source": [
    "clf = tree.DecisionTreeRegressor(max_depth = 5, random_state = 0, min_samples_leaf=4)\n",
    "# Train the model on training data\n",
    "clf.fit(features, labels)"
   ]
  },
  {
   "cell_type": "code",
   "execution_count": 24,
   "metadata": {},
   "outputs": [
    {
     "name": "stdout",
     "output_type": "stream",
     "text": [
      "380.6623826249612 0.7851810026090782 0.7731696178087256\n"
     ]
    }
   ],
   "source": [
    "y_pred=clf.predict(features)   \n",
    "\n",
    "def measure_performance(y_test, y_pred, X_train):\n",
    "    from sklearn.metrics import mean_squared_error, r2_score \n",
    "\n",
    "    rmse = np.sqrt(mean_squared_error(y_test,y_pred))\n",
    "    r2 = r2_score(y_test,y_pred)\n",
    "\n",
    "    # Scikit-learn doesn't have adjusted r-square, hence custom code\n",
    "    n = y_pred.shape[0]\n",
    "    k = X_train.shape[1]\n",
    "    adj_r_sq = 1 - (1 - r2)*(n-1)/(n-1-k)\n",
    "\n",
    "    print(rmse, r2, adj_r_sq)\n",
    "    \n",
    "        \n",
    "measure_performance(labels,y_pred, features)"
   ]
  },
  {
   "cell_type": "code",
   "execution_count": null,
   "metadata": {},
   "outputs": [],
   "source": []
  },
  {
   "cell_type": "markdown",
   "metadata": {},
   "source": [
    "# Random Forest Model"
   ]
  },
  {
   "cell_type": "code",
   "execution_count": 25,
   "metadata": {},
   "outputs": [
    {
     "name": "stdout",
     "output_type": "stream",
     "text": [
      "n_estimators:  1 - Accuracy:  0.8799882377167109\n",
      "n_estimators:  10 - Accuracy:  0.9597622374389908\n",
      "n_estimators:  20 - Accuracy:  0.9714822415384727\n",
      "n_estimators:  50 - Accuracy:  0.973145643119871\n",
      "n_estimators:  100 - Accuracy:  0.9736581864372025\n",
      "n_estimators:  500 - Accuracy:  0.9742127416099476\n",
      "n_estimators:  1000 - Accuracy:  0.9740579296564991\n"
     ]
    }
   ],
   "source": [
    "for i in [1, 10, 20, 50, 100, 500, 1000]:\n",
    "    regressor = RandomForestRegressor(n_estimators = i, random_state = 1)\n",
    "    regressor.fit(features, labels)\n",
    "    y_pred = regressor.predict(features)\n",
    "    print(\"n_estimators: \", i, \"- Accuracy: \", regressor.score(features, labels))"
   ]
  },
  {
   "cell_type": "code",
   "execution_count": 26,
   "metadata": {},
   "outputs": [
    {
     "name": "stdout",
     "output_type": "stream",
     "text": [
      "Mean Absolute Error: 86.22654951524369\n",
      "Mean Squared Error: 17498.94517531065\n",
      "Root Mean Squared Error: 132.28357863057172\n"
     ]
    }
   ],
   "source": [
    "# Evaluating the Algorithm\n",
    "from sklearn import metrics\n",
    "print('Mean Absolute Error:', metrics.mean_absolute_error(labels, y_pred))  \n",
    "print('Mean Squared Error:', metrics.mean_squared_error(labels, y_pred))  \n",
    "print('Root Mean Squared Error:', np.sqrt(metrics.mean_squared_error(labels, y_pred)))"
   ]
  },
  {
   "cell_type": "code",
   "execution_count": 27,
   "metadata": {},
   "outputs": [
    {
     "name": "stdout",
     "output_type": "stream",
     "text": [
      "132.28357863057172 0.9740579296564991 0.9726074052932066\n"
     ]
    }
   ],
   "source": [
    "measure_performance(labels,y_pred, features)"
   ]
  },
  {
   "cell_type": "markdown",
   "metadata": {},
   "source": [
    "# Linear Regression"
   ]
  },
  {
   "cell_type": "code",
   "execution_count": 31,
   "metadata": {},
   "outputs": [],
   "source": [
    "linear_regressor = LinearRegression()  # create object for the class\n",
    "linear_regressor.fit(train_features, train_labels)  # perform linear regression\n",
    "y_pred = linear_regressor.predict(train_features)  # make predictions"
   ]
  },
  {
   "cell_type": "code",
   "execution_count": 32,
   "metadata": {},
   "outputs": [
    {
     "name": "stdout",
     "output_type": "stream",
     "text": [
      "['power4', 'power3', 'power5', 'power6', 'power0', 'water1', 'water0', 'water5', 'water2', 'water6', 'transpo7', 'transpo2', 'transpo5', 'transpo3', 'transpo4', 'transpo0', 'strategy_capacity', 'strategy_centrality', 'strategy_zone']\n",
      "[  6.048 -81.964  14.059  79.889  -4.642 107.442 133.259  58.252 169.799  76.119 200.912  89.357 197.199  66.382 145.298 -57.17  -97.964  89.201   8.763]\n"
     ]
    }
   ],
   "source": [
    "print(feature_list_new)\n",
    "print(linear_regressor.coef_)"
   ]
  },
  {
   "cell_type": "code",
   "execution_count": 33,
   "metadata": {},
   "outputs": [
    {
     "data": {
      "text/plain": [
       "0.7826891256426758"
      ]
     },
     "execution_count": 33,
     "metadata": {},
     "output_type": "execute_result"
    }
   ],
   "source": [
    "linear_regressor.score(train_features, train_labels, sample_weight=None)"
   ]
  }
 ],
 "metadata": {
  "interpreter": {
   "hash": "d457c6433f18c3837b6e3285bba28c013c3b86deb599c3954950bcdf8f1c827b"
  },
  "kernelspec": {
   "display_name": "Python 3.8.3 64-bit ('redcar': conda)",
   "name": "python3"
  },
  "language_info": {
   "codemirror_mode": {
    "name": "ipython",
    "version": 3
   },
   "file_extension": ".py",
   "mimetype": "text/x-python",
   "name": "python",
   "nbconvert_exporter": "python",
   "pygments_lexer": "ipython3",
   "version": "3.8.3"
  },
  "orig_nbformat": 4
 },
 "nbformat": 4,
 "nbformat_minor": 2
}
