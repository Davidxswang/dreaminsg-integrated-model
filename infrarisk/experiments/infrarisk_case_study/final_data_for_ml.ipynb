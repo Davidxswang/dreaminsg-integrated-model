{
 "cells": [
  {
   "cell_type": "markdown",
   "metadata": {},
   "source": [
    "### This notebook contains the codes to extract and process the necessary simulation data for constructing the machine learning model. The contents must be incorporated to the resilience_metrics.py once finalized."
   ]
  },
  {
   "cell_type": "code",
   "execution_count": 1,
   "metadata": {},
   "outputs": [],
   "source": [
    "%load_ext autoreload\n",
    "%autoreload 2\n",
    "\n",
    "import warnings\n",
    "warnings.filterwarnings('ignore')\n",
    "\n",
    "from IPython.display import clear_output\n",
    "\n",
    "import os\n",
    "import pandas as pd\n",
    "from pathlib import Path\n",
    "from sklearn import metrics\n",
    "import statistics\n",
    "import numpy as np\n",
    "import copy\n",
    "\n",
    "import infrarisk.src.network_sim_models.interdependencies as interdependencies\n",
    "from infrarisk.src.network_sim_models.integrated_network import *\n",
    "\n",
    "from numba import jit, cuda, numba"
   ]
  },
  {
   "cell_type": "code",
   "execution_count": 2,
   "metadata": {},
   "outputs": [
    {
     "name": "stdout",
     "output_type": "stream",
     "text": [
      "Water network successfully loaded from ..\\..\\data\\networks\\micropolis\\water\\med/water.inp. The analysis type is set to PDA.\n",
      "initial simulation duration: 60s; hydraulic time step: 60s; pattern time step: 3600s\n",
      "\n",
      "Power system successfully loaded from ..\\..\\data\\networks\\micropolis\\power\\low\\power.json. Single phase power flow simulation will be used.\n",
      "\n"
     ]
    }
   ],
   "source": [
    "network_dir = Path('../../data/networks/micropolis')\n",
    "water_folder = network_dir/'water/med'\n",
    "power_folder = network_dir/'power/low'\n",
    "\n",
    "micropolis_network = IntegratedNetwork(name = 'Micropolis', \n",
    "                                       water_folder= water_folder,\n",
    "                                       power_folder = power_folder,\n",
    "                                       water_sim_type = 'PDA',\n",
    "                                       power_sim_type='1ph')"
   ]
  },
  {
   "cell_type": "code",
   "execution_count": 3,
   "metadata": {},
   "outputs": [
    {
     "data": {
      "text/html": [
       "<div>\n",
       "<style scoped>\n",
       "    .dataframe tbody tr th:only-of-type {\n",
       "        vertical-align: middle;\n",
       "    }\n",
       "\n",
       "    .dataframe tbody tr th {\n",
       "        vertical-align: top;\n",
       "    }\n",
       "\n",
       "    .dataframe thead th {\n",
       "        text-align: right;\n",
       "    }\n",
       "</style>\n",
       "<table border=\"1\" class=\"dataframe\">\n",
       "  <thead>\n",
       "    <tr style=\"text-align: right;\">\n",
       "      <th></th>\n",
       "      <th>source</th>\n",
       "      <th>target</th>\n",
       "      <th>id</th>\n",
       "      <th>link_type</th>\n",
       "      <th>betweenness_centrality</th>\n",
       "      <th>cluster_num</th>\n",
       "      <th>katz_centrality</th>\n",
       "      <th>maxflow</th>\n",
       "      <th>length</th>\n",
       "      <th>link_category</th>\n",
       "      <th>degree_centrality</th>\n",
       "      <th>eigenvector_centrality</th>\n",
       "      <th>closeness_centrality</th>\n",
       "      <th>cluster</th>\n",
       "    </tr>\n",
       "  </thead>\n",
       "  <tbody>\n",
       "    <tr>\n",
       "      <th>0</th>\n",
       "      <td>P_B0</td>\n",
       "      <td>P_B1</td>\n",
       "      <td>P_L1</td>\n",
       "      <td>Power</td>\n",
       "      <td>0.082426</td>\n",
       "      <td>7</td>\n",
       "      <td>-0.027746</td>\n",
       "      <td>18.058576</td>\n",
       "      <td>100.363</td>\n",
       "      <td>Power line</td>\n",
       "      <td>0.005719</td>\n",
       "      <td>3.399758e-17</td>\n",
       "      <td>0.000737</td>\n",
       "      <td>power7</td>\n",
       "    </tr>\n",
       "    <tr>\n",
       "      <th>1</th>\n",
       "      <td>P_B0</td>\n",
       "      <td>P_B79</td>\n",
       "      <td>P_L394</td>\n",
       "      <td>Power</td>\n",
       "      <td>0.057579</td>\n",
       "      <td>2</td>\n",
       "      <td>-0.043812</td>\n",
       "      <td>0.662464</td>\n",
       "      <td>56.033</td>\n",
       "      <td>Power line</td>\n",
       "      <td>0.005719</td>\n",
       "      <td>1.081720e-17</td>\n",
       "      <td>0.000724</td>\n",
       "      <td>power2</td>\n",
       "    </tr>\n",
       "    <tr>\n",
       "      <th>2</th>\n",
       "      <td>P_B1</td>\n",
       "      <td>P_B2</td>\n",
       "      <td>P_L2</td>\n",
       "      <td>Power</td>\n",
       "      <td>0.064377</td>\n",
       "      <td>7</td>\n",
       "      <td>0.013581</td>\n",
       "      <td>17.638314</td>\n",
       "      <td>183.230</td>\n",
       "      <td>Power line</td>\n",
       "      <td>0.004902</td>\n",
       "      <td>3.457825e-17</td>\n",
       "      <td>0.000756</td>\n",
       "      <td>power7</td>\n",
       "    </tr>\n",
       "    <tr>\n",
       "      <th>3</th>\n",
       "      <td>P_B2</td>\n",
       "      <td>P_B3</td>\n",
       "      <td>P_L3</td>\n",
       "      <td>Power</td>\n",
       "      <td>0.080543</td>\n",
       "      <td>7</td>\n",
       "      <td>0.001400</td>\n",
       "      <td>16.372524</td>\n",
       "      <td>199.139</td>\n",
       "      <td>Power line</td>\n",
       "      <td>0.004902</td>\n",
       "      <td>4.053703e-18</td>\n",
       "      <td>0.000780</td>\n",
       "      <td>power7</td>\n",
       "    </tr>\n",
       "    <tr>\n",
       "      <th>4</th>\n",
       "      <td>P_B3</td>\n",
       "      <td>P_B4</td>\n",
       "      <td>P_L4</td>\n",
       "      <td>Power</td>\n",
       "      <td>0.091090</td>\n",
       "      <td>7</td>\n",
       "      <td>-0.029408</td>\n",
       "      <td>15.137651</td>\n",
       "      <td>165.686</td>\n",
       "      <td>Power line</td>\n",
       "      <td>0.004902</td>\n",
       "      <td>-1.699627e-17</td>\n",
       "      <td>0.000802</td>\n",
       "      <td>power7</td>\n",
       "    </tr>\n",
       "  </tbody>\n",
       "</table>\n",
       "</div>"
      ],
      "text/plain": [
       "  source target      id link_type  betweenness_centrality  cluster_num  \\\n",
       "0   P_B0   P_B1    P_L1     Power                0.082426            7   \n",
       "1   P_B0  P_B79  P_L394     Power                0.057579            2   \n",
       "2   P_B1   P_B2    P_L2     Power                0.064377            7   \n",
       "3   P_B2   P_B3    P_L3     Power                0.080543            7   \n",
       "4   P_B3   P_B4    P_L4     Power                0.091090            7   \n",
       "\n",
       "   katz_centrality    maxflow   length link_category  degree_centrality  \\\n",
       "0        -0.027746  18.058576  100.363    Power line           0.005719   \n",
       "1        -0.043812   0.662464   56.033    Power line           0.005719   \n",
       "2         0.013581  17.638314  183.230    Power line           0.004902   \n",
       "3         0.001400  16.372524  199.139    Power line           0.004902   \n",
       "4        -0.029408  15.137651  165.686    Power line           0.004902   \n",
       "\n",
       "   eigenvector_centrality  closeness_centrality cluster  \n",
       "0            3.399758e-17              0.000737  power7  \n",
       "1            1.081720e-17              0.000724  power2  \n",
       "2            3.457825e-17              0.000756  power7  \n",
       "3            4.053703e-18              0.000780  power7  \n",
       "4           -1.699627e-17              0.000802  power7  "
      ]
     },
     "execution_count": 3,
     "metadata": {},
     "output_type": "execute_result"
    }
   ],
   "source": [
    "link_criticality_measures = pd.read_csv(f\"{network_dir}/link_criticality_features.csv\", sep = \",\")\n",
    "link_criticality_measures.head()"
   ]
  },
  {
   "cell_type": "code",
   "execution_count": 4,
   "metadata": {},
   "outputs": [],
   "source": [
    "# Set scenarios folder\n",
    "#folder = Path('../../data/networks/micropolis/scenarios')\n",
    "folder = Path(\"E:/dreaminsg data\")\n",
    "scenarios = [f for f in sorted(os.listdir(folder)) if f.startswith(\"flood\")]\n",
    "\n",
    "#list of recovery strategies to be considered\n",
    "#strategies = ['capacity', 'centrality', 'crewdist', 'zone']\n",
    "strategies = ['capacity', 'zone', 'centrality']\n",
    "\n",
    "#create the empty dataframe for ML dataset\n",
    "\n",
    "columns = [\"scenario\", \"strategy\", 'water_perf_ecs', 'water_perf_pcs', 'power_perf_ecs',\n",
    "        'power_perf_pcs', \"all_compons\"] + list(link_criticality_measures.cluster.unique())\n",
    "        \n",
    "ml_df = pd.DataFrame(columns = columns)\n",
    "\n",
    "abnormal_results = []\n",
    "\n",
    "junc_list = micropolis_network.wn.junction_name_list\n",
    "base_water_demands = micropolis_network.base_water_node_supply\n",
    "base_power_demands = micropolis_network.base_power_supply\n"
   ]
  },
  {
   "cell_type": "code",
   "execution_count": 5,
   "metadata": {},
   "outputs": [
    {
     "name": "stdout",
     "output_type": "stream",
     "text": [
      "3 / 164 .  flood100\n",
      "['flood100', 'capacity', 5e-05, 0.00011666666666666667, 0.47546666666666665, 0.30551666666666666, 5, 0, 0, 0, 1, 0, 1, 0, 1, 0, 0, 0, 1, 0, 0, 0, 0, 0, 0, 1, 0, 0, 0, 0, 0]\n",
      "['flood100', 'zone', 5e-05, 0.0001, 0.5082666666666666, 0.32658333333333334, 5, 0, 0, 0, 1, 0, 1, 0, 1, 0, 0, 0, 1, 0, 0, 0, 0, 0, 0, 1, 0, 0, 0, 0, 0]\n"
     ]
    }
   ],
   "source": [
    "for index, scenario in enumerate(scenarios):\n",
    "    print(index,\"/\",len(scenarios), \". \", scenario)\n",
    "\n",
    "    ml_df_new = dict()\n",
    "    for key in columns:\n",
    "        if key == 'scenario':\n",
    "            ml_df_new[key] = scenario\n",
    "        elif key in [\"strategy\", 'water_perf_ecs', 'water_perf_pcs', 'power_perf_ecs', 'power_perf_pcs']:\n",
    "            ml_df_new[key] = None\n",
    "        else:\n",
    "            ml_df_new[key] = 0\n",
    "    \n",
    "    disruption_file = pd.read_csv(f\"{folder}/{scenario}/disruption_file.csv\")\n",
    "    ml_df_new[\"all_compons\"] = disruption_file.shape[0]\n",
    "    for _, row in disruption_file.iterrows():\n",
    "        if row['components'] in link_criticality_measures['id'].to_list():\n",
    "            cluster = link_criticality_measures[link_criticality_measures[\"id\"] == row['components']].cluster.item()\n",
    "            ml_df_new[cluster] += 1\n",
    "        else:\n",
    "            print(f\"Component type not detectable ({row['components']}).\")            \n",
    "    \n",
    "    for strategy in strategies:\n",
    "        ml_df_new['strategy'] = strategy\n",
    "        water_demands_file = f\"{folder}/{scenario}/{strategy}/water_junc_demand.csv\"\n",
    "        power_demands_file = f\"{folder}/{scenario}/{strategy}/power_load_demand.csv\"\n",
    "        water_pressure_file = f\"{folder}/{scenario}/{strategy}/water_node_pressure.csv\"\n",
    "        \n",
    "        if os.path.isfile(water_demands_file):\n",
    "            water_demands = pd.read_csv(water_demands_file, sep = \"\\t\")\n",
    "            water_time_list = water_demands.time/60\n",
    "            water_time_list = water_time_list.tolist()\n",
    "            rel_time_list = water_demands['time'] % (24*3600)\n",
    "            index_list = [int(x/60) for x in rel_time_list]\n",
    "            water_demands = water_demands[junc_list]\n",
    "            \n",
    "            # water_pressures = pd.read_csv(water_pressure_file, sep = \"\\t\")\n",
    "            # water_pressures = water_pressures[junc_list]\n",
    "            # water_press_corrections = copy.deepcopy(water_pressures)\n",
    "            \n",
    "            power_demands = pd.read_csv(power_demands_file, sep = \"\\t\")\n",
    "            power_time_list = power_demands.time/60\n",
    "            power_time_list= power_time_list.tolist()\n",
    "            \n",
    "            base_water_demands_new = base_water_demands.iloc[index_list].reset_index(drop=True)\n",
    "            base_water_demands_new = base_water_demands_new[junc_list]\n",
    "            \n",
    "            water_demands_ratio = water_demands/ base_water_demands_new\n",
    "            water_demands_ratio = water_demands_ratio.clip(upper=1, lower = 0)\n",
    "            # if not os.path.isfile(f\"{folder}/{scenario}/{strategy}/water_demands_ratio.csv\"):\n",
    "            #     water_demands_ratio.to_csv(f\"{folder}/{scenario}/{strategy}/water_demands_ratio.csv\", index = False)\n",
    "            \n",
    "            water_ecs_list = water_demands_ratio.mean(axis = 1, skipna = True).tolist()\n",
    "            \n",
    "            if water_ecs_list[-1] < 0.9:\n",
    "                abnormal_results.append(scenario)\n",
    "                \n",
    "            water_pcs_list = pd.concat([water_demands, base_water_demands_new]).min(level=0).sum(axis=1, skipna = True)/base_water_demands_new.sum(axis=1, skipna = True)\n",
    "            water_pcs_list = water_pcs_list.tolist()\n",
    "\n",
    "            base_load_demands = pd.DataFrame(base_power_demands.load.p_mw.tolist() + base_power_demands.motor.pn_mech_mw.tolist()).transpose()\n",
    "            base_load_demands.columns = base_power_demands.load.name.tolist() + base_power_demands.motor.name.tolist()\n",
    "            base_load_demands = pd.concat([base_load_demands]*(power_demands.shape[0])).reset_index(drop=True)\n",
    "\n",
    "            power_demand_ratio = power_demands.iloc[:,1:] / base_load_demands\n",
    "            power_demand_ratio = power_demand_ratio.clip(upper=1, lower  = 0)\n",
    "            # if not os.path.isfile(f\"{folder}/{scenario}/{strategy}/power_demand_ratio.csv\"):\n",
    "            #     power_demand_ratio.to_csv(f\"{folder}/{scenario}/{strategy}/power_demand_ratio.csv\", index = False)\n",
    "\n",
    "            power_ecs_list = power_demand_ratio.mean(axis = 1, skipna = True).tolist()\n",
    "            power_pcs_list = pd.concat([power_demands.iloc[:,1:], base_load_demands]).min(level=0).sum(axis=1, skipna = True)/base_load_demands.sum(axis=1, skipna = True)\n",
    "            power_pcs_list = power_pcs_list.tolist()\n",
    "            \n",
    "            \n",
    "            ml_df_new['water_perf_ecs'] = round(metrics.auc(water_time_list, [1 - x for x in water_ecs_list]), 3)/60 #Equivalent outage hours\n",
    "            ml_df_new['water_perf_pcs'] = round(metrics.auc(water_time_list, [1 - x for x in water_pcs_list]), 3)/60\n",
    "            ml_df_new['power_perf_ecs'] = round(metrics.auc(power_time_list, [1 - x for x in power_ecs_list]), 3)/60\n",
    "            ml_df_new['power_perf_pcs'] = round(metrics.auc(power_time_list, [1 - x for x in power_pcs_list]), 3)/60\n",
    "            \n",
    "            power_auc_df = pd.DataFrame(data = {'time': power_time_list, \n",
    "                                                'ecs': power_ecs_list, \n",
    "                                                'pcs': power_pcs_list})\n",
    "            power_auc_df.to_csv(f\"{folder}/{scenario}/{strategy}/power_auc.csv\", index = False)\n",
    "            \n",
    "            water_auc_df = pd.DataFrame(data = {'time': water_time_list, \n",
    "                                                'ecs': water_ecs_list, \n",
    "                                                'pcs': water_pcs_list})\n",
    "            water_auc_df.to_csv(f\"{folder}/{scenario}/{strategy}/water_auc.csv\", index = False)\n",
    "            \n",
    "            ml_df = ml_df.append(ml_df_new, ignore_index=True)\n",
    "            print(ml_df.iloc[-1,:].tolist())\n",
    "            \n",
    "        else:\n",
    "            pass\n",
    "    clear_output(wait=True)\n",
    "    \n",
    "abnormal_results = list(set(abnormal_results))"
   ]
  },
  {
   "cell_type": "code",
   "execution_count": 7,
   "metadata": {},
   "outputs": [
    {
     "data": {
      "text/plain": [
       "(489, 33)"
      ]
     },
     "execution_count": 7,
     "metadata": {},
     "output_type": "execute_result"
    }
   ],
   "source": [
    "ml_df['ecs_auc'] = ml_df['water_perf_ecs']*0.5 + ml_df['power_perf_ecs']*0.5\n",
    "ml_df['pcs_auc'] = ml_df['water_perf_pcs']*0.5 + ml_df['power_perf_pcs']*0.5\n",
    "ml_df.shape"
   ]
  },
  {
   "cell_type": "code",
   "execution_count": 4,
   "metadata": {},
   "outputs": [
    {
     "data": {
      "text/plain": [
       "(489, 33)"
      ]
     },
     "execution_count": 4,
     "metadata": {},
     "output_type": "execute_result"
    }
   ],
   "source": [
    "#ml_df.to_csv(\"auc_df_tracks.csv\", index = False, sep = \",\")\n",
    "ml_df2 = pd.read_csv(\"auc_df_tracks.csv\", sep = ',')\n",
    "ml_df2.shape"
   ]
  },
  {
   "cell_type": "code",
   "execution_count": 6,
   "metadata": {},
   "outputs": [
    {
     "data": {
      "text/plain": [
       "<AxesSubplot:>"
      ]
     },
     "execution_count": 6,
     "metadata": {},
     "output_type": "execute_result"
    },
    {
     "data": {
      "image/png": "[encoded data removed]",
      "text/plain": [
       "<Figure size 432x288 with 1 Axes>"
      ]
     },
     "metadata": {
      "needs_background": "light"
     },
     "output_type": "display_data"
    }
   ],
   "source": [
    "ml_df2['pcs_auc'].hist()"
   ]
  },
  {
   "cell_type": "code",
   "execution_count": 7,
   "metadata": {},
   "outputs": [
    {
     "data": {
      "text/html": [
       "<div>\n",
       "<style scoped>\n",
       "    .dataframe tbody tr th:only-of-type {\n",
       "        vertical-align: middle;\n",
       "    }\n",
       "\n",
       "    .dataframe tbody tr th {\n",
       "        vertical-align: top;\n",
       "    }\n",
       "\n",
       "    .dataframe thead th {\n",
       "        text-align: right;\n",
       "    }\n",
       "</style>\n",
       "<table border=\"1\" class=\"dataframe\">\n",
       "  <thead>\n",
       "    <tr style=\"text-align: right;\">\n",
       "      <th></th>\n",
       "      <th>scenario</th>\n",
       "      <th>strategy</th>\n",
       "      <th>water_perf_ecs</th>\n",
       "      <th>water_perf_pcs</th>\n",
       "      <th>power_perf_ecs</th>\n",
       "      <th>power_perf_pcs</th>\n",
       "      <th>all_compons</th>\n",
       "      <th>power7</th>\n",
       "      <th>power2</th>\n",
       "      <th>power1</th>\n",
       "      <th>...</th>\n",
       "      <th>transpo8</th>\n",
       "      <th>transpo3</th>\n",
       "      <th>transpo5</th>\n",
       "      <th>transpo0</th>\n",
       "      <th>transpo4</th>\n",
       "      <th>transpo2</th>\n",
       "      <th>transpo6</th>\n",
       "      <th>transpo1</th>\n",
       "      <th>ecs_auc</th>\n",
       "      <th>pcs_auc</th>\n",
       "    </tr>\n",
       "  </thead>\n",
       "  <tbody>\n",
       "  </tbody>\n",
       "</table>\n",
       "<p>0 rows × 33 columns</p>\n",
       "</div>"
      ],
      "text/plain": [
       "Empty DataFrame\n",
       "Columns: [scenario, strategy, water_perf_ecs, water_perf_pcs, power_perf_ecs, power_perf_pcs, all_compons, power7, power2, power1, power0, power5, power6, power4, power3, water5, water1, water2, water6, water3, water0, water4, transpo7, transpo8, transpo3, transpo5, transpo0, transpo4, transpo2, transpo6, transpo1, ecs_auc, pcs_auc]\n",
       "Index: []\n",
       "\n",
       "[0 rows x 33 columns]"
      ]
     },
     "execution_count": 7,
     "metadata": {},
     "output_type": "execute_result"
    }
   ],
   "source": [
    "ml_df2[ml_df2['pcs_auc'] > 80]"
   ]
  },
  {
   "cell_type": "code",
   "execution_count": 5,
   "metadata": {},
   "outputs": [],
   "source": [
    "ml_df2 = ml_df2[ml_df2['pcs_auc'] < 80]"
   ]
  },
  {
   "cell_type": "code",
   "execution_count": 9,
   "metadata": {},
   "outputs": [
    {
     "data": {
      "text/plain": [
       "Text(0.5, 1.0, 'Histogram of resilience metrics')"
      ]
     },
     "execution_count": 9,
     "metadata": {},
     "output_type": "execute_result"
    },
    {
     "data": {
      "image/png": "[encoded data removed]",
      "text/plain": [
       "<Figure size 720x504 with 1 Axes>"
      ]
     },
     "metadata": {
      "needs_background": "light"
     },
     "output_type": "display_data"
    }
   ],
   "source": [
    "import seaborn as sns\n",
    "import matplotlib.pyplot as plt\n",
    "\n",
    "\n",
    "sns.set_context('talk')\n",
    "fig = plt.figure(figsize = (10,7))\n",
    "ax = sns.histplot(x= 'pcs_auc', hue = 'strategy', stat=\"count\", multiple=\"dodge\",  data = ml_df2, palette=(\"tab10\"))\n",
    "\n",
    "# ax = sns.kdeplot(data=ml_df, x=\"pcs_auc\", hue=\"strategy\", cumulative=True, common_norm=False, common_grid=True,)\n",
    "\n",
    "ax.set_title('Histogram of resilience metrics', size = 16)"
   ]
  },
  {
   "cell_type": "code",
   "execution_count": 22,
   "metadata": {},
   "outputs": [
    {
     "data": {
      "text/plain": [
       "<seaborn.axisgrid.FacetGrid at 0x234f8d05df0>"
      ]
     },
     "execution_count": 22,
     "metadata": {},
     "output_type": "execute_result"
    },
    {
     "data": {
      "image/png": "[encoded data removed]",
      "text/plain": [
       "<Figure size 861.84x216 with 3 Axes>"
      ]
     },
     "metadata": {},
     "output_type": "display_data"
    }
   ],
   "source": [
    "\n",
    "sns.set_theme(style=\"white\")\n",
    "sns.set_context('paper')\n",
    "g = sns.FacetGrid(ml_df2, hue = 'strategy', col='strategy', col_wrap=3, palette=\"tab10\", height=3, aspect= 1.33 )\n",
    "#g = (g.map(sns.kdeplot, \"power_perf_pcs\"))\n",
    "(g.map(sns.histplot, \"power_perf_pcs\", stat = 'count', binwidth = 5))\n",
    "g.set_titles(col_template=\"{col_name}\", fontweight='regular', size=12)\n",
    "g.set(xlim=(0, 120))"
   ]
  },
  {
   "cell_type": "code",
   "execution_count": 21,
   "metadata": {},
   "outputs": [
    {
     "data": {
      "text/plain": [
       "<seaborn.axisgrid.FacetGrid at 0x234f8a7b430>"
      ]
     },
     "execution_count": 21,
     "metadata": {},
     "output_type": "execute_result"
    },
    {
     "data": {
      "image/png": "[encoded data removed]",
      "text/plain": [
       "<Figure size 861.84x216 with 3 Axes>"
      ]
     },
     "metadata": {},
     "output_type": "display_data"
    }
   ],
   "source": [
    "sns.set_theme(style=\"white\")\n",
    "sns.set_context('paper')\n",
    "g = sns.FacetGrid(ml_df2, hue = 'strategy', col='strategy', col_wrap=3, palette=\"tab10\", height=3, aspect= 1.33 )\n",
    "#g = (g.map(sns.kdeplot, \"power_perf_pcs\"))\n",
    "(g.map(sns.histplot, f\"water_perf_pcs\", stat = 'count', binwidth = 5))\n",
    "g.set_titles(col_template=\"{col_name}\", fontweight='regular', size=12)\n",
    "g.set(xlim=(0, 120))"
   ]
  },
  {
   "cell_type": "code",
   "execution_count": 6,
   "metadata": {},
   "outputs": [
    {
     "data": {
      "text/html": [
       "<div>\n",
       "<style scoped>\n",
       "    .dataframe tbody tr th:only-of-type {\n",
       "        vertical-align: middle;\n",
       "    }\n",
       "\n",
       "    .dataframe tbody tr th {\n",
       "        vertical-align: top;\n",
       "    }\n",
       "\n",
       "    .dataframe thead th {\n",
       "        text-align: right;\n",
       "    }\n",
       "</style>\n",
       "<table border=\"1\" class=\"dataframe\">\n",
       "  <thead>\n",
       "    <tr style=\"text-align: right;\">\n",
       "      <th>strategy</th>\n",
       "      <th>capacity</th>\n",
       "      <th>centrality</th>\n",
       "      <th>zone</th>\n",
       "    </tr>\n",
       "    <tr>\n",
       "      <th>scenario</th>\n",
       "      <th></th>\n",
       "      <th></th>\n",
       "      <th></th>\n",
       "    </tr>\n",
       "  </thead>\n",
       "  <tbody>\n",
       "    <tr>\n",
       "      <th>flood0</th>\n",
       "      <td>0.632933</td>\n",
       "      <td>0.632933</td>\n",
       "      <td>0.818417</td>\n",
       "    </tr>\n",
       "    <tr>\n",
       "      <th>flood1</th>\n",
       "      <td>1.500867</td>\n",
       "      <td>2.019200</td>\n",
       "      <td>1.043383</td>\n",
       "    </tr>\n",
       "    <tr>\n",
       "      <th>flood10</th>\n",
       "      <td>2.333483</td>\n",
       "      <td>2.402400</td>\n",
       "      <td>3.720750</td>\n",
       "    </tr>\n",
       "    <tr>\n",
       "      <th>flood100</th>\n",
       "      <td>0.305517</td>\n",
       "      <td>0.305517</td>\n",
       "      <td>0.326583</td>\n",
       "    </tr>\n",
       "    <tr>\n",
       "      <th>flood101</th>\n",
       "      <td>0.063800</td>\n",
       "      <td>0.063800</td>\n",
       "      <td>0.063800</td>\n",
       "    </tr>\n",
       "  </tbody>\n",
       "</table>\n",
       "</div>"
      ],
      "text/plain": [
       "strategy  capacity  centrality      zone\n",
       "scenario                                \n",
       "flood0    0.632933    0.632933  0.818417\n",
       "flood1    1.500867    2.019200  1.043383\n",
       "flood10   2.333483    2.402400  3.720750\n",
       "flood100  0.305517    0.305517  0.326583\n",
       "flood101  0.063800    0.063800  0.063800"
      ]
     },
     "execution_count": 6,
     "metadata": {},
     "output_type": "execute_result"
    }
   ],
   "source": [
    "infra = \"power\"\n",
    "y = f\"{infra}_perf_pcs\"\n",
    "ml_df_wide = ml_df2[['scenario', 'strategy', y]].pivot(index='scenario', columns='strategy', values=y)\n",
    "ml_df_wide = ml_df_wide.dropna()\n",
    "ml_df_wide.head()\n"
   ]
  },
  {
   "cell_type": "code",
   "execution_count": 13,
   "metadata": {},
   "outputs": [],
   "source": [
    "unique_full_scenarios = ml_df_wide.index.tolist()"
   ]
  },
  {
   "cell_type": "code",
   "execution_count": 31,
   "metadata": {},
   "outputs": [
    {
     "data": {
      "image/png": "[encoded data removed]",
      "text/plain": [
       "<Figure size 432x288 with 1 Axes>"
      ]
     },
     "metadata": {},
     "output_type": "display_data"
    }
   ],
   "source": [
    "import matplotlib.pyplot as plt\n",
    "import seaborn as sns\n",
    "\n",
    "fig = plt.figure(figsize = (6,4))\n",
    "sns.plotting_context(\"poster\")\n",
    "\n",
    "ax = sns.boxplot(y='strategy', x=\"water_perf_pcs\", data=ml_df2, orient=\"h\", palette = 'tab10')\n",
    "ax.set_xlabel(f\"Area under PCS curve (performance-minutes)\")\n",
    "ax.set_ylabel(f\"Restoration strategy\")\n",
    "#ax.set_title(f\"Comparison of effectiveness of {infra} restoration strategies\")\n",
    "ax.set_xlim((0, 120))\n",
    "plt.show()"
   ]
  },
  {
   "cell_type": "code",
   "execution_count": 33,
   "metadata": {},
   "outputs": [
    {
     "data": {
      "image/png": "[encoded data removed]",
      "text/plain": [
       "<Figure size 432x288 with 1 Axes>"
      ]
     },
     "metadata": {},
     "output_type": "display_data"
    }
   ],
   "source": [
    "import matplotlib.pyplot as plt\n",
    "import seaborn as sns\n",
    "\n",
    "fig = plt.figure(figsize = (6,4))\n",
    "sns.plotting_context(\"poster\")\n",
    "ax = sns.boxplot(y='strategy', x=\"power_perf_pcs\", data=ml_df2, orient=\"h\", palette = 'tab10')\n",
    "ax.set_xlabel(f\"Area under PCS curve (performance-minutes)\")\n",
    "ax.set_ylabel(f\"Restoration strategy\")\n",
    "#ax.set_title(f\"Comparison of effectiveness of {infra} restoration strategies\")\n",
    "ax.set_xlim((0, 120))\n",
    "plt.show()"
   ]
  },
  {
   "cell_type": "code",
   "execution_count": 15,
   "metadata": {},
   "outputs": [
    {
     "data": {
      "text/html": [
       "<div>\n",
       "<style scoped>\n",
       "    .dataframe tbody tr th:only-of-type {\n",
       "        vertical-align: middle;\n",
       "    }\n",
       "\n",
       "    .dataframe tbody tr th {\n",
       "        vertical-align: top;\n",
       "    }\n",
       "\n",
       "    .dataframe thead th {\n",
       "        text-align: right;\n",
       "    }\n",
       "</style>\n",
       "<table border=\"1\" class=\"dataframe\">\n",
       "  <thead>\n",
       "    <tr style=\"text-align: right;\">\n",
       "      <th></th>\n",
       "      <th>scenario</th>\n",
       "      <th>strategy</th>\n",
       "      <th>water_perf_ecs</th>\n",
       "      <th>water_perf_pcs</th>\n",
       "      <th>power_perf_ecs</th>\n",
       "      <th>power_perf_pcs</th>\n",
       "      <th>all_compons</th>\n",
       "      <th>power7</th>\n",
       "      <th>power2</th>\n",
       "      <th>power1</th>\n",
       "      <th>...</th>\n",
       "      <th>transpo8</th>\n",
       "      <th>transpo3</th>\n",
       "      <th>transpo5</th>\n",
       "      <th>transpo0</th>\n",
       "      <th>transpo4</th>\n",
       "      <th>transpo2</th>\n",
       "      <th>transpo6</th>\n",
       "      <th>transpo1</th>\n",
       "      <th>ecs_auc</th>\n",
       "      <th>pcs_auc</th>\n",
       "    </tr>\n",
       "  </thead>\n",
       "  <tbody>\n",
       "    <tr>\n",
       "      <th>0</th>\n",
       "      <td>flood0</td>\n",
       "      <td>capacity</td>\n",
       "      <td>52.460567</td>\n",
       "      <td>53.473617</td>\n",
       "      <td>0.587383</td>\n",
       "      <td>0.632933</td>\n",
       "      <td>21</td>\n",
       "      <td>0</td>\n",
       "      <td>0</td>\n",
       "      <td>0</td>\n",
       "      <td>...</td>\n",
       "      <td>0</td>\n",
       "      <td>1</td>\n",
       "      <td>2</td>\n",
       "      <td>0</td>\n",
       "      <td>0</td>\n",
       "      <td>0</td>\n",
       "      <td>1</td>\n",
       "      <td>0</td>\n",
       "      <td>26.523975</td>\n",
       "      <td>27.053275</td>\n",
       "    </tr>\n",
       "    <tr>\n",
       "      <th>1</th>\n",
       "      <td>flood0</td>\n",
       "      <td>zone</td>\n",
       "      <td>41.880450</td>\n",
       "      <td>42.243067</td>\n",
       "      <td>1.105750</td>\n",
       "      <td>0.818417</td>\n",
       "      <td>21</td>\n",
       "      <td>0</td>\n",
       "      <td>0</td>\n",
       "      <td>0</td>\n",
       "      <td>...</td>\n",
       "      <td>0</td>\n",
       "      <td>1</td>\n",
       "      <td>2</td>\n",
       "      <td>0</td>\n",
       "      <td>0</td>\n",
       "      <td>0</td>\n",
       "      <td>1</td>\n",
       "      <td>0</td>\n",
       "      <td>21.493100</td>\n",
       "      <td>21.530742</td>\n",
       "    </tr>\n",
       "    <tr>\n",
       "      <th>2</th>\n",
       "      <td>flood0</td>\n",
       "      <td>centrality</td>\n",
       "      <td>38.986100</td>\n",
       "      <td>39.363633</td>\n",
       "      <td>0.587383</td>\n",
       "      <td>0.632933</td>\n",
       "      <td>21</td>\n",
       "      <td>0</td>\n",
       "      <td>0</td>\n",
       "      <td>0</td>\n",
       "      <td>...</td>\n",
       "      <td>0</td>\n",
       "      <td>1</td>\n",
       "      <td>2</td>\n",
       "      <td>0</td>\n",
       "      <td>0</td>\n",
       "      <td>0</td>\n",
       "      <td>1</td>\n",
       "      <td>0</td>\n",
       "      <td>19.786742</td>\n",
       "      <td>19.998283</td>\n",
       "    </tr>\n",
       "    <tr>\n",
       "      <th>3</th>\n",
       "      <td>flood1</td>\n",
       "      <td>capacity</td>\n",
       "      <td>53.969967</td>\n",
       "      <td>55.164350</td>\n",
       "      <td>1.734583</td>\n",
       "      <td>1.500867</td>\n",
       "      <td>21</td>\n",
       "      <td>0</td>\n",
       "      <td>0</td>\n",
       "      <td>0</td>\n",
       "      <td>...</td>\n",
       "      <td>0</td>\n",
       "      <td>0</td>\n",
       "      <td>4</td>\n",
       "      <td>0</td>\n",
       "      <td>0</td>\n",
       "      <td>1</td>\n",
       "      <td>1</td>\n",
       "      <td>0</td>\n",
       "      <td>27.852275</td>\n",
       "      <td>28.332608</td>\n",
       "    </tr>\n",
       "    <tr>\n",
       "      <th>4</th>\n",
       "      <td>flood1</td>\n",
       "      <td>zone</td>\n",
       "      <td>50.862600</td>\n",
       "      <td>52.026200</td>\n",
       "      <td>1.355050</td>\n",
       "      <td>1.043383</td>\n",
       "      <td>21</td>\n",
       "      <td>0</td>\n",
       "      <td>0</td>\n",
       "      <td>0</td>\n",
       "      <td>...</td>\n",
       "      <td>0</td>\n",
       "      <td>0</td>\n",
       "      <td>4</td>\n",
       "      <td>0</td>\n",
       "      <td>0</td>\n",
       "      <td>1</td>\n",
       "      <td>1</td>\n",
       "      <td>0</td>\n",
       "      <td>26.108825</td>\n",
       "      <td>26.534792</td>\n",
       "    </tr>\n",
       "  </tbody>\n",
       "</table>\n",
       "<p>5 rows × 33 columns</p>\n",
       "</div>"
      ],
      "text/plain": [
       "  scenario    strategy  water_perf_ecs  water_perf_pcs  power_perf_ecs  \\\n",
       "0   flood0    capacity       52.460567       53.473617        0.587383   \n",
       "1   flood0        zone       41.880450       42.243067        1.105750   \n",
       "2   flood0  centrality       38.986100       39.363633        0.587383   \n",
       "3   flood1    capacity       53.969967       55.164350        1.734583   \n",
       "4   flood1        zone       50.862600       52.026200        1.355050   \n",
       "\n",
       "   power_perf_pcs  all_compons  power7  power2  power1  ...  transpo8  \\\n",
       "0        0.632933           21       0       0       0  ...         0   \n",
       "1        0.818417           21       0       0       0  ...         0   \n",
       "2        0.632933           21       0       0       0  ...         0   \n",
       "3        1.500867           21       0       0       0  ...         0   \n",
       "4        1.043383           21       0       0       0  ...         0   \n",
       "\n",
       "   transpo3  transpo5  transpo0  transpo4  transpo2  transpo6  transpo1  \\\n",
       "0         1         2         0         0         0         1         0   \n",
       "1         1         2         0         0         0         1         0   \n",
       "2         1         2         0         0         0         1         0   \n",
       "3         0         4         0         0         1         1         0   \n",
       "4         0         4         0         0         1         1         0   \n",
       "\n",
       "     ecs_auc    pcs_auc  \n",
       "0  26.523975  27.053275  \n",
       "1  21.493100  21.530742  \n",
       "2  19.786742  19.998283  \n",
       "3  27.852275  28.332608  \n",
       "4  26.108825  26.534792  \n",
       "\n",
       "[5 rows x 33 columns]"
      ]
     },
     "execution_count": 15,
     "metadata": {},
     "output_type": "execute_result"
    }
   ],
   "source": [
    "ml_df2.head()"
   ]
  },
  {
   "cell_type": "code",
   "execution_count": 16,
   "metadata": {},
   "outputs": [
    {
     "data": {
      "text/plain": [
       "'power_perf_pcs'"
      ]
     },
     "execution_count": 16,
     "metadata": {},
     "output_type": "execute_result"
    }
   ],
   "source": [
    "y"
   ]
  },
  {
   "cell_type": "code",
   "execution_count": 8,
   "metadata": {},
   "outputs": [],
   "source": [
    "#!pip install pingouin\n",
    "import pingouin as pg"
   ]
  },
  {
   "cell_type": "code",
   "execution_count": 17,
   "metadata": {},
   "outputs": [
    {
     "data": {
      "text/html": [
       "<div>\n",
       "<style scoped>\n",
       "    .dataframe tbody tr th:only-of-type {\n",
       "        vertical-align: middle;\n",
       "    }\n",
       "\n",
       "    .dataframe tbody tr th {\n",
       "        vertical-align: top;\n",
       "    }\n",
       "\n",
       "    .dataframe thead th {\n",
       "        text-align: right;\n",
       "    }\n",
       "</style>\n",
       "<table border=\"1\" class=\"dataframe\">\n",
       "  <thead>\n",
       "    <tr style=\"text-align: right;\">\n",
       "      <th></th>\n",
       "      <th>Source</th>\n",
       "      <th>SS</th>\n",
       "      <th>DF</th>\n",
       "      <th>MS</th>\n",
       "      <th>F</th>\n",
       "      <th>p-unc</th>\n",
       "      <th>p-GG-corr</th>\n",
       "      <th>np2</th>\n",
       "      <th>eps</th>\n",
       "      <th>sphericity</th>\n",
       "      <th>W-spher</th>\n",
       "      <th>p-spher</th>\n",
       "    </tr>\n",
       "  </thead>\n",
       "  <tbody>\n",
       "    <tr>\n",
       "      <th>0</th>\n",
       "      <td>strategy</td>\n",
       "      <td>10.867418</td>\n",
       "      <td>2</td>\n",
       "      <td>5.433709</td>\n",
       "      <td>2.679902</td>\n",
       "      <td>0.07009</td>\n",
       "      <td>0.08817</td>\n",
       "      <td>0.016273</td>\n",
       "      <td>0.716331</td>\n",
       "      <td>False</td>\n",
       "      <td>0.603998</td>\n",
       "      <td>2.362385e-18</td>\n",
       "    </tr>\n",
       "    <tr>\n",
       "      <th>1</th>\n",
       "      <td>Error</td>\n",
       "      <td>656.935038</td>\n",
       "      <td>324</td>\n",
       "      <td>2.027577</td>\n",
       "      <td>NaN</td>\n",
       "      <td>NaN</td>\n",
       "      <td>NaN</td>\n",
       "      <td>NaN</td>\n",
       "      <td>NaN</td>\n",
       "      <td>NaN</td>\n",
       "      <td>NaN</td>\n",
       "      <td>NaN</td>\n",
       "    </tr>\n",
       "  </tbody>\n",
       "</table>\n",
       "</div>"
      ],
      "text/plain": [
       "     Source          SS   DF        MS         F    p-unc  p-GG-corr  \\\n",
       "0  strategy   10.867418    2  5.433709  2.679902  0.07009    0.08817   \n",
       "1     Error  656.935038  324  2.027577       NaN      NaN        NaN   \n",
       "\n",
       "        np2       eps sphericity   W-spher       p-spher  \n",
       "0  0.016273  0.716331      False  0.603998  2.362385e-18  \n",
       "1       NaN       NaN        NaN       NaN           NaN  "
      ]
     },
     "execution_count": 17,
     "metadata": {},
     "output_type": "execute_result"
    }
   ],
   "source": [
    "\n",
    "res = pg.rm_anova(dv=y, within='strategy', subject='scenario', data=ml_df2, detailed=True)\n",
    "res"
   ]
  },
  {
   "cell_type": "code",
   "execution_count": 15,
   "metadata": {},
   "outputs": [
    {
     "ename": "NameError",
     "evalue": "name 'unique_full_scenarios' is not defined",
     "output_type": "error",
     "traceback": [
      "\u001b[1;31m---------------------------------------------------------------------------\u001b[0m",
      "\u001b[1;31mNameError\u001b[0m                                 Traceback (most recent call last)",
      "\u001b[1;32m~\\AppData\\Local\\Temp/ipykernel_21484/3192862510.py\u001b[0m in \u001b[0;36m<module>\u001b[1;34m\u001b[0m\n\u001b[0;32m      1\u001b[0m \u001b[1;31m# install pingouin as !pip install pingouin\u001b[0m\u001b[1;33m\u001b[0m\u001b[1;33m\u001b[0m\u001b[1;33m\u001b[0m\u001b[0m\n\u001b[0;32m      2\u001b[0m \u001b[1;31m# make sure you have installed the pingouin package (pip install pingouin)\u001b[0m\u001b[1;33m\u001b[0m\u001b[1;33m\u001b[0m\u001b[1;33m\u001b[0m\u001b[0m\n\u001b[1;32m----> 3\u001b[1;33m \u001b[0mml_df_full\u001b[0m \u001b[1;33m=\u001b[0m \u001b[0mml_df2\u001b[0m\u001b[1;33m[\u001b[0m\u001b[0mml_df2\u001b[0m\u001b[1;33m.\u001b[0m\u001b[0mscenario\u001b[0m\u001b[1;33m.\u001b[0m\u001b[0misin\u001b[0m\u001b[1;33m(\u001b[0m\u001b[0munique_full_scenarios\u001b[0m\u001b[1;33m)\u001b[0m\u001b[1;33m]\u001b[0m\u001b[1;33m\u001b[0m\u001b[1;33m\u001b[0m\u001b[0m\n\u001b[0m\u001b[0;32m      4\u001b[0m \u001b[0mpost_hocs\u001b[0m \u001b[1;33m=\u001b[0m \u001b[0mpg\u001b[0m\u001b[1;33m.\u001b[0m\u001b[0mpairwise_ttests\u001b[0m\u001b[1;33m(\u001b[0m\u001b[0mdv\u001b[0m\u001b[1;33m=\u001b[0m\u001b[0my\u001b[0m\u001b[1;33m,\u001b[0m \u001b[0mwithin\u001b[0m\u001b[1;33m=\u001b[0m\u001b[1;34m'strategy'\u001b[0m\u001b[1;33m,\u001b[0m \u001b[0msubject\u001b[0m\u001b[1;33m=\u001b[0m\u001b[1;34m'scenario'\u001b[0m\u001b[1;33m,\u001b[0m \u001b[0mpadjust\u001b[0m\u001b[1;33m=\u001b[0m\u001b[1;34m'fdr_bh'\u001b[0m\u001b[1;33m,\u001b[0m \u001b[0mdata\u001b[0m\u001b[1;33m=\u001b[0m\u001b[0mml_df2\u001b[0m\u001b[1;33m)\u001b[0m\u001b[1;33m\u001b[0m\u001b[1;33m\u001b[0m\u001b[0m\n\u001b[0;32m      5\u001b[0m \u001b[0mpost_hocs\u001b[0m\u001b[1;33m[\u001b[0m\u001b[1;33m[\u001b[0m\u001b[1;34m'Contrast'\u001b[0m\u001b[1;33m,\u001b[0m \u001b[1;34m'A'\u001b[0m\u001b[1;33m,\u001b[0m \u001b[1;34m'B'\u001b[0m\u001b[1;33m,\u001b[0m \u001b[1;34m'T'\u001b[0m\u001b[1;33m,\u001b[0m \u001b[1;34m'p-corr'\u001b[0m\u001b[1;33m]\u001b[0m\u001b[1;33m]\u001b[0m\u001b[1;33m\u001b[0m\u001b[1;33m\u001b[0m\u001b[0m\n",
      "\u001b[1;31mNameError\u001b[0m: name 'unique_full_scenarios' is not defined"
     ]
    }
   ],
   "source": [
    "# install pingouin as !pip install pingouin\n",
    "# make sure you have installed the pingouin package (pip install pingouin)\n",
    "ml_df_full = ml_df2[ml_df2.scenario.isin(unique_full_scenarios)]\n",
    "post_hocs = pg.pairwise_ttests(dv=y, within='strategy', subject='scenario', padjust='fdr_bh', data=ml_df_full)\n",
    "post_hocs[['Contrast', 'A', 'B', 'T', 'p-corr']]"
   ]
  },
  {
   "cell_type": "code",
   "execution_count": 12,
   "metadata": {},
   "outputs": [
    {
     "data": {
      "text/html": [
       "<div>\n",
       "<style scoped>\n",
       "    .dataframe tbody tr th:only-of-type {\n",
       "        vertical-align: middle;\n",
       "    }\n",
       "\n",
       "    .dataframe tbody tr th {\n",
       "        vertical-align: top;\n",
       "    }\n",
       "\n",
       "    .dataframe thead th {\n",
       "        text-align: right;\n",
       "    }\n",
       "</style>\n",
       "<table border=\"1\" class=\"dataframe\">\n",
       "  <thead>\n",
       "    <tr style=\"text-align: right;\">\n",
       "      <th></th>\n",
       "      <th>scenario</th>\n",
       "      <th>strategy</th>\n",
       "      <th>water_perf_ecs</th>\n",
       "      <th>water_perf_pcs</th>\n",
       "      <th>power_perf_ecs</th>\n",
       "      <th>power_perf_pcs</th>\n",
       "      <th>all_compons</th>\n",
       "      <th>power7</th>\n",
       "      <th>power2</th>\n",
       "      <th>power1</th>\n",
       "      <th>...</th>\n",
       "      <th>transpo8</th>\n",
       "      <th>transpo3</th>\n",
       "      <th>transpo5</th>\n",
       "      <th>transpo0</th>\n",
       "      <th>transpo4</th>\n",
       "      <th>transpo2</th>\n",
       "      <th>transpo6</th>\n",
       "      <th>transpo1</th>\n",
       "      <th>ecs_auc</th>\n",
       "      <th>pcs_auc</th>\n",
       "    </tr>\n",
       "  </thead>\n",
       "  <tbody>\n",
       "    <tr>\n",
       "      <th>0</th>\n",
       "      <td>flood0</td>\n",
       "      <td>capacity</td>\n",
       "      <td>52.460567</td>\n",
       "      <td>53.473617</td>\n",
       "      <td>0.587383</td>\n",
       "      <td>0.632933</td>\n",
       "      <td>21</td>\n",
       "      <td>0</td>\n",
       "      <td>0</td>\n",
       "      <td>0</td>\n",
       "      <td>...</td>\n",
       "      <td>0</td>\n",
       "      <td>1</td>\n",
       "      <td>2</td>\n",
       "      <td>0</td>\n",
       "      <td>0</td>\n",
       "      <td>0</td>\n",
       "      <td>1</td>\n",
       "      <td>0</td>\n",
       "      <td>26.523975</td>\n",
       "      <td>27.053275</td>\n",
       "    </tr>\n",
       "    <tr>\n",
       "      <th>1</th>\n",
       "      <td>flood0</td>\n",
       "      <td>zone</td>\n",
       "      <td>41.880450</td>\n",
       "      <td>42.243067</td>\n",
       "      <td>1.105750</td>\n",
       "      <td>0.818417</td>\n",
       "      <td>21</td>\n",
       "      <td>0</td>\n",
       "      <td>0</td>\n",
       "      <td>0</td>\n",
       "      <td>...</td>\n",
       "      <td>0</td>\n",
       "      <td>1</td>\n",
       "      <td>2</td>\n",
       "      <td>0</td>\n",
       "      <td>0</td>\n",
       "      <td>0</td>\n",
       "      <td>1</td>\n",
       "      <td>0</td>\n",
       "      <td>21.493100</td>\n",
       "      <td>21.530742</td>\n",
       "    </tr>\n",
       "    <tr>\n",
       "      <th>2</th>\n",
       "      <td>flood0</td>\n",
       "      <td>centrality</td>\n",
       "      <td>38.986100</td>\n",
       "      <td>39.363633</td>\n",
       "      <td>0.587383</td>\n",
       "      <td>0.632933</td>\n",
       "      <td>21</td>\n",
       "      <td>0</td>\n",
       "      <td>0</td>\n",
       "      <td>0</td>\n",
       "      <td>...</td>\n",
       "      <td>0</td>\n",
       "      <td>1</td>\n",
       "      <td>2</td>\n",
       "      <td>0</td>\n",
       "      <td>0</td>\n",
       "      <td>0</td>\n",
       "      <td>1</td>\n",
       "      <td>0</td>\n",
       "      <td>19.786742</td>\n",
       "      <td>19.998283</td>\n",
       "    </tr>\n",
       "    <tr>\n",
       "      <th>3</th>\n",
       "      <td>flood1</td>\n",
       "      <td>capacity</td>\n",
       "      <td>53.969967</td>\n",
       "      <td>55.164350</td>\n",
       "      <td>1.734583</td>\n",
       "      <td>1.500867</td>\n",
       "      <td>21</td>\n",
       "      <td>0</td>\n",
       "      <td>0</td>\n",
       "      <td>0</td>\n",
       "      <td>...</td>\n",
       "      <td>0</td>\n",
       "      <td>0</td>\n",
       "      <td>4</td>\n",
       "      <td>0</td>\n",
       "      <td>0</td>\n",
       "      <td>1</td>\n",
       "      <td>1</td>\n",
       "      <td>0</td>\n",
       "      <td>27.852275</td>\n",
       "      <td>28.332608</td>\n",
       "    </tr>\n",
       "    <tr>\n",
       "      <th>4</th>\n",
       "      <td>flood1</td>\n",
       "      <td>zone</td>\n",
       "      <td>50.862600</td>\n",
       "      <td>52.026200</td>\n",
       "      <td>1.355050</td>\n",
       "      <td>1.043383</td>\n",
       "      <td>21</td>\n",
       "      <td>0</td>\n",
       "      <td>0</td>\n",
       "      <td>0</td>\n",
       "      <td>...</td>\n",
       "      <td>0</td>\n",
       "      <td>0</td>\n",
       "      <td>4</td>\n",
       "      <td>0</td>\n",
       "      <td>0</td>\n",
       "      <td>1</td>\n",
       "      <td>1</td>\n",
       "      <td>0</td>\n",
       "      <td>26.108825</td>\n",
       "      <td>26.534792</td>\n",
       "    </tr>\n",
       "  </tbody>\n",
       "</table>\n",
       "<p>5 rows × 33 columns</p>\n",
       "</div>"
      ],
      "text/plain": [
       "  scenario    strategy  water_perf_ecs  water_perf_pcs  power_perf_ecs  \\\n",
       "0   flood0    capacity       52.460567       53.473617        0.587383   \n",
       "1   flood0        zone       41.880450       42.243067        1.105750   \n",
       "2   flood0  centrality       38.986100       39.363633        0.587383   \n",
       "3   flood1    capacity       53.969967       55.164350        1.734583   \n",
       "4   flood1        zone       50.862600       52.026200        1.355050   \n",
       "\n",
       "   power_perf_pcs  all_compons  power7  power2  power1  ...  transpo8  \\\n",
       "0        0.632933           21       0       0       0  ...         0   \n",
       "1        0.818417           21       0       0       0  ...         0   \n",
       "2        0.632933           21       0       0       0  ...         0   \n",
       "3        1.500867           21       0       0       0  ...         0   \n",
       "4        1.043383           21       0       0       0  ...         0   \n",
       "\n",
       "   transpo3  transpo5  transpo0  transpo4  transpo2  transpo6  transpo1  \\\n",
       "0         1         2         0         0         0         1         0   \n",
       "1         1         2         0         0         0         1         0   \n",
       "2         1         2         0         0         0         1         0   \n",
       "3         0         4         0         0         1         1         0   \n",
       "4         0         4         0         0         1         1         0   \n",
       "\n",
       "     ecs_auc    pcs_auc  \n",
       "0  26.523975  27.053275  \n",
       "1  21.493100  21.530742  \n",
       "2  19.786742  19.998283  \n",
       "3  27.852275  28.332608  \n",
       "4  26.108825  26.534792  \n",
       "\n",
       "[5 rows x 33 columns]"
      ]
     },
     "execution_count": 12,
     "metadata": {},
     "output_type": "execute_result"
    }
   ],
   "source": [
    "ml_df2.head()"
   ]
  },
  {
   "cell_type": "code",
   "execution_count": 13,
   "metadata": {},
   "outputs": [
    {
     "data": {
      "text/html": [
       "<div>\n",
       "<style scoped>\n",
       "    .dataframe tbody tr th:only-of-type {\n",
       "        vertical-align: middle;\n",
       "    }\n",
       "\n",
       "    .dataframe tbody tr th {\n",
       "        vertical-align: top;\n",
       "    }\n",
       "\n",
       "    .dataframe thead th {\n",
       "        text-align: right;\n",
       "    }\n",
       "</style>\n",
       "<table border=\"1\" class=\"dataframe\">\n",
       "  <thead>\n",
       "    <tr style=\"text-align: right;\">\n",
       "      <th></th>\n",
       "      <th>A</th>\n",
       "      <th>B</th>\n",
       "      <th>mean(A)</th>\n",
       "      <th>mean(B)</th>\n",
       "      <th>diff</th>\n",
       "      <th>se</th>\n",
       "      <th>T</th>\n",
       "      <th>df</th>\n",
       "      <th>pval</th>\n",
       "      <th>hedges</th>\n",
       "    </tr>\n",
       "  </thead>\n",
       "  <tbody>\n",
       "    <tr>\n",
       "      <th>0</th>\n",
       "      <td>capacity</td>\n",
       "      <td>centrality</td>\n",
       "      <td>3.173</td>\n",
       "      <td>3.137</td>\n",
       "      <td>0.036</td>\n",
       "      <td>0.454</td>\n",
       "      <td>0.079</td>\n",
       "      <td>323.180</td>\n",
       "      <td>0.900</td>\n",
       "      <td>0.009</td>\n",
       "    </tr>\n",
       "    <tr>\n",
       "      <th>1</th>\n",
       "      <td>capacity</td>\n",
       "      <td>zone</td>\n",
       "      <td>3.173</td>\n",
       "      <td>3.469</td>\n",
       "      <td>-0.297</td>\n",
       "      <td>0.435</td>\n",
       "      <td>-0.682</td>\n",
       "      <td>317.328</td>\n",
       "      <td>0.754</td>\n",
       "      <td>-0.075</td>\n",
       "    </tr>\n",
       "    <tr>\n",
       "      <th>2</th>\n",
       "      <td>centrality</td>\n",
       "      <td>zone</td>\n",
       "      <td>3.137</td>\n",
       "      <td>3.469</td>\n",
       "      <td>-0.333</td>\n",
       "      <td>0.423</td>\n",
       "      <td>-0.787</td>\n",
       "      <td>321.082</td>\n",
       "      <td>0.694</td>\n",
       "      <td>-0.087</td>\n",
       "    </tr>\n",
       "  </tbody>\n",
       "</table>\n",
       "</div>"
      ],
      "text/plain": [
       "            A           B  mean(A)  mean(B)   diff     se      T       df  \\\n",
       "0    capacity  centrality    3.173    3.137  0.036  0.454  0.079  323.180   \n",
       "1    capacity        zone    3.173    3.469 -0.297  0.435 -0.682  317.328   \n",
       "2  centrality        zone    3.137    3.469 -0.333  0.423 -0.787  321.082   \n",
       "\n",
       "    pval  hedges  \n",
       "0  0.900   0.009  \n",
       "1  0.754  -0.075  \n",
       "2  0.694  -0.087  "
      ]
     },
     "execution_count": 13,
     "metadata": {},
     "output_type": "execute_result"
    }
   ],
   "source": [
    "pg.pairwise_gameshowell(data=ml_df2, dv=y,\n",
    "                        between='strategy').round(3)"
   ]
  },
  {
   "cell_type": "code",
   "execution_count": 19,
   "metadata": {},
   "outputs": [
    {
     "data": {
      "text/plain": [
       "2.165167000000004"
      ]
     },
     "execution_count": 19,
     "metadata": {},
     "output_type": "execute_result"
    }
   ],
   "source": [
    "37.884596- 35.719429"
   ]
  },
  {
   "cell_type": "code",
   "execution_count": 67,
   "metadata": {},
   "outputs": [
    {
     "data": {
      "text/html": [
       "<div>\n",
       "<style scoped>\n",
       "    .dataframe tbody tr th:only-of-type {\n",
       "        vertical-align: middle;\n",
       "    }\n",
       "\n",
       "    .dataframe tbody tr th {\n",
       "        vertical-align: top;\n",
       "    }\n",
       "\n",
       "    .dataframe thead th {\n",
       "        text-align: right;\n",
       "    }\n",
       "</style>\n",
       "<table border=\"1\" class=\"dataframe\">\n",
       "  <thead>\n",
       "    <tr style=\"text-align: right;\">\n",
       "      <th>strategy</th>\n",
       "      <th>capacity</th>\n",
       "      <th>centrality</th>\n",
       "      <th>zone</th>\n",
       "    </tr>\n",
       "  </thead>\n",
       "  <tbody>\n",
       "    <tr>\n",
       "      <th>count</th>\n",
       "      <td>163.000000</td>\n",
       "      <td>163.000000</td>\n",
       "      <td>163.000000</td>\n",
       "    </tr>\n",
       "    <tr>\n",
       "      <th>mean</th>\n",
       "      <td>3.172717</td>\n",
       "      <td>3.136641</td>\n",
       "      <td>3.469371</td>\n",
       "    </tr>\n",
       "    <tr>\n",
       "      <th>std</th>\n",
       "      <td>4.200549</td>\n",
       "      <td>3.994035</td>\n",
       "      <td>3.629832</td>\n",
       "    </tr>\n",
       "    <tr>\n",
       "      <th>min</th>\n",
       "      <td>0.000000</td>\n",
       "      <td>0.000000</td>\n",
       "      <td>0.000000</td>\n",
       "    </tr>\n",
       "    <tr>\n",
       "      <th>25%</th>\n",
       "      <td>0.310675</td>\n",
       "      <td>0.331300</td>\n",
       "      <td>0.468158</td>\n",
       "    </tr>\n",
       "    <tr>\n",
       "      <th>50%</th>\n",
       "      <td>1.785783</td>\n",
       "      <td>1.803083</td>\n",
       "      <td>1.854767</td>\n",
       "    </tr>\n",
       "    <tr>\n",
       "      <th>75%</th>\n",
       "      <td>4.065492</td>\n",
       "      <td>4.100117</td>\n",
       "      <td>5.643475</td>\n",
       "    </tr>\n",
       "    <tr>\n",
       "      <th>max</th>\n",
       "      <td>21.323800</td>\n",
       "      <td>17.110883</td>\n",
       "      <td>14.806200</td>\n",
       "    </tr>\n",
       "  </tbody>\n",
       "</table>\n",
       "</div>"
      ],
      "text/plain": [
       "strategy    capacity  centrality        zone\n",
       "count     163.000000  163.000000  163.000000\n",
       "mean        3.172717    3.136641    3.469371\n",
       "std         4.200549    3.994035    3.629832\n",
       "min         0.000000    0.000000    0.000000\n",
       "25%         0.310675    0.331300    0.468158\n",
       "50%         1.785783    1.803083    1.854767\n",
       "75%         4.065492    4.100117    5.643475\n",
       "max        21.323800   17.110883   14.806200"
      ]
     },
     "execution_count": 67,
     "metadata": {},
     "output_type": "execute_result"
    }
   ],
   "source": [
    "ml_df_wide.describe()"
   ]
  },
  {
   "cell_type": "code",
   "execution_count": 70,
   "metadata": {},
   "outputs": [
    {
     "data": {
      "text/plain": [
       "-0.3327300000000002"
      ]
     },
     "execution_count": 70,
     "metadata": {},
     "output_type": "execute_result"
    }
   ],
   "source": [
    "3.136641 - 3.469371"
   ]
  },
  {
   "cell_type": "code",
   "execution_count": 114,
   "metadata": {},
   "outputs": [
    {
     "data": {
      "text/plain": [
       "0.09258700303649628"
      ]
     },
     "execution_count": 114,
     "metadata": {},
     "output_type": "execute_result"
    }
   ],
   "source": [
    "import pingouin as pg\n",
    "pg.sphericity(data=ml_df, dv=y, subject='scenario', within='strategy')[-1]"
   ]
  },
  {
   "cell_type": "code",
   "execution_count": 59,
   "metadata": {},
   "outputs": [
    {
     "data": {
      "text/html": [
       "<div>\n",
       "<style scoped>\n",
       "    .dataframe tbody tr th:only-of-type {\n",
       "        vertical-align: middle;\n",
       "    }\n",
       "\n",
       "    .dataframe tbody tr th {\n",
       "        vertical-align: top;\n",
       "    }\n",
       "\n",
       "    .dataframe thead th {\n",
       "        text-align: right;\n",
       "    }\n",
       "</style>\n",
       "<table border=\"1\" class=\"dataframe\">\n",
       "  <thead>\n",
       "    <tr style=\"text-align: right;\">\n",
       "      <th></th>\n",
       "      <th>W</th>\n",
       "      <th>pval</th>\n",
       "      <th>normal</th>\n",
       "    </tr>\n",
       "  </thead>\n",
       "  <tbody>\n",
       "    <tr>\n",
       "      <th>capacity</th>\n",
       "      <td>0.950096</td>\n",
       "      <td>0.000015</td>\n",
       "      <td>False</td>\n",
       "    </tr>\n",
       "    <tr>\n",
       "      <th>zone</th>\n",
       "      <td>0.961030</td>\n",
       "      <td>0.000156</td>\n",
       "      <td>False</td>\n",
       "    </tr>\n",
       "    <tr>\n",
       "      <th>centrality</th>\n",
       "      <td>0.955144</td>\n",
       "      <td>0.000043</td>\n",
       "      <td>False</td>\n",
       "    </tr>\n",
       "  </tbody>\n",
       "</table>\n",
       "</div>"
      ],
      "text/plain": [
       "                   W      pval  normal\n",
       "capacity    0.950096  0.000015   False\n",
       "zone        0.961030  0.000156   False\n",
       "centrality  0.955144  0.000043   False"
      ]
     },
     "execution_count": 59,
     "metadata": {},
     "output_type": "execute_result"
    }
   ],
   "source": [
    "pg.normality(data=ml_df, dv=y, group='strategy')"
   ]
  },
  {
   "cell_type": "code",
   "execution_count": 117,
   "metadata": {},
   "outputs": [
    {
     "data": {
      "text/plain": [
       "-206.89464417177942"
      ]
     },
     "execution_count": 117,
     "metadata": {},
     "output_type": "execute_result"
    }
   ],
   "source": [
    "ml_df_wide.describe().iloc[1,0] - ml_df_wide.describe().iloc[1,1]"
   ]
  },
  {
   "cell_type": "code",
   "execution_count": 118,
   "metadata": {},
   "outputs": [
    {
     "data": {
      "text/plain": [
       "11.40042944785182"
      ]
     },
     "execution_count": 118,
     "metadata": {},
     "output_type": "execute_result"
    }
   ],
   "source": [
    "ml_df_wide.describe().iloc[1,0] - ml_df_wide.describe().iloc[1,2]"
   ]
  },
  {
   "cell_type": "code",
   "execution_count": 119,
   "metadata": {},
   "outputs": [
    {
     "data": {
      "text/plain": [
       "218.29507361963124"
      ]
     },
     "execution_count": 119,
     "metadata": {},
     "output_type": "execute_result"
    }
   ],
   "source": [
    "ml_df_wide.describe().iloc[1,1] - ml_df_wide.describe().iloc[1,2]"
   ]
  },
  {
   "cell_type": "code",
   "execution_count": 45,
   "metadata": {},
   "outputs": [],
   "source": [
    "import numpy as np\n",
    "from sklearn.ensemble import ExtraTreesRegressor, RandomForestRegressor\n",
    "from sklearn.feature_selection import SelectFromModel\n",
    "from sklearn.model_selection import train_test_split\n",
    "from sklearn.model_selection import GridSearchCV\n",
    "from sklearn import tree\n",
    "from sklearn.linear_model import LinearRegression"
   ]
  },
  {
   "cell_type": "code",
   "execution_count": 40,
   "metadata": {},
   "outputs": [
    {
     "data": {
      "text/plain": [
       "Index(['scenario', 'strategy', 'water_perf_ecs', 'water_perf_pcs',\n",
       "       'power_perf_ecs', 'power_perf_pcs', 'all_compons', 'power7', 'power2',\n",
       "       'power1', 'power0', 'power5', 'power6', 'power4', 'power3', 'water5',\n",
       "       'water1', 'water2', 'water6', 'water3', 'water0', 'water4', 'transpo7',\n",
       "       'transpo8', 'transpo3', 'transpo5', 'transpo0', 'transpo4', 'transpo2',\n",
       "       'transpo6', 'transpo1', 'ecs_auc', 'pcs_auc'],\n",
       "      dtype='object')"
      ]
     },
     "execution_count": 40,
     "metadata": {},
     "output_type": "execute_result"
    }
   ],
   "source": [
    "ml_df2.columns"
   ]
  },
  {
   "cell_type": "code",
   "execution_count": 62,
   "metadata": {},
   "outputs": [],
   "source": [
    "dep_var = 'pcs_auc'\n",
    "\n",
    "features = ml_df2[['strategy', 'power4', 'power3',\n",
    "       'power5', 'power2', 'power1', 'power6', 'power0', 'power7', 'water1',\n",
    "       'water4', 'water0', 'water5', 'water2', 'water3', 'water6', 'transpo7',\n",
    "       'transpo2', 'transpo5', 'transpo1', 'transpo3', 'transpo4', 'transpo0',\n",
    "       'transpo6', dep_var]]"
   ]
  },
  {
   "cell_type": "code",
   "execution_count": 63,
   "metadata": {},
   "outputs": [],
   "source": [
    "features = features.replace('nan',np.NaN)\n",
    "features = features.dropna()\n",
    "\n",
    "labels = np.array(features[dep_var])\n",
    "del features[dep_var]\n",
    "features = pd.get_dummies(features)\n",
    "\n",
    "feature_list = list(features.columns)\n",
    "features = np.array(features)"
   ]
  },
  {
   "cell_type": "markdown",
   "metadata": {},
   "source": [
    "# Decision Tree Model"
   ]
  },
  {
   "cell_type": "code",
   "execution_count": 87,
   "metadata": {},
   "outputs": [
    {
     "name": "stdout",
     "output_type": "stream",
     "text": [
      "['power4', 'power3', 'power5', 'power2', 'power1', 'power6', 'power0', 'power7', 'water1', 'water4', 'water0', 'water5', 'water2', 'water3', 'water6', 'transpo7', 'transpo2', 'transpo5', 'transpo1', 'transpo3', 'transpo4', 'transpo0', 'transpo6', 'strategy_capacity', 'strategy_centrality', 'strategy_zone']\n",
      "[0.012 0.037 0.043 0.016 0.034 0.015 0.023 0.022 0.243 0.022 0.053 0.026 0.076 0.036 0.033 0.021 0.075 0.01  0.017 0.056 0.015 0.045 0.021 0.015 0.017 0.018]\n"
     ]
    },
    {
     "data": {
      "text/html": [
       "<div>\n",
       "<style scoped>\n",
       "    .dataframe tbody tr th:only-of-type {\n",
       "        vertical-align: middle;\n",
       "    }\n",
       "\n",
       "    .dataframe tbody tr th {\n",
       "        vertical-align: top;\n",
       "    }\n",
       "\n",
       "    .dataframe thead th {\n",
       "        text-align: right;\n",
       "    }\n",
       "</style>\n",
       "<table border=\"1\" class=\"dataframe\">\n",
       "  <thead>\n",
       "    <tr style=\"text-align: right;\">\n",
       "      <th></th>\n",
       "      <th>features</th>\n",
       "      <th>feature importance</th>\n",
       "    </tr>\n",
       "  </thead>\n",
       "  <tbody>\n",
       "    <tr>\n",
       "      <th>8</th>\n",
       "      <td>water1</td>\n",
       "      <td>0.242529</td>\n",
       "    </tr>\n",
       "    <tr>\n",
       "      <th>12</th>\n",
       "      <td>water2</td>\n",
       "      <td>0.076338</td>\n",
       "    </tr>\n",
       "    <tr>\n",
       "      <th>16</th>\n",
       "      <td>transpo2</td>\n",
       "      <td>0.074579</td>\n",
       "    </tr>\n",
       "    <tr>\n",
       "      <th>19</th>\n",
       "      <td>transpo3</td>\n",
       "      <td>0.056149</td>\n",
       "    </tr>\n",
       "    <tr>\n",
       "      <th>10</th>\n",
       "      <td>water0</td>\n",
       "      <td>0.053134</td>\n",
       "    </tr>\n",
       "    <tr>\n",
       "      <th>21</th>\n",
       "      <td>transpo0</td>\n",
       "      <td>0.045477</td>\n",
       "    </tr>\n",
       "    <tr>\n",
       "      <th>2</th>\n",
       "      <td>power5</td>\n",
       "      <td>0.042821</td>\n",
       "    </tr>\n",
       "    <tr>\n",
       "      <th>1</th>\n",
       "      <td>power3</td>\n",
       "      <td>0.036881</td>\n",
       "    </tr>\n",
       "    <tr>\n",
       "      <th>13</th>\n",
       "      <td>water3</td>\n",
       "      <td>0.035631</td>\n",
       "    </tr>\n",
       "    <tr>\n",
       "      <th>4</th>\n",
       "      <td>power1</td>\n",
       "      <td>0.033826</td>\n",
       "    </tr>\n",
       "    <tr>\n",
       "      <th>14</th>\n",
       "      <td>water6</td>\n",
       "      <td>0.033353</td>\n",
       "    </tr>\n",
       "    <tr>\n",
       "      <th>11</th>\n",
       "      <td>water5</td>\n",
       "      <td>0.026366</td>\n",
       "    </tr>\n",
       "    <tr>\n",
       "      <th>6</th>\n",
       "      <td>power0</td>\n",
       "      <td>0.023058</td>\n",
       "    </tr>\n",
       "    <tr>\n",
       "      <th>9</th>\n",
       "      <td>water4</td>\n",
       "      <td>0.022165</td>\n",
       "    </tr>\n",
       "    <tr>\n",
       "      <th>7</th>\n",
       "      <td>power7</td>\n",
       "      <td>0.021811</td>\n",
       "    </tr>\n",
       "    <tr>\n",
       "      <th>15</th>\n",
       "      <td>transpo7</td>\n",
       "      <td>0.020804</td>\n",
       "    </tr>\n",
       "    <tr>\n",
       "      <th>22</th>\n",
       "      <td>transpo6</td>\n",
       "      <td>0.020670</td>\n",
       "    </tr>\n",
       "    <tr>\n",
       "      <th>25</th>\n",
       "      <td>strategy_zone</td>\n",
       "      <td>0.017753</td>\n",
       "    </tr>\n",
       "    <tr>\n",
       "      <th>24</th>\n",
       "      <td>strategy_centrality</td>\n",
       "      <td>0.016577</td>\n",
       "    </tr>\n",
       "    <tr>\n",
       "      <th>18</th>\n",
       "      <td>transpo1</td>\n",
       "      <td>0.016561</td>\n",
       "    </tr>\n",
       "    <tr>\n",
       "      <th>3</th>\n",
       "      <td>power2</td>\n",
       "      <td>0.015665</td>\n",
       "    </tr>\n",
       "    <tr>\n",
       "      <th>20</th>\n",
       "      <td>transpo4</td>\n",
       "      <td>0.015459</td>\n",
       "    </tr>\n",
       "    <tr>\n",
       "      <th>5</th>\n",
       "      <td>power6</td>\n",
       "      <td>0.014790</td>\n",
       "    </tr>\n",
       "    <tr>\n",
       "      <th>23</th>\n",
       "      <td>strategy_capacity</td>\n",
       "      <td>0.014673</td>\n",
       "    </tr>\n",
       "    <tr>\n",
       "      <th>0</th>\n",
       "      <td>power4</td>\n",
       "      <td>0.012462</td>\n",
       "    </tr>\n",
       "    <tr>\n",
       "      <th>17</th>\n",
       "      <td>transpo5</td>\n",
       "      <td>0.010467</td>\n",
       "    </tr>\n",
       "  </tbody>\n",
       "</table>\n",
       "</div>"
      ],
      "text/plain": [
       "               features  feature importance\n",
       "8                water1            0.242529\n",
       "12               water2            0.076338\n",
       "16             transpo2            0.074579\n",
       "19             transpo3            0.056149\n",
       "10               water0            0.053134\n",
       "21             transpo0            0.045477\n",
       "2                power5            0.042821\n",
       "1                power3            0.036881\n",
       "13               water3            0.035631\n",
       "4                power1            0.033826\n",
       "14               water6            0.033353\n",
       "11               water5            0.026366\n",
       "6                power0            0.023058\n",
       "9                water4            0.022165\n",
       "7                power7            0.021811\n",
       "15             transpo7            0.020804\n",
       "22             transpo6            0.020670\n",
       "25        strategy_zone            0.017753\n",
       "24  strategy_centrality            0.016577\n",
       "18             transpo1            0.016561\n",
       "3                power2            0.015665\n",
       "20             transpo4            0.015459\n",
       "5                power6            0.014790\n",
       "23    strategy_capacity            0.014673\n",
       "0                power4            0.012462\n",
       "17             transpo5            0.010467"
      ]
     },
     "execution_count": 87,
     "metadata": {},
     "output_type": "execute_result"
    }
   ],
   "source": [
    "clf = ExtraTreesRegressor(n_estimators=500)\n",
    "clf = clf.fit(features, labels)\n",
    "\n",
    "print(feature_list)\n",
    "print(clf.feature_importances_)\n",
    "\n",
    "pd.DataFrame(data = {'features': feature_list,\n",
    "                     'feature importance': clf.feature_importances_}).sort_values(by='feature importance', ascending=False)"
   ]
  },
  {
   "cell_type": "code",
   "execution_count": 65,
   "metadata": {},
   "outputs": [
    {
     "name": "stdout",
     "output_type": "stream",
     "text": [
      "Training Features Shape: (409, 26)\n",
      "Training Labels Shape: (409,)\n",
      "Testing Features Shape: (137, 26)\n",
      "Testing Labels Shape: (137,)\n"
     ]
    }
   ],
   "source": [
    "from sklearn.model_selection import train_test_split\n",
    "train_features, test_features, train_labels, test_labels = train_test_split(features, labels, test_size = 0.25, random_state = 42)\n",
    "print('Training Features Shape:', train_features.shape)\n",
    "print('Training Labels Shape:', train_labels.shape)\n",
    "print('Testing Features Shape:', test_features.shape)\n",
    "print('Testing Labels Shape:', test_labels.shape)"
   ]
  },
  {
   "cell_type": "code",
   "execution_count": 66,
   "metadata": {},
   "outputs": [
    {
     "data": {
      "text/plain": [
       "(546, 25)"
      ]
     },
     "execution_count": 66,
     "metadata": {},
     "output_type": "execute_result"
    }
   ],
   "source": [
    "model = SelectFromModel(clf, prefit=True, threshold = '0.5*median')\n",
    "features_new = model.transform(features)\n",
    "features_new.shape"
   ]
  },
  {
   "cell_type": "code",
   "execution_count": 67,
   "metadata": {},
   "outputs": [
    {
     "data": {
      "text/plain": [
       "(546, 25)"
      ]
     },
     "execution_count": 67,
     "metadata": {},
     "output_type": "execute_result"
    }
   ],
   "source": [
    "model = SelectFromModel(clf, prefit=True, threshold = '0.5*median')\n",
    "features_new = model.transform(features)\n",
    "features_new.shape"
   ]
  },
  {
   "cell_type": "code",
   "execution_count": 68,
   "metadata": {},
   "outputs": [
    {
     "data": {
      "text/plain": [
       "['power4',\n",
       " 'power3',\n",
       " 'power5',\n",
       " 'power2',\n",
       " 'power1',\n",
       " 'power6',\n",
       " 'power0',\n",
       " 'power7',\n",
       " 'water1',\n",
       " 'water4',\n",
       " 'water0',\n",
       " 'water5',\n",
       " 'water2',\n",
       " 'water3',\n",
       " 'water6',\n",
       " 'transpo7',\n",
       " 'transpo2',\n",
       " 'transpo1',\n",
       " 'transpo3',\n",
       " 'transpo4',\n",
       " 'transpo0',\n",
       " 'transpo6',\n",
       " 'strategy_capacity',\n",
       " 'strategy_centrality',\n",
       " 'strategy_zone']"
      ]
     },
     "execution_count": 68,
     "metadata": {},
     "output_type": "execute_result"
    }
   ],
   "source": [
    "feature_list_new = []\n",
    "\n",
    "for i, feature in enumerate(feature_list):\n",
    "    if model.get_support()[i]:\n",
    "        feature_list_new.append(feature)\n",
    "\n",
    "feature_list_new"
   ]
  },
  {
   "cell_type": "code",
   "execution_count": 69,
   "metadata": {},
   "outputs": [
    {
     "name": "stdout",
     "output_type": "stream",
     "text": [
      "Training Features Shape: (409, 25)\n",
      "Training Labels Shape: (409,)\n",
      "Testing Features Shape: (137, 25)\n",
      "Testing Labels Shape: (137,)\n"
     ]
    }
   ],
   "source": [
    "train_features, test_features, train_labels, test_labels = train_test_split(features_new, labels, test_size = 0.25, random_state = 43)\n",
    "print('Training Features Shape:', train_features.shape)\n",
    "print('Training Labels Shape:', train_labels.shape)\n",
    "print('Testing Features Shape:', test_features.shape)\n",
    "print('Testing Labels Shape:', test_labels.shape)"
   ]
  },
  {
   "cell_type": "code",
   "execution_count": 70,
   "metadata": {},
   "outputs": [
    {
     "name": "stdout",
     "output_type": "stream",
     "text": [
      "nan {'max_depth': 2, 'min_samples_leaf': 3}\n"
     ]
    }
   ],
   "source": [
    "parameters = {'max_depth':range(2,10), 'min_samples_leaf': range(3,10)}\n",
    "clf = GridSearchCV(tree.DecisionTreeRegressor(), parameters, n_jobs=5, scoring = 'accuracy')\n",
    "clf.fit(X=features, y=labels)\n",
    "tree_model = clf.best_estimator_\n",
    "print (clf.best_score_, clf.best_params_) "
   ]
  },
  {
   "cell_type": "code",
   "execution_count": 71,
   "metadata": {},
   "outputs": [
    {
     "data": {
      "text/plain": [
       "DecisionTreeRegressor(max_depth=2, min_samples_leaf=3, random_state=0)"
      ]
     },
     "execution_count": 71,
     "metadata": {},
     "output_type": "execute_result"
    }
   ],
   "source": [
    "clf = tree.DecisionTreeRegressor(max_depth = 2, random_state = 0, min_samples_leaf=3)\n",
    "# Train the model on training data\n",
    "clf.fit(features, labels)"
   ]
  },
  {
   "cell_type": "code",
   "execution_count": 72,
   "metadata": {},
   "outputs": [
    {
     "name": "stdout",
     "output_type": "stream",
     "text": [
      "754.1439263650936 0.4936469792964451 0.4682805466600435\n"
     ]
    }
   ],
   "source": [
    "y_pred=clf.predict(features)   \n",
    "\n",
    "def measure_performance(y_test, y_pred, X_train):\n",
    "    from sklearn.metrics import mean_squared_error, r2_score \n",
    "\n",
    "    rmse = np.sqrt(mean_squared_error(y_test,y_pred))\n",
    "    r2 = r2_score(y_test,y_pred)\n",
    "\n",
    "    # Scikit-learn doesn't have adjusted r-square, hence custom code\n",
    "    n = y_pred.shape[0]\n",
    "    k = X_train.shape[1]\n",
    "    adj_r_sq = 1 - (1 - r2)*(n-1)/(n-1-k)\n",
    "\n",
    "    print(rmse, r2, adj_r_sq)\n",
    "    \n",
    "        \n",
    "measure_performance(labels,y_pred, features)"
   ]
  },
  {
   "cell_type": "code",
   "execution_count": null,
   "metadata": {},
   "outputs": [],
   "source": []
  },
  {
   "cell_type": "markdown",
   "metadata": {},
   "source": [
    "# Random Forest Model"
   ]
  },
  {
   "cell_type": "code",
   "execution_count": 76,
   "metadata": {},
   "outputs": [
    {
     "name": "stdout",
     "output_type": "stream",
     "text": [
      "n_estimators:  1 - Accuracy:  0.8279389353617099\n",
      "n_estimators:  10 - Accuracy:  0.9717836221196546\n",
      "n_estimators:  20 - Accuracy:  0.9738980766826878\n",
      "n_estimators:  50 - Accuracy:  0.9769715849824435\n",
      "n_estimators:  100 - Accuracy:  0.979934725270522\n",
      "n_estimators:  500 - Accuracy:  0.980909486895834\n",
      "n_estimators:  1000 - Accuracy:  0.9809600953338314\n"
     ]
    }
   ],
   "source": [
    "for i in [1, 10, 20, 50, 100, 500, 1000]:\n",
    "    regressor = RandomForestRegressor(n_estimators = i, random_state = 4)\n",
    "    regressor.fit(features, labels)\n",
    "    y_pred = regressor.predict(features)\n",
    "    print(\"n_estimators: \", i, \"- Accuracy: \", regressor.score(features, labels))"
   ]
  },
  {
   "cell_type": "code",
   "execution_count": 77,
   "metadata": {},
   "outputs": [
    {
     "name": "stdout",
     "output_type": "stream",
     "text": [
      "Mean Absolute Error: 80.62151046019747\n",
      "Mean Squared Error: 21385.521231241135\n",
      "Root Mean Squared Error: 146.23789259710063\n"
     ]
    }
   ],
   "source": [
    "# Evaluating the Algorithm\n",
    "from sklearn import metrics\n",
    "print('Mean Absolute Error:', metrics.mean_absolute_error(labels, y_pred))  \n",
    "print('Mean Squared Error:', metrics.mean_squared_error(labels, y_pred))  \n",
    "print('Root Mean Squared Error:', np.sqrt(metrics.mean_squared_error(labels, y_pred)))"
   ]
  },
  {
   "cell_type": "code",
   "execution_count": 78,
   "metadata": {},
   "outputs": [
    {
     "name": "stdout",
     "output_type": "stream",
     "text": [
      "146.23789259710063 0.9809600953338314 0.9800062658129829\n"
     ]
    }
   ],
   "source": [
    "measure_performance(labels,y_pred, features)"
   ]
  },
  {
   "cell_type": "markdown",
   "metadata": {},
   "source": [
    "# Linear Regression"
   ]
  },
  {
   "cell_type": "code",
   "execution_count": 79,
   "metadata": {},
   "outputs": [],
   "source": [
    "linear_regressor = LinearRegression()  # create object for the class\n",
    "linear_regressor.fit(train_features, train_labels)  # perform linear regression\n",
    "y_pred = linear_regressor.predict(train_features)  # make predictions"
   ]
  },
  {
   "cell_type": "code",
   "execution_count": 80,
   "metadata": {},
   "outputs": [
    {
     "name": "stdout",
     "output_type": "stream",
     "text": [
      "['power4', 'power3', 'power5', 'power2', 'power1', 'power6', 'power0', 'power7', 'water1', 'water4', 'water0', 'water5', 'water2', 'water3', 'water6', 'transpo7', 'transpo2', 'transpo1', 'transpo3', 'transpo4', 'transpo0', 'transpo6', 'strategy_capacity', 'strategy_centrality', 'strategy_zone']\n",
      "[  65.202  -28.86   140.027   23.571   70.132   41.646   67.958  500.296  112.454  268.097  185.466   35.729   80.603  102.16   100.421  135.93   575.572  173.385  149.931  -71.349  156.587   25.471 -133.583   88.132   45.452]\n"
     ]
    }
   ],
   "source": [
    "print(feature_list_new)\n",
    "print(linear_regressor.coef_)"
   ]
  },
  {
   "cell_type": "code",
   "execution_count": 81,
   "metadata": {},
   "outputs": [
    {
     "data": {
      "text/plain": [
       "0.6959630063626636"
      ]
     },
     "execution_count": 81,
     "metadata": {},
     "output_type": "execute_result"
    }
   ],
   "source": [
    "linear_regressor.score(train_features, train_labels, sample_weight=None)"
   ]
  },
  {
   "cell_type": "markdown",
   "metadata": {},
   "source": [
    "# Performance Plots"
   ]
  },
  {
   "cell_type": "code",
   "execution_count": 82,
   "metadata": {},
   "outputs": [],
   "source": [
    "# Set scenarios folder\n",
    "folder = Path('../../data/networks/micropolis/scenarios')\n",
    "scenarios = [f for f in sorted(os.listdir(folder))]\n",
    "scenarios = [scenario for scenario in scenarios if scenario.startswith('flood')]\n",
    "\n",
    "#list of recovery strategies to be considered\n",
    "strategies = ['capacity', 'zone', 'centrality']\n",
    "\n",
    "\n",
    "junc_list = micropolis_network.wn.junction_name_list\n",
    "base_water_demands = micropolis_network.base_water_node_supply\n",
    "base_power_demands = micropolis_network.base_power_supply"
   ]
  },
  {
   "cell_type": "code",
   "execution_count": 83,
   "metadata": {},
   "outputs": [],
   "source": [
    "columns = ['scenario', 'strategy', 'time', 'perf' , 'compon_count']\n",
    "\n",
    "water_df = pd.DataFrame(columns = columns)\n",
    "power_df = pd.DataFrame(columns = columns)"
   ]
  },
  {
   "cell_type": "code",
   "execution_count": 84,
   "metadata": {},
   "outputs": [],
   "source": [
    "\n",
    "for index, scenario in enumerate(scenarios):\n",
    "    print(index,\"/\",len(scenarios), \". \", scenario)\n",
    "    \n",
    "    # Load scenario\n",
    "    disruption_file = pd.read_csv(f\"{folder}/{scenario}/disruption_file.csv\")\n",
    "    water_compon_count = len([compon for compon in disruption_file.components if compon.startswith(\"W_\")] )   \n",
    "    power_compon_count = len([compon for compon in disruption_file.components if compon.startswith(\"P_\")] )       \n",
    "    \n",
    "    for strategy in strategies:  \n",
    "        water_demands_file = f\"{folder}/{scenario}/{strategy}/water_junc_demand.csv\"\n",
    "        power_demands_file = f\"{folder}/{scenario}/{strategy}/power_load_demand.csv\"\n",
    "        \n",
    "        if os.path.isfile(water_demands_file):\n",
    "            water_demands = pd.read_csv(water_demands_file, sep = \"\\t\")\n",
    "            water_time_list = water_demands.time/60\n",
    "            water_time_list = water_time_list.tolist()\n",
    "            rel_time_list = water_demands['time'] % (24*3600)\n",
    "            index_list = [int(x/60) for x in rel_time_list]\n",
    "            water_demands = water_demands[junc_list]\n",
    "            \n",
    "            power_demands = pd.read_csv(power_demands_file, sep = \"\\t\")\n",
    "            power_time_list = power_demands.time/60\n",
    "            power_time_list= power_time_list.tolist()\n",
    "            \n",
    "            base_water_demands_new = base_water_demands.iloc[index_list].reset_index(drop=True)\n",
    "            base_water_demands_new = base_water_demands_new[junc_list]\n",
    "            \n",
    "            water_demands_ratio = water_demands/ base_water_demands_new\n",
    "            water_demands_ratio = water_demands_ratio.clip(upper=1)\n",
    "                \n",
    "            water_pcs_list = pd.concat([water_demands, base_water_demands_new]).min(level=0).sum(axis=1, skipna = True)/base_water_demands_new.sum(axis=1, skipna = True)\n",
    "            water_pcs_list = water_pcs_list.tolist()\n",
    "\n",
    "            base_load_demands = pd.DataFrame(base_power_demands.load.p_mw.tolist() + base_power_demands.motor.pn_mech_mw.tolist()).transpose()\n",
    "            base_load_demands.columns = base_power_demands.load.name.tolist() + base_power_demands.motor.name.tolist()\n",
    "            base_load_demands = pd.concat([base_load_demands]*(power_demands.shape[0])).reset_index(drop=True)\n",
    "\n",
    "            power_demand_ratio = power_demands.iloc[:,1:] / base_load_demands\n",
    "            power_demand_ratio = power_demand_ratio.clip(upper=1)\n",
    "\n",
    "            #power_ecs_list = power_demand_ratio.mean(axis = 1, skipna = True).tolist()\n",
    "            power_pcs_list = pd.concat([power_demands.iloc[:,1:], base_load_demands]).min(level=0).sum(axis=1, skipna = True)/base_load_demands.sum(axis=1, skipna = True)\n",
    "            power_pcs_list = power_pcs_list.tolist()\n",
    "            \n",
    "            \n",
    "            power_df_new = pd.DataFrame(data = {'scenario': [scenario]*len(power_time_list),\n",
    "                                                'strategy': [strategy]*len(power_time_list),\n",
    "                                                'time': power_time_list, \n",
    "                                                'perf': power_pcs_list,\n",
    "                                                'compon_count': [power_compon_count]*len(power_time_list)})\n",
    "            \n",
    "            water_df_new = pd.DataFrame(data = {'scenario': [scenario]*len(water_time_list),\n",
    "                                                'strategy': [strategy]*len(water_time_list),\n",
    "                                                'time': water_time_list, \n",
    "                                                'perf': water_pcs_list,\n",
    "                                                'compon_count': [water_compon_count]*len(water_time_list)})\n",
    "            \n",
    "            water_df = water_df.append(water_df_new, ignore_index=True)\n",
    "            #water_df.time = water_df.time/60\n",
    "            power_df = power_df.append(power_df_new, ignore_index=True)\n",
    "            #power_df.time = power_df.time/60\n",
    "            \n",
    "        else:\n",
    "            pass\n",
    "    clear_output(wait=True)"
   ]
  },
  {
   "cell_type": "code",
   "execution_count": 85,
   "metadata": {},
   "outputs": [
    {
     "data": {
      "text/html": [
       "<div>\n",
       "<style scoped>\n",
       "    .dataframe tbody tr th:only-of-type {\n",
       "        vertical-align: middle;\n",
       "    }\n",
       "\n",
       "    .dataframe tbody tr th {\n",
       "        vertical-align: top;\n",
       "    }\n",
       "\n",
       "    .dataframe thead th {\n",
       "        text-align: right;\n",
       "    }\n",
       "</style>\n",
       "<table border=\"1\" class=\"dataframe\">\n",
       "  <thead>\n",
       "    <tr style=\"text-align: right;\">\n",
       "      <th></th>\n",
       "      <th>scenario</th>\n",
       "      <th>strategy</th>\n",
       "      <th>time</th>\n",
       "      <th>perf</th>\n",
       "      <th>compon_count</th>\n",
       "    </tr>\n",
       "  </thead>\n",
       "  <tbody>\n",
       "  </tbody>\n",
       "</table>\n",
       "</div>"
      ],
      "text/plain": [
       "Empty DataFrame\n",
       "Columns: [scenario, strategy, time, perf, compon_count]\n",
       "Index: []"
      ]
     },
     "execution_count": 85,
     "metadata": {},
     "output_type": "execute_result"
    }
   ],
   "source": [
    "water_df"
   ]
  },
  {
   "cell_type": "code",
   "execution_count": 69,
   "metadata": {},
   "outputs": [],
   "source": [
    "water_df.to_csv(\"../../data/networks/micropolis/flood_water_perf_df.csv\", index = False)\n",
    "power_df.to_csv(\"../../data/networks/micropolis/flood_power_perf_df.csv\", index = False)"
   ]
  },
  {
   "cell_type": "code",
   "execution_count": 71,
   "metadata": {},
   "outputs": [],
   "source": [
    "import matplotlib.pyplot as plt\n",
    "import seaborn as sns\n",
    "\n",
    "fig = plt.figure(figsize = (10,7))\n",
    "ax = sns.relplot(\n",
    "    data=water_df,\n",
    "    x=\"time\", y=\"perf\",\n",
    "    size=1, col=\"strategy\",\n",
    "    kind=\"line\", palette='Greys',\n",
    "    height=5, aspect=.75, facet_kws=dict(sharex=False),\n",
    ")\n",
    "ax.set_xlabel(f\"Time in hours\")\n",
    "ax.set_ylabel(f\"Measure of Performance\")\n",
    "#ax.set_title(f\"Comparison of effectiveness of {infra} restoration strategies\")\n",
    "#ax.set_xlim((0, 5000))\n",
    "plt.show()"
   ]
  }
 ],
 "metadata": {
  "interpreter": {
   "hash": "d457c6433f18c3837b6e3285bba28c013c3b86deb599c3954950bcdf8f1c827b"
  },
  "kernelspec": {
   "display_name": "Python 3.8.3 64-bit ('redcar': conda)",
   "name": "python3"
  },
  "language_info": {
   "codemirror_mode": {
    "name": "ipython",
    "version": 3
   },
   "file_extension": ".py",
   "mimetype": "text/x-python",
   "name": "python",
   "nbconvert_exporter": "python",
   "pygments_lexer": "ipython3",
   "version": "3.8.3"
  },
  "orig_nbformat": 4
 },
 "nbformat": 4,
 "nbformat_minor": 2
}
